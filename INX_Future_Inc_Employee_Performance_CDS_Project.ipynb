{
 "cells": [
  {
   "cell_type": "code",
   "execution_count": 1,
   "id": "0e52e45c",
   "metadata": {},
   "outputs": [],
   "source": [
    "import pandas as pd\n",
    "import numpy as np\n",
    "import matplotlib.pyplot as plt\n",
    "%matplotlib inline\n",
    "import seaborn as sns\n",
    "import re\n",
    "import plotly.express as  px\n",
    "import plotly.io as pio"
   ]
  },
  {
   "cell_type": "code",
   "execution_count": 2,
   "id": "b145696d",
   "metadata": {},
   "outputs": [],
   "source": [
    "data = pd.read_excel(r'C:\\Users\\steph\\bepec\\Machine Learning\\Statistics with Real-Time Project Demonstration on EDA\\INX_Future_Inc_Employee_Performance_CDS_Project2_\\INX_Future_Inc_Employee_Performance_CDS_Project2_Data_V1.8.xls')"
   ]
  },
  {
   "cell_type": "code",
   "execution_count": 3,
   "id": "6eb53697",
   "metadata": {},
   "outputs": [
    {
     "data": {
      "text/html": [
       "<div>\n",
       "<style scoped>\n",
       "    .dataframe tbody tr th:only-of-type {\n",
       "        vertical-align: middle;\n",
       "    }\n",
       "\n",
       "    .dataframe tbody tr th {\n",
       "        vertical-align: top;\n",
       "    }\n",
       "\n",
       "    .dataframe thead th {\n",
       "        text-align: right;\n",
       "    }\n",
       "</style>\n",
       "<table border=\"1\" class=\"dataframe\">\n",
       "  <thead>\n",
       "    <tr style=\"text-align: right;\">\n",
       "      <th></th>\n",
       "      <th>EmpNumber</th>\n",
       "      <th>Age</th>\n",
       "      <th>Gender</th>\n",
       "      <th>EducationBackground</th>\n",
       "      <th>MaritalStatus</th>\n",
       "      <th>EmpDepartment</th>\n",
       "      <th>EmpJobRole</th>\n",
       "      <th>BusinessTravelFrequency</th>\n",
       "      <th>DistanceFromHome</th>\n",
       "      <th>EmpEducationLevel</th>\n",
       "      <th>...</th>\n",
       "      <th>EmpRelationshipSatisfaction</th>\n",
       "      <th>TotalWorkExperienceInYears</th>\n",
       "      <th>TrainingTimesLastYear</th>\n",
       "      <th>EmpWorkLifeBalance</th>\n",
       "      <th>ExperienceYearsAtThisCompany</th>\n",
       "      <th>ExperienceYearsInCurrentRole</th>\n",
       "      <th>YearsSinceLastPromotion</th>\n",
       "      <th>YearsWithCurrManager</th>\n",
       "      <th>Attrition</th>\n",
       "      <th>PerformanceRating</th>\n",
       "    </tr>\n",
       "  </thead>\n",
       "  <tbody>\n",
       "    <tr>\n",
       "      <th>0</th>\n",
       "      <td>E1001000</td>\n",
       "      <td>32</td>\n",
       "      <td>Male</td>\n",
       "      <td>Marketing</td>\n",
       "      <td>Single</td>\n",
       "      <td>Sales</td>\n",
       "      <td>Sales Executive</td>\n",
       "      <td>Travel_Rarely</td>\n",
       "      <td>10</td>\n",
       "      <td>3</td>\n",
       "      <td>...</td>\n",
       "      <td>4</td>\n",
       "      <td>10</td>\n",
       "      <td>2</td>\n",
       "      <td>2</td>\n",
       "      <td>10</td>\n",
       "      <td>7</td>\n",
       "      <td>0</td>\n",
       "      <td>8</td>\n",
       "      <td>No</td>\n",
       "      <td>3</td>\n",
       "    </tr>\n",
       "    <tr>\n",
       "      <th>1</th>\n",
       "      <td>E1001006</td>\n",
       "      <td>47</td>\n",
       "      <td>Male</td>\n",
       "      <td>Marketing</td>\n",
       "      <td>Single</td>\n",
       "      <td>Sales</td>\n",
       "      <td>Sales Executive</td>\n",
       "      <td>Travel_Rarely</td>\n",
       "      <td>14</td>\n",
       "      <td>4</td>\n",
       "      <td>...</td>\n",
       "      <td>4</td>\n",
       "      <td>20</td>\n",
       "      <td>2</td>\n",
       "      <td>3</td>\n",
       "      <td>7</td>\n",
       "      <td>7</td>\n",
       "      <td>1</td>\n",
       "      <td>7</td>\n",
       "      <td>No</td>\n",
       "      <td>3</td>\n",
       "    </tr>\n",
       "    <tr>\n",
       "      <th>2</th>\n",
       "      <td>E1001007</td>\n",
       "      <td>40</td>\n",
       "      <td>Male</td>\n",
       "      <td>Life Sciences</td>\n",
       "      <td>Married</td>\n",
       "      <td>Sales</td>\n",
       "      <td>Sales Executive</td>\n",
       "      <td>Travel_Frequently</td>\n",
       "      <td>5</td>\n",
       "      <td>4</td>\n",
       "      <td>...</td>\n",
       "      <td>3</td>\n",
       "      <td>20</td>\n",
       "      <td>2</td>\n",
       "      <td>3</td>\n",
       "      <td>18</td>\n",
       "      <td>13</td>\n",
       "      <td>1</td>\n",
       "      <td>12</td>\n",
       "      <td>No</td>\n",
       "      <td>4</td>\n",
       "    </tr>\n",
       "    <tr>\n",
       "      <th>3</th>\n",
       "      <td>E1001009</td>\n",
       "      <td>41</td>\n",
       "      <td>Male</td>\n",
       "      <td>Human Resources</td>\n",
       "      <td>Divorced</td>\n",
       "      <td>Human Resources</td>\n",
       "      <td>Manager</td>\n",
       "      <td>Travel_Rarely</td>\n",
       "      <td>10</td>\n",
       "      <td>4</td>\n",
       "      <td>...</td>\n",
       "      <td>2</td>\n",
       "      <td>23</td>\n",
       "      <td>2</td>\n",
       "      <td>2</td>\n",
       "      <td>21</td>\n",
       "      <td>6</td>\n",
       "      <td>12</td>\n",
       "      <td>6</td>\n",
       "      <td>No</td>\n",
       "      <td>3</td>\n",
       "    </tr>\n",
       "    <tr>\n",
       "      <th>4</th>\n",
       "      <td>E1001010</td>\n",
       "      <td>60</td>\n",
       "      <td>Male</td>\n",
       "      <td>Marketing</td>\n",
       "      <td>Single</td>\n",
       "      <td>Sales</td>\n",
       "      <td>Sales Executive</td>\n",
       "      <td>Travel_Rarely</td>\n",
       "      <td>16</td>\n",
       "      <td>4</td>\n",
       "      <td>...</td>\n",
       "      <td>4</td>\n",
       "      <td>10</td>\n",
       "      <td>1</td>\n",
       "      <td>3</td>\n",
       "      <td>2</td>\n",
       "      <td>2</td>\n",
       "      <td>2</td>\n",
       "      <td>2</td>\n",
       "      <td>No</td>\n",
       "      <td>3</td>\n",
       "    </tr>\n",
       "  </tbody>\n",
       "</table>\n",
       "<p>5 rows × 28 columns</p>\n",
       "</div>"
      ],
      "text/plain": [
       "  EmpNumber  Age Gender EducationBackground MaritalStatus    EmpDepartment  \\\n",
       "0  E1001000   32   Male           Marketing        Single            Sales   \n",
       "1  E1001006   47   Male           Marketing        Single            Sales   \n",
       "2  E1001007   40   Male       Life Sciences       Married            Sales   \n",
       "3  E1001009   41   Male     Human Resources      Divorced  Human Resources   \n",
       "4  E1001010   60   Male           Marketing        Single            Sales   \n",
       "\n",
       "        EmpJobRole BusinessTravelFrequency  DistanceFromHome  \\\n",
       "0  Sales Executive           Travel_Rarely                10   \n",
       "1  Sales Executive           Travel_Rarely                14   \n",
       "2  Sales Executive       Travel_Frequently                 5   \n",
       "3          Manager           Travel_Rarely                10   \n",
       "4  Sales Executive           Travel_Rarely                16   \n",
       "\n",
       "   EmpEducationLevel  ...  EmpRelationshipSatisfaction  \\\n",
       "0                  3  ...                            4   \n",
       "1                  4  ...                            4   \n",
       "2                  4  ...                            3   \n",
       "3                  4  ...                            2   \n",
       "4                  4  ...                            4   \n",
       "\n",
       "   TotalWorkExperienceInYears  TrainingTimesLastYear  EmpWorkLifeBalance  \\\n",
       "0                          10                      2                   2   \n",
       "1                          20                      2                   3   \n",
       "2                          20                      2                   3   \n",
       "3                          23                      2                   2   \n",
       "4                          10                      1                   3   \n",
       "\n",
       "   ExperienceYearsAtThisCompany  ExperienceYearsInCurrentRole  \\\n",
       "0                            10                             7   \n",
       "1                             7                             7   \n",
       "2                            18                            13   \n",
       "3                            21                             6   \n",
       "4                             2                             2   \n",
       "\n",
       "  YearsSinceLastPromotion  YearsWithCurrManager  Attrition  PerformanceRating  \n",
       "0                       0                     8         No                  3  \n",
       "1                       1                     7         No                  3  \n",
       "2                       1                    12         No                  4  \n",
       "3                      12                     6         No                  3  \n",
       "4                       2                     2         No                  3  \n",
       "\n",
       "[5 rows x 28 columns]"
      ]
     },
     "execution_count": 3,
     "metadata": {},
     "output_type": "execute_result"
    }
   ],
   "source": [
    "data.head()"
   ]
  },
  {
   "cell_type": "code",
   "execution_count": 4,
   "id": "f11d93b7",
   "metadata": {},
   "outputs": [
    {
     "name": "stdout",
     "output_type": "stream",
     "text": [
      "<class 'pandas.core.frame.DataFrame'>\n",
      "RangeIndex: 1200 entries, 0 to 1199\n",
      "Data columns (total 28 columns):\n",
      " #   Column                        Non-Null Count  Dtype \n",
      "---  ------                        --------------  ----- \n",
      " 0   EmpNumber                     1200 non-null   object\n",
      " 1   Age                           1200 non-null   int64 \n",
      " 2   Gender                        1200 non-null   object\n",
      " 3   EducationBackground           1200 non-null   object\n",
      " 4   MaritalStatus                 1200 non-null   object\n",
      " 5   EmpDepartment                 1200 non-null   object\n",
      " 6   EmpJobRole                    1200 non-null   object\n",
      " 7   BusinessTravelFrequency       1200 non-null   object\n",
      " 8   DistanceFromHome              1200 non-null   int64 \n",
      " 9   EmpEducationLevel             1200 non-null   int64 \n",
      " 10  EmpEnvironmentSatisfaction    1200 non-null   int64 \n",
      " 11  EmpHourlyRate                 1200 non-null   int64 \n",
      " 12  EmpJobInvolvement             1200 non-null   int64 \n",
      " 13  EmpJobLevel                   1200 non-null   int64 \n",
      " 14  EmpJobSatisfaction            1200 non-null   int64 \n",
      " 15  NumCompaniesWorked            1200 non-null   int64 \n",
      " 16  OverTime                      1200 non-null   object\n",
      " 17  EmpLastSalaryHikePercent      1200 non-null   int64 \n",
      " 18  EmpRelationshipSatisfaction   1200 non-null   int64 \n",
      " 19  TotalWorkExperienceInYears    1200 non-null   int64 \n",
      " 20  TrainingTimesLastYear         1200 non-null   int64 \n",
      " 21  EmpWorkLifeBalance            1200 non-null   int64 \n",
      " 22  ExperienceYearsAtThisCompany  1200 non-null   int64 \n",
      " 23  ExperienceYearsInCurrentRole  1200 non-null   int64 \n",
      " 24  YearsSinceLastPromotion       1200 non-null   int64 \n",
      " 25  YearsWithCurrManager          1200 non-null   int64 \n",
      " 26  Attrition                     1200 non-null   object\n",
      " 27  PerformanceRating             1200 non-null   int64 \n",
      "dtypes: int64(19), object(9)\n",
      "memory usage: 262.6+ KB\n"
     ]
    }
   ],
   "source": [
    "data.info()"
   ]
  },
  {
   "cell_type": "code",
   "execution_count": 5,
   "id": "857bb149",
   "metadata": {
    "scrolled": true
   },
   "outputs": [
    {
     "data": {
      "text/plain": [
       "EmpNumber                       0\n",
       "Age                             0\n",
       "Gender                          0\n",
       "EducationBackground             0\n",
       "MaritalStatus                   0\n",
       "EmpDepartment                   0\n",
       "EmpJobRole                      0\n",
       "BusinessTravelFrequency         0\n",
       "DistanceFromHome                0\n",
       "EmpEducationLevel               0\n",
       "EmpEnvironmentSatisfaction      0\n",
       "EmpHourlyRate                   0\n",
       "EmpJobInvolvement               0\n",
       "EmpJobLevel                     0\n",
       "EmpJobSatisfaction              0\n",
       "NumCompaniesWorked              0\n",
       "OverTime                        0\n",
       "EmpLastSalaryHikePercent        0\n",
       "EmpRelationshipSatisfaction     0\n",
       "TotalWorkExperienceInYears      0\n",
       "TrainingTimesLastYear           0\n",
       "EmpWorkLifeBalance              0\n",
       "ExperienceYearsAtThisCompany    0\n",
       "ExperienceYearsInCurrentRole    0\n",
       "YearsSinceLastPromotion         0\n",
       "YearsWithCurrManager            0\n",
       "Attrition                       0\n",
       "PerformanceRating               0\n",
       "dtype: int64"
      ]
     },
     "execution_count": 5,
     "metadata": {},
     "output_type": "execute_result"
    }
   ],
   "source": [
    "data.isnull().sum()"
   ]
  },
  {
   "cell_type": "code",
   "execution_count": 6,
   "id": "a863e25e",
   "metadata": {},
   "outputs": [
    {
     "data": {
      "text/plain": [
       "array([32, 47, 40, 41, 60, 27, 50, 28, 36, 38, 44, 30, 29, 42, 34, 39, 56,\n",
       "       53, 35, 52, 33, 25, 45, 23, 26, 54, 37, 24, 49, 55, 43, 51, 22, 31,\n",
       "       58, 20, 21, 48, 19, 18, 59, 46, 57], dtype=int64)"
      ]
     },
     "execution_count": 6,
     "metadata": {},
     "output_type": "execute_result"
    }
   ],
   "source": [
    "data[\"Age\"].unique()"
   ]
  },
  {
   "cell_type": "code",
   "execution_count": 7,
   "id": "392ab8d6",
   "metadata": {},
   "outputs": [
    {
     "data": {
      "text/plain": [
       "array(['Male', 'Female'], dtype=object)"
      ]
     },
     "execution_count": 7,
     "metadata": {},
     "output_type": "execute_result"
    }
   ],
   "source": [
    "data['Gender'].unique()                    "
   ]
  },
  {
   "cell_type": "code",
   "execution_count": 8,
   "id": "a55d3289",
   "metadata": {},
   "outputs": [
    {
     "data": {
      "text/plain": [
       "Male      725\n",
       "Female    475\n",
       "Name: Gender, dtype: int64"
      ]
     },
     "execution_count": 8,
     "metadata": {},
     "output_type": "execute_result"
    }
   ],
   "source": [
    "data['Gender'].value_counts()                    "
   ]
  },
  {
   "cell_type": "code",
   "execution_count": 9,
   "id": "a63cd076",
   "metadata": {},
   "outputs": [
    {
     "data": {
      "text/plain": [
       "array(['Marketing', 'Life Sciences', 'Human Resources', 'Medical',\n",
       "       'Other', 'Technical Degree'], dtype=object)"
      ]
     },
     "execution_count": 9,
     "metadata": {},
     "output_type": "execute_result"
    }
   ],
   "source": [
    "data['EducationBackground'].unique()"
   ]
  },
  {
   "cell_type": "code",
   "execution_count": 10,
   "id": "edf07c5d",
   "metadata": {},
   "outputs": [
    {
     "data": {
      "text/plain": [
       "array(['Single', 'Married', 'Divorced'], dtype=object)"
      ]
     },
     "execution_count": 10,
     "metadata": {},
     "output_type": "execute_result"
    }
   ],
   "source": [
    "data['MaritalStatus'].unique()"
   ]
  },
  {
   "cell_type": "code",
   "execution_count": 11,
   "id": "84485143",
   "metadata": {},
   "outputs": [
    {
     "data": {
      "text/plain": [
       "array(['Sales', 'Human Resources', 'Development', 'Data Science',\n",
       "       'Research & Development', 'Finance'], dtype=object)"
      ]
     },
     "execution_count": 11,
     "metadata": {},
     "output_type": "execute_result"
    }
   ],
   "source": [
    "data['EmpDepartment'].unique()"
   ]
  },
  {
   "cell_type": "code",
   "execution_count": 12,
   "id": "4a3b6b3a",
   "metadata": {},
   "outputs": [
    {
     "data": {
      "text/plain": [
       "array(['Sales Executive', 'Manager', 'Developer', 'Sales Representative',\n",
       "       'Human Resources', 'Senior Developer', 'Data Scientist',\n",
       "       'Senior Manager R&D', 'Laboratory Technician',\n",
       "       'Manufacturing Director', 'Research Scientist',\n",
       "       'Healthcare Representative', 'Research Director', 'Manager R&D',\n",
       "       'Finance Manager', 'Technical Architect', 'Business Analyst',\n",
       "       'Technical Lead', 'Delivery Manager'], dtype=object)"
      ]
     },
     "execution_count": 12,
     "metadata": {},
     "output_type": "execute_result"
    }
   ],
   "source": [
    "data['EmpJobRole'].unique()"
   ]
  },
  {
   "cell_type": "code",
   "execution_count": 13,
   "id": "a3910081",
   "metadata": {},
   "outputs": [
    {
     "data": {
      "text/plain": [
       "array(['Travel_Rarely', 'Travel_Frequently', 'Non-Travel'], dtype=object)"
      ]
     },
     "execution_count": 13,
     "metadata": {},
     "output_type": "execute_result"
    }
   ],
   "source": [
    "data['BusinessTravelFrequency'].unique()"
   ]
  },
  {
   "cell_type": "code",
   "execution_count": 14,
   "id": "6c40210b",
   "metadata": {},
   "outputs": [
    {
     "data": {
      "text/plain": [
       "array([10, 14,  5, 16,  8,  1, 24,  3, 27, 19,  9,  2,  7,  6, 26, 11, 23,\n",
       "       13, 29, 12,  4, 25, 21, 18, 20, 17, 22, 28, 15], dtype=int64)"
      ]
     },
     "execution_count": 14,
     "metadata": {},
     "output_type": "execute_result"
    }
   ],
   "source": [
    "data['DistanceFromHome'].unique()"
   ]
  },
  {
   "cell_type": "code",
   "execution_count": 15,
   "id": "0941fd6f",
   "metadata": {},
   "outputs": [
    {
     "data": {
      "text/plain": [
       "array([3, 4, 2, 5, 1], dtype=int64)"
      ]
     },
     "execution_count": 15,
     "metadata": {},
     "output_type": "execute_result"
    }
   ],
   "source": [
    "data['EmpEducationLevel'].unique()"
   ]
  },
  {
   "cell_type": "code",
   "execution_count": 16,
   "id": "0f4b5fd3",
   "metadata": {},
   "outputs": [
    {
     "data": {
      "text/plain": [
       "array([4, 2, 1, 3], dtype=int64)"
      ]
     },
     "execution_count": 16,
     "metadata": {},
     "output_type": "execute_result"
    }
   ],
   "source": [
    "data['EmpEnvironmentSatisfaction'].unique()"
   ]
  },
  {
   "cell_type": "code",
   "execution_count": 17,
   "id": "4d110657",
   "metadata": {},
   "outputs": [
    {
     "data": {
      "text/plain": [
       "array([ 55,  42,  48,  73,  84,  32,  54,  67,  63,  81,  49,  99,  57,\n",
       "        96,  44,  86,  83,  61,  80,  31,  46,  79,  77,  60,  76,  41,\n",
       "        71,  66,  38,  72,  95,  82,  75,  93,  64,  36,  69,  33,  35,\n",
       "        40,  43,  51,  52,  98,  45,  37,  94,  59,  88,  50,  65,  53,\n",
       "        56,  78,  74,  91,  62,  87,  68,  34,  70, 100,  92,  39,  97,\n",
       "        47,  90,  85,  30,  58,  89], dtype=int64)"
      ]
     },
     "execution_count": 17,
     "metadata": {},
     "output_type": "execute_result"
    }
   ],
   "source": [
    "data['EmpHourlyRate'].unique()"
   ]
  },
  {
   "cell_type": "code",
   "execution_count": 18,
   "id": "caad20f7",
   "metadata": {},
   "outputs": [
    {
     "data": {
      "text/plain": [
       "array([3, 2, 1, 4], dtype=int64)"
      ]
     },
     "execution_count": 18,
     "metadata": {},
     "output_type": "execute_result"
    }
   ],
   "source": [
    "data['EmpJobInvolvement'].unique()"
   ]
  },
  {
   "cell_type": "code",
   "execution_count": 19,
   "id": "e22225a4",
   "metadata": {},
   "outputs": [
    {
     "data": {
      "text/plain": [
       "array([2, 3, 5, 1, 4], dtype=int64)"
      ]
     },
     "execution_count": 19,
     "metadata": {},
     "output_type": "execute_result"
    }
   ],
   "source": [
    "data['EmpJobLevel'].unique()"
   ]
  },
  {
   "cell_type": "code",
   "execution_count": 20,
   "id": "faf46459",
   "metadata": {},
   "outputs": [
    {
     "data": {
      "text/plain": [
       "array([4, 1, 2, 3], dtype=int64)"
      ]
     },
     "execution_count": 20,
     "metadata": {},
     "output_type": "execute_result"
    }
   ],
   "source": [
    "data['EmpJobSatisfaction'].unique()"
   ]
  },
  {
   "cell_type": "code",
   "execution_count": 21,
   "id": "135eefa8",
   "metadata": {},
   "outputs": [
    {
     "data": {
      "text/plain": [
       "array([1, 2, 5, 3, 8, 7, 9, 4, 6, 0], dtype=int64)"
      ]
     },
     "execution_count": 21,
     "metadata": {},
     "output_type": "execute_result"
    }
   ],
   "source": [
    "data['NumCompaniesWorked'].unique()"
   ]
  },
  {
   "cell_type": "code",
   "execution_count": 22,
   "id": "3c0737e9",
   "metadata": {},
   "outputs": [
    {
     "data": {
      "text/plain": [
       "array(['No', 'Yes'], dtype=object)"
      ]
     },
     "execution_count": 22,
     "metadata": {},
     "output_type": "execute_result"
    }
   ],
   "source": [
    "data['OverTime'].unique()"
   ]
  },
  {
   "cell_type": "code",
   "execution_count": 23,
   "id": "af9aaccf",
   "metadata": {},
   "outputs": [
    {
     "data": {
      "text/plain": [
       "array([12, 21, 15, 14, 13, 23, 11, 20, 19, 17, 18, 22, 16, 24, 25],\n",
       "      dtype=int64)"
      ]
     },
     "execution_count": 23,
     "metadata": {},
     "output_type": "execute_result"
    }
   ],
   "source": [
    "data['EmpLastSalaryHikePercent'].unique()"
   ]
  },
  {
   "cell_type": "code",
   "execution_count": 24,
   "id": "c8cf6032",
   "metadata": {},
   "outputs": [
    {
     "data": {
      "text/plain": [
       "array([4, 3, 2, 1], dtype=int64)"
      ]
     },
     "execution_count": 24,
     "metadata": {},
     "output_type": "execute_result"
    }
   ],
   "source": [
    "data['EmpRelationshipSatisfaction'].unique()"
   ]
  },
  {
   "cell_type": "code",
   "execution_count": 25,
   "id": "d52b5151",
   "metadata": {},
   "outputs": [
    {
     "data": {
      "text/plain": [
       "array([10, 20, 23,  9,  4, 28,  1,  7, 12, 30,  5,  2, 19, 16, 34,  6,  8,\n",
       "       11, 17,  3, 14, 26, 13, 22,  0, 29, 18, 35, 33, 31, 24, 15, 32, 21,\n",
       "       27, 25, 36, 37, 38, 40], dtype=int64)"
      ]
     },
     "execution_count": 25,
     "metadata": {},
     "output_type": "execute_result"
    }
   ],
   "source": [
    "data['TotalWorkExperienceInYears'].unique()"
   ]
  },
  {
   "cell_type": "code",
   "execution_count": 26,
   "id": "0c4d7528",
   "metadata": {},
   "outputs": [
    {
     "data": {
      "text/plain": [
       "array([2, 1, 4, 5, 6, 3, 0], dtype=int64)"
      ]
     },
     "execution_count": 26,
     "metadata": {},
     "output_type": "execute_result"
    }
   ],
   "source": [
    "data['TrainingTimesLastYear'].unique()"
   ]
  },
  {
   "cell_type": "code",
   "execution_count": 27,
   "id": "d1d65fdd",
   "metadata": {},
   "outputs": [
    {
     "data": {
      "text/plain": [
       "array([2, 3, 4, 1], dtype=int64)"
      ]
     },
     "execution_count": 27,
     "metadata": {},
     "output_type": "execute_result"
    }
   ],
   "source": [
    "data['EmpWorkLifeBalance'].unique()"
   ]
  },
  {
   "cell_type": "code",
   "execution_count": 28,
   "id": "d69f74be",
   "metadata": {},
   "outputs": [
    {
     "data": {
      "text/plain": [
       "array([10,  7, 18, 21,  2,  9,  8,  1,  5, 22,  4,  0, 34,  6, 15,  3, 13,\n",
       "       26, 20, 12, 31, 16, 11, 14, 17, 19, 32, 24, 33, 29, 25, 36, 30, 23,\n",
       "       27, 37, 40], dtype=int64)"
      ]
     },
     "execution_count": 28,
     "metadata": {},
     "output_type": "execute_result"
    }
   ],
   "source": [
    "data['ExperienceYearsAtThisCompany'].unique()"
   ]
  },
  {
   "cell_type": "code",
   "execution_count": 29,
   "id": "88929cbe",
   "metadata": {},
   "outputs": [
    {
     "data": {
      "text/plain": [
       "array([ 7, 13,  6,  2,  0,  1,  3,  8,  9,  5,  4, 14, 12, 10, 16, 11, 15,\n",
       "       17, 18], dtype=int64)"
      ]
     },
     "execution_count": 29,
     "metadata": {},
     "output_type": "execute_result"
    }
   ],
   "source": [
    "data['ExperienceYearsInCurrentRole'].unique()"
   ]
  },
  {
   "cell_type": "code",
   "execution_count": 30,
   "id": "fda5b4f1",
   "metadata": {},
   "outputs": [
    {
     "data": {
      "text/plain": [
       "array([ 0,  1, 12,  2,  3, 11,  7,  4,  5, 14,  8, 15,  6, 10, 13,  9],\n",
       "      dtype=int64)"
      ]
     },
     "execution_count": 30,
     "metadata": {},
     "output_type": "execute_result"
    }
   ],
   "source": [
    "data['YearsSinceLastPromotion'].unique()"
   ]
  },
  {
   "cell_type": "code",
   "execution_count": 31,
   "id": "81e5a6d0",
   "metadata": {},
   "outputs": [
    {
     "data": {
      "text/plain": [
       "array([ 8,  7, 12,  6,  2,  5,  0,  4, 13,  3,  1, 16,  9, 17, 11, 10, 14,\n",
       "       15], dtype=int64)"
      ]
     },
     "execution_count": 31,
     "metadata": {},
     "output_type": "execute_result"
    }
   ],
   "source": [
    "data['YearsWithCurrManager'].unique()"
   ]
  },
  {
   "cell_type": "code",
   "execution_count": 32,
   "id": "7d6f54e0",
   "metadata": {},
   "outputs": [
    {
     "data": {
      "text/plain": [
       "array(['No', 'Yes'], dtype=object)"
      ]
     },
     "execution_count": 32,
     "metadata": {},
     "output_type": "execute_result"
    }
   ],
   "source": [
    "data['Attrition'].unique()"
   ]
  },
  {
   "cell_type": "code",
   "execution_count": 33,
   "id": "4a9d68f5",
   "metadata": {},
   "outputs": [
    {
     "data": {
      "text/plain": [
       "array([3, 4, 2], dtype=int64)"
      ]
     },
     "execution_count": 33,
     "metadata": {},
     "output_type": "execute_result"
    }
   ],
   "source": [
    "data['PerformanceRating'].unique()"
   ]
  },
  {
   "cell_type": "code",
   "execution_count": 34,
   "id": "8669cea4",
   "metadata": {},
   "outputs": [
    {
     "data": {
      "text/plain": [
       "Sales                     373\n",
       "Development               361\n",
       "Research & Development    343\n",
       "Human Resources            54\n",
       "Finance                    49\n",
       "Data Science               20\n",
       "Name: EmpDepartment, dtype: int64"
      ]
     },
     "execution_count": 34,
     "metadata": {},
     "output_type": "execute_result"
    }
   ],
   "source": [
    "data['EmpDepartment'].value_counts()"
   ]
  },
  {
   "cell_type": "code",
   "execution_count": 35,
   "id": "729bcce0",
   "metadata": {},
   "outputs": [
    {
     "data": {
      "text/plain": [
       "Sales Executive              270\n",
       "Developer                    236\n",
       "Manager R&D                   94\n",
       "Research Scientist            77\n",
       "Sales Representative          69\n",
       "Laboratory Technician         64\n",
       "Senior Developer              52\n",
       "Manager                       51\n",
       "Finance Manager               49\n",
       "Human Resources               45\n",
       "Technical Lead                38\n",
       "Manufacturing Director        33\n",
       "Healthcare Representative     33\n",
       "Data Scientist                20\n",
       "Research Director             19\n",
       "Business Analyst              16\n",
       "Senior Manager R&D            15\n",
       "Delivery Manager              12\n",
       "Technical Architect            7\n",
       "Name: EmpJobRole, dtype: int64"
      ]
     },
     "execution_count": 35,
     "metadata": {},
     "output_type": "execute_result"
    }
   ],
   "source": [
    "data['EmpJobRole'].value_counts()"
   ]
  },
  {
   "cell_type": "code",
   "execution_count": 36,
   "id": "8f269834",
   "metadata": {},
   "outputs": [],
   "source": [
    "data = pd.DataFrame(data)"
   ]
  },
  {
   "cell_type": "code",
   "execution_count": 37,
   "id": "ae277bfb",
   "metadata": {},
   "outputs": [],
   "source": [
    "data = data.drop(['MaritalStatus'], axis=1)"
   ]
  },
  {
   "cell_type": "code",
   "execution_count": 132,
   "id": "46309f62",
   "metadata": {},
   "outputs": [
    {
     "data": {
      "text/html": [
       "<div>\n",
       "<style scoped>\n",
       "    .dataframe tbody tr th:only-of-type {\n",
       "        vertical-align: middle;\n",
       "    }\n",
       "\n",
       "    .dataframe tbody tr th {\n",
       "        vertical-align: top;\n",
       "    }\n",
       "\n",
       "    .dataframe thead th {\n",
       "        text-align: right;\n",
       "    }\n",
       "</style>\n",
       "<table border=\"1\" class=\"dataframe\">\n",
       "  <thead>\n",
       "    <tr style=\"text-align: right;\">\n",
       "      <th></th>\n",
       "      <th>EmpNumber</th>\n",
       "      <th>Age</th>\n",
       "      <th>Gender</th>\n",
       "      <th>EducationBackground</th>\n",
       "      <th>EmpDepartment</th>\n",
       "      <th>EmpJobRole</th>\n",
       "      <th>BusinessTravelFrequency</th>\n",
       "      <th>DistanceFromHome</th>\n",
       "      <th>EmpEducationLevel</th>\n",
       "      <th>EmpEnvironmentSatisfaction</th>\n",
       "      <th>...</th>\n",
       "      <th>EmpRelationshipSatisfaction</th>\n",
       "      <th>TotalWorkExperienceInYears</th>\n",
       "      <th>TrainingTimesLastYear</th>\n",
       "      <th>EmpWorkLifeBalance</th>\n",
       "      <th>ExperienceYearsAtThisCompany</th>\n",
       "      <th>ExperienceYearsInCurrentRole</th>\n",
       "      <th>YearsSinceLastPromotion</th>\n",
       "      <th>YearsWithCurrManager</th>\n",
       "      <th>Attrition</th>\n",
       "      <th>PerformanceRating</th>\n",
       "    </tr>\n",
       "  </thead>\n",
       "  <tbody>\n",
       "    <tr>\n",
       "      <th>0</th>\n",
       "      <td>E1001000</td>\n",
       "      <td>32</td>\n",
       "      <td>Male</td>\n",
       "      <td>Marketing</td>\n",
       "      <td>Sales</td>\n",
       "      <td>Sales Executive</td>\n",
       "      <td>Travel_Rarely</td>\n",
       "      <td>10</td>\n",
       "      <td>3</td>\n",
       "      <td>4</td>\n",
       "      <td>...</td>\n",
       "      <td>4</td>\n",
       "      <td>10</td>\n",
       "      <td>2</td>\n",
       "      <td>2</td>\n",
       "      <td>10</td>\n",
       "      <td>7</td>\n",
       "      <td>0</td>\n",
       "      <td>8</td>\n",
       "      <td>No</td>\n",
       "      <td>3</td>\n",
       "    </tr>\n",
       "    <tr>\n",
       "      <th>1</th>\n",
       "      <td>E1001006</td>\n",
       "      <td>47</td>\n",
       "      <td>Male</td>\n",
       "      <td>Marketing</td>\n",
       "      <td>Sales</td>\n",
       "      <td>Sales Executive</td>\n",
       "      <td>Travel_Rarely</td>\n",
       "      <td>14</td>\n",
       "      <td>4</td>\n",
       "      <td>4</td>\n",
       "      <td>...</td>\n",
       "      <td>4</td>\n",
       "      <td>20</td>\n",
       "      <td>2</td>\n",
       "      <td>3</td>\n",
       "      <td>7</td>\n",
       "      <td>7</td>\n",
       "      <td>1</td>\n",
       "      <td>7</td>\n",
       "      <td>No</td>\n",
       "      <td>3</td>\n",
       "    </tr>\n",
       "    <tr>\n",
       "      <th>2</th>\n",
       "      <td>E1001007</td>\n",
       "      <td>40</td>\n",
       "      <td>Male</td>\n",
       "      <td>Life Sciences</td>\n",
       "      <td>Sales</td>\n",
       "      <td>Sales Executive</td>\n",
       "      <td>Travel_Frequently</td>\n",
       "      <td>5</td>\n",
       "      <td>4</td>\n",
       "      <td>4</td>\n",
       "      <td>...</td>\n",
       "      <td>3</td>\n",
       "      <td>20</td>\n",
       "      <td>2</td>\n",
       "      <td>3</td>\n",
       "      <td>18</td>\n",
       "      <td>13</td>\n",
       "      <td>1</td>\n",
       "      <td>12</td>\n",
       "      <td>No</td>\n",
       "      <td>4</td>\n",
       "    </tr>\n",
       "    <tr>\n",
       "      <th>3</th>\n",
       "      <td>E1001009</td>\n",
       "      <td>41</td>\n",
       "      <td>Male</td>\n",
       "      <td>Human Resources</td>\n",
       "      <td>Human Resources</td>\n",
       "      <td>Manager</td>\n",
       "      <td>Travel_Rarely</td>\n",
       "      <td>10</td>\n",
       "      <td>4</td>\n",
       "      <td>2</td>\n",
       "      <td>...</td>\n",
       "      <td>2</td>\n",
       "      <td>23</td>\n",
       "      <td>2</td>\n",
       "      <td>2</td>\n",
       "      <td>21</td>\n",
       "      <td>6</td>\n",
       "      <td>12</td>\n",
       "      <td>6</td>\n",
       "      <td>No</td>\n",
       "      <td>3</td>\n",
       "    </tr>\n",
       "    <tr>\n",
       "      <th>4</th>\n",
       "      <td>E1001010</td>\n",
       "      <td>60</td>\n",
       "      <td>Male</td>\n",
       "      <td>Marketing</td>\n",
       "      <td>Sales</td>\n",
       "      <td>Sales Executive</td>\n",
       "      <td>Travel_Rarely</td>\n",
       "      <td>16</td>\n",
       "      <td>4</td>\n",
       "      <td>1</td>\n",
       "      <td>...</td>\n",
       "      <td>4</td>\n",
       "      <td>10</td>\n",
       "      <td>1</td>\n",
       "      <td>3</td>\n",
       "      <td>2</td>\n",
       "      <td>2</td>\n",
       "      <td>2</td>\n",
       "      <td>2</td>\n",
       "      <td>No</td>\n",
       "      <td>3</td>\n",
       "    </tr>\n",
       "    <tr>\n",
       "      <th>...</th>\n",
       "      <td>...</td>\n",
       "      <td>...</td>\n",
       "      <td>...</td>\n",
       "      <td>...</td>\n",
       "      <td>...</td>\n",
       "      <td>...</td>\n",
       "      <td>...</td>\n",
       "      <td>...</td>\n",
       "      <td>...</td>\n",
       "      <td>...</td>\n",
       "      <td>...</td>\n",
       "      <td>...</td>\n",
       "      <td>...</td>\n",
       "      <td>...</td>\n",
       "      <td>...</td>\n",
       "      <td>...</td>\n",
       "      <td>...</td>\n",
       "      <td>...</td>\n",
       "      <td>...</td>\n",
       "      <td>...</td>\n",
       "      <td>...</td>\n",
       "    </tr>\n",
       "    <tr>\n",
       "      <th>1194</th>\n",
       "      <td>E100990</td>\n",
       "      <td>48</td>\n",
       "      <td>Male</td>\n",
       "      <td>Marketing</td>\n",
       "      <td>Sales</td>\n",
       "      <td>Sales Executive</td>\n",
       "      <td>Travel_Rarely</td>\n",
       "      <td>2</td>\n",
       "      <td>1</td>\n",
       "      <td>2</td>\n",
       "      <td>...</td>\n",
       "      <td>4</td>\n",
       "      <td>12</td>\n",
       "      <td>3</td>\n",
       "      <td>3</td>\n",
       "      <td>2</td>\n",
       "      <td>2</td>\n",
       "      <td>2</td>\n",
       "      <td>2</td>\n",
       "      <td>No</td>\n",
       "      <td>3</td>\n",
       "    </tr>\n",
       "    <tr>\n",
       "      <th>1195</th>\n",
       "      <td>E100992</td>\n",
       "      <td>27</td>\n",
       "      <td>Female</td>\n",
       "      <td>Medical</td>\n",
       "      <td>Sales</td>\n",
       "      <td>Sales Executive</td>\n",
       "      <td>Travel_Frequently</td>\n",
       "      <td>3</td>\n",
       "      <td>1</td>\n",
       "      <td>4</td>\n",
       "      <td>...</td>\n",
       "      <td>2</td>\n",
       "      <td>6</td>\n",
       "      <td>3</td>\n",
       "      <td>3</td>\n",
       "      <td>6</td>\n",
       "      <td>5</td>\n",
       "      <td>0</td>\n",
       "      <td>4</td>\n",
       "      <td>No</td>\n",
       "      <td>4</td>\n",
       "    </tr>\n",
       "    <tr>\n",
       "      <th>1196</th>\n",
       "      <td>E100993</td>\n",
       "      <td>37</td>\n",
       "      <td>Male</td>\n",
       "      <td>Life Sciences</td>\n",
       "      <td>Development</td>\n",
       "      <td>Senior Developer</td>\n",
       "      <td>Travel_Rarely</td>\n",
       "      <td>10</td>\n",
       "      <td>2</td>\n",
       "      <td>4</td>\n",
       "      <td>...</td>\n",
       "      <td>1</td>\n",
       "      <td>4</td>\n",
       "      <td>2</td>\n",
       "      <td>3</td>\n",
       "      <td>1</td>\n",
       "      <td>0</td>\n",
       "      <td>0</td>\n",
       "      <td>0</td>\n",
       "      <td>No</td>\n",
       "      <td>3</td>\n",
       "    </tr>\n",
       "    <tr>\n",
       "      <th>1197</th>\n",
       "      <td>E100994</td>\n",
       "      <td>50</td>\n",
       "      <td>Male</td>\n",
       "      <td>Medical</td>\n",
       "      <td>Development</td>\n",
       "      <td>Senior Developer</td>\n",
       "      <td>Travel_Rarely</td>\n",
       "      <td>28</td>\n",
       "      <td>1</td>\n",
       "      <td>4</td>\n",
       "      <td>...</td>\n",
       "      <td>3</td>\n",
       "      <td>20</td>\n",
       "      <td>3</td>\n",
       "      <td>3</td>\n",
       "      <td>20</td>\n",
       "      <td>8</td>\n",
       "      <td>3</td>\n",
       "      <td>8</td>\n",
       "      <td>No</td>\n",
       "      <td>3</td>\n",
       "    </tr>\n",
       "    <tr>\n",
       "      <th>1198</th>\n",
       "      <td>E100995</td>\n",
       "      <td>34</td>\n",
       "      <td>Female</td>\n",
       "      <td>Medical</td>\n",
       "      <td>Data Science</td>\n",
       "      <td>Data Scientist</td>\n",
       "      <td>Travel_Rarely</td>\n",
       "      <td>9</td>\n",
       "      <td>3</td>\n",
       "      <td>4</td>\n",
       "      <td>...</td>\n",
       "      <td>2</td>\n",
       "      <td>9</td>\n",
       "      <td>3</td>\n",
       "      <td>4</td>\n",
       "      <td>8</td>\n",
       "      <td>7</td>\n",
       "      <td>7</td>\n",
       "      <td>7</td>\n",
       "      <td>No</td>\n",
       "      <td>3</td>\n",
       "    </tr>\n",
       "  </tbody>\n",
       "</table>\n",
       "<p>1022 rows × 27 columns</p>\n",
       "</div>"
      ],
      "text/plain": [
       "     EmpNumber  Age  Gender EducationBackground    EmpDepartment  \\\n",
       "0     E1001000   32    Male           Marketing            Sales   \n",
       "1     E1001006   47    Male           Marketing            Sales   \n",
       "2     E1001007   40    Male       Life Sciences            Sales   \n",
       "3     E1001009   41    Male     Human Resources  Human Resources   \n",
       "4     E1001010   60    Male           Marketing            Sales   \n",
       "...        ...  ...     ...                 ...              ...   \n",
       "1194   E100990   48    Male           Marketing            Sales   \n",
       "1195   E100992   27  Female             Medical            Sales   \n",
       "1196   E100993   37    Male       Life Sciences      Development   \n",
       "1197   E100994   50    Male             Medical      Development   \n",
       "1198   E100995   34  Female             Medical     Data Science   \n",
       "\n",
       "            EmpJobRole BusinessTravelFrequency  DistanceFromHome  \\\n",
       "0      Sales Executive           Travel_Rarely                10   \n",
       "1      Sales Executive           Travel_Rarely                14   \n",
       "2      Sales Executive       Travel_Frequently                 5   \n",
       "3              Manager           Travel_Rarely                10   \n",
       "4      Sales Executive           Travel_Rarely                16   \n",
       "...                ...                     ...               ...   \n",
       "1194   Sales Executive           Travel_Rarely                 2   \n",
       "1195   Sales Executive       Travel_Frequently                 3   \n",
       "1196  Senior Developer           Travel_Rarely                10   \n",
       "1197  Senior Developer           Travel_Rarely                28   \n",
       "1198    Data Scientist           Travel_Rarely                 9   \n",
       "\n",
       "      EmpEducationLevel  EmpEnvironmentSatisfaction  ...  \\\n",
       "0                     3                           4  ...   \n",
       "1                     4                           4  ...   \n",
       "2                     4                           4  ...   \n",
       "3                     4                           2  ...   \n",
       "4                     4                           1  ...   \n",
       "...                 ...                         ...  ...   \n",
       "1194                  1                           2  ...   \n",
       "1195                  1                           4  ...   \n",
       "1196                  2                           4  ...   \n",
       "1197                  1                           4  ...   \n",
       "1198                  3                           4  ...   \n",
       "\n",
       "      EmpRelationshipSatisfaction  TotalWorkExperienceInYears  \\\n",
       "0                               4                          10   \n",
       "1                               4                          20   \n",
       "2                               3                          20   \n",
       "3                               2                          23   \n",
       "4                               4                          10   \n",
       "...                           ...                         ...   \n",
       "1194                            4                          12   \n",
       "1195                            2                           6   \n",
       "1196                            1                           4   \n",
       "1197                            3                          20   \n",
       "1198                            2                           9   \n",
       "\n",
       "      TrainingTimesLastYear  EmpWorkLifeBalance  ExperienceYearsAtThisCompany  \\\n",
       "0                         2                   2                            10   \n",
       "1                         2                   3                             7   \n",
       "2                         2                   3                            18   \n",
       "3                         2                   2                            21   \n",
       "4                         1                   3                             2   \n",
       "...                     ...                 ...                           ...   \n",
       "1194                      3                   3                             2   \n",
       "1195                      3                   3                             6   \n",
       "1196                      2                   3                             1   \n",
       "1197                      3                   3                            20   \n",
       "1198                      3                   4                             8   \n",
       "\n",
       "     ExperienceYearsInCurrentRole  YearsSinceLastPromotion  \\\n",
       "0                               7                        0   \n",
       "1                               7                        1   \n",
       "2                              13                        1   \n",
       "3                               6                       12   \n",
       "4                               2                        2   \n",
       "...                           ...                      ...   \n",
       "1194                            2                        2   \n",
       "1195                            5                        0   \n",
       "1196                            0                        0   \n",
       "1197                            8                        3   \n",
       "1198                            7                        7   \n",
       "\n",
       "      YearsWithCurrManager  Attrition  PerformanceRating  \n",
       "0                        8         No                  3  \n",
       "1                        7         No                  3  \n",
       "2                       12         No                  4  \n",
       "3                        6         No                  3  \n",
       "4                        2         No                  3  \n",
       "...                    ...        ...                ...  \n",
       "1194                     2         No                  3  \n",
       "1195                     4         No                  4  \n",
       "1196                     0         No                  3  \n",
       "1197                     8         No                  3  \n",
       "1198                     7         No                  3  \n",
       "\n",
       "[1022 rows x 27 columns]"
      ]
     },
     "execution_count": 132,
     "metadata": {},
     "output_type": "execute_result"
    }
   ],
   "source": [
    "data"
   ]
  },
  {
   "cell_type": "code",
   "execution_count": 133,
   "id": "e78fdf36",
   "metadata": {},
   "outputs": [
    {
     "data": {
      "text/plain": [
       "(1022, 27)"
      ]
     },
     "execution_count": 133,
     "metadata": {},
     "output_type": "execute_result"
    }
   ],
   "source": [
    "data.shape"
   ]
  },
  {
   "cell_type": "code",
   "execution_count": 134,
   "id": "decd381b",
   "metadata": {},
   "outputs": [],
   "source": [
    "data = data[data[\"Attrition\"].str.contains(\"Yes\") == False]"
   ]
  },
  {
   "cell_type": "code",
   "execution_count": 41,
   "id": "bbcfc77d",
   "metadata": {},
   "outputs": [
    {
     "data": {
      "text/html": [
       "<div>\n",
       "<style scoped>\n",
       "    .dataframe tbody tr th:only-of-type {\n",
       "        vertical-align: middle;\n",
       "    }\n",
       "\n",
       "    .dataframe tbody tr th {\n",
       "        vertical-align: top;\n",
       "    }\n",
       "\n",
       "    .dataframe thead th {\n",
       "        text-align: right;\n",
       "    }\n",
       "</style>\n",
       "<table border=\"1\" class=\"dataframe\">\n",
       "  <thead>\n",
       "    <tr style=\"text-align: right;\">\n",
       "      <th></th>\n",
       "      <th>EmpNumber</th>\n",
       "      <th>Age</th>\n",
       "      <th>Gender</th>\n",
       "      <th>EducationBackground</th>\n",
       "      <th>EmpDepartment</th>\n",
       "      <th>EmpJobRole</th>\n",
       "      <th>BusinessTravelFrequency</th>\n",
       "      <th>DistanceFromHome</th>\n",
       "      <th>EmpEducationLevel</th>\n",
       "      <th>EmpEnvironmentSatisfaction</th>\n",
       "      <th>...</th>\n",
       "      <th>EmpRelationshipSatisfaction</th>\n",
       "      <th>TotalWorkExperienceInYears</th>\n",
       "      <th>TrainingTimesLastYear</th>\n",
       "      <th>EmpWorkLifeBalance</th>\n",
       "      <th>ExperienceYearsAtThisCompany</th>\n",
       "      <th>ExperienceYearsInCurrentRole</th>\n",
       "      <th>YearsSinceLastPromotion</th>\n",
       "      <th>YearsWithCurrManager</th>\n",
       "      <th>Attrition</th>\n",
       "      <th>PerformanceRating</th>\n",
       "    </tr>\n",
       "  </thead>\n",
       "  <tbody>\n",
       "    <tr>\n",
       "      <th>0</th>\n",
       "      <td>E1001000</td>\n",
       "      <td>32</td>\n",
       "      <td>Male</td>\n",
       "      <td>Marketing</td>\n",
       "      <td>Sales</td>\n",
       "      <td>Sales Executive</td>\n",
       "      <td>Travel_Rarely</td>\n",
       "      <td>10</td>\n",
       "      <td>3</td>\n",
       "      <td>4</td>\n",
       "      <td>...</td>\n",
       "      <td>4</td>\n",
       "      <td>10</td>\n",
       "      <td>2</td>\n",
       "      <td>2</td>\n",
       "      <td>10</td>\n",
       "      <td>7</td>\n",
       "      <td>0</td>\n",
       "      <td>8</td>\n",
       "      <td>No</td>\n",
       "      <td>3</td>\n",
       "    </tr>\n",
       "    <tr>\n",
       "      <th>1</th>\n",
       "      <td>E1001006</td>\n",
       "      <td>47</td>\n",
       "      <td>Male</td>\n",
       "      <td>Marketing</td>\n",
       "      <td>Sales</td>\n",
       "      <td>Sales Executive</td>\n",
       "      <td>Travel_Rarely</td>\n",
       "      <td>14</td>\n",
       "      <td>4</td>\n",
       "      <td>4</td>\n",
       "      <td>...</td>\n",
       "      <td>4</td>\n",
       "      <td>20</td>\n",
       "      <td>2</td>\n",
       "      <td>3</td>\n",
       "      <td>7</td>\n",
       "      <td>7</td>\n",
       "      <td>1</td>\n",
       "      <td>7</td>\n",
       "      <td>No</td>\n",
       "      <td>3</td>\n",
       "    </tr>\n",
       "    <tr>\n",
       "      <th>2</th>\n",
       "      <td>E1001007</td>\n",
       "      <td>40</td>\n",
       "      <td>Male</td>\n",
       "      <td>Life Sciences</td>\n",
       "      <td>Sales</td>\n",
       "      <td>Sales Executive</td>\n",
       "      <td>Travel_Frequently</td>\n",
       "      <td>5</td>\n",
       "      <td>4</td>\n",
       "      <td>4</td>\n",
       "      <td>...</td>\n",
       "      <td>3</td>\n",
       "      <td>20</td>\n",
       "      <td>2</td>\n",
       "      <td>3</td>\n",
       "      <td>18</td>\n",
       "      <td>13</td>\n",
       "      <td>1</td>\n",
       "      <td>12</td>\n",
       "      <td>No</td>\n",
       "      <td>4</td>\n",
       "    </tr>\n",
       "    <tr>\n",
       "      <th>3</th>\n",
       "      <td>E1001009</td>\n",
       "      <td>41</td>\n",
       "      <td>Male</td>\n",
       "      <td>Human Resources</td>\n",
       "      <td>Human Resources</td>\n",
       "      <td>Manager</td>\n",
       "      <td>Travel_Rarely</td>\n",
       "      <td>10</td>\n",
       "      <td>4</td>\n",
       "      <td>2</td>\n",
       "      <td>...</td>\n",
       "      <td>2</td>\n",
       "      <td>23</td>\n",
       "      <td>2</td>\n",
       "      <td>2</td>\n",
       "      <td>21</td>\n",
       "      <td>6</td>\n",
       "      <td>12</td>\n",
       "      <td>6</td>\n",
       "      <td>No</td>\n",
       "      <td>3</td>\n",
       "    </tr>\n",
       "    <tr>\n",
       "      <th>4</th>\n",
       "      <td>E1001010</td>\n",
       "      <td>60</td>\n",
       "      <td>Male</td>\n",
       "      <td>Marketing</td>\n",
       "      <td>Sales</td>\n",
       "      <td>Sales Executive</td>\n",
       "      <td>Travel_Rarely</td>\n",
       "      <td>16</td>\n",
       "      <td>4</td>\n",
       "      <td>1</td>\n",
       "      <td>...</td>\n",
       "      <td>4</td>\n",
       "      <td>10</td>\n",
       "      <td>1</td>\n",
       "      <td>3</td>\n",
       "      <td>2</td>\n",
       "      <td>2</td>\n",
       "      <td>2</td>\n",
       "      <td>2</td>\n",
       "      <td>No</td>\n",
       "      <td>3</td>\n",
       "    </tr>\n",
       "    <tr>\n",
       "      <th>...</th>\n",
       "      <td>...</td>\n",
       "      <td>...</td>\n",
       "      <td>...</td>\n",
       "      <td>...</td>\n",
       "      <td>...</td>\n",
       "      <td>...</td>\n",
       "      <td>...</td>\n",
       "      <td>...</td>\n",
       "      <td>...</td>\n",
       "      <td>...</td>\n",
       "      <td>...</td>\n",
       "      <td>...</td>\n",
       "      <td>...</td>\n",
       "      <td>...</td>\n",
       "      <td>...</td>\n",
       "      <td>...</td>\n",
       "      <td>...</td>\n",
       "      <td>...</td>\n",
       "      <td>...</td>\n",
       "      <td>...</td>\n",
       "      <td>...</td>\n",
       "    </tr>\n",
       "    <tr>\n",
       "      <th>1194</th>\n",
       "      <td>E100990</td>\n",
       "      <td>48</td>\n",
       "      <td>Male</td>\n",
       "      <td>Marketing</td>\n",
       "      <td>Sales</td>\n",
       "      <td>Sales Executive</td>\n",
       "      <td>Travel_Rarely</td>\n",
       "      <td>2</td>\n",
       "      <td>1</td>\n",
       "      <td>2</td>\n",
       "      <td>...</td>\n",
       "      <td>4</td>\n",
       "      <td>12</td>\n",
       "      <td>3</td>\n",
       "      <td>3</td>\n",
       "      <td>2</td>\n",
       "      <td>2</td>\n",
       "      <td>2</td>\n",
       "      <td>2</td>\n",
       "      <td>No</td>\n",
       "      <td>3</td>\n",
       "    </tr>\n",
       "    <tr>\n",
       "      <th>1195</th>\n",
       "      <td>E100992</td>\n",
       "      <td>27</td>\n",
       "      <td>Female</td>\n",
       "      <td>Medical</td>\n",
       "      <td>Sales</td>\n",
       "      <td>Sales Executive</td>\n",
       "      <td>Travel_Frequently</td>\n",
       "      <td>3</td>\n",
       "      <td>1</td>\n",
       "      <td>4</td>\n",
       "      <td>...</td>\n",
       "      <td>2</td>\n",
       "      <td>6</td>\n",
       "      <td>3</td>\n",
       "      <td>3</td>\n",
       "      <td>6</td>\n",
       "      <td>5</td>\n",
       "      <td>0</td>\n",
       "      <td>4</td>\n",
       "      <td>No</td>\n",
       "      <td>4</td>\n",
       "    </tr>\n",
       "    <tr>\n",
       "      <th>1196</th>\n",
       "      <td>E100993</td>\n",
       "      <td>37</td>\n",
       "      <td>Male</td>\n",
       "      <td>Life Sciences</td>\n",
       "      <td>Development</td>\n",
       "      <td>Senior Developer</td>\n",
       "      <td>Travel_Rarely</td>\n",
       "      <td>10</td>\n",
       "      <td>2</td>\n",
       "      <td>4</td>\n",
       "      <td>...</td>\n",
       "      <td>1</td>\n",
       "      <td>4</td>\n",
       "      <td>2</td>\n",
       "      <td>3</td>\n",
       "      <td>1</td>\n",
       "      <td>0</td>\n",
       "      <td>0</td>\n",
       "      <td>0</td>\n",
       "      <td>No</td>\n",
       "      <td>3</td>\n",
       "    </tr>\n",
       "    <tr>\n",
       "      <th>1197</th>\n",
       "      <td>E100994</td>\n",
       "      <td>50</td>\n",
       "      <td>Male</td>\n",
       "      <td>Medical</td>\n",
       "      <td>Development</td>\n",
       "      <td>Senior Developer</td>\n",
       "      <td>Travel_Rarely</td>\n",
       "      <td>28</td>\n",
       "      <td>1</td>\n",
       "      <td>4</td>\n",
       "      <td>...</td>\n",
       "      <td>3</td>\n",
       "      <td>20</td>\n",
       "      <td>3</td>\n",
       "      <td>3</td>\n",
       "      <td>20</td>\n",
       "      <td>8</td>\n",
       "      <td>3</td>\n",
       "      <td>8</td>\n",
       "      <td>No</td>\n",
       "      <td>3</td>\n",
       "    </tr>\n",
       "    <tr>\n",
       "      <th>1198</th>\n",
       "      <td>E100995</td>\n",
       "      <td>34</td>\n",
       "      <td>Female</td>\n",
       "      <td>Medical</td>\n",
       "      <td>Data Science</td>\n",
       "      <td>Data Scientist</td>\n",
       "      <td>Travel_Rarely</td>\n",
       "      <td>9</td>\n",
       "      <td>3</td>\n",
       "      <td>4</td>\n",
       "      <td>...</td>\n",
       "      <td>2</td>\n",
       "      <td>9</td>\n",
       "      <td>3</td>\n",
       "      <td>4</td>\n",
       "      <td>8</td>\n",
       "      <td>7</td>\n",
       "      <td>7</td>\n",
       "      <td>7</td>\n",
       "      <td>No</td>\n",
       "      <td>3</td>\n",
       "    </tr>\n",
       "  </tbody>\n",
       "</table>\n",
       "<p>1022 rows × 27 columns</p>\n",
       "</div>"
      ],
      "text/plain": [
       "     EmpNumber  Age  Gender EducationBackground    EmpDepartment  \\\n",
       "0     E1001000   32    Male           Marketing            Sales   \n",
       "1     E1001006   47    Male           Marketing            Sales   \n",
       "2     E1001007   40    Male       Life Sciences            Sales   \n",
       "3     E1001009   41    Male     Human Resources  Human Resources   \n",
       "4     E1001010   60    Male           Marketing            Sales   \n",
       "...        ...  ...     ...                 ...              ...   \n",
       "1194   E100990   48    Male           Marketing            Sales   \n",
       "1195   E100992   27  Female             Medical            Sales   \n",
       "1196   E100993   37    Male       Life Sciences      Development   \n",
       "1197   E100994   50    Male             Medical      Development   \n",
       "1198   E100995   34  Female             Medical     Data Science   \n",
       "\n",
       "            EmpJobRole BusinessTravelFrequency  DistanceFromHome  \\\n",
       "0      Sales Executive           Travel_Rarely                10   \n",
       "1      Sales Executive           Travel_Rarely                14   \n",
       "2      Sales Executive       Travel_Frequently                 5   \n",
       "3              Manager           Travel_Rarely                10   \n",
       "4      Sales Executive           Travel_Rarely                16   \n",
       "...                ...                     ...               ...   \n",
       "1194   Sales Executive           Travel_Rarely                 2   \n",
       "1195   Sales Executive       Travel_Frequently                 3   \n",
       "1196  Senior Developer           Travel_Rarely                10   \n",
       "1197  Senior Developer           Travel_Rarely                28   \n",
       "1198    Data Scientist           Travel_Rarely                 9   \n",
       "\n",
       "      EmpEducationLevel  EmpEnvironmentSatisfaction  ...  \\\n",
       "0                     3                           4  ...   \n",
       "1                     4                           4  ...   \n",
       "2                     4                           4  ...   \n",
       "3                     4                           2  ...   \n",
       "4                     4                           1  ...   \n",
       "...                 ...                         ...  ...   \n",
       "1194                  1                           2  ...   \n",
       "1195                  1                           4  ...   \n",
       "1196                  2                           4  ...   \n",
       "1197                  1                           4  ...   \n",
       "1198                  3                           4  ...   \n",
       "\n",
       "      EmpRelationshipSatisfaction  TotalWorkExperienceInYears  \\\n",
       "0                               4                          10   \n",
       "1                               4                          20   \n",
       "2                               3                          20   \n",
       "3                               2                          23   \n",
       "4                               4                          10   \n",
       "...                           ...                         ...   \n",
       "1194                            4                          12   \n",
       "1195                            2                           6   \n",
       "1196                            1                           4   \n",
       "1197                            3                          20   \n",
       "1198                            2                           9   \n",
       "\n",
       "      TrainingTimesLastYear  EmpWorkLifeBalance  ExperienceYearsAtThisCompany  \\\n",
       "0                         2                   2                            10   \n",
       "1                         2                   3                             7   \n",
       "2                         2                   3                            18   \n",
       "3                         2                   2                            21   \n",
       "4                         1                   3                             2   \n",
       "...                     ...                 ...                           ...   \n",
       "1194                      3                   3                             2   \n",
       "1195                      3                   3                             6   \n",
       "1196                      2                   3                             1   \n",
       "1197                      3                   3                            20   \n",
       "1198                      3                   4                             8   \n",
       "\n",
       "     ExperienceYearsInCurrentRole  YearsSinceLastPromotion  \\\n",
       "0                               7                        0   \n",
       "1                               7                        1   \n",
       "2                              13                        1   \n",
       "3                               6                       12   \n",
       "4                               2                        2   \n",
       "...                           ...                      ...   \n",
       "1194                            2                        2   \n",
       "1195                            5                        0   \n",
       "1196                            0                        0   \n",
       "1197                            8                        3   \n",
       "1198                            7                        7   \n",
       "\n",
       "      YearsWithCurrManager  Attrition  PerformanceRating  \n",
       "0                        8         No                  3  \n",
       "1                        7         No                  3  \n",
       "2                       12         No                  4  \n",
       "3                        6         No                  3  \n",
       "4                        2         No                  3  \n",
       "...                    ...        ...                ...  \n",
       "1194                     2         No                  3  \n",
       "1195                     4         No                  4  \n",
       "1196                     0         No                  3  \n",
       "1197                     8         No                  3  \n",
       "1198                     7         No                  3  \n",
       "\n",
       "[1022 rows x 27 columns]"
      ]
     },
     "execution_count": 41,
     "metadata": {},
     "output_type": "execute_result"
    }
   ],
   "source": [
    "data"
   ]
  },
  {
   "cell_type": "code",
   "execution_count": 135,
   "id": "63e2c512",
   "metadata": {},
   "outputs": [
    {
     "data": {
      "text/plain": [
       "(1022, 27)"
      ]
     },
     "execution_count": 135,
     "metadata": {},
     "output_type": "execute_result"
    }
   ],
   "source": [
    "data.shape"
   ]
  },
  {
   "cell_type": "code",
   "execution_count": 53,
   "id": "c26f016c",
   "metadata": {},
   "outputs": [],
   "source": [
    "df_sales = pd.DataFrame(data)"
   ]
  },
  {
   "cell_type": "code",
   "execution_count": 56,
   "id": "b52228ab",
   "metadata": {},
   "outputs": [],
   "source": [
    "df_sales = data.loc[data['EmpDepartment']=='Sales']"
   ]
  },
  {
   "cell_type": "code",
   "execution_count": 57,
   "id": "f31f7868",
   "metadata": {},
   "outputs": [
    {
     "data": {
      "text/html": [
       "<div>\n",
       "<style scoped>\n",
       "    .dataframe tbody tr th:only-of-type {\n",
       "        vertical-align: middle;\n",
       "    }\n",
       "\n",
       "    .dataframe tbody tr th {\n",
       "        vertical-align: top;\n",
       "    }\n",
       "\n",
       "    .dataframe thead th {\n",
       "        text-align: right;\n",
       "    }\n",
       "</style>\n",
       "<table border=\"1\" class=\"dataframe\">\n",
       "  <thead>\n",
       "    <tr style=\"text-align: right;\">\n",
       "      <th></th>\n",
       "      <th>EmpNumber</th>\n",
       "      <th>Age</th>\n",
       "      <th>Gender</th>\n",
       "      <th>EducationBackground</th>\n",
       "      <th>EmpDepartment</th>\n",
       "      <th>EmpJobRole</th>\n",
       "      <th>BusinessTravelFrequency</th>\n",
       "      <th>DistanceFromHome</th>\n",
       "      <th>EmpEducationLevel</th>\n",
       "      <th>EmpEnvironmentSatisfaction</th>\n",
       "      <th>...</th>\n",
       "      <th>EmpRelationshipSatisfaction</th>\n",
       "      <th>TotalWorkExperienceInYears</th>\n",
       "      <th>TrainingTimesLastYear</th>\n",
       "      <th>EmpWorkLifeBalance</th>\n",
       "      <th>ExperienceYearsAtThisCompany</th>\n",
       "      <th>ExperienceYearsInCurrentRole</th>\n",
       "      <th>YearsSinceLastPromotion</th>\n",
       "      <th>YearsWithCurrManager</th>\n",
       "      <th>Attrition</th>\n",
       "      <th>PerformanceRating</th>\n",
       "    </tr>\n",
       "  </thead>\n",
       "  <tbody>\n",
       "    <tr>\n",
       "      <th>0</th>\n",
       "      <td>E1001000</td>\n",
       "      <td>32</td>\n",
       "      <td>Male</td>\n",
       "      <td>Marketing</td>\n",
       "      <td>Sales</td>\n",
       "      <td>Sales Executive</td>\n",
       "      <td>Travel_Rarely</td>\n",
       "      <td>10</td>\n",
       "      <td>3</td>\n",
       "      <td>4</td>\n",
       "      <td>...</td>\n",
       "      <td>4</td>\n",
       "      <td>10</td>\n",
       "      <td>2</td>\n",
       "      <td>2</td>\n",
       "      <td>10</td>\n",
       "      <td>7</td>\n",
       "      <td>0</td>\n",
       "      <td>8</td>\n",
       "      <td>No</td>\n",
       "      <td>3</td>\n",
       "    </tr>\n",
       "    <tr>\n",
       "      <th>1</th>\n",
       "      <td>E1001006</td>\n",
       "      <td>47</td>\n",
       "      <td>Male</td>\n",
       "      <td>Marketing</td>\n",
       "      <td>Sales</td>\n",
       "      <td>Sales Executive</td>\n",
       "      <td>Travel_Rarely</td>\n",
       "      <td>14</td>\n",
       "      <td>4</td>\n",
       "      <td>4</td>\n",
       "      <td>...</td>\n",
       "      <td>4</td>\n",
       "      <td>20</td>\n",
       "      <td>2</td>\n",
       "      <td>3</td>\n",
       "      <td>7</td>\n",
       "      <td>7</td>\n",
       "      <td>1</td>\n",
       "      <td>7</td>\n",
       "      <td>No</td>\n",
       "      <td>3</td>\n",
       "    </tr>\n",
       "    <tr>\n",
       "      <th>2</th>\n",
       "      <td>E1001007</td>\n",
       "      <td>40</td>\n",
       "      <td>Male</td>\n",
       "      <td>Life Sciences</td>\n",
       "      <td>Sales</td>\n",
       "      <td>Sales Executive</td>\n",
       "      <td>Travel_Frequently</td>\n",
       "      <td>5</td>\n",
       "      <td>4</td>\n",
       "      <td>4</td>\n",
       "      <td>...</td>\n",
       "      <td>3</td>\n",
       "      <td>20</td>\n",
       "      <td>2</td>\n",
       "      <td>3</td>\n",
       "      <td>18</td>\n",
       "      <td>13</td>\n",
       "      <td>1</td>\n",
       "      <td>12</td>\n",
       "      <td>No</td>\n",
       "      <td>4</td>\n",
       "    </tr>\n",
       "    <tr>\n",
       "      <th>4</th>\n",
       "      <td>E1001010</td>\n",
       "      <td>60</td>\n",
       "      <td>Male</td>\n",
       "      <td>Marketing</td>\n",
       "      <td>Sales</td>\n",
       "      <td>Sales Executive</td>\n",
       "      <td>Travel_Rarely</td>\n",
       "      <td>16</td>\n",
       "      <td>4</td>\n",
       "      <td>1</td>\n",
       "      <td>...</td>\n",
       "      <td>4</td>\n",
       "      <td>10</td>\n",
       "      <td>1</td>\n",
       "      <td>3</td>\n",
       "      <td>2</td>\n",
       "      <td>2</td>\n",
       "      <td>2</td>\n",
       "      <td>2</td>\n",
       "      <td>No</td>\n",
       "      <td>3</td>\n",
       "    </tr>\n",
       "    <tr>\n",
       "      <th>6</th>\n",
       "      <td>E1001016</td>\n",
       "      <td>50</td>\n",
       "      <td>Male</td>\n",
       "      <td>Marketing</td>\n",
       "      <td>Sales</td>\n",
       "      <td>Sales Representative</td>\n",
       "      <td>Travel_Rarely</td>\n",
       "      <td>8</td>\n",
       "      <td>4</td>\n",
       "      <td>4</td>\n",
       "      <td>...</td>\n",
       "      <td>4</td>\n",
       "      <td>4</td>\n",
       "      <td>2</td>\n",
       "      <td>3</td>\n",
       "      <td>2</td>\n",
       "      <td>2</td>\n",
       "      <td>2</td>\n",
       "      <td>2</td>\n",
       "      <td>No</td>\n",
       "      <td>3</td>\n",
       "    </tr>\n",
       "    <tr>\n",
       "      <th>...</th>\n",
       "      <td>...</td>\n",
       "      <td>...</td>\n",
       "      <td>...</td>\n",
       "      <td>...</td>\n",
       "      <td>...</td>\n",
       "      <td>...</td>\n",
       "      <td>...</td>\n",
       "      <td>...</td>\n",
       "      <td>...</td>\n",
       "      <td>...</td>\n",
       "      <td>...</td>\n",
       "      <td>...</td>\n",
       "      <td>...</td>\n",
       "      <td>...</td>\n",
       "      <td>...</td>\n",
       "      <td>...</td>\n",
       "      <td>...</td>\n",
       "      <td>...</td>\n",
       "      <td>...</td>\n",
       "      <td>...</td>\n",
       "      <td>...</td>\n",
       "    </tr>\n",
       "    <tr>\n",
       "      <th>1184</th>\n",
       "      <td>E100968</td>\n",
       "      <td>29</td>\n",
       "      <td>Female</td>\n",
       "      <td>Medical</td>\n",
       "      <td>Sales</td>\n",
       "      <td>Sales Executive</td>\n",
       "      <td>Travel_Rarely</td>\n",
       "      <td>3</td>\n",
       "      <td>2</td>\n",
       "      <td>2</td>\n",
       "      <td>...</td>\n",
       "      <td>1</td>\n",
       "      <td>6</td>\n",
       "      <td>5</td>\n",
       "      <td>2</td>\n",
       "      <td>6</td>\n",
       "      <td>0</td>\n",
       "      <td>1</td>\n",
       "      <td>2</td>\n",
       "      <td>No</td>\n",
       "      <td>3</td>\n",
       "    </tr>\n",
       "    <tr>\n",
       "      <th>1191</th>\n",
       "      <td>E100985</td>\n",
       "      <td>25</td>\n",
       "      <td>Male</td>\n",
       "      <td>Life Sciences</td>\n",
       "      <td>Sales</td>\n",
       "      <td>Sales Executive</td>\n",
       "      <td>Travel_Rarely</td>\n",
       "      <td>8</td>\n",
       "      <td>3</td>\n",
       "      <td>4</td>\n",
       "      <td>...</td>\n",
       "      <td>3</td>\n",
       "      <td>4</td>\n",
       "      <td>4</td>\n",
       "      <td>3</td>\n",
       "      <td>3</td>\n",
       "      <td>2</td>\n",
       "      <td>1</td>\n",
       "      <td>2</td>\n",
       "      <td>No</td>\n",
       "      <td>4</td>\n",
       "    </tr>\n",
       "    <tr>\n",
       "      <th>1192</th>\n",
       "      <td>E100987</td>\n",
       "      <td>38</td>\n",
       "      <td>Female</td>\n",
       "      <td>Marketing</td>\n",
       "      <td>Sales</td>\n",
       "      <td>Sales Executive</td>\n",
       "      <td>Travel_Rarely</td>\n",
       "      <td>7</td>\n",
       "      <td>4</td>\n",
       "      <td>4</td>\n",
       "      <td>...</td>\n",
       "      <td>1</td>\n",
       "      <td>8</td>\n",
       "      <td>2</td>\n",
       "      <td>3</td>\n",
       "      <td>7</td>\n",
       "      <td>7</td>\n",
       "      <td>0</td>\n",
       "      <td>5</td>\n",
       "      <td>No</td>\n",
       "      <td>4</td>\n",
       "    </tr>\n",
       "    <tr>\n",
       "      <th>1194</th>\n",
       "      <td>E100990</td>\n",
       "      <td>48</td>\n",
       "      <td>Male</td>\n",
       "      <td>Marketing</td>\n",
       "      <td>Sales</td>\n",
       "      <td>Sales Executive</td>\n",
       "      <td>Travel_Rarely</td>\n",
       "      <td>2</td>\n",
       "      <td>1</td>\n",
       "      <td>2</td>\n",
       "      <td>...</td>\n",
       "      <td>4</td>\n",
       "      <td>12</td>\n",
       "      <td>3</td>\n",
       "      <td>3</td>\n",
       "      <td>2</td>\n",
       "      <td>2</td>\n",
       "      <td>2</td>\n",
       "      <td>2</td>\n",
       "      <td>No</td>\n",
       "      <td>3</td>\n",
       "    </tr>\n",
       "    <tr>\n",
       "      <th>1195</th>\n",
       "      <td>E100992</td>\n",
       "      <td>27</td>\n",
       "      <td>Female</td>\n",
       "      <td>Medical</td>\n",
       "      <td>Sales</td>\n",
       "      <td>Sales Executive</td>\n",
       "      <td>Travel_Frequently</td>\n",
       "      <td>3</td>\n",
       "      <td>1</td>\n",
       "      <td>4</td>\n",
       "      <td>...</td>\n",
       "      <td>2</td>\n",
       "      <td>6</td>\n",
       "      <td>3</td>\n",
       "      <td>3</td>\n",
       "      <td>6</td>\n",
       "      <td>5</td>\n",
       "      <td>0</td>\n",
       "      <td>4</td>\n",
       "      <td>No</td>\n",
       "      <td>4</td>\n",
       "    </tr>\n",
       "  </tbody>\n",
       "</table>\n",
       "<p>303 rows × 27 columns</p>\n",
       "</div>"
      ],
      "text/plain": [
       "     EmpNumber  Age  Gender EducationBackground EmpDepartment  \\\n",
       "0     E1001000   32    Male           Marketing         Sales   \n",
       "1     E1001006   47    Male           Marketing         Sales   \n",
       "2     E1001007   40    Male       Life Sciences         Sales   \n",
       "4     E1001010   60    Male           Marketing         Sales   \n",
       "6     E1001016   50    Male           Marketing         Sales   \n",
       "...        ...  ...     ...                 ...           ...   \n",
       "1184   E100968   29  Female             Medical         Sales   \n",
       "1191   E100985   25    Male       Life Sciences         Sales   \n",
       "1192   E100987   38  Female           Marketing         Sales   \n",
       "1194   E100990   48    Male           Marketing         Sales   \n",
       "1195   E100992   27  Female             Medical         Sales   \n",
       "\n",
       "                EmpJobRole BusinessTravelFrequency  DistanceFromHome  \\\n",
       "0          Sales Executive           Travel_Rarely                10   \n",
       "1          Sales Executive           Travel_Rarely                14   \n",
       "2          Sales Executive       Travel_Frequently                 5   \n",
       "4          Sales Executive           Travel_Rarely                16   \n",
       "6     Sales Representative           Travel_Rarely                 8   \n",
       "...                    ...                     ...               ...   \n",
       "1184       Sales Executive           Travel_Rarely                 3   \n",
       "1191       Sales Executive           Travel_Rarely                 8   \n",
       "1192       Sales Executive           Travel_Rarely                 7   \n",
       "1194       Sales Executive           Travel_Rarely                 2   \n",
       "1195       Sales Executive       Travel_Frequently                 3   \n",
       "\n",
       "      EmpEducationLevel  EmpEnvironmentSatisfaction  ...  \\\n",
       "0                     3                           4  ...   \n",
       "1                     4                           4  ...   \n",
       "2                     4                           4  ...   \n",
       "4                     4                           1  ...   \n",
       "6                     4                           4  ...   \n",
       "...                 ...                         ...  ...   \n",
       "1184                  2                           2  ...   \n",
       "1191                  3                           4  ...   \n",
       "1192                  4                           4  ...   \n",
       "1194                  1                           2  ...   \n",
       "1195                  1                           4  ...   \n",
       "\n",
       "      EmpRelationshipSatisfaction  TotalWorkExperienceInYears  \\\n",
       "0                               4                          10   \n",
       "1                               4                          20   \n",
       "2                               3                          20   \n",
       "4                               4                          10   \n",
       "6                               4                           4   \n",
       "...                           ...                         ...   \n",
       "1184                            1                           6   \n",
       "1191                            3                           4   \n",
       "1192                            1                           8   \n",
       "1194                            4                          12   \n",
       "1195                            2                           6   \n",
       "\n",
       "      TrainingTimesLastYear  EmpWorkLifeBalance  ExperienceYearsAtThisCompany  \\\n",
       "0                         2                   2                            10   \n",
       "1                         2                   3                             7   \n",
       "2                         2                   3                            18   \n",
       "4                         1                   3                             2   \n",
       "6                         2                   3                             2   \n",
       "...                     ...                 ...                           ...   \n",
       "1184                      5                   2                             6   \n",
       "1191                      4                   3                             3   \n",
       "1192                      2                   3                             7   \n",
       "1194                      3                   3                             2   \n",
       "1195                      3                   3                             6   \n",
       "\n",
       "     ExperienceYearsInCurrentRole  YearsSinceLastPromotion  \\\n",
       "0                               7                        0   \n",
       "1                               7                        1   \n",
       "2                              13                        1   \n",
       "4                               2                        2   \n",
       "6                               2                        2   \n",
       "...                           ...                      ...   \n",
       "1184                            0                        1   \n",
       "1191                            2                        1   \n",
       "1192                            7                        0   \n",
       "1194                            2                        2   \n",
       "1195                            5                        0   \n",
       "\n",
       "      YearsWithCurrManager  Attrition  PerformanceRating  \n",
       "0                        8         No                  3  \n",
       "1                        7         No                  3  \n",
       "2                       12         No                  4  \n",
       "4                        2         No                  3  \n",
       "6                        2         No                  3  \n",
       "...                    ...        ...                ...  \n",
       "1184                     2         No                  3  \n",
       "1191                     2         No                  4  \n",
       "1192                     5         No                  4  \n",
       "1194                     2         No                  3  \n",
       "1195                     4         No                  4  \n",
       "\n",
       "[303 rows x 27 columns]"
      ]
     },
     "execution_count": 57,
     "metadata": {},
     "output_type": "execute_result"
    }
   ],
   "source": [
    "df_sales"
   ]
  },
  {
   "cell_type": "code",
   "execution_count": 58,
   "id": "12dfd5b8",
   "metadata": {},
   "outputs": [
    {
     "data": {
      "text/plain": [
       "(303, 27)"
      ]
     },
     "execution_count": 58,
     "metadata": {},
     "output_type": "execute_result"
    }
   ],
   "source": [
    "df_sales.shape"
   ]
  },
  {
   "cell_type": "markdown",
   "id": "e9d2a0fd",
   "metadata": {},
   "source": [
    "# Analysis for Sales-Team "
   ]
  },
  {
   "cell_type": "code",
   "execution_count": 90,
   "id": "12164986",
   "metadata": {},
   "outputs": [
    {
     "data": {
      "application/vnd.plotly.v1+json": {
       "config": {
        "plotlyServerURL": "https://plot.ly"
       },
       "data": [
        {
         "alignmentgroup": "True",
         "bingroup": "x",
         "hovertemplate": "Performance Rating=3<br>Emp Job Role=%{x}<br>count=%{y}<extra></extra>",
         "legendgroup": "",
         "marker": {
          "color": "#1F77B4",
          "pattern": {
           "shape": ""
          }
         },
         "name": "",
         "nbinsx": 80,
         "offsetgroup": "",
         "orientation": "v",
         "showlegend": false,
         "type": "histogram",
         "x": [
          "Sales Executive",
          "Sales Executive",
          "Sales Executive",
          "Sales Representative",
          "Sales Executive",
          "Sales Representative",
          "Sales Representative",
          "Sales Representative",
          "Sales Executive",
          "Sales Executive",
          "Sales Representative",
          "Sales Executive",
          "Sales Executive",
          "Manager",
          "Sales Executive",
          "Sales Executive",
          "Sales Executive",
          "Sales Executive",
          "Sales Executive",
          "Sales Executive",
          "Sales Representative",
          "Sales Executive",
          "Sales Representative",
          "Sales Executive",
          "Sales Representative",
          "Sales Executive",
          "Sales Representative",
          "Sales Executive",
          "Sales Representative",
          "Sales Executive",
          "Manager",
          "Sales Executive",
          "Sales Executive",
          "Sales Executive",
          "Sales Executive",
          "Manager",
          "Sales Executive",
          "Sales Executive",
          "Sales Executive",
          "Sales Executive",
          "Manager",
          "Sales Executive",
          "Manager",
          "Sales Executive",
          "Sales Executive",
          "Sales Executive",
          "Sales Executive",
          "Sales Executive",
          "Sales Executive",
          "Sales Representative",
          "Sales Executive",
          "Sales Executive",
          "Sales Executive",
          "Sales Representative",
          "Sales Executive",
          "Sales Executive",
          "Sales Executive",
          "Sales Executive",
          "Sales Executive",
          "Manager",
          "Sales Executive",
          "Sales Executive",
          "Sales Executive",
          "Sales Executive",
          "Sales Executive",
          "Sales Executive",
          "Sales Executive",
          "Sales Representative",
          "Sales Executive",
          "Sales Executive",
          "Sales Executive",
          "Sales Executive",
          "Sales Executive",
          "Sales Executive",
          "Sales Executive",
          "Sales Executive",
          "Sales Executive",
          "Sales Executive",
          "Sales Representative",
          "Sales Representative",
          "Sales Executive",
          "Sales Executive",
          "Sales Executive",
          "Manager",
          "Sales Executive",
          "Sales Executive",
          "Sales Executive",
          "Sales Executive",
          "Sales Executive",
          "Sales Executive",
          "Manager",
          "Sales Executive",
          "Sales Representative",
          "Sales Executive",
          "Sales Executive",
          "Sales Executive",
          "Sales Representative",
          "Sales Executive",
          "Sales Executive",
          "Sales Representative",
          "Sales Executive",
          "Sales Executive",
          "Sales Executive",
          "Sales Executive",
          "Sales Executive",
          "Sales Executive",
          "Sales Executive",
          "Sales Executive",
          "Sales Executive",
          "Sales Executive",
          "Sales Representative",
          "Sales Executive",
          "Sales Executive",
          "Sales Representative",
          "Sales Executive",
          "Sales Executive",
          "Sales Executive",
          "Sales Executive",
          "Sales Executive",
          "Sales Executive",
          "Sales Executive",
          "Manager",
          "Sales Executive",
          "Sales Executive",
          "Sales Representative",
          "Sales Executive",
          "Sales Executive",
          "Sales Executive",
          "Sales Executive",
          "Sales Representative",
          "Sales Representative",
          "Sales Executive",
          "Sales Executive",
          "Sales Representative",
          "Sales Executive",
          "Sales Executive",
          "Sales Representative",
          "Sales Executive",
          "Sales Executive",
          "Sales Executive",
          "Sales Executive",
          "Sales Executive",
          "Sales Executive",
          "Sales Representative",
          "Sales Executive",
          "Sales Executive",
          "Sales Executive",
          "Sales Executive",
          "Sales Executive",
          "Manager",
          "Sales Executive",
          "Sales Executive",
          "Sales Executive",
          "Sales Executive",
          "Sales Executive",
          "Sales Representative",
          "Sales Executive",
          "Sales Executive",
          "Manager",
          "Sales Executive",
          "Sales Executive",
          "Manager",
          "Sales Executive",
          "Sales Executive",
          "Sales Executive",
          "Manager",
          "Sales Executive",
          "Sales Representative",
          "Sales Executive",
          "Sales Executive",
          "Manager",
          "Sales Representative",
          "Sales Executive",
          "Sales Executive",
          "Sales Executive",
          "Sales Executive",
          "Sales Executive",
          "Sales Executive",
          "Sales Executive",
          "Sales Executive",
          "Sales Executive",
          "Sales Representative",
          "Sales Executive",
          "Sales Executive",
          "Sales Executive",
          "Sales Executive",
          "Sales Executive",
          "Sales Representative",
          "Sales Executive",
          "Sales Executive",
          "Manager",
          "Sales Executive",
          "Manager",
          "Sales Executive",
          "Sales Representative",
          "Sales Executive",
          "Sales Executive",
          "Sales Executive",
          "Sales Executive",
          "Sales Executive",
          "Sales Executive",
          "Sales Executive",
          "Sales Representative",
          "Sales Executive",
          "Sales Representative",
          "Sales Representative",
          "Sales Executive",
          "Sales Executive"
         ],
         "xaxis": "x",
         "yaxis": "y"
        },
        {
         "alignmentgroup": "True",
         "hovertemplate": "Performance Rating=3<br>Emp Job Role=%{x}<extra></extra>",
         "legendgroup": "",
         "marker": {
          "color": "#1F77B4"
         },
         "name": "",
         "notched": true,
         "offsetgroup": "",
         "showlegend": false,
         "type": "box",
         "x": [
          "Sales Executive",
          "Sales Executive",
          "Sales Executive",
          "Sales Representative",
          "Sales Executive",
          "Sales Representative",
          "Sales Representative",
          "Sales Representative",
          "Sales Executive",
          "Sales Executive",
          "Sales Representative",
          "Sales Executive",
          "Sales Executive",
          "Manager",
          "Sales Executive",
          "Sales Executive",
          "Sales Executive",
          "Sales Executive",
          "Sales Executive",
          "Sales Executive",
          "Sales Representative",
          "Sales Executive",
          "Sales Representative",
          "Sales Executive",
          "Sales Representative",
          "Sales Executive",
          "Sales Representative",
          "Sales Executive",
          "Sales Representative",
          "Sales Executive",
          "Manager",
          "Sales Executive",
          "Sales Executive",
          "Sales Executive",
          "Sales Executive",
          "Manager",
          "Sales Executive",
          "Sales Executive",
          "Sales Executive",
          "Sales Executive",
          "Manager",
          "Sales Executive",
          "Manager",
          "Sales Executive",
          "Sales Executive",
          "Sales Executive",
          "Sales Executive",
          "Sales Executive",
          "Sales Executive",
          "Sales Representative",
          "Sales Executive",
          "Sales Executive",
          "Sales Executive",
          "Sales Representative",
          "Sales Executive",
          "Sales Executive",
          "Sales Executive",
          "Sales Executive",
          "Sales Executive",
          "Manager",
          "Sales Executive",
          "Sales Executive",
          "Sales Executive",
          "Sales Executive",
          "Sales Executive",
          "Sales Executive",
          "Sales Executive",
          "Sales Representative",
          "Sales Executive",
          "Sales Executive",
          "Sales Executive",
          "Sales Executive",
          "Sales Executive",
          "Sales Executive",
          "Sales Executive",
          "Sales Executive",
          "Sales Executive",
          "Sales Executive",
          "Sales Representative",
          "Sales Representative",
          "Sales Executive",
          "Sales Executive",
          "Sales Executive",
          "Manager",
          "Sales Executive",
          "Sales Executive",
          "Sales Executive",
          "Sales Executive",
          "Sales Executive",
          "Sales Executive",
          "Manager",
          "Sales Executive",
          "Sales Representative",
          "Sales Executive",
          "Sales Executive",
          "Sales Executive",
          "Sales Representative",
          "Sales Executive",
          "Sales Executive",
          "Sales Representative",
          "Sales Executive",
          "Sales Executive",
          "Sales Executive",
          "Sales Executive",
          "Sales Executive",
          "Sales Executive",
          "Sales Executive",
          "Sales Executive",
          "Sales Executive",
          "Sales Executive",
          "Sales Representative",
          "Sales Executive",
          "Sales Executive",
          "Sales Representative",
          "Sales Executive",
          "Sales Executive",
          "Sales Executive",
          "Sales Executive",
          "Sales Executive",
          "Sales Executive",
          "Sales Executive",
          "Manager",
          "Sales Executive",
          "Sales Executive",
          "Sales Representative",
          "Sales Executive",
          "Sales Executive",
          "Sales Executive",
          "Sales Executive",
          "Sales Representative",
          "Sales Representative",
          "Sales Executive",
          "Sales Executive",
          "Sales Representative",
          "Sales Executive",
          "Sales Executive",
          "Sales Representative",
          "Sales Executive",
          "Sales Executive",
          "Sales Executive",
          "Sales Executive",
          "Sales Executive",
          "Sales Executive",
          "Sales Representative",
          "Sales Executive",
          "Sales Executive",
          "Sales Executive",
          "Sales Executive",
          "Sales Executive",
          "Manager",
          "Sales Executive",
          "Sales Executive",
          "Sales Executive",
          "Sales Executive",
          "Sales Executive",
          "Sales Representative",
          "Sales Executive",
          "Sales Executive",
          "Manager",
          "Sales Executive",
          "Sales Executive",
          "Manager",
          "Sales Executive",
          "Sales Executive",
          "Sales Executive",
          "Manager",
          "Sales Executive",
          "Sales Representative",
          "Sales Executive",
          "Sales Executive",
          "Manager",
          "Sales Representative",
          "Sales Executive",
          "Sales Executive",
          "Sales Executive",
          "Sales Executive",
          "Sales Executive",
          "Sales Executive",
          "Sales Executive",
          "Sales Executive",
          "Sales Executive",
          "Sales Representative",
          "Sales Executive",
          "Sales Executive",
          "Sales Executive",
          "Sales Executive",
          "Sales Executive",
          "Sales Representative",
          "Sales Executive",
          "Sales Executive",
          "Manager",
          "Sales Executive",
          "Manager",
          "Sales Executive",
          "Sales Representative",
          "Sales Executive",
          "Sales Executive",
          "Sales Executive",
          "Sales Executive",
          "Sales Executive",
          "Sales Executive",
          "Sales Executive",
          "Sales Representative",
          "Sales Executive",
          "Sales Representative",
          "Sales Representative",
          "Sales Executive",
          "Sales Executive"
         ],
         "xaxis": "x4",
         "yaxis": "y4"
        },
        {
         "alignmentgroup": "True",
         "bingroup": "x",
         "hovertemplate": "Performance Rating=4<br>Emp Job Role=%{x}<br>count=%{y}<extra></extra>",
         "legendgroup": "",
         "marker": {
          "color": "#1F77B4",
          "pattern": {
           "shape": ""
          }
         },
         "name": "",
         "nbinsx": 80,
         "offsetgroup": "",
         "orientation": "v",
         "showlegend": false,
         "type": "histogram",
         "x": [
          "Sales Executive",
          "Sales Executive",
          "Manager",
          "Sales Executive",
          "Sales Executive",
          "Sales Executive",
          "Manager",
          "Sales Representative",
          "Sales Executive",
          "Manager",
          "Manager",
          "Sales Executive",
          "Sales Representative",
          "Manager",
          "Sales Executive",
          "Sales Executive",
          "Sales Executive",
          "Sales Executive",
          "Sales Executive",
          "Sales Executive",
          "Sales Executive",
          "Sales Executive",
          "Sales Executive",
          "Manager",
          "Sales Executive",
          "Sales Executive",
          "Sales Executive",
          "Manager",
          "Sales Executive",
          "Sales Executive",
          "Sales Executive"
         ],
         "xaxis": "x2",
         "yaxis": "y2"
        },
        {
         "alignmentgroup": "True",
         "hovertemplate": "Performance Rating=4<br>Emp Job Role=%{x}<extra></extra>",
         "legendgroup": "",
         "marker": {
          "color": "#1F77B4"
         },
         "name": "",
         "notched": true,
         "offsetgroup": "",
         "showlegend": false,
         "type": "box",
         "x": [
          "Sales Executive",
          "Sales Executive",
          "Manager",
          "Sales Executive",
          "Sales Executive",
          "Sales Executive",
          "Manager",
          "Sales Representative",
          "Sales Executive",
          "Manager",
          "Manager",
          "Sales Executive",
          "Sales Representative",
          "Manager",
          "Sales Executive",
          "Sales Executive",
          "Sales Executive",
          "Sales Executive",
          "Sales Executive",
          "Sales Executive",
          "Sales Executive",
          "Sales Executive",
          "Sales Executive",
          "Manager",
          "Sales Executive",
          "Sales Executive",
          "Sales Executive",
          "Manager",
          "Sales Executive",
          "Sales Executive",
          "Sales Executive"
         ],
         "xaxis": "x5",
         "yaxis": "y5"
        },
        {
         "alignmentgroup": "True",
         "bingroup": "x",
         "hovertemplate": "Performance Rating=2<br>Emp Job Role=%{x}<br>count=%{y}<extra></extra>",
         "legendgroup": "",
         "marker": {
          "color": "#1F77B4",
          "pattern": {
           "shape": ""
          }
         },
         "name": "",
         "nbinsx": 80,
         "offsetgroup": "",
         "orientation": "v",
         "showlegend": false,
         "type": "histogram",
         "x": [
          "Sales Representative",
          "Sales Executive",
          "Manager",
          "Sales Executive",
          "Manager",
          "Sales Executive",
          "Sales Executive",
          "Sales Executive",
          "Sales Executive",
          "Sales Executive",
          "Sales Executive",
          "Sales Executive",
          "Sales Executive",
          "Sales Representative",
          "Sales Executive",
          "Sales Executive",
          "Manager",
          "Sales Executive",
          "Sales Executive",
          "Sales Executive",
          "Manager",
          "Sales Executive",
          "Sales Executive",
          "Sales Executive",
          "Sales Representative",
          "Sales Executive",
          "Sales Executive",
          "Sales Executive",
          "Sales Executive",
          "Sales Executive",
          "Sales Executive",
          "Sales Executive",
          "Sales Representative",
          "Sales Representative",
          "Sales Executive",
          "Sales Executive",
          "Sales Executive",
          "Manager",
          "Manager",
          "Sales Executive",
          "Sales Executive",
          "Sales Executive",
          "Sales Executive",
          "Sales Executive",
          "Sales Executive",
          "Sales Representative",
          "Sales Executive",
          "Sales Executive",
          "Sales Executive",
          "Sales Representative",
          "Sales Executive",
          "Manager",
          "Sales Executive",
          "Sales Executive",
          "Sales Representative",
          "Sales Executive",
          "Sales Executive",
          "Sales Executive",
          "Sales Executive",
          "Sales Executive",
          "Manager",
          "Sales Executive",
          "Manager",
          "Sales Executive"
         ],
         "xaxis": "x3",
         "yaxis": "y3"
        },
        {
         "alignmentgroup": "True",
         "hovertemplate": "Performance Rating=2<br>Emp Job Role=%{x}<extra></extra>",
         "legendgroup": "",
         "marker": {
          "color": "#1F77B4"
         },
         "name": "",
         "notched": true,
         "offsetgroup": "",
         "showlegend": false,
         "type": "box",
         "x": [
          "Sales Representative",
          "Sales Executive",
          "Manager",
          "Sales Executive",
          "Manager",
          "Sales Executive",
          "Sales Executive",
          "Sales Executive",
          "Sales Executive",
          "Sales Executive",
          "Sales Executive",
          "Sales Executive",
          "Sales Executive",
          "Sales Representative",
          "Sales Executive",
          "Sales Executive",
          "Manager",
          "Sales Executive",
          "Sales Executive",
          "Sales Executive",
          "Manager",
          "Sales Executive",
          "Sales Executive",
          "Sales Executive",
          "Sales Representative",
          "Sales Executive",
          "Sales Executive",
          "Sales Executive",
          "Sales Executive",
          "Sales Executive",
          "Sales Executive",
          "Sales Executive",
          "Sales Representative",
          "Sales Representative",
          "Sales Executive",
          "Sales Executive",
          "Sales Executive",
          "Manager",
          "Manager",
          "Sales Executive",
          "Sales Executive",
          "Sales Executive",
          "Sales Executive",
          "Sales Executive",
          "Sales Executive",
          "Sales Representative",
          "Sales Executive",
          "Sales Executive",
          "Sales Executive",
          "Sales Representative",
          "Sales Executive",
          "Manager",
          "Sales Executive",
          "Sales Executive",
          "Sales Representative",
          "Sales Executive",
          "Sales Executive",
          "Sales Executive",
          "Sales Executive",
          "Sales Executive",
          "Manager",
          "Sales Executive",
          "Manager",
          "Sales Executive"
         ],
         "xaxis": "x6",
         "yaxis": "y6"
        }
       ],
       "layout": {
        "annotations": [
         {
          "font": {},
          "showarrow": false,
          "text": "Performance Rating=3",
          "x": 0.15999999999999998,
          "xanchor": "center",
          "xref": "paper",
          "y": 1,
          "yanchor": "bottom",
          "yref": "paper"
         },
         {
          "font": {},
          "showarrow": false,
          "text": "Performance Rating=4",
          "x": 0.49999999999999994,
          "xanchor": "center",
          "xref": "paper",
          "y": 1,
          "yanchor": "bottom",
          "yref": "paper"
         },
         {
          "font": {},
          "showarrow": false,
          "text": "Performance Rating=2",
          "x": 0.8399999999999999,
          "xanchor": "center",
          "xref": "paper",
          "y": 1,
          "yanchor": "bottom",
          "yref": "paper"
         }
        ],
        "barmode": "relative",
        "legend": {
         "tracegroupgap": 0
        },
        "template": {
         "data": {
          "pie": [
           {
            "automargin": true,
            "type": "pie"
           }
          ]
         },
         "layout": {
          "xaxis": {
           "showgrid": true,
           "title": {
            "standoff": 15
           }
          },
          "yaxis": {
           "showgrid": true,
           "title": {
            "standoff": 15
           }
          }
         }
        },
        "title": {
         "text": "Analysing Performance Rating of Sales Department"
        },
        "xaxis": {
         "anchor": "y",
         "domain": [
          0,
          0.31999999999999995
         ],
         "title": {
          "text": "Emp Job Role"
         }
        },
        "xaxis2": {
         "anchor": "y2",
         "domain": [
          0.33999999999999997,
          0.6599999999999999
         ],
         "matches": "x",
         "title": {
          "text": "Emp Job Role"
         }
        },
        "xaxis3": {
         "anchor": "y3",
         "domain": [
          0.6799999999999999,
          0.9999999999999999
         ],
         "matches": "x",
         "title": {
          "text": "Emp Job Role"
         }
        },
        "xaxis4": {
         "anchor": "y4",
         "domain": [
          0,
          0.31999999999999995
         ],
         "matches": "x",
         "showticklabels": false
        },
        "xaxis5": {
         "anchor": "y5",
         "domain": [
          0.33999999999999997,
          0.6599999999999999
         ],
         "matches": "x",
         "showticklabels": false
        },
        "xaxis6": {
         "anchor": "y6",
         "domain": [
          0.6799999999999999,
          0.9999999999999999
         ],
         "matches": "x",
         "showticklabels": false
        },
        "yaxis": {
         "anchor": "x",
         "domain": [
          0,
          0.8316
         ],
         "title": {
          "text": "count"
         }
        },
        "yaxis2": {
         "anchor": "x2",
         "domain": [
          0,
          0.8316
         ],
         "matches": "y",
         "showticklabels": false
        },
        "yaxis3": {
         "anchor": "x3",
         "domain": [
          0,
          0.8316
         ],
         "matches": "y",
         "showticklabels": false
        },
        "yaxis4": {
         "anchor": "x4",
         "domain": [
          0.8416,
          1
         ],
         "matches": "y4",
         "showline": false,
         "showticklabels": false,
         "ticks": ""
        },
        "yaxis5": {
         "anchor": "x5",
         "domain": [
          0.8416,
          1
         ],
         "matches": "y4",
         "showline": false,
         "showticklabels": false,
         "ticks": ""
        },
        "yaxis6": {
         "anchor": "x6",
         "domain": [
          0.8416,
          1
         ],
         "matches": "y4",
         "showline": false,
         "showticklabels": false,
         "ticks": ""
        }
       }
      },
      "text/html": [
       "<div>                            <div id=\"6be1ba1c-fd74-4643-b790-4ce4f12e28ed\" class=\"plotly-graph-div\" style=\"height:525px; width:100%;\"></div>            <script type=\"text/javascript\">                require([\"plotly\"], function(Plotly) {                    window.PLOTLYENV=window.PLOTLYENV || {};                                    if (document.getElementById(\"6be1ba1c-fd74-4643-b790-4ce4f12e28ed\")) {                    Plotly.newPlot(                        \"6be1ba1c-fd74-4643-b790-4ce4f12e28ed\",                        [{\"alignmentgroup\":\"True\",\"bingroup\":\"x\",\"hovertemplate\":\"Performance Rating=3<br>Emp Job Role=%{x}<br>count=%{y}<extra></extra>\",\"legendgroup\":\"\",\"marker\":{\"color\":\"#1F77B4\",\"pattern\":{\"shape\":\"\"}},\"name\":\"\",\"nbinsx\":80,\"offsetgroup\":\"\",\"orientation\":\"v\",\"showlegend\":false,\"x\":[\"Sales Executive\",\"Sales Executive\",\"Sales Executive\",\"Sales Representative\",\"Sales Executive\",\"Sales Representative\",\"Sales Representative\",\"Sales Representative\",\"Sales Executive\",\"Sales Executive\",\"Sales Representative\",\"Sales Executive\",\"Sales Executive\",\"Manager\",\"Sales Executive\",\"Sales Executive\",\"Sales Executive\",\"Sales Executive\",\"Sales Executive\",\"Sales Executive\",\"Sales Representative\",\"Sales Executive\",\"Sales Representative\",\"Sales Executive\",\"Sales Representative\",\"Sales Executive\",\"Sales Representative\",\"Sales Executive\",\"Sales Representative\",\"Sales Executive\",\"Manager\",\"Sales Executive\",\"Sales Executive\",\"Sales Executive\",\"Sales Executive\",\"Manager\",\"Sales Executive\",\"Sales Executive\",\"Sales Executive\",\"Sales Executive\",\"Manager\",\"Sales Executive\",\"Manager\",\"Sales Executive\",\"Sales Executive\",\"Sales Executive\",\"Sales Executive\",\"Sales Executive\",\"Sales Executive\",\"Sales Representative\",\"Sales Executive\",\"Sales Executive\",\"Sales Executive\",\"Sales Representative\",\"Sales Executive\",\"Sales Executive\",\"Sales Executive\",\"Sales Executive\",\"Sales Executive\",\"Manager\",\"Sales Executive\",\"Sales Executive\",\"Sales Executive\",\"Sales Executive\",\"Sales Executive\",\"Sales Executive\",\"Sales Executive\",\"Sales Representative\",\"Sales Executive\",\"Sales Executive\",\"Sales Executive\",\"Sales Executive\",\"Sales Executive\",\"Sales Executive\",\"Sales Executive\",\"Sales Executive\",\"Sales Executive\",\"Sales Executive\",\"Sales Representative\",\"Sales Representative\",\"Sales Executive\",\"Sales Executive\",\"Sales Executive\",\"Manager\",\"Sales Executive\",\"Sales Executive\",\"Sales Executive\",\"Sales Executive\",\"Sales Executive\",\"Sales Executive\",\"Manager\",\"Sales Executive\",\"Sales Representative\",\"Sales Executive\",\"Sales Executive\",\"Sales Executive\",\"Sales Representative\",\"Sales Executive\",\"Sales Executive\",\"Sales Representative\",\"Sales Executive\",\"Sales Executive\",\"Sales Executive\",\"Sales Executive\",\"Sales Executive\",\"Sales Executive\",\"Sales Executive\",\"Sales Executive\",\"Sales Executive\",\"Sales Executive\",\"Sales Representative\",\"Sales Executive\",\"Sales Executive\",\"Sales Representative\",\"Sales Executive\",\"Sales Executive\",\"Sales Executive\",\"Sales Executive\",\"Sales Executive\",\"Sales Executive\",\"Sales Executive\",\"Manager\",\"Sales Executive\",\"Sales Executive\",\"Sales Representative\",\"Sales Executive\",\"Sales Executive\",\"Sales Executive\",\"Sales Executive\",\"Sales Representative\",\"Sales Representative\",\"Sales Executive\",\"Sales Executive\",\"Sales Representative\",\"Sales Executive\",\"Sales Executive\",\"Sales Representative\",\"Sales Executive\",\"Sales Executive\",\"Sales Executive\",\"Sales Executive\",\"Sales Executive\",\"Sales Executive\",\"Sales Representative\",\"Sales Executive\",\"Sales Executive\",\"Sales Executive\",\"Sales Executive\",\"Sales Executive\",\"Manager\",\"Sales Executive\",\"Sales Executive\",\"Sales Executive\",\"Sales Executive\",\"Sales Executive\",\"Sales Representative\",\"Sales Executive\",\"Sales Executive\",\"Manager\",\"Sales Executive\",\"Sales Executive\",\"Manager\",\"Sales Executive\",\"Sales Executive\",\"Sales Executive\",\"Manager\",\"Sales Executive\",\"Sales Representative\",\"Sales Executive\",\"Sales Executive\",\"Manager\",\"Sales Representative\",\"Sales Executive\",\"Sales Executive\",\"Sales Executive\",\"Sales Executive\",\"Sales Executive\",\"Sales Executive\",\"Sales Executive\",\"Sales Executive\",\"Sales Executive\",\"Sales Representative\",\"Sales Executive\",\"Sales Executive\",\"Sales Executive\",\"Sales Executive\",\"Sales Executive\",\"Sales Representative\",\"Sales Executive\",\"Sales Executive\",\"Manager\",\"Sales Executive\",\"Manager\",\"Sales Executive\",\"Sales Representative\",\"Sales Executive\",\"Sales Executive\",\"Sales Executive\",\"Sales Executive\",\"Sales Executive\",\"Sales Executive\",\"Sales Executive\",\"Sales Representative\",\"Sales Executive\",\"Sales Representative\",\"Sales Representative\",\"Sales Executive\",\"Sales Executive\"],\"xaxis\":\"x\",\"yaxis\":\"y\",\"type\":\"histogram\"},{\"alignmentgroup\":\"True\",\"hovertemplate\":\"Performance Rating=3<br>Emp Job Role=%{x}<extra></extra>\",\"legendgroup\":\"\",\"marker\":{\"color\":\"#1F77B4\"},\"name\":\"\",\"notched\":true,\"offsetgroup\":\"\",\"showlegend\":false,\"x\":[\"Sales Executive\",\"Sales Executive\",\"Sales Executive\",\"Sales Representative\",\"Sales Executive\",\"Sales Representative\",\"Sales Representative\",\"Sales Representative\",\"Sales Executive\",\"Sales Executive\",\"Sales Representative\",\"Sales Executive\",\"Sales Executive\",\"Manager\",\"Sales Executive\",\"Sales Executive\",\"Sales Executive\",\"Sales Executive\",\"Sales Executive\",\"Sales Executive\",\"Sales Representative\",\"Sales Executive\",\"Sales Representative\",\"Sales Executive\",\"Sales Representative\",\"Sales Executive\",\"Sales Representative\",\"Sales Executive\",\"Sales Representative\",\"Sales Executive\",\"Manager\",\"Sales Executive\",\"Sales Executive\",\"Sales Executive\",\"Sales Executive\",\"Manager\",\"Sales Executive\",\"Sales Executive\",\"Sales Executive\",\"Sales Executive\",\"Manager\",\"Sales Executive\",\"Manager\",\"Sales Executive\",\"Sales Executive\",\"Sales Executive\",\"Sales Executive\",\"Sales Executive\",\"Sales Executive\",\"Sales Representative\",\"Sales Executive\",\"Sales Executive\",\"Sales Executive\",\"Sales Representative\",\"Sales Executive\",\"Sales Executive\",\"Sales Executive\",\"Sales Executive\",\"Sales Executive\",\"Manager\",\"Sales Executive\",\"Sales Executive\",\"Sales Executive\",\"Sales Executive\",\"Sales Executive\",\"Sales Executive\",\"Sales Executive\",\"Sales Representative\",\"Sales Executive\",\"Sales Executive\",\"Sales Executive\",\"Sales Executive\",\"Sales Executive\",\"Sales Executive\",\"Sales Executive\",\"Sales Executive\",\"Sales Executive\",\"Sales Executive\",\"Sales Representative\",\"Sales Representative\",\"Sales Executive\",\"Sales Executive\",\"Sales Executive\",\"Manager\",\"Sales Executive\",\"Sales Executive\",\"Sales Executive\",\"Sales Executive\",\"Sales Executive\",\"Sales Executive\",\"Manager\",\"Sales Executive\",\"Sales Representative\",\"Sales Executive\",\"Sales Executive\",\"Sales Executive\",\"Sales Representative\",\"Sales Executive\",\"Sales Executive\",\"Sales Representative\",\"Sales Executive\",\"Sales Executive\",\"Sales Executive\",\"Sales Executive\",\"Sales Executive\",\"Sales Executive\",\"Sales Executive\",\"Sales Executive\",\"Sales Executive\",\"Sales Executive\",\"Sales Representative\",\"Sales Executive\",\"Sales Executive\",\"Sales Representative\",\"Sales Executive\",\"Sales Executive\",\"Sales Executive\",\"Sales Executive\",\"Sales Executive\",\"Sales Executive\",\"Sales Executive\",\"Manager\",\"Sales Executive\",\"Sales Executive\",\"Sales Representative\",\"Sales Executive\",\"Sales Executive\",\"Sales Executive\",\"Sales Executive\",\"Sales Representative\",\"Sales Representative\",\"Sales Executive\",\"Sales Executive\",\"Sales Representative\",\"Sales Executive\",\"Sales Executive\",\"Sales Representative\",\"Sales Executive\",\"Sales Executive\",\"Sales Executive\",\"Sales Executive\",\"Sales Executive\",\"Sales Executive\",\"Sales Representative\",\"Sales Executive\",\"Sales Executive\",\"Sales Executive\",\"Sales Executive\",\"Sales Executive\",\"Manager\",\"Sales Executive\",\"Sales Executive\",\"Sales Executive\",\"Sales Executive\",\"Sales Executive\",\"Sales Representative\",\"Sales Executive\",\"Sales Executive\",\"Manager\",\"Sales Executive\",\"Sales Executive\",\"Manager\",\"Sales Executive\",\"Sales Executive\",\"Sales Executive\",\"Manager\",\"Sales Executive\",\"Sales Representative\",\"Sales Executive\",\"Sales Executive\",\"Manager\",\"Sales Representative\",\"Sales Executive\",\"Sales Executive\",\"Sales Executive\",\"Sales Executive\",\"Sales Executive\",\"Sales Executive\",\"Sales Executive\",\"Sales Executive\",\"Sales Executive\",\"Sales Representative\",\"Sales Executive\",\"Sales Executive\",\"Sales Executive\",\"Sales Executive\",\"Sales Executive\",\"Sales Representative\",\"Sales Executive\",\"Sales Executive\",\"Manager\",\"Sales Executive\",\"Manager\",\"Sales Executive\",\"Sales Representative\",\"Sales Executive\",\"Sales Executive\",\"Sales Executive\",\"Sales Executive\",\"Sales Executive\",\"Sales Executive\",\"Sales Executive\",\"Sales Representative\",\"Sales Executive\",\"Sales Representative\",\"Sales Representative\",\"Sales Executive\",\"Sales Executive\"],\"xaxis\":\"x4\",\"yaxis\":\"y4\",\"type\":\"box\"},{\"alignmentgroup\":\"True\",\"bingroup\":\"x\",\"hovertemplate\":\"Performance Rating=4<br>Emp Job Role=%{x}<br>count=%{y}<extra></extra>\",\"legendgroup\":\"\",\"marker\":{\"color\":\"#1F77B4\",\"pattern\":{\"shape\":\"\"}},\"name\":\"\",\"nbinsx\":80,\"offsetgroup\":\"\",\"orientation\":\"v\",\"showlegend\":false,\"x\":[\"Sales Executive\",\"Sales Executive\",\"Manager\",\"Sales Executive\",\"Sales Executive\",\"Sales Executive\",\"Manager\",\"Sales Representative\",\"Sales Executive\",\"Manager\",\"Manager\",\"Sales Executive\",\"Sales Representative\",\"Manager\",\"Sales Executive\",\"Sales Executive\",\"Sales Executive\",\"Sales Executive\",\"Sales Executive\",\"Sales Executive\",\"Sales Executive\",\"Sales Executive\",\"Sales Executive\",\"Manager\",\"Sales Executive\",\"Sales Executive\",\"Sales Executive\",\"Manager\",\"Sales Executive\",\"Sales Executive\",\"Sales Executive\"],\"xaxis\":\"x2\",\"yaxis\":\"y2\",\"type\":\"histogram\"},{\"alignmentgroup\":\"True\",\"hovertemplate\":\"Performance Rating=4<br>Emp Job Role=%{x}<extra></extra>\",\"legendgroup\":\"\",\"marker\":{\"color\":\"#1F77B4\"},\"name\":\"\",\"notched\":true,\"offsetgroup\":\"\",\"showlegend\":false,\"x\":[\"Sales Executive\",\"Sales Executive\",\"Manager\",\"Sales Executive\",\"Sales Executive\",\"Sales Executive\",\"Manager\",\"Sales Representative\",\"Sales Executive\",\"Manager\",\"Manager\",\"Sales Executive\",\"Sales Representative\",\"Manager\",\"Sales Executive\",\"Sales Executive\",\"Sales Executive\",\"Sales Executive\",\"Sales Executive\",\"Sales Executive\",\"Sales Executive\",\"Sales Executive\",\"Sales Executive\",\"Manager\",\"Sales Executive\",\"Sales Executive\",\"Sales Executive\",\"Manager\",\"Sales Executive\",\"Sales Executive\",\"Sales Executive\"],\"xaxis\":\"x5\",\"yaxis\":\"y5\",\"type\":\"box\"},{\"alignmentgroup\":\"True\",\"bingroup\":\"x\",\"hovertemplate\":\"Performance Rating=2<br>Emp Job Role=%{x}<br>count=%{y}<extra></extra>\",\"legendgroup\":\"\",\"marker\":{\"color\":\"#1F77B4\",\"pattern\":{\"shape\":\"\"}},\"name\":\"\",\"nbinsx\":80,\"offsetgroup\":\"\",\"orientation\":\"v\",\"showlegend\":false,\"x\":[\"Sales Representative\",\"Sales Executive\",\"Manager\",\"Sales Executive\",\"Manager\",\"Sales Executive\",\"Sales Executive\",\"Sales Executive\",\"Sales Executive\",\"Sales Executive\",\"Sales Executive\",\"Sales Executive\",\"Sales Executive\",\"Sales Representative\",\"Sales Executive\",\"Sales Executive\",\"Manager\",\"Sales Executive\",\"Sales Executive\",\"Sales Executive\",\"Manager\",\"Sales Executive\",\"Sales Executive\",\"Sales Executive\",\"Sales Representative\",\"Sales Executive\",\"Sales Executive\",\"Sales Executive\",\"Sales Executive\",\"Sales Executive\",\"Sales Executive\",\"Sales Executive\",\"Sales Representative\",\"Sales Representative\",\"Sales Executive\",\"Sales Executive\",\"Sales Executive\",\"Manager\",\"Manager\",\"Sales Executive\",\"Sales Executive\",\"Sales Executive\",\"Sales Executive\",\"Sales Executive\",\"Sales Executive\",\"Sales Representative\",\"Sales Executive\",\"Sales Executive\",\"Sales Executive\",\"Sales Representative\",\"Sales Executive\",\"Manager\",\"Sales Executive\",\"Sales Executive\",\"Sales Representative\",\"Sales Executive\",\"Sales Executive\",\"Sales Executive\",\"Sales Executive\",\"Sales Executive\",\"Manager\",\"Sales Executive\",\"Manager\",\"Sales Executive\"],\"xaxis\":\"x3\",\"yaxis\":\"y3\",\"type\":\"histogram\"},{\"alignmentgroup\":\"True\",\"hovertemplate\":\"Performance Rating=2<br>Emp Job Role=%{x}<extra></extra>\",\"legendgroup\":\"\",\"marker\":{\"color\":\"#1F77B4\"},\"name\":\"\",\"notched\":true,\"offsetgroup\":\"\",\"showlegend\":false,\"x\":[\"Sales Representative\",\"Sales Executive\",\"Manager\",\"Sales Executive\",\"Manager\",\"Sales Executive\",\"Sales Executive\",\"Sales Executive\",\"Sales Executive\",\"Sales Executive\",\"Sales Executive\",\"Sales Executive\",\"Sales Executive\",\"Sales Representative\",\"Sales Executive\",\"Sales Executive\",\"Manager\",\"Sales Executive\",\"Sales Executive\",\"Sales Executive\",\"Manager\",\"Sales Executive\",\"Sales Executive\",\"Sales Executive\",\"Sales Representative\",\"Sales Executive\",\"Sales Executive\",\"Sales Executive\",\"Sales Executive\",\"Sales Executive\",\"Sales Executive\",\"Sales Executive\",\"Sales Representative\",\"Sales Representative\",\"Sales Executive\",\"Sales Executive\",\"Sales Executive\",\"Manager\",\"Manager\",\"Sales Executive\",\"Sales Executive\",\"Sales Executive\",\"Sales Executive\",\"Sales Executive\",\"Sales Executive\",\"Sales Representative\",\"Sales Executive\",\"Sales Executive\",\"Sales Executive\",\"Sales Representative\",\"Sales Executive\",\"Manager\",\"Sales Executive\",\"Sales Executive\",\"Sales Representative\",\"Sales Executive\",\"Sales Executive\",\"Sales Executive\",\"Sales Executive\",\"Sales Executive\",\"Manager\",\"Sales Executive\",\"Manager\",\"Sales Executive\"],\"xaxis\":\"x6\",\"yaxis\":\"y6\",\"type\":\"box\"}],                        {\"template\":{\"data\":{\"pie\":[{\"automargin\":true,\"type\":\"pie\"}]},\"layout\":{\"xaxis\":{\"showgrid\":true,\"title\":{\"standoff\":15}},\"yaxis\":{\"showgrid\":true,\"title\":{\"standoff\":15}}}},\"xaxis\":{\"anchor\":\"y\",\"domain\":[0.0,0.31999999999999995],\"title\":{\"text\":\"Emp Job Role\"}},\"yaxis\":{\"anchor\":\"x\",\"domain\":[0.0,0.8316],\"title\":{\"text\":\"count\"}},\"xaxis2\":{\"anchor\":\"y2\",\"domain\":[0.33999999999999997,0.6599999999999999],\"matches\":\"x\",\"title\":{\"text\":\"Emp Job Role\"}},\"yaxis2\":{\"anchor\":\"x2\",\"domain\":[0.0,0.8316],\"matches\":\"y\",\"showticklabels\":false},\"xaxis3\":{\"anchor\":\"y3\",\"domain\":[0.6799999999999999,0.9999999999999999],\"matches\":\"x\",\"title\":{\"text\":\"Emp Job Role\"}},\"yaxis3\":{\"anchor\":\"x3\",\"domain\":[0.0,0.8316],\"matches\":\"y\",\"showticklabels\":false},\"xaxis4\":{\"anchor\":\"y4\",\"domain\":[0.0,0.31999999999999995],\"matches\":\"x\",\"showticklabels\":false},\"yaxis4\":{\"anchor\":\"x4\",\"domain\":[0.8416,1.0],\"matches\":\"y4\",\"showticklabels\":false,\"showline\":false,\"ticks\":\"\"},\"xaxis5\":{\"anchor\":\"y5\",\"domain\":[0.33999999999999997,0.6599999999999999],\"matches\":\"x\",\"showticklabels\":false},\"yaxis5\":{\"anchor\":\"x5\",\"domain\":[0.8416,1.0],\"matches\":\"y4\",\"showticklabels\":false,\"showline\":false,\"ticks\":\"\"},\"xaxis6\":{\"anchor\":\"y6\",\"domain\":[0.6799999999999999,0.9999999999999999],\"matches\":\"x\",\"showticklabels\":false},\"yaxis6\":{\"anchor\":\"x6\",\"domain\":[0.8416,1.0],\"matches\":\"y4\",\"showticklabels\":false,\"showline\":false,\"ticks\":\"\"},\"annotations\":[{\"font\":{},\"showarrow\":false,\"text\":\"Performance Rating=3\",\"x\":0.15999999999999998,\"xanchor\":\"center\",\"xref\":\"paper\",\"y\":1.0,\"yanchor\":\"bottom\",\"yref\":\"paper\"},{\"font\":{},\"showarrow\":false,\"text\":\"Performance Rating=4\",\"x\":0.49999999999999994,\"xanchor\":\"center\",\"xref\":\"paper\",\"y\":1.0,\"yanchor\":\"bottom\",\"yref\":\"paper\"},{\"font\":{},\"showarrow\":false,\"text\":\"Performance Rating=2\",\"x\":0.8399999999999999,\"xanchor\":\"center\",\"xref\":\"paper\",\"y\":1.0,\"yanchor\":\"bottom\",\"yref\":\"paper\"}],\"legend\":{\"tracegroupgap\":0},\"title\":{\"text\":\"Analysing Performance Rating of Sales Department\"},\"barmode\":\"relative\"},                        {\"responsive\": true}                    ).then(function(){\n",
       "                            \n",
       "var gd = document.getElementById('6be1ba1c-fd74-4643-b790-4ce4f12e28ed');\n",
       "var x = new MutationObserver(function (mutations, observer) {{\n",
       "        var display = window.getComputedStyle(gd).display;\n",
       "        if (!display || display === 'none') {{\n",
       "            console.log([gd, 'removed!']);\n",
       "            Plotly.purge(gd);\n",
       "            observer.disconnect();\n",
       "        }}\n",
       "}});\n",
       "\n",
       "// Listen for the removal of the full notebook cells\n",
       "var notebookContainer = gd.closest('#notebook-container');\n",
       "if (notebookContainer) {{\n",
       "    x.observe(notebookContainer, {childList: true});\n",
       "}}\n",
       "\n",
       "// Listen for the clearing of the current output cell\n",
       "var outputEl = gd.closest('.output');\n",
       "if (outputEl) {{\n",
       "    x.observe(outputEl, {childList: true});\n",
       "}}\n",
       "\n",
       "                        })                };                });            </script>        </div>"
      ]
     },
     "metadata": {},
     "output_type": "display_data"
    },
    {
     "data": {
      "text/plain": [
       "<Figure size 720x432 with 0 Axes>"
      ]
     },
     "metadata": {},
     "output_type": "display_data"
    }
   ],
   "source": [
    "#Sales-Team distribution\n",
    "\n",
    "plt.figure(figsize=(10,6))\n",
    "fig = px.histogram(df_sales, x='EmpJobRole', facet_col='PerformanceRating', facet_col_wrap=0, nbins=80, labels={'EmpJobRole':'Emp Job Role', 'PerformanceRating':'Performance Rating'}, title='Analysing Performance Rating of Sales Department', template='gridon', marginal='box')\n",
    "fig.show()"
   ]
  },
  {
   "cell_type": "code",
   "execution_count": 91,
   "id": "bb510d95",
   "metadata": {},
   "outputs": [
    {
     "data": {
      "application/vnd.plotly.v1+json": {
       "config": {
        "plotlyServerURL": "https://plot.ly"
       },
       "data": [
        {
         "branchvalues": "total",
         "domain": {
          "x": [
           0,
           1
          ],
          "y": [
           0,
           1
          ]
         },
         "hovertemplate": "labels=%{label}<br>count=%{value}<br>parent=%{parent}<br>id=%{id}<extra></extra>",
         "ids": [
          "3/Manager/0",
          "4/Manager/0",
          "2/Sales Executive/0",
          "3/Sales Executive/0",
          "4/Sales Executive/0",
          "3/Sales Representative/0",
          "4/Sales Representative/0",
          "2/Manager/1",
          "3/Manager/1",
          "4/Manager/1",
          "2/Sales Executive/1",
          "3/Sales Executive/1",
          "4/Sales Executive/1",
          "3/Sales Representative/1",
          "3/Manager/2",
          "2/Sales Executive/2",
          "3/Sales Executive/2",
          "4/Sales Executive/2",
          "2/Sales Representative/2",
          "3/Sales Representative/2",
          "4/Sales Representative/2",
          "2/Sales Executive/3",
          "3/Sales Executive/3",
          "3/Sales Representative/3",
          "3/Manager/4",
          "2/Sales Executive/4",
          "3/Sales Executive/4",
          "4/Sales Executive/4",
          "2/Sales Executive/5",
          "3/Sales Executive/5",
          "4/Sales Executive/5",
          "2/Sales Representative/5",
          "3/Manager/6",
          "2/Sales Executive/6",
          "3/Sales Executive/6",
          "3/Sales Representative/6",
          "2/Manager/7",
          "3/Manager/7",
          "2/Sales Executive/7",
          "3/Sales Executive/7",
          "4/Sales Executive/7",
          "3/Sales Representative/7",
          "2/Manager/8",
          "3/Manager/8",
          "2/Sales Executive/8",
          "3/Sales Executive/8",
          "4/Sales Executive/8",
          "2/Sales Representative/8",
          "2/Manager/9",
          "4/Manager/9",
          "2/Sales Executive/9",
          "3/Sales Executive/9",
          "2/Manager/10",
          "4/Manager/10",
          "2/Sales Executive/10",
          "3/Sales Executive/10",
          "3/Sales Executive/11",
          "4/Sales Executive/11",
          "2/Manager/12",
          "3/Manager/12",
          "2/Sales Executive/12",
          "3/Sales Executive/12",
          "4/Sales Executive/12",
          "4/Manager/13",
          "2/Sales Executive/13",
          "3/Sales Executive/13",
          "2/Manager/14",
          "4/Manager/16",
          "3/Manager/17",
          "3/Sales Executive/17",
          "2/Manager",
          "3/Manager",
          "4/Manager",
          "2/Sales Executive",
          "3/Sales Executive",
          "4/Sales Executive",
          "2/Sales Representative",
          "3/Sales Representative",
          "4/Sales Representative",
          "2",
          "3",
          "4"
         ],
         "labels": [
          "0",
          "0",
          "0",
          "0",
          "0",
          "0",
          "0",
          "1",
          "1",
          "1",
          "1",
          "1",
          "1",
          "1",
          "2",
          "2",
          "2",
          "2",
          "2",
          "2",
          "2",
          "3",
          "3",
          "3",
          "4",
          "4",
          "4",
          "4",
          "5",
          "5",
          "5",
          "5",
          "6",
          "6",
          "6",
          "6",
          "7",
          "7",
          "7",
          "7",
          "7",
          "7",
          "8",
          "8",
          "8",
          "8",
          "8",
          "8",
          "9",
          "9",
          "9",
          "9",
          "10",
          "10",
          "10",
          "10",
          "11",
          "11",
          "12",
          "12",
          "12",
          "12",
          "12",
          "13",
          "13",
          "13",
          "14",
          "16",
          "17",
          "17",
          "Manager",
          "Manager",
          "Manager",
          "Sales Executive",
          "Sales Executive",
          "Sales Executive",
          "Sales Representative",
          "Sales Representative",
          "Sales Representative",
          "2",
          "3",
          "4"
         ],
         "name": "",
         "parents": [
          "3/Manager",
          "4/Manager",
          "2/Sales Executive",
          "3/Sales Executive",
          "4/Sales Executive",
          "3/Sales Representative",
          "4/Sales Representative",
          "2/Manager",
          "3/Manager",
          "4/Manager",
          "2/Sales Executive",
          "3/Sales Executive",
          "4/Sales Executive",
          "3/Sales Representative",
          "3/Manager",
          "2/Sales Executive",
          "3/Sales Executive",
          "4/Sales Executive",
          "2/Sales Representative",
          "3/Sales Representative",
          "4/Sales Representative",
          "2/Sales Executive",
          "3/Sales Executive",
          "3/Sales Representative",
          "3/Manager",
          "2/Sales Executive",
          "3/Sales Executive",
          "4/Sales Executive",
          "2/Sales Executive",
          "3/Sales Executive",
          "4/Sales Executive",
          "2/Sales Representative",
          "3/Manager",
          "2/Sales Executive",
          "3/Sales Executive",
          "3/Sales Representative",
          "2/Manager",
          "3/Manager",
          "2/Sales Executive",
          "3/Sales Executive",
          "4/Sales Executive",
          "3/Sales Representative",
          "2/Manager",
          "3/Manager",
          "2/Sales Executive",
          "3/Sales Executive",
          "4/Sales Executive",
          "2/Sales Representative",
          "2/Manager",
          "4/Manager",
          "2/Sales Executive",
          "3/Sales Executive",
          "2/Manager",
          "4/Manager",
          "2/Sales Executive",
          "3/Sales Executive",
          "3/Sales Executive",
          "4/Sales Executive",
          "2/Manager",
          "3/Manager",
          "2/Sales Executive",
          "3/Sales Executive",
          "4/Sales Executive",
          "4/Manager",
          "2/Sales Executive",
          "3/Sales Executive",
          "2/Manager",
          "4/Manager",
          "3/Manager",
          "3/Sales Executive",
          "2",
          "3",
          "4",
          "2",
          "3",
          "4",
          "2",
          "3",
          "4",
          "",
          "",
          ""
         ],
         "type": "sunburst",
         "values": [
          5,
          1,
          1,
          22,
          1,
          14,
          1,
          1,
          2,
          1,
          3,
          8,
          2,
          1,
          1,
          8,
          26,
          3,
          5,
          16,
          1,
          4,
          17,
          1,
          2,
          5,
          13,
          5,
          1,
          6,
          2,
          1,
          1,
          2,
          5,
          2,
          2,
          1,
          11,
          30,
          6,
          1,
          2,
          1,
          3,
          13,
          1,
          2,
          1,
          2,
          4,
          9,
          1,
          1,
          2,
          1,
          3,
          1,
          1,
          2,
          2,
          1,
          1,
          1,
          1,
          2,
          1,
          1,
          1,
          1,
          9,
          16,
          7,
          47,
          157,
          22,
          8,
          35,
          2,
          64,
          208,
          31
         ]
        }
       ],
       "layout": {
        "legend": {
         "tracegroupgap": 0
        },
        "margin": {
         "t": 60
        },
        "template": {
         "data": {
          "bar": [
           {
            "error_x": {
             "color": "#2a3f5f"
            },
            "error_y": {
             "color": "#2a3f5f"
            },
            "marker": {
             "line": {
              "color": "#E5ECF6",
              "width": 0.5
             },
             "pattern": {
              "fillmode": "overlay",
              "size": 10,
              "solidity": 0.2
             }
            },
            "type": "bar"
           }
          ],
          "barpolar": [
           {
            "marker": {
             "line": {
              "color": "#E5ECF6",
              "width": 0.5
             },
             "pattern": {
              "fillmode": "overlay",
              "size": 10,
              "solidity": 0.2
             }
            },
            "type": "barpolar"
           }
          ],
          "carpet": [
           {
            "aaxis": {
             "endlinecolor": "#2a3f5f",
             "gridcolor": "white",
             "linecolor": "white",
             "minorgridcolor": "white",
             "startlinecolor": "#2a3f5f"
            },
            "baxis": {
             "endlinecolor": "#2a3f5f",
             "gridcolor": "white",
             "linecolor": "white",
             "minorgridcolor": "white",
             "startlinecolor": "#2a3f5f"
            },
            "type": "carpet"
           }
          ],
          "choropleth": [
           {
            "colorbar": {
             "outlinewidth": 0,
             "ticks": ""
            },
            "type": "choropleth"
           }
          ],
          "contour": [
           {
            "colorbar": {
             "outlinewidth": 0,
             "ticks": ""
            },
            "colorscale": [
             [
              0,
              "#0d0887"
             ],
             [
              0.1111111111111111,
              "#46039f"
             ],
             [
              0.2222222222222222,
              "#7201a8"
             ],
             [
              0.3333333333333333,
              "#9c179e"
             ],
             [
              0.4444444444444444,
              "#bd3786"
             ],
             [
              0.5555555555555556,
              "#d8576b"
             ],
             [
              0.6666666666666666,
              "#ed7953"
             ],
             [
              0.7777777777777778,
              "#fb9f3a"
             ],
             [
              0.8888888888888888,
              "#fdca26"
             ],
             [
              1,
              "#f0f921"
             ]
            ],
            "type": "contour"
           }
          ],
          "contourcarpet": [
           {
            "colorbar": {
             "outlinewidth": 0,
             "ticks": ""
            },
            "type": "contourcarpet"
           }
          ],
          "heatmap": [
           {
            "colorbar": {
             "outlinewidth": 0,
             "ticks": ""
            },
            "colorscale": [
             [
              0,
              "#0d0887"
             ],
             [
              0.1111111111111111,
              "#46039f"
             ],
             [
              0.2222222222222222,
              "#7201a8"
             ],
             [
              0.3333333333333333,
              "#9c179e"
             ],
             [
              0.4444444444444444,
              "#bd3786"
             ],
             [
              0.5555555555555556,
              "#d8576b"
             ],
             [
              0.6666666666666666,
              "#ed7953"
             ],
             [
              0.7777777777777778,
              "#fb9f3a"
             ],
             [
              0.8888888888888888,
              "#fdca26"
             ],
             [
              1,
              "#f0f921"
             ]
            ],
            "type": "heatmap"
           }
          ],
          "heatmapgl": [
           {
            "colorbar": {
             "outlinewidth": 0,
             "ticks": ""
            },
            "colorscale": [
             [
              0,
              "#0d0887"
             ],
             [
              0.1111111111111111,
              "#46039f"
             ],
             [
              0.2222222222222222,
              "#7201a8"
             ],
             [
              0.3333333333333333,
              "#9c179e"
             ],
             [
              0.4444444444444444,
              "#bd3786"
             ],
             [
              0.5555555555555556,
              "#d8576b"
             ],
             [
              0.6666666666666666,
              "#ed7953"
             ],
             [
              0.7777777777777778,
              "#fb9f3a"
             ],
             [
              0.8888888888888888,
              "#fdca26"
             ],
             [
              1,
              "#f0f921"
             ]
            ],
            "type": "heatmapgl"
           }
          ],
          "histogram": [
           {
            "marker": {
             "pattern": {
              "fillmode": "overlay",
              "size": 10,
              "solidity": 0.2
             }
            },
            "type": "histogram"
           }
          ],
          "histogram2d": [
           {
            "colorbar": {
             "outlinewidth": 0,
             "ticks": ""
            },
            "colorscale": [
             [
              0,
              "#0d0887"
             ],
             [
              0.1111111111111111,
              "#46039f"
             ],
             [
              0.2222222222222222,
              "#7201a8"
             ],
             [
              0.3333333333333333,
              "#9c179e"
             ],
             [
              0.4444444444444444,
              "#bd3786"
             ],
             [
              0.5555555555555556,
              "#d8576b"
             ],
             [
              0.6666666666666666,
              "#ed7953"
             ],
             [
              0.7777777777777778,
              "#fb9f3a"
             ],
             [
              0.8888888888888888,
              "#fdca26"
             ],
             [
              1,
              "#f0f921"
             ]
            ],
            "type": "histogram2d"
           }
          ],
          "histogram2dcontour": [
           {
            "colorbar": {
             "outlinewidth": 0,
             "ticks": ""
            },
            "colorscale": [
             [
              0,
              "#0d0887"
             ],
             [
              0.1111111111111111,
              "#46039f"
             ],
             [
              0.2222222222222222,
              "#7201a8"
             ],
             [
              0.3333333333333333,
              "#9c179e"
             ],
             [
              0.4444444444444444,
              "#bd3786"
             ],
             [
              0.5555555555555556,
              "#d8576b"
             ],
             [
              0.6666666666666666,
              "#ed7953"
             ],
             [
              0.7777777777777778,
              "#fb9f3a"
             ],
             [
              0.8888888888888888,
              "#fdca26"
             ],
             [
              1,
              "#f0f921"
             ]
            ],
            "type": "histogram2dcontour"
           }
          ],
          "mesh3d": [
           {
            "colorbar": {
             "outlinewidth": 0,
             "ticks": ""
            },
            "type": "mesh3d"
           }
          ],
          "parcoords": [
           {
            "line": {
             "colorbar": {
              "outlinewidth": 0,
              "ticks": ""
             }
            },
            "type": "parcoords"
           }
          ],
          "pie": [
           {
            "automargin": true,
            "type": "pie"
           }
          ],
          "scatter": [
           {
            "fillpattern": {
             "fillmode": "overlay",
             "size": 10,
             "solidity": 0.2
            },
            "type": "scatter"
           }
          ],
          "scatter3d": [
           {
            "line": {
             "colorbar": {
              "outlinewidth": 0,
              "ticks": ""
             }
            },
            "marker": {
             "colorbar": {
              "outlinewidth": 0,
              "ticks": ""
             }
            },
            "type": "scatter3d"
           }
          ],
          "scattercarpet": [
           {
            "marker": {
             "colorbar": {
              "outlinewidth": 0,
              "ticks": ""
             }
            },
            "type": "scattercarpet"
           }
          ],
          "scattergeo": [
           {
            "marker": {
             "colorbar": {
              "outlinewidth": 0,
              "ticks": ""
             }
            },
            "type": "scattergeo"
           }
          ],
          "scattergl": [
           {
            "marker": {
             "colorbar": {
              "outlinewidth": 0,
              "ticks": ""
             }
            },
            "type": "scattergl"
           }
          ],
          "scattermapbox": [
           {
            "marker": {
             "colorbar": {
              "outlinewidth": 0,
              "ticks": ""
             }
            },
            "type": "scattermapbox"
           }
          ],
          "scatterpolar": [
           {
            "marker": {
             "colorbar": {
              "outlinewidth": 0,
              "ticks": ""
             }
            },
            "type": "scatterpolar"
           }
          ],
          "scatterpolargl": [
           {
            "marker": {
             "colorbar": {
              "outlinewidth": 0,
              "ticks": ""
             }
            },
            "type": "scatterpolargl"
           }
          ],
          "scatterternary": [
           {
            "marker": {
             "colorbar": {
              "outlinewidth": 0,
              "ticks": ""
             }
            },
            "type": "scatterternary"
           }
          ],
          "surface": [
           {
            "colorbar": {
             "outlinewidth": 0,
             "ticks": ""
            },
            "colorscale": [
             [
              0,
              "#0d0887"
             ],
             [
              0.1111111111111111,
              "#46039f"
             ],
             [
              0.2222222222222222,
              "#7201a8"
             ],
             [
              0.3333333333333333,
              "#9c179e"
             ],
             [
              0.4444444444444444,
              "#bd3786"
             ],
             [
              0.5555555555555556,
              "#d8576b"
             ],
             [
              0.6666666666666666,
              "#ed7953"
             ],
             [
              0.7777777777777778,
              "#fb9f3a"
             ],
             [
              0.8888888888888888,
              "#fdca26"
             ],
             [
              1,
              "#f0f921"
             ]
            ],
            "type": "surface"
           }
          ],
          "table": [
           {
            "cells": {
             "fill": {
              "color": "#EBF0F8"
             },
             "line": {
              "color": "white"
             }
            },
            "header": {
             "fill": {
              "color": "#C8D4E3"
             },
             "line": {
              "color": "white"
             }
            },
            "type": "table"
           }
          ]
         },
         "layout": {
          "annotationdefaults": {
           "arrowcolor": "#2a3f5f",
           "arrowhead": 0,
           "arrowwidth": 1
          },
          "autotypenumbers": "strict",
          "coloraxis": {
           "colorbar": {
            "outlinewidth": 0,
            "ticks": ""
           }
          },
          "colorscale": {
           "diverging": [
            [
             0,
             "#8e0152"
            ],
            [
             0.1,
             "#c51b7d"
            ],
            [
             0.2,
             "#de77ae"
            ],
            [
             0.3,
             "#f1b6da"
            ],
            [
             0.4,
             "#fde0ef"
            ],
            [
             0.5,
             "#f7f7f7"
            ],
            [
             0.6,
             "#e6f5d0"
            ],
            [
             0.7,
             "#b8e186"
            ],
            [
             0.8,
             "#7fbc41"
            ],
            [
             0.9,
             "#4d9221"
            ],
            [
             1,
             "#276419"
            ]
           ],
           "sequential": [
            [
             0,
             "#0d0887"
            ],
            [
             0.1111111111111111,
             "#46039f"
            ],
            [
             0.2222222222222222,
             "#7201a8"
            ],
            [
             0.3333333333333333,
             "#9c179e"
            ],
            [
             0.4444444444444444,
             "#bd3786"
            ],
            [
             0.5555555555555556,
             "#d8576b"
            ],
            [
             0.6666666666666666,
             "#ed7953"
            ],
            [
             0.7777777777777778,
             "#fb9f3a"
            ],
            [
             0.8888888888888888,
             "#fdca26"
            ],
            [
             1,
             "#f0f921"
            ]
           ],
           "sequentialminus": [
            [
             0,
             "#0d0887"
            ],
            [
             0.1111111111111111,
             "#46039f"
            ],
            [
             0.2222222222222222,
             "#7201a8"
            ],
            [
             0.3333333333333333,
             "#9c179e"
            ],
            [
             0.4444444444444444,
             "#bd3786"
            ],
            [
             0.5555555555555556,
             "#d8576b"
            ],
            [
             0.6666666666666666,
             "#ed7953"
            ],
            [
             0.7777777777777778,
             "#fb9f3a"
            ],
            [
             0.8888888888888888,
             "#fdca26"
            ],
            [
             1,
             "#f0f921"
            ]
           ]
          },
          "colorway": [
           "#636efa",
           "#EF553B",
           "#00cc96",
           "#ab63fa",
           "#FFA15A",
           "#19d3f3",
           "#FF6692",
           "#B6E880",
           "#FF97FF",
           "#FECB52"
          ],
          "font": {
           "color": "#2a3f5f"
          },
          "geo": {
           "bgcolor": "white",
           "lakecolor": "white",
           "landcolor": "#E5ECF6",
           "showlakes": true,
           "showland": true,
           "subunitcolor": "white"
          },
          "hoverlabel": {
           "align": "left"
          },
          "hovermode": "closest",
          "mapbox": {
           "style": "light"
          },
          "paper_bgcolor": "white",
          "plot_bgcolor": "#E5ECF6",
          "polar": {
           "angularaxis": {
            "gridcolor": "white",
            "linecolor": "white",
            "ticks": ""
           },
           "bgcolor": "#E5ECF6",
           "radialaxis": {
            "gridcolor": "white",
            "linecolor": "white",
            "ticks": ""
           }
          },
          "scene": {
           "xaxis": {
            "backgroundcolor": "#E5ECF6",
            "gridcolor": "white",
            "gridwidth": 2,
            "linecolor": "white",
            "showbackground": true,
            "ticks": "",
            "zerolinecolor": "white"
           },
           "yaxis": {
            "backgroundcolor": "#E5ECF6",
            "gridcolor": "white",
            "gridwidth": 2,
            "linecolor": "white",
            "showbackground": true,
            "ticks": "",
            "zerolinecolor": "white"
           },
           "zaxis": {
            "backgroundcolor": "#E5ECF6",
            "gridcolor": "white",
            "gridwidth": 2,
            "linecolor": "white",
            "showbackground": true,
            "ticks": "",
            "zerolinecolor": "white"
           }
          },
          "shapedefaults": {
           "line": {
            "color": "#2a3f5f"
           }
          },
          "ternary": {
           "aaxis": {
            "gridcolor": "white",
            "linecolor": "white",
            "ticks": ""
           },
           "baxis": {
            "gridcolor": "white",
            "linecolor": "white",
            "ticks": ""
           },
           "bgcolor": "#E5ECF6",
           "caxis": {
            "gridcolor": "white",
            "linecolor": "white",
            "ticks": ""
           }
          },
          "title": {
           "x": 0.05
          },
          "xaxis": {
           "automargin": true,
           "gridcolor": "white",
           "linecolor": "white",
           "ticks": "",
           "title": {
            "standoff": 15
           },
           "zerolinecolor": "white",
           "zerolinewidth": 2
          },
          "yaxis": {
           "automargin": true,
           "gridcolor": "white",
           "linecolor": "white",
           "ticks": "",
           "title": {
            "standoff": 15
           },
           "zerolinecolor": "white",
           "zerolinewidth": 2
          }
         }
        }
       }
      },
      "text/html": [
       "<div>                            <div id=\"21f83932-84e8-48e0-8689-042ea5892919\" class=\"plotly-graph-div\" style=\"height:525px; width:100%;\"></div>            <script type=\"text/javascript\">                require([\"plotly\"], function(Plotly) {                    window.PLOTLYENV=window.PLOTLYENV || {};                                    if (document.getElementById(\"21f83932-84e8-48e0-8689-042ea5892919\")) {                    Plotly.newPlot(                        \"21f83932-84e8-48e0-8689-042ea5892919\",                        [{\"branchvalues\":\"total\",\"domain\":{\"x\":[0.0,1.0],\"y\":[0.0,1.0]},\"hovertemplate\":\"labels=%{label}<br>count=%{value}<br>parent=%{parent}<br>id=%{id}<extra></extra>\",\"ids\":[\"3/Manager/0\",\"4/Manager/0\",\"2/Sales Executive/0\",\"3/Sales Executive/0\",\"4/Sales Executive/0\",\"3/Sales Representative/0\",\"4/Sales Representative/0\",\"2/Manager/1\",\"3/Manager/1\",\"4/Manager/1\",\"2/Sales Executive/1\",\"3/Sales Executive/1\",\"4/Sales Executive/1\",\"3/Sales Representative/1\",\"3/Manager/2\",\"2/Sales Executive/2\",\"3/Sales Executive/2\",\"4/Sales Executive/2\",\"2/Sales Representative/2\",\"3/Sales Representative/2\",\"4/Sales Representative/2\",\"2/Sales Executive/3\",\"3/Sales Executive/3\",\"3/Sales Representative/3\",\"3/Manager/4\",\"2/Sales Executive/4\",\"3/Sales Executive/4\",\"4/Sales Executive/4\",\"2/Sales Executive/5\",\"3/Sales Executive/5\",\"4/Sales Executive/5\",\"2/Sales Representative/5\",\"3/Manager/6\",\"2/Sales Executive/6\",\"3/Sales Executive/6\",\"3/Sales Representative/6\",\"2/Manager/7\",\"3/Manager/7\",\"2/Sales Executive/7\",\"3/Sales Executive/7\",\"4/Sales Executive/7\",\"3/Sales Representative/7\",\"2/Manager/8\",\"3/Manager/8\",\"2/Sales Executive/8\",\"3/Sales Executive/8\",\"4/Sales Executive/8\",\"2/Sales Representative/8\",\"2/Manager/9\",\"4/Manager/9\",\"2/Sales Executive/9\",\"3/Sales Executive/9\",\"2/Manager/10\",\"4/Manager/10\",\"2/Sales Executive/10\",\"3/Sales Executive/10\",\"3/Sales Executive/11\",\"4/Sales Executive/11\",\"2/Manager/12\",\"3/Manager/12\",\"2/Sales Executive/12\",\"3/Sales Executive/12\",\"4/Sales Executive/12\",\"4/Manager/13\",\"2/Sales Executive/13\",\"3/Sales Executive/13\",\"2/Manager/14\",\"4/Manager/16\",\"3/Manager/17\",\"3/Sales Executive/17\",\"2/Manager\",\"3/Manager\",\"4/Manager\",\"2/Sales Executive\",\"3/Sales Executive\",\"4/Sales Executive\",\"2/Sales Representative\",\"3/Sales Representative\",\"4/Sales Representative\",\"2\",\"3\",\"4\"],\"labels\":[\"0\",\"0\",\"0\",\"0\",\"0\",\"0\",\"0\",\"1\",\"1\",\"1\",\"1\",\"1\",\"1\",\"1\",\"2\",\"2\",\"2\",\"2\",\"2\",\"2\",\"2\",\"3\",\"3\",\"3\",\"4\",\"4\",\"4\",\"4\",\"5\",\"5\",\"5\",\"5\",\"6\",\"6\",\"6\",\"6\",\"7\",\"7\",\"7\",\"7\",\"7\",\"7\",\"8\",\"8\",\"8\",\"8\",\"8\",\"8\",\"9\",\"9\",\"9\",\"9\",\"10\",\"10\",\"10\",\"10\",\"11\",\"11\",\"12\",\"12\",\"12\",\"12\",\"12\",\"13\",\"13\",\"13\",\"14\",\"16\",\"17\",\"17\",\"Manager\",\"Manager\",\"Manager\",\"Sales Executive\",\"Sales Executive\",\"Sales Executive\",\"Sales Representative\",\"Sales Representative\",\"Sales Representative\",\"2\",\"3\",\"4\"],\"name\":\"\",\"parents\":[\"3/Manager\",\"4/Manager\",\"2/Sales Executive\",\"3/Sales Executive\",\"4/Sales Executive\",\"3/Sales Representative\",\"4/Sales Representative\",\"2/Manager\",\"3/Manager\",\"4/Manager\",\"2/Sales Executive\",\"3/Sales Executive\",\"4/Sales Executive\",\"3/Sales Representative\",\"3/Manager\",\"2/Sales Executive\",\"3/Sales Executive\",\"4/Sales Executive\",\"2/Sales Representative\",\"3/Sales Representative\",\"4/Sales Representative\",\"2/Sales Executive\",\"3/Sales Executive\",\"3/Sales Representative\",\"3/Manager\",\"2/Sales Executive\",\"3/Sales Executive\",\"4/Sales Executive\",\"2/Sales Executive\",\"3/Sales Executive\",\"4/Sales Executive\",\"2/Sales Representative\",\"3/Manager\",\"2/Sales Executive\",\"3/Sales Executive\",\"3/Sales Representative\",\"2/Manager\",\"3/Manager\",\"2/Sales Executive\",\"3/Sales Executive\",\"4/Sales Executive\",\"3/Sales Representative\",\"2/Manager\",\"3/Manager\",\"2/Sales Executive\",\"3/Sales Executive\",\"4/Sales Executive\",\"2/Sales Representative\",\"2/Manager\",\"4/Manager\",\"2/Sales Executive\",\"3/Sales Executive\",\"2/Manager\",\"4/Manager\",\"2/Sales Executive\",\"3/Sales Executive\",\"3/Sales Executive\",\"4/Sales Executive\",\"2/Manager\",\"3/Manager\",\"2/Sales Executive\",\"3/Sales Executive\",\"4/Sales Executive\",\"4/Manager\",\"2/Sales Executive\",\"3/Sales Executive\",\"2/Manager\",\"4/Manager\",\"3/Manager\",\"3/Sales Executive\",\"2\",\"3\",\"4\",\"2\",\"3\",\"4\",\"2\",\"3\",\"4\",\"\",\"\",\"\"],\"values\":[5,1,1,22,1,14,1,1,2,1,3,8,2,1,1,8,26,3,5,16,1,4,17,1,2,5,13,5,1,6,2,1,1,2,5,2,2,1,11,30,6,1,2,1,3,13,1,2,1,2,4,9,1,1,2,1,3,1,1,2,2,1,1,1,1,2,1,1,1,1,9,16,7,47,157,22,8,35,2,64,208,31],\"type\":\"sunburst\"}],                        {\"template\":{\"data\":{\"histogram2dcontour\":[{\"type\":\"histogram2dcontour\",\"colorbar\":{\"outlinewidth\":0,\"ticks\":\"\"},\"colorscale\":[[0.0,\"#0d0887\"],[0.1111111111111111,\"#46039f\"],[0.2222222222222222,\"#7201a8\"],[0.3333333333333333,\"#9c179e\"],[0.4444444444444444,\"#bd3786\"],[0.5555555555555556,\"#d8576b\"],[0.6666666666666666,\"#ed7953\"],[0.7777777777777778,\"#fb9f3a\"],[0.8888888888888888,\"#fdca26\"],[1.0,\"#f0f921\"]]}],\"choropleth\":[{\"type\":\"choropleth\",\"colorbar\":{\"outlinewidth\":0,\"ticks\":\"\"}}],\"histogram2d\":[{\"type\":\"histogram2d\",\"colorbar\":{\"outlinewidth\":0,\"ticks\":\"\"},\"colorscale\":[[0.0,\"#0d0887\"],[0.1111111111111111,\"#46039f\"],[0.2222222222222222,\"#7201a8\"],[0.3333333333333333,\"#9c179e\"],[0.4444444444444444,\"#bd3786\"],[0.5555555555555556,\"#d8576b\"],[0.6666666666666666,\"#ed7953\"],[0.7777777777777778,\"#fb9f3a\"],[0.8888888888888888,\"#fdca26\"],[1.0,\"#f0f921\"]]}],\"heatmap\":[{\"type\":\"heatmap\",\"colorbar\":{\"outlinewidth\":0,\"ticks\":\"\"},\"colorscale\":[[0.0,\"#0d0887\"],[0.1111111111111111,\"#46039f\"],[0.2222222222222222,\"#7201a8\"],[0.3333333333333333,\"#9c179e\"],[0.4444444444444444,\"#bd3786\"],[0.5555555555555556,\"#d8576b\"],[0.6666666666666666,\"#ed7953\"],[0.7777777777777778,\"#fb9f3a\"],[0.8888888888888888,\"#fdca26\"],[1.0,\"#f0f921\"]]}],\"heatmapgl\":[{\"type\":\"heatmapgl\",\"colorbar\":{\"outlinewidth\":0,\"ticks\":\"\"},\"colorscale\":[[0.0,\"#0d0887\"],[0.1111111111111111,\"#46039f\"],[0.2222222222222222,\"#7201a8\"],[0.3333333333333333,\"#9c179e\"],[0.4444444444444444,\"#bd3786\"],[0.5555555555555556,\"#d8576b\"],[0.6666666666666666,\"#ed7953\"],[0.7777777777777778,\"#fb9f3a\"],[0.8888888888888888,\"#fdca26\"],[1.0,\"#f0f921\"]]}],\"contourcarpet\":[{\"type\":\"contourcarpet\",\"colorbar\":{\"outlinewidth\":0,\"ticks\":\"\"}}],\"contour\":[{\"type\":\"contour\",\"colorbar\":{\"outlinewidth\":0,\"ticks\":\"\"},\"colorscale\":[[0.0,\"#0d0887\"],[0.1111111111111111,\"#46039f\"],[0.2222222222222222,\"#7201a8\"],[0.3333333333333333,\"#9c179e\"],[0.4444444444444444,\"#bd3786\"],[0.5555555555555556,\"#d8576b\"],[0.6666666666666666,\"#ed7953\"],[0.7777777777777778,\"#fb9f3a\"],[0.8888888888888888,\"#fdca26\"],[1.0,\"#f0f921\"]]}],\"surface\":[{\"type\":\"surface\",\"colorbar\":{\"outlinewidth\":0,\"ticks\":\"\"},\"colorscale\":[[0.0,\"#0d0887\"],[0.1111111111111111,\"#46039f\"],[0.2222222222222222,\"#7201a8\"],[0.3333333333333333,\"#9c179e\"],[0.4444444444444444,\"#bd3786\"],[0.5555555555555556,\"#d8576b\"],[0.6666666666666666,\"#ed7953\"],[0.7777777777777778,\"#fb9f3a\"],[0.8888888888888888,\"#fdca26\"],[1.0,\"#f0f921\"]]}],\"mesh3d\":[{\"type\":\"mesh3d\",\"colorbar\":{\"outlinewidth\":0,\"ticks\":\"\"}}],\"scatter\":[{\"fillpattern\":{\"fillmode\":\"overlay\",\"size\":10,\"solidity\":0.2},\"type\":\"scatter\"}],\"parcoords\":[{\"type\":\"parcoords\",\"line\":{\"colorbar\":{\"outlinewidth\":0,\"ticks\":\"\"}}}],\"scatterpolargl\":[{\"type\":\"scatterpolargl\",\"marker\":{\"colorbar\":{\"outlinewidth\":0,\"ticks\":\"\"}}}],\"bar\":[{\"error_x\":{\"color\":\"#2a3f5f\"},\"error_y\":{\"color\":\"#2a3f5f\"},\"marker\":{\"line\":{\"color\":\"#E5ECF6\",\"width\":0.5},\"pattern\":{\"fillmode\":\"overlay\",\"size\":10,\"solidity\":0.2}},\"type\":\"bar\"}],\"scattergeo\":[{\"type\":\"scattergeo\",\"marker\":{\"colorbar\":{\"outlinewidth\":0,\"ticks\":\"\"}}}],\"scatterpolar\":[{\"type\":\"scatterpolar\",\"marker\":{\"colorbar\":{\"outlinewidth\":0,\"ticks\":\"\"}}}],\"histogram\":[{\"marker\":{\"pattern\":{\"fillmode\":\"overlay\",\"size\":10,\"solidity\":0.2}},\"type\":\"histogram\"}],\"scattergl\":[{\"type\":\"scattergl\",\"marker\":{\"colorbar\":{\"outlinewidth\":0,\"ticks\":\"\"}}}],\"scatter3d\":[{\"type\":\"scatter3d\",\"line\":{\"colorbar\":{\"outlinewidth\":0,\"ticks\":\"\"}},\"marker\":{\"colorbar\":{\"outlinewidth\":0,\"ticks\":\"\"}}}],\"scattermapbox\":[{\"type\":\"scattermapbox\",\"marker\":{\"colorbar\":{\"outlinewidth\":0,\"ticks\":\"\"}}}],\"scatterternary\":[{\"type\":\"scatterternary\",\"marker\":{\"colorbar\":{\"outlinewidth\":0,\"ticks\":\"\"}}}],\"scattercarpet\":[{\"type\":\"scattercarpet\",\"marker\":{\"colorbar\":{\"outlinewidth\":0,\"ticks\":\"\"}}}],\"carpet\":[{\"aaxis\":{\"endlinecolor\":\"#2a3f5f\",\"gridcolor\":\"white\",\"linecolor\":\"white\",\"minorgridcolor\":\"white\",\"startlinecolor\":\"#2a3f5f\"},\"baxis\":{\"endlinecolor\":\"#2a3f5f\",\"gridcolor\":\"white\",\"linecolor\":\"white\",\"minorgridcolor\":\"white\",\"startlinecolor\":\"#2a3f5f\"},\"type\":\"carpet\"}],\"table\":[{\"cells\":{\"fill\":{\"color\":\"#EBF0F8\"},\"line\":{\"color\":\"white\"}},\"header\":{\"fill\":{\"color\":\"#C8D4E3\"},\"line\":{\"color\":\"white\"}},\"type\":\"table\"}],\"barpolar\":[{\"marker\":{\"line\":{\"color\":\"#E5ECF6\",\"width\":0.5},\"pattern\":{\"fillmode\":\"overlay\",\"size\":10,\"solidity\":0.2}},\"type\":\"barpolar\"}],\"pie\":[{\"automargin\":true,\"type\":\"pie\"}]},\"layout\":{\"autotypenumbers\":\"strict\",\"colorway\":[\"#636efa\",\"#EF553B\",\"#00cc96\",\"#ab63fa\",\"#FFA15A\",\"#19d3f3\",\"#FF6692\",\"#B6E880\",\"#FF97FF\",\"#FECB52\"],\"font\":{\"color\":\"#2a3f5f\"},\"hovermode\":\"closest\",\"hoverlabel\":{\"align\":\"left\"},\"paper_bgcolor\":\"white\",\"plot_bgcolor\":\"#E5ECF6\",\"polar\":{\"bgcolor\":\"#E5ECF6\",\"angularaxis\":{\"gridcolor\":\"white\",\"linecolor\":\"white\",\"ticks\":\"\"},\"radialaxis\":{\"gridcolor\":\"white\",\"linecolor\":\"white\",\"ticks\":\"\"}},\"ternary\":{\"bgcolor\":\"#E5ECF6\",\"aaxis\":{\"gridcolor\":\"white\",\"linecolor\":\"white\",\"ticks\":\"\"},\"baxis\":{\"gridcolor\":\"white\",\"linecolor\":\"white\",\"ticks\":\"\"},\"caxis\":{\"gridcolor\":\"white\",\"linecolor\":\"white\",\"ticks\":\"\"}},\"coloraxis\":{\"colorbar\":{\"outlinewidth\":0,\"ticks\":\"\"}},\"colorscale\":{\"sequential\":[[0.0,\"#0d0887\"],[0.1111111111111111,\"#46039f\"],[0.2222222222222222,\"#7201a8\"],[0.3333333333333333,\"#9c179e\"],[0.4444444444444444,\"#bd3786\"],[0.5555555555555556,\"#d8576b\"],[0.6666666666666666,\"#ed7953\"],[0.7777777777777778,\"#fb9f3a\"],[0.8888888888888888,\"#fdca26\"],[1.0,\"#f0f921\"]],\"sequentialminus\":[[0.0,\"#0d0887\"],[0.1111111111111111,\"#46039f\"],[0.2222222222222222,\"#7201a8\"],[0.3333333333333333,\"#9c179e\"],[0.4444444444444444,\"#bd3786\"],[0.5555555555555556,\"#d8576b\"],[0.6666666666666666,\"#ed7953\"],[0.7777777777777778,\"#fb9f3a\"],[0.8888888888888888,\"#fdca26\"],[1.0,\"#f0f921\"]],\"diverging\":[[0,\"#8e0152\"],[0.1,\"#c51b7d\"],[0.2,\"#de77ae\"],[0.3,\"#f1b6da\"],[0.4,\"#fde0ef\"],[0.5,\"#f7f7f7\"],[0.6,\"#e6f5d0\"],[0.7,\"#b8e186\"],[0.8,\"#7fbc41\"],[0.9,\"#4d9221\"],[1,\"#276419\"]]},\"xaxis\":{\"gridcolor\":\"white\",\"linecolor\":\"white\",\"ticks\":\"\",\"title\":{\"standoff\":15},\"zerolinecolor\":\"white\",\"automargin\":true,\"zerolinewidth\":2},\"yaxis\":{\"gridcolor\":\"white\",\"linecolor\":\"white\",\"ticks\":\"\",\"title\":{\"standoff\":15},\"zerolinecolor\":\"white\",\"automargin\":true,\"zerolinewidth\":2},\"scene\":{\"xaxis\":{\"backgroundcolor\":\"#E5ECF6\",\"gridcolor\":\"white\",\"linecolor\":\"white\",\"showbackground\":true,\"ticks\":\"\",\"zerolinecolor\":\"white\",\"gridwidth\":2},\"yaxis\":{\"backgroundcolor\":\"#E5ECF6\",\"gridcolor\":\"white\",\"linecolor\":\"white\",\"showbackground\":true,\"ticks\":\"\",\"zerolinecolor\":\"white\",\"gridwidth\":2},\"zaxis\":{\"backgroundcolor\":\"#E5ECF6\",\"gridcolor\":\"white\",\"linecolor\":\"white\",\"showbackground\":true,\"ticks\":\"\",\"zerolinecolor\":\"white\",\"gridwidth\":2}},\"shapedefaults\":{\"line\":{\"color\":\"#2a3f5f\"}},\"annotationdefaults\":{\"arrowcolor\":\"#2a3f5f\",\"arrowhead\":0,\"arrowwidth\":1},\"geo\":{\"bgcolor\":\"white\",\"landcolor\":\"#E5ECF6\",\"subunitcolor\":\"white\",\"showland\":true,\"showlakes\":true,\"lakecolor\":\"white\"},\"title\":{\"x\":0.05},\"mapbox\":{\"style\":\"light\"}}},\"legend\":{\"tracegroupgap\":0},\"margin\":{\"t\":60}},                        {\"responsive\": true}                    ).then(function(){\n",
       "                            \n",
       "var gd = document.getElementById('21f83932-84e8-48e0-8689-042ea5892919');\n",
       "var x = new MutationObserver(function (mutations, observer) {{\n",
       "        var display = window.getComputedStyle(gd).display;\n",
       "        if (!display || display === 'none') {{\n",
       "            console.log([gd, 'removed!']);\n",
       "            Plotly.purge(gd);\n",
       "            observer.disconnect();\n",
       "        }}\n",
       "}});\n",
       "\n",
       "// Listen for the removal of the full notebook cells\n",
       "var notebookContainer = gd.closest('#notebook-container');\n",
       "if (notebookContainer) {{\n",
       "    x.observe(notebookContainer, {childList: true});\n",
       "}}\n",
       "\n",
       "// Listen for the clearing of the current output cell\n",
       "var outputEl = gd.closest('.output');\n",
       "if (outputEl) {{\n",
       "    x.observe(outputEl, {childList: true});\n",
       "}}\n",
       "\n",
       "                        })                };                });            </script>        </div>"
      ]
     },
     "metadata": {},
     "output_type": "display_data"
    }
   ],
   "source": [
    "# 1) Analysis of Management Issues in the Sales Department with various correlated parameter\n",
    "\n",
    "fig=px.sunburst(df_sales, path=['PerformanceRating','EmpJobRole','YearsWithCurrManager'])\n",
    "fig.show()\n",
    "\n",
    "# 47 Sales Executive showing underlying performance have 2 & 7 years of experience with current manager\n",
    "# 8 Sales Representative showing underlying performance have 2 years of experience with current manager\n",
    "# 9 Sales Manager showing underlying performance have 7 years of experience with current manager"
   ]
  },
  {
   "cell_type": "code",
   "execution_count": 61,
   "id": "aaf1f5cc",
   "metadata": {},
   "outputs": [
    {
     "data": {
      "application/vnd.plotly.v1+json": {
       "config": {
        "plotlyServerURL": "https://plot.ly"
       },
       "data": [
        {
         "branchvalues": "total",
         "domain": {
          "x": [
           0,
           1
          ],
          "y": [
           0,
           1
          ]
         },
         "hovertemplate": "labels=%{label}<br>count=%{value}<br>parent=%{parent}<br>id=%{id}<extra></extra>",
         "ids": [
          "3/Sales Executive/0",
          "3/Sales Representative/0",
          "3/Manager/1",
          "4/Manager/1",
          "3/Sales Executive/1",
          "3/Sales Representative/1",
          "4/Sales Representative/1",
          "2/Manager/2",
          "2/Sales Executive/2",
          "3/Sales Executive/2",
          "2/Sales Representative/2",
          "3/Sales Representative/2",
          "2/Sales Executive/3",
          "3/Sales Executive/3",
          "4/Sales Executive/3",
          "2/Sales Representative/3",
          "3/Sales Representative/3",
          "4/Sales Representative/3",
          "2/Sales Executive/4",
          "3/Sales Executive/4",
          "3/Sales Representative/4",
          "4/Manager/5",
          "2/Sales Executive/5",
          "3/Sales Executive/5",
          "4/Sales Executive/5",
          "2/Sales Representative/5",
          "3/Sales Representative/5",
          "3/Manager/6",
          "2/Sales Executive/6",
          "3/Sales Executive/6",
          "4/Sales Executive/6",
          "3/Manager/7",
          "2/Sales Executive/7",
          "3/Sales Executive/7",
          "4/Sales Executive/7",
          "2/Sales Representative/7",
          "3/Sales Representative/7",
          "2/Sales Executive/8",
          "3/Sales Executive/8",
          "4/Sales Executive/8",
          "3/Sales Representative/8",
          "3/Manager/9",
          "2/Sales Executive/9",
          "3/Sales Executive/9",
          "2/Sales Representative/9",
          "3/Sales Representative/9",
          "2/Manager/10",
          "3/Manager/10",
          "2/Sales Executive/10",
          "3/Sales Executive/10",
          "4/Sales Executive/10",
          "3/Manager/11",
          "2/Sales Executive/11",
          "3/Sales Executive/11",
          "2/Manager/12",
          "2/Sales Executive/12",
          "3/Sales Executive/12",
          "3/Manager/13",
          "2/Sales Executive/13",
          "3/Sales Executive/13",
          "3/Sales Representative/13",
          "2/Sales Executive/14",
          "3/Sales Executive/14",
          "2/Sales Executive/15",
          "3/Sales Executive/15",
          "4/Sales Executive/15",
          "2/Manager/16",
          "3/Manager/17",
          "4/Manager/17",
          "2/Manager/18",
          "3/Sales Executive/18",
          "4/Sales Executive/18",
          "2/Sales Executive/19",
          "3/Sales Executive/19",
          "3/Manager/20",
          "2/Sales Executive/20",
          "3/Sales Executive/20",
          "2/Manager/21",
          "2/Sales Executive/21",
          "3/Sales Executive/21",
          "2/Manager/22",
          "3/Manager/22",
          "3/Sales Executive/22",
          "2/Sales Executive/24",
          "2/Manager/25",
          "3/Manager/25",
          "4/Manager/26",
          "4/Manager/29",
          "2/Manager/33",
          "4/Manager/34",
          "4/Manager/36",
          "3/Sales Executive/37",
          "2/Manager",
          "3/Manager",
          "4/Manager",
          "2/Sales Executive",
          "3/Sales Executive",
          "4/Sales Executive",
          "2/Sales Representative",
          "3/Sales Representative",
          "4/Sales Representative",
          "2",
          "3",
          "4"
         ],
         "labels": [
          "0",
          "0",
          "1",
          "1",
          "1",
          "1",
          "1",
          "2",
          "2",
          "2",
          "2",
          "2",
          "3",
          "3",
          "3",
          "3",
          "3",
          "3",
          "4",
          "4",
          "4",
          "5",
          "5",
          "5",
          "5",
          "5",
          "5",
          "6",
          "6",
          "6",
          "6",
          "7",
          "7",
          "7",
          "7",
          "7",
          "7",
          "8",
          "8",
          "8",
          "8",
          "9",
          "9",
          "9",
          "9",
          "9",
          "10",
          "10",
          "10",
          "10",
          "10",
          "11",
          "11",
          "11",
          "12",
          "12",
          "12",
          "13",
          "13",
          "13",
          "13",
          "14",
          "14",
          "15",
          "15",
          "15",
          "16",
          "17",
          "17",
          "18",
          "18",
          "18",
          "19",
          "19",
          "20",
          "20",
          "20",
          "21",
          "21",
          "21",
          "22",
          "22",
          "22",
          "24",
          "25",
          "25",
          "26",
          "29",
          "33",
          "34",
          "36",
          "37",
          "Manager",
          "Manager",
          "Manager",
          "Sales Executive",
          "Sales Executive",
          "Sales Executive",
          "Sales Representative",
          "Sales Representative",
          "Sales Representative",
          "2",
          "3",
          "4"
         ],
         "name": "",
         "parents": [
          "3/Sales Executive",
          "3/Sales Representative",
          "3/Manager",
          "4/Manager",
          "3/Sales Executive",
          "3/Sales Representative",
          "4/Sales Representative",
          "2/Manager",
          "2/Sales Executive",
          "3/Sales Executive",
          "2/Sales Representative",
          "3/Sales Representative",
          "2/Sales Executive",
          "3/Sales Executive",
          "4/Sales Executive",
          "2/Sales Representative",
          "3/Sales Representative",
          "4/Sales Representative",
          "2/Sales Executive",
          "3/Sales Executive",
          "3/Sales Representative",
          "4/Manager",
          "2/Sales Executive",
          "3/Sales Executive",
          "4/Sales Executive",
          "2/Sales Representative",
          "3/Sales Representative",
          "3/Manager",
          "2/Sales Executive",
          "3/Sales Executive",
          "4/Sales Executive",
          "3/Manager",
          "2/Sales Executive",
          "3/Sales Executive",
          "4/Sales Executive",
          "2/Sales Representative",
          "3/Sales Representative",
          "2/Sales Executive",
          "3/Sales Executive",
          "4/Sales Executive",
          "3/Sales Representative",
          "3/Manager",
          "2/Sales Executive",
          "3/Sales Executive",
          "2/Sales Representative",
          "3/Sales Representative",
          "2/Manager",
          "3/Manager",
          "2/Sales Executive",
          "3/Sales Executive",
          "4/Sales Executive",
          "3/Manager",
          "2/Sales Executive",
          "3/Sales Executive",
          "2/Manager",
          "2/Sales Executive",
          "3/Sales Executive",
          "3/Manager",
          "2/Sales Executive",
          "3/Sales Executive",
          "3/Sales Representative",
          "2/Sales Executive",
          "3/Sales Executive",
          "2/Sales Executive",
          "3/Sales Executive",
          "4/Sales Executive",
          "2/Manager",
          "3/Manager",
          "4/Manager",
          "2/Manager",
          "3/Sales Executive",
          "4/Sales Executive",
          "2/Sales Executive",
          "3/Sales Executive",
          "3/Manager",
          "2/Sales Executive",
          "3/Sales Executive",
          "2/Manager",
          "2/Sales Executive",
          "3/Sales Executive",
          "2/Manager",
          "3/Manager",
          "3/Sales Executive",
          "2/Sales Executive",
          "2/Manager",
          "3/Manager",
          "4/Manager",
          "4/Manager",
          "2/Manager",
          "4/Manager",
          "4/Manager",
          "3/Sales Executive",
          "2",
          "3",
          "4",
          "2",
          "3",
          "4",
          "2",
          "3",
          "4",
          "",
          "",
          ""
         ],
         "type": "sunburst",
         "values": [
          5,
          3,
          4,
          1,
          10,
          8,
          1,
          1,
          3,
          8,
          3,
          9,
          3,
          10,
          1,
          1,
          5,
          1,
          3,
          10,
          3,
          1,
          5,
          25,
          4,
          1,
          1,
          1,
          1,
          7,
          6,
          2,
          3,
          14,
          3,
          1,
          2,
          1,
          11,
          5,
          2,
          1,
          5,
          12,
          2,
          1,
          1,
          1,
          7,
          23,
          1,
          1,
          4,
          3,
          1,
          1,
          2,
          1,
          2,
          3,
          1,
          1,
          1,
          2,
          4,
          1,
          1,
          1,
          1,
          1,
          2,
          1,
          1,
          2,
          2,
          3,
          1,
          1,
          1,
          1,
          1,
          1,
          2,
          1,
          1,
          1,
          1,
          1,
          1,
          1,
          1,
          1,
          9,
          16,
          7,
          47,
          157,
          22,
          8,
          35,
          2,
          64,
          208,
          31
         ]
        }
       ],
       "layout": {
        "legend": {
         "tracegroupgap": 0
        },
        "margin": {
         "t": 60
        },
        "template": {
         "data": {
          "bar": [
           {
            "error_x": {
             "color": "#2a3f5f"
            },
            "error_y": {
             "color": "#2a3f5f"
            },
            "marker": {
             "line": {
              "color": "#E5ECF6",
              "width": 0.5
             },
             "pattern": {
              "fillmode": "overlay",
              "size": 10,
              "solidity": 0.2
             }
            },
            "type": "bar"
           }
          ],
          "barpolar": [
           {
            "marker": {
             "line": {
              "color": "#E5ECF6",
              "width": 0.5
             },
             "pattern": {
              "fillmode": "overlay",
              "size": 10,
              "solidity": 0.2
             }
            },
            "type": "barpolar"
           }
          ],
          "carpet": [
           {
            "aaxis": {
             "endlinecolor": "#2a3f5f",
             "gridcolor": "white",
             "linecolor": "white",
             "minorgridcolor": "white",
             "startlinecolor": "#2a3f5f"
            },
            "baxis": {
             "endlinecolor": "#2a3f5f",
             "gridcolor": "white",
             "linecolor": "white",
             "minorgridcolor": "white",
             "startlinecolor": "#2a3f5f"
            },
            "type": "carpet"
           }
          ],
          "choropleth": [
           {
            "colorbar": {
             "outlinewidth": 0,
             "ticks": ""
            },
            "type": "choropleth"
           }
          ],
          "contour": [
           {
            "colorbar": {
             "outlinewidth": 0,
             "ticks": ""
            },
            "colorscale": [
             [
              0,
              "#0d0887"
             ],
             [
              0.1111111111111111,
              "#46039f"
             ],
             [
              0.2222222222222222,
              "#7201a8"
             ],
             [
              0.3333333333333333,
              "#9c179e"
             ],
             [
              0.4444444444444444,
              "#bd3786"
             ],
             [
              0.5555555555555556,
              "#d8576b"
             ],
             [
              0.6666666666666666,
              "#ed7953"
             ],
             [
              0.7777777777777778,
              "#fb9f3a"
             ],
             [
              0.8888888888888888,
              "#fdca26"
             ],
             [
              1,
              "#f0f921"
             ]
            ],
            "type": "contour"
           }
          ],
          "contourcarpet": [
           {
            "colorbar": {
             "outlinewidth": 0,
             "ticks": ""
            },
            "type": "contourcarpet"
           }
          ],
          "heatmap": [
           {
            "colorbar": {
             "outlinewidth": 0,
             "ticks": ""
            },
            "colorscale": [
             [
              0,
              "#0d0887"
             ],
             [
              0.1111111111111111,
              "#46039f"
             ],
             [
              0.2222222222222222,
              "#7201a8"
             ],
             [
              0.3333333333333333,
              "#9c179e"
             ],
             [
              0.4444444444444444,
              "#bd3786"
             ],
             [
              0.5555555555555556,
              "#d8576b"
             ],
             [
              0.6666666666666666,
              "#ed7953"
             ],
             [
              0.7777777777777778,
              "#fb9f3a"
             ],
             [
              0.8888888888888888,
              "#fdca26"
             ],
             [
              1,
              "#f0f921"
             ]
            ],
            "type": "heatmap"
           }
          ],
          "heatmapgl": [
           {
            "colorbar": {
             "outlinewidth": 0,
             "ticks": ""
            },
            "colorscale": [
             [
              0,
              "#0d0887"
             ],
             [
              0.1111111111111111,
              "#46039f"
             ],
             [
              0.2222222222222222,
              "#7201a8"
             ],
             [
              0.3333333333333333,
              "#9c179e"
             ],
             [
              0.4444444444444444,
              "#bd3786"
             ],
             [
              0.5555555555555556,
              "#d8576b"
             ],
             [
              0.6666666666666666,
              "#ed7953"
             ],
             [
              0.7777777777777778,
              "#fb9f3a"
             ],
             [
              0.8888888888888888,
              "#fdca26"
             ],
             [
              1,
              "#f0f921"
             ]
            ],
            "type": "heatmapgl"
           }
          ],
          "histogram": [
           {
            "marker": {
             "pattern": {
              "fillmode": "overlay",
              "size": 10,
              "solidity": 0.2
             }
            },
            "type": "histogram"
           }
          ],
          "histogram2d": [
           {
            "colorbar": {
             "outlinewidth": 0,
             "ticks": ""
            },
            "colorscale": [
             [
              0,
              "#0d0887"
             ],
             [
              0.1111111111111111,
              "#46039f"
             ],
             [
              0.2222222222222222,
              "#7201a8"
             ],
             [
              0.3333333333333333,
              "#9c179e"
             ],
             [
              0.4444444444444444,
              "#bd3786"
             ],
             [
              0.5555555555555556,
              "#d8576b"
             ],
             [
              0.6666666666666666,
              "#ed7953"
             ],
             [
              0.7777777777777778,
              "#fb9f3a"
             ],
             [
              0.8888888888888888,
              "#fdca26"
             ],
             [
              1,
              "#f0f921"
             ]
            ],
            "type": "histogram2d"
           }
          ],
          "histogram2dcontour": [
           {
            "colorbar": {
             "outlinewidth": 0,
             "ticks": ""
            },
            "colorscale": [
             [
              0,
              "#0d0887"
             ],
             [
              0.1111111111111111,
              "#46039f"
             ],
             [
              0.2222222222222222,
              "#7201a8"
             ],
             [
              0.3333333333333333,
              "#9c179e"
             ],
             [
              0.4444444444444444,
              "#bd3786"
             ],
             [
              0.5555555555555556,
              "#d8576b"
             ],
             [
              0.6666666666666666,
              "#ed7953"
             ],
             [
              0.7777777777777778,
              "#fb9f3a"
             ],
             [
              0.8888888888888888,
              "#fdca26"
             ],
             [
              1,
              "#f0f921"
             ]
            ],
            "type": "histogram2dcontour"
           }
          ],
          "mesh3d": [
           {
            "colorbar": {
             "outlinewidth": 0,
             "ticks": ""
            },
            "type": "mesh3d"
           }
          ],
          "parcoords": [
           {
            "line": {
             "colorbar": {
              "outlinewidth": 0,
              "ticks": ""
             }
            },
            "type": "parcoords"
           }
          ],
          "pie": [
           {
            "automargin": true,
            "type": "pie"
           }
          ],
          "scatter": [
           {
            "fillpattern": {
             "fillmode": "overlay",
             "size": 10,
             "solidity": 0.2
            },
            "type": "scatter"
           }
          ],
          "scatter3d": [
           {
            "line": {
             "colorbar": {
              "outlinewidth": 0,
              "ticks": ""
             }
            },
            "marker": {
             "colorbar": {
              "outlinewidth": 0,
              "ticks": ""
             }
            },
            "type": "scatter3d"
           }
          ],
          "scattercarpet": [
           {
            "marker": {
             "colorbar": {
              "outlinewidth": 0,
              "ticks": ""
             }
            },
            "type": "scattercarpet"
           }
          ],
          "scattergeo": [
           {
            "marker": {
             "colorbar": {
              "outlinewidth": 0,
              "ticks": ""
             }
            },
            "type": "scattergeo"
           }
          ],
          "scattergl": [
           {
            "marker": {
             "colorbar": {
              "outlinewidth": 0,
              "ticks": ""
             }
            },
            "type": "scattergl"
           }
          ],
          "scattermapbox": [
           {
            "marker": {
             "colorbar": {
              "outlinewidth": 0,
              "ticks": ""
             }
            },
            "type": "scattermapbox"
           }
          ],
          "scatterpolar": [
           {
            "marker": {
             "colorbar": {
              "outlinewidth": 0,
              "ticks": ""
             }
            },
            "type": "scatterpolar"
           }
          ],
          "scatterpolargl": [
           {
            "marker": {
             "colorbar": {
              "outlinewidth": 0,
              "ticks": ""
             }
            },
            "type": "scatterpolargl"
           }
          ],
          "scatterternary": [
           {
            "marker": {
             "colorbar": {
              "outlinewidth": 0,
              "ticks": ""
             }
            },
            "type": "scatterternary"
           }
          ],
          "surface": [
           {
            "colorbar": {
             "outlinewidth": 0,
             "ticks": ""
            },
            "colorscale": [
             [
              0,
              "#0d0887"
             ],
             [
              0.1111111111111111,
              "#46039f"
             ],
             [
              0.2222222222222222,
              "#7201a8"
             ],
             [
              0.3333333333333333,
              "#9c179e"
             ],
             [
              0.4444444444444444,
              "#bd3786"
             ],
             [
              0.5555555555555556,
              "#d8576b"
             ],
             [
              0.6666666666666666,
              "#ed7953"
             ],
             [
              0.7777777777777778,
              "#fb9f3a"
             ],
             [
              0.8888888888888888,
              "#fdca26"
             ],
             [
              1,
              "#f0f921"
             ]
            ],
            "type": "surface"
           }
          ],
          "table": [
           {
            "cells": {
             "fill": {
              "color": "#EBF0F8"
             },
             "line": {
              "color": "white"
             }
            },
            "header": {
             "fill": {
              "color": "#C8D4E3"
             },
             "line": {
              "color": "white"
             }
            },
            "type": "table"
           }
          ]
         },
         "layout": {
          "annotationdefaults": {
           "arrowcolor": "#2a3f5f",
           "arrowhead": 0,
           "arrowwidth": 1
          },
          "autotypenumbers": "strict",
          "coloraxis": {
           "colorbar": {
            "outlinewidth": 0,
            "ticks": ""
           }
          },
          "colorscale": {
           "diverging": [
            [
             0,
             "#8e0152"
            ],
            [
             0.1,
             "#c51b7d"
            ],
            [
             0.2,
             "#de77ae"
            ],
            [
             0.3,
             "#f1b6da"
            ],
            [
             0.4,
             "#fde0ef"
            ],
            [
             0.5,
             "#f7f7f7"
            ],
            [
             0.6,
             "#e6f5d0"
            ],
            [
             0.7,
             "#b8e186"
            ],
            [
             0.8,
             "#7fbc41"
            ],
            [
             0.9,
             "#4d9221"
            ],
            [
             1,
             "#276419"
            ]
           ],
           "sequential": [
            [
             0,
             "#0d0887"
            ],
            [
             0.1111111111111111,
             "#46039f"
            ],
            [
             0.2222222222222222,
             "#7201a8"
            ],
            [
             0.3333333333333333,
             "#9c179e"
            ],
            [
             0.4444444444444444,
             "#bd3786"
            ],
            [
             0.5555555555555556,
             "#d8576b"
            ],
            [
             0.6666666666666666,
             "#ed7953"
            ],
            [
             0.7777777777777778,
             "#fb9f3a"
            ],
            [
             0.8888888888888888,
             "#fdca26"
            ],
            [
             1,
             "#f0f921"
            ]
           ],
           "sequentialminus": [
            [
             0,
             "#0d0887"
            ],
            [
             0.1111111111111111,
             "#46039f"
            ],
            [
             0.2222222222222222,
             "#7201a8"
            ],
            [
             0.3333333333333333,
             "#9c179e"
            ],
            [
             0.4444444444444444,
             "#bd3786"
            ],
            [
             0.5555555555555556,
             "#d8576b"
            ],
            [
             0.6666666666666666,
             "#ed7953"
            ],
            [
             0.7777777777777778,
             "#fb9f3a"
            ],
            [
             0.8888888888888888,
             "#fdca26"
            ],
            [
             1,
             "#f0f921"
            ]
           ]
          },
          "colorway": [
           "#636efa",
           "#EF553B",
           "#00cc96",
           "#ab63fa",
           "#FFA15A",
           "#19d3f3",
           "#FF6692",
           "#B6E880",
           "#FF97FF",
           "#FECB52"
          ],
          "font": {
           "color": "#2a3f5f"
          },
          "geo": {
           "bgcolor": "white",
           "lakecolor": "white",
           "landcolor": "#E5ECF6",
           "showlakes": true,
           "showland": true,
           "subunitcolor": "white"
          },
          "hoverlabel": {
           "align": "left"
          },
          "hovermode": "closest",
          "mapbox": {
           "style": "light"
          },
          "paper_bgcolor": "white",
          "plot_bgcolor": "#E5ECF6",
          "polar": {
           "angularaxis": {
            "gridcolor": "white",
            "linecolor": "white",
            "ticks": ""
           },
           "bgcolor": "#E5ECF6",
           "radialaxis": {
            "gridcolor": "white",
            "linecolor": "white",
            "ticks": ""
           }
          },
          "scene": {
           "xaxis": {
            "backgroundcolor": "#E5ECF6",
            "gridcolor": "white",
            "gridwidth": 2,
            "linecolor": "white",
            "showbackground": true,
            "ticks": "",
            "zerolinecolor": "white"
           },
           "yaxis": {
            "backgroundcolor": "#E5ECF6",
            "gridcolor": "white",
            "gridwidth": 2,
            "linecolor": "white",
            "showbackground": true,
            "ticks": "",
            "zerolinecolor": "white"
           },
           "zaxis": {
            "backgroundcolor": "#E5ECF6",
            "gridcolor": "white",
            "gridwidth": 2,
            "linecolor": "white",
            "showbackground": true,
            "ticks": "",
            "zerolinecolor": "white"
           }
          },
          "shapedefaults": {
           "line": {
            "color": "#2a3f5f"
           }
          },
          "ternary": {
           "aaxis": {
            "gridcolor": "white",
            "linecolor": "white",
            "ticks": ""
           },
           "baxis": {
            "gridcolor": "white",
            "linecolor": "white",
            "ticks": ""
           },
           "bgcolor": "#E5ECF6",
           "caxis": {
            "gridcolor": "white",
            "linecolor": "white",
            "ticks": ""
           }
          },
          "title": {
           "x": 0.05
          },
          "xaxis": {
           "automargin": true,
           "gridcolor": "white",
           "linecolor": "white",
           "ticks": "",
           "title": {
            "standoff": 15
           },
           "zerolinecolor": "white",
           "zerolinewidth": 2
          },
          "yaxis": {
           "automargin": true,
           "gridcolor": "white",
           "linecolor": "white",
           "ticks": "",
           "title": {
            "standoff": 15
           },
           "zerolinecolor": "white",
           "zerolinewidth": 2
          }
         }
        }
       }
      },
      "text/html": [
       "<div>                            <div id=\"80ac07c7-7ebe-4a46-8749-50a265129015\" class=\"plotly-graph-div\" style=\"height:525px; width:100%;\"></div>            <script type=\"text/javascript\">                require([\"plotly\"], function(Plotly) {                    window.PLOTLYENV=window.PLOTLYENV || {};                                    if (document.getElementById(\"80ac07c7-7ebe-4a46-8749-50a265129015\")) {                    Plotly.newPlot(                        \"80ac07c7-7ebe-4a46-8749-50a265129015\",                        [{\"branchvalues\":\"total\",\"domain\":{\"x\":[0.0,1.0],\"y\":[0.0,1.0]},\"hovertemplate\":\"labels=%{label}<br>count=%{value}<br>parent=%{parent}<br>id=%{id}<extra></extra>\",\"ids\":[\"3/Sales Executive/0\",\"3/Sales Representative/0\",\"3/Manager/1\",\"4/Manager/1\",\"3/Sales Executive/1\",\"3/Sales Representative/1\",\"4/Sales Representative/1\",\"2/Manager/2\",\"2/Sales Executive/2\",\"3/Sales Executive/2\",\"2/Sales Representative/2\",\"3/Sales Representative/2\",\"2/Sales Executive/3\",\"3/Sales Executive/3\",\"4/Sales Executive/3\",\"2/Sales Representative/3\",\"3/Sales Representative/3\",\"4/Sales Representative/3\",\"2/Sales Executive/4\",\"3/Sales Executive/4\",\"3/Sales Representative/4\",\"4/Manager/5\",\"2/Sales Executive/5\",\"3/Sales Executive/5\",\"4/Sales Executive/5\",\"2/Sales Representative/5\",\"3/Sales Representative/5\",\"3/Manager/6\",\"2/Sales Executive/6\",\"3/Sales Executive/6\",\"4/Sales Executive/6\",\"3/Manager/7\",\"2/Sales Executive/7\",\"3/Sales Executive/7\",\"4/Sales Executive/7\",\"2/Sales Representative/7\",\"3/Sales Representative/7\",\"2/Sales Executive/8\",\"3/Sales Executive/8\",\"4/Sales Executive/8\",\"3/Sales Representative/8\",\"3/Manager/9\",\"2/Sales Executive/9\",\"3/Sales Executive/9\",\"2/Sales Representative/9\",\"3/Sales Representative/9\",\"2/Manager/10\",\"3/Manager/10\",\"2/Sales Executive/10\",\"3/Sales Executive/10\",\"4/Sales Executive/10\",\"3/Manager/11\",\"2/Sales Executive/11\",\"3/Sales Executive/11\",\"2/Manager/12\",\"2/Sales Executive/12\",\"3/Sales Executive/12\",\"3/Manager/13\",\"2/Sales Executive/13\",\"3/Sales Executive/13\",\"3/Sales Representative/13\",\"2/Sales Executive/14\",\"3/Sales Executive/14\",\"2/Sales Executive/15\",\"3/Sales Executive/15\",\"4/Sales Executive/15\",\"2/Manager/16\",\"3/Manager/17\",\"4/Manager/17\",\"2/Manager/18\",\"3/Sales Executive/18\",\"4/Sales Executive/18\",\"2/Sales Executive/19\",\"3/Sales Executive/19\",\"3/Manager/20\",\"2/Sales Executive/20\",\"3/Sales Executive/20\",\"2/Manager/21\",\"2/Sales Executive/21\",\"3/Sales Executive/21\",\"2/Manager/22\",\"3/Manager/22\",\"3/Sales Executive/22\",\"2/Sales Executive/24\",\"2/Manager/25\",\"3/Manager/25\",\"4/Manager/26\",\"4/Manager/29\",\"2/Manager/33\",\"4/Manager/34\",\"4/Manager/36\",\"3/Sales Executive/37\",\"2/Manager\",\"3/Manager\",\"4/Manager\",\"2/Sales Executive\",\"3/Sales Executive\",\"4/Sales Executive\",\"2/Sales Representative\",\"3/Sales Representative\",\"4/Sales Representative\",\"2\",\"3\",\"4\"],\"labels\":[\"0\",\"0\",\"1\",\"1\",\"1\",\"1\",\"1\",\"2\",\"2\",\"2\",\"2\",\"2\",\"3\",\"3\",\"3\",\"3\",\"3\",\"3\",\"4\",\"4\",\"4\",\"5\",\"5\",\"5\",\"5\",\"5\",\"5\",\"6\",\"6\",\"6\",\"6\",\"7\",\"7\",\"7\",\"7\",\"7\",\"7\",\"8\",\"8\",\"8\",\"8\",\"9\",\"9\",\"9\",\"9\",\"9\",\"10\",\"10\",\"10\",\"10\",\"10\",\"11\",\"11\",\"11\",\"12\",\"12\",\"12\",\"13\",\"13\",\"13\",\"13\",\"14\",\"14\",\"15\",\"15\",\"15\",\"16\",\"17\",\"17\",\"18\",\"18\",\"18\",\"19\",\"19\",\"20\",\"20\",\"20\",\"21\",\"21\",\"21\",\"22\",\"22\",\"22\",\"24\",\"25\",\"25\",\"26\",\"29\",\"33\",\"34\",\"36\",\"37\",\"Manager\",\"Manager\",\"Manager\",\"Sales Executive\",\"Sales Executive\",\"Sales Executive\",\"Sales Representative\",\"Sales Representative\",\"Sales Representative\",\"2\",\"3\",\"4\"],\"name\":\"\",\"parents\":[\"3/Sales Executive\",\"3/Sales Representative\",\"3/Manager\",\"4/Manager\",\"3/Sales Executive\",\"3/Sales Representative\",\"4/Sales Representative\",\"2/Manager\",\"2/Sales Executive\",\"3/Sales Executive\",\"2/Sales Representative\",\"3/Sales Representative\",\"2/Sales Executive\",\"3/Sales Executive\",\"4/Sales Executive\",\"2/Sales Representative\",\"3/Sales Representative\",\"4/Sales Representative\",\"2/Sales Executive\",\"3/Sales Executive\",\"3/Sales Representative\",\"4/Manager\",\"2/Sales Executive\",\"3/Sales Executive\",\"4/Sales Executive\",\"2/Sales Representative\",\"3/Sales Representative\",\"3/Manager\",\"2/Sales Executive\",\"3/Sales Executive\",\"4/Sales Executive\",\"3/Manager\",\"2/Sales Executive\",\"3/Sales Executive\",\"4/Sales Executive\",\"2/Sales Representative\",\"3/Sales Representative\",\"2/Sales Executive\",\"3/Sales Executive\",\"4/Sales Executive\",\"3/Sales Representative\",\"3/Manager\",\"2/Sales Executive\",\"3/Sales Executive\",\"2/Sales Representative\",\"3/Sales Representative\",\"2/Manager\",\"3/Manager\",\"2/Sales Executive\",\"3/Sales Executive\",\"4/Sales Executive\",\"3/Manager\",\"2/Sales Executive\",\"3/Sales Executive\",\"2/Manager\",\"2/Sales Executive\",\"3/Sales Executive\",\"3/Manager\",\"2/Sales Executive\",\"3/Sales Executive\",\"3/Sales Representative\",\"2/Sales Executive\",\"3/Sales Executive\",\"2/Sales Executive\",\"3/Sales Executive\",\"4/Sales Executive\",\"2/Manager\",\"3/Manager\",\"4/Manager\",\"2/Manager\",\"3/Sales Executive\",\"4/Sales Executive\",\"2/Sales Executive\",\"3/Sales Executive\",\"3/Manager\",\"2/Sales Executive\",\"3/Sales Executive\",\"2/Manager\",\"2/Sales Executive\",\"3/Sales Executive\",\"2/Manager\",\"3/Manager\",\"3/Sales Executive\",\"2/Sales Executive\",\"2/Manager\",\"3/Manager\",\"4/Manager\",\"4/Manager\",\"2/Manager\",\"4/Manager\",\"4/Manager\",\"3/Sales Executive\",\"2\",\"3\",\"4\",\"2\",\"3\",\"4\",\"2\",\"3\",\"4\",\"\",\"\",\"\"],\"values\":[5,3,4,1,10,8,1,1,3,8,3,9,3,10,1,1,5,1,3,10,3,1,5,25,4,1,1,1,1,7,6,2,3,14,3,1,2,1,11,5,2,1,5,12,2,1,1,1,7,23,1,1,4,3,1,1,2,1,2,3,1,1,1,2,4,1,1,1,1,1,2,1,1,2,2,3,1,1,1,1,1,1,2,1,1,1,1,1,1,1,1,1,9,16,7,47,157,22,8,35,2,64,208,31],\"type\":\"sunburst\"}],                        {\"template\":{\"data\":{\"histogram2dcontour\":[{\"type\":\"histogram2dcontour\",\"colorbar\":{\"outlinewidth\":0,\"ticks\":\"\"},\"colorscale\":[[0.0,\"#0d0887\"],[0.1111111111111111,\"#46039f\"],[0.2222222222222222,\"#7201a8\"],[0.3333333333333333,\"#9c179e\"],[0.4444444444444444,\"#bd3786\"],[0.5555555555555556,\"#d8576b\"],[0.6666666666666666,\"#ed7953\"],[0.7777777777777778,\"#fb9f3a\"],[0.8888888888888888,\"#fdca26\"],[1.0,\"#f0f921\"]]}],\"choropleth\":[{\"type\":\"choropleth\",\"colorbar\":{\"outlinewidth\":0,\"ticks\":\"\"}}],\"histogram2d\":[{\"type\":\"histogram2d\",\"colorbar\":{\"outlinewidth\":0,\"ticks\":\"\"},\"colorscale\":[[0.0,\"#0d0887\"],[0.1111111111111111,\"#46039f\"],[0.2222222222222222,\"#7201a8\"],[0.3333333333333333,\"#9c179e\"],[0.4444444444444444,\"#bd3786\"],[0.5555555555555556,\"#d8576b\"],[0.6666666666666666,\"#ed7953\"],[0.7777777777777778,\"#fb9f3a\"],[0.8888888888888888,\"#fdca26\"],[1.0,\"#f0f921\"]]}],\"heatmap\":[{\"type\":\"heatmap\",\"colorbar\":{\"outlinewidth\":0,\"ticks\":\"\"},\"colorscale\":[[0.0,\"#0d0887\"],[0.1111111111111111,\"#46039f\"],[0.2222222222222222,\"#7201a8\"],[0.3333333333333333,\"#9c179e\"],[0.4444444444444444,\"#bd3786\"],[0.5555555555555556,\"#d8576b\"],[0.6666666666666666,\"#ed7953\"],[0.7777777777777778,\"#fb9f3a\"],[0.8888888888888888,\"#fdca26\"],[1.0,\"#f0f921\"]]}],\"heatmapgl\":[{\"type\":\"heatmapgl\",\"colorbar\":{\"outlinewidth\":0,\"ticks\":\"\"},\"colorscale\":[[0.0,\"#0d0887\"],[0.1111111111111111,\"#46039f\"],[0.2222222222222222,\"#7201a8\"],[0.3333333333333333,\"#9c179e\"],[0.4444444444444444,\"#bd3786\"],[0.5555555555555556,\"#d8576b\"],[0.6666666666666666,\"#ed7953\"],[0.7777777777777778,\"#fb9f3a\"],[0.8888888888888888,\"#fdca26\"],[1.0,\"#f0f921\"]]}],\"contourcarpet\":[{\"type\":\"contourcarpet\",\"colorbar\":{\"outlinewidth\":0,\"ticks\":\"\"}}],\"contour\":[{\"type\":\"contour\",\"colorbar\":{\"outlinewidth\":0,\"ticks\":\"\"},\"colorscale\":[[0.0,\"#0d0887\"],[0.1111111111111111,\"#46039f\"],[0.2222222222222222,\"#7201a8\"],[0.3333333333333333,\"#9c179e\"],[0.4444444444444444,\"#bd3786\"],[0.5555555555555556,\"#d8576b\"],[0.6666666666666666,\"#ed7953\"],[0.7777777777777778,\"#fb9f3a\"],[0.8888888888888888,\"#fdca26\"],[1.0,\"#f0f921\"]]}],\"surface\":[{\"type\":\"surface\",\"colorbar\":{\"outlinewidth\":0,\"ticks\":\"\"},\"colorscale\":[[0.0,\"#0d0887\"],[0.1111111111111111,\"#46039f\"],[0.2222222222222222,\"#7201a8\"],[0.3333333333333333,\"#9c179e\"],[0.4444444444444444,\"#bd3786\"],[0.5555555555555556,\"#d8576b\"],[0.6666666666666666,\"#ed7953\"],[0.7777777777777778,\"#fb9f3a\"],[0.8888888888888888,\"#fdca26\"],[1.0,\"#f0f921\"]]}],\"mesh3d\":[{\"type\":\"mesh3d\",\"colorbar\":{\"outlinewidth\":0,\"ticks\":\"\"}}],\"scatter\":[{\"fillpattern\":{\"fillmode\":\"overlay\",\"size\":10,\"solidity\":0.2},\"type\":\"scatter\"}],\"parcoords\":[{\"type\":\"parcoords\",\"line\":{\"colorbar\":{\"outlinewidth\":0,\"ticks\":\"\"}}}],\"scatterpolargl\":[{\"type\":\"scatterpolargl\",\"marker\":{\"colorbar\":{\"outlinewidth\":0,\"ticks\":\"\"}}}],\"bar\":[{\"error_x\":{\"color\":\"#2a3f5f\"},\"error_y\":{\"color\":\"#2a3f5f\"},\"marker\":{\"line\":{\"color\":\"#E5ECF6\",\"width\":0.5},\"pattern\":{\"fillmode\":\"overlay\",\"size\":10,\"solidity\":0.2}},\"type\":\"bar\"}],\"scattergeo\":[{\"type\":\"scattergeo\",\"marker\":{\"colorbar\":{\"outlinewidth\":0,\"ticks\":\"\"}}}],\"scatterpolar\":[{\"type\":\"scatterpolar\",\"marker\":{\"colorbar\":{\"outlinewidth\":0,\"ticks\":\"\"}}}],\"histogram\":[{\"marker\":{\"pattern\":{\"fillmode\":\"overlay\",\"size\":10,\"solidity\":0.2}},\"type\":\"histogram\"}],\"scattergl\":[{\"type\":\"scattergl\",\"marker\":{\"colorbar\":{\"outlinewidth\":0,\"ticks\":\"\"}}}],\"scatter3d\":[{\"type\":\"scatter3d\",\"line\":{\"colorbar\":{\"outlinewidth\":0,\"ticks\":\"\"}},\"marker\":{\"colorbar\":{\"outlinewidth\":0,\"ticks\":\"\"}}}],\"scattermapbox\":[{\"type\":\"scattermapbox\",\"marker\":{\"colorbar\":{\"outlinewidth\":0,\"ticks\":\"\"}}}],\"scatterternary\":[{\"type\":\"scatterternary\",\"marker\":{\"colorbar\":{\"outlinewidth\":0,\"ticks\":\"\"}}}],\"scattercarpet\":[{\"type\":\"scattercarpet\",\"marker\":{\"colorbar\":{\"outlinewidth\":0,\"ticks\":\"\"}}}],\"carpet\":[{\"aaxis\":{\"endlinecolor\":\"#2a3f5f\",\"gridcolor\":\"white\",\"linecolor\":\"white\",\"minorgridcolor\":\"white\",\"startlinecolor\":\"#2a3f5f\"},\"baxis\":{\"endlinecolor\":\"#2a3f5f\",\"gridcolor\":\"white\",\"linecolor\":\"white\",\"minorgridcolor\":\"white\",\"startlinecolor\":\"#2a3f5f\"},\"type\":\"carpet\"}],\"table\":[{\"cells\":{\"fill\":{\"color\":\"#EBF0F8\"},\"line\":{\"color\":\"white\"}},\"header\":{\"fill\":{\"color\":\"#C8D4E3\"},\"line\":{\"color\":\"white\"}},\"type\":\"table\"}],\"barpolar\":[{\"marker\":{\"line\":{\"color\":\"#E5ECF6\",\"width\":0.5},\"pattern\":{\"fillmode\":\"overlay\",\"size\":10,\"solidity\":0.2}},\"type\":\"barpolar\"}],\"pie\":[{\"automargin\":true,\"type\":\"pie\"}]},\"layout\":{\"autotypenumbers\":\"strict\",\"colorway\":[\"#636efa\",\"#EF553B\",\"#00cc96\",\"#ab63fa\",\"#FFA15A\",\"#19d3f3\",\"#FF6692\",\"#B6E880\",\"#FF97FF\",\"#FECB52\"],\"font\":{\"color\":\"#2a3f5f\"},\"hovermode\":\"closest\",\"hoverlabel\":{\"align\":\"left\"},\"paper_bgcolor\":\"white\",\"plot_bgcolor\":\"#E5ECF6\",\"polar\":{\"bgcolor\":\"#E5ECF6\",\"angularaxis\":{\"gridcolor\":\"white\",\"linecolor\":\"white\",\"ticks\":\"\"},\"radialaxis\":{\"gridcolor\":\"white\",\"linecolor\":\"white\",\"ticks\":\"\"}},\"ternary\":{\"bgcolor\":\"#E5ECF6\",\"aaxis\":{\"gridcolor\":\"white\",\"linecolor\":\"white\",\"ticks\":\"\"},\"baxis\":{\"gridcolor\":\"white\",\"linecolor\":\"white\",\"ticks\":\"\"},\"caxis\":{\"gridcolor\":\"white\",\"linecolor\":\"white\",\"ticks\":\"\"}},\"coloraxis\":{\"colorbar\":{\"outlinewidth\":0,\"ticks\":\"\"}},\"colorscale\":{\"sequential\":[[0.0,\"#0d0887\"],[0.1111111111111111,\"#46039f\"],[0.2222222222222222,\"#7201a8\"],[0.3333333333333333,\"#9c179e\"],[0.4444444444444444,\"#bd3786\"],[0.5555555555555556,\"#d8576b\"],[0.6666666666666666,\"#ed7953\"],[0.7777777777777778,\"#fb9f3a\"],[0.8888888888888888,\"#fdca26\"],[1.0,\"#f0f921\"]],\"sequentialminus\":[[0.0,\"#0d0887\"],[0.1111111111111111,\"#46039f\"],[0.2222222222222222,\"#7201a8\"],[0.3333333333333333,\"#9c179e\"],[0.4444444444444444,\"#bd3786\"],[0.5555555555555556,\"#d8576b\"],[0.6666666666666666,\"#ed7953\"],[0.7777777777777778,\"#fb9f3a\"],[0.8888888888888888,\"#fdca26\"],[1.0,\"#f0f921\"]],\"diverging\":[[0,\"#8e0152\"],[0.1,\"#c51b7d\"],[0.2,\"#de77ae\"],[0.3,\"#f1b6da\"],[0.4,\"#fde0ef\"],[0.5,\"#f7f7f7\"],[0.6,\"#e6f5d0\"],[0.7,\"#b8e186\"],[0.8,\"#7fbc41\"],[0.9,\"#4d9221\"],[1,\"#276419\"]]},\"xaxis\":{\"gridcolor\":\"white\",\"linecolor\":\"white\",\"ticks\":\"\",\"title\":{\"standoff\":15},\"zerolinecolor\":\"white\",\"automargin\":true,\"zerolinewidth\":2},\"yaxis\":{\"gridcolor\":\"white\",\"linecolor\":\"white\",\"ticks\":\"\",\"title\":{\"standoff\":15},\"zerolinecolor\":\"white\",\"automargin\":true,\"zerolinewidth\":2},\"scene\":{\"xaxis\":{\"backgroundcolor\":\"#E5ECF6\",\"gridcolor\":\"white\",\"linecolor\":\"white\",\"showbackground\":true,\"ticks\":\"\",\"zerolinecolor\":\"white\",\"gridwidth\":2},\"yaxis\":{\"backgroundcolor\":\"#E5ECF6\",\"gridcolor\":\"white\",\"linecolor\":\"white\",\"showbackground\":true,\"ticks\":\"\",\"zerolinecolor\":\"white\",\"gridwidth\":2},\"zaxis\":{\"backgroundcolor\":\"#E5ECF6\",\"gridcolor\":\"white\",\"linecolor\":\"white\",\"showbackground\":true,\"ticks\":\"\",\"zerolinecolor\":\"white\",\"gridwidth\":2}},\"shapedefaults\":{\"line\":{\"color\":\"#2a3f5f\"}},\"annotationdefaults\":{\"arrowcolor\":\"#2a3f5f\",\"arrowhead\":0,\"arrowwidth\":1},\"geo\":{\"bgcolor\":\"white\",\"landcolor\":\"#E5ECF6\",\"subunitcolor\":\"white\",\"showland\":true,\"showlakes\":true,\"lakecolor\":\"white\"},\"title\":{\"x\":0.05},\"mapbox\":{\"style\":\"light\"}}},\"legend\":{\"tracegroupgap\":0},\"margin\":{\"t\":60}},                        {\"responsive\": true}                    ).then(function(){\n",
       "                            \n",
       "var gd = document.getElementById('80ac07c7-7ebe-4a46-8749-50a265129015');\n",
       "var x = new MutationObserver(function (mutations, observer) {{\n",
       "        var display = window.getComputedStyle(gd).display;\n",
       "        if (!display || display === 'none') {{\n",
       "            console.log([gd, 'removed!']);\n",
       "            Plotly.purge(gd);\n",
       "            observer.disconnect();\n",
       "        }}\n",
       "}});\n",
       "\n",
       "// Listen for the removal of the full notebook cells\n",
       "var notebookContainer = gd.closest('#notebook-container');\n",
       "if (notebookContainer) {{\n",
       "    x.observe(notebookContainer, {childList: true});\n",
       "}}\n",
       "\n",
       "// Listen for the clearing of the current output cell\n",
       "var outputEl = gd.closest('.output');\n",
       "if (outputEl) {{\n",
       "    x.observe(outputEl, {childList: true});\n",
       "}}\n",
       "\n",
       "                        })                };                });            </script>        </div>"
      ]
     },
     "metadata": {},
     "output_type": "display_data"
    }
   ],
   "source": [
    "fig=px.sunburst(df_sales, path=['PerformanceRating','EmpJobRole','ExperienceYearsAtThisCompany'])\n",
    "fig.show()\n",
    "\n",
    "# 47 Sales Executive showing underlying performance have beween 2-24 years of experience at current company\n",
    "# 8 Sales Represntative showing underlying performance have 2 - 7 years of experience at current company\n",
    "# 9 Sales Manager showing underlying performance have between 10 - 33 years of experience at current company"
   ]
  },
  {
   "cell_type": "code",
   "execution_count": 103,
   "id": "0bc13a34",
   "metadata": {},
   "outputs": [
    {
     "data": {
      "text/plain": [
       "<Figure size 1008x576 with 0 Axes>"
      ]
     },
     "metadata": {},
     "output_type": "display_data"
    },
    {
     "data": {
      "image/png": "[encoded data removed]",
      "text/plain": [
       "<Figure size 486.425x504 with 1 Axes>"
      ]
     },
     "metadata": {
      "needs_background": "light"
     },
     "output_type": "display_data"
    }
   ],
   "source": [
    "# 3) Issues faced due to Travel (for sales team)\n",
    "\n",
    "\n",
    "plt.figure(figsize=(14,8))\n",
    "g = sns.catplot(x=\"EmpJobRole\", y=\"PerformanceRating\",\n",
    "                hue=\"BusinessTravelFrequency\", \n",
    "                data=df_sales, kind=\"bar\",\n",
    "                height=7, aspect=.7);\n",
    "plt.show()\n",
    "\n",
    "# It is observed that maximum employees of Sales depaartment travel frquently inspite of having an underlying performance rating. "
   ]
  },
  {
   "cell_type": "code",
   "execution_count": 114,
   "id": "fd14e4b2",
   "metadata": {},
   "outputs": [
    {
     "data": {
      "image/png": "[encoded data removed]",
      "text/plain": [
       "<Figure size 1008x576 with 1 Axes>"
      ]
     },
     "metadata": {
      "needs_background": "light"
     },
     "output_type": "display_data"
    }
   ],
   "source": [
    "plt.figure(figsize=(14,8))\n",
    "sns.countplot(data = df_sales, x='DistanceFromHome', hue = 'PerformanceRating')\n",
    "plt.show()\n",
    "\n",
    "# It is observed that maximum employees of Sales depaartment showing underlying performance stay nearby to office."
   ]
  },
  {
   "cell_type": "code",
   "execution_count": 119,
   "id": "e23154de",
   "metadata": {},
   "outputs": [
    {
     "data": {
      "application/vnd.plotly.v1+json": {
       "config": {
        "plotlyServerURL": "https://plot.ly"
       },
       "data": [
        {
         "branchvalues": "total",
         "domain": {
          "x": [
           0,
           1
          ],
          "y": [
           0,
           1
          ]
         },
         "hovertemplate": "labels=%{label}<br>count=%{value}<br>parent=%{parent}<br>id=%{id}<extra></extra>",
         "ids": [
          "2/Manager/No",
          "3/Manager/No",
          "4/Manager/No",
          "2/Sales Executive/No",
          "3/Sales Executive/No",
          "4/Sales Executive/No",
          "2/Sales Representative/No",
          "3/Sales Representative/No",
          "4/Sales Representative/No",
          "2/Manager/Yes",
          "3/Manager/Yes",
          "4/Manager/Yes",
          "2/Sales Executive/Yes",
          "3/Sales Executive/Yes",
          "4/Sales Executive/Yes",
          "2/Sales Representative/Yes",
          "3/Sales Representative/Yes",
          "4/Sales Representative/Yes",
          "2/Manager",
          "3/Manager",
          "4/Manager",
          "2/Sales Executive",
          "3/Sales Executive",
          "4/Sales Executive",
          "2/Sales Representative",
          "3/Sales Representative",
          "4/Sales Representative",
          "2",
          "3",
          "4"
         ],
         "labels": [
          "No",
          "No",
          "No",
          "No",
          "No",
          "No",
          "No",
          "No",
          "No",
          "Yes",
          "Yes",
          "Yes",
          "Yes",
          "Yes",
          "Yes",
          "Yes",
          "Yes",
          "Yes",
          "Manager",
          "Manager",
          "Manager",
          "Sales Executive",
          "Sales Executive",
          "Sales Executive",
          "Sales Representative",
          "Sales Representative",
          "Sales Representative",
          "2",
          "3",
          "4"
         ],
         "name": "",
         "parents": [
          "2/Manager",
          "3/Manager",
          "4/Manager",
          "2/Sales Executive",
          "3/Sales Executive",
          "4/Sales Executive",
          "2/Sales Representative",
          "3/Sales Representative",
          "4/Sales Representative",
          "2/Manager",
          "3/Manager",
          "4/Manager",
          "2/Sales Executive",
          "3/Sales Executive",
          "4/Sales Executive",
          "2/Sales Representative",
          "3/Sales Representative",
          "4/Sales Representative",
          "2",
          "3",
          "4",
          "2",
          "3",
          "4",
          "2",
          "3",
          "4",
          "",
          "",
          ""
         ],
         "type": "sunburst",
         "values": [
          8,
          10,
          5,
          43,
          111,
          17,
          7,
          31,
          1,
          1,
          6,
          2,
          4,
          46,
          5,
          1,
          4,
          1,
          9,
          16,
          7,
          47,
          157,
          22,
          8,
          35,
          2,
          64,
          208,
          31
         ]
        }
       ],
       "layout": {
        "legend": {
         "tracegroupgap": 0
        },
        "margin": {
         "t": 60
        },
        "template": {
         "data": {
          "bar": [
           {
            "error_x": {
             "color": "#2a3f5f"
            },
            "error_y": {
             "color": "#2a3f5f"
            },
            "marker": {
             "line": {
              "color": "#E5ECF6",
              "width": 0.5
             },
             "pattern": {
              "fillmode": "overlay",
              "size": 10,
              "solidity": 0.2
             }
            },
            "type": "bar"
           }
          ],
          "barpolar": [
           {
            "marker": {
             "line": {
              "color": "#E5ECF6",
              "width": 0.5
             },
             "pattern": {
              "fillmode": "overlay",
              "size": 10,
              "solidity": 0.2
             }
            },
            "type": "barpolar"
           }
          ],
          "carpet": [
           {
            "aaxis": {
             "endlinecolor": "#2a3f5f",
             "gridcolor": "white",
             "linecolor": "white",
             "minorgridcolor": "white",
             "startlinecolor": "#2a3f5f"
            },
            "baxis": {
             "endlinecolor": "#2a3f5f",
             "gridcolor": "white",
             "linecolor": "white",
             "minorgridcolor": "white",
             "startlinecolor": "#2a3f5f"
            },
            "type": "carpet"
           }
          ],
          "choropleth": [
           {
            "colorbar": {
             "outlinewidth": 0,
             "ticks": ""
            },
            "type": "choropleth"
           }
          ],
          "contour": [
           {
            "colorbar": {
             "outlinewidth": 0,
             "ticks": ""
            },
            "colorscale": [
             [
              0,
              "#0d0887"
             ],
             [
              0.1111111111111111,
              "#46039f"
             ],
             [
              0.2222222222222222,
              "#7201a8"
             ],
             [
              0.3333333333333333,
              "#9c179e"
             ],
             [
              0.4444444444444444,
              "#bd3786"
             ],
             [
              0.5555555555555556,
              "#d8576b"
             ],
             [
              0.6666666666666666,
              "#ed7953"
             ],
             [
              0.7777777777777778,
              "#fb9f3a"
             ],
             [
              0.8888888888888888,
              "#fdca26"
             ],
             [
              1,
              "#f0f921"
             ]
            ],
            "type": "contour"
           }
          ],
          "contourcarpet": [
           {
            "colorbar": {
             "outlinewidth": 0,
             "ticks": ""
            },
            "type": "contourcarpet"
           }
          ],
          "heatmap": [
           {
            "colorbar": {
             "outlinewidth": 0,
             "ticks": ""
            },
            "colorscale": [
             [
              0,
              "#0d0887"
             ],
             [
              0.1111111111111111,
              "#46039f"
             ],
             [
              0.2222222222222222,
              "#7201a8"
             ],
             [
              0.3333333333333333,
              "#9c179e"
             ],
             [
              0.4444444444444444,
              "#bd3786"
             ],
             [
              0.5555555555555556,
              "#d8576b"
             ],
             [
              0.6666666666666666,
              "#ed7953"
             ],
             [
              0.7777777777777778,
              "#fb9f3a"
             ],
             [
              0.8888888888888888,
              "#fdca26"
             ],
             [
              1,
              "#f0f921"
             ]
            ],
            "type": "heatmap"
           }
          ],
          "heatmapgl": [
           {
            "colorbar": {
             "outlinewidth": 0,
             "ticks": ""
            },
            "colorscale": [
             [
              0,
              "#0d0887"
             ],
             [
              0.1111111111111111,
              "#46039f"
             ],
             [
              0.2222222222222222,
              "#7201a8"
             ],
             [
              0.3333333333333333,
              "#9c179e"
             ],
             [
              0.4444444444444444,
              "#bd3786"
             ],
             [
              0.5555555555555556,
              "#d8576b"
             ],
             [
              0.6666666666666666,
              "#ed7953"
             ],
             [
              0.7777777777777778,
              "#fb9f3a"
             ],
             [
              0.8888888888888888,
              "#fdca26"
             ],
             [
              1,
              "#f0f921"
             ]
            ],
            "type": "heatmapgl"
           }
          ],
          "histogram": [
           {
            "marker": {
             "pattern": {
              "fillmode": "overlay",
              "size": 10,
              "solidity": 0.2
             }
            },
            "type": "histogram"
           }
          ],
          "histogram2d": [
           {
            "colorbar": {
             "outlinewidth": 0,
             "ticks": ""
            },
            "colorscale": [
             [
              0,
              "#0d0887"
             ],
             [
              0.1111111111111111,
              "#46039f"
             ],
             [
              0.2222222222222222,
              "#7201a8"
             ],
             [
              0.3333333333333333,
              "#9c179e"
             ],
             [
              0.4444444444444444,
              "#bd3786"
             ],
             [
              0.5555555555555556,
              "#d8576b"
             ],
             [
              0.6666666666666666,
              "#ed7953"
             ],
             [
              0.7777777777777778,
              "#fb9f3a"
             ],
             [
              0.8888888888888888,
              "#fdca26"
             ],
             [
              1,
              "#f0f921"
             ]
            ],
            "type": "histogram2d"
           }
          ],
          "histogram2dcontour": [
           {
            "colorbar": {
             "outlinewidth": 0,
             "ticks": ""
            },
            "colorscale": [
             [
              0,
              "#0d0887"
             ],
             [
              0.1111111111111111,
              "#46039f"
             ],
             [
              0.2222222222222222,
              "#7201a8"
             ],
             [
              0.3333333333333333,
              "#9c179e"
             ],
             [
              0.4444444444444444,
              "#bd3786"
             ],
             [
              0.5555555555555556,
              "#d8576b"
             ],
             [
              0.6666666666666666,
              "#ed7953"
             ],
             [
              0.7777777777777778,
              "#fb9f3a"
             ],
             [
              0.8888888888888888,
              "#fdca26"
             ],
             [
              1,
              "#f0f921"
             ]
            ],
            "type": "histogram2dcontour"
           }
          ],
          "mesh3d": [
           {
            "colorbar": {
             "outlinewidth": 0,
             "ticks": ""
            },
            "type": "mesh3d"
           }
          ],
          "parcoords": [
           {
            "line": {
             "colorbar": {
              "outlinewidth": 0,
              "ticks": ""
             }
            },
            "type": "parcoords"
           }
          ],
          "pie": [
           {
            "automargin": true,
            "type": "pie"
           }
          ],
          "scatter": [
           {
            "fillpattern": {
             "fillmode": "overlay",
             "size": 10,
             "solidity": 0.2
            },
            "type": "scatter"
           }
          ],
          "scatter3d": [
           {
            "line": {
             "colorbar": {
              "outlinewidth": 0,
              "ticks": ""
             }
            },
            "marker": {
             "colorbar": {
              "outlinewidth": 0,
              "ticks": ""
             }
            },
            "type": "scatter3d"
           }
          ],
          "scattercarpet": [
           {
            "marker": {
             "colorbar": {
              "outlinewidth": 0,
              "ticks": ""
             }
            },
            "type": "scattercarpet"
           }
          ],
          "scattergeo": [
           {
            "marker": {
             "colorbar": {
              "outlinewidth": 0,
              "ticks": ""
             }
            },
            "type": "scattergeo"
           }
          ],
          "scattergl": [
           {
            "marker": {
             "colorbar": {
              "outlinewidth": 0,
              "ticks": ""
             }
            },
            "type": "scattergl"
           }
          ],
          "scattermapbox": [
           {
            "marker": {
             "colorbar": {
              "outlinewidth": 0,
              "ticks": ""
             }
            },
            "type": "scattermapbox"
           }
          ],
          "scatterpolar": [
           {
            "marker": {
             "colorbar": {
              "outlinewidth": 0,
              "ticks": ""
             }
            },
            "type": "scatterpolar"
           }
          ],
          "scatterpolargl": [
           {
            "marker": {
             "colorbar": {
              "outlinewidth": 0,
              "ticks": ""
             }
            },
            "type": "scatterpolargl"
           }
          ],
          "scatterternary": [
           {
            "marker": {
             "colorbar": {
              "outlinewidth": 0,
              "ticks": ""
             }
            },
            "type": "scatterternary"
           }
          ],
          "surface": [
           {
            "colorbar": {
             "outlinewidth": 0,
             "ticks": ""
            },
            "colorscale": [
             [
              0,
              "#0d0887"
             ],
             [
              0.1111111111111111,
              "#46039f"
             ],
             [
              0.2222222222222222,
              "#7201a8"
             ],
             [
              0.3333333333333333,
              "#9c179e"
             ],
             [
              0.4444444444444444,
              "#bd3786"
             ],
             [
              0.5555555555555556,
              "#d8576b"
             ],
             [
              0.6666666666666666,
              "#ed7953"
             ],
             [
              0.7777777777777778,
              "#fb9f3a"
             ],
             [
              0.8888888888888888,
              "#fdca26"
             ],
             [
              1,
              "#f0f921"
             ]
            ],
            "type": "surface"
           }
          ],
          "table": [
           {
            "cells": {
             "fill": {
              "color": "#EBF0F8"
             },
             "line": {
              "color": "white"
             }
            },
            "header": {
             "fill": {
              "color": "#C8D4E3"
             },
             "line": {
              "color": "white"
             }
            },
            "type": "table"
           }
          ]
         },
         "layout": {
          "annotationdefaults": {
           "arrowcolor": "#2a3f5f",
           "arrowhead": 0,
           "arrowwidth": 1
          },
          "autotypenumbers": "strict",
          "coloraxis": {
           "colorbar": {
            "outlinewidth": 0,
            "ticks": ""
           }
          },
          "colorscale": {
           "diverging": [
            [
             0,
             "#8e0152"
            ],
            [
             0.1,
             "#c51b7d"
            ],
            [
             0.2,
             "#de77ae"
            ],
            [
             0.3,
             "#f1b6da"
            ],
            [
             0.4,
             "#fde0ef"
            ],
            [
             0.5,
             "#f7f7f7"
            ],
            [
             0.6,
             "#e6f5d0"
            ],
            [
             0.7,
             "#b8e186"
            ],
            [
             0.8,
             "#7fbc41"
            ],
            [
             0.9,
             "#4d9221"
            ],
            [
             1,
             "#276419"
            ]
           ],
           "sequential": [
            [
             0,
             "#0d0887"
            ],
            [
             0.1111111111111111,
             "#46039f"
            ],
            [
             0.2222222222222222,
             "#7201a8"
            ],
            [
             0.3333333333333333,
             "#9c179e"
            ],
            [
             0.4444444444444444,
             "#bd3786"
            ],
            [
             0.5555555555555556,
             "#d8576b"
            ],
            [
             0.6666666666666666,
             "#ed7953"
            ],
            [
             0.7777777777777778,
             "#fb9f3a"
            ],
            [
             0.8888888888888888,
             "#fdca26"
            ],
            [
             1,
             "#f0f921"
            ]
           ],
           "sequentialminus": [
            [
             0,
             "#0d0887"
            ],
            [
             0.1111111111111111,
             "#46039f"
            ],
            [
             0.2222222222222222,
             "#7201a8"
            ],
            [
             0.3333333333333333,
             "#9c179e"
            ],
            [
             0.4444444444444444,
             "#bd3786"
            ],
            [
             0.5555555555555556,
             "#d8576b"
            ],
            [
             0.6666666666666666,
             "#ed7953"
            ],
            [
             0.7777777777777778,
             "#fb9f3a"
            ],
            [
             0.8888888888888888,
             "#fdca26"
            ],
            [
             1,
             "#f0f921"
            ]
           ]
          },
          "colorway": [
           "#636efa",
           "#EF553B",
           "#00cc96",
           "#ab63fa",
           "#FFA15A",
           "#19d3f3",
           "#FF6692",
           "#B6E880",
           "#FF97FF",
           "#FECB52"
          ],
          "font": {
           "color": "#2a3f5f"
          },
          "geo": {
           "bgcolor": "white",
           "lakecolor": "white",
           "landcolor": "#E5ECF6",
           "showlakes": true,
           "showland": true,
           "subunitcolor": "white"
          },
          "hoverlabel": {
           "align": "left"
          },
          "hovermode": "closest",
          "mapbox": {
           "style": "light"
          },
          "paper_bgcolor": "white",
          "plot_bgcolor": "#E5ECF6",
          "polar": {
           "angularaxis": {
            "gridcolor": "white",
            "linecolor": "white",
            "ticks": ""
           },
           "bgcolor": "#E5ECF6",
           "radialaxis": {
            "gridcolor": "white",
            "linecolor": "white",
            "ticks": ""
           }
          },
          "scene": {
           "xaxis": {
            "backgroundcolor": "#E5ECF6",
            "gridcolor": "white",
            "gridwidth": 2,
            "linecolor": "white",
            "showbackground": true,
            "ticks": "",
            "zerolinecolor": "white"
           },
           "yaxis": {
            "backgroundcolor": "#E5ECF6",
            "gridcolor": "white",
            "gridwidth": 2,
            "linecolor": "white",
            "showbackground": true,
            "ticks": "",
            "zerolinecolor": "white"
           },
           "zaxis": {
            "backgroundcolor": "#E5ECF6",
            "gridcolor": "white",
            "gridwidth": 2,
            "linecolor": "white",
            "showbackground": true,
            "ticks": "",
            "zerolinecolor": "white"
           }
          },
          "shapedefaults": {
           "line": {
            "color": "#2a3f5f"
           }
          },
          "ternary": {
           "aaxis": {
            "gridcolor": "white",
            "linecolor": "white",
            "ticks": ""
           },
           "baxis": {
            "gridcolor": "white",
            "linecolor": "white",
            "ticks": ""
           },
           "bgcolor": "#E5ECF6",
           "caxis": {
            "gridcolor": "white",
            "linecolor": "white",
            "ticks": ""
           }
          },
          "title": {
           "x": 0.05
          },
          "xaxis": {
           "automargin": true,
           "gridcolor": "white",
           "linecolor": "white",
           "ticks": "",
           "title": {
            "standoff": 15
           },
           "zerolinecolor": "white",
           "zerolinewidth": 2
          },
          "yaxis": {
           "automargin": true,
           "gridcolor": "white",
           "linecolor": "white",
           "ticks": "",
           "title": {
            "standoff": 15
           },
           "zerolinecolor": "white",
           "zerolinewidth": 2
          }
         }
        }
       }
      },
      "text/html": [
       "<div>                            <div id=\"784ca178-06f4-4d22-b5fc-8a6b80dc4063\" class=\"plotly-graph-div\" style=\"height:525px; width:100%;\"></div>            <script type=\"text/javascript\">                require([\"plotly\"], function(Plotly) {                    window.PLOTLYENV=window.PLOTLYENV || {};                                    if (document.getElementById(\"784ca178-06f4-4d22-b5fc-8a6b80dc4063\")) {                    Plotly.newPlot(                        \"784ca178-06f4-4d22-b5fc-8a6b80dc4063\",                        [{\"branchvalues\":\"total\",\"domain\":{\"x\":[0.0,1.0],\"y\":[0.0,1.0]},\"hovertemplate\":\"labels=%{label}<br>count=%{value}<br>parent=%{parent}<br>id=%{id}<extra></extra>\",\"ids\":[\"2/Manager/No\",\"3/Manager/No\",\"4/Manager/No\",\"2/Sales Executive/No\",\"3/Sales Executive/No\",\"4/Sales Executive/No\",\"2/Sales Representative/No\",\"3/Sales Representative/No\",\"4/Sales Representative/No\",\"2/Manager/Yes\",\"3/Manager/Yes\",\"4/Manager/Yes\",\"2/Sales Executive/Yes\",\"3/Sales Executive/Yes\",\"4/Sales Executive/Yes\",\"2/Sales Representative/Yes\",\"3/Sales Representative/Yes\",\"4/Sales Representative/Yes\",\"2/Manager\",\"3/Manager\",\"4/Manager\",\"2/Sales Executive\",\"3/Sales Executive\",\"4/Sales Executive\",\"2/Sales Representative\",\"3/Sales Representative\",\"4/Sales Representative\",\"2\",\"3\",\"4\"],\"labels\":[\"No\",\"No\",\"No\",\"No\",\"No\",\"No\",\"No\",\"No\",\"No\",\"Yes\",\"Yes\",\"Yes\",\"Yes\",\"Yes\",\"Yes\",\"Yes\",\"Yes\",\"Yes\",\"Manager\",\"Manager\",\"Manager\",\"Sales Executive\",\"Sales Executive\",\"Sales Executive\",\"Sales Representative\",\"Sales Representative\",\"Sales Representative\",\"2\",\"3\",\"4\"],\"name\":\"\",\"parents\":[\"2/Manager\",\"3/Manager\",\"4/Manager\",\"2/Sales Executive\",\"3/Sales Executive\",\"4/Sales Executive\",\"2/Sales Representative\",\"3/Sales Representative\",\"4/Sales Representative\",\"2/Manager\",\"3/Manager\",\"4/Manager\",\"2/Sales Executive\",\"3/Sales Executive\",\"4/Sales Executive\",\"2/Sales Representative\",\"3/Sales Representative\",\"4/Sales Representative\",\"2\",\"3\",\"4\",\"2\",\"3\",\"4\",\"2\",\"3\",\"4\",\"\",\"\",\"\"],\"values\":[8,10,5,43,111,17,7,31,1,1,6,2,4,46,5,1,4,1,9,16,7,47,157,22,8,35,2,64,208,31],\"type\":\"sunburst\"}],                        {\"template\":{\"data\":{\"histogram2dcontour\":[{\"type\":\"histogram2dcontour\",\"colorbar\":{\"outlinewidth\":0,\"ticks\":\"\"},\"colorscale\":[[0.0,\"#0d0887\"],[0.1111111111111111,\"#46039f\"],[0.2222222222222222,\"#7201a8\"],[0.3333333333333333,\"#9c179e\"],[0.4444444444444444,\"#bd3786\"],[0.5555555555555556,\"#d8576b\"],[0.6666666666666666,\"#ed7953\"],[0.7777777777777778,\"#fb9f3a\"],[0.8888888888888888,\"#fdca26\"],[1.0,\"#f0f921\"]]}],\"choropleth\":[{\"type\":\"choropleth\",\"colorbar\":{\"outlinewidth\":0,\"ticks\":\"\"}}],\"histogram2d\":[{\"type\":\"histogram2d\",\"colorbar\":{\"outlinewidth\":0,\"ticks\":\"\"},\"colorscale\":[[0.0,\"#0d0887\"],[0.1111111111111111,\"#46039f\"],[0.2222222222222222,\"#7201a8\"],[0.3333333333333333,\"#9c179e\"],[0.4444444444444444,\"#bd3786\"],[0.5555555555555556,\"#d8576b\"],[0.6666666666666666,\"#ed7953\"],[0.7777777777777778,\"#fb9f3a\"],[0.8888888888888888,\"#fdca26\"],[1.0,\"#f0f921\"]]}],\"heatmap\":[{\"type\":\"heatmap\",\"colorbar\":{\"outlinewidth\":0,\"ticks\":\"\"},\"colorscale\":[[0.0,\"#0d0887\"],[0.1111111111111111,\"#46039f\"],[0.2222222222222222,\"#7201a8\"],[0.3333333333333333,\"#9c179e\"],[0.4444444444444444,\"#bd3786\"],[0.5555555555555556,\"#d8576b\"],[0.6666666666666666,\"#ed7953\"],[0.7777777777777778,\"#fb9f3a\"],[0.8888888888888888,\"#fdca26\"],[1.0,\"#f0f921\"]]}],\"heatmapgl\":[{\"type\":\"heatmapgl\",\"colorbar\":{\"outlinewidth\":0,\"ticks\":\"\"},\"colorscale\":[[0.0,\"#0d0887\"],[0.1111111111111111,\"#46039f\"],[0.2222222222222222,\"#7201a8\"],[0.3333333333333333,\"#9c179e\"],[0.4444444444444444,\"#bd3786\"],[0.5555555555555556,\"#d8576b\"],[0.6666666666666666,\"#ed7953\"],[0.7777777777777778,\"#fb9f3a\"],[0.8888888888888888,\"#fdca26\"],[1.0,\"#f0f921\"]]}],\"contourcarpet\":[{\"type\":\"contourcarpet\",\"colorbar\":{\"outlinewidth\":0,\"ticks\":\"\"}}],\"contour\":[{\"type\":\"contour\",\"colorbar\":{\"outlinewidth\":0,\"ticks\":\"\"},\"colorscale\":[[0.0,\"#0d0887\"],[0.1111111111111111,\"#46039f\"],[0.2222222222222222,\"#7201a8\"],[0.3333333333333333,\"#9c179e\"],[0.4444444444444444,\"#bd3786\"],[0.5555555555555556,\"#d8576b\"],[0.6666666666666666,\"#ed7953\"],[0.7777777777777778,\"#fb9f3a\"],[0.8888888888888888,\"#fdca26\"],[1.0,\"#f0f921\"]]}],\"surface\":[{\"type\":\"surface\",\"colorbar\":{\"outlinewidth\":0,\"ticks\":\"\"},\"colorscale\":[[0.0,\"#0d0887\"],[0.1111111111111111,\"#46039f\"],[0.2222222222222222,\"#7201a8\"],[0.3333333333333333,\"#9c179e\"],[0.4444444444444444,\"#bd3786\"],[0.5555555555555556,\"#d8576b\"],[0.6666666666666666,\"#ed7953\"],[0.7777777777777778,\"#fb9f3a\"],[0.8888888888888888,\"#fdca26\"],[1.0,\"#f0f921\"]]}],\"mesh3d\":[{\"type\":\"mesh3d\",\"colorbar\":{\"outlinewidth\":0,\"ticks\":\"\"}}],\"scatter\":[{\"fillpattern\":{\"fillmode\":\"overlay\",\"size\":10,\"solidity\":0.2},\"type\":\"scatter\"}],\"parcoords\":[{\"type\":\"parcoords\",\"line\":{\"colorbar\":{\"outlinewidth\":0,\"ticks\":\"\"}}}],\"scatterpolargl\":[{\"type\":\"scatterpolargl\",\"marker\":{\"colorbar\":{\"outlinewidth\":0,\"ticks\":\"\"}}}],\"bar\":[{\"error_x\":{\"color\":\"#2a3f5f\"},\"error_y\":{\"color\":\"#2a3f5f\"},\"marker\":{\"line\":{\"color\":\"#E5ECF6\",\"width\":0.5},\"pattern\":{\"fillmode\":\"overlay\",\"size\":10,\"solidity\":0.2}},\"type\":\"bar\"}],\"scattergeo\":[{\"type\":\"scattergeo\",\"marker\":{\"colorbar\":{\"outlinewidth\":0,\"ticks\":\"\"}}}],\"scatterpolar\":[{\"type\":\"scatterpolar\",\"marker\":{\"colorbar\":{\"outlinewidth\":0,\"ticks\":\"\"}}}],\"histogram\":[{\"marker\":{\"pattern\":{\"fillmode\":\"overlay\",\"size\":10,\"solidity\":0.2}},\"type\":\"histogram\"}],\"scattergl\":[{\"type\":\"scattergl\",\"marker\":{\"colorbar\":{\"outlinewidth\":0,\"ticks\":\"\"}}}],\"scatter3d\":[{\"type\":\"scatter3d\",\"line\":{\"colorbar\":{\"outlinewidth\":0,\"ticks\":\"\"}},\"marker\":{\"colorbar\":{\"outlinewidth\":0,\"ticks\":\"\"}}}],\"scattermapbox\":[{\"type\":\"scattermapbox\",\"marker\":{\"colorbar\":{\"outlinewidth\":0,\"ticks\":\"\"}}}],\"scatterternary\":[{\"type\":\"scatterternary\",\"marker\":{\"colorbar\":{\"outlinewidth\":0,\"ticks\":\"\"}}}],\"scattercarpet\":[{\"type\":\"scattercarpet\",\"marker\":{\"colorbar\":{\"outlinewidth\":0,\"ticks\":\"\"}}}],\"carpet\":[{\"aaxis\":{\"endlinecolor\":\"#2a3f5f\",\"gridcolor\":\"white\",\"linecolor\":\"white\",\"minorgridcolor\":\"white\",\"startlinecolor\":\"#2a3f5f\"},\"baxis\":{\"endlinecolor\":\"#2a3f5f\",\"gridcolor\":\"white\",\"linecolor\":\"white\",\"minorgridcolor\":\"white\",\"startlinecolor\":\"#2a3f5f\"},\"type\":\"carpet\"}],\"table\":[{\"cells\":{\"fill\":{\"color\":\"#EBF0F8\"},\"line\":{\"color\":\"white\"}},\"header\":{\"fill\":{\"color\":\"#C8D4E3\"},\"line\":{\"color\":\"white\"}},\"type\":\"table\"}],\"barpolar\":[{\"marker\":{\"line\":{\"color\":\"#E5ECF6\",\"width\":0.5},\"pattern\":{\"fillmode\":\"overlay\",\"size\":10,\"solidity\":0.2}},\"type\":\"barpolar\"}],\"pie\":[{\"automargin\":true,\"type\":\"pie\"}]},\"layout\":{\"autotypenumbers\":\"strict\",\"colorway\":[\"#636efa\",\"#EF553B\",\"#00cc96\",\"#ab63fa\",\"#FFA15A\",\"#19d3f3\",\"#FF6692\",\"#B6E880\",\"#FF97FF\",\"#FECB52\"],\"font\":{\"color\":\"#2a3f5f\"},\"hovermode\":\"closest\",\"hoverlabel\":{\"align\":\"left\"},\"paper_bgcolor\":\"white\",\"plot_bgcolor\":\"#E5ECF6\",\"polar\":{\"bgcolor\":\"#E5ECF6\",\"angularaxis\":{\"gridcolor\":\"white\",\"linecolor\":\"white\",\"ticks\":\"\"},\"radialaxis\":{\"gridcolor\":\"white\",\"linecolor\":\"white\",\"ticks\":\"\"}},\"ternary\":{\"bgcolor\":\"#E5ECF6\",\"aaxis\":{\"gridcolor\":\"white\",\"linecolor\":\"white\",\"ticks\":\"\"},\"baxis\":{\"gridcolor\":\"white\",\"linecolor\":\"white\",\"ticks\":\"\"},\"caxis\":{\"gridcolor\":\"white\",\"linecolor\":\"white\",\"ticks\":\"\"}},\"coloraxis\":{\"colorbar\":{\"outlinewidth\":0,\"ticks\":\"\"}},\"colorscale\":{\"sequential\":[[0.0,\"#0d0887\"],[0.1111111111111111,\"#46039f\"],[0.2222222222222222,\"#7201a8\"],[0.3333333333333333,\"#9c179e\"],[0.4444444444444444,\"#bd3786\"],[0.5555555555555556,\"#d8576b\"],[0.6666666666666666,\"#ed7953\"],[0.7777777777777778,\"#fb9f3a\"],[0.8888888888888888,\"#fdca26\"],[1.0,\"#f0f921\"]],\"sequentialminus\":[[0.0,\"#0d0887\"],[0.1111111111111111,\"#46039f\"],[0.2222222222222222,\"#7201a8\"],[0.3333333333333333,\"#9c179e\"],[0.4444444444444444,\"#bd3786\"],[0.5555555555555556,\"#d8576b\"],[0.6666666666666666,\"#ed7953\"],[0.7777777777777778,\"#fb9f3a\"],[0.8888888888888888,\"#fdca26\"],[1.0,\"#f0f921\"]],\"diverging\":[[0,\"#8e0152\"],[0.1,\"#c51b7d\"],[0.2,\"#de77ae\"],[0.3,\"#f1b6da\"],[0.4,\"#fde0ef\"],[0.5,\"#f7f7f7\"],[0.6,\"#e6f5d0\"],[0.7,\"#b8e186\"],[0.8,\"#7fbc41\"],[0.9,\"#4d9221\"],[1,\"#276419\"]]},\"xaxis\":{\"gridcolor\":\"white\",\"linecolor\":\"white\",\"ticks\":\"\",\"title\":{\"standoff\":15},\"zerolinecolor\":\"white\",\"automargin\":true,\"zerolinewidth\":2},\"yaxis\":{\"gridcolor\":\"white\",\"linecolor\":\"white\",\"ticks\":\"\",\"title\":{\"standoff\":15},\"zerolinecolor\":\"white\",\"automargin\":true,\"zerolinewidth\":2},\"scene\":{\"xaxis\":{\"backgroundcolor\":\"#E5ECF6\",\"gridcolor\":\"white\",\"linecolor\":\"white\",\"showbackground\":true,\"ticks\":\"\",\"zerolinecolor\":\"white\",\"gridwidth\":2},\"yaxis\":{\"backgroundcolor\":\"#E5ECF6\",\"gridcolor\":\"white\",\"linecolor\":\"white\",\"showbackground\":true,\"ticks\":\"\",\"zerolinecolor\":\"white\",\"gridwidth\":2},\"zaxis\":{\"backgroundcolor\":\"#E5ECF6\",\"gridcolor\":\"white\",\"linecolor\":\"white\",\"showbackground\":true,\"ticks\":\"\",\"zerolinecolor\":\"white\",\"gridwidth\":2}},\"shapedefaults\":{\"line\":{\"color\":\"#2a3f5f\"}},\"annotationdefaults\":{\"arrowcolor\":\"#2a3f5f\",\"arrowhead\":0,\"arrowwidth\":1},\"geo\":{\"bgcolor\":\"white\",\"landcolor\":\"#E5ECF6\",\"subunitcolor\":\"white\",\"showland\":true,\"showlakes\":true,\"lakecolor\":\"white\"},\"title\":{\"x\":0.05},\"mapbox\":{\"style\":\"light\"}}},\"legend\":{\"tracegroupgap\":0},\"margin\":{\"t\":60}},                        {\"responsive\": true}                    ).then(function(){\n",
       "                            \n",
       "var gd = document.getElementById('784ca178-06f4-4d22-b5fc-8a6b80dc4063');\n",
       "var x = new MutationObserver(function (mutations, observer) {{\n",
       "        var display = window.getComputedStyle(gd).display;\n",
       "        if (!display || display === 'none') {{\n",
       "            console.log([gd, 'removed!']);\n",
       "            Plotly.purge(gd);\n",
       "            observer.disconnect();\n",
       "        }}\n",
       "}});\n",
       "\n",
       "// Listen for the removal of the full notebook cells\n",
       "var notebookContainer = gd.closest('#notebook-container');\n",
       "if (notebookContainer) {{\n",
       "    x.observe(notebookContainer, {childList: true});\n",
       "}}\n",
       "\n",
       "// Listen for the clearing of the current output cell\n",
       "var outputEl = gd.closest('.output');\n",
       "if (outputEl) {{\n",
       "    x.observe(outputEl, {childList: true});\n",
       "}}\n",
       "\n",
       "                        })                };                });            </script>        </div>"
      ]
     },
     "metadata": {},
     "output_type": "display_data"
    }
   ],
   "source": [
    "# 4) Number of working hours : \n",
    "\n",
    "fig=px.sunburst(df_sales, path=['PerformanceRating','EmpJobRole','OverTime'])\n",
    "fig.show()\n",
    "\n",
    "# It is observed that Among 64 under-performing employees of Sales Dept. 43 sales executives, 8 sales manager and 7 sales representatives DO NOT DO OVERTIME."
   ]
  },
  {
   "cell_type": "code",
   "execution_count": 161,
   "id": "fc926fd2",
   "metadata": {},
   "outputs": [
    {
     "data": {
      "application/vnd.plotly.v1+json": {
       "config": {
        "plotlyServerURL": "https://plot.ly"
       },
       "data": [
        {
         "branchvalues": "total",
         "domain": {
          "x": [
           0,
           1
          ],
          "y": [
           0,
           1
          ]
         },
         "hovertemplate": "labels=%{label}<br>count=%{value}<br>parent=%{parent}<br>id=%{id}<extra></extra>",
         "ids": [
          "2/Manager/1",
          "4/Manager/1",
          "2/Sales Executive/1",
          "3/Sales Executive/1",
          "4/Sales Executive/1",
          "3/Sales Representative/1",
          "2/Manager/2",
          "3/Manager/2",
          "4/Manager/2",
          "2/Sales Executive/2",
          "3/Sales Executive/2",
          "4/Sales Executive/2",
          "2/Sales Representative/2",
          "3/Sales Representative/2",
          "4/Sales Representative/2",
          "2/Manager/3",
          "3/Manager/3",
          "4/Manager/3",
          "2/Sales Executive/3",
          "3/Sales Executive/3",
          "4/Sales Executive/3",
          "2/Sales Representative/3",
          "3/Sales Representative/3",
          "2/Manager/4",
          "3/Manager/4",
          "4/Manager/4",
          "2/Sales Executive/4",
          "3/Sales Executive/4",
          "4/Sales Executive/4",
          "2/Sales Representative/4",
          "3/Sales Representative/4",
          "4/Sales Representative/4",
          "2/Manager",
          "3/Manager",
          "4/Manager",
          "2/Sales Executive",
          "3/Sales Executive",
          "4/Sales Executive",
          "2/Sales Representative",
          "3/Sales Representative",
          "4/Sales Representative",
          "2",
          "3",
          "4"
         ],
         "labels": [
          "1",
          "1",
          "1",
          "1",
          "1",
          "1",
          "2",
          "2",
          "2",
          "2",
          "2",
          "2",
          "2",
          "2",
          "2",
          "3",
          "3",
          "3",
          "3",
          "3",
          "3",
          "3",
          "3",
          "4",
          "4",
          "4",
          "4",
          "4",
          "4",
          "4",
          "4",
          "4",
          "Manager",
          "Manager",
          "Manager",
          "Sales Executive",
          "Sales Executive",
          "Sales Executive",
          "Sales Representative",
          "Sales Representative",
          "Sales Representative",
          "2",
          "3",
          "4"
         ],
         "name": "",
         "parents": [
          "2/Manager",
          "4/Manager",
          "2/Sales Executive",
          "3/Sales Executive",
          "4/Sales Executive",
          "3/Sales Representative",
          "2/Manager",
          "3/Manager",
          "4/Manager",
          "2/Sales Executive",
          "3/Sales Executive",
          "4/Sales Executive",
          "2/Sales Representative",
          "3/Sales Representative",
          "4/Sales Representative",
          "2/Manager",
          "3/Manager",
          "4/Manager",
          "2/Sales Executive",
          "3/Sales Executive",
          "4/Sales Executive",
          "2/Sales Representative",
          "3/Sales Representative",
          "2/Manager",
          "3/Manager",
          "4/Manager",
          "2/Sales Executive",
          "3/Sales Executive",
          "4/Sales Executive",
          "2/Sales Representative",
          "3/Sales Representative",
          "4/Sales Representative",
          "2",
          "3",
          "4",
          "2",
          "3",
          "4",
          "2",
          "3",
          "4",
          "",
          "",
          ""
         ],
         "type": "sunburst",
         "values": [
          2,
          2,
          13,
          27,
          3,
          5,
          4,
          4,
          1,
          4,
          33,
          2,
          1,
          8,
          1,
          2,
          5,
          1,
          13,
          42,
          5,
          4,
          12,
          1,
          7,
          3,
          17,
          55,
          12,
          3,
          10,
          1,
          9,
          16,
          7,
          47,
          157,
          22,
          8,
          35,
          2,
          64,
          208,
          31
         ]
        }
       ],
       "layout": {
        "legend": {
         "tracegroupgap": 0
        },
        "margin": {
         "t": 60
        },
        "template": {
         "data": {
          "bar": [
           {
            "error_x": {
             "color": "#2a3f5f"
            },
            "error_y": {
             "color": "#2a3f5f"
            },
            "marker": {
             "line": {
              "color": "#E5ECF6",
              "width": 0.5
             },
             "pattern": {
              "fillmode": "overlay",
              "size": 10,
              "solidity": 0.2
             }
            },
            "type": "bar"
           }
          ],
          "barpolar": [
           {
            "marker": {
             "line": {
              "color": "#E5ECF6",
              "width": 0.5
             },
             "pattern": {
              "fillmode": "overlay",
              "size": 10,
              "solidity": 0.2
             }
            },
            "type": "barpolar"
           }
          ],
          "carpet": [
           {
            "aaxis": {
             "endlinecolor": "#2a3f5f",
             "gridcolor": "white",
             "linecolor": "white",
             "minorgridcolor": "white",
             "startlinecolor": "#2a3f5f"
            },
            "baxis": {
             "endlinecolor": "#2a3f5f",
             "gridcolor": "white",
             "linecolor": "white",
             "minorgridcolor": "white",
             "startlinecolor": "#2a3f5f"
            },
            "type": "carpet"
           }
          ],
          "choropleth": [
           {
            "colorbar": {
             "outlinewidth": 0,
             "ticks": ""
            },
            "type": "choropleth"
           }
          ],
          "contour": [
           {
            "colorbar": {
             "outlinewidth": 0,
             "ticks": ""
            },
            "colorscale": [
             [
              0,
              "#0d0887"
             ],
             [
              0.1111111111111111,
              "#46039f"
             ],
             [
              0.2222222222222222,
              "#7201a8"
             ],
             [
              0.3333333333333333,
              "#9c179e"
             ],
             [
              0.4444444444444444,
              "#bd3786"
             ],
             [
              0.5555555555555556,
              "#d8576b"
             ],
             [
              0.6666666666666666,
              "#ed7953"
             ],
             [
              0.7777777777777778,
              "#fb9f3a"
             ],
             [
              0.8888888888888888,
              "#fdca26"
             ],
             [
              1,
              "#f0f921"
             ]
            ],
            "type": "contour"
           }
          ],
          "contourcarpet": [
           {
            "colorbar": {
             "outlinewidth": 0,
             "ticks": ""
            },
            "type": "contourcarpet"
           }
          ],
          "heatmap": [
           {
            "colorbar": {
             "outlinewidth": 0,
             "ticks": ""
            },
            "colorscale": [
             [
              0,
              "#0d0887"
             ],
             [
              0.1111111111111111,
              "#46039f"
             ],
             [
              0.2222222222222222,
              "#7201a8"
             ],
             [
              0.3333333333333333,
              "#9c179e"
             ],
             [
              0.4444444444444444,
              "#bd3786"
             ],
             [
              0.5555555555555556,
              "#d8576b"
             ],
             [
              0.6666666666666666,
              "#ed7953"
             ],
             [
              0.7777777777777778,
              "#fb9f3a"
             ],
             [
              0.8888888888888888,
              "#fdca26"
             ],
             [
              1,
              "#f0f921"
             ]
            ],
            "type": "heatmap"
           }
          ],
          "heatmapgl": [
           {
            "colorbar": {
             "outlinewidth": 0,
             "ticks": ""
            },
            "colorscale": [
             [
              0,
              "#0d0887"
             ],
             [
              0.1111111111111111,
              "#46039f"
             ],
             [
              0.2222222222222222,
              "#7201a8"
             ],
             [
              0.3333333333333333,
              "#9c179e"
             ],
             [
              0.4444444444444444,
              "#bd3786"
             ],
             [
              0.5555555555555556,
              "#d8576b"
             ],
             [
              0.6666666666666666,
              "#ed7953"
             ],
             [
              0.7777777777777778,
              "#fb9f3a"
             ],
             [
              0.8888888888888888,
              "#fdca26"
             ],
             [
              1,
              "#f0f921"
             ]
            ],
            "type": "heatmapgl"
           }
          ],
          "histogram": [
           {
            "marker": {
             "pattern": {
              "fillmode": "overlay",
              "size": 10,
              "solidity": 0.2
             }
            },
            "type": "histogram"
           }
          ],
          "histogram2d": [
           {
            "colorbar": {
             "outlinewidth": 0,
             "ticks": ""
            },
            "colorscale": [
             [
              0,
              "#0d0887"
             ],
             [
              0.1111111111111111,
              "#46039f"
             ],
             [
              0.2222222222222222,
              "#7201a8"
             ],
             [
              0.3333333333333333,
              "#9c179e"
             ],
             [
              0.4444444444444444,
              "#bd3786"
             ],
             [
              0.5555555555555556,
              "#d8576b"
             ],
             [
              0.6666666666666666,
              "#ed7953"
             ],
             [
              0.7777777777777778,
              "#fb9f3a"
             ],
             [
              0.8888888888888888,
              "#fdca26"
             ],
             [
              1,
              "#f0f921"
             ]
            ],
            "type": "histogram2d"
           }
          ],
          "histogram2dcontour": [
           {
            "colorbar": {
             "outlinewidth": 0,
             "ticks": ""
            },
            "colorscale": [
             [
              0,
              "#0d0887"
             ],
             [
              0.1111111111111111,
              "#46039f"
             ],
             [
              0.2222222222222222,
              "#7201a8"
             ],
             [
              0.3333333333333333,
              "#9c179e"
             ],
             [
              0.4444444444444444,
              "#bd3786"
             ],
             [
              0.5555555555555556,
              "#d8576b"
             ],
             [
              0.6666666666666666,
              "#ed7953"
             ],
             [
              0.7777777777777778,
              "#fb9f3a"
             ],
             [
              0.8888888888888888,
              "#fdca26"
             ],
             [
              1,
              "#f0f921"
             ]
            ],
            "type": "histogram2dcontour"
           }
          ],
          "mesh3d": [
           {
            "colorbar": {
             "outlinewidth": 0,
             "ticks": ""
            },
            "type": "mesh3d"
           }
          ],
          "parcoords": [
           {
            "line": {
             "colorbar": {
              "outlinewidth": 0,
              "ticks": ""
             }
            },
            "type": "parcoords"
           }
          ],
          "pie": [
           {
            "automargin": true,
            "type": "pie"
           }
          ],
          "scatter": [
           {
            "fillpattern": {
             "fillmode": "overlay",
             "size": 10,
             "solidity": 0.2
            },
            "type": "scatter"
           }
          ],
          "scatter3d": [
           {
            "line": {
             "colorbar": {
              "outlinewidth": 0,
              "ticks": ""
             }
            },
            "marker": {
             "colorbar": {
              "outlinewidth": 0,
              "ticks": ""
             }
            },
            "type": "scatter3d"
           }
          ],
          "scattercarpet": [
           {
            "marker": {
             "colorbar": {
              "outlinewidth": 0,
              "ticks": ""
             }
            },
            "type": "scattercarpet"
           }
          ],
          "scattergeo": [
           {
            "marker": {
             "colorbar": {
              "outlinewidth": 0,
              "ticks": ""
             }
            },
            "type": "scattergeo"
           }
          ],
          "scattergl": [
           {
            "marker": {
             "colorbar": {
              "outlinewidth": 0,
              "ticks": ""
             }
            },
            "type": "scattergl"
           }
          ],
          "scattermapbox": [
           {
            "marker": {
             "colorbar": {
              "outlinewidth": 0,
              "ticks": ""
             }
            },
            "type": "scattermapbox"
           }
          ],
          "scatterpolar": [
           {
            "marker": {
             "colorbar": {
              "outlinewidth": 0,
              "ticks": ""
             }
            },
            "type": "scatterpolar"
           }
          ],
          "scatterpolargl": [
           {
            "marker": {
             "colorbar": {
              "outlinewidth": 0,
              "ticks": ""
             }
            },
            "type": "scatterpolargl"
           }
          ],
          "scatterternary": [
           {
            "marker": {
             "colorbar": {
              "outlinewidth": 0,
              "ticks": ""
             }
            },
            "type": "scatterternary"
           }
          ],
          "surface": [
           {
            "colorbar": {
             "outlinewidth": 0,
             "ticks": ""
            },
            "colorscale": [
             [
              0,
              "#0d0887"
             ],
             [
              0.1111111111111111,
              "#46039f"
             ],
             [
              0.2222222222222222,
              "#7201a8"
             ],
             [
              0.3333333333333333,
              "#9c179e"
             ],
             [
              0.4444444444444444,
              "#bd3786"
             ],
             [
              0.5555555555555556,
              "#d8576b"
             ],
             [
              0.6666666666666666,
              "#ed7953"
             ],
             [
              0.7777777777777778,
              "#fb9f3a"
             ],
             [
              0.8888888888888888,
              "#fdca26"
             ],
             [
              1,
              "#f0f921"
             ]
            ],
            "type": "surface"
           }
          ],
          "table": [
           {
            "cells": {
             "fill": {
              "color": "#EBF0F8"
             },
             "line": {
              "color": "white"
             }
            },
            "header": {
             "fill": {
              "color": "#C8D4E3"
             },
             "line": {
              "color": "white"
             }
            },
            "type": "table"
           }
          ]
         },
         "layout": {
          "annotationdefaults": {
           "arrowcolor": "#2a3f5f",
           "arrowhead": 0,
           "arrowwidth": 1
          },
          "autotypenumbers": "strict",
          "coloraxis": {
           "colorbar": {
            "outlinewidth": 0,
            "ticks": ""
           }
          },
          "colorscale": {
           "diverging": [
            [
             0,
             "#8e0152"
            ],
            [
             0.1,
             "#c51b7d"
            ],
            [
             0.2,
             "#de77ae"
            ],
            [
             0.3,
             "#f1b6da"
            ],
            [
             0.4,
             "#fde0ef"
            ],
            [
             0.5,
             "#f7f7f7"
            ],
            [
             0.6,
             "#e6f5d0"
            ],
            [
             0.7,
             "#b8e186"
            ],
            [
             0.8,
             "#7fbc41"
            ],
            [
             0.9,
             "#4d9221"
            ],
            [
             1,
             "#276419"
            ]
           ],
           "sequential": [
            [
             0,
             "#0d0887"
            ],
            [
             0.1111111111111111,
             "#46039f"
            ],
            [
             0.2222222222222222,
             "#7201a8"
            ],
            [
             0.3333333333333333,
             "#9c179e"
            ],
            [
             0.4444444444444444,
             "#bd3786"
            ],
            [
             0.5555555555555556,
             "#d8576b"
            ],
            [
             0.6666666666666666,
             "#ed7953"
            ],
            [
             0.7777777777777778,
             "#fb9f3a"
            ],
            [
             0.8888888888888888,
             "#fdca26"
            ],
            [
             1,
             "#f0f921"
            ]
           ],
           "sequentialminus": [
            [
             0,
             "#0d0887"
            ],
            [
             0.1111111111111111,
             "#46039f"
            ],
            [
             0.2222222222222222,
             "#7201a8"
            ],
            [
             0.3333333333333333,
             "#9c179e"
            ],
            [
             0.4444444444444444,
             "#bd3786"
            ],
            [
             0.5555555555555556,
             "#d8576b"
            ],
            [
             0.6666666666666666,
             "#ed7953"
            ],
            [
             0.7777777777777778,
             "#fb9f3a"
            ],
            [
             0.8888888888888888,
             "#fdca26"
            ],
            [
             1,
             "#f0f921"
            ]
           ]
          },
          "colorway": [
           "#636efa",
           "#EF553B",
           "#00cc96",
           "#ab63fa",
           "#FFA15A",
           "#19d3f3",
           "#FF6692",
           "#B6E880",
           "#FF97FF",
           "#FECB52"
          ],
          "font": {
           "color": "#2a3f5f"
          },
          "geo": {
           "bgcolor": "white",
           "lakecolor": "white",
           "landcolor": "#E5ECF6",
           "showlakes": true,
           "showland": true,
           "subunitcolor": "white"
          },
          "hoverlabel": {
           "align": "left"
          },
          "hovermode": "closest",
          "mapbox": {
           "style": "light"
          },
          "paper_bgcolor": "white",
          "plot_bgcolor": "#E5ECF6",
          "polar": {
           "angularaxis": {
            "gridcolor": "white",
            "linecolor": "white",
            "ticks": ""
           },
           "bgcolor": "#E5ECF6",
           "radialaxis": {
            "gridcolor": "white",
            "linecolor": "white",
            "ticks": ""
           }
          },
          "scene": {
           "xaxis": {
            "backgroundcolor": "#E5ECF6",
            "gridcolor": "white",
            "gridwidth": 2,
            "linecolor": "white",
            "showbackground": true,
            "ticks": "",
            "zerolinecolor": "white"
           },
           "yaxis": {
            "backgroundcolor": "#E5ECF6",
            "gridcolor": "white",
            "gridwidth": 2,
            "linecolor": "white",
            "showbackground": true,
            "ticks": "",
            "zerolinecolor": "white"
           },
           "zaxis": {
            "backgroundcolor": "#E5ECF6",
            "gridcolor": "white",
            "gridwidth": 2,
            "linecolor": "white",
            "showbackground": true,
            "ticks": "",
            "zerolinecolor": "white"
           }
          },
          "shapedefaults": {
           "line": {
            "color": "#2a3f5f"
           }
          },
          "ternary": {
           "aaxis": {
            "gridcolor": "white",
            "linecolor": "white",
            "ticks": ""
           },
           "baxis": {
            "gridcolor": "white",
            "linecolor": "white",
            "ticks": ""
           },
           "bgcolor": "#E5ECF6",
           "caxis": {
            "gridcolor": "white",
            "linecolor": "white",
            "ticks": ""
           }
          },
          "title": {
           "x": 0.05
          },
          "xaxis": {
           "automargin": true,
           "gridcolor": "white",
           "linecolor": "white",
           "ticks": "",
           "title": {
            "standoff": 15
           },
           "zerolinecolor": "white",
           "zerolinewidth": 2
          },
          "yaxis": {
           "automargin": true,
           "gridcolor": "white",
           "linecolor": "white",
           "ticks": "",
           "title": {
            "standoff": 15
           },
           "zerolinecolor": "white",
           "zerolinewidth": 2
          }
         }
        }
       }
      },
      "text/html": [
       "<div>                            <div id=\"9e36602c-5949-42f3-a723-07899ab1e757\" class=\"plotly-graph-div\" style=\"height:525px; width:100%;\"></div>            <script type=\"text/javascript\">                require([\"plotly\"], function(Plotly) {                    window.PLOTLYENV=window.PLOTLYENV || {};                                    if (document.getElementById(\"9e36602c-5949-42f3-a723-07899ab1e757\")) {                    Plotly.newPlot(                        \"9e36602c-5949-42f3-a723-07899ab1e757\",                        [{\"branchvalues\":\"total\",\"domain\":{\"x\":[0.0,1.0],\"y\":[0.0,1.0]},\"hovertemplate\":\"labels=%{label}<br>count=%{value}<br>parent=%{parent}<br>id=%{id}<extra></extra>\",\"ids\":[\"2/Manager/1\",\"4/Manager/1\",\"2/Sales Executive/1\",\"3/Sales Executive/1\",\"4/Sales Executive/1\",\"3/Sales Representative/1\",\"2/Manager/2\",\"3/Manager/2\",\"4/Manager/2\",\"2/Sales Executive/2\",\"3/Sales Executive/2\",\"4/Sales Executive/2\",\"2/Sales Representative/2\",\"3/Sales Representative/2\",\"4/Sales Representative/2\",\"2/Manager/3\",\"3/Manager/3\",\"4/Manager/3\",\"2/Sales Executive/3\",\"3/Sales Executive/3\",\"4/Sales Executive/3\",\"2/Sales Representative/3\",\"3/Sales Representative/3\",\"2/Manager/4\",\"3/Manager/4\",\"4/Manager/4\",\"2/Sales Executive/4\",\"3/Sales Executive/4\",\"4/Sales Executive/4\",\"2/Sales Representative/4\",\"3/Sales Representative/4\",\"4/Sales Representative/4\",\"2/Manager\",\"3/Manager\",\"4/Manager\",\"2/Sales Executive\",\"3/Sales Executive\",\"4/Sales Executive\",\"2/Sales Representative\",\"3/Sales Representative\",\"4/Sales Representative\",\"2\",\"3\",\"4\"],\"labels\":[\"1\",\"1\",\"1\",\"1\",\"1\",\"1\",\"2\",\"2\",\"2\",\"2\",\"2\",\"2\",\"2\",\"2\",\"2\",\"3\",\"3\",\"3\",\"3\",\"3\",\"3\",\"3\",\"3\",\"4\",\"4\",\"4\",\"4\",\"4\",\"4\",\"4\",\"4\",\"4\",\"Manager\",\"Manager\",\"Manager\",\"Sales Executive\",\"Sales Executive\",\"Sales Executive\",\"Sales Representative\",\"Sales Representative\",\"Sales Representative\",\"2\",\"3\",\"4\"],\"name\":\"\",\"parents\":[\"2/Manager\",\"4/Manager\",\"2/Sales Executive\",\"3/Sales Executive\",\"4/Sales Executive\",\"3/Sales Representative\",\"2/Manager\",\"3/Manager\",\"4/Manager\",\"2/Sales Executive\",\"3/Sales Executive\",\"4/Sales Executive\",\"2/Sales Representative\",\"3/Sales Representative\",\"4/Sales Representative\",\"2/Manager\",\"3/Manager\",\"4/Manager\",\"2/Sales Executive\",\"3/Sales Executive\",\"4/Sales Executive\",\"2/Sales Representative\",\"3/Sales Representative\",\"2/Manager\",\"3/Manager\",\"4/Manager\",\"2/Sales Executive\",\"3/Sales Executive\",\"4/Sales Executive\",\"2/Sales Representative\",\"3/Sales Representative\",\"4/Sales Representative\",\"2\",\"3\",\"4\",\"2\",\"3\",\"4\",\"2\",\"3\",\"4\",\"\",\"\",\"\"],\"values\":[2,2,13,27,3,5,4,4,1,4,33,2,1,8,1,2,5,1,13,42,5,4,12,1,7,3,17,55,12,3,10,1,9,16,7,47,157,22,8,35,2,64,208,31],\"type\":\"sunburst\"}],                        {\"template\":{\"data\":{\"histogram2dcontour\":[{\"type\":\"histogram2dcontour\",\"colorbar\":{\"outlinewidth\":0,\"ticks\":\"\"},\"colorscale\":[[0.0,\"#0d0887\"],[0.1111111111111111,\"#46039f\"],[0.2222222222222222,\"#7201a8\"],[0.3333333333333333,\"#9c179e\"],[0.4444444444444444,\"#bd3786\"],[0.5555555555555556,\"#d8576b\"],[0.6666666666666666,\"#ed7953\"],[0.7777777777777778,\"#fb9f3a\"],[0.8888888888888888,\"#fdca26\"],[1.0,\"#f0f921\"]]}],\"choropleth\":[{\"type\":\"choropleth\",\"colorbar\":{\"outlinewidth\":0,\"ticks\":\"\"}}],\"histogram2d\":[{\"type\":\"histogram2d\",\"colorbar\":{\"outlinewidth\":0,\"ticks\":\"\"},\"colorscale\":[[0.0,\"#0d0887\"],[0.1111111111111111,\"#46039f\"],[0.2222222222222222,\"#7201a8\"],[0.3333333333333333,\"#9c179e\"],[0.4444444444444444,\"#bd3786\"],[0.5555555555555556,\"#d8576b\"],[0.6666666666666666,\"#ed7953\"],[0.7777777777777778,\"#fb9f3a\"],[0.8888888888888888,\"#fdca26\"],[1.0,\"#f0f921\"]]}],\"heatmap\":[{\"type\":\"heatmap\",\"colorbar\":{\"outlinewidth\":0,\"ticks\":\"\"},\"colorscale\":[[0.0,\"#0d0887\"],[0.1111111111111111,\"#46039f\"],[0.2222222222222222,\"#7201a8\"],[0.3333333333333333,\"#9c179e\"],[0.4444444444444444,\"#bd3786\"],[0.5555555555555556,\"#d8576b\"],[0.6666666666666666,\"#ed7953\"],[0.7777777777777778,\"#fb9f3a\"],[0.8888888888888888,\"#fdca26\"],[1.0,\"#f0f921\"]]}],\"heatmapgl\":[{\"type\":\"heatmapgl\",\"colorbar\":{\"outlinewidth\":0,\"ticks\":\"\"},\"colorscale\":[[0.0,\"#0d0887\"],[0.1111111111111111,\"#46039f\"],[0.2222222222222222,\"#7201a8\"],[0.3333333333333333,\"#9c179e\"],[0.4444444444444444,\"#bd3786\"],[0.5555555555555556,\"#d8576b\"],[0.6666666666666666,\"#ed7953\"],[0.7777777777777778,\"#fb9f3a\"],[0.8888888888888888,\"#fdca26\"],[1.0,\"#f0f921\"]]}],\"contourcarpet\":[{\"type\":\"contourcarpet\",\"colorbar\":{\"outlinewidth\":0,\"ticks\":\"\"}}],\"contour\":[{\"type\":\"contour\",\"colorbar\":{\"outlinewidth\":0,\"ticks\":\"\"},\"colorscale\":[[0.0,\"#0d0887\"],[0.1111111111111111,\"#46039f\"],[0.2222222222222222,\"#7201a8\"],[0.3333333333333333,\"#9c179e\"],[0.4444444444444444,\"#bd3786\"],[0.5555555555555556,\"#d8576b\"],[0.6666666666666666,\"#ed7953\"],[0.7777777777777778,\"#fb9f3a\"],[0.8888888888888888,\"#fdca26\"],[1.0,\"#f0f921\"]]}],\"surface\":[{\"type\":\"surface\",\"colorbar\":{\"outlinewidth\":0,\"ticks\":\"\"},\"colorscale\":[[0.0,\"#0d0887\"],[0.1111111111111111,\"#46039f\"],[0.2222222222222222,\"#7201a8\"],[0.3333333333333333,\"#9c179e\"],[0.4444444444444444,\"#bd3786\"],[0.5555555555555556,\"#d8576b\"],[0.6666666666666666,\"#ed7953\"],[0.7777777777777778,\"#fb9f3a\"],[0.8888888888888888,\"#fdca26\"],[1.0,\"#f0f921\"]]}],\"mesh3d\":[{\"type\":\"mesh3d\",\"colorbar\":{\"outlinewidth\":0,\"ticks\":\"\"}}],\"scatter\":[{\"fillpattern\":{\"fillmode\":\"overlay\",\"size\":10,\"solidity\":0.2},\"type\":\"scatter\"}],\"parcoords\":[{\"type\":\"parcoords\",\"line\":{\"colorbar\":{\"outlinewidth\":0,\"ticks\":\"\"}}}],\"scatterpolargl\":[{\"type\":\"scatterpolargl\",\"marker\":{\"colorbar\":{\"outlinewidth\":0,\"ticks\":\"\"}}}],\"bar\":[{\"error_x\":{\"color\":\"#2a3f5f\"},\"error_y\":{\"color\":\"#2a3f5f\"},\"marker\":{\"line\":{\"color\":\"#E5ECF6\",\"width\":0.5},\"pattern\":{\"fillmode\":\"overlay\",\"size\":10,\"solidity\":0.2}},\"type\":\"bar\"}],\"scattergeo\":[{\"type\":\"scattergeo\",\"marker\":{\"colorbar\":{\"outlinewidth\":0,\"ticks\":\"\"}}}],\"scatterpolar\":[{\"type\":\"scatterpolar\",\"marker\":{\"colorbar\":{\"outlinewidth\":0,\"ticks\":\"\"}}}],\"histogram\":[{\"marker\":{\"pattern\":{\"fillmode\":\"overlay\",\"size\":10,\"solidity\":0.2}},\"type\":\"histogram\"}],\"scattergl\":[{\"type\":\"scattergl\",\"marker\":{\"colorbar\":{\"outlinewidth\":0,\"ticks\":\"\"}}}],\"scatter3d\":[{\"type\":\"scatter3d\",\"line\":{\"colorbar\":{\"outlinewidth\":0,\"ticks\":\"\"}},\"marker\":{\"colorbar\":{\"outlinewidth\":0,\"ticks\":\"\"}}}],\"scattermapbox\":[{\"type\":\"scattermapbox\",\"marker\":{\"colorbar\":{\"outlinewidth\":0,\"ticks\":\"\"}}}],\"scatterternary\":[{\"type\":\"scatterternary\",\"marker\":{\"colorbar\":{\"outlinewidth\":0,\"ticks\":\"\"}}}],\"scattercarpet\":[{\"type\":\"scattercarpet\",\"marker\":{\"colorbar\":{\"outlinewidth\":0,\"ticks\":\"\"}}}],\"carpet\":[{\"aaxis\":{\"endlinecolor\":\"#2a3f5f\",\"gridcolor\":\"white\",\"linecolor\":\"white\",\"minorgridcolor\":\"white\",\"startlinecolor\":\"#2a3f5f\"},\"baxis\":{\"endlinecolor\":\"#2a3f5f\",\"gridcolor\":\"white\",\"linecolor\":\"white\",\"minorgridcolor\":\"white\",\"startlinecolor\":\"#2a3f5f\"},\"type\":\"carpet\"}],\"table\":[{\"cells\":{\"fill\":{\"color\":\"#EBF0F8\"},\"line\":{\"color\":\"white\"}},\"header\":{\"fill\":{\"color\":\"#C8D4E3\"},\"line\":{\"color\":\"white\"}},\"type\":\"table\"}],\"barpolar\":[{\"marker\":{\"line\":{\"color\":\"#E5ECF6\",\"width\":0.5},\"pattern\":{\"fillmode\":\"overlay\",\"size\":10,\"solidity\":0.2}},\"type\":\"barpolar\"}],\"pie\":[{\"automargin\":true,\"type\":\"pie\"}]},\"layout\":{\"autotypenumbers\":\"strict\",\"colorway\":[\"#636efa\",\"#EF553B\",\"#00cc96\",\"#ab63fa\",\"#FFA15A\",\"#19d3f3\",\"#FF6692\",\"#B6E880\",\"#FF97FF\",\"#FECB52\"],\"font\":{\"color\":\"#2a3f5f\"},\"hovermode\":\"closest\",\"hoverlabel\":{\"align\":\"left\"},\"paper_bgcolor\":\"white\",\"plot_bgcolor\":\"#E5ECF6\",\"polar\":{\"bgcolor\":\"#E5ECF6\",\"angularaxis\":{\"gridcolor\":\"white\",\"linecolor\":\"white\",\"ticks\":\"\"},\"radialaxis\":{\"gridcolor\":\"white\",\"linecolor\":\"white\",\"ticks\":\"\"}},\"ternary\":{\"bgcolor\":\"#E5ECF6\",\"aaxis\":{\"gridcolor\":\"white\",\"linecolor\":\"white\",\"ticks\":\"\"},\"baxis\":{\"gridcolor\":\"white\",\"linecolor\":\"white\",\"ticks\":\"\"},\"caxis\":{\"gridcolor\":\"white\",\"linecolor\":\"white\",\"ticks\":\"\"}},\"coloraxis\":{\"colorbar\":{\"outlinewidth\":0,\"ticks\":\"\"}},\"colorscale\":{\"sequential\":[[0.0,\"#0d0887\"],[0.1111111111111111,\"#46039f\"],[0.2222222222222222,\"#7201a8\"],[0.3333333333333333,\"#9c179e\"],[0.4444444444444444,\"#bd3786\"],[0.5555555555555556,\"#d8576b\"],[0.6666666666666666,\"#ed7953\"],[0.7777777777777778,\"#fb9f3a\"],[0.8888888888888888,\"#fdca26\"],[1.0,\"#f0f921\"]],\"sequentialminus\":[[0.0,\"#0d0887\"],[0.1111111111111111,\"#46039f\"],[0.2222222222222222,\"#7201a8\"],[0.3333333333333333,\"#9c179e\"],[0.4444444444444444,\"#bd3786\"],[0.5555555555555556,\"#d8576b\"],[0.6666666666666666,\"#ed7953\"],[0.7777777777777778,\"#fb9f3a\"],[0.8888888888888888,\"#fdca26\"],[1.0,\"#f0f921\"]],\"diverging\":[[0,\"#8e0152\"],[0.1,\"#c51b7d\"],[0.2,\"#de77ae\"],[0.3,\"#f1b6da\"],[0.4,\"#fde0ef\"],[0.5,\"#f7f7f7\"],[0.6,\"#e6f5d0\"],[0.7,\"#b8e186\"],[0.8,\"#7fbc41\"],[0.9,\"#4d9221\"],[1,\"#276419\"]]},\"xaxis\":{\"gridcolor\":\"white\",\"linecolor\":\"white\",\"ticks\":\"\",\"title\":{\"standoff\":15},\"zerolinecolor\":\"white\",\"automargin\":true,\"zerolinewidth\":2},\"yaxis\":{\"gridcolor\":\"white\",\"linecolor\":\"white\",\"ticks\":\"\",\"title\":{\"standoff\":15},\"zerolinecolor\":\"white\",\"automargin\":true,\"zerolinewidth\":2},\"scene\":{\"xaxis\":{\"backgroundcolor\":\"#E5ECF6\",\"gridcolor\":\"white\",\"linecolor\":\"white\",\"showbackground\":true,\"ticks\":\"\",\"zerolinecolor\":\"white\",\"gridwidth\":2},\"yaxis\":{\"backgroundcolor\":\"#E5ECF6\",\"gridcolor\":\"white\",\"linecolor\":\"white\",\"showbackground\":true,\"ticks\":\"\",\"zerolinecolor\":\"white\",\"gridwidth\":2},\"zaxis\":{\"backgroundcolor\":\"#E5ECF6\",\"gridcolor\":\"white\",\"linecolor\":\"white\",\"showbackground\":true,\"ticks\":\"\",\"zerolinecolor\":\"white\",\"gridwidth\":2}},\"shapedefaults\":{\"line\":{\"color\":\"#2a3f5f\"}},\"annotationdefaults\":{\"arrowcolor\":\"#2a3f5f\",\"arrowhead\":0,\"arrowwidth\":1},\"geo\":{\"bgcolor\":\"white\",\"landcolor\":\"#E5ECF6\",\"subunitcolor\":\"white\",\"showland\":true,\"showlakes\":true,\"lakecolor\":\"white\"},\"title\":{\"x\":0.05},\"mapbox\":{\"style\":\"light\"}}},\"legend\":{\"tracegroupgap\":0},\"margin\":{\"t\":60}},                        {\"responsive\": true}                    ).then(function(){\n",
       "                            \n",
       "var gd = document.getElementById('9e36602c-5949-42f3-a723-07899ab1e757');\n",
       "var x = new MutationObserver(function (mutations, observer) {{\n",
       "        var display = window.getComputedStyle(gd).display;\n",
       "        if (!display || display === 'none') {{\n",
       "            console.log([gd, 'removed!']);\n",
       "            Plotly.purge(gd);\n",
       "            observer.disconnect();\n",
       "        }}\n",
       "}});\n",
       "\n",
       "// Listen for the removal of the full notebook cells\n",
       "var notebookContainer = gd.closest('#notebook-container');\n",
       "if (notebookContainer) {{\n",
       "    x.observe(notebookContainer, {childList: true});\n",
       "}}\n",
       "\n",
       "// Listen for the clearing of the current output cell\n",
       "var outputEl = gd.closest('.output');\n",
       "if (outputEl) {{\n",
       "    x.observe(outputEl, {childList: true});\n",
       "}}\n",
       "\n",
       "                        })                };                });            </script>        </div>"
      ]
     },
     "metadata": {},
     "output_type": "display_data"
    }
   ],
   "source": [
    "# 5) Employee Satisfaction : \n",
    "\n",
    "fig=px.sunburst(df_sales, path=['PerformanceRating','EmpJobRole','EmpJobSatisfaction'])\n",
    "fig.show()\n",
    "\n",
    "# 13 Sales Executive showing underlying performace deosn't have job satisfaction\n"
   ]
  },
  {
   "cell_type": "code",
   "execution_count": 162,
   "id": "a480c154",
   "metadata": {},
   "outputs": [
    {
     "data": {
      "application/vnd.plotly.v1+json": {
       "config": {
        "plotlyServerURL": "https://plot.ly"
       },
       "data": [
        {
         "branchvalues": "total",
         "domain": {
          "x": [
           0,
           1
          ],
          "y": [
           0,
           1
          ]
         },
         "hovertemplate": "labels=%{label}<br>count=%{value}<br>parent=%{parent}<br>id=%{id}<extra></extra>",
         "ids": [
          "3/Manager/0",
          "4/Manager/0",
          "3/Sales Executive/0",
          "4/Sales Executive/0",
          "3/Sales Representative/0",
          "4/Sales Representative/0",
          "3/Sales Executive/1",
          "3/Sales Representative/1",
          "2/Manager/2",
          "2/Sales Executive/2",
          "3/Sales Executive/2",
          "4/Sales Executive/2",
          "2/Sales Representative/2",
          "3/Sales Representative/2",
          "4/Sales Representative/2",
          "3/Manager/3",
          "2/Sales Executive/3",
          "3/Sales Executive/3",
          "4/Sales Executive/3",
          "2/Sales Representative/3",
          "3/Sales Representative/3",
          "3/Manager/4",
          "4/Manager/4",
          "2/Sales Executive/4",
          "3/Sales Executive/4",
          "4/Sales Executive/4",
          "3/Sales Representative/4",
          "2/Sales Executive/5",
          "3/Sales Executive/5",
          "4/Sales Executive/5",
          "3/Manager/6",
          "4/Manager/6",
          "3/Sales Executive/6",
          "4/Sales Executive/6",
          "2/Manager/7",
          "3/Manager/7",
          "2/Sales Executive/7",
          "3/Sales Executive/7",
          "4/Sales Executive/7",
          "2/Sales Representative/7",
          "3/Sales Representative/7",
          "2/Manager/8",
          "3/Manager/8",
          "2/Sales Executive/8",
          "3/Sales Executive/8",
          "2/Sales Representative/8",
          "3/Sales Representative/8",
          "2/Manager/9",
          "2/Sales Executive/9",
          "3/Sales Executive/9",
          "3/Manager/10",
          "4/Manager/10",
          "2/Sales Executive/10",
          "3/Sales Executive/10",
          "3/Sales Executive/11",
          "3/Manager/12",
          "3/Sales Executive/12",
          "4/Sales Executive/12",
          "3/Manager/13",
          "4/Manager/13",
          "2/Sales Executive/13",
          "3/Sales Executive/13",
          "4/Sales Executive/13",
          "3/Sales Executive/14",
          "3/Manager/15",
          "4/Manager/15",
          "2/Manager/16",
          "2/Sales Executive/16",
          "2/Sales Executive/17",
          "2/Manager",
          "3/Manager",
          "4/Manager",
          "2/Sales Executive",
          "3/Sales Executive",
          "4/Sales Executive",
          "2/Sales Representative",
          "3/Sales Representative",
          "4/Sales Representative",
          "2",
          "3",
          "4"
         ],
         "labels": [
          "0",
          "0",
          "0",
          "0",
          "0",
          "0",
          "1",
          "1",
          "2",
          "2",
          "2",
          "2",
          "2",
          "2",
          "2",
          "3",
          "3",
          "3",
          "3",
          "3",
          "3",
          "4",
          "4",
          "4",
          "4",
          "4",
          "4",
          "5",
          "5",
          "5",
          "6",
          "6",
          "6",
          "6",
          "7",
          "7",
          "7",
          "7",
          "7",
          "7",
          "7",
          "8",
          "8",
          "8",
          "8",
          "8",
          "8",
          "9",
          "9",
          "9",
          "10",
          "10",
          "10",
          "10",
          "11",
          "12",
          "12",
          "12",
          "13",
          "13",
          "13",
          "13",
          "13",
          "14",
          "15",
          "15",
          "16",
          "16",
          "17",
          "Manager",
          "Manager",
          "Manager",
          "Sales Executive",
          "Sales Executive",
          "Sales Executive",
          "Sales Representative",
          "Sales Representative",
          "Sales Representative",
          "2",
          "3",
          "4"
         ],
         "name": "",
         "parents": [
          "3/Manager",
          "4/Manager",
          "3/Sales Executive",
          "4/Sales Executive",
          "3/Sales Representative",
          "4/Sales Representative",
          "3/Sales Executive",
          "3/Sales Representative",
          "2/Manager",
          "2/Sales Executive",
          "3/Sales Executive",
          "4/Sales Executive",
          "2/Sales Representative",
          "3/Sales Representative",
          "4/Sales Representative",
          "3/Manager",
          "2/Sales Executive",
          "3/Sales Executive",
          "4/Sales Executive",
          "2/Sales Representative",
          "3/Sales Representative",
          "3/Manager",
          "4/Manager",
          "2/Sales Executive",
          "3/Sales Executive",
          "4/Sales Executive",
          "3/Sales Representative",
          "2/Sales Executive",
          "3/Sales Executive",
          "4/Sales Executive",
          "3/Manager",
          "4/Manager",
          "3/Sales Executive",
          "4/Sales Executive",
          "2/Manager",
          "3/Manager",
          "2/Sales Executive",
          "3/Sales Executive",
          "4/Sales Executive",
          "2/Sales Representative",
          "3/Sales Representative",
          "2/Manager",
          "3/Manager",
          "2/Sales Executive",
          "3/Sales Executive",
          "2/Sales Representative",
          "3/Sales Representative",
          "2/Manager",
          "2/Sales Executive",
          "3/Sales Executive",
          "3/Manager",
          "4/Manager",
          "2/Sales Executive",
          "3/Sales Executive",
          "3/Sales Executive",
          "3/Manager",
          "3/Sales Executive",
          "4/Sales Executive",
          "3/Manager",
          "4/Manager",
          "2/Sales Executive",
          "3/Sales Executive",
          "4/Sales Executive",
          "3/Sales Executive",
          "3/Manager",
          "4/Manager",
          "2/Manager",
          "2/Sales Executive",
          "2/Sales Executive",
          "2",
          "3",
          "4",
          "2",
          "3",
          "4",
          "2",
          "3",
          "4",
          "",
          "",
          ""
         ],
         "type": "sunburst",
         "values": [
          5,
          1,
          22,
          1,
          11,
          1,
          4,
          1,
          1,
          8,
          28,
          3,
          4,
          16,
          1,
          1,
          3,
          19,
          1,
          1,
          1,
          2,
          1,
          5,
          15,
          4,
          2,
          2,
          2,
          4,
          1,
          2,
          4,
          1,
          1,
          1,
          10,
          36,
          6,
          1,
          3,
          2,
          1,
          7,
          12,
          2,
          1,
          4,
          6,
          6,
          1,
          1,
          2,
          1,
          2,
          2,
          1,
          1,
          1,
          1,
          1,
          2,
          1,
          3,
          1,
          1,
          1,
          2,
          1,
          9,
          16,
          7,
          47,
          157,
          22,
          8,
          35,
          2,
          64,
          208,
          31
         ]
        }
       ],
       "layout": {
        "legend": {
         "tracegroupgap": 0
        },
        "margin": {
         "t": 60
        },
        "template": {
         "data": {
          "bar": [
           {
            "error_x": {
             "color": "#2a3f5f"
            },
            "error_y": {
             "color": "#2a3f5f"
            },
            "marker": {
             "line": {
              "color": "#E5ECF6",
              "width": 0.5
             },
             "pattern": {
              "fillmode": "overlay",
              "size": 10,
              "solidity": 0.2
             }
            },
            "type": "bar"
           }
          ],
          "barpolar": [
           {
            "marker": {
             "line": {
              "color": "#E5ECF6",
              "width": 0.5
             },
             "pattern": {
              "fillmode": "overlay",
              "size": 10,
              "solidity": 0.2
             }
            },
            "type": "barpolar"
           }
          ],
          "carpet": [
           {
            "aaxis": {
             "endlinecolor": "#2a3f5f",
             "gridcolor": "white",
             "linecolor": "white",
             "minorgridcolor": "white",
             "startlinecolor": "#2a3f5f"
            },
            "baxis": {
             "endlinecolor": "#2a3f5f",
             "gridcolor": "white",
             "linecolor": "white",
             "minorgridcolor": "white",
             "startlinecolor": "#2a3f5f"
            },
            "type": "carpet"
           }
          ],
          "choropleth": [
           {
            "colorbar": {
             "outlinewidth": 0,
             "ticks": ""
            },
            "type": "choropleth"
           }
          ],
          "contour": [
           {
            "colorbar": {
             "outlinewidth": 0,
             "ticks": ""
            },
            "colorscale": [
             [
              0,
              "#0d0887"
             ],
             [
              0.1111111111111111,
              "#46039f"
             ],
             [
              0.2222222222222222,
              "#7201a8"
             ],
             [
              0.3333333333333333,
              "#9c179e"
             ],
             [
              0.4444444444444444,
              "#bd3786"
             ],
             [
              0.5555555555555556,
              "#d8576b"
             ],
             [
              0.6666666666666666,
              "#ed7953"
             ],
             [
              0.7777777777777778,
              "#fb9f3a"
             ],
             [
              0.8888888888888888,
              "#fdca26"
             ],
             [
              1,
              "#f0f921"
             ]
            ],
            "type": "contour"
           }
          ],
          "contourcarpet": [
           {
            "colorbar": {
             "outlinewidth": 0,
             "ticks": ""
            },
            "type": "contourcarpet"
           }
          ],
          "heatmap": [
           {
            "colorbar": {
             "outlinewidth": 0,
             "ticks": ""
            },
            "colorscale": [
             [
              0,
              "#0d0887"
             ],
             [
              0.1111111111111111,
              "#46039f"
             ],
             [
              0.2222222222222222,
              "#7201a8"
             ],
             [
              0.3333333333333333,
              "#9c179e"
             ],
             [
              0.4444444444444444,
              "#bd3786"
             ],
             [
              0.5555555555555556,
              "#d8576b"
             ],
             [
              0.6666666666666666,
              "#ed7953"
             ],
             [
              0.7777777777777778,
              "#fb9f3a"
             ],
             [
              0.8888888888888888,
              "#fdca26"
             ],
             [
              1,
              "#f0f921"
             ]
            ],
            "type": "heatmap"
           }
          ],
          "heatmapgl": [
           {
            "colorbar": {
             "outlinewidth": 0,
             "ticks": ""
            },
            "colorscale": [
             [
              0,
              "#0d0887"
             ],
             [
              0.1111111111111111,
              "#46039f"
             ],
             [
              0.2222222222222222,
              "#7201a8"
             ],
             [
              0.3333333333333333,
              "#9c179e"
             ],
             [
              0.4444444444444444,
              "#bd3786"
             ],
             [
              0.5555555555555556,
              "#d8576b"
             ],
             [
              0.6666666666666666,
              "#ed7953"
             ],
             [
              0.7777777777777778,
              "#fb9f3a"
             ],
             [
              0.8888888888888888,
              "#fdca26"
             ],
             [
              1,
              "#f0f921"
             ]
            ],
            "type": "heatmapgl"
           }
          ],
          "histogram": [
           {
            "marker": {
             "pattern": {
              "fillmode": "overlay",
              "size": 10,
              "solidity": 0.2
             }
            },
            "type": "histogram"
           }
          ],
          "histogram2d": [
           {
            "colorbar": {
             "outlinewidth": 0,
             "ticks": ""
            },
            "colorscale": [
             [
              0,
              "#0d0887"
             ],
             [
              0.1111111111111111,
              "#46039f"
             ],
             [
              0.2222222222222222,
              "#7201a8"
             ],
             [
              0.3333333333333333,
              "#9c179e"
             ],
             [
              0.4444444444444444,
              "#bd3786"
             ],
             [
              0.5555555555555556,
              "#d8576b"
             ],
             [
              0.6666666666666666,
              "#ed7953"
             ],
             [
              0.7777777777777778,
              "#fb9f3a"
             ],
             [
              0.8888888888888888,
              "#fdca26"
             ],
             [
              1,
              "#f0f921"
             ]
            ],
            "type": "histogram2d"
           }
          ],
          "histogram2dcontour": [
           {
            "colorbar": {
             "outlinewidth": 0,
             "ticks": ""
            },
            "colorscale": [
             [
              0,
              "#0d0887"
             ],
             [
              0.1111111111111111,
              "#46039f"
             ],
             [
              0.2222222222222222,
              "#7201a8"
             ],
             [
              0.3333333333333333,
              "#9c179e"
             ],
             [
              0.4444444444444444,
              "#bd3786"
             ],
             [
              0.5555555555555556,
              "#d8576b"
             ],
             [
              0.6666666666666666,
              "#ed7953"
             ],
             [
              0.7777777777777778,
              "#fb9f3a"
             ],
             [
              0.8888888888888888,
              "#fdca26"
             ],
             [
              1,
              "#f0f921"
             ]
            ],
            "type": "histogram2dcontour"
           }
          ],
          "mesh3d": [
           {
            "colorbar": {
             "outlinewidth": 0,
             "ticks": ""
            },
            "type": "mesh3d"
           }
          ],
          "parcoords": [
           {
            "line": {
             "colorbar": {
              "outlinewidth": 0,
              "ticks": ""
             }
            },
            "type": "parcoords"
           }
          ],
          "pie": [
           {
            "automargin": true,
            "type": "pie"
           }
          ],
          "scatter": [
           {
            "fillpattern": {
             "fillmode": "overlay",
             "size": 10,
             "solidity": 0.2
            },
            "type": "scatter"
           }
          ],
          "scatter3d": [
           {
            "line": {
             "colorbar": {
              "outlinewidth": 0,
              "ticks": ""
             }
            },
            "marker": {
             "colorbar": {
              "outlinewidth": 0,
              "ticks": ""
             }
            },
            "type": "scatter3d"
           }
          ],
          "scattercarpet": [
           {
            "marker": {
             "colorbar": {
              "outlinewidth": 0,
              "ticks": ""
             }
            },
            "type": "scattercarpet"
           }
          ],
          "scattergeo": [
           {
            "marker": {
             "colorbar": {
              "outlinewidth": 0,
              "ticks": ""
             }
            },
            "type": "scattergeo"
           }
          ],
          "scattergl": [
           {
            "marker": {
             "colorbar": {
              "outlinewidth": 0,
              "ticks": ""
             }
            },
            "type": "scattergl"
           }
          ],
          "scattermapbox": [
           {
            "marker": {
             "colorbar": {
              "outlinewidth": 0,
              "ticks": ""
             }
            },
            "type": "scattermapbox"
           }
          ],
          "scatterpolar": [
           {
            "marker": {
             "colorbar": {
              "outlinewidth": 0,
              "ticks": ""
             }
            },
            "type": "scatterpolar"
           }
          ],
          "scatterpolargl": [
           {
            "marker": {
             "colorbar": {
              "outlinewidth": 0,
              "ticks": ""
             }
            },
            "type": "scatterpolargl"
           }
          ],
          "scatterternary": [
           {
            "marker": {
             "colorbar": {
              "outlinewidth": 0,
              "ticks": ""
             }
            },
            "type": "scatterternary"
           }
          ],
          "surface": [
           {
            "colorbar": {
             "outlinewidth": 0,
             "ticks": ""
            },
            "colorscale": [
             [
              0,
              "#0d0887"
             ],
             [
              0.1111111111111111,
              "#46039f"
             ],
             [
              0.2222222222222222,
              "#7201a8"
             ],
             [
              0.3333333333333333,
              "#9c179e"
             ],
             [
              0.4444444444444444,
              "#bd3786"
             ],
             [
              0.5555555555555556,
              "#d8576b"
             ],
             [
              0.6666666666666666,
              "#ed7953"
             ],
             [
              0.7777777777777778,
              "#fb9f3a"
             ],
             [
              0.8888888888888888,
              "#fdca26"
             ],
             [
              1,
              "#f0f921"
             ]
            ],
            "type": "surface"
           }
          ],
          "table": [
           {
            "cells": {
             "fill": {
              "color": "#EBF0F8"
             },
             "line": {
              "color": "white"
             }
            },
            "header": {
             "fill": {
              "color": "#C8D4E3"
             },
             "line": {
              "color": "white"
             }
            },
            "type": "table"
           }
          ]
         },
         "layout": {
          "annotationdefaults": {
           "arrowcolor": "#2a3f5f",
           "arrowhead": 0,
           "arrowwidth": 1
          },
          "autotypenumbers": "strict",
          "coloraxis": {
           "colorbar": {
            "outlinewidth": 0,
            "ticks": ""
           }
          },
          "colorscale": {
           "diverging": [
            [
             0,
             "#8e0152"
            ],
            [
             0.1,
             "#c51b7d"
            ],
            [
             0.2,
             "#de77ae"
            ],
            [
             0.3,
             "#f1b6da"
            ],
            [
             0.4,
             "#fde0ef"
            ],
            [
             0.5,
             "#f7f7f7"
            ],
            [
             0.6,
             "#e6f5d0"
            ],
            [
             0.7,
             "#b8e186"
            ],
            [
             0.8,
             "#7fbc41"
            ],
            [
             0.9,
             "#4d9221"
            ],
            [
             1,
             "#276419"
            ]
           ],
           "sequential": [
            [
             0,
             "#0d0887"
            ],
            [
             0.1111111111111111,
             "#46039f"
            ],
            [
             0.2222222222222222,
             "#7201a8"
            ],
            [
             0.3333333333333333,
             "#9c179e"
            ],
            [
             0.4444444444444444,
             "#bd3786"
            ],
            [
             0.5555555555555556,
             "#d8576b"
            ],
            [
             0.6666666666666666,
             "#ed7953"
            ],
            [
             0.7777777777777778,
             "#fb9f3a"
            ],
            [
             0.8888888888888888,
             "#fdca26"
            ],
            [
             1,
             "#f0f921"
            ]
           ],
           "sequentialminus": [
            [
             0,
             "#0d0887"
            ],
            [
             0.1111111111111111,
             "#46039f"
            ],
            [
             0.2222222222222222,
             "#7201a8"
            ],
            [
             0.3333333333333333,
             "#9c179e"
            ],
            [
             0.4444444444444444,
             "#bd3786"
            ],
            [
             0.5555555555555556,
             "#d8576b"
            ],
            [
             0.6666666666666666,
             "#ed7953"
            ],
            [
             0.7777777777777778,
             "#fb9f3a"
            ],
            [
             0.8888888888888888,
             "#fdca26"
            ],
            [
             1,
             "#f0f921"
            ]
           ]
          },
          "colorway": [
           "#636efa",
           "#EF553B",
           "#00cc96",
           "#ab63fa",
           "#FFA15A",
           "#19d3f3",
           "#FF6692",
           "#B6E880",
           "#FF97FF",
           "#FECB52"
          ],
          "font": {
           "color": "#2a3f5f"
          },
          "geo": {
           "bgcolor": "white",
           "lakecolor": "white",
           "landcolor": "#E5ECF6",
           "showlakes": true,
           "showland": true,
           "subunitcolor": "white"
          },
          "hoverlabel": {
           "align": "left"
          },
          "hovermode": "closest",
          "mapbox": {
           "style": "light"
          },
          "paper_bgcolor": "white",
          "plot_bgcolor": "#E5ECF6",
          "polar": {
           "angularaxis": {
            "gridcolor": "white",
            "linecolor": "white",
            "ticks": ""
           },
           "bgcolor": "#E5ECF6",
           "radialaxis": {
            "gridcolor": "white",
            "linecolor": "white",
            "ticks": ""
           }
          },
          "scene": {
           "xaxis": {
            "backgroundcolor": "#E5ECF6",
            "gridcolor": "white",
            "gridwidth": 2,
            "linecolor": "white",
            "showbackground": true,
            "ticks": "",
            "zerolinecolor": "white"
           },
           "yaxis": {
            "backgroundcolor": "#E5ECF6",
            "gridcolor": "white",
            "gridwidth": 2,
            "linecolor": "white",
            "showbackground": true,
            "ticks": "",
            "zerolinecolor": "white"
           },
           "zaxis": {
            "backgroundcolor": "#E5ECF6",
            "gridcolor": "white",
            "gridwidth": 2,
            "linecolor": "white",
            "showbackground": true,
            "ticks": "",
            "zerolinecolor": "white"
           }
          },
          "shapedefaults": {
           "line": {
            "color": "#2a3f5f"
           }
          },
          "ternary": {
           "aaxis": {
            "gridcolor": "white",
            "linecolor": "white",
            "ticks": ""
           },
           "baxis": {
            "gridcolor": "white",
            "linecolor": "white",
            "ticks": ""
           },
           "bgcolor": "#E5ECF6",
           "caxis": {
            "gridcolor": "white",
            "linecolor": "white",
            "ticks": ""
           }
          },
          "title": {
           "x": 0.05
          },
          "xaxis": {
           "automargin": true,
           "gridcolor": "white",
           "linecolor": "white",
           "ticks": "",
           "title": {
            "standoff": 15
           },
           "zerolinecolor": "white",
           "zerolinewidth": 2
          },
          "yaxis": {
           "automargin": true,
           "gridcolor": "white",
           "linecolor": "white",
           "ticks": "",
           "title": {
            "standoff": 15
           },
           "zerolinecolor": "white",
           "zerolinewidth": 2
          }
         }
        }
       }
      },
      "text/html": [
       "<div>                            <div id=\"8d495b65-7e6d-4575-85ac-5ec3f946a131\" class=\"plotly-graph-div\" style=\"height:525px; width:100%;\"></div>            <script type=\"text/javascript\">                require([\"plotly\"], function(Plotly) {                    window.PLOTLYENV=window.PLOTLYENV || {};                                    if (document.getElementById(\"8d495b65-7e6d-4575-85ac-5ec3f946a131\")) {                    Plotly.newPlot(                        \"8d495b65-7e6d-4575-85ac-5ec3f946a131\",                        [{\"branchvalues\":\"total\",\"domain\":{\"x\":[0.0,1.0],\"y\":[0.0,1.0]},\"hovertemplate\":\"labels=%{label}<br>count=%{value}<br>parent=%{parent}<br>id=%{id}<extra></extra>\",\"ids\":[\"3/Manager/0\",\"4/Manager/0\",\"3/Sales Executive/0\",\"4/Sales Executive/0\",\"3/Sales Representative/0\",\"4/Sales Representative/0\",\"3/Sales Executive/1\",\"3/Sales Representative/1\",\"2/Manager/2\",\"2/Sales Executive/2\",\"3/Sales Executive/2\",\"4/Sales Executive/2\",\"2/Sales Representative/2\",\"3/Sales Representative/2\",\"4/Sales Representative/2\",\"3/Manager/3\",\"2/Sales Executive/3\",\"3/Sales Executive/3\",\"4/Sales Executive/3\",\"2/Sales Representative/3\",\"3/Sales Representative/3\",\"3/Manager/4\",\"4/Manager/4\",\"2/Sales Executive/4\",\"3/Sales Executive/4\",\"4/Sales Executive/4\",\"3/Sales Representative/4\",\"2/Sales Executive/5\",\"3/Sales Executive/5\",\"4/Sales Executive/5\",\"3/Manager/6\",\"4/Manager/6\",\"3/Sales Executive/6\",\"4/Sales Executive/6\",\"2/Manager/7\",\"3/Manager/7\",\"2/Sales Executive/7\",\"3/Sales Executive/7\",\"4/Sales Executive/7\",\"2/Sales Representative/7\",\"3/Sales Representative/7\",\"2/Manager/8\",\"3/Manager/8\",\"2/Sales Executive/8\",\"3/Sales Executive/8\",\"2/Sales Representative/8\",\"3/Sales Representative/8\",\"2/Manager/9\",\"2/Sales Executive/9\",\"3/Sales Executive/9\",\"3/Manager/10\",\"4/Manager/10\",\"2/Sales Executive/10\",\"3/Sales Executive/10\",\"3/Sales Executive/11\",\"3/Manager/12\",\"3/Sales Executive/12\",\"4/Sales Executive/12\",\"3/Manager/13\",\"4/Manager/13\",\"2/Sales Executive/13\",\"3/Sales Executive/13\",\"4/Sales Executive/13\",\"3/Sales Executive/14\",\"3/Manager/15\",\"4/Manager/15\",\"2/Manager/16\",\"2/Sales Executive/16\",\"2/Sales Executive/17\",\"2/Manager\",\"3/Manager\",\"4/Manager\",\"2/Sales Executive\",\"3/Sales Executive\",\"4/Sales Executive\",\"2/Sales Representative\",\"3/Sales Representative\",\"4/Sales Representative\",\"2\",\"3\",\"4\"],\"labels\":[\"0\",\"0\",\"0\",\"0\",\"0\",\"0\",\"1\",\"1\",\"2\",\"2\",\"2\",\"2\",\"2\",\"2\",\"2\",\"3\",\"3\",\"3\",\"3\",\"3\",\"3\",\"4\",\"4\",\"4\",\"4\",\"4\",\"4\",\"5\",\"5\",\"5\",\"6\",\"6\",\"6\",\"6\",\"7\",\"7\",\"7\",\"7\",\"7\",\"7\",\"7\",\"8\",\"8\",\"8\",\"8\",\"8\",\"8\",\"9\",\"9\",\"9\",\"10\",\"10\",\"10\",\"10\",\"11\",\"12\",\"12\",\"12\",\"13\",\"13\",\"13\",\"13\",\"13\",\"14\",\"15\",\"15\",\"16\",\"16\",\"17\",\"Manager\",\"Manager\",\"Manager\",\"Sales Executive\",\"Sales Executive\",\"Sales Executive\",\"Sales Representative\",\"Sales Representative\",\"Sales Representative\",\"2\",\"3\",\"4\"],\"name\":\"\",\"parents\":[\"3/Manager\",\"4/Manager\",\"3/Sales Executive\",\"4/Sales Executive\",\"3/Sales Representative\",\"4/Sales Representative\",\"3/Sales Executive\",\"3/Sales Representative\",\"2/Manager\",\"2/Sales Executive\",\"3/Sales Executive\",\"4/Sales Executive\",\"2/Sales Representative\",\"3/Sales Representative\",\"4/Sales Representative\",\"3/Manager\",\"2/Sales Executive\",\"3/Sales Executive\",\"4/Sales Executive\",\"2/Sales Representative\",\"3/Sales Representative\",\"3/Manager\",\"4/Manager\",\"2/Sales Executive\",\"3/Sales Executive\",\"4/Sales Executive\",\"3/Sales Representative\",\"2/Sales Executive\",\"3/Sales Executive\",\"4/Sales Executive\",\"3/Manager\",\"4/Manager\",\"3/Sales Executive\",\"4/Sales Executive\",\"2/Manager\",\"3/Manager\",\"2/Sales Executive\",\"3/Sales Executive\",\"4/Sales Executive\",\"2/Sales Representative\",\"3/Sales Representative\",\"2/Manager\",\"3/Manager\",\"2/Sales Executive\",\"3/Sales Executive\",\"2/Sales Representative\",\"3/Sales Representative\",\"2/Manager\",\"2/Sales Executive\",\"3/Sales Executive\",\"3/Manager\",\"4/Manager\",\"2/Sales Executive\",\"3/Sales Executive\",\"3/Sales Executive\",\"3/Manager\",\"3/Sales Executive\",\"4/Sales Executive\",\"3/Manager\",\"4/Manager\",\"2/Sales Executive\",\"3/Sales Executive\",\"4/Sales Executive\",\"3/Sales Executive\",\"3/Manager\",\"4/Manager\",\"2/Manager\",\"2/Sales Executive\",\"2/Sales Executive\",\"2\",\"3\",\"4\",\"2\",\"3\",\"4\",\"2\",\"3\",\"4\",\"\",\"\",\"\"],\"values\":[5,1,22,1,11,1,4,1,1,8,28,3,4,16,1,1,3,19,1,1,1,2,1,5,15,4,2,2,2,4,1,2,4,1,1,1,10,36,6,1,3,2,1,7,12,2,1,4,6,6,1,1,2,1,2,2,1,1,1,1,1,2,1,3,1,1,1,2,1,9,16,7,47,157,22,8,35,2,64,208,31],\"type\":\"sunburst\"}],                        {\"template\":{\"data\":{\"histogram2dcontour\":[{\"type\":\"histogram2dcontour\",\"colorbar\":{\"outlinewidth\":0,\"ticks\":\"\"},\"colorscale\":[[0.0,\"#0d0887\"],[0.1111111111111111,\"#46039f\"],[0.2222222222222222,\"#7201a8\"],[0.3333333333333333,\"#9c179e\"],[0.4444444444444444,\"#bd3786\"],[0.5555555555555556,\"#d8576b\"],[0.6666666666666666,\"#ed7953\"],[0.7777777777777778,\"#fb9f3a\"],[0.8888888888888888,\"#fdca26\"],[1.0,\"#f0f921\"]]}],\"choropleth\":[{\"type\":\"choropleth\",\"colorbar\":{\"outlinewidth\":0,\"ticks\":\"\"}}],\"histogram2d\":[{\"type\":\"histogram2d\",\"colorbar\":{\"outlinewidth\":0,\"ticks\":\"\"},\"colorscale\":[[0.0,\"#0d0887\"],[0.1111111111111111,\"#46039f\"],[0.2222222222222222,\"#7201a8\"],[0.3333333333333333,\"#9c179e\"],[0.4444444444444444,\"#bd3786\"],[0.5555555555555556,\"#d8576b\"],[0.6666666666666666,\"#ed7953\"],[0.7777777777777778,\"#fb9f3a\"],[0.8888888888888888,\"#fdca26\"],[1.0,\"#f0f921\"]]}],\"heatmap\":[{\"type\":\"heatmap\",\"colorbar\":{\"outlinewidth\":0,\"ticks\":\"\"},\"colorscale\":[[0.0,\"#0d0887\"],[0.1111111111111111,\"#46039f\"],[0.2222222222222222,\"#7201a8\"],[0.3333333333333333,\"#9c179e\"],[0.4444444444444444,\"#bd3786\"],[0.5555555555555556,\"#d8576b\"],[0.6666666666666666,\"#ed7953\"],[0.7777777777777778,\"#fb9f3a\"],[0.8888888888888888,\"#fdca26\"],[1.0,\"#f0f921\"]]}],\"heatmapgl\":[{\"type\":\"heatmapgl\",\"colorbar\":{\"outlinewidth\":0,\"ticks\":\"\"},\"colorscale\":[[0.0,\"#0d0887\"],[0.1111111111111111,\"#46039f\"],[0.2222222222222222,\"#7201a8\"],[0.3333333333333333,\"#9c179e\"],[0.4444444444444444,\"#bd3786\"],[0.5555555555555556,\"#d8576b\"],[0.6666666666666666,\"#ed7953\"],[0.7777777777777778,\"#fb9f3a\"],[0.8888888888888888,\"#fdca26\"],[1.0,\"#f0f921\"]]}],\"contourcarpet\":[{\"type\":\"contourcarpet\",\"colorbar\":{\"outlinewidth\":0,\"ticks\":\"\"}}],\"contour\":[{\"type\":\"contour\",\"colorbar\":{\"outlinewidth\":0,\"ticks\":\"\"},\"colorscale\":[[0.0,\"#0d0887\"],[0.1111111111111111,\"#46039f\"],[0.2222222222222222,\"#7201a8\"],[0.3333333333333333,\"#9c179e\"],[0.4444444444444444,\"#bd3786\"],[0.5555555555555556,\"#d8576b\"],[0.6666666666666666,\"#ed7953\"],[0.7777777777777778,\"#fb9f3a\"],[0.8888888888888888,\"#fdca26\"],[1.0,\"#f0f921\"]]}],\"surface\":[{\"type\":\"surface\",\"colorbar\":{\"outlinewidth\":0,\"ticks\":\"\"},\"colorscale\":[[0.0,\"#0d0887\"],[0.1111111111111111,\"#46039f\"],[0.2222222222222222,\"#7201a8\"],[0.3333333333333333,\"#9c179e\"],[0.4444444444444444,\"#bd3786\"],[0.5555555555555556,\"#d8576b\"],[0.6666666666666666,\"#ed7953\"],[0.7777777777777778,\"#fb9f3a\"],[0.8888888888888888,\"#fdca26\"],[1.0,\"#f0f921\"]]}],\"mesh3d\":[{\"type\":\"mesh3d\",\"colorbar\":{\"outlinewidth\":0,\"ticks\":\"\"}}],\"scatter\":[{\"fillpattern\":{\"fillmode\":\"overlay\",\"size\":10,\"solidity\":0.2},\"type\":\"scatter\"}],\"parcoords\":[{\"type\":\"parcoords\",\"line\":{\"colorbar\":{\"outlinewidth\":0,\"ticks\":\"\"}}}],\"scatterpolargl\":[{\"type\":\"scatterpolargl\",\"marker\":{\"colorbar\":{\"outlinewidth\":0,\"ticks\":\"\"}}}],\"bar\":[{\"error_x\":{\"color\":\"#2a3f5f\"},\"error_y\":{\"color\":\"#2a3f5f\"},\"marker\":{\"line\":{\"color\":\"#E5ECF6\",\"width\":0.5},\"pattern\":{\"fillmode\":\"overlay\",\"size\":10,\"solidity\":0.2}},\"type\":\"bar\"}],\"scattergeo\":[{\"type\":\"scattergeo\",\"marker\":{\"colorbar\":{\"outlinewidth\":0,\"ticks\":\"\"}}}],\"scatterpolar\":[{\"type\":\"scatterpolar\",\"marker\":{\"colorbar\":{\"outlinewidth\":0,\"ticks\":\"\"}}}],\"histogram\":[{\"marker\":{\"pattern\":{\"fillmode\":\"overlay\",\"size\":10,\"solidity\":0.2}},\"type\":\"histogram\"}],\"scattergl\":[{\"type\":\"scattergl\",\"marker\":{\"colorbar\":{\"outlinewidth\":0,\"ticks\":\"\"}}}],\"scatter3d\":[{\"type\":\"scatter3d\",\"line\":{\"colorbar\":{\"outlinewidth\":0,\"ticks\":\"\"}},\"marker\":{\"colorbar\":{\"outlinewidth\":0,\"ticks\":\"\"}}}],\"scattermapbox\":[{\"type\":\"scattermapbox\",\"marker\":{\"colorbar\":{\"outlinewidth\":0,\"ticks\":\"\"}}}],\"scatterternary\":[{\"type\":\"scatterternary\",\"marker\":{\"colorbar\":{\"outlinewidth\":0,\"ticks\":\"\"}}}],\"scattercarpet\":[{\"type\":\"scattercarpet\",\"marker\":{\"colorbar\":{\"outlinewidth\":0,\"ticks\":\"\"}}}],\"carpet\":[{\"aaxis\":{\"endlinecolor\":\"#2a3f5f\",\"gridcolor\":\"white\",\"linecolor\":\"white\",\"minorgridcolor\":\"white\",\"startlinecolor\":\"#2a3f5f\"},\"baxis\":{\"endlinecolor\":\"#2a3f5f\",\"gridcolor\":\"white\",\"linecolor\":\"white\",\"minorgridcolor\":\"white\",\"startlinecolor\":\"#2a3f5f\"},\"type\":\"carpet\"}],\"table\":[{\"cells\":{\"fill\":{\"color\":\"#EBF0F8\"},\"line\":{\"color\":\"white\"}},\"header\":{\"fill\":{\"color\":\"#C8D4E3\"},\"line\":{\"color\":\"white\"}},\"type\":\"table\"}],\"barpolar\":[{\"marker\":{\"line\":{\"color\":\"#E5ECF6\",\"width\":0.5},\"pattern\":{\"fillmode\":\"overlay\",\"size\":10,\"solidity\":0.2}},\"type\":\"barpolar\"}],\"pie\":[{\"automargin\":true,\"type\":\"pie\"}]},\"layout\":{\"autotypenumbers\":\"strict\",\"colorway\":[\"#636efa\",\"#EF553B\",\"#00cc96\",\"#ab63fa\",\"#FFA15A\",\"#19d3f3\",\"#FF6692\",\"#B6E880\",\"#FF97FF\",\"#FECB52\"],\"font\":{\"color\":\"#2a3f5f\"},\"hovermode\":\"closest\",\"hoverlabel\":{\"align\":\"left\"},\"paper_bgcolor\":\"white\",\"plot_bgcolor\":\"#E5ECF6\",\"polar\":{\"bgcolor\":\"#E5ECF6\",\"angularaxis\":{\"gridcolor\":\"white\",\"linecolor\":\"white\",\"ticks\":\"\"},\"radialaxis\":{\"gridcolor\":\"white\",\"linecolor\":\"white\",\"ticks\":\"\"}},\"ternary\":{\"bgcolor\":\"#E5ECF6\",\"aaxis\":{\"gridcolor\":\"white\",\"linecolor\":\"white\",\"ticks\":\"\"},\"baxis\":{\"gridcolor\":\"white\",\"linecolor\":\"white\",\"ticks\":\"\"},\"caxis\":{\"gridcolor\":\"white\",\"linecolor\":\"white\",\"ticks\":\"\"}},\"coloraxis\":{\"colorbar\":{\"outlinewidth\":0,\"ticks\":\"\"}},\"colorscale\":{\"sequential\":[[0.0,\"#0d0887\"],[0.1111111111111111,\"#46039f\"],[0.2222222222222222,\"#7201a8\"],[0.3333333333333333,\"#9c179e\"],[0.4444444444444444,\"#bd3786\"],[0.5555555555555556,\"#d8576b\"],[0.6666666666666666,\"#ed7953\"],[0.7777777777777778,\"#fb9f3a\"],[0.8888888888888888,\"#fdca26\"],[1.0,\"#f0f921\"]],\"sequentialminus\":[[0.0,\"#0d0887\"],[0.1111111111111111,\"#46039f\"],[0.2222222222222222,\"#7201a8\"],[0.3333333333333333,\"#9c179e\"],[0.4444444444444444,\"#bd3786\"],[0.5555555555555556,\"#d8576b\"],[0.6666666666666666,\"#ed7953\"],[0.7777777777777778,\"#fb9f3a\"],[0.8888888888888888,\"#fdca26\"],[1.0,\"#f0f921\"]],\"diverging\":[[0,\"#8e0152\"],[0.1,\"#c51b7d\"],[0.2,\"#de77ae\"],[0.3,\"#f1b6da\"],[0.4,\"#fde0ef\"],[0.5,\"#f7f7f7\"],[0.6,\"#e6f5d0\"],[0.7,\"#b8e186\"],[0.8,\"#7fbc41\"],[0.9,\"#4d9221\"],[1,\"#276419\"]]},\"xaxis\":{\"gridcolor\":\"white\",\"linecolor\":\"white\",\"ticks\":\"\",\"title\":{\"standoff\":15},\"zerolinecolor\":\"white\",\"automargin\":true,\"zerolinewidth\":2},\"yaxis\":{\"gridcolor\":\"white\",\"linecolor\":\"white\",\"ticks\":\"\",\"title\":{\"standoff\":15},\"zerolinecolor\":\"white\",\"automargin\":true,\"zerolinewidth\":2},\"scene\":{\"xaxis\":{\"backgroundcolor\":\"#E5ECF6\",\"gridcolor\":\"white\",\"linecolor\":\"white\",\"showbackground\":true,\"ticks\":\"\",\"zerolinecolor\":\"white\",\"gridwidth\":2},\"yaxis\":{\"backgroundcolor\":\"#E5ECF6\",\"gridcolor\":\"white\",\"linecolor\":\"white\",\"showbackground\":true,\"ticks\":\"\",\"zerolinecolor\":\"white\",\"gridwidth\":2},\"zaxis\":{\"backgroundcolor\":\"#E5ECF6\",\"gridcolor\":\"white\",\"linecolor\":\"white\",\"showbackground\":true,\"ticks\":\"\",\"zerolinecolor\":\"white\",\"gridwidth\":2}},\"shapedefaults\":{\"line\":{\"color\":\"#2a3f5f\"}},\"annotationdefaults\":{\"arrowcolor\":\"#2a3f5f\",\"arrowhead\":0,\"arrowwidth\":1},\"geo\":{\"bgcolor\":\"white\",\"landcolor\":\"#E5ECF6\",\"subunitcolor\":\"white\",\"showland\":true,\"showlakes\":true,\"lakecolor\":\"white\"},\"title\":{\"x\":0.05},\"mapbox\":{\"style\":\"light\"}}},\"legend\":{\"tracegroupgap\":0},\"margin\":{\"t\":60}},                        {\"responsive\": true}                    ).then(function(){\n",
       "                            \n",
       "var gd = document.getElementById('8d495b65-7e6d-4575-85ac-5ec3f946a131');\n",
       "var x = new MutationObserver(function (mutations, observer) {{\n",
       "        var display = window.getComputedStyle(gd).display;\n",
       "        if (!display || display === 'none') {{\n",
       "            console.log([gd, 'removed!']);\n",
       "            Plotly.purge(gd);\n",
       "            observer.disconnect();\n",
       "        }}\n",
       "}});\n",
       "\n",
       "// Listen for the removal of the full notebook cells\n",
       "var notebookContainer = gd.closest('#notebook-container');\n",
       "if (notebookContainer) {{\n",
       "    x.observe(notebookContainer, {childList: true});\n",
       "}}\n",
       "\n",
       "// Listen for the clearing of the current output cell\n",
       "var outputEl = gd.closest('.output');\n",
       "if (outputEl) {{\n",
       "    x.observe(outputEl, {childList: true});\n",
       "}}\n",
       "\n",
       "                        })                };                });            </script>        </div>"
      ]
     },
     "metadata": {},
     "output_type": "display_data"
    }
   ],
   "source": [
    "fig=px.sunburst(df_sales, path=['PerformanceRating','EmpJobRole','ExperienceYearsInCurrentRole'])\n",
    "fig.show()\n",
    "\n",
    "# 47 underperforming employees from Sales Executive have 7-9 years experience in current role\n",
    "# 8 underperforming employees from Sales Representative have 8 years experience in current role\n",
    "# 9 underperforming employees from Sales Manager have 9 years experience in current role"
   ]
  },
  {
   "cell_type": "code",
   "execution_count": 125,
   "id": "dedb03b2",
   "metadata": {},
   "outputs": [
    {
     "data": {
      "application/vnd.plotly.v1+json": {
       "config": {
        "plotlyServerURL": "https://plot.ly"
       },
       "data": [
        {
         "branchvalues": "total",
         "domain": {
          "x": [
           0,
           1
          ],
          "y": [
           0,
           1
          ]
         },
         "hovertemplate": "labels=%{label}<br>count=%{value}<br>parent=%{parent}<br>id=%{id}<extra></extra>",
         "ids": [
          "2/Manager/Life Sciences",
          "3/Manager/Life Sciences",
          "4/Manager/Life Sciences",
          "2/Sales Executive/Life Sciences",
          "3/Sales Executive/Life Sciences",
          "4/Sales Executive/Life Sciences",
          "2/Sales Representative/Life Sciences",
          "3/Sales Representative/Life Sciences",
          "4/Sales Representative/Life Sciences",
          "2/Manager/Marketing",
          "3/Manager/Marketing",
          "4/Manager/Marketing",
          "2/Sales Executive/Marketing",
          "3/Sales Executive/Marketing",
          "4/Sales Executive/Marketing",
          "2/Sales Representative/Marketing",
          "3/Sales Representative/Marketing",
          "2/Manager/Medical",
          "3/Manager/Medical",
          "2/Sales Executive/Medical",
          "3/Sales Executive/Medical",
          "4/Sales Executive/Medical",
          "2/Sales Representative/Medical",
          "3/Sales Representative/Medical",
          "4/Sales Representative/Medical",
          "3/Sales Executive/Other",
          "4/Sales Executive/Other",
          "3/Sales Representative/Other",
          "3/Manager/Technical Degree",
          "2/Sales Executive/Technical Degree",
          "3/Sales Executive/Technical Degree",
          "4/Sales Executive/Technical Degree",
          "3/Sales Representative/Technical Degree",
          "2/Manager",
          "3/Manager",
          "4/Manager",
          "2/Sales Executive",
          "3/Sales Executive",
          "4/Sales Executive",
          "2/Sales Representative",
          "3/Sales Representative",
          "4/Sales Representative",
          "2",
          "3",
          "4"
         ],
         "labels": [
          "Life Sciences",
          "Life Sciences",
          "Life Sciences",
          "Life Sciences",
          "Life Sciences",
          "Life Sciences",
          "Life Sciences",
          "Life Sciences",
          "Life Sciences",
          "Marketing",
          "Marketing",
          "Marketing",
          "Marketing",
          "Marketing",
          "Marketing",
          "Marketing",
          "Marketing",
          "Medical",
          "Medical",
          "Medical",
          "Medical",
          "Medical",
          "Medical",
          "Medical",
          "Medical",
          "Other",
          "Other",
          "Other",
          "Technical Degree",
          "Technical Degree",
          "Technical Degree",
          "Technical Degree",
          "Technical Degree",
          "Manager",
          "Manager",
          "Manager",
          "Sales Executive",
          "Sales Executive",
          "Sales Executive",
          "Sales Representative",
          "Sales Representative",
          "Sales Representative",
          "2",
          "3",
          "4"
         ],
         "name": "",
         "parents": [
          "2/Manager",
          "3/Manager",
          "4/Manager",
          "2/Sales Executive",
          "3/Sales Executive",
          "4/Sales Executive",
          "2/Sales Representative",
          "3/Sales Representative",
          "4/Sales Representative",
          "2/Manager",
          "3/Manager",
          "4/Manager",
          "2/Sales Executive",
          "3/Sales Executive",
          "4/Sales Executive",
          "2/Sales Representative",
          "3/Sales Representative",
          "2/Manager",
          "3/Manager",
          "2/Sales Executive",
          "3/Sales Executive",
          "4/Sales Executive",
          "2/Sales Representative",
          "3/Sales Representative",
          "4/Sales Representative",
          "3/Sales Executive",
          "4/Sales Executive",
          "3/Sales Representative",
          "3/Manager",
          "2/Sales Executive",
          "3/Sales Executive",
          "4/Sales Executive",
          "3/Sales Representative",
          "2",
          "3",
          "4",
          "2",
          "3",
          "4",
          "2",
          "3",
          "4",
          "",
          "",
          ""
         ],
         "type": "sunburst",
         "values": [
          4,
          8,
          2,
          18,
          50,
          6,
          3,
          12,
          1,
          3,
          4,
          5,
          16,
          60,
          9,
          2,
          8,
          2,
          2,
          9,
          33,
          5,
          3,
          8,
          1,
          9,
          1,
          1,
          2,
          4,
          5,
          1,
          6,
          9,
          16,
          7,
          47,
          157,
          22,
          8,
          35,
          2,
          64,
          208,
          31
         ]
        }
       ],
       "layout": {
        "legend": {
         "tracegroupgap": 0
        },
        "margin": {
         "t": 60
        },
        "template": {
         "data": {
          "bar": [
           {
            "error_x": {
             "color": "#2a3f5f"
            },
            "error_y": {
             "color": "#2a3f5f"
            },
            "marker": {
             "line": {
              "color": "#E5ECF6",
              "width": 0.5
             },
             "pattern": {
              "fillmode": "overlay",
              "size": 10,
              "solidity": 0.2
             }
            },
            "type": "bar"
           }
          ],
          "barpolar": [
           {
            "marker": {
             "line": {
              "color": "#E5ECF6",
              "width": 0.5
             },
             "pattern": {
              "fillmode": "overlay",
              "size": 10,
              "solidity": 0.2
             }
            },
            "type": "barpolar"
           }
          ],
          "carpet": [
           {
            "aaxis": {
             "endlinecolor": "#2a3f5f",
             "gridcolor": "white",
             "linecolor": "white",
             "minorgridcolor": "white",
             "startlinecolor": "#2a3f5f"
            },
            "baxis": {
             "endlinecolor": "#2a3f5f",
             "gridcolor": "white",
             "linecolor": "white",
             "minorgridcolor": "white",
             "startlinecolor": "#2a3f5f"
            },
            "type": "carpet"
           }
          ],
          "choropleth": [
           {
            "colorbar": {
             "outlinewidth": 0,
             "ticks": ""
            },
            "type": "choropleth"
           }
          ],
          "contour": [
           {
            "colorbar": {
             "outlinewidth": 0,
             "ticks": ""
            },
            "colorscale": [
             [
              0,
              "#0d0887"
             ],
             [
              0.1111111111111111,
              "#46039f"
             ],
             [
              0.2222222222222222,
              "#7201a8"
             ],
             [
              0.3333333333333333,
              "#9c179e"
             ],
             [
              0.4444444444444444,
              "#bd3786"
             ],
             [
              0.5555555555555556,
              "#d8576b"
             ],
             [
              0.6666666666666666,
              "#ed7953"
             ],
             [
              0.7777777777777778,
              "#fb9f3a"
             ],
             [
              0.8888888888888888,
              "#fdca26"
             ],
             [
              1,
              "#f0f921"
             ]
            ],
            "type": "contour"
           }
          ],
          "contourcarpet": [
           {
            "colorbar": {
             "outlinewidth": 0,
             "ticks": ""
            },
            "type": "contourcarpet"
           }
          ],
          "heatmap": [
           {
            "colorbar": {
             "outlinewidth": 0,
             "ticks": ""
            },
            "colorscale": [
             [
              0,
              "#0d0887"
             ],
             [
              0.1111111111111111,
              "#46039f"
             ],
             [
              0.2222222222222222,
              "#7201a8"
             ],
             [
              0.3333333333333333,
              "#9c179e"
             ],
             [
              0.4444444444444444,
              "#bd3786"
             ],
             [
              0.5555555555555556,
              "#d8576b"
             ],
             [
              0.6666666666666666,
              "#ed7953"
             ],
             [
              0.7777777777777778,
              "#fb9f3a"
             ],
             [
              0.8888888888888888,
              "#fdca26"
             ],
             [
              1,
              "#f0f921"
             ]
            ],
            "type": "heatmap"
           }
          ],
          "heatmapgl": [
           {
            "colorbar": {
             "outlinewidth": 0,
             "ticks": ""
            },
            "colorscale": [
             [
              0,
              "#0d0887"
             ],
             [
              0.1111111111111111,
              "#46039f"
             ],
             [
              0.2222222222222222,
              "#7201a8"
             ],
             [
              0.3333333333333333,
              "#9c179e"
             ],
             [
              0.4444444444444444,
              "#bd3786"
             ],
             [
              0.5555555555555556,
              "#d8576b"
             ],
             [
              0.6666666666666666,
              "#ed7953"
             ],
             [
              0.7777777777777778,
              "#fb9f3a"
             ],
             [
              0.8888888888888888,
              "#fdca26"
             ],
             [
              1,
              "#f0f921"
             ]
            ],
            "type": "heatmapgl"
           }
          ],
          "histogram": [
           {
            "marker": {
             "pattern": {
              "fillmode": "overlay",
              "size": 10,
              "solidity": 0.2
             }
            },
            "type": "histogram"
           }
          ],
          "histogram2d": [
           {
            "colorbar": {
             "outlinewidth": 0,
             "ticks": ""
            },
            "colorscale": [
             [
              0,
              "#0d0887"
             ],
             [
              0.1111111111111111,
              "#46039f"
             ],
             [
              0.2222222222222222,
              "#7201a8"
             ],
             [
              0.3333333333333333,
              "#9c179e"
             ],
             [
              0.4444444444444444,
              "#bd3786"
             ],
             [
              0.5555555555555556,
              "#d8576b"
             ],
             [
              0.6666666666666666,
              "#ed7953"
             ],
             [
              0.7777777777777778,
              "#fb9f3a"
             ],
             [
              0.8888888888888888,
              "#fdca26"
             ],
             [
              1,
              "#f0f921"
             ]
            ],
            "type": "histogram2d"
           }
          ],
          "histogram2dcontour": [
           {
            "colorbar": {
             "outlinewidth": 0,
             "ticks": ""
            },
            "colorscale": [
             [
              0,
              "#0d0887"
             ],
             [
              0.1111111111111111,
              "#46039f"
             ],
             [
              0.2222222222222222,
              "#7201a8"
             ],
             [
              0.3333333333333333,
              "#9c179e"
             ],
             [
              0.4444444444444444,
              "#bd3786"
             ],
             [
              0.5555555555555556,
              "#d8576b"
             ],
             [
              0.6666666666666666,
              "#ed7953"
             ],
             [
              0.7777777777777778,
              "#fb9f3a"
             ],
             [
              0.8888888888888888,
              "#fdca26"
             ],
             [
              1,
              "#f0f921"
             ]
            ],
            "type": "histogram2dcontour"
           }
          ],
          "mesh3d": [
           {
            "colorbar": {
             "outlinewidth": 0,
             "ticks": ""
            },
            "type": "mesh3d"
           }
          ],
          "parcoords": [
           {
            "line": {
             "colorbar": {
              "outlinewidth": 0,
              "ticks": ""
             }
            },
            "type": "parcoords"
           }
          ],
          "pie": [
           {
            "automargin": true,
            "type": "pie"
           }
          ],
          "scatter": [
           {
            "fillpattern": {
             "fillmode": "overlay",
             "size": 10,
             "solidity": 0.2
            },
            "type": "scatter"
           }
          ],
          "scatter3d": [
           {
            "line": {
             "colorbar": {
              "outlinewidth": 0,
              "ticks": ""
             }
            },
            "marker": {
             "colorbar": {
              "outlinewidth": 0,
              "ticks": ""
             }
            },
            "type": "scatter3d"
           }
          ],
          "scattercarpet": [
           {
            "marker": {
             "colorbar": {
              "outlinewidth": 0,
              "ticks": ""
             }
            },
            "type": "scattercarpet"
           }
          ],
          "scattergeo": [
           {
            "marker": {
             "colorbar": {
              "outlinewidth": 0,
              "ticks": ""
             }
            },
            "type": "scattergeo"
           }
          ],
          "scattergl": [
           {
            "marker": {
             "colorbar": {
              "outlinewidth": 0,
              "ticks": ""
             }
            },
            "type": "scattergl"
           }
          ],
          "scattermapbox": [
           {
            "marker": {
             "colorbar": {
              "outlinewidth": 0,
              "ticks": ""
             }
            },
            "type": "scattermapbox"
           }
          ],
          "scatterpolar": [
           {
            "marker": {
             "colorbar": {
              "outlinewidth": 0,
              "ticks": ""
             }
            },
            "type": "scatterpolar"
           }
          ],
          "scatterpolargl": [
           {
            "marker": {
             "colorbar": {
              "outlinewidth": 0,
              "ticks": ""
             }
            },
            "type": "scatterpolargl"
           }
          ],
          "scatterternary": [
           {
            "marker": {
             "colorbar": {
              "outlinewidth": 0,
              "ticks": ""
             }
            },
            "type": "scatterternary"
           }
          ],
          "surface": [
           {
            "colorbar": {
             "outlinewidth": 0,
             "ticks": ""
            },
            "colorscale": [
             [
              0,
              "#0d0887"
             ],
             [
              0.1111111111111111,
              "#46039f"
             ],
             [
              0.2222222222222222,
              "#7201a8"
             ],
             [
              0.3333333333333333,
              "#9c179e"
             ],
             [
              0.4444444444444444,
              "#bd3786"
             ],
             [
              0.5555555555555556,
              "#d8576b"
             ],
             [
              0.6666666666666666,
              "#ed7953"
             ],
             [
              0.7777777777777778,
              "#fb9f3a"
             ],
             [
              0.8888888888888888,
              "#fdca26"
             ],
             [
              1,
              "#f0f921"
             ]
            ],
            "type": "surface"
           }
          ],
          "table": [
           {
            "cells": {
             "fill": {
              "color": "#EBF0F8"
             },
             "line": {
              "color": "white"
             }
            },
            "header": {
             "fill": {
              "color": "#C8D4E3"
             },
             "line": {
              "color": "white"
             }
            },
            "type": "table"
           }
          ]
         },
         "layout": {
          "annotationdefaults": {
           "arrowcolor": "#2a3f5f",
           "arrowhead": 0,
           "arrowwidth": 1
          },
          "autotypenumbers": "strict",
          "coloraxis": {
           "colorbar": {
            "outlinewidth": 0,
            "ticks": ""
           }
          },
          "colorscale": {
           "diverging": [
            [
             0,
             "#8e0152"
            ],
            [
             0.1,
             "#c51b7d"
            ],
            [
             0.2,
             "#de77ae"
            ],
            [
             0.3,
             "#f1b6da"
            ],
            [
             0.4,
             "#fde0ef"
            ],
            [
             0.5,
             "#f7f7f7"
            ],
            [
             0.6,
             "#e6f5d0"
            ],
            [
             0.7,
             "#b8e186"
            ],
            [
             0.8,
             "#7fbc41"
            ],
            [
             0.9,
             "#4d9221"
            ],
            [
             1,
             "#276419"
            ]
           ],
           "sequential": [
            [
             0,
             "#0d0887"
            ],
            [
             0.1111111111111111,
             "#46039f"
            ],
            [
             0.2222222222222222,
             "#7201a8"
            ],
            [
             0.3333333333333333,
             "#9c179e"
            ],
            [
             0.4444444444444444,
             "#bd3786"
            ],
            [
             0.5555555555555556,
             "#d8576b"
            ],
            [
             0.6666666666666666,
             "#ed7953"
            ],
            [
             0.7777777777777778,
             "#fb9f3a"
            ],
            [
             0.8888888888888888,
             "#fdca26"
            ],
            [
             1,
             "#f0f921"
            ]
           ],
           "sequentialminus": [
            [
             0,
             "#0d0887"
            ],
            [
             0.1111111111111111,
             "#46039f"
            ],
            [
             0.2222222222222222,
             "#7201a8"
            ],
            [
             0.3333333333333333,
             "#9c179e"
            ],
            [
             0.4444444444444444,
             "#bd3786"
            ],
            [
             0.5555555555555556,
             "#d8576b"
            ],
            [
             0.6666666666666666,
             "#ed7953"
            ],
            [
             0.7777777777777778,
             "#fb9f3a"
            ],
            [
             0.8888888888888888,
             "#fdca26"
            ],
            [
             1,
             "#f0f921"
            ]
           ]
          },
          "colorway": [
           "#636efa",
           "#EF553B",
           "#00cc96",
           "#ab63fa",
           "#FFA15A",
           "#19d3f3",
           "#FF6692",
           "#B6E880",
           "#FF97FF",
           "#FECB52"
          ],
          "font": {
           "color": "#2a3f5f"
          },
          "geo": {
           "bgcolor": "white",
           "lakecolor": "white",
           "landcolor": "#E5ECF6",
           "showlakes": true,
           "showland": true,
           "subunitcolor": "white"
          },
          "hoverlabel": {
           "align": "left"
          },
          "hovermode": "closest",
          "mapbox": {
           "style": "light"
          },
          "paper_bgcolor": "white",
          "plot_bgcolor": "#E5ECF6",
          "polar": {
           "angularaxis": {
            "gridcolor": "white",
            "linecolor": "white",
            "ticks": ""
           },
           "bgcolor": "#E5ECF6",
           "radialaxis": {
            "gridcolor": "white",
            "linecolor": "white",
            "ticks": ""
           }
          },
          "scene": {
           "xaxis": {
            "backgroundcolor": "#E5ECF6",
            "gridcolor": "white",
            "gridwidth": 2,
            "linecolor": "white",
            "showbackground": true,
            "ticks": "",
            "zerolinecolor": "white"
           },
           "yaxis": {
            "backgroundcolor": "#E5ECF6",
            "gridcolor": "white",
            "gridwidth": 2,
            "linecolor": "white",
            "showbackground": true,
            "ticks": "",
            "zerolinecolor": "white"
           },
           "zaxis": {
            "backgroundcolor": "#E5ECF6",
            "gridcolor": "white",
            "gridwidth": 2,
            "linecolor": "white",
            "showbackground": true,
            "ticks": "",
            "zerolinecolor": "white"
           }
          },
          "shapedefaults": {
           "line": {
            "color": "#2a3f5f"
           }
          },
          "ternary": {
           "aaxis": {
            "gridcolor": "white",
            "linecolor": "white",
            "ticks": ""
           },
           "baxis": {
            "gridcolor": "white",
            "linecolor": "white",
            "ticks": ""
           },
           "bgcolor": "#E5ECF6",
           "caxis": {
            "gridcolor": "white",
            "linecolor": "white",
            "ticks": ""
           }
          },
          "title": {
           "x": 0.05
          },
          "xaxis": {
           "automargin": true,
           "gridcolor": "white",
           "linecolor": "white",
           "ticks": "",
           "title": {
            "standoff": 15
           },
           "zerolinecolor": "white",
           "zerolinewidth": 2
          },
          "yaxis": {
           "automargin": true,
           "gridcolor": "white",
           "linecolor": "white",
           "ticks": "",
           "title": {
            "standoff": 15
           },
           "zerolinecolor": "white",
           "zerolinewidth": 2
          }
         }
        }
       }
      },
      "text/html": [
       "<div>                            <div id=\"742a9042-726f-4a41-92a6-b5fd8a5516d5\" class=\"plotly-graph-div\" style=\"height:525px; width:100%;\"></div>            <script type=\"text/javascript\">                require([\"plotly\"], function(Plotly) {                    window.PLOTLYENV=window.PLOTLYENV || {};                                    if (document.getElementById(\"742a9042-726f-4a41-92a6-b5fd8a5516d5\")) {                    Plotly.newPlot(                        \"742a9042-726f-4a41-92a6-b5fd8a5516d5\",                        [{\"branchvalues\":\"total\",\"domain\":{\"x\":[0.0,1.0],\"y\":[0.0,1.0]},\"hovertemplate\":\"labels=%{label}<br>count=%{value}<br>parent=%{parent}<br>id=%{id}<extra></extra>\",\"ids\":[\"2/Manager/Life Sciences\",\"3/Manager/Life Sciences\",\"4/Manager/Life Sciences\",\"2/Sales Executive/Life Sciences\",\"3/Sales Executive/Life Sciences\",\"4/Sales Executive/Life Sciences\",\"2/Sales Representative/Life Sciences\",\"3/Sales Representative/Life Sciences\",\"4/Sales Representative/Life Sciences\",\"2/Manager/Marketing\",\"3/Manager/Marketing\",\"4/Manager/Marketing\",\"2/Sales Executive/Marketing\",\"3/Sales Executive/Marketing\",\"4/Sales Executive/Marketing\",\"2/Sales Representative/Marketing\",\"3/Sales Representative/Marketing\",\"2/Manager/Medical\",\"3/Manager/Medical\",\"2/Sales Executive/Medical\",\"3/Sales Executive/Medical\",\"4/Sales Executive/Medical\",\"2/Sales Representative/Medical\",\"3/Sales Representative/Medical\",\"4/Sales Representative/Medical\",\"3/Sales Executive/Other\",\"4/Sales Executive/Other\",\"3/Sales Representative/Other\",\"3/Manager/Technical Degree\",\"2/Sales Executive/Technical Degree\",\"3/Sales Executive/Technical Degree\",\"4/Sales Executive/Technical Degree\",\"3/Sales Representative/Technical Degree\",\"2/Manager\",\"3/Manager\",\"4/Manager\",\"2/Sales Executive\",\"3/Sales Executive\",\"4/Sales Executive\",\"2/Sales Representative\",\"3/Sales Representative\",\"4/Sales Representative\",\"2\",\"3\",\"4\"],\"labels\":[\"Life Sciences\",\"Life Sciences\",\"Life Sciences\",\"Life Sciences\",\"Life Sciences\",\"Life Sciences\",\"Life Sciences\",\"Life Sciences\",\"Life Sciences\",\"Marketing\",\"Marketing\",\"Marketing\",\"Marketing\",\"Marketing\",\"Marketing\",\"Marketing\",\"Marketing\",\"Medical\",\"Medical\",\"Medical\",\"Medical\",\"Medical\",\"Medical\",\"Medical\",\"Medical\",\"Other\",\"Other\",\"Other\",\"Technical Degree\",\"Technical Degree\",\"Technical Degree\",\"Technical Degree\",\"Technical Degree\",\"Manager\",\"Manager\",\"Manager\",\"Sales Executive\",\"Sales Executive\",\"Sales Executive\",\"Sales Representative\",\"Sales Representative\",\"Sales Representative\",\"2\",\"3\",\"4\"],\"name\":\"\",\"parents\":[\"2/Manager\",\"3/Manager\",\"4/Manager\",\"2/Sales Executive\",\"3/Sales Executive\",\"4/Sales Executive\",\"2/Sales Representative\",\"3/Sales Representative\",\"4/Sales Representative\",\"2/Manager\",\"3/Manager\",\"4/Manager\",\"2/Sales Executive\",\"3/Sales Executive\",\"4/Sales Executive\",\"2/Sales Representative\",\"3/Sales Representative\",\"2/Manager\",\"3/Manager\",\"2/Sales Executive\",\"3/Sales Executive\",\"4/Sales Executive\",\"2/Sales Representative\",\"3/Sales Representative\",\"4/Sales Representative\",\"3/Sales Executive\",\"4/Sales Executive\",\"3/Sales Representative\",\"3/Manager\",\"2/Sales Executive\",\"3/Sales Executive\",\"4/Sales Executive\",\"3/Sales Representative\",\"2\",\"3\",\"4\",\"2\",\"3\",\"4\",\"2\",\"3\",\"4\",\"\",\"\",\"\"],\"values\":[4,8,2,18,50,6,3,12,1,3,4,5,16,60,9,2,8,2,2,9,33,5,3,8,1,9,1,1,2,4,5,1,6,9,16,7,47,157,22,8,35,2,64,208,31],\"type\":\"sunburst\"}],                        {\"template\":{\"data\":{\"histogram2dcontour\":[{\"type\":\"histogram2dcontour\",\"colorbar\":{\"outlinewidth\":0,\"ticks\":\"\"},\"colorscale\":[[0.0,\"#0d0887\"],[0.1111111111111111,\"#46039f\"],[0.2222222222222222,\"#7201a8\"],[0.3333333333333333,\"#9c179e\"],[0.4444444444444444,\"#bd3786\"],[0.5555555555555556,\"#d8576b\"],[0.6666666666666666,\"#ed7953\"],[0.7777777777777778,\"#fb9f3a\"],[0.8888888888888888,\"#fdca26\"],[1.0,\"#f0f921\"]]}],\"choropleth\":[{\"type\":\"choropleth\",\"colorbar\":{\"outlinewidth\":0,\"ticks\":\"\"}}],\"histogram2d\":[{\"type\":\"histogram2d\",\"colorbar\":{\"outlinewidth\":0,\"ticks\":\"\"},\"colorscale\":[[0.0,\"#0d0887\"],[0.1111111111111111,\"#46039f\"],[0.2222222222222222,\"#7201a8\"],[0.3333333333333333,\"#9c179e\"],[0.4444444444444444,\"#bd3786\"],[0.5555555555555556,\"#d8576b\"],[0.6666666666666666,\"#ed7953\"],[0.7777777777777778,\"#fb9f3a\"],[0.8888888888888888,\"#fdca26\"],[1.0,\"#f0f921\"]]}],\"heatmap\":[{\"type\":\"heatmap\",\"colorbar\":{\"outlinewidth\":0,\"ticks\":\"\"},\"colorscale\":[[0.0,\"#0d0887\"],[0.1111111111111111,\"#46039f\"],[0.2222222222222222,\"#7201a8\"],[0.3333333333333333,\"#9c179e\"],[0.4444444444444444,\"#bd3786\"],[0.5555555555555556,\"#d8576b\"],[0.6666666666666666,\"#ed7953\"],[0.7777777777777778,\"#fb9f3a\"],[0.8888888888888888,\"#fdca26\"],[1.0,\"#f0f921\"]]}],\"heatmapgl\":[{\"type\":\"heatmapgl\",\"colorbar\":{\"outlinewidth\":0,\"ticks\":\"\"},\"colorscale\":[[0.0,\"#0d0887\"],[0.1111111111111111,\"#46039f\"],[0.2222222222222222,\"#7201a8\"],[0.3333333333333333,\"#9c179e\"],[0.4444444444444444,\"#bd3786\"],[0.5555555555555556,\"#d8576b\"],[0.6666666666666666,\"#ed7953\"],[0.7777777777777778,\"#fb9f3a\"],[0.8888888888888888,\"#fdca26\"],[1.0,\"#f0f921\"]]}],\"contourcarpet\":[{\"type\":\"contourcarpet\",\"colorbar\":{\"outlinewidth\":0,\"ticks\":\"\"}}],\"contour\":[{\"type\":\"contour\",\"colorbar\":{\"outlinewidth\":0,\"ticks\":\"\"},\"colorscale\":[[0.0,\"#0d0887\"],[0.1111111111111111,\"#46039f\"],[0.2222222222222222,\"#7201a8\"],[0.3333333333333333,\"#9c179e\"],[0.4444444444444444,\"#bd3786\"],[0.5555555555555556,\"#d8576b\"],[0.6666666666666666,\"#ed7953\"],[0.7777777777777778,\"#fb9f3a\"],[0.8888888888888888,\"#fdca26\"],[1.0,\"#f0f921\"]]}],\"surface\":[{\"type\":\"surface\",\"colorbar\":{\"outlinewidth\":0,\"ticks\":\"\"},\"colorscale\":[[0.0,\"#0d0887\"],[0.1111111111111111,\"#46039f\"],[0.2222222222222222,\"#7201a8\"],[0.3333333333333333,\"#9c179e\"],[0.4444444444444444,\"#bd3786\"],[0.5555555555555556,\"#d8576b\"],[0.6666666666666666,\"#ed7953\"],[0.7777777777777778,\"#fb9f3a\"],[0.8888888888888888,\"#fdca26\"],[1.0,\"#f0f921\"]]}],\"mesh3d\":[{\"type\":\"mesh3d\",\"colorbar\":{\"outlinewidth\":0,\"ticks\":\"\"}}],\"scatter\":[{\"fillpattern\":{\"fillmode\":\"overlay\",\"size\":10,\"solidity\":0.2},\"type\":\"scatter\"}],\"parcoords\":[{\"type\":\"parcoords\",\"line\":{\"colorbar\":{\"outlinewidth\":0,\"ticks\":\"\"}}}],\"scatterpolargl\":[{\"type\":\"scatterpolargl\",\"marker\":{\"colorbar\":{\"outlinewidth\":0,\"ticks\":\"\"}}}],\"bar\":[{\"error_x\":{\"color\":\"#2a3f5f\"},\"error_y\":{\"color\":\"#2a3f5f\"},\"marker\":{\"line\":{\"color\":\"#E5ECF6\",\"width\":0.5},\"pattern\":{\"fillmode\":\"overlay\",\"size\":10,\"solidity\":0.2}},\"type\":\"bar\"}],\"scattergeo\":[{\"type\":\"scattergeo\",\"marker\":{\"colorbar\":{\"outlinewidth\":0,\"ticks\":\"\"}}}],\"scatterpolar\":[{\"type\":\"scatterpolar\",\"marker\":{\"colorbar\":{\"outlinewidth\":0,\"ticks\":\"\"}}}],\"histogram\":[{\"marker\":{\"pattern\":{\"fillmode\":\"overlay\",\"size\":10,\"solidity\":0.2}},\"type\":\"histogram\"}],\"scattergl\":[{\"type\":\"scattergl\",\"marker\":{\"colorbar\":{\"outlinewidth\":0,\"ticks\":\"\"}}}],\"scatter3d\":[{\"type\":\"scatter3d\",\"line\":{\"colorbar\":{\"outlinewidth\":0,\"ticks\":\"\"}},\"marker\":{\"colorbar\":{\"outlinewidth\":0,\"ticks\":\"\"}}}],\"scattermapbox\":[{\"type\":\"scattermapbox\",\"marker\":{\"colorbar\":{\"outlinewidth\":0,\"ticks\":\"\"}}}],\"scatterternary\":[{\"type\":\"scatterternary\",\"marker\":{\"colorbar\":{\"outlinewidth\":0,\"ticks\":\"\"}}}],\"scattercarpet\":[{\"type\":\"scattercarpet\",\"marker\":{\"colorbar\":{\"outlinewidth\":0,\"ticks\":\"\"}}}],\"carpet\":[{\"aaxis\":{\"endlinecolor\":\"#2a3f5f\",\"gridcolor\":\"white\",\"linecolor\":\"white\",\"minorgridcolor\":\"white\",\"startlinecolor\":\"#2a3f5f\"},\"baxis\":{\"endlinecolor\":\"#2a3f5f\",\"gridcolor\":\"white\",\"linecolor\":\"white\",\"minorgridcolor\":\"white\",\"startlinecolor\":\"#2a3f5f\"},\"type\":\"carpet\"}],\"table\":[{\"cells\":{\"fill\":{\"color\":\"#EBF0F8\"},\"line\":{\"color\":\"white\"}},\"header\":{\"fill\":{\"color\":\"#C8D4E3\"},\"line\":{\"color\":\"white\"}},\"type\":\"table\"}],\"barpolar\":[{\"marker\":{\"line\":{\"color\":\"#E5ECF6\",\"width\":0.5},\"pattern\":{\"fillmode\":\"overlay\",\"size\":10,\"solidity\":0.2}},\"type\":\"barpolar\"}],\"pie\":[{\"automargin\":true,\"type\":\"pie\"}]},\"layout\":{\"autotypenumbers\":\"strict\",\"colorway\":[\"#636efa\",\"#EF553B\",\"#00cc96\",\"#ab63fa\",\"#FFA15A\",\"#19d3f3\",\"#FF6692\",\"#B6E880\",\"#FF97FF\",\"#FECB52\"],\"font\":{\"color\":\"#2a3f5f\"},\"hovermode\":\"closest\",\"hoverlabel\":{\"align\":\"left\"},\"paper_bgcolor\":\"white\",\"plot_bgcolor\":\"#E5ECF6\",\"polar\":{\"bgcolor\":\"#E5ECF6\",\"angularaxis\":{\"gridcolor\":\"white\",\"linecolor\":\"white\",\"ticks\":\"\"},\"radialaxis\":{\"gridcolor\":\"white\",\"linecolor\":\"white\",\"ticks\":\"\"}},\"ternary\":{\"bgcolor\":\"#E5ECF6\",\"aaxis\":{\"gridcolor\":\"white\",\"linecolor\":\"white\",\"ticks\":\"\"},\"baxis\":{\"gridcolor\":\"white\",\"linecolor\":\"white\",\"ticks\":\"\"},\"caxis\":{\"gridcolor\":\"white\",\"linecolor\":\"white\",\"ticks\":\"\"}},\"coloraxis\":{\"colorbar\":{\"outlinewidth\":0,\"ticks\":\"\"}},\"colorscale\":{\"sequential\":[[0.0,\"#0d0887\"],[0.1111111111111111,\"#46039f\"],[0.2222222222222222,\"#7201a8\"],[0.3333333333333333,\"#9c179e\"],[0.4444444444444444,\"#bd3786\"],[0.5555555555555556,\"#d8576b\"],[0.6666666666666666,\"#ed7953\"],[0.7777777777777778,\"#fb9f3a\"],[0.8888888888888888,\"#fdca26\"],[1.0,\"#f0f921\"]],\"sequentialminus\":[[0.0,\"#0d0887\"],[0.1111111111111111,\"#46039f\"],[0.2222222222222222,\"#7201a8\"],[0.3333333333333333,\"#9c179e\"],[0.4444444444444444,\"#bd3786\"],[0.5555555555555556,\"#d8576b\"],[0.6666666666666666,\"#ed7953\"],[0.7777777777777778,\"#fb9f3a\"],[0.8888888888888888,\"#fdca26\"],[1.0,\"#f0f921\"]],\"diverging\":[[0,\"#8e0152\"],[0.1,\"#c51b7d\"],[0.2,\"#de77ae\"],[0.3,\"#f1b6da\"],[0.4,\"#fde0ef\"],[0.5,\"#f7f7f7\"],[0.6,\"#e6f5d0\"],[0.7,\"#b8e186\"],[0.8,\"#7fbc41\"],[0.9,\"#4d9221\"],[1,\"#276419\"]]},\"xaxis\":{\"gridcolor\":\"white\",\"linecolor\":\"white\",\"ticks\":\"\",\"title\":{\"standoff\":15},\"zerolinecolor\":\"white\",\"automargin\":true,\"zerolinewidth\":2},\"yaxis\":{\"gridcolor\":\"white\",\"linecolor\":\"white\",\"ticks\":\"\",\"title\":{\"standoff\":15},\"zerolinecolor\":\"white\",\"automargin\":true,\"zerolinewidth\":2},\"scene\":{\"xaxis\":{\"backgroundcolor\":\"#E5ECF6\",\"gridcolor\":\"white\",\"linecolor\":\"white\",\"showbackground\":true,\"ticks\":\"\",\"zerolinecolor\":\"white\",\"gridwidth\":2},\"yaxis\":{\"backgroundcolor\":\"#E5ECF6\",\"gridcolor\":\"white\",\"linecolor\":\"white\",\"showbackground\":true,\"ticks\":\"\",\"zerolinecolor\":\"white\",\"gridwidth\":2},\"zaxis\":{\"backgroundcolor\":\"#E5ECF6\",\"gridcolor\":\"white\",\"linecolor\":\"white\",\"showbackground\":true,\"ticks\":\"\",\"zerolinecolor\":\"white\",\"gridwidth\":2}},\"shapedefaults\":{\"line\":{\"color\":\"#2a3f5f\"}},\"annotationdefaults\":{\"arrowcolor\":\"#2a3f5f\",\"arrowhead\":0,\"arrowwidth\":1},\"geo\":{\"bgcolor\":\"white\",\"landcolor\":\"#E5ECF6\",\"subunitcolor\":\"white\",\"showland\":true,\"showlakes\":true,\"lakecolor\":\"white\"},\"title\":{\"x\":0.05},\"mapbox\":{\"style\":\"light\"}}},\"legend\":{\"tracegroupgap\":0},\"margin\":{\"t\":60}},                        {\"responsive\": true}                    ).then(function(){\n",
       "                            \n",
       "var gd = document.getElementById('742a9042-726f-4a41-92a6-b5fd8a5516d5');\n",
       "var x = new MutationObserver(function (mutations, observer) {{\n",
       "        var display = window.getComputedStyle(gd).display;\n",
       "        if (!display || display === 'none') {{\n",
       "            console.log([gd, 'removed!']);\n",
       "            Plotly.purge(gd);\n",
       "            observer.disconnect();\n",
       "        }}\n",
       "}});\n",
       "\n",
       "// Listen for the removal of the full notebook cells\n",
       "var notebookContainer = gd.closest('#notebook-container');\n",
       "if (notebookContainer) {{\n",
       "    x.observe(notebookContainer, {childList: true});\n",
       "}}\n",
       "\n",
       "// Listen for the clearing of the current output cell\n",
       "var outputEl = gd.closest('.output');\n",
       "if (outputEl) {{\n",
       "    x.observe(outputEl, {childList: true});\n",
       "}}\n",
       "\n",
       "                        })                };                });            </script>        </div>"
      ]
     },
     "metadata": {},
     "output_type": "display_data"
    }
   ],
   "source": [
    "# 6) Employee Education\n",
    "\n",
    "fig=px.sunburst(df_sales, path=['PerformanceRating','EmpJobRole','EducationBackground'])\n",
    "fig.show()\n",
    "\n",
    "#Out of 47 sales executives, 27 sales executive have education background other than marketing\n",
    "#Out of 8 sales representatives, 6 sales representatives have education background other than marketing\n",
    "#Out of 9 sales managers, 6 sales managers have education background other than marketing"
   ]
  },
  {
   "cell_type": "code",
   "execution_count": 127,
   "id": "7953c17c",
   "metadata": {},
   "outputs": [
    {
     "data": {
      "text/plain": [
       "<AxesSubplot:xlabel='PerformanceRating', ylabel='TrainingTimesLastYear'>"
      ]
     },
     "execution_count": 127,
     "metadata": {},
     "output_type": "execute_result"
    },
    {
     "data": {
      "image/png": "[encoded data removed]",
      "text/plain": [
       "<Figure size 432x288 with 1 Axes>"
      ]
     },
     "metadata": {
      "needs_background": "light"
     },
     "output_type": "display_data"
    }
   ],
   "source": [
    "# 7) Learning and Developmemt\n",
    "\n",
    "sns.boxenplot(data=df_sales, x='PerformanceRating', y='TrainingTimesLastYear')\n",
    "\n",
    "#Employees who attended more trainings have higher performance"
   ]
  },
  {
   "cell_type": "code",
   "execution_count": 128,
   "id": "4245bda3",
   "metadata": {},
   "outputs": [
    {
     "data": {
      "application/vnd.plotly.v1+json": {
       "config": {
        "plotlyServerURL": "https://plot.ly"
       },
       "data": [
        {
         "branchvalues": "total",
         "domain": {
          "x": [
           0,
           1
          ],
          "y": [
           0,
           1
          ]
         },
         "hovertemplate": "labels=%{label}<br>count=%{value}<br>parent=%{parent}<br>id=%{id}<extra></extra>",
         "ids": [
          "2/Manager/11",
          "3/Manager/11",
          "4/Manager/11",
          "2/Sales Executive/11",
          "3/Sales Executive/11",
          "3/Sales Representative/11",
          "2/Manager/12",
          "3/Manager/12",
          "2/Sales Executive/12",
          "3/Sales Executive/12",
          "3/Sales Representative/12",
          "3/Manager/13",
          "4/Manager/13",
          "2/Sales Executive/13",
          "3/Sales Executive/13",
          "4/Sales Executive/13",
          "3/Sales Representative/13",
          "2/Manager/14",
          "3/Manager/14",
          "2/Sales Executive/14",
          "3/Sales Executive/14",
          "4/Sales Executive/14",
          "2/Sales Representative/14",
          "3/Sales Representative/14",
          "2/Sales Executive/15",
          "3/Sales Executive/15",
          "4/Sales Executive/15",
          "3/Sales Representative/15",
          "2/Manager/16",
          "3/Manager/16",
          "2/Sales Executive/16",
          "3/Sales Executive/16",
          "3/Sales Representative/16",
          "3/Sales Executive/17",
          "2/Sales Representative/17",
          "2/Manager/18",
          "3/Manager/18",
          "2/Sales Executive/18",
          "3/Sales Executive/18",
          "3/Sales Representative/18",
          "3/Manager/19",
          "2/Sales Executive/19",
          "3/Sales Executive/19",
          "4/Sales Executive/19",
          "2/Sales Representative/19",
          "3/Sales Representative/19",
          "2/Sales Executive/20",
          "3/Sales Executive/20",
          "4/Sales Executive/20",
          "2/Sales Representative/20",
          "3/Sales Representative/20",
          "4/Manager/21",
          "2/Sales Executive/21",
          "3/Sales Executive/21",
          "4/Sales Executive/21",
          "2/Sales Representative/21",
          "4/Sales Representative/21",
          "2/Manager/22",
          "4/Manager/22",
          "2/Sales Executive/22",
          "3/Sales Executive/22",
          "4/Sales Executive/22",
          "4/Sales Representative/22",
          "2/Manager/23",
          "4/Manager/23",
          "4/Sales Executive/23",
          "2/Sales Representative/23",
          "4/Manager/24",
          "4/Sales Executive/24",
          "2/Sales Representative/24",
          "2/Sales Executive/25",
          "4/Sales Executive/25",
          "2/Manager",
          "3/Manager",
          "4/Manager",
          "2/Sales Executive",
          "3/Sales Executive",
          "4/Sales Executive",
          "2/Sales Representative",
          "3/Sales Representative",
          "4/Sales Representative",
          "2",
          "3",
          "4"
         ],
         "labels": [
          "11",
          "11",
          "11",
          "11",
          "11",
          "11",
          "12",
          "12",
          "12",
          "12",
          "12",
          "13",
          "13",
          "13",
          "13",
          "13",
          "13",
          "14",
          "14",
          "14",
          "14",
          "14",
          "14",
          "14",
          "15",
          "15",
          "15",
          "15",
          "16",
          "16",
          "16",
          "16",
          "16",
          "17",
          "17",
          "18",
          "18",
          "18",
          "18",
          "18",
          "19",
          "19",
          "19",
          "19",
          "19",
          "19",
          "20",
          "20",
          "20",
          "20",
          "20",
          "21",
          "21",
          "21",
          "21",
          "21",
          "21",
          "22",
          "22",
          "22",
          "22",
          "22",
          "22",
          "23",
          "23",
          "23",
          "23",
          "24",
          "24",
          "24",
          "25",
          "25",
          "Manager",
          "Manager",
          "Manager",
          "Sales Executive",
          "Sales Executive",
          "Sales Executive",
          "Sales Representative",
          "Sales Representative",
          "Sales Representative",
          "2",
          "3",
          "4"
         ],
         "name": "",
         "parents": [
          "2/Manager",
          "3/Manager",
          "4/Manager",
          "2/Sales Executive",
          "3/Sales Executive",
          "3/Sales Representative",
          "2/Manager",
          "3/Manager",
          "2/Sales Executive",
          "3/Sales Executive",
          "3/Sales Representative",
          "3/Manager",
          "4/Manager",
          "2/Sales Executive",
          "3/Sales Executive",
          "4/Sales Executive",
          "3/Sales Representative",
          "2/Manager",
          "3/Manager",
          "2/Sales Executive",
          "3/Sales Executive",
          "4/Sales Executive",
          "2/Sales Representative",
          "3/Sales Representative",
          "2/Sales Executive",
          "3/Sales Executive",
          "4/Sales Executive",
          "3/Sales Representative",
          "2/Manager",
          "3/Manager",
          "2/Sales Executive",
          "3/Sales Executive",
          "3/Sales Representative",
          "3/Sales Executive",
          "2/Sales Representative",
          "2/Manager",
          "3/Manager",
          "2/Sales Executive",
          "3/Sales Executive",
          "3/Sales Representative",
          "3/Manager",
          "2/Sales Executive",
          "3/Sales Executive",
          "4/Sales Executive",
          "2/Sales Representative",
          "3/Sales Representative",
          "2/Sales Executive",
          "3/Sales Executive",
          "4/Sales Executive",
          "2/Sales Representative",
          "3/Sales Representative",
          "4/Manager",
          "2/Sales Executive",
          "3/Sales Executive",
          "4/Sales Executive",
          "2/Sales Representative",
          "4/Sales Representative",
          "2/Manager",
          "4/Manager",
          "2/Sales Executive",
          "3/Sales Executive",
          "4/Sales Executive",
          "4/Sales Representative",
          "2/Manager",
          "4/Manager",
          "4/Sales Executive",
          "2/Sales Representative",
          "4/Manager",
          "4/Sales Executive",
          "2/Sales Representative",
          "2/Sales Executive",
          "4/Sales Executive",
          "2",
          "3",
          "4",
          "2",
          "3",
          "4",
          "2",
          "3",
          "4",
          "",
          "",
          ""
         ],
         "type": "sunburst",
         "values": [
          1,
          2,
          1,
          9,
          23,
          6,
          2,
          4,
          5,
          26,
          3,
          3,
          1,
          5,
          23,
          1,
          5,
          1,
          4,
          7,
          32,
          3,
          1,
          4,
          3,
          10,
          1,
          6,
          2,
          1,
          4,
          7,
          1,
          9,
          1,
          1,
          1,
          2,
          11,
          5,
          1,
          2,
          9,
          1,
          2,
          4,
          3,
          2,
          3,
          1,
          1,
          2,
          3,
          2,
          3,
          1,
          1,
          1,
          1,
          2,
          3,
          5,
          1,
          1,
          1,
          2,
          1,
          1,
          2,
          1,
          2,
          1,
          9,
          16,
          7,
          47,
          157,
          22,
          8,
          35,
          2,
          64,
          208,
          31
         ]
        }
       ],
       "layout": {
        "legend": {
         "tracegroupgap": 0
        },
        "margin": {
         "t": 60
        },
        "template": {
         "data": {
          "bar": [
           {
            "error_x": {
             "color": "#2a3f5f"
            },
            "error_y": {
             "color": "#2a3f5f"
            },
            "marker": {
             "line": {
              "color": "#E5ECF6",
              "width": 0.5
             },
             "pattern": {
              "fillmode": "overlay",
              "size": 10,
              "solidity": 0.2
             }
            },
            "type": "bar"
           }
          ],
          "barpolar": [
           {
            "marker": {
             "line": {
              "color": "#E5ECF6",
              "width": 0.5
             },
             "pattern": {
              "fillmode": "overlay",
              "size": 10,
              "solidity": 0.2
             }
            },
            "type": "barpolar"
           }
          ],
          "carpet": [
           {
            "aaxis": {
             "endlinecolor": "#2a3f5f",
             "gridcolor": "white",
             "linecolor": "white",
             "minorgridcolor": "white",
             "startlinecolor": "#2a3f5f"
            },
            "baxis": {
             "endlinecolor": "#2a3f5f",
             "gridcolor": "white",
             "linecolor": "white",
             "minorgridcolor": "white",
             "startlinecolor": "#2a3f5f"
            },
            "type": "carpet"
           }
          ],
          "choropleth": [
           {
            "colorbar": {
             "outlinewidth": 0,
             "ticks": ""
            },
            "type": "choropleth"
           }
          ],
          "contour": [
           {
            "colorbar": {
             "outlinewidth": 0,
             "ticks": ""
            },
            "colorscale": [
             [
              0,
              "#0d0887"
             ],
             [
              0.1111111111111111,
              "#46039f"
             ],
             [
              0.2222222222222222,
              "#7201a8"
             ],
             [
              0.3333333333333333,
              "#9c179e"
             ],
             [
              0.4444444444444444,
              "#bd3786"
             ],
             [
              0.5555555555555556,
              "#d8576b"
             ],
             [
              0.6666666666666666,
              "#ed7953"
             ],
             [
              0.7777777777777778,
              "#fb9f3a"
             ],
             [
              0.8888888888888888,
              "#fdca26"
             ],
             [
              1,
              "#f0f921"
             ]
            ],
            "type": "contour"
           }
          ],
          "contourcarpet": [
           {
            "colorbar": {
             "outlinewidth": 0,
             "ticks": ""
            },
            "type": "contourcarpet"
           }
          ],
          "heatmap": [
           {
            "colorbar": {
             "outlinewidth": 0,
             "ticks": ""
            },
            "colorscale": [
             [
              0,
              "#0d0887"
             ],
             [
              0.1111111111111111,
              "#46039f"
             ],
             [
              0.2222222222222222,
              "#7201a8"
             ],
             [
              0.3333333333333333,
              "#9c179e"
             ],
             [
              0.4444444444444444,
              "#bd3786"
             ],
             [
              0.5555555555555556,
              "#d8576b"
             ],
             [
              0.6666666666666666,
              "#ed7953"
             ],
             [
              0.7777777777777778,
              "#fb9f3a"
             ],
             [
              0.8888888888888888,
              "#fdca26"
             ],
             [
              1,
              "#f0f921"
             ]
            ],
            "type": "heatmap"
           }
          ],
          "heatmapgl": [
           {
            "colorbar": {
             "outlinewidth": 0,
             "ticks": ""
            },
            "colorscale": [
             [
              0,
              "#0d0887"
             ],
             [
              0.1111111111111111,
              "#46039f"
             ],
             [
              0.2222222222222222,
              "#7201a8"
             ],
             [
              0.3333333333333333,
              "#9c179e"
             ],
             [
              0.4444444444444444,
              "#bd3786"
             ],
             [
              0.5555555555555556,
              "#d8576b"
             ],
             [
              0.6666666666666666,
              "#ed7953"
             ],
             [
              0.7777777777777778,
              "#fb9f3a"
             ],
             [
              0.8888888888888888,
              "#fdca26"
             ],
             [
              1,
              "#f0f921"
             ]
            ],
            "type": "heatmapgl"
           }
          ],
          "histogram": [
           {
            "marker": {
             "pattern": {
              "fillmode": "overlay",
              "size": 10,
              "solidity": 0.2
             }
            },
            "type": "histogram"
           }
          ],
          "histogram2d": [
           {
            "colorbar": {
             "outlinewidth": 0,
             "ticks": ""
            },
            "colorscale": [
             [
              0,
              "#0d0887"
             ],
             [
              0.1111111111111111,
              "#46039f"
             ],
             [
              0.2222222222222222,
              "#7201a8"
             ],
             [
              0.3333333333333333,
              "#9c179e"
             ],
             [
              0.4444444444444444,
              "#bd3786"
             ],
             [
              0.5555555555555556,
              "#d8576b"
             ],
             [
              0.6666666666666666,
              "#ed7953"
             ],
             [
              0.7777777777777778,
              "#fb9f3a"
             ],
             [
              0.8888888888888888,
              "#fdca26"
             ],
             [
              1,
              "#f0f921"
             ]
            ],
            "type": "histogram2d"
           }
          ],
          "histogram2dcontour": [
           {
            "colorbar": {
             "outlinewidth": 0,
             "ticks": ""
            },
            "colorscale": [
             [
              0,
              "#0d0887"
             ],
             [
              0.1111111111111111,
              "#46039f"
             ],
             [
              0.2222222222222222,
              "#7201a8"
             ],
             [
              0.3333333333333333,
              "#9c179e"
             ],
             [
              0.4444444444444444,
              "#bd3786"
             ],
             [
              0.5555555555555556,
              "#d8576b"
             ],
             [
              0.6666666666666666,
              "#ed7953"
             ],
             [
              0.7777777777777778,
              "#fb9f3a"
             ],
             [
              0.8888888888888888,
              "#fdca26"
             ],
             [
              1,
              "#f0f921"
             ]
            ],
            "type": "histogram2dcontour"
           }
          ],
          "mesh3d": [
           {
            "colorbar": {
             "outlinewidth": 0,
             "ticks": ""
            },
            "type": "mesh3d"
           }
          ],
          "parcoords": [
           {
            "line": {
             "colorbar": {
              "outlinewidth": 0,
              "ticks": ""
             }
            },
            "type": "parcoords"
           }
          ],
          "pie": [
           {
            "automargin": true,
            "type": "pie"
           }
          ],
          "scatter": [
           {
            "fillpattern": {
             "fillmode": "overlay",
             "size": 10,
             "solidity": 0.2
            },
            "type": "scatter"
           }
          ],
          "scatter3d": [
           {
            "line": {
             "colorbar": {
              "outlinewidth": 0,
              "ticks": ""
             }
            },
            "marker": {
             "colorbar": {
              "outlinewidth": 0,
              "ticks": ""
             }
            },
            "type": "scatter3d"
           }
          ],
          "scattercarpet": [
           {
            "marker": {
             "colorbar": {
              "outlinewidth": 0,
              "ticks": ""
             }
            },
            "type": "scattercarpet"
           }
          ],
          "scattergeo": [
           {
            "marker": {
             "colorbar": {
              "outlinewidth": 0,
              "ticks": ""
             }
            },
            "type": "scattergeo"
           }
          ],
          "scattergl": [
           {
            "marker": {
             "colorbar": {
              "outlinewidth": 0,
              "ticks": ""
             }
            },
            "type": "scattergl"
           }
          ],
          "scattermapbox": [
           {
            "marker": {
             "colorbar": {
              "outlinewidth": 0,
              "ticks": ""
             }
            },
            "type": "scattermapbox"
           }
          ],
          "scatterpolar": [
           {
            "marker": {
             "colorbar": {
              "outlinewidth": 0,
              "ticks": ""
             }
            },
            "type": "scatterpolar"
           }
          ],
          "scatterpolargl": [
           {
            "marker": {
             "colorbar": {
              "outlinewidth": 0,
              "ticks": ""
             }
            },
            "type": "scatterpolargl"
           }
          ],
          "scatterternary": [
           {
            "marker": {
             "colorbar": {
              "outlinewidth": 0,
              "ticks": ""
             }
            },
            "type": "scatterternary"
           }
          ],
          "surface": [
           {
            "colorbar": {
             "outlinewidth": 0,
             "ticks": ""
            },
            "colorscale": [
             [
              0,
              "#0d0887"
             ],
             [
              0.1111111111111111,
              "#46039f"
             ],
             [
              0.2222222222222222,
              "#7201a8"
             ],
             [
              0.3333333333333333,
              "#9c179e"
             ],
             [
              0.4444444444444444,
              "#bd3786"
             ],
             [
              0.5555555555555556,
              "#d8576b"
             ],
             [
              0.6666666666666666,
              "#ed7953"
             ],
             [
              0.7777777777777778,
              "#fb9f3a"
             ],
             [
              0.8888888888888888,
              "#fdca26"
             ],
             [
              1,
              "#f0f921"
             ]
            ],
            "type": "surface"
           }
          ],
          "table": [
           {
            "cells": {
             "fill": {
              "color": "#EBF0F8"
             },
             "line": {
              "color": "white"
             }
            },
            "header": {
             "fill": {
              "color": "#C8D4E3"
             },
             "line": {
              "color": "white"
             }
            },
            "type": "table"
           }
          ]
         },
         "layout": {
          "annotationdefaults": {
           "arrowcolor": "#2a3f5f",
           "arrowhead": 0,
           "arrowwidth": 1
          },
          "autotypenumbers": "strict",
          "coloraxis": {
           "colorbar": {
            "outlinewidth": 0,
            "ticks": ""
           }
          },
          "colorscale": {
           "diverging": [
            [
             0,
             "#8e0152"
            ],
            [
             0.1,
             "#c51b7d"
            ],
            [
             0.2,
             "#de77ae"
            ],
            [
             0.3,
             "#f1b6da"
            ],
            [
             0.4,
             "#fde0ef"
            ],
            [
             0.5,
             "#f7f7f7"
            ],
            [
             0.6,
             "#e6f5d0"
            ],
            [
             0.7,
             "#b8e186"
            ],
            [
             0.8,
             "#7fbc41"
            ],
            [
             0.9,
             "#4d9221"
            ],
            [
             1,
             "#276419"
            ]
           ],
           "sequential": [
            [
             0,
             "#0d0887"
            ],
            [
             0.1111111111111111,
             "#46039f"
            ],
            [
             0.2222222222222222,
             "#7201a8"
            ],
            [
             0.3333333333333333,
             "#9c179e"
            ],
            [
             0.4444444444444444,
             "#bd3786"
            ],
            [
             0.5555555555555556,
             "#d8576b"
            ],
            [
             0.6666666666666666,
             "#ed7953"
            ],
            [
             0.7777777777777778,
             "#fb9f3a"
            ],
            [
             0.8888888888888888,
             "#fdca26"
            ],
            [
             1,
             "#f0f921"
            ]
           ],
           "sequentialminus": [
            [
             0,
             "#0d0887"
            ],
            [
             0.1111111111111111,
             "#46039f"
            ],
            [
             0.2222222222222222,
             "#7201a8"
            ],
            [
             0.3333333333333333,
             "#9c179e"
            ],
            [
             0.4444444444444444,
             "#bd3786"
            ],
            [
             0.5555555555555556,
             "#d8576b"
            ],
            [
             0.6666666666666666,
             "#ed7953"
            ],
            [
             0.7777777777777778,
             "#fb9f3a"
            ],
            [
             0.8888888888888888,
             "#fdca26"
            ],
            [
             1,
             "#f0f921"
            ]
           ]
          },
          "colorway": [
           "#636efa",
           "#EF553B",
           "#00cc96",
           "#ab63fa",
           "#FFA15A",
           "#19d3f3",
           "#FF6692",
           "#B6E880",
           "#FF97FF",
           "#FECB52"
          ],
          "font": {
           "color": "#2a3f5f"
          },
          "geo": {
           "bgcolor": "white",
           "lakecolor": "white",
           "landcolor": "#E5ECF6",
           "showlakes": true,
           "showland": true,
           "subunitcolor": "white"
          },
          "hoverlabel": {
           "align": "left"
          },
          "hovermode": "closest",
          "mapbox": {
           "style": "light"
          },
          "paper_bgcolor": "white",
          "plot_bgcolor": "#E5ECF6",
          "polar": {
           "angularaxis": {
            "gridcolor": "white",
            "linecolor": "white",
            "ticks": ""
           },
           "bgcolor": "#E5ECF6",
           "radialaxis": {
            "gridcolor": "white",
            "linecolor": "white",
            "ticks": ""
           }
          },
          "scene": {
           "xaxis": {
            "backgroundcolor": "#E5ECF6",
            "gridcolor": "white",
            "gridwidth": 2,
            "linecolor": "white",
            "showbackground": true,
            "ticks": "",
            "zerolinecolor": "white"
           },
           "yaxis": {
            "backgroundcolor": "#E5ECF6",
            "gridcolor": "white",
            "gridwidth": 2,
            "linecolor": "white",
            "showbackground": true,
            "ticks": "",
            "zerolinecolor": "white"
           },
           "zaxis": {
            "backgroundcolor": "#E5ECF6",
            "gridcolor": "white",
            "gridwidth": 2,
            "linecolor": "white",
            "showbackground": true,
            "ticks": "",
            "zerolinecolor": "white"
           }
          },
          "shapedefaults": {
           "line": {
            "color": "#2a3f5f"
           }
          },
          "ternary": {
           "aaxis": {
            "gridcolor": "white",
            "linecolor": "white",
            "ticks": ""
           },
           "baxis": {
            "gridcolor": "white",
            "linecolor": "white",
            "ticks": ""
           },
           "bgcolor": "#E5ECF6",
           "caxis": {
            "gridcolor": "white",
            "linecolor": "white",
            "ticks": ""
           }
          },
          "title": {
           "x": 0.05
          },
          "xaxis": {
           "automargin": true,
           "gridcolor": "white",
           "linecolor": "white",
           "ticks": "",
           "title": {
            "standoff": 15
           },
           "zerolinecolor": "white",
           "zerolinewidth": 2
          },
          "yaxis": {
           "automargin": true,
           "gridcolor": "white",
           "linecolor": "white",
           "ticks": "",
           "title": {
            "standoff": 15
           },
           "zerolinecolor": "white",
           "zerolinewidth": 2
          }
         }
        }
       }
      },
      "text/html": [
       "<div>                            <div id=\"7b1362b5-fc3f-4fc8-ac0e-994ba632ec09\" class=\"plotly-graph-div\" style=\"height:525px; width:100%;\"></div>            <script type=\"text/javascript\">                require([\"plotly\"], function(Plotly) {                    window.PLOTLYENV=window.PLOTLYENV || {};                                    if (document.getElementById(\"7b1362b5-fc3f-4fc8-ac0e-994ba632ec09\")) {                    Plotly.newPlot(                        \"7b1362b5-fc3f-4fc8-ac0e-994ba632ec09\",                        [{\"branchvalues\":\"total\",\"domain\":{\"x\":[0.0,1.0],\"y\":[0.0,1.0]},\"hovertemplate\":\"labels=%{label}<br>count=%{value}<br>parent=%{parent}<br>id=%{id}<extra></extra>\",\"ids\":[\"2/Manager/11\",\"3/Manager/11\",\"4/Manager/11\",\"2/Sales Executive/11\",\"3/Sales Executive/11\",\"3/Sales Representative/11\",\"2/Manager/12\",\"3/Manager/12\",\"2/Sales Executive/12\",\"3/Sales Executive/12\",\"3/Sales Representative/12\",\"3/Manager/13\",\"4/Manager/13\",\"2/Sales Executive/13\",\"3/Sales Executive/13\",\"4/Sales Executive/13\",\"3/Sales Representative/13\",\"2/Manager/14\",\"3/Manager/14\",\"2/Sales Executive/14\",\"3/Sales Executive/14\",\"4/Sales Executive/14\",\"2/Sales Representative/14\",\"3/Sales Representative/14\",\"2/Sales Executive/15\",\"3/Sales Executive/15\",\"4/Sales Executive/15\",\"3/Sales Representative/15\",\"2/Manager/16\",\"3/Manager/16\",\"2/Sales Executive/16\",\"3/Sales Executive/16\",\"3/Sales Representative/16\",\"3/Sales Executive/17\",\"2/Sales Representative/17\",\"2/Manager/18\",\"3/Manager/18\",\"2/Sales Executive/18\",\"3/Sales Executive/18\",\"3/Sales Representative/18\",\"3/Manager/19\",\"2/Sales Executive/19\",\"3/Sales Executive/19\",\"4/Sales Executive/19\",\"2/Sales Representative/19\",\"3/Sales Representative/19\",\"2/Sales Executive/20\",\"3/Sales Executive/20\",\"4/Sales Executive/20\",\"2/Sales Representative/20\",\"3/Sales Representative/20\",\"4/Manager/21\",\"2/Sales Executive/21\",\"3/Sales Executive/21\",\"4/Sales Executive/21\",\"2/Sales Representative/21\",\"4/Sales Representative/21\",\"2/Manager/22\",\"4/Manager/22\",\"2/Sales Executive/22\",\"3/Sales Executive/22\",\"4/Sales Executive/22\",\"4/Sales Representative/22\",\"2/Manager/23\",\"4/Manager/23\",\"4/Sales Executive/23\",\"2/Sales Representative/23\",\"4/Manager/24\",\"4/Sales Executive/24\",\"2/Sales Representative/24\",\"2/Sales Executive/25\",\"4/Sales Executive/25\",\"2/Manager\",\"3/Manager\",\"4/Manager\",\"2/Sales Executive\",\"3/Sales Executive\",\"4/Sales Executive\",\"2/Sales Representative\",\"3/Sales Representative\",\"4/Sales Representative\",\"2\",\"3\",\"4\"],\"labels\":[\"11\",\"11\",\"11\",\"11\",\"11\",\"11\",\"12\",\"12\",\"12\",\"12\",\"12\",\"13\",\"13\",\"13\",\"13\",\"13\",\"13\",\"14\",\"14\",\"14\",\"14\",\"14\",\"14\",\"14\",\"15\",\"15\",\"15\",\"15\",\"16\",\"16\",\"16\",\"16\",\"16\",\"17\",\"17\",\"18\",\"18\",\"18\",\"18\",\"18\",\"19\",\"19\",\"19\",\"19\",\"19\",\"19\",\"20\",\"20\",\"20\",\"20\",\"20\",\"21\",\"21\",\"21\",\"21\",\"21\",\"21\",\"22\",\"22\",\"22\",\"22\",\"22\",\"22\",\"23\",\"23\",\"23\",\"23\",\"24\",\"24\",\"24\",\"25\",\"25\",\"Manager\",\"Manager\",\"Manager\",\"Sales Executive\",\"Sales Executive\",\"Sales Executive\",\"Sales Representative\",\"Sales Representative\",\"Sales Representative\",\"2\",\"3\",\"4\"],\"name\":\"\",\"parents\":[\"2/Manager\",\"3/Manager\",\"4/Manager\",\"2/Sales Executive\",\"3/Sales Executive\",\"3/Sales Representative\",\"2/Manager\",\"3/Manager\",\"2/Sales Executive\",\"3/Sales Executive\",\"3/Sales Representative\",\"3/Manager\",\"4/Manager\",\"2/Sales Executive\",\"3/Sales Executive\",\"4/Sales Executive\",\"3/Sales Representative\",\"2/Manager\",\"3/Manager\",\"2/Sales Executive\",\"3/Sales Executive\",\"4/Sales Executive\",\"2/Sales Representative\",\"3/Sales Representative\",\"2/Sales Executive\",\"3/Sales Executive\",\"4/Sales Executive\",\"3/Sales Representative\",\"2/Manager\",\"3/Manager\",\"2/Sales Executive\",\"3/Sales Executive\",\"3/Sales Representative\",\"3/Sales Executive\",\"2/Sales Representative\",\"2/Manager\",\"3/Manager\",\"2/Sales Executive\",\"3/Sales Executive\",\"3/Sales Representative\",\"3/Manager\",\"2/Sales Executive\",\"3/Sales Executive\",\"4/Sales Executive\",\"2/Sales Representative\",\"3/Sales Representative\",\"2/Sales Executive\",\"3/Sales Executive\",\"4/Sales Executive\",\"2/Sales Representative\",\"3/Sales Representative\",\"4/Manager\",\"2/Sales Executive\",\"3/Sales Executive\",\"4/Sales Executive\",\"2/Sales Representative\",\"4/Sales Representative\",\"2/Manager\",\"4/Manager\",\"2/Sales Executive\",\"3/Sales Executive\",\"4/Sales Executive\",\"4/Sales Representative\",\"2/Manager\",\"4/Manager\",\"4/Sales Executive\",\"2/Sales Representative\",\"4/Manager\",\"4/Sales Executive\",\"2/Sales Representative\",\"2/Sales Executive\",\"4/Sales Executive\",\"2\",\"3\",\"4\",\"2\",\"3\",\"4\",\"2\",\"3\",\"4\",\"\",\"\",\"\"],\"values\":[1,2,1,9,23,6,2,4,5,26,3,3,1,5,23,1,5,1,4,7,32,3,1,4,3,10,1,6,2,1,4,7,1,9,1,1,1,2,11,5,1,2,9,1,2,4,3,2,3,1,1,2,3,2,3,1,1,1,1,2,3,5,1,1,1,2,1,1,2,1,2,1,9,16,7,47,157,22,8,35,2,64,208,31],\"type\":\"sunburst\"}],                        {\"template\":{\"data\":{\"histogram2dcontour\":[{\"type\":\"histogram2dcontour\",\"colorbar\":{\"outlinewidth\":0,\"ticks\":\"\"},\"colorscale\":[[0.0,\"#0d0887\"],[0.1111111111111111,\"#46039f\"],[0.2222222222222222,\"#7201a8\"],[0.3333333333333333,\"#9c179e\"],[0.4444444444444444,\"#bd3786\"],[0.5555555555555556,\"#d8576b\"],[0.6666666666666666,\"#ed7953\"],[0.7777777777777778,\"#fb9f3a\"],[0.8888888888888888,\"#fdca26\"],[1.0,\"#f0f921\"]]}],\"choropleth\":[{\"type\":\"choropleth\",\"colorbar\":{\"outlinewidth\":0,\"ticks\":\"\"}}],\"histogram2d\":[{\"type\":\"histogram2d\",\"colorbar\":{\"outlinewidth\":0,\"ticks\":\"\"},\"colorscale\":[[0.0,\"#0d0887\"],[0.1111111111111111,\"#46039f\"],[0.2222222222222222,\"#7201a8\"],[0.3333333333333333,\"#9c179e\"],[0.4444444444444444,\"#bd3786\"],[0.5555555555555556,\"#d8576b\"],[0.6666666666666666,\"#ed7953\"],[0.7777777777777778,\"#fb9f3a\"],[0.8888888888888888,\"#fdca26\"],[1.0,\"#f0f921\"]]}],\"heatmap\":[{\"type\":\"heatmap\",\"colorbar\":{\"outlinewidth\":0,\"ticks\":\"\"},\"colorscale\":[[0.0,\"#0d0887\"],[0.1111111111111111,\"#46039f\"],[0.2222222222222222,\"#7201a8\"],[0.3333333333333333,\"#9c179e\"],[0.4444444444444444,\"#bd3786\"],[0.5555555555555556,\"#d8576b\"],[0.6666666666666666,\"#ed7953\"],[0.7777777777777778,\"#fb9f3a\"],[0.8888888888888888,\"#fdca26\"],[1.0,\"#f0f921\"]]}],\"heatmapgl\":[{\"type\":\"heatmapgl\",\"colorbar\":{\"outlinewidth\":0,\"ticks\":\"\"},\"colorscale\":[[0.0,\"#0d0887\"],[0.1111111111111111,\"#46039f\"],[0.2222222222222222,\"#7201a8\"],[0.3333333333333333,\"#9c179e\"],[0.4444444444444444,\"#bd3786\"],[0.5555555555555556,\"#d8576b\"],[0.6666666666666666,\"#ed7953\"],[0.7777777777777778,\"#fb9f3a\"],[0.8888888888888888,\"#fdca26\"],[1.0,\"#f0f921\"]]}],\"contourcarpet\":[{\"type\":\"contourcarpet\",\"colorbar\":{\"outlinewidth\":0,\"ticks\":\"\"}}],\"contour\":[{\"type\":\"contour\",\"colorbar\":{\"outlinewidth\":0,\"ticks\":\"\"},\"colorscale\":[[0.0,\"#0d0887\"],[0.1111111111111111,\"#46039f\"],[0.2222222222222222,\"#7201a8\"],[0.3333333333333333,\"#9c179e\"],[0.4444444444444444,\"#bd3786\"],[0.5555555555555556,\"#d8576b\"],[0.6666666666666666,\"#ed7953\"],[0.7777777777777778,\"#fb9f3a\"],[0.8888888888888888,\"#fdca26\"],[1.0,\"#f0f921\"]]}],\"surface\":[{\"type\":\"surface\",\"colorbar\":{\"outlinewidth\":0,\"ticks\":\"\"},\"colorscale\":[[0.0,\"#0d0887\"],[0.1111111111111111,\"#46039f\"],[0.2222222222222222,\"#7201a8\"],[0.3333333333333333,\"#9c179e\"],[0.4444444444444444,\"#bd3786\"],[0.5555555555555556,\"#d8576b\"],[0.6666666666666666,\"#ed7953\"],[0.7777777777777778,\"#fb9f3a\"],[0.8888888888888888,\"#fdca26\"],[1.0,\"#f0f921\"]]}],\"mesh3d\":[{\"type\":\"mesh3d\",\"colorbar\":{\"outlinewidth\":0,\"ticks\":\"\"}}],\"scatter\":[{\"fillpattern\":{\"fillmode\":\"overlay\",\"size\":10,\"solidity\":0.2},\"type\":\"scatter\"}],\"parcoords\":[{\"type\":\"parcoords\",\"line\":{\"colorbar\":{\"outlinewidth\":0,\"ticks\":\"\"}}}],\"scatterpolargl\":[{\"type\":\"scatterpolargl\",\"marker\":{\"colorbar\":{\"outlinewidth\":0,\"ticks\":\"\"}}}],\"bar\":[{\"error_x\":{\"color\":\"#2a3f5f\"},\"error_y\":{\"color\":\"#2a3f5f\"},\"marker\":{\"line\":{\"color\":\"#E5ECF6\",\"width\":0.5},\"pattern\":{\"fillmode\":\"overlay\",\"size\":10,\"solidity\":0.2}},\"type\":\"bar\"}],\"scattergeo\":[{\"type\":\"scattergeo\",\"marker\":{\"colorbar\":{\"outlinewidth\":0,\"ticks\":\"\"}}}],\"scatterpolar\":[{\"type\":\"scatterpolar\",\"marker\":{\"colorbar\":{\"outlinewidth\":0,\"ticks\":\"\"}}}],\"histogram\":[{\"marker\":{\"pattern\":{\"fillmode\":\"overlay\",\"size\":10,\"solidity\":0.2}},\"type\":\"histogram\"}],\"scattergl\":[{\"type\":\"scattergl\",\"marker\":{\"colorbar\":{\"outlinewidth\":0,\"ticks\":\"\"}}}],\"scatter3d\":[{\"type\":\"scatter3d\",\"line\":{\"colorbar\":{\"outlinewidth\":0,\"ticks\":\"\"}},\"marker\":{\"colorbar\":{\"outlinewidth\":0,\"ticks\":\"\"}}}],\"scattermapbox\":[{\"type\":\"scattermapbox\",\"marker\":{\"colorbar\":{\"outlinewidth\":0,\"ticks\":\"\"}}}],\"scatterternary\":[{\"type\":\"scatterternary\",\"marker\":{\"colorbar\":{\"outlinewidth\":0,\"ticks\":\"\"}}}],\"scattercarpet\":[{\"type\":\"scattercarpet\",\"marker\":{\"colorbar\":{\"outlinewidth\":0,\"ticks\":\"\"}}}],\"carpet\":[{\"aaxis\":{\"endlinecolor\":\"#2a3f5f\",\"gridcolor\":\"white\",\"linecolor\":\"white\",\"minorgridcolor\":\"white\",\"startlinecolor\":\"#2a3f5f\"},\"baxis\":{\"endlinecolor\":\"#2a3f5f\",\"gridcolor\":\"white\",\"linecolor\":\"white\",\"minorgridcolor\":\"white\",\"startlinecolor\":\"#2a3f5f\"},\"type\":\"carpet\"}],\"table\":[{\"cells\":{\"fill\":{\"color\":\"#EBF0F8\"},\"line\":{\"color\":\"white\"}},\"header\":{\"fill\":{\"color\":\"#C8D4E3\"},\"line\":{\"color\":\"white\"}},\"type\":\"table\"}],\"barpolar\":[{\"marker\":{\"line\":{\"color\":\"#E5ECF6\",\"width\":0.5},\"pattern\":{\"fillmode\":\"overlay\",\"size\":10,\"solidity\":0.2}},\"type\":\"barpolar\"}],\"pie\":[{\"automargin\":true,\"type\":\"pie\"}]},\"layout\":{\"autotypenumbers\":\"strict\",\"colorway\":[\"#636efa\",\"#EF553B\",\"#00cc96\",\"#ab63fa\",\"#FFA15A\",\"#19d3f3\",\"#FF6692\",\"#B6E880\",\"#FF97FF\",\"#FECB52\"],\"font\":{\"color\":\"#2a3f5f\"},\"hovermode\":\"closest\",\"hoverlabel\":{\"align\":\"left\"},\"paper_bgcolor\":\"white\",\"plot_bgcolor\":\"#E5ECF6\",\"polar\":{\"bgcolor\":\"#E5ECF6\",\"angularaxis\":{\"gridcolor\":\"white\",\"linecolor\":\"white\",\"ticks\":\"\"},\"radialaxis\":{\"gridcolor\":\"white\",\"linecolor\":\"white\",\"ticks\":\"\"}},\"ternary\":{\"bgcolor\":\"#E5ECF6\",\"aaxis\":{\"gridcolor\":\"white\",\"linecolor\":\"white\",\"ticks\":\"\"},\"baxis\":{\"gridcolor\":\"white\",\"linecolor\":\"white\",\"ticks\":\"\"},\"caxis\":{\"gridcolor\":\"white\",\"linecolor\":\"white\",\"ticks\":\"\"}},\"coloraxis\":{\"colorbar\":{\"outlinewidth\":0,\"ticks\":\"\"}},\"colorscale\":{\"sequential\":[[0.0,\"#0d0887\"],[0.1111111111111111,\"#46039f\"],[0.2222222222222222,\"#7201a8\"],[0.3333333333333333,\"#9c179e\"],[0.4444444444444444,\"#bd3786\"],[0.5555555555555556,\"#d8576b\"],[0.6666666666666666,\"#ed7953\"],[0.7777777777777778,\"#fb9f3a\"],[0.8888888888888888,\"#fdca26\"],[1.0,\"#f0f921\"]],\"sequentialminus\":[[0.0,\"#0d0887\"],[0.1111111111111111,\"#46039f\"],[0.2222222222222222,\"#7201a8\"],[0.3333333333333333,\"#9c179e\"],[0.4444444444444444,\"#bd3786\"],[0.5555555555555556,\"#d8576b\"],[0.6666666666666666,\"#ed7953\"],[0.7777777777777778,\"#fb9f3a\"],[0.8888888888888888,\"#fdca26\"],[1.0,\"#f0f921\"]],\"diverging\":[[0,\"#8e0152\"],[0.1,\"#c51b7d\"],[0.2,\"#de77ae\"],[0.3,\"#f1b6da\"],[0.4,\"#fde0ef\"],[0.5,\"#f7f7f7\"],[0.6,\"#e6f5d0\"],[0.7,\"#b8e186\"],[0.8,\"#7fbc41\"],[0.9,\"#4d9221\"],[1,\"#276419\"]]},\"xaxis\":{\"gridcolor\":\"white\",\"linecolor\":\"white\",\"ticks\":\"\",\"title\":{\"standoff\":15},\"zerolinecolor\":\"white\",\"automargin\":true,\"zerolinewidth\":2},\"yaxis\":{\"gridcolor\":\"white\",\"linecolor\":\"white\",\"ticks\":\"\",\"title\":{\"standoff\":15},\"zerolinecolor\":\"white\",\"automargin\":true,\"zerolinewidth\":2},\"scene\":{\"xaxis\":{\"backgroundcolor\":\"#E5ECF6\",\"gridcolor\":\"white\",\"linecolor\":\"white\",\"showbackground\":true,\"ticks\":\"\",\"zerolinecolor\":\"white\",\"gridwidth\":2},\"yaxis\":{\"backgroundcolor\":\"#E5ECF6\",\"gridcolor\":\"white\",\"linecolor\":\"white\",\"showbackground\":true,\"ticks\":\"\",\"zerolinecolor\":\"white\",\"gridwidth\":2},\"zaxis\":{\"backgroundcolor\":\"#E5ECF6\",\"gridcolor\":\"white\",\"linecolor\":\"white\",\"showbackground\":true,\"ticks\":\"\",\"zerolinecolor\":\"white\",\"gridwidth\":2}},\"shapedefaults\":{\"line\":{\"color\":\"#2a3f5f\"}},\"annotationdefaults\":{\"arrowcolor\":\"#2a3f5f\",\"arrowhead\":0,\"arrowwidth\":1},\"geo\":{\"bgcolor\":\"white\",\"landcolor\":\"#E5ECF6\",\"subunitcolor\":\"white\",\"showland\":true,\"showlakes\":true,\"lakecolor\":\"white\"},\"title\":{\"x\":0.05},\"mapbox\":{\"style\":\"light\"}}},\"legend\":{\"tracegroupgap\":0},\"margin\":{\"t\":60}},                        {\"responsive\": true}                    ).then(function(){\n",
       "                            \n",
       "var gd = document.getElementById('7b1362b5-fc3f-4fc8-ac0e-994ba632ec09');\n",
       "var x = new MutationObserver(function (mutations, observer) {{\n",
       "        var display = window.getComputedStyle(gd).display;\n",
       "        if (!display || display === 'none') {{\n",
       "            console.log([gd, 'removed!']);\n",
       "            Plotly.purge(gd);\n",
       "            observer.disconnect();\n",
       "        }}\n",
       "}});\n",
       "\n",
       "// Listen for the removal of the full notebook cells\n",
       "var notebookContainer = gd.closest('#notebook-container');\n",
       "if (notebookContainer) {{\n",
       "    x.observe(notebookContainer, {childList: true});\n",
       "}}\n",
       "\n",
       "// Listen for the clearing of the current output cell\n",
       "var outputEl = gd.closest('.output');\n",
       "if (outputEl) {{\n",
       "    x.observe(outputEl, {childList: true});\n",
       "}}\n",
       "\n",
       "                        })                };                });            </script>        </div>"
      ]
     },
     "metadata": {},
     "output_type": "display_data"
    }
   ],
   "source": [
    "# 8) Rewards and Recognition\n",
    "\n",
    "fig=px.sunburst(df_sales, path=['PerformanceRating','EmpJobRole','EmpLastSalaryHikePercent'])\n",
    "fig.show()\n",
    "\n",
    "# Maximum Sales Executive showing underlying performace lies between 11-16% percent salary hike\n",
    "# Maximum Sales Representative showing underlying performace lies between 11-25% percent salary hike\n",
    "# Maximum Sales Manager showing underlying performace lies between 12-23% percent salary hike"
   ]
  },
  {
   "cell_type": "code",
   "execution_count": 129,
   "id": "205381fc",
   "metadata": {},
   "outputs": [
    {
     "data": {
      "application/vnd.plotly.v1+json": {
       "config": {
        "plotlyServerURL": "https://plot.ly"
       },
       "data": [
        {
         "branchvalues": "total",
         "domain": {
          "x": [
           0,
           1
          ],
          "y": [
           0,
           1
          ]
         },
         "hovertemplate": "labels=%{label}<br>count=%{value}<br>parent=%{parent}<br>id=%{id}<extra></extra>",
         "ids": [
          "3/Manager/0",
          "4/Manager/0",
          "2/Sales Executive/0",
          "3/Sales Executive/0",
          "4/Sales Executive/0",
          "3/Sales Representative/0",
          "4/Sales Representative/0",
          "3/Manager/1",
          "4/Manager/1",
          "2/Sales Executive/1",
          "3/Sales Executive/1",
          "4/Sales Executive/1",
          "2/Sales Representative/1",
          "3/Sales Representative/1",
          "4/Sales Representative/1",
          "2/Manager/2",
          "4/Manager/2",
          "2/Sales Executive/2",
          "3/Sales Executive/2",
          "2/Sales Representative/2",
          "3/Sales Representative/2",
          "2/Manager/3",
          "2/Sales Executive/3",
          "3/Sales Executive/3",
          "3/Sales Representative/3",
          "2/Manager/4",
          "3/Manager/4",
          "2/Sales Executive/4",
          "3/Sales Executive/4",
          "2/Sales Representative/4",
          "3/Manager/5",
          "2/Sales Executive/5",
          "3/Sales Executive/5",
          "4/Sales Executive/5",
          "2/Sales Representative/5",
          "3/Sales Representative/5",
          "3/Manager/6",
          "2/Sales Executive/6",
          "3/Sales Executive/6",
          "3/Sales Representative/6",
          "2/Manager/7",
          "3/Manager/7",
          "2/Sales Executive/7",
          "3/Sales Executive/7",
          "4/Sales Executive/7",
          "2/Sales Executive/8",
          "3/Sales Executive/8",
          "2/Sales Executive/9",
          "3/Sales Executive/9",
          "2/Manager/11",
          "4/Manager/11",
          "2/Sales Executive/11",
          "3/Sales Executive/11",
          "4/Sales Executive/11",
          "2/Manager/12",
          "3/Sales Executive/12",
          "3/Sales Executive/13",
          "2/Manager/14",
          "2/Manager/15",
          "3/Manager/15",
          "4/Manager/15",
          "2/Sales Executive/15",
          "3/Sales Executive/15",
          "2/Manager",
          "3/Manager",
          "4/Manager",
          "2/Sales Executive",
          "3/Sales Executive",
          "4/Sales Executive",
          "2/Sales Representative",
          "3/Sales Representative",
          "4/Sales Representative",
          "2",
          "3",
          "4"
         ],
         "labels": [
          "0",
          "0",
          "0",
          "0",
          "0",
          "0",
          "0",
          "1",
          "1",
          "1",
          "1",
          "1",
          "1",
          "1",
          "1",
          "2",
          "2",
          "2",
          "2",
          "2",
          "2",
          "3",
          "3",
          "3",
          "3",
          "4",
          "4",
          "4",
          "4",
          "4",
          "5",
          "5",
          "5",
          "5",
          "5",
          "5",
          "6",
          "6",
          "6",
          "6",
          "7",
          "7",
          "7",
          "7",
          "7",
          "8",
          "8",
          "9",
          "9",
          "11",
          "11",
          "11",
          "11",
          "11",
          "12",
          "12",
          "13",
          "14",
          "15",
          "15",
          "15",
          "15",
          "15",
          "Manager",
          "Manager",
          "Manager",
          "Sales Executive",
          "Sales Executive",
          "Sales Executive",
          "Sales Representative",
          "Sales Representative",
          "Sales Representative",
          "2",
          "3",
          "4"
         ],
         "name": "",
         "parents": [
          "3/Manager",
          "4/Manager",
          "2/Sales Executive",
          "3/Sales Executive",
          "4/Sales Executive",
          "3/Sales Representative",
          "4/Sales Representative",
          "3/Manager",
          "4/Manager",
          "2/Sales Executive",
          "3/Sales Executive",
          "4/Sales Executive",
          "2/Sales Representative",
          "3/Sales Representative",
          "4/Sales Representative",
          "2/Manager",
          "4/Manager",
          "2/Sales Executive",
          "3/Sales Executive",
          "2/Sales Representative",
          "3/Sales Representative",
          "2/Manager",
          "2/Sales Executive",
          "3/Sales Executive",
          "3/Sales Representative",
          "2/Manager",
          "3/Manager",
          "2/Sales Executive",
          "3/Sales Executive",
          "2/Sales Representative",
          "3/Manager",
          "2/Sales Executive",
          "3/Sales Executive",
          "4/Sales Executive",
          "2/Sales Representative",
          "3/Sales Representative",
          "3/Manager",
          "2/Sales Executive",
          "3/Sales Executive",
          "3/Sales Representative",
          "2/Manager",
          "3/Manager",
          "2/Sales Executive",
          "3/Sales Executive",
          "4/Sales Executive",
          "2/Sales Executive",
          "3/Sales Executive",
          "2/Sales Executive",
          "3/Sales Executive",
          "2/Manager",
          "4/Manager",
          "2/Sales Executive",
          "3/Sales Executive",
          "4/Sales Executive",
          "2/Manager",
          "3/Sales Executive",
          "3/Sales Executive",
          "2/Manager",
          "2/Manager",
          "3/Manager",
          "4/Manager",
          "2/Sales Executive",
          "3/Sales Executive",
          "2",
          "3",
          "4",
          "2",
          "3",
          "4",
          "2",
          "3",
          "4",
          "",
          "",
          ""
         ],
         "type": "sunburst",
         "values": [
          8,
          2,
          1,
          77,
          9,
          20,
          1,
          2,
          2,
          13,
          35,
          8,
          1,
          6,
          1,
          1,
          1,
          6,
          13,
          3,
          6,
          2,
          3,
          2,
          1,
          1,
          2,
          5,
          5,
          2,
          1,
          4,
          3,
          1,
          2,
          1,
          1,
          3,
          1,
          1,
          1,
          1,
          4,
          10,
          3,
          1,
          2,
          4,
          2,
          1,
          1,
          2,
          4,
          1,
          1,
          1,
          1,
          1,
          1,
          1,
          1,
          1,
          1,
          9,
          16,
          7,
          47,
          157,
          22,
          8,
          35,
          2,
          64,
          208,
          31
         ]
        }
       ],
       "layout": {
        "legend": {
         "tracegroupgap": 0
        },
        "margin": {
         "t": 60
        },
        "template": {
         "data": {
          "bar": [
           {
            "error_x": {
             "color": "#2a3f5f"
            },
            "error_y": {
             "color": "#2a3f5f"
            },
            "marker": {
             "line": {
              "color": "#E5ECF6",
              "width": 0.5
             },
             "pattern": {
              "fillmode": "overlay",
              "size": 10,
              "solidity": 0.2
             }
            },
            "type": "bar"
           }
          ],
          "barpolar": [
           {
            "marker": {
             "line": {
              "color": "#E5ECF6",
              "width": 0.5
             },
             "pattern": {
              "fillmode": "overlay",
              "size": 10,
              "solidity": 0.2
             }
            },
            "type": "barpolar"
           }
          ],
          "carpet": [
           {
            "aaxis": {
             "endlinecolor": "#2a3f5f",
             "gridcolor": "white",
             "linecolor": "white",
             "minorgridcolor": "white",
             "startlinecolor": "#2a3f5f"
            },
            "baxis": {
             "endlinecolor": "#2a3f5f",
             "gridcolor": "white",
             "linecolor": "white",
             "minorgridcolor": "white",
             "startlinecolor": "#2a3f5f"
            },
            "type": "carpet"
           }
          ],
          "choropleth": [
           {
            "colorbar": {
             "outlinewidth": 0,
             "ticks": ""
            },
            "type": "choropleth"
           }
          ],
          "contour": [
           {
            "colorbar": {
             "outlinewidth": 0,
             "ticks": ""
            },
            "colorscale": [
             [
              0,
              "#0d0887"
             ],
             [
              0.1111111111111111,
              "#46039f"
             ],
             [
              0.2222222222222222,
              "#7201a8"
             ],
             [
              0.3333333333333333,
              "#9c179e"
             ],
             [
              0.4444444444444444,
              "#bd3786"
             ],
             [
              0.5555555555555556,
              "#d8576b"
             ],
             [
              0.6666666666666666,
              "#ed7953"
             ],
             [
              0.7777777777777778,
              "#fb9f3a"
             ],
             [
              0.8888888888888888,
              "#fdca26"
             ],
             [
              1,
              "#f0f921"
             ]
            ],
            "type": "contour"
           }
          ],
          "contourcarpet": [
           {
            "colorbar": {
             "outlinewidth": 0,
             "ticks": ""
            },
            "type": "contourcarpet"
           }
          ],
          "heatmap": [
           {
            "colorbar": {
             "outlinewidth": 0,
             "ticks": ""
            },
            "colorscale": [
             [
              0,
              "#0d0887"
             ],
             [
              0.1111111111111111,
              "#46039f"
             ],
             [
              0.2222222222222222,
              "#7201a8"
             ],
             [
              0.3333333333333333,
              "#9c179e"
             ],
             [
              0.4444444444444444,
              "#bd3786"
             ],
             [
              0.5555555555555556,
              "#d8576b"
             ],
             [
              0.6666666666666666,
              "#ed7953"
             ],
             [
              0.7777777777777778,
              "#fb9f3a"
             ],
             [
              0.8888888888888888,
              "#fdca26"
             ],
             [
              1,
              "#f0f921"
             ]
            ],
            "type": "heatmap"
           }
          ],
          "heatmapgl": [
           {
            "colorbar": {
             "outlinewidth": 0,
             "ticks": ""
            },
            "colorscale": [
             [
              0,
              "#0d0887"
             ],
             [
              0.1111111111111111,
              "#46039f"
             ],
             [
              0.2222222222222222,
              "#7201a8"
             ],
             [
              0.3333333333333333,
              "#9c179e"
             ],
             [
              0.4444444444444444,
              "#bd3786"
             ],
             [
              0.5555555555555556,
              "#d8576b"
             ],
             [
              0.6666666666666666,
              "#ed7953"
             ],
             [
              0.7777777777777778,
              "#fb9f3a"
             ],
             [
              0.8888888888888888,
              "#fdca26"
             ],
             [
              1,
              "#f0f921"
             ]
            ],
            "type": "heatmapgl"
           }
          ],
          "histogram": [
           {
            "marker": {
             "pattern": {
              "fillmode": "overlay",
              "size": 10,
              "solidity": 0.2
             }
            },
            "type": "histogram"
           }
          ],
          "histogram2d": [
           {
            "colorbar": {
             "outlinewidth": 0,
             "ticks": ""
            },
            "colorscale": [
             [
              0,
              "#0d0887"
             ],
             [
              0.1111111111111111,
              "#46039f"
             ],
             [
              0.2222222222222222,
              "#7201a8"
             ],
             [
              0.3333333333333333,
              "#9c179e"
             ],
             [
              0.4444444444444444,
              "#bd3786"
             ],
             [
              0.5555555555555556,
              "#d8576b"
             ],
             [
              0.6666666666666666,
              "#ed7953"
             ],
             [
              0.7777777777777778,
              "#fb9f3a"
             ],
             [
              0.8888888888888888,
              "#fdca26"
             ],
             [
              1,
              "#f0f921"
             ]
            ],
            "type": "histogram2d"
           }
          ],
          "histogram2dcontour": [
           {
            "colorbar": {
             "outlinewidth": 0,
             "ticks": ""
            },
            "colorscale": [
             [
              0,
              "#0d0887"
             ],
             [
              0.1111111111111111,
              "#46039f"
             ],
             [
              0.2222222222222222,
              "#7201a8"
             ],
             [
              0.3333333333333333,
              "#9c179e"
             ],
             [
              0.4444444444444444,
              "#bd3786"
             ],
             [
              0.5555555555555556,
              "#d8576b"
             ],
             [
              0.6666666666666666,
              "#ed7953"
             ],
             [
              0.7777777777777778,
              "#fb9f3a"
             ],
             [
              0.8888888888888888,
              "#fdca26"
             ],
             [
              1,
              "#f0f921"
             ]
            ],
            "type": "histogram2dcontour"
           }
          ],
          "mesh3d": [
           {
            "colorbar": {
             "outlinewidth": 0,
             "ticks": ""
            },
            "type": "mesh3d"
           }
          ],
          "parcoords": [
           {
            "line": {
             "colorbar": {
              "outlinewidth": 0,
              "ticks": ""
             }
            },
            "type": "parcoords"
           }
          ],
          "pie": [
           {
            "automargin": true,
            "type": "pie"
           }
          ],
          "scatter": [
           {
            "fillpattern": {
             "fillmode": "overlay",
             "size": 10,
             "solidity": 0.2
            },
            "type": "scatter"
           }
          ],
          "scatter3d": [
           {
            "line": {
             "colorbar": {
              "outlinewidth": 0,
              "ticks": ""
             }
            },
            "marker": {
             "colorbar": {
              "outlinewidth": 0,
              "ticks": ""
             }
            },
            "type": "scatter3d"
           }
          ],
          "scattercarpet": [
           {
            "marker": {
             "colorbar": {
              "outlinewidth": 0,
              "ticks": ""
             }
            },
            "type": "scattercarpet"
           }
          ],
          "scattergeo": [
           {
            "marker": {
             "colorbar": {
              "outlinewidth": 0,
              "ticks": ""
             }
            },
            "type": "scattergeo"
           }
          ],
          "scattergl": [
           {
            "marker": {
             "colorbar": {
              "outlinewidth": 0,
              "ticks": ""
             }
            },
            "type": "scattergl"
           }
          ],
          "scattermapbox": [
           {
            "marker": {
             "colorbar": {
              "outlinewidth": 0,
              "ticks": ""
             }
            },
            "type": "scattermapbox"
           }
          ],
          "scatterpolar": [
           {
            "marker": {
             "colorbar": {
              "outlinewidth": 0,
              "ticks": ""
             }
            },
            "type": "scatterpolar"
           }
          ],
          "scatterpolargl": [
           {
            "marker": {
             "colorbar": {
              "outlinewidth": 0,
              "ticks": ""
             }
            },
            "type": "scatterpolargl"
           }
          ],
          "scatterternary": [
           {
            "marker": {
             "colorbar": {
              "outlinewidth": 0,
              "ticks": ""
             }
            },
            "type": "scatterternary"
           }
          ],
          "surface": [
           {
            "colorbar": {
             "outlinewidth": 0,
             "ticks": ""
            },
            "colorscale": [
             [
              0,
              "#0d0887"
             ],
             [
              0.1111111111111111,
              "#46039f"
             ],
             [
              0.2222222222222222,
              "#7201a8"
             ],
             [
              0.3333333333333333,
              "#9c179e"
             ],
             [
              0.4444444444444444,
              "#bd3786"
             ],
             [
              0.5555555555555556,
              "#d8576b"
             ],
             [
              0.6666666666666666,
              "#ed7953"
             ],
             [
              0.7777777777777778,
              "#fb9f3a"
             ],
             [
              0.8888888888888888,
              "#fdca26"
             ],
             [
              1,
              "#f0f921"
             ]
            ],
            "type": "surface"
           }
          ],
          "table": [
           {
            "cells": {
             "fill": {
              "color": "#EBF0F8"
             },
             "line": {
              "color": "white"
             }
            },
            "header": {
             "fill": {
              "color": "#C8D4E3"
             },
             "line": {
              "color": "white"
             }
            },
            "type": "table"
           }
          ]
         },
         "layout": {
          "annotationdefaults": {
           "arrowcolor": "#2a3f5f",
           "arrowhead": 0,
           "arrowwidth": 1
          },
          "autotypenumbers": "strict",
          "coloraxis": {
           "colorbar": {
            "outlinewidth": 0,
            "ticks": ""
           }
          },
          "colorscale": {
           "diverging": [
            [
             0,
             "#8e0152"
            ],
            [
             0.1,
             "#c51b7d"
            ],
            [
             0.2,
             "#de77ae"
            ],
            [
             0.3,
             "#f1b6da"
            ],
            [
             0.4,
             "#fde0ef"
            ],
            [
             0.5,
             "#f7f7f7"
            ],
            [
             0.6,
             "#e6f5d0"
            ],
            [
             0.7,
             "#b8e186"
            ],
            [
             0.8,
             "#7fbc41"
            ],
            [
             0.9,
             "#4d9221"
            ],
            [
             1,
             "#276419"
            ]
           ],
           "sequential": [
            [
             0,
             "#0d0887"
            ],
            [
             0.1111111111111111,
             "#46039f"
            ],
            [
             0.2222222222222222,
             "#7201a8"
            ],
            [
             0.3333333333333333,
             "#9c179e"
            ],
            [
             0.4444444444444444,
             "#bd3786"
            ],
            [
             0.5555555555555556,
             "#d8576b"
            ],
            [
             0.6666666666666666,
             "#ed7953"
            ],
            [
             0.7777777777777778,
             "#fb9f3a"
            ],
            [
             0.8888888888888888,
             "#fdca26"
            ],
            [
             1,
             "#f0f921"
            ]
           ],
           "sequentialminus": [
            [
             0,
             "#0d0887"
            ],
            [
             0.1111111111111111,
             "#46039f"
            ],
            [
             0.2222222222222222,
             "#7201a8"
            ],
            [
             0.3333333333333333,
             "#9c179e"
            ],
            [
             0.4444444444444444,
             "#bd3786"
            ],
            [
             0.5555555555555556,
             "#d8576b"
            ],
            [
             0.6666666666666666,
             "#ed7953"
            ],
            [
             0.7777777777777778,
             "#fb9f3a"
            ],
            [
             0.8888888888888888,
             "#fdca26"
            ],
            [
             1,
             "#f0f921"
            ]
           ]
          },
          "colorway": [
           "#636efa",
           "#EF553B",
           "#00cc96",
           "#ab63fa",
           "#FFA15A",
           "#19d3f3",
           "#FF6692",
           "#B6E880",
           "#FF97FF",
           "#FECB52"
          ],
          "font": {
           "color": "#2a3f5f"
          },
          "geo": {
           "bgcolor": "white",
           "lakecolor": "white",
           "landcolor": "#E5ECF6",
           "showlakes": true,
           "showland": true,
           "subunitcolor": "white"
          },
          "hoverlabel": {
           "align": "left"
          },
          "hovermode": "closest",
          "mapbox": {
           "style": "light"
          },
          "paper_bgcolor": "white",
          "plot_bgcolor": "#E5ECF6",
          "polar": {
           "angularaxis": {
            "gridcolor": "white",
            "linecolor": "white",
            "ticks": ""
           },
           "bgcolor": "#E5ECF6",
           "radialaxis": {
            "gridcolor": "white",
            "linecolor": "white",
            "ticks": ""
           }
          },
          "scene": {
           "xaxis": {
            "backgroundcolor": "#E5ECF6",
            "gridcolor": "white",
            "gridwidth": 2,
            "linecolor": "white",
            "showbackground": true,
            "ticks": "",
            "zerolinecolor": "white"
           },
           "yaxis": {
            "backgroundcolor": "#E5ECF6",
            "gridcolor": "white",
            "gridwidth": 2,
            "linecolor": "white",
            "showbackground": true,
            "ticks": "",
            "zerolinecolor": "white"
           },
           "zaxis": {
            "backgroundcolor": "#E5ECF6",
            "gridcolor": "white",
            "gridwidth": 2,
            "linecolor": "white",
            "showbackground": true,
            "ticks": "",
            "zerolinecolor": "white"
           }
          },
          "shapedefaults": {
           "line": {
            "color": "#2a3f5f"
           }
          },
          "ternary": {
           "aaxis": {
            "gridcolor": "white",
            "linecolor": "white",
            "ticks": ""
           },
           "baxis": {
            "gridcolor": "white",
            "linecolor": "white",
            "ticks": ""
           },
           "bgcolor": "#E5ECF6",
           "caxis": {
            "gridcolor": "white",
            "linecolor": "white",
            "ticks": ""
           }
          },
          "title": {
           "x": 0.05
          },
          "xaxis": {
           "automargin": true,
           "gridcolor": "white",
           "linecolor": "white",
           "ticks": "",
           "title": {
            "standoff": 15
           },
           "zerolinecolor": "white",
           "zerolinewidth": 2
          },
          "yaxis": {
           "automargin": true,
           "gridcolor": "white",
           "linecolor": "white",
           "ticks": "",
           "title": {
            "standoff": 15
           },
           "zerolinecolor": "white",
           "zerolinewidth": 2
          }
         }
        }
       }
      },
      "text/html": [
       "<div>                            <div id=\"cff876db-021a-41d1-bed4-dc2761434bb3\" class=\"plotly-graph-div\" style=\"height:525px; width:100%;\"></div>            <script type=\"text/javascript\">                require([\"plotly\"], function(Plotly) {                    window.PLOTLYENV=window.PLOTLYENV || {};                                    if (document.getElementById(\"cff876db-021a-41d1-bed4-dc2761434bb3\")) {                    Plotly.newPlot(                        \"cff876db-021a-41d1-bed4-dc2761434bb3\",                        [{\"branchvalues\":\"total\",\"domain\":{\"x\":[0.0,1.0],\"y\":[0.0,1.0]},\"hovertemplate\":\"labels=%{label}<br>count=%{value}<br>parent=%{parent}<br>id=%{id}<extra></extra>\",\"ids\":[\"3/Manager/0\",\"4/Manager/0\",\"2/Sales Executive/0\",\"3/Sales Executive/0\",\"4/Sales Executive/0\",\"3/Sales Representative/0\",\"4/Sales Representative/0\",\"3/Manager/1\",\"4/Manager/1\",\"2/Sales Executive/1\",\"3/Sales Executive/1\",\"4/Sales Executive/1\",\"2/Sales Representative/1\",\"3/Sales Representative/1\",\"4/Sales Representative/1\",\"2/Manager/2\",\"4/Manager/2\",\"2/Sales Executive/2\",\"3/Sales Executive/2\",\"2/Sales Representative/2\",\"3/Sales Representative/2\",\"2/Manager/3\",\"2/Sales Executive/3\",\"3/Sales Executive/3\",\"3/Sales Representative/3\",\"2/Manager/4\",\"3/Manager/4\",\"2/Sales Executive/4\",\"3/Sales Executive/4\",\"2/Sales Representative/4\",\"3/Manager/5\",\"2/Sales Executive/5\",\"3/Sales Executive/5\",\"4/Sales Executive/5\",\"2/Sales Representative/5\",\"3/Sales Representative/5\",\"3/Manager/6\",\"2/Sales Executive/6\",\"3/Sales Executive/6\",\"3/Sales Representative/6\",\"2/Manager/7\",\"3/Manager/7\",\"2/Sales Executive/7\",\"3/Sales Executive/7\",\"4/Sales Executive/7\",\"2/Sales Executive/8\",\"3/Sales Executive/8\",\"2/Sales Executive/9\",\"3/Sales Executive/9\",\"2/Manager/11\",\"4/Manager/11\",\"2/Sales Executive/11\",\"3/Sales Executive/11\",\"4/Sales Executive/11\",\"2/Manager/12\",\"3/Sales Executive/12\",\"3/Sales Executive/13\",\"2/Manager/14\",\"2/Manager/15\",\"3/Manager/15\",\"4/Manager/15\",\"2/Sales Executive/15\",\"3/Sales Executive/15\",\"2/Manager\",\"3/Manager\",\"4/Manager\",\"2/Sales Executive\",\"3/Sales Executive\",\"4/Sales Executive\",\"2/Sales Representative\",\"3/Sales Representative\",\"4/Sales Representative\",\"2\",\"3\",\"4\"],\"labels\":[\"0\",\"0\",\"0\",\"0\",\"0\",\"0\",\"0\",\"1\",\"1\",\"1\",\"1\",\"1\",\"1\",\"1\",\"1\",\"2\",\"2\",\"2\",\"2\",\"2\",\"2\",\"3\",\"3\",\"3\",\"3\",\"4\",\"4\",\"4\",\"4\",\"4\",\"5\",\"5\",\"5\",\"5\",\"5\",\"5\",\"6\",\"6\",\"6\",\"6\",\"7\",\"7\",\"7\",\"7\",\"7\",\"8\",\"8\",\"9\",\"9\",\"11\",\"11\",\"11\",\"11\",\"11\",\"12\",\"12\",\"13\",\"14\",\"15\",\"15\",\"15\",\"15\",\"15\",\"Manager\",\"Manager\",\"Manager\",\"Sales Executive\",\"Sales Executive\",\"Sales Executive\",\"Sales Representative\",\"Sales Representative\",\"Sales Representative\",\"2\",\"3\",\"4\"],\"name\":\"\",\"parents\":[\"3/Manager\",\"4/Manager\",\"2/Sales Executive\",\"3/Sales Executive\",\"4/Sales Executive\",\"3/Sales Representative\",\"4/Sales Representative\",\"3/Manager\",\"4/Manager\",\"2/Sales Executive\",\"3/Sales Executive\",\"4/Sales Executive\",\"2/Sales Representative\",\"3/Sales Representative\",\"4/Sales Representative\",\"2/Manager\",\"4/Manager\",\"2/Sales Executive\",\"3/Sales Executive\",\"2/Sales Representative\",\"3/Sales Representative\",\"2/Manager\",\"2/Sales Executive\",\"3/Sales Executive\",\"3/Sales Representative\",\"2/Manager\",\"3/Manager\",\"2/Sales Executive\",\"3/Sales Executive\",\"2/Sales Representative\",\"3/Manager\",\"2/Sales Executive\",\"3/Sales Executive\",\"4/Sales Executive\",\"2/Sales Representative\",\"3/Sales Representative\",\"3/Manager\",\"2/Sales Executive\",\"3/Sales Executive\",\"3/Sales Representative\",\"2/Manager\",\"3/Manager\",\"2/Sales Executive\",\"3/Sales Executive\",\"4/Sales Executive\",\"2/Sales Executive\",\"3/Sales Executive\",\"2/Sales Executive\",\"3/Sales Executive\",\"2/Manager\",\"4/Manager\",\"2/Sales Executive\",\"3/Sales Executive\",\"4/Sales Executive\",\"2/Manager\",\"3/Sales Executive\",\"3/Sales Executive\",\"2/Manager\",\"2/Manager\",\"3/Manager\",\"4/Manager\",\"2/Sales Executive\",\"3/Sales Executive\",\"2\",\"3\",\"4\",\"2\",\"3\",\"4\",\"2\",\"3\",\"4\",\"\",\"\",\"\"],\"values\":[8,2,1,77,9,20,1,2,2,13,35,8,1,6,1,1,1,6,13,3,6,2,3,2,1,1,2,5,5,2,1,4,3,1,2,1,1,3,1,1,1,1,4,10,3,1,2,4,2,1,1,2,4,1,1,1,1,1,1,1,1,1,1,9,16,7,47,157,22,8,35,2,64,208,31],\"type\":\"sunburst\"}],                        {\"template\":{\"data\":{\"histogram2dcontour\":[{\"type\":\"histogram2dcontour\",\"colorbar\":{\"outlinewidth\":0,\"ticks\":\"\"},\"colorscale\":[[0.0,\"#0d0887\"],[0.1111111111111111,\"#46039f\"],[0.2222222222222222,\"#7201a8\"],[0.3333333333333333,\"#9c179e\"],[0.4444444444444444,\"#bd3786\"],[0.5555555555555556,\"#d8576b\"],[0.6666666666666666,\"#ed7953\"],[0.7777777777777778,\"#fb9f3a\"],[0.8888888888888888,\"#fdca26\"],[1.0,\"#f0f921\"]]}],\"choropleth\":[{\"type\":\"choropleth\",\"colorbar\":{\"outlinewidth\":0,\"ticks\":\"\"}}],\"histogram2d\":[{\"type\":\"histogram2d\",\"colorbar\":{\"outlinewidth\":0,\"ticks\":\"\"},\"colorscale\":[[0.0,\"#0d0887\"],[0.1111111111111111,\"#46039f\"],[0.2222222222222222,\"#7201a8\"],[0.3333333333333333,\"#9c179e\"],[0.4444444444444444,\"#bd3786\"],[0.5555555555555556,\"#d8576b\"],[0.6666666666666666,\"#ed7953\"],[0.7777777777777778,\"#fb9f3a\"],[0.8888888888888888,\"#fdca26\"],[1.0,\"#f0f921\"]]}],\"heatmap\":[{\"type\":\"heatmap\",\"colorbar\":{\"outlinewidth\":0,\"ticks\":\"\"},\"colorscale\":[[0.0,\"#0d0887\"],[0.1111111111111111,\"#46039f\"],[0.2222222222222222,\"#7201a8\"],[0.3333333333333333,\"#9c179e\"],[0.4444444444444444,\"#bd3786\"],[0.5555555555555556,\"#d8576b\"],[0.6666666666666666,\"#ed7953\"],[0.7777777777777778,\"#fb9f3a\"],[0.8888888888888888,\"#fdca26\"],[1.0,\"#f0f921\"]]}],\"heatmapgl\":[{\"type\":\"heatmapgl\",\"colorbar\":{\"outlinewidth\":0,\"ticks\":\"\"},\"colorscale\":[[0.0,\"#0d0887\"],[0.1111111111111111,\"#46039f\"],[0.2222222222222222,\"#7201a8\"],[0.3333333333333333,\"#9c179e\"],[0.4444444444444444,\"#bd3786\"],[0.5555555555555556,\"#d8576b\"],[0.6666666666666666,\"#ed7953\"],[0.7777777777777778,\"#fb9f3a\"],[0.8888888888888888,\"#fdca26\"],[1.0,\"#f0f921\"]]}],\"contourcarpet\":[{\"type\":\"contourcarpet\",\"colorbar\":{\"outlinewidth\":0,\"ticks\":\"\"}}],\"contour\":[{\"type\":\"contour\",\"colorbar\":{\"outlinewidth\":0,\"ticks\":\"\"},\"colorscale\":[[0.0,\"#0d0887\"],[0.1111111111111111,\"#46039f\"],[0.2222222222222222,\"#7201a8\"],[0.3333333333333333,\"#9c179e\"],[0.4444444444444444,\"#bd3786\"],[0.5555555555555556,\"#d8576b\"],[0.6666666666666666,\"#ed7953\"],[0.7777777777777778,\"#fb9f3a\"],[0.8888888888888888,\"#fdca26\"],[1.0,\"#f0f921\"]]}],\"surface\":[{\"type\":\"surface\",\"colorbar\":{\"outlinewidth\":0,\"ticks\":\"\"},\"colorscale\":[[0.0,\"#0d0887\"],[0.1111111111111111,\"#46039f\"],[0.2222222222222222,\"#7201a8\"],[0.3333333333333333,\"#9c179e\"],[0.4444444444444444,\"#bd3786\"],[0.5555555555555556,\"#d8576b\"],[0.6666666666666666,\"#ed7953\"],[0.7777777777777778,\"#fb9f3a\"],[0.8888888888888888,\"#fdca26\"],[1.0,\"#f0f921\"]]}],\"mesh3d\":[{\"type\":\"mesh3d\",\"colorbar\":{\"outlinewidth\":0,\"ticks\":\"\"}}],\"scatter\":[{\"fillpattern\":{\"fillmode\":\"overlay\",\"size\":10,\"solidity\":0.2},\"type\":\"scatter\"}],\"parcoords\":[{\"type\":\"parcoords\",\"line\":{\"colorbar\":{\"outlinewidth\":0,\"ticks\":\"\"}}}],\"scatterpolargl\":[{\"type\":\"scatterpolargl\",\"marker\":{\"colorbar\":{\"outlinewidth\":0,\"ticks\":\"\"}}}],\"bar\":[{\"error_x\":{\"color\":\"#2a3f5f\"},\"error_y\":{\"color\":\"#2a3f5f\"},\"marker\":{\"line\":{\"color\":\"#E5ECF6\",\"width\":0.5},\"pattern\":{\"fillmode\":\"overlay\",\"size\":10,\"solidity\":0.2}},\"type\":\"bar\"}],\"scattergeo\":[{\"type\":\"scattergeo\",\"marker\":{\"colorbar\":{\"outlinewidth\":0,\"ticks\":\"\"}}}],\"scatterpolar\":[{\"type\":\"scatterpolar\",\"marker\":{\"colorbar\":{\"outlinewidth\":0,\"ticks\":\"\"}}}],\"histogram\":[{\"marker\":{\"pattern\":{\"fillmode\":\"overlay\",\"size\":10,\"solidity\":0.2}},\"type\":\"histogram\"}],\"scattergl\":[{\"type\":\"scattergl\",\"marker\":{\"colorbar\":{\"outlinewidth\":0,\"ticks\":\"\"}}}],\"scatter3d\":[{\"type\":\"scatter3d\",\"line\":{\"colorbar\":{\"outlinewidth\":0,\"ticks\":\"\"}},\"marker\":{\"colorbar\":{\"outlinewidth\":0,\"ticks\":\"\"}}}],\"scattermapbox\":[{\"type\":\"scattermapbox\",\"marker\":{\"colorbar\":{\"outlinewidth\":0,\"ticks\":\"\"}}}],\"scatterternary\":[{\"type\":\"scatterternary\",\"marker\":{\"colorbar\":{\"outlinewidth\":0,\"ticks\":\"\"}}}],\"scattercarpet\":[{\"type\":\"scattercarpet\",\"marker\":{\"colorbar\":{\"outlinewidth\":0,\"ticks\":\"\"}}}],\"carpet\":[{\"aaxis\":{\"endlinecolor\":\"#2a3f5f\",\"gridcolor\":\"white\",\"linecolor\":\"white\",\"minorgridcolor\":\"white\",\"startlinecolor\":\"#2a3f5f\"},\"baxis\":{\"endlinecolor\":\"#2a3f5f\",\"gridcolor\":\"white\",\"linecolor\":\"white\",\"minorgridcolor\":\"white\",\"startlinecolor\":\"#2a3f5f\"},\"type\":\"carpet\"}],\"table\":[{\"cells\":{\"fill\":{\"color\":\"#EBF0F8\"},\"line\":{\"color\":\"white\"}},\"header\":{\"fill\":{\"color\":\"#C8D4E3\"},\"line\":{\"color\":\"white\"}},\"type\":\"table\"}],\"barpolar\":[{\"marker\":{\"line\":{\"color\":\"#E5ECF6\",\"width\":0.5},\"pattern\":{\"fillmode\":\"overlay\",\"size\":10,\"solidity\":0.2}},\"type\":\"barpolar\"}],\"pie\":[{\"automargin\":true,\"type\":\"pie\"}]},\"layout\":{\"autotypenumbers\":\"strict\",\"colorway\":[\"#636efa\",\"#EF553B\",\"#00cc96\",\"#ab63fa\",\"#FFA15A\",\"#19d3f3\",\"#FF6692\",\"#B6E880\",\"#FF97FF\",\"#FECB52\"],\"font\":{\"color\":\"#2a3f5f\"},\"hovermode\":\"closest\",\"hoverlabel\":{\"align\":\"left\"},\"paper_bgcolor\":\"white\",\"plot_bgcolor\":\"#E5ECF6\",\"polar\":{\"bgcolor\":\"#E5ECF6\",\"angularaxis\":{\"gridcolor\":\"white\",\"linecolor\":\"white\",\"ticks\":\"\"},\"radialaxis\":{\"gridcolor\":\"white\",\"linecolor\":\"white\",\"ticks\":\"\"}},\"ternary\":{\"bgcolor\":\"#E5ECF6\",\"aaxis\":{\"gridcolor\":\"white\",\"linecolor\":\"white\",\"ticks\":\"\"},\"baxis\":{\"gridcolor\":\"white\",\"linecolor\":\"white\",\"ticks\":\"\"},\"caxis\":{\"gridcolor\":\"white\",\"linecolor\":\"white\",\"ticks\":\"\"}},\"coloraxis\":{\"colorbar\":{\"outlinewidth\":0,\"ticks\":\"\"}},\"colorscale\":{\"sequential\":[[0.0,\"#0d0887\"],[0.1111111111111111,\"#46039f\"],[0.2222222222222222,\"#7201a8\"],[0.3333333333333333,\"#9c179e\"],[0.4444444444444444,\"#bd3786\"],[0.5555555555555556,\"#d8576b\"],[0.6666666666666666,\"#ed7953\"],[0.7777777777777778,\"#fb9f3a\"],[0.8888888888888888,\"#fdca26\"],[1.0,\"#f0f921\"]],\"sequentialminus\":[[0.0,\"#0d0887\"],[0.1111111111111111,\"#46039f\"],[0.2222222222222222,\"#7201a8\"],[0.3333333333333333,\"#9c179e\"],[0.4444444444444444,\"#bd3786\"],[0.5555555555555556,\"#d8576b\"],[0.6666666666666666,\"#ed7953\"],[0.7777777777777778,\"#fb9f3a\"],[0.8888888888888888,\"#fdca26\"],[1.0,\"#f0f921\"]],\"diverging\":[[0,\"#8e0152\"],[0.1,\"#c51b7d\"],[0.2,\"#de77ae\"],[0.3,\"#f1b6da\"],[0.4,\"#fde0ef\"],[0.5,\"#f7f7f7\"],[0.6,\"#e6f5d0\"],[0.7,\"#b8e186\"],[0.8,\"#7fbc41\"],[0.9,\"#4d9221\"],[1,\"#276419\"]]},\"xaxis\":{\"gridcolor\":\"white\",\"linecolor\":\"white\",\"ticks\":\"\",\"title\":{\"standoff\":15},\"zerolinecolor\":\"white\",\"automargin\":true,\"zerolinewidth\":2},\"yaxis\":{\"gridcolor\":\"white\",\"linecolor\":\"white\",\"ticks\":\"\",\"title\":{\"standoff\":15},\"zerolinecolor\":\"white\",\"automargin\":true,\"zerolinewidth\":2},\"scene\":{\"xaxis\":{\"backgroundcolor\":\"#E5ECF6\",\"gridcolor\":\"white\",\"linecolor\":\"white\",\"showbackground\":true,\"ticks\":\"\",\"zerolinecolor\":\"white\",\"gridwidth\":2},\"yaxis\":{\"backgroundcolor\":\"#E5ECF6\",\"gridcolor\":\"white\",\"linecolor\":\"white\",\"showbackground\":true,\"ticks\":\"\",\"zerolinecolor\":\"white\",\"gridwidth\":2},\"zaxis\":{\"backgroundcolor\":\"#E5ECF6\",\"gridcolor\":\"white\",\"linecolor\":\"white\",\"showbackground\":true,\"ticks\":\"\",\"zerolinecolor\":\"white\",\"gridwidth\":2}},\"shapedefaults\":{\"line\":{\"color\":\"#2a3f5f\"}},\"annotationdefaults\":{\"arrowcolor\":\"#2a3f5f\",\"arrowhead\":0,\"arrowwidth\":1},\"geo\":{\"bgcolor\":\"white\",\"landcolor\":\"#E5ECF6\",\"subunitcolor\":\"white\",\"showland\":true,\"showlakes\":true,\"lakecolor\":\"white\"},\"title\":{\"x\":0.05},\"mapbox\":{\"style\":\"light\"}}},\"legend\":{\"tracegroupgap\":0},\"margin\":{\"t\":60}},                        {\"responsive\": true}                    ).then(function(){\n",
       "                            \n",
       "var gd = document.getElementById('cff876db-021a-41d1-bed4-dc2761434bb3');\n",
       "var x = new MutationObserver(function (mutations, observer) {{\n",
       "        var display = window.getComputedStyle(gd).display;\n",
       "        if (!display || display === 'none') {{\n",
       "            console.log([gd, 'removed!']);\n",
       "            Plotly.purge(gd);\n",
       "            observer.disconnect();\n",
       "        }}\n",
       "}});\n",
       "\n",
       "// Listen for the removal of the full notebook cells\n",
       "var notebookContainer = gd.closest('#notebook-container');\n",
       "if (notebookContainer) {{\n",
       "    x.observe(notebookContainer, {childList: true});\n",
       "}}\n",
       "\n",
       "// Listen for the clearing of the current output cell\n",
       "var outputEl = gd.closest('.output');\n",
       "if (outputEl) {{\n",
       "    x.observe(outputEl, {childList: true});\n",
       "}}\n",
       "\n",
       "                        })                };                });            </script>        </div>"
      ]
     },
     "metadata": {},
     "output_type": "display_data"
    }
   ],
   "source": [
    "fig=px.sunburst(df_sales, path=['PerformanceRating','EmpJobRole','YearsSinceLastPromotion'])\n",
    "fig.show()\n",
    "\n",
    "# Maximum Sales Executive showing underlying performance lies between 0-1 year since last promotion\n",
    "# Maximum Sales Representative showing underlying performance lies between 2-5 years since last promotion\n",
    "# Maximum Sales Manager showing underlying performance lies between 7-15 years since last promotion"
   ]
  },
  {
   "cell_type": "code",
   "execution_count": 131,
   "id": "b49a400a",
   "metadata": {},
   "outputs": [
    {
     "data": {
      "image/png": "[encoded data removed]",
      "text/plain": [
       "<Figure size 720x432 with 1 Axes>"
      ]
     },
     "metadata": {
      "needs_background": "light"
     },
     "output_type": "display_data"
    }
   ],
   "source": [
    "# 9) Employee Relationship Satisfcation\n",
    "\n",
    "plt.figure(figsize=(10,6))\n",
    "sns.countplot(data=df_sales, x='EmpRelationshipSatisfaction', hue='EmpJobRole')\n",
    "plt.show()\n",
    "\n",
    "#Sales Executives are seen to have Employee Satisfacton Level : 1"
   ]
  },
  {
   "cell_type": "code",
   "execution_count": 156,
   "id": "4dfb6804",
   "metadata": {},
   "outputs": [],
   "source": [
    "df_development = pd.DataFrame(data)"
   ]
  },
  {
   "cell_type": "code",
   "execution_count": 157,
   "id": "21d92210",
   "metadata": {},
   "outputs": [],
   "source": [
    "df_development = data.loc[data['EmpDepartment']=='Development']"
   ]
  },
  {
   "cell_type": "code",
   "execution_count": 158,
   "id": "5ed88273",
   "metadata": {
    "scrolled": true
   },
   "outputs": [
    {
     "data": {
      "text/html": [
       "<div>\n",
       "<style scoped>\n",
       "    .dataframe tbody tr th:only-of-type {\n",
       "        vertical-align: middle;\n",
       "    }\n",
       "\n",
       "    .dataframe tbody tr th {\n",
       "        vertical-align: top;\n",
       "    }\n",
       "\n",
       "    .dataframe thead th {\n",
       "        text-align: right;\n",
       "    }\n",
       "</style>\n",
       "<table border=\"1\" class=\"dataframe\">\n",
       "  <thead>\n",
       "    <tr style=\"text-align: right;\">\n",
       "      <th></th>\n",
       "      <th>EmpNumber</th>\n",
       "      <th>Age</th>\n",
       "      <th>Gender</th>\n",
       "      <th>EducationBackground</th>\n",
       "      <th>EmpDepartment</th>\n",
       "      <th>EmpJobRole</th>\n",
       "      <th>BusinessTravelFrequency</th>\n",
       "      <th>DistanceFromHome</th>\n",
       "      <th>EmpEducationLevel</th>\n",
       "      <th>EmpEnvironmentSatisfaction</th>\n",
       "      <th>...</th>\n",
       "      <th>EmpRelationshipSatisfaction</th>\n",
       "      <th>TotalWorkExperienceInYears</th>\n",
       "      <th>TrainingTimesLastYear</th>\n",
       "      <th>EmpWorkLifeBalance</th>\n",
       "      <th>ExperienceYearsAtThisCompany</th>\n",
       "      <th>ExperienceYearsInCurrentRole</th>\n",
       "      <th>YearsSinceLastPromotion</th>\n",
       "      <th>YearsWithCurrManager</th>\n",
       "      <th>Attrition</th>\n",
       "      <th>PerformanceRating</th>\n",
       "    </tr>\n",
       "  </thead>\n",
       "  <tbody>\n",
       "    <tr>\n",
       "      <th>5</th>\n",
       "      <td>E1001011</td>\n",
       "      <td>27</td>\n",
       "      <td>Male</td>\n",
       "      <td>Life Sciences</td>\n",
       "      <td>Development</td>\n",
       "      <td>Developer</td>\n",
       "      <td>Travel_Frequently</td>\n",
       "      <td>10</td>\n",
       "      <td>2</td>\n",
       "      <td>4</td>\n",
       "      <td>...</td>\n",
       "      <td>3</td>\n",
       "      <td>9</td>\n",
       "      <td>4</td>\n",
       "      <td>2</td>\n",
       "      <td>9</td>\n",
       "      <td>7</td>\n",
       "      <td>1</td>\n",
       "      <td>7</td>\n",
       "      <td>No</td>\n",
       "      <td>4</td>\n",
       "    </tr>\n",
       "    <tr>\n",
       "      <th>8</th>\n",
       "      <td>E1001020</td>\n",
       "      <td>36</td>\n",
       "      <td>Female</td>\n",
       "      <td>Life Sciences</td>\n",
       "      <td>Development</td>\n",
       "      <td>Developer</td>\n",
       "      <td>Non-Travel</td>\n",
       "      <td>8</td>\n",
       "      <td>3</td>\n",
       "      <td>1</td>\n",
       "      <td>...</td>\n",
       "      <td>1</td>\n",
       "      <td>10</td>\n",
       "      <td>2</td>\n",
       "      <td>3</td>\n",
       "      <td>8</td>\n",
       "      <td>7</td>\n",
       "      <td>0</td>\n",
       "      <td>5</td>\n",
       "      <td>No</td>\n",
       "      <td>3</td>\n",
       "    </tr>\n",
       "    <tr>\n",
       "      <th>9</th>\n",
       "      <td>E1001021</td>\n",
       "      <td>38</td>\n",
       "      <td>Female</td>\n",
       "      <td>Life Sciences</td>\n",
       "      <td>Development</td>\n",
       "      <td>Developer</td>\n",
       "      <td>Travel_Rarely</td>\n",
       "      <td>1</td>\n",
       "      <td>3</td>\n",
       "      <td>3</td>\n",
       "      <td>...</td>\n",
       "      <td>4</td>\n",
       "      <td>10</td>\n",
       "      <td>4</td>\n",
       "      <td>4</td>\n",
       "      <td>1</td>\n",
       "      <td>0</td>\n",
       "      <td>0</td>\n",
       "      <td>0</td>\n",
       "      <td>No</td>\n",
       "      <td>3</td>\n",
       "    </tr>\n",
       "    <tr>\n",
       "      <th>10</th>\n",
       "      <td>E1001022</td>\n",
       "      <td>44</td>\n",
       "      <td>Male</td>\n",
       "      <td>Medical</td>\n",
       "      <td>Development</td>\n",
       "      <td>Developer</td>\n",
       "      <td>Non-Travel</td>\n",
       "      <td>24</td>\n",
       "      <td>3</td>\n",
       "      <td>1</td>\n",
       "      <td>...</td>\n",
       "      <td>3</td>\n",
       "      <td>9</td>\n",
       "      <td>5</td>\n",
       "      <td>3</td>\n",
       "      <td>5</td>\n",
       "      <td>2</td>\n",
       "      <td>1</td>\n",
       "      <td>4</td>\n",
       "      <td>No</td>\n",
       "      <td>3</td>\n",
       "    </tr>\n",
       "    <tr>\n",
       "      <th>15</th>\n",
       "      <td>E1001035</td>\n",
       "      <td>34</td>\n",
       "      <td>Female</td>\n",
       "      <td>Medical</td>\n",
       "      <td>Development</td>\n",
       "      <td>Developer</td>\n",
       "      <td>Travel_Rarely</td>\n",
       "      <td>8</td>\n",
       "      <td>2</td>\n",
       "      <td>2</td>\n",
       "      <td>...</td>\n",
       "      <td>4</td>\n",
       "      <td>10</td>\n",
       "      <td>2</td>\n",
       "      <td>3</td>\n",
       "      <td>5</td>\n",
       "      <td>1</td>\n",
       "      <td>4</td>\n",
       "      <td>3</td>\n",
       "      <td>No</td>\n",
       "      <td>3</td>\n",
       "    </tr>\n",
       "    <tr>\n",
       "      <th>...</th>\n",
       "      <td>...</td>\n",
       "      <td>...</td>\n",
       "      <td>...</td>\n",
       "      <td>...</td>\n",
       "      <td>...</td>\n",
       "      <td>...</td>\n",
       "      <td>...</td>\n",
       "      <td>...</td>\n",
       "      <td>...</td>\n",
       "      <td>...</td>\n",
       "      <td>...</td>\n",
       "      <td>...</td>\n",
       "      <td>...</td>\n",
       "      <td>...</td>\n",
       "      <td>...</td>\n",
       "      <td>...</td>\n",
       "      <td>...</td>\n",
       "      <td>...</td>\n",
       "      <td>...</td>\n",
       "      <td>...</td>\n",
       "      <td>...</td>\n",
       "    </tr>\n",
       "    <tr>\n",
       "      <th>1187</th>\n",
       "      <td>E100977</td>\n",
       "      <td>36</td>\n",
       "      <td>Male</td>\n",
       "      <td>Medical</td>\n",
       "      <td>Development</td>\n",
       "      <td>Developer</td>\n",
       "      <td>Travel_Rarely</td>\n",
       "      <td>9</td>\n",
       "      <td>2</td>\n",
       "      <td>2</td>\n",
       "      <td>...</td>\n",
       "      <td>3</td>\n",
       "      <td>13</td>\n",
       "      <td>2</td>\n",
       "      <td>3</td>\n",
       "      <td>3</td>\n",
       "      <td>2</td>\n",
       "      <td>0</td>\n",
       "      <td>2</td>\n",
       "      <td>No</td>\n",
       "      <td>3</td>\n",
       "    </tr>\n",
       "    <tr>\n",
       "      <th>1190</th>\n",
       "      <td>E100983</td>\n",
       "      <td>23</td>\n",
       "      <td>Male</td>\n",
       "      <td>Medical</td>\n",
       "      <td>Development</td>\n",
       "      <td>Developer</td>\n",
       "      <td>Travel_Rarely</td>\n",
       "      <td>4</td>\n",
       "      <td>3</td>\n",
       "      <td>1</td>\n",
       "      <td>...</td>\n",
       "      <td>1</td>\n",
       "      <td>5</td>\n",
       "      <td>3</td>\n",
       "      <td>4</td>\n",
       "      <td>3</td>\n",
       "      <td>2</td>\n",
       "      <td>0</td>\n",
       "      <td>2</td>\n",
       "      <td>No</td>\n",
       "      <td>4</td>\n",
       "    </tr>\n",
       "    <tr>\n",
       "      <th>1193</th>\n",
       "      <td>E100988</td>\n",
       "      <td>29</td>\n",
       "      <td>Male</td>\n",
       "      <td>Life Sciences</td>\n",
       "      <td>Development</td>\n",
       "      <td>Developer</td>\n",
       "      <td>Travel_Frequently</td>\n",
       "      <td>1</td>\n",
       "      <td>4</td>\n",
       "      <td>2</td>\n",
       "      <td>...</td>\n",
       "      <td>4</td>\n",
       "      <td>10</td>\n",
       "      <td>5</td>\n",
       "      <td>3</td>\n",
       "      <td>10</td>\n",
       "      <td>7</td>\n",
       "      <td>2</td>\n",
       "      <td>8</td>\n",
       "      <td>No</td>\n",
       "      <td>3</td>\n",
       "    </tr>\n",
       "    <tr>\n",
       "      <th>1196</th>\n",
       "      <td>E100993</td>\n",
       "      <td>37</td>\n",
       "      <td>Male</td>\n",
       "      <td>Life Sciences</td>\n",
       "      <td>Development</td>\n",
       "      <td>Senior Developer</td>\n",
       "      <td>Travel_Rarely</td>\n",
       "      <td>10</td>\n",
       "      <td>2</td>\n",
       "      <td>4</td>\n",
       "      <td>...</td>\n",
       "      <td>1</td>\n",
       "      <td>4</td>\n",
       "      <td>2</td>\n",
       "      <td>3</td>\n",
       "      <td>1</td>\n",
       "      <td>0</td>\n",
       "      <td>0</td>\n",
       "      <td>0</td>\n",
       "      <td>No</td>\n",
       "      <td>3</td>\n",
       "    </tr>\n",
       "    <tr>\n",
       "      <th>1197</th>\n",
       "      <td>E100994</td>\n",
       "      <td>50</td>\n",
       "      <td>Male</td>\n",
       "      <td>Medical</td>\n",
       "      <td>Development</td>\n",
       "      <td>Senior Developer</td>\n",
       "      <td>Travel_Rarely</td>\n",
       "      <td>28</td>\n",
       "      <td>1</td>\n",
       "      <td>4</td>\n",
       "      <td>...</td>\n",
       "      <td>3</td>\n",
       "      <td>20</td>\n",
       "      <td>3</td>\n",
       "      <td>3</td>\n",
       "      <td>20</td>\n",
       "      <td>8</td>\n",
       "      <td>3</td>\n",
       "      <td>8</td>\n",
       "      <td>No</td>\n",
       "      <td>3</td>\n",
       "    </tr>\n",
       "  </tbody>\n",
       "</table>\n",
       "<p>310 rows × 27 columns</p>\n",
       "</div>"
      ],
      "text/plain": [
       "     EmpNumber  Age  Gender EducationBackground EmpDepartment  \\\n",
       "5     E1001011   27    Male       Life Sciences   Development   \n",
       "8     E1001020   36  Female       Life Sciences   Development   \n",
       "9     E1001021   38  Female       Life Sciences   Development   \n",
       "10    E1001022   44    Male             Medical   Development   \n",
       "15    E1001035   34  Female             Medical   Development   \n",
       "...        ...  ...     ...                 ...           ...   \n",
       "1187   E100977   36    Male             Medical   Development   \n",
       "1190   E100983   23    Male             Medical   Development   \n",
       "1193   E100988   29    Male       Life Sciences   Development   \n",
       "1196   E100993   37    Male       Life Sciences   Development   \n",
       "1197   E100994   50    Male             Medical   Development   \n",
       "\n",
       "            EmpJobRole BusinessTravelFrequency  DistanceFromHome  \\\n",
       "5            Developer       Travel_Frequently                10   \n",
       "8            Developer              Non-Travel                 8   \n",
       "9            Developer           Travel_Rarely                 1   \n",
       "10           Developer              Non-Travel                24   \n",
       "15           Developer           Travel_Rarely                 8   \n",
       "...                ...                     ...               ...   \n",
       "1187         Developer           Travel_Rarely                 9   \n",
       "1190         Developer           Travel_Rarely                 4   \n",
       "1193         Developer       Travel_Frequently                 1   \n",
       "1196  Senior Developer           Travel_Rarely                10   \n",
       "1197  Senior Developer           Travel_Rarely                28   \n",
       "\n",
       "      EmpEducationLevel  EmpEnvironmentSatisfaction  ...  \\\n",
       "5                     2                           4  ...   \n",
       "8                     3                           1  ...   \n",
       "9                     3                           3  ...   \n",
       "10                    3                           1  ...   \n",
       "15                    2                           2  ...   \n",
       "...                 ...                         ...  ...   \n",
       "1187                  2                           2  ...   \n",
       "1190                  3                           1  ...   \n",
       "1193                  4                           2  ...   \n",
       "1196                  2                           4  ...   \n",
       "1197                  1                           4  ...   \n",
       "\n",
       "      EmpRelationshipSatisfaction  TotalWorkExperienceInYears  \\\n",
       "5                               3                           9   \n",
       "8                               1                          10   \n",
       "9                               4                          10   \n",
       "10                              3                           9   \n",
       "15                              4                          10   \n",
       "...                           ...                         ...   \n",
       "1187                            3                          13   \n",
       "1190                            1                           5   \n",
       "1193                            4                          10   \n",
       "1196                            1                           4   \n",
       "1197                            3                          20   \n",
       "\n",
       "      TrainingTimesLastYear  EmpWorkLifeBalance  ExperienceYearsAtThisCompany  \\\n",
       "5                         4                   2                             9   \n",
       "8                         2                   3                             8   \n",
       "9                         4                   4                             1   \n",
       "10                        5                   3                             5   \n",
       "15                        2                   3                             5   \n",
       "...                     ...                 ...                           ...   \n",
       "1187                      2                   3                             3   \n",
       "1190                      3                   4                             3   \n",
       "1193                      5                   3                            10   \n",
       "1196                      2                   3                             1   \n",
       "1197                      3                   3                            20   \n",
       "\n",
       "     ExperienceYearsInCurrentRole  YearsSinceLastPromotion  \\\n",
       "5                               7                        1   \n",
       "8                               7                        0   \n",
       "9                               0                        0   \n",
       "10                              2                        1   \n",
       "15                              1                        4   \n",
       "...                           ...                      ...   \n",
       "1187                            2                        0   \n",
       "1190                            2                        0   \n",
       "1193                            7                        2   \n",
       "1196                            0                        0   \n",
       "1197                            8                        3   \n",
       "\n",
       "      YearsWithCurrManager  Attrition  PerformanceRating  \n",
       "5                        7         No                  4  \n",
       "8                        5         No                  3  \n",
       "9                        0         No                  3  \n",
       "10                       4         No                  3  \n",
       "15                       3         No                  3  \n",
       "...                    ...        ...                ...  \n",
       "1187                     2         No                  3  \n",
       "1190                     2         No                  4  \n",
       "1193                     8         No                  3  \n",
       "1196                     0         No                  3  \n",
       "1197                     8         No                  3  \n",
       "\n",
       "[310 rows x 27 columns]"
      ]
     },
     "execution_count": 158,
     "metadata": {},
     "output_type": "execute_result"
    }
   ],
   "source": [
    "df_development"
   ]
  },
  {
   "cell_type": "markdown",
   "id": "f5bea244",
   "metadata": {},
   "source": [
    "# Analysis of Development department"
   ]
  },
  {
   "cell_type": "code",
   "execution_count": 159,
   "id": "54ffe42d",
   "metadata": {},
   "outputs": [
    {
     "data": {
      "application/vnd.plotly.v1+json": {
       "config": {
        "plotlyServerURL": "https://plot.ly"
       },
       "data": [
        {
         "alignmentgroup": "True",
         "bingroup": "x",
         "hovertemplate": "Performance Rating=4<br>Emp Job Role=%{x}<br>count=%{y}<extra></extra>",
         "legendgroup": "",
         "marker": {
          "color": "#1F77B4",
          "pattern": {
           "shape": ""
          }
         },
         "name": "",
         "nbinsx": 80,
         "offsetgroup": "",
         "orientation": "v",
         "showlegend": false,
         "type": "histogram",
         "x": [
          "Developer",
          "Developer",
          "Developer",
          "Senior Developer",
          "Senior Developer",
          "Developer",
          "Developer",
          "Senior Developer",
          "Developer",
          "Senior Developer",
          "Senior Developer",
          "Senior Developer",
          "Developer",
          "Developer",
          "Developer",
          "Business Analyst",
          "Business Analyst",
          "Developer",
          "Developer",
          "Developer",
          "Developer",
          "Developer",
          "Technical Lead",
          "Developer",
          "Technical Lead",
          "Developer",
          "Technical Lead",
          "Developer",
          "Technical Lead",
          "Developer",
          "Developer",
          "Developer",
          "Developer",
          "Developer",
          "Developer",
          "Developer",
          "Developer"
         ],
         "xaxis": "x",
         "yaxis": "y"
        },
        {
         "alignmentgroup": "True",
         "hovertemplate": "Performance Rating=4<br>Emp Job Role=%{x}<extra></extra>",
         "legendgroup": "",
         "marker": {
          "color": "#1F77B4"
         },
         "name": "",
         "notched": true,
         "offsetgroup": "",
         "showlegend": false,
         "type": "box",
         "x": [
          "Developer",
          "Developer",
          "Developer",
          "Senior Developer",
          "Senior Developer",
          "Developer",
          "Developer",
          "Senior Developer",
          "Developer",
          "Senior Developer",
          "Senior Developer",
          "Senior Developer",
          "Developer",
          "Developer",
          "Developer",
          "Business Analyst",
          "Business Analyst",
          "Developer",
          "Developer",
          "Developer",
          "Developer",
          "Developer",
          "Technical Lead",
          "Developer",
          "Technical Lead",
          "Developer",
          "Technical Lead",
          "Developer",
          "Technical Lead",
          "Developer",
          "Developer",
          "Developer",
          "Developer",
          "Developer",
          "Developer",
          "Developer",
          "Developer"
         ],
         "xaxis": "x4",
         "yaxis": "y4"
        },
        {
         "alignmentgroup": "True",
         "bingroup": "x",
         "hovertemplate": "Performance Rating=3<br>Emp Job Role=%{x}<br>count=%{y}<extra></extra>",
         "legendgroup": "",
         "marker": {
          "color": "#1F77B4",
          "pattern": {
           "shape": ""
          }
         },
         "name": "",
         "nbinsx": 80,
         "offsetgroup": "",
         "orientation": "v",
         "showlegend": false,
         "type": "histogram",
         "x": [
          "Developer",
          "Developer",
          "Developer",
          "Developer",
          "Developer",
          "Developer",
          "Developer",
          "Senior Developer",
          "Developer",
          "Developer",
          "Developer",
          "Developer",
          "Developer",
          "Developer",
          "Developer",
          "Developer",
          "Developer",
          "Developer",
          "Developer",
          "Senior Developer",
          "Developer",
          "Developer",
          "Developer",
          "Developer",
          "Senior Developer",
          "Developer",
          "Developer",
          "Developer",
          "Developer",
          "Developer",
          "Developer",
          "Developer",
          "Developer",
          "Developer",
          "Developer",
          "Senior Developer",
          "Developer",
          "Senior Developer",
          "Developer",
          "Senior Developer",
          "Developer",
          "Senior Developer",
          "Senior Developer",
          "Developer",
          "Developer",
          "Developer",
          "Developer",
          "Developer",
          "Developer",
          "Developer",
          "Senior Developer",
          "Senior Developer",
          "Senior Developer",
          "Developer",
          "Senior Developer",
          "Developer",
          "Developer",
          "Developer",
          "Senior Developer",
          "Senior Developer",
          "Developer",
          "Developer",
          "Developer",
          "Developer",
          "Developer",
          "Developer",
          "Senior Developer",
          "Senior Developer",
          "Developer",
          "Senior Developer",
          "Developer",
          "Developer",
          "Developer",
          "Senior Developer",
          "Developer",
          "Developer",
          "Technical Architect",
          "Technical Architect",
          "Developer",
          "Developer",
          "Technical Architect",
          "Technical Architect",
          "Technical Architect",
          "Business Analyst",
          "Business Analyst",
          "Developer",
          "Developer",
          "Developer",
          "Business Analyst",
          "Business Analyst",
          "Developer",
          "Business Analyst",
          "Developer",
          "Developer",
          "Developer",
          "Business Analyst",
          "Developer",
          "Business Analyst",
          "Developer",
          "Developer",
          "Developer",
          "Developer",
          "Developer",
          "Business Analyst",
          "Business Analyst",
          "Business Analyst",
          "Developer",
          "Business Analyst",
          "Business Analyst",
          "Business Analyst",
          "Developer",
          "Developer",
          "Developer",
          "Developer",
          "Developer",
          "Developer",
          "Technical Lead",
          "Developer",
          "Developer",
          "Technical Lead",
          "Developer",
          "Technical Lead",
          "Developer",
          "Developer",
          "Developer",
          "Technical Lead",
          "Technical Lead",
          "Developer",
          "Technical Lead",
          "Technical Lead",
          "Developer",
          "Developer",
          "Developer",
          "Technical Lead",
          "Developer",
          "Developer",
          "Technical Lead",
          "Developer",
          "Developer",
          "Technical Lead",
          "Developer",
          "Developer",
          "Developer",
          "Technical Lead",
          "Technical Lead",
          "Developer",
          "Developer",
          "Developer",
          "Technical Lead",
          "Technical Lead",
          "Developer",
          "Technical Lead",
          "Developer",
          "Developer",
          "Technical Lead",
          "Developer",
          "Technical Lead",
          "Technical Lead",
          "Developer",
          "Developer",
          "Technical Lead",
          "Developer",
          "Developer",
          "Developer",
          "Technical Lead",
          "Developer",
          "Developer",
          "Developer",
          "Developer",
          "Technical Lead",
          "Developer",
          "Developer",
          "Technical Lead",
          "Developer",
          "Developer",
          "Technical Lead",
          "Technical Lead",
          "Developer",
          "Technical Lead",
          "Developer",
          "Developer",
          "Developer",
          "Technical Lead",
          "Technical Lead",
          "Technical Lead",
          "Developer",
          "Developer",
          "Technical Lead",
          "Developer",
          "Developer",
          "Developer",
          "Developer",
          "Technical Lead",
          "Technical Lead",
          "Technical Lead",
          "Delivery Manager",
          "Developer",
          "Delivery Manager",
          "Developer",
          "Delivery Manager",
          "Developer",
          "Delivery Manager",
          "Delivery Manager",
          "Developer",
          "Developer",
          "Delivery Manager",
          "Developer",
          "Delivery Manager",
          "Developer",
          "Delivery Manager",
          "Developer",
          "Delivery Manager",
          "Developer",
          "Delivery Manager",
          "Developer",
          "Delivery Manager",
          "Delivery Manager",
          "Developer",
          "Developer",
          "Senior Developer",
          "Developer",
          "Senior Developer",
          "Developer",
          "Developer",
          "Developer",
          "Developer",
          "Senior Developer",
          "Senior Developer",
          "Developer",
          "Senior Developer",
          "Developer",
          "Senior Developer",
          "Developer",
          "Developer",
          "Senior Developer",
          "Senior Developer",
          "Senior Developer",
          "Developer",
          "Developer",
          "Developer",
          "Developer",
          "Developer",
          "Senior Developer",
          "Developer",
          "Developer",
          "Developer",
          "Developer",
          "Developer",
          "Developer",
          "Senior Developer",
          "Senior Developer",
          "Senior Developer",
          "Developer",
          "Developer",
          "Senior Developer",
          "Developer",
          "Developer",
          "Senior Developer",
          "Developer",
          "Developer",
          "Senior Developer",
          "Senior Developer"
         ],
         "xaxis": "x2",
         "yaxis": "y2"
        },
        {
         "alignmentgroup": "True",
         "hovertemplate": "Performance Rating=3<br>Emp Job Role=%{x}<extra></extra>",
         "legendgroup": "",
         "marker": {
          "color": "#1F77B4"
         },
         "name": "",
         "notched": true,
         "offsetgroup": "",
         "showlegend": false,
         "type": "box",
         "x": [
          "Developer",
          "Developer",
          "Developer",
          "Developer",
          "Developer",
          "Developer",
          "Developer",
          "Senior Developer",
          "Developer",
          "Developer",
          "Developer",
          "Developer",
          "Developer",
          "Developer",
          "Developer",
          "Developer",
          "Developer",
          "Developer",
          "Developer",
          "Senior Developer",
          "Developer",
          "Developer",
          "Developer",
          "Developer",
          "Senior Developer",
          "Developer",
          "Developer",
          "Developer",
          "Developer",
          "Developer",
          "Developer",
          "Developer",
          "Developer",
          "Developer",
          "Developer",
          "Senior Developer",
          "Developer",
          "Senior Developer",
          "Developer",
          "Senior Developer",
          "Developer",
          "Senior Developer",
          "Senior Developer",
          "Developer",
          "Developer",
          "Developer",
          "Developer",
          "Developer",
          "Developer",
          "Developer",
          "Senior Developer",
          "Senior Developer",
          "Senior Developer",
          "Developer",
          "Senior Developer",
          "Developer",
          "Developer",
          "Developer",
          "Senior Developer",
          "Senior Developer",
          "Developer",
          "Developer",
          "Developer",
          "Developer",
          "Developer",
          "Developer",
          "Senior Developer",
          "Senior Developer",
          "Developer",
          "Senior Developer",
          "Developer",
          "Developer",
          "Developer",
          "Senior Developer",
          "Developer",
          "Developer",
          "Technical Architect",
          "Technical Architect",
          "Developer",
          "Developer",
          "Technical Architect",
          "Technical Architect",
          "Technical Architect",
          "Business Analyst",
          "Business Analyst",
          "Developer",
          "Developer",
          "Developer",
          "Business Analyst",
          "Business Analyst",
          "Developer",
          "Business Analyst",
          "Developer",
          "Developer",
          "Developer",
          "Business Analyst",
          "Developer",
          "Business Analyst",
          "Developer",
          "Developer",
          "Developer",
          "Developer",
          "Developer",
          "Business Analyst",
          "Business Analyst",
          "Business Analyst",
          "Developer",
          "Business Analyst",
          "Business Analyst",
          "Business Analyst",
          "Developer",
          "Developer",
          "Developer",
          "Developer",
          "Developer",
          "Developer",
          "Technical Lead",
          "Developer",
          "Developer",
          "Technical Lead",
          "Developer",
          "Technical Lead",
          "Developer",
          "Developer",
          "Developer",
          "Technical Lead",
          "Technical Lead",
          "Developer",
          "Technical Lead",
          "Technical Lead",
          "Developer",
          "Developer",
          "Developer",
          "Technical Lead",
          "Developer",
          "Developer",
          "Technical Lead",
          "Developer",
          "Developer",
          "Technical Lead",
          "Developer",
          "Developer",
          "Developer",
          "Technical Lead",
          "Technical Lead",
          "Developer",
          "Developer",
          "Developer",
          "Technical Lead",
          "Technical Lead",
          "Developer",
          "Technical Lead",
          "Developer",
          "Developer",
          "Technical Lead",
          "Developer",
          "Technical Lead",
          "Technical Lead",
          "Developer",
          "Developer",
          "Technical Lead",
          "Developer",
          "Developer",
          "Developer",
          "Technical Lead",
          "Developer",
          "Developer",
          "Developer",
          "Developer",
          "Technical Lead",
          "Developer",
          "Developer",
          "Technical Lead",
          "Developer",
          "Developer",
          "Technical Lead",
          "Technical Lead",
          "Developer",
          "Technical Lead",
          "Developer",
          "Developer",
          "Developer",
          "Technical Lead",
          "Technical Lead",
          "Technical Lead",
          "Developer",
          "Developer",
          "Technical Lead",
          "Developer",
          "Developer",
          "Developer",
          "Developer",
          "Technical Lead",
          "Technical Lead",
          "Technical Lead",
          "Delivery Manager",
          "Developer",
          "Delivery Manager",
          "Developer",
          "Delivery Manager",
          "Developer",
          "Delivery Manager",
          "Delivery Manager",
          "Developer",
          "Developer",
          "Delivery Manager",
          "Developer",
          "Delivery Manager",
          "Developer",
          "Delivery Manager",
          "Developer",
          "Delivery Manager",
          "Developer",
          "Delivery Manager",
          "Developer",
          "Delivery Manager",
          "Delivery Manager",
          "Developer",
          "Developer",
          "Senior Developer",
          "Developer",
          "Senior Developer",
          "Developer",
          "Developer",
          "Developer",
          "Developer",
          "Senior Developer",
          "Senior Developer",
          "Developer",
          "Senior Developer",
          "Developer",
          "Senior Developer",
          "Developer",
          "Developer",
          "Senior Developer",
          "Senior Developer",
          "Senior Developer",
          "Developer",
          "Developer",
          "Developer",
          "Developer",
          "Developer",
          "Senior Developer",
          "Developer",
          "Developer",
          "Developer",
          "Developer",
          "Developer",
          "Developer",
          "Senior Developer",
          "Senior Developer",
          "Senior Developer",
          "Developer",
          "Developer",
          "Senior Developer",
          "Developer",
          "Developer",
          "Senior Developer",
          "Developer",
          "Developer",
          "Senior Developer",
          "Senior Developer"
         ],
         "xaxis": "x5",
         "yaxis": "y5"
        },
        {
         "alignmentgroup": "True",
         "bingroup": "x",
         "hovertemplate": "Performance Rating=2<br>Emp Job Role=%{x}<br>count=%{y}<extra></extra>",
         "legendgroup": "",
         "marker": {
          "color": "#1F77B4",
          "pattern": {
           "shape": ""
          }
         },
         "name": "",
         "nbinsx": 80,
         "offsetgroup": "",
         "orientation": "v",
         "showlegend": false,
         "type": "histogram",
         "x": [
          "Developer",
          "Developer",
          "Senior Developer",
          "Senior Developer",
          "Developer",
          "Technical Lead",
          "Developer",
          "Developer",
          "Developer",
          "Senior Developer",
          "Senior Developer"
         ],
         "xaxis": "x3",
         "yaxis": "y3"
        },
        {
         "alignmentgroup": "True",
         "hovertemplate": "Performance Rating=2<br>Emp Job Role=%{x}<extra></extra>",
         "legendgroup": "",
         "marker": {
          "color": "#1F77B4"
         },
         "name": "",
         "notched": true,
         "offsetgroup": "",
         "showlegend": false,
         "type": "box",
         "x": [
          "Developer",
          "Developer",
          "Senior Developer",
          "Senior Developer",
          "Developer",
          "Technical Lead",
          "Developer",
          "Developer",
          "Developer",
          "Senior Developer",
          "Senior Developer"
         ],
         "xaxis": "x6",
         "yaxis": "y6"
        }
       ],
       "layout": {
        "annotations": [
         {
          "font": {},
          "showarrow": false,
          "text": "Performance Rating=4",
          "x": 0.15999999999999998,
          "xanchor": "center",
          "xref": "paper",
          "y": 1,
          "yanchor": "bottom",
          "yref": "paper"
         },
         {
          "font": {},
          "showarrow": false,
          "text": "Performance Rating=3",
          "x": 0.49999999999999994,
          "xanchor": "center",
          "xref": "paper",
          "y": 1,
          "yanchor": "bottom",
          "yref": "paper"
         },
         {
          "font": {},
          "showarrow": false,
          "text": "Performance Rating=2",
          "x": 0.8399999999999999,
          "xanchor": "center",
          "xref": "paper",
          "y": 1,
          "yanchor": "bottom",
          "yref": "paper"
         }
        ],
        "barmode": "relative",
        "legend": {
         "tracegroupgap": 0
        },
        "template": {
         "data": {
          "pie": [
           {
            "automargin": true,
            "type": "pie"
           }
          ]
         },
         "layout": {
          "xaxis": {
           "showgrid": true,
           "title": {
            "standoff": 15
           }
          },
          "yaxis": {
           "showgrid": true,
           "title": {
            "standoff": 15
           }
          }
         }
        },
        "title": {
         "text": "Analysing Performance Rating of Development Department"
        },
        "xaxis": {
         "anchor": "y",
         "domain": [
          0,
          0.31999999999999995
         ],
         "title": {
          "text": "Emp Job Role"
         }
        },
        "xaxis2": {
         "anchor": "y2",
         "domain": [
          0.33999999999999997,
          0.6599999999999999
         ],
         "matches": "x",
         "title": {
          "text": "Emp Job Role"
         }
        },
        "xaxis3": {
         "anchor": "y3",
         "domain": [
          0.6799999999999999,
          0.9999999999999999
         ],
         "matches": "x",
         "title": {
          "text": "Emp Job Role"
         }
        },
        "xaxis4": {
         "anchor": "y4",
         "domain": [
          0,
          0.31999999999999995
         ],
         "matches": "x",
         "showticklabels": false
        },
        "xaxis5": {
         "anchor": "y5",
         "domain": [
          0.33999999999999997,
          0.6599999999999999
         ],
         "matches": "x",
         "showticklabels": false
        },
        "xaxis6": {
         "anchor": "y6",
         "domain": [
          0.6799999999999999,
          0.9999999999999999
         ],
         "matches": "x",
         "showticklabels": false
        },
        "yaxis": {
         "anchor": "x",
         "domain": [
          0,
          0.8316
         ],
         "title": {
          "text": "count"
         }
        },
        "yaxis2": {
         "anchor": "x2",
         "domain": [
          0,
          0.8316
         ],
         "matches": "y",
         "showticklabels": false
        },
        "yaxis3": {
         "anchor": "x3",
         "domain": [
          0,
          0.8316
         ],
         "matches": "y",
         "showticklabels": false
        },
        "yaxis4": {
         "anchor": "x4",
         "domain": [
          0.8416,
          1
         ],
         "matches": "y4",
         "showline": false,
         "showticklabels": false,
         "ticks": ""
        },
        "yaxis5": {
         "anchor": "x5",
         "domain": [
          0.8416,
          1
         ],
         "matches": "y4",
         "showline": false,
         "showticklabels": false,
         "ticks": ""
        },
        "yaxis6": {
         "anchor": "x6",
         "domain": [
          0.8416,
          1
         ],
         "matches": "y4",
         "showline": false,
         "showticklabels": false,
         "ticks": ""
        }
       }
      },
      "text/html": [
       "<div>                            <div id=\"38a6d873-6cc6-4c6c-967d-7aa4dd51d232\" class=\"plotly-graph-div\" style=\"height:525px; width:100%;\"></div>            <script type=\"text/javascript\">                require([\"plotly\"], function(Plotly) {                    window.PLOTLYENV=window.PLOTLYENV || {};                                    if (document.getElementById(\"38a6d873-6cc6-4c6c-967d-7aa4dd51d232\")) {                    Plotly.newPlot(                        \"38a6d873-6cc6-4c6c-967d-7aa4dd51d232\",                        [{\"alignmentgroup\":\"True\",\"bingroup\":\"x\",\"hovertemplate\":\"Performance Rating=4<br>Emp Job Role=%{x}<br>count=%{y}<extra></extra>\",\"legendgroup\":\"\",\"marker\":{\"color\":\"#1F77B4\",\"pattern\":{\"shape\":\"\"}},\"name\":\"\",\"nbinsx\":80,\"offsetgroup\":\"\",\"orientation\":\"v\",\"showlegend\":false,\"x\":[\"Developer\",\"Developer\",\"Developer\",\"Senior Developer\",\"Senior Developer\",\"Developer\",\"Developer\",\"Senior Developer\",\"Developer\",\"Senior Developer\",\"Senior Developer\",\"Senior Developer\",\"Developer\",\"Developer\",\"Developer\",\"Business Analyst\",\"Business Analyst\",\"Developer\",\"Developer\",\"Developer\",\"Developer\",\"Developer\",\"Technical Lead\",\"Developer\",\"Technical Lead\",\"Developer\",\"Technical Lead\",\"Developer\",\"Technical Lead\",\"Developer\",\"Developer\",\"Developer\",\"Developer\",\"Developer\",\"Developer\",\"Developer\",\"Developer\"],\"xaxis\":\"x\",\"yaxis\":\"y\",\"type\":\"histogram\"},{\"alignmentgroup\":\"True\",\"hovertemplate\":\"Performance Rating=4<br>Emp Job Role=%{x}<extra></extra>\",\"legendgroup\":\"\",\"marker\":{\"color\":\"#1F77B4\"},\"name\":\"\",\"notched\":true,\"offsetgroup\":\"\",\"showlegend\":false,\"x\":[\"Developer\",\"Developer\",\"Developer\",\"Senior Developer\",\"Senior Developer\",\"Developer\",\"Developer\",\"Senior Developer\",\"Developer\",\"Senior Developer\",\"Senior Developer\",\"Senior Developer\",\"Developer\",\"Developer\",\"Developer\",\"Business Analyst\",\"Business Analyst\",\"Developer\",\"Developer\",\"Developer\",\"Developer\",\"Developer\",\"Technical Lead\",\"Developer\",\"Technical Lead\",\"Developer\",\"Technical Lead\",\"Developer\",\"Technical Lead\",\"Developer\",\"Developer\",\"Developer\",\"Developer\",\"Developer\",\"Developer\",\"Developer\",\"Developer\"],\"xaxis\":\"x4\",\"yaxis\":\"y4\",\"type\":\"box\"},{\"alignmentgroup\":\"True\",\"bingroup\":\"x\",\"hovertemplate\":\"Performance Rating=3<br>Emp Job Role=%{x}<br>count=%{y}<extra></extra>\",\"legendgroup\":\"\",\"marker\":{\"color\":\"#1F77B4\",\"pattern\":{\"shape\":\"\"}},\"name\":\"\",\"nbinsx\":80,\"offsetgroup\":\"\",\"orientation\":\"v\",\"showlegend\":false,\"x\":[\"Developer\",\"Developer\",\"Developer\",\"Developer\",\"Developer\",\"Developer\",\"Developer\",\"Senior Developer\",\"Developer\",\"Developer\",\"Developer\",\"Developer\",\"Developer\",\"Developer\",\"Developer\",\"Developer\",\"Developer\",\"Developer\",\"Developer\",\"Senior Developer\",\"Developer\",\"Developer\",\"Developer\",\"Developer\",\"Senior Developer\",\"Developer\",\"Developer\",\"Developer\",\"Developer\",\"Developer\",\"Developer\",\"Developer\",\"Developer\",\"Developer\",\"Developer\",\"Senior Developer\",\"Developer\",\"Senior Developer\",\"Developer\",\"Senior Developer\",\"Developer\",\"Senior Developer\",\"Senior Developer\",\"Developer\",\"Developer\",\"Developer\",\"Developer\",\"Developer\",\"Developer\",\"Developer\",\"Senior Developer\",\"Senior Developer\",\"Senior Developer\",\"Developer\",\"Senior Developer\",\"Developer\",\"Developer\",\"Developer\",\"Senior Developer\",\"Senior Developer\",\"Developer\",\"Developer\",\"Developer\",\"Developer\",\"Developer\",\"Developer\",\"Senior Developer\",\"Senior Developer\",\"Developer\",\"Senior Developer\",\"Developer\",\"Developer\",\"Developer\",\"Senior Developer\",\"Developer\",\"Developer\",\"Technical Architect\",\"Technical Architect\",\"Developer\",\"Developer\",\"Technical Architect\",\"Technical Architect\",\"Technical Architect\",\"Business Analyst\",\"Business Analyst\",\"Developer\",\"Developer\",\"Developer\",\"Business Analyst\",\"Business Analyst\",\"Developer\",\"Business Analyst\",\"Developer\",\"Developer\",\"Developer\",\"Business Analyst\",\"Developer\",\"Business Analyst\",\"Developer\",\"Developer\",\"Developer\",\"Developer\",\"Developer\",\"Business Analyst\",\"Business Analyst\",\"Business Analyst\",\"Developer\",\"Business Analyst\",\"Business Analyst\",\"Business Analyst\",\"Developer\",\"Developer\",\"Developer\",\"Developer\",\"Developer\",\"Developer\",\"Technical Lead\",\"Developer\",\"Developer\",\"Technical Lead\",\"Developer\",\"Technical Lead\",\"Developer\",\"Developer\",\"Developer\",\"Technical Lead\",\"Technical Lead\",\"Developer\",\"Technical Lead\",\"Technical Lead\",\"Developer\",\"Developer\",\"Developer\",\"Technical Lead\",\"Developer\",\"Developer\",\"Technical Lead\",\"Developer\",\"Developer\",\"Technical Lead\",\"Developer\",\"Developer\",\"Developer\",\"Technical Lead\",\"Technical Lead\",\"Developer\",\"Developer\",\"Developer\",\"Technical Lead\",\"Technical Lead\",\"Developer\",\"Technical Lead\",\"Developer\",\"Developer\",\"Technical Lead\",\"Developer\",\"Technical Lead\",\"Technical Lead\",\"Developer\",\"Developer\",\"Technical Lead\",\"Developer\",\"Developer\",\"Developer\",\"Technical Lead\",\"Developer\",\"Developer\",\"Developer\",\"Developer\",\"Technical Lead\",\"Developer\",\"Developer\",\"Technical Lead\",\"Developer\",\"Developer\",\"Technical Lead\",\"Technical Lead\",\"Developer\",\"Technical Lead\",\"Developer\",\"Developer\",\"Developer\",\"Technical Lead\",\"Technical Lead\",\"Technical Lead\",\"Developer\",\"Developer\",\"Technical Lead\",\"Developer\",\"Developer\",\"Developer\",\"Developer\",\"Technical Lead\",\"Technical Lead\",\"Technical Lead\",\"Delivery Manager\",\"Developer\",\"Delivery Manager\",\"Developer\",\"Delivery Manager\",\"Developer\",\"Delivery Manager\",\"Delivery Manager\",\"Developer\",\"Developer\",\"Delivery Manager\",\"Developer\",\"Delivery Manager\",\"Developer\",\"Delivery Manager\",\"Developer\",\"Delivery Manager\",\"Developer\",\"Delivery Manager\",\"Developer\",\"Delivery Manager\",\"Delivery Manager\",\"Developer\",\"Developer\",\"Senior Developer\",\"Developer\",\"Senior Developer\",\"Developer\",\"Developer\",\"Developer\",\"Developer\",\"Senior Developer\",\"Senior Developer\",\"Developer\",\"Senior Developer\",\"Developer\",\"Senior Developer\",\"Developer\",\"Developer\",\"Senior Developer\",\"Senior Developer\",\"Senior Developer\",\"Developer\",\"Developer\",\"Developer\",\"Developer\",\"Developer\",\"Senior Developer\",\"Developer\",\"Developer\",\"Developer\",\"Developer\",\"Developer\",\"Developer\",\"Senior Developer\",\"Senior Developer\",\"Senior Developer\",\"Developer\",\"Developer\",\"Senior Developer\",\"Developer\",\"Developer\",\"Senior Developer\",\"Developer\",\"Developer\",\"Senior Developer\",\"Senior Developer\"],\"xaxis\":\"x2\",\"yaxis\":\"y2\",\"type\":\"histogram\"},{\"alignmentgroup\":\"True\",\"hovertemplate\":\"Performance Rating=3<br>Emp Job Role=%{x}<extra></extra>\",\"legendgroup\":\"\",\"marker\":{\"color\":\"#1F77B4\"},\"name\":\"\",\"notched\":true,\"offsetgroup\":\"\",\"showlegend\":false,\"x\":[\"Developer\",\"Developer\",\"Developer\",\"Developer\",\"Developer\",\"Developer\",\"Developer\",\"Senior Developer\",\"Developer\",\"Developer\",\"Developer\",\"Developer\",\"Developer\",\"Developer\",\"Developer\",\"Developer\",\"Developer\",\"Developer\",\"Developer\",\"Senior Developer\",\"Developer\",\"Developer\",\"Developer\",\"Developer\",\"Senior Developer\",\"Developer\",\"Developer\",\"Developer\",\"Developer\",\"Developer\",\"Developer\",\"Developer\",\"Developer\",\"Developer\",\"Developer\",\"Senior Developer\",\"Developer\",\"Senior Developer\",\"Developer\",\"Senior Developer\",\"Developer\",\"Senior Developer\",\"Senior Developer\",\"Developer\",\"Developer\",\"Developer\",\"Developer\",\"Developer\",\"Developer\",\"Developer\",\"Senior Developer\",\"Senior Developer\",\"Senior Developer\",\"Developer\",\"Senior Developer\",\"Developer\",\"Developer\",\"Developer\",\"Senior Developer\",\"Senior Developer\",\"Developer\",\"Developer\",\"Developer\",\"Developer\",\"Developer\",\"Developer\",\"Senior Developer\",\"Senior Developer\",\"Developer\",\"Senior Developer\",\"Developer\",\"Developer\",\"Developer\",\"Senior Developer\",\"Developer\",\"Developer\",\"Technical Architect\",\"Technical Architect\",\"Developer\",\"Developer\",\"Technical Architect\",\"Technical Architect\",\"Technical Architect\",\"Business Analyst\",\"Business Analyst\",\"Developer\",\"Developer\",\"Developer\",\"Business Analyst\",\"Business Analyst\",\"Developer\",\"Business Analyst\",\"Developer\",\"Developer\",\"Developer\",\"Business Analyst\",\"Developer\",\"Business Analyst\",\"Developer\",\"Developer\",\"Developer\",\"Developer\",\"Developer\",\"Business Analyst\",\"Business Analyst\",\"Business Analyst\",\"Developer\",\"Business Analyst\",\"Business Analyst\",\"Business Analyst\",\"Developer\",\"Developer\",\"Developer\",\"Developer\",\"Developer\",\"Developer\",\"Technical Lead\",\"Developer\",\"Developer\",\"Technical Lead\",\"Developer\",\"Technical Lead\",\"Developer\",\"Developer\",\"Developer\",\"Technical Lead\",\"Technical Lead\",\"Developer\",\"Technical Lead\",\"Technical Lead\",\"Developer\",\"Developer\",\"Developer\",\"Technical Lead\",\"Developer\",\"Developer\",\"Technical Lead\",\"Developer\",\"Developer\",\"Technical Lead\",\"Developer\",\"Developer\",\"Developer\",\"Technical Lead\",\"Technical Lead\",\"Developer\",\"Developer\",\"Developer\",\"Technical Lead\",\"Technical Lead\",\"Developer\",\"Technical Lead\",\"Developer\",\"Developer\",\"Technical Lead\",\"Developer\",\"Technical Lead\",\"Technical Lead\",\"Developer\",\"Developer\",\"Technical Lead\",\"Developer\",\"Developer\",\"Developer\",\"Technical Lead\",\"Developer\",\"Developer\",\"Developer\",\"Developer\",\"Technical Lead\",\"Developer\",\"Developer\",\"Technical Lead\",\"Developer\",\"Developer\",\"Technical Lead\",\"Technical Lead\",\"Developer\",\"Technical Lead\",\"Developer\",\"Developer\",\"Developer\",\"Technical Lead\",\"Technical Lead\",\"Technical Lead\",\"Developer\",\"Developer\",\"Technical Lead\",\"Developer\",\"Developer\",\"Developer\",\"Developer\",\"Technical Lead\",\"Technical Lead\",\"Technical Lead\",\"Delivery Manager\",\"Developer\",\"Delivery Manager\",\"Developer\",\"Delivery Manager\",\"Developer\",\"Delivery Manager\",\"Delivery Manager\",\"Developer\",\"Developer\",\"Delivery Manager\",\"Developer\",\"Delivery Manager\",\"Developer\",\"Delivery Manager\",\"Developer\",\"Delivery Manager\",\"Developer\",\"Delivery Manager\",\"Developer\",\"Delivery Manager\",\"Delivery Manager\",\"Developer\",\"Developer\",\"Senior Developer\",\"Developer\",\"Senior Developer\",\"Developer\",\"Developer\",\"Developer\",\"Developer\",\"Senior Developer\",\"Senior Developer\",\"Developer\",\"Senior Developer\",\"Developer\",\"Senior Developer\",\"Developer\",\"Developer\",\"Senior Developer\",\"Senior Developer\",\"Senior Developer\",\"Developer\",\"Developer\",\"Developer\",\"Developer\",\"Developer\",\"Senior Developer\",\"Developer\",\"Developer\",\"Developer\",\"Developer\",\"Developer\",\"Developer\",\"Senior Developer\",\"Senior Developer\",\"Senior Developer\",\"Developer\",\"Developer\",\"Senior Developer\",\"Developer\",\"Developer\",\"Senior Developer\",\"Developer\",\"Developer\",\"Senior Developer\",\"Senior Developer\"],\"xaxis\":\"x5\",\"yaxis\":\"y5\",\"type\":\"box\"},{\"alignmentgroup\":\"True\",\"bingroup\":\"x\",\"hovertemplate\":\"Performance Rating=2<br>Emp Job Role=%{x}<br>count=%{y}<extra></extra>\",\"legendgroup\":\"\",\"marker\":{\"color\":\"#1F77B4\",\"pattern\":{\"shape\":\"\"}},\"name\":\"\",\"nbinsx\":80,\"offsetgroup\":\"\",\"orientation\":\"v\",\"showlegend\":false,\"x\":[\"Developer\",\"Developer\",\"Senior Developer\",\"Senior Developer\",\"Developer\",\"Technical Lead\",\"Developer\",\"Developer\",\"Developer\",\"Senior Developer\",\"Senior Developer\"],\"xaxis\":\"x3\",\"yaxis\":\"y3\",\"type\":\"histogram\"},{\"alignmentgroup\":\"True\",\"hovertemplate\":\"Performance Rating=2<br>Emp Job Role=%{x}<extra></extra>\",\"legendgroup\":\"\",\"marker\":{\"color\":\"#1F77B4\"},\"name\":\"\",\"notched\":true,\"offsetgroup\":\"\",\"showlegend\":false,\"x\":[\"Developer\",\"Developer\",\"Senior Developer\",\"Senior Developer\",\"Developer\",\"Technical Lead\",\"Developer\",\"Developer\",\"Developer\",\"Senior Developer\",\"Senior Developer\"],\"xaxis\":\"x6\",\"yaxis\":\"y6\",\"type\":\"box\"}],                        {\"template\":{\"data\":{\"pie\":[{\"automargin\":true,\"type\":\"pie\"}]},\"layout\":{\"xaxis\":{\"showgrid\":true,\"title\":{\"standoff\":15}},\"yaxis\":{\"showgrid\":true,\"title\":{\"standoff\":15}}}},\"xaxis\":{\"anchor\":\"y\",\"domain\":[0.0,0.31999999999999995],\"title\":{\"text\":\"Emp Job Role\"}},\"yaxis\":{\"anchor\":\"x\",\"domain\":[0.0,0.8316],\"title\":{\"text\":\"count\"}},\"xaxis2\":{\"anchor\":\"y2\",\"domain\":[0.33999999999999997,0.6599999999999999],\"matches\":\"x\",\"title\":{\"text\":\"Emp Job Role\"}},\"yaxis2\":{\"anchor\":\"x2\",\"domain\":[0.0,0.8316],\"matches\":\"y\",\"showticklabels\":false},\"xaxis3\":{\"anchor\":\"y3\",\"domain\":[0.6799999999999999,0.9999999999999999],\"matches\":\"x\",\"title\":{\"text\":\"Emp Job Role\"}},\"yaxis3\":{\"anchor\":\"x3\",\"domain\":[0.0,0.8316],\"matches\":\"y\",\"showticklabels\":false},\"xaxis4\":{\"anchor\":\"y4\",\"domain\":[0.0,0.31999999999999995],\"matches\":\"x\",\"showticklabels\":false},\"yaxis4\":{\"anchor\":\"x4\",\"domain\":[0.8416,1.0],\"matches\":\"y4\",\"showticklabels\":false,\"showline\":false,\"ticks\":\"\"},\"xaxis5\":{\"anchor\":\"y5\",\"domain\":[0.33999999999999997,0.6599999999999999],\"matches\":\"x\",\"showticklabels\":false},\"yaxis5\":{\"anchor\":\"x5\",\"domain\":[0.8416,1.0],\"matches\":\"y4\",\"showticklabels\":false,\"showline\":false,\"ticks\":\"\"},\"xaxis6\":{\"anchor\":\"y6\",\"domain\":[0.6799999999999999,0.9999999999999999],\"matches\":\"x\",\"showticklabels\":false},\"yaxis6\":{\"anchor\":\"x6\",\"domain\":[0.8416,1.0],\"matches\":\"y4\",\"showticklabels\":false,\"showline\":false,\"ticks\":\"\"},\"annotations\":[{\"font\":{},\"showarrow\":false,\"text\":\"Performance Rating=4\",\"x\":0.15999999999999998,\"xanchor\":\"center\",\"xref\":\"paper\",\"y\":1.0,\"yanchor\":\"bottom\",\"yref\":\"paper\"},{\"font\":{},\"showarrow\":false,\"text\":\"Performance Rating=3\",\"x\":0.49999999999999994,\"xanchor\":\"center\",\"xref\":\"paper\",\"y\":1.0,\"yanchor\":\"bottom\",\"yref\":\"paper\"},{\"font\":{},\"showarrow\":false,\"text\":\"Performance Rating=2\",\"x\":0.8399999999999999,\"xanchor\":\"center\",\"xref\":\"paper\",\"y\":1.0,\"yanchor\":\"bottom\",\"yref\":\"paper\"}],\"legend\":{\"tracegroupgap\":0},\"title\":{\"text\":\"Analysing Performance Rating of Development Department\"},\"barmode\":\"relative\"},                        {\"responsive\": true}                    ).then(function(){\n",
       "                            \n",
       "var gd = document.getElementById('38a6d873-6cc6-4c6c-967d-7aa4dd51d232');\n",
       "var x = new MutationObserver(function (mutations, observer) {{\n",
       "        var display = window.getComputedStyle(gd).display;\n",
       "        if (!display || display === 'none') {{\n",
       "            console.log([gd, 'removed!']);\n",
       "            Plotly.purge(gd);\n",
       "            observer.disconnect();\n",
       "        }}\n",
       "}});\n",
       "\n",
       "// Listen for the removal of the full notebook cells\n",
       "var notebookContainer = gd.closest('#notebook-container');\n",
       "if (notebookContainer) {{\n",
       "    x.observe(notebookContainer, {childList: true});\n",
       "}}\n",
       "\n",
       "// Listen for the clearing of the current output cell\n",
       "var outputEl = gd.closest('.output');\n",
       "if (outputEl) {{\n",
       "    x.observe(outputEl, {childList: true});\n",
       "}}\n",
       "\n",
       "                        })                };                });            </script>        </div>"
      ]
     },
     "metadata": {},
     "output_type": "display_data"
    },
    {
     "data": {
      "text/plain": [
       "<Figure size 720x432 with 0 Axes>"
      ]
     },
     "metadata": {},
     "output_type": "display_data"
    }
   ],
   "source": [
    "#Development-Team distribution\n",
    "\n",
    "plt.figure(figsize=(10,6))\n",
    "fig = px.histogram(df_development, x='EmpJobRole', facet_col='PerformanceRating', facet_col_wrap=0, nbins=80, labels={'EmpJobRole':'Emp Job Role', 'PerformanceRating':'Performance Rating'}, title='Analysing Performance Rating of Development Department', template='gridon', marginal='box')\n",
    "fig.show()\n",
    "\n",
    "# It is observed that maximum employees of Development department have Performance ratig 3."
   ]
  },
  {
   "cell_type": "code",
   "execution_count": 160,
   "id": "4e599dce",
   "metadata": {},
   "outputs": [
    {
     "data": {
      "application/vnd.plotly.v1+json": {
       "config": {
        "plotlyServerURL": "https://plot.ly"
       },
       "data": [
        {
         "branchvalues": "total",
         "domain": {
          "x": [
           0,
           1
          ],
          "y": [
           0,
           1
          ]
         },
         "hovertemplate": "labels=%{label}<br>count=%{value}<br>parent=%{parent}<br>id=%{id}<extra></extra>",
         "ids": [
          "3/Business Analyst/0",
          "3/Delivery Manager/0",
          "3/Developer/0",
          "4/Developer/0",
          "3/Senior Developer/0",
          "4/Senior Developer/0",
          "3/Technical Architect/0",
          "3/Technical Lead/0",
          "4/Technical Lead/0",
          "3/Business Analyst/1",
          "3/Delivery Manager/1",
          "3/Developer/1",
          "3/Senior Developer/1",
          "3/Technical Architect/1",
          "3/Technical Lead/1",
          "3/Business Analyst/2",
          "3/Delivery Manager/2",
          "2/Developer/2",
          "3/Developer/2",
          "4/Developer/2",
          "2/Senior Developer/2",
          "3/Senior Developer/2",
          "4/Senior Developer/2",
          "2/Technical Lead/2",
          "3/Technical Lead/2",
          "4/Technical Lead/2",
          "3/Business Analyst/3",
          "4/Business Analyst/3",
          "2/Developer/3",
          "3/Developer/3",
          "4/Developer/3",
          "4/Senior Developer/3",
          "3/Technical Architect/3",
          "3/Technical Lead/3",
          "3/Business Analyst/4",
          "4/Business Analyst/4",
          "3/Delivery Manager/4",
          "3/Developer/4",
          "4/Developer/4",
          "3/Senior Developer/4",
          "4/Senior Developer/4",
          "3/Technical Architect/4",
          "3/Technical Lead/4",
          "4/Technical Lead/4",
          "3/Developer/5",
          "2/Developer/6",
          "3/Developer/6",
          "4/Developer/6",
          "2/Senior Developer/6",
          "3/Senior Developer/6",
          "3/Business Analyst/7",
          "3/Delivery Manager/7",
          "3/Developer/7",
          "4/Developer/7",
          "3/Senior Developer/7",
          "4/Senior Developer/7",
          "3/Technical Lead/7",
          "3/Business Analyst/8",
          "3/Developer/8",
          "4/Developer/8",
          "2/Senior Developer/8",
          "3/Senior Developer/8",
          "3/Technical Lead/8",
          "3/Delivery Manager/9",
          "2/Developer/9",
          "3/Developer/9",
          "4/Developer/9",
          "3/Senior Developer/9",
          "3/Technical Lead/9",
          "3/Delivery Manager/10",
          "3/Developer/10",
          "3/Technical Lead/10",
          "3/Developer/11",
          "4/Developer/11",
          "3/Senior Developer/11",
          "3/Technical Lead/11",
          "2/Developer/12",
          "3/Developer/12",
          "3/Delivery Manager/13",
          "3/Developer/13",
          "3/Developer/15",
          "3/Delivery Manager/17",
          "3/Developer/17",
          "3/Business Analyst",
          "4/Business Analyst",
          "3/Delivery Manager",
          "2/Developer",
          "3/Developer",
          "4/Developer",
          "2/Senior Developer",
          "3/Senior Developer",
          "4/Senior Developer",
          "3/Technical Architect",
          "2/Technical Lead",
          "3/Technical Lead",
          "4/Technical Lead",
          "2",
          "3",
          "4"
         ],
         "labels": [
          "0",
          "0",
          "0",
          "0",
          "0",
          "0",
          "0",
          "0",
          "0",
          "1",
          "1",
          "1",
          "1",
          "1",
          "1",
          "2",
          "2",
          "2",
          "2",
          "2",
          "2",
          "2",
          "2",
          "2",
          "2",
          "2",
          "3",
          "3",
          "3",
          "3",
          "3",
          "3",
          "3",
          "3",
          "4",
          "4",
          "4",
          "4",
          "4",
          "4",
          "4",
          "4",
          "4",
          "4",
          "5",
          "6",
          "6",
          "6",
          "6",
          "6",
          "7",
          "7",
          "7",
          "7",
          "7",
          "7",
          "7",
          "8",
          "8",
          "8",
          "8",
          "8",
          "8",
          "9",
          "9",
          "9",
          "9",
          "9",
          "9",
          "10",
          "10",
          "10",
          "11",
          "11",
          "11",
          "11",
          "12",
          "12",
          "13",
          "13",
          "15",
          "17",
          "17",
          "Business Analyst",
          "Business Analyst",
          "Delivery Manager",
          "Developer",
          "Developer",
          "Developer",
          "Senior Developer",
          "Senior Developer",
          "Senior Developer",
          "Technical Architect",
          "Technical Lead",
          "Technical Lead",
          "Technical Lead",
          "2",
          "3",
          "4"
         ],
         "name": "",
         "parents": [
          "3/Business Analyst",
          "3/Delivery Manager",
          "3/Developer",
          "4/Developer",
          "3/Senior Developer",
          "4/Senior Developer",
          "3/Technical Architect",
          "3/Technical Lead",
          "4/Technical Lead",
          "3/Business Analyst",
          "3/Delivery Manager",
          "3/Developer",
          "3/Senior Developer",
          "3/Technical Architect",
          "3/Technical Lead",
          "3/Business Analyst",
          "3/Delivery Manager",
          "2/Developer",
          "3/Developer",
          "4/Developer",
          "2/Senior Developer",
          "3/Senior Developer",
          "4/Senior Developer",
          "2/Technical Lead",
          "3/Technical Lead",
          "4/Technical Lead",
          "3/Business Analyst",
          "4/Business Analyst",
          "2/Developer",
          "3/Developer",
          "4/Developer",
          "4/Senior Developer",
          "3/Technical Architect",
          "3/Technical Lead",
          "3/Business Analyst",
          "4/Business Analyst",
          "3/Delivery Manager",
          "3/Developer",
          "4/Developer",
          "3/Senior Developer",
          "4/Senior Developer",
          "3/Technical Architect",
          "3/Technical Lead",
          "4/Technical Lead",
          "3/Developer",
          "2/Developer",
          "3/Developer",
          "4/Developer",
          "2/Senior Developer",
          "3/Senior Developer",
          "3/Business Analyst",
          "3/Delivery Manager",
          "3/Developer",
          "4/Developer",
          "3/Senior Developer",
          "4/Senior Developer",
          "3/Technical Lead",
          "3/Business Analyst",
          "3/Developer",
          "4/Developer",
          "2/Senior Developer",
          "3/Senior Developer",
          "3/Technical Lead",
          "3/Delivery Manager",
          "2/Developer",
          "3/Developer",
          "4/Developer",
          "3/Senior Developer",
          "3/Technical Lead",
          "3/Delivery Manager",
          "3/Developer",
          "3/Technical Lead",
          "3/Developer",
          "4/Developer",
          "3/Senior Developer",
          "3/Technical Lead",
          "2/Developer",
          "3/Developer",
          "3/Delivery Manager",
          "3/Developer",
          "3/Developer",
          "3/Delivery Manager",
          "3/Developer",
          "3",
          "4",
          "3",
          "2",
          "3",
          "4",
          "2",
          "3",
          "4",
          "3",
          "2",
          "3",
          "4",
          "",
          "",
          ""
         ],
         "type": "sunburst",
         "values": [
          4,
          2,
          27,
          7,
          5,
          2,
          1,
          2,
          1,
          1,
          1,
          8,
          3,
          1,
          3,
          2,
          2,
          2,
          45,
          5,
          2,
          7,
          1,
          1,
          9,
          2,
          1,
          1,
          1,
          18,
          1,
          1,
          2,
          4,
          1,
          1,
          1,
          9,
          2,
          3,
          1,
          1,
          1,
          1,
          8,
          1,
          1,
          1,
          1,
          1,
          2,
          2,
          12,
          4,
          7,
          1,
          7,
          2,
          14,
          3,
          1,
          7,
          2,
          1,
          1,
          8,
          1,
          1,
          2,
          1,
          4,
          1,
          3,
          1,
          1,
          1,
          1,
          2,
          1,
          1,
          3,
          1,
          2,
          13,
          2,
          12,
          6,
          165,
          25,
          4,
          35,
          6,
          5,
          1,
          32,
          4,
          11,
          262,
          37
         ]
        }
       ],
       "layout": {
        "legend": {
         "tracegroupgap": 0
        },
        "margin": {
         "t": 60
        },
        "template": {
         "data": {
          "bar": [
           {
            "error_x": {
             "color": "#2a3f5f"
            },
            "error_y": {
             "color": "#2a3f5f"
            },
            "marker": {
             "line": {
              "color": "#E5ECF6",
              "width": 0.5
             },
             "pattern": {
              "fillmode": "overlay",
              "size": 10,
              "solidity": 0.2
             }
            },
            "type": "bar"
           }
          ],
          "barpolar": [
           {
            "marker": {
             "line": {
              "color": "#E5ECF6",
              "width": 0.5
             },
             "pattern": {
              "fillmode": "overlay",
              "size": 10,
              "solidity": 0.2
             }
            },
            "type": "barpolar"
           }
          ],
          "carpet": [
           {
            "aaxis": {
             "endlinecolor": "#2a3f5f",
             "gridcolor": "white",
             "linecolor": "white",
             "minorgridcolor": "white",
             "startlinecolor": "#2a3f5f"
            },
            "baxis": {
             "endlinecolor": "#2a3f5f",
             "gridcolor": "white",
             "linecolor": "white",
             "minorgridcolor": "white",
             "startlinecolor": "#2a3f5f"
            },
            "type": "carpet"
           }
          ],
          "choropleth": [
           {
            "colorbar": {
             "outlinewidth": 0,
             "ticks": ""
            },
            "type": "choropleth"
           }
          ],
          "contour": [
           {
            "colorbar": {
             "outlinewidth": 0,
             "ticks": ""
            },
            "colorscale": [
             [
              0,
              "#0d0887"
             ],
             [
              0.1111111111111111,
              "#46039f"
             ],
             [
              0.2222222222222222,
              "#7201a8"
             ],
             [
              0.3333333333333333,
              "#9c179e"
             ],
             [
              0.4444444444444444,
              "#bd3786"
             ],
             [
              0.5555555555555556,
              "#d8576b"
             ],
             [
              0.6666666666666666,
              "#ed7953"
             ],
             [
              0.7777777777777778,
              "#fb9f3a"
             ],
             [
              0.8888888888888888,
              "#fdca26"
             ],
             [
              1,
              "#f0f921"
             ]
            ],
            "type": "contour"
           }
          ],
          "contourcarpet": [
           {
            "colorbar": {
             "outlinewidth": 0,
             "ticks": ""
            },
            "type": "contourcarpet"
           }
          ],
          "heatmap": [
           {
            "colorbar": {
             "outlinewidth": 0,
             "ticks": ""
            },
            "colorscale": [
             [
              0,
              "#0d0887"
             ],
             [
              0.1111111111111111,
              "#46039f"
             ],
             [
              0.2222222222222222,
              "#7201a8"
             ],
             [
              0.3333333333333333,
              "#9c179e"
             ],
             [
              0.4444444444444444,
              "#bd3786"
             ],
             [
              0.5555555555555556,
              "#d8576b"
             ],
             [
              0.6666666666666666,
              "#ed7953"
             ],
             [
              0.7777777777777778,
              "#fb9f3a"
             ],
             [
              0.8888888888888888,
              "#fdca26"
             ],
             [
              1,
              "#f0f921"
             ]
            ],
            "type": "heatmap"
           }
          ],
          "heatmapgl": [
           {
            "colorbar": {
             "outlinewidth": 0,
             "ticks": ""
            },
            "colorscale": [
             [
              0,
              "#0d0887"
             ],
             [
              0.1111111111111111,
              "#46039f"
             ],
             [
              0.2222222222222222,
              "#7201a8"
             ],
             [
              0.3333333333333333,
              "#9c179e"
             ],
             [
              0.4444444444444444,
              "#bd3786"
             ],
             [
              0.5555555555555556,
              "#d8576b"
             ],
             [
              0.6666666666666666,
              "#ed7953"
             ],
             [
              0.7777777777777778,
              "#fb9f3a"
             ],
             [
              0.8888888888888888,
              "#fdca26"
             ],
             [
              1,
              "#f0f921"
             ]
            ],
            "type": "heatmapgl"
           }
          ],
          "histogram": [
           {
            "marker": {
             "pattern": {
              "fillmode": "overlay",
              "size": 10,
              "solidity": 0.2
             }
            },
            "type": "histogram"
           }
          ],
          "histogram2d": [
           {
            "colorbar": {
             "outlinewidth": 0,
             "ticks": ""
            },
            "colorscale": [
             [
              0,
              "#0d0887"
             ],
             [
              0.1111111111111111,
              "#46039f"
             ],
             [
              0.2222222222222222,
              "#7201a8"
             ],
             [
              0.3333333333333333,
              "#9c179e"
             ],
             [
              0.4444444444444444,
              "#bd3786"
             ],
             [
              0.5555555555555556,
              "#d8576b"
             ],
             [
              0.6666666666666666,
              "#ed7953"
             ],
             [
              0.7777777777777778,
              "#fb9f3a"
             ],
             [
              0.8888888888888888,
              "#fdca26"
             ],
             [
              1,
              "#f0f921"
             ]
            ],
            "type": "histogram2d"
           }
          ],
          "histogram2dcontour": [
           {
            "colorbar": {
             "outlinewidth": 0,
             "ticks": ""
            },
            "colorscale": [
             [
              0,
              "#0d0887"
             ],
             [
              0.1111111111111111,
              "#46039f"
             ],
             [
              0.2222222222222222,
              "#7201a8"
             ],
             [
              0.3333333333333333,
              "#9c179e"
             ],
             [
              0.4444444444444444,
              "#bd3786"
             ],
             [
              0.5555555555555556,
              "#d8576b"
             ],
             [
              0.6666666666666666,
              "#ed7953"
             ],
             [
              0.7777777777777778,
              "#fb9f3a"
             ],
             [
              0.8888888888888888,
              "#fdca26"
             ],
             [
              1,
              "#f0f921"
             ]
            ],
            "type": "histogram2dcontour"
           }
          ],
          "mesh3d": [
           {
            "colorbar": {
             "outlinewidth": 0,
             "ticks": ""
            },
            "type": "mesh3d"
           }
          ],
          "parcoords": [
           {
            "line": {
             "colorbar": {
              "outlinewidth": 0,
              "ticks": ""
             }
            },
            "type": "parcoords"
           }
          ],
          "pie": [
           {
            "automargin": true,
            "type": "pie"
           }
          ],
          "scatter": [
           {
            "fillpattern": {
             "fillmode": "overlay",
             "size": 10,
             "solidity": 0.2
            },
            "type": "scatter"
           }
          ],
          "scatter3d": [
           {
            "line": {
             "colorbar": {
              "outlinewidth": 0,
              "ticks": ""
             }
            },
            "marker": {
             "colorbar": {
              "outlinewidth": 0,
              "ticks": ""
             }
            },
            "type": "scatter3d"
           }
          ],
          "scattercarpet": [
           {
            "marker": {
             "colorbar": {
              "outlinewidth": 0,
              "ticks": ""
             }
            },
            "type": "scattercarpet"
           }
          ],
          "scattergeo": [
           {
            "marker": {
             "colorbar": {
              "outlinewidth": 0,
              "ticks": ""
             }
            },
            "type": "scattergeo"
           }
          ],
          "scattergl": [
           {
            "marker": {
             "colorbar": {
              "outlinewidth": 0,
              "ticks": ""
             }
            },
            "type": "scattergl"
           }
          ],
          "scattermapbox": [
           {
            "marker": {
             "colorbar": {
              "outlinewidth": 0,
              "ticks": ""
             }
            },
            "type": "scattermapbox"
           }
          ],
          "scatterpolar": [
           {
            "marker": {
             "colorbar": {
              "outlinewidth": 0,
              "ticks": ""
             }
            },
            "type": "scatterpolar"
           }
          ],
          "scatterpolargl": [
           {
            "marker": {
             "colorbar": {
              "outlinewidth": 0,
              "ticks": ""
             }
            },
            "type": "scatterpolargl"
           }
          ],
          "scatterternary": [
           {
            "marker": {
             "colorbar": {
              "outlinewidth": 0,
              "ticks": ""
             }
            },
            "type": "scatterternary"
           }
          ],
          "surface": [
           {
            "colorbar": {
             "outlinewidth": 0,
             "ticks": ""
            },
            "colorscale": [
             [
              0,
              "#0d0887"
             ],
             [
              0.1111111111111111,
              "#46039f"
             ],
             [
              0.2222222222222222,
              "#7201a8"
             ],
             [
              0.3333333333333333,
              "#9c179e"
             ],
             [
              0.4444444444444444,
              "#bd3786"
             ],
             [
              0.5555555555555556,
              "#d8576b"
             ],
             [
              0.6666666666666666,
              "#ed7953"
             ],
             [
              0.7777777777777778,
              "#fb9f3a"
             ],
             [
              0.8888888888888888,
              "#fdca26"
             ],
             [
              1,
              "#f0f921"
             ]
            ],
            "type": "surface"
           }
          ],
          "table": [
           {
            "cells": {
             "fill": {
              "color": "#EBF0F8"
             },
             "line": {
              "color": "white"
             }
            },
            "header": {
             "fill": {
              "color": "#C8D4E3"
             },
             "line": {
              "color": "white"
             }
            },
            "type": "table"
           }
          ]
         },
         "layout": {
          "annotationdefaults": {
           "arrowcolor": "#2a3f5f",
           "arrowhead": 0,
           "arrowwidth": 1
          },
          "autotypenumbers": "strict",
          "coloraxis": {
           "colorbar": {
            "outlinewidth": 0,
            "ticks": ""
           }
          },
          "colorscale": {
           "diverging": [
            [
             0,
             "#8e0152"
            ],
            [
             0.1,
             "#c51b7d"
            ],
            [
             0.2,
             "#de77ae"
            ],
            [
             0.3,
             "#f1b6da"
            ],
            [
             0.4,
             "#fde0ef"
            ],
            [
             0.5,
             "#f7f7f7"
            ],
            [
             0.6,
             "#e6f5d0"
            ],
            [
             0.7,
             "#b8e186"
            ],
            [
             0.8,
             "#7fbc41"
            ],
            [
             0.9,
             "#4d9221"
            ],
            [
             1,
             "#276419"
            ]
           ],
           "sequential": [
            [
             0,
             "#0d0887"
            ],
            [
             0.1111111111111111,
             "#46039f"
            ],
            [
             0.2222222222222222,
             "#7201a8"
            ],
            [
             0.3333333333333333,
             "#9c179e"
            ],
            [
             0.4444444444444444,
             "#bd3786"
            ],
            [
             0.5555555555555556,
             "#d8576b"
            ],
            [
             0.6666666666666666,
             "#ed7953"
            ],
            [
             0.7777777777777778,
             "#fb9f3a"
            ],
            [
             0.8888888888888888,
             "#fdca26"
            ],
            [
             1,
             "#f0f921"
            ]
           ],
           "sequentialminus": [
            [
             0,
             "#0d0887"
            ],
            [
             0.1111111111111111,
             "#46039f"
            ],
            [
             0.2222222222222222,
             "#7201a8"
            ],
            [
             0.3333333333333333,
             "#9c179e"
            ],
            [
             0.4444444444444444,
             "#bd3786"
            ],
            [
             0.5555555555555556,
             "#d8576b"
            ],
            [
             0.6666666666666666,
             "#ed7953"
            ],
            [
             0.7777777777777778,
             "#fb9f3a"
            ],
            [
             0.8888888888888888,
             "#fdca26"
            ],
            [
             1,
             "#f0f921"
            ]
           ]
          },
          "colorway": [
           "#636efa",
           "#EF553B",
           "#00cc96",
           "#ab63fa",
           "#FFA15A",
           "#19d3f3",
           "#FF6692",
           "#B6E880",
           "#FF97FF",
           "#FECB52"
          ],
          "font": {
           "color": "#2a3f5f"
          },
          "geo": {
           "bgcolor": "white",
           "lakecolor": "white",
           "landcolor": "#E5ECF6",
           "showlakes": true,
           "showland": true,
           "subunitcolor": "white"
          },
          "hoverlabel": {
           "align": "left"
          },
          "hovermode": "closest",
          "mapbox": {
           "style": "light"
          },
          "paper_bgcolor": "white",
          "plot_bgcolor": "#E5ECF6",
          "polar": {
           "angularaxis": {
            "gridcolor": "white",
            "linecolor": "white",
            "ticks": ""
           },
           "bgcolor": "#E5ECF6",
           "radialaxis": {
            "gridcolor": "white",
            "linecolor": "white",
            "ticks": ""
           }
          },
          "scene": {
           "xaxis": {
            "backgroundcolor": "#E5ECF6",
            "gridcolor": "white",
            "gridwidth": 2,
            "linecolor": "white",
            "showbackground": true,
            "ticks": "",
            "zerolinecolor": "white"
           },
           "yaxis": {
            "backgroundcolor": "#E5ECF6",
            "gridcolor": "white",
            "gridwidth": 2,
            "linecolor": "white",
            "showbackground": true,
            "ticks": "",
            "zerolinecolor": "white"
           },
           "zaxis": {
            "backgroundcolor": "#E5ECF6",
            "gridcolor": "white",
            "gridwidth": 2,
            "linecolor": "white",
            "showbackground": true,
            "ticks": "",
            "zerolinecolor": "white"
           }
          },
          "shapedefaults": {
           "line": {
            "color": "#2a3f5f"
           }
          },
          "ternary": {
           "aaxis": {
            "gridcolor": "white",
            "linecolor": "white",
            "ticks": ""
           },
           "baxis": {
            "gridcolor": "white",
            "linecolor": "white",
            "ticks": ""
           },
           "bgcolor": "#E5ECF6",
           "caxis": {
            "gridcolor": "white",
            "linecolor": "white",
            "ticks": ""
           }
          },
          "title": {
           "x": 0.05
          },
          "xaxis": {
           "automargin": true,
           "gridcolor": "white",
           "linecolor": "white",
           "ticks": "",
           "title": {
            "standoff": 15
           },
           "zerolinecolor": "white",
           "zerolinewidth": 2
          },
          "yaxis": {
           "automargin": true,
           "gridcolor": "white",
           "linecolor": "white",
           "ticks": "",
           "title": {
            "standoff": 15
           },
           "zerolinecolor": "white",
           "zerolinewidth": 2
          }
         }
        }
       }
      },
      "text/html": [
       "<div>                            <div id=\"ae46a64d-313f-4aab-be3c-fc4502ba423f\" class=\"plotly-graph-div\" style=\"height:525px; width:100%;\"></div>            <script type=\"text/javascript\">                require([\"plotly\"], function(Plotly) {                    window.PLOTLYENV=window.PLOTLYENV || {};                                    if (document.getElementById(\"ae46a64d-313f-4aab-be3c-fc4502ba423f\")) {                    Plotly.newPlot(                        \"ae46a64d-313f-4aab-be3c-fc4502ba423f\",                        [{\"branchvalues\":\"total\",\"domain\":{\"x\":[0.0,1.0],\"y\":[0.0,1.0]},\"hovertemplate\":\"labels=%{label}<br>count=%{value}<br>parent=%{parent}<br>id=%{id}<extra></extra>\",\"ids\":[\"3/Business Analyst/0\",\"3/Delivery Manager/0\",\"3/Developer/0\",\"4/Developer/0\",\"3/Senior Developer/0\",\"4/Senior Developer/0\",\"3/Technical Architect/0\",\"3/Technical Lead/0\",\"4/Technical Lead/0\",\"3/Business Analyst/1\",\"3/Delivery Manager/1\",\"3/Developer/1\",\"3/Senior Developer/1\",\"3/Technical Architect/1\",\"3/Technical Lead/1\",\"3/Business Analyst/2\",\"3/Delivery Manager/2\",\"2/Developer/2\",\"3/Developer/2\",\"4/Developer/2\",\"2/Senior Developer/2\",\"3/Senior Developer/2\",\"4/Senior Developer/2\",\"2/Technical Lead/2\",\"3/Technical Lead/2\",\"4/Technical Lead/2\",\"3/Business Analyst/3\",\"4/Business Analyst/3\",\"2/Developer/3\",\"3/Developer/3\",\"4/Developer/3\",\"4/Senior Developer/3\",\"3/Technical Architect/3\",\"3/Technical Lead/3\",\"3/Business Analyst/4\",\"4/Business Analyst/4\",\"3/Delivery Manager/4\",\"3/Developer/4\",\"4/Developer/4\",\"3/Senior Developer/4\",\"4/Senior Developer/4\",\"3/Technical Architect/4\",\"3/Technical Lead/4\",\"4/Technical Lead/4\",\"3/Developer/5\",\"2/Developer/6\",\"3/Developer/6\",\"4/Developer/6\",\"2/Senior Developer/6\",\"3/Senior Developer/6\",\"3/Business Analyst/7\",\"3/Delivery Manager/7\",\"3/Developer/7\",\"4/Developer/7\",\"3/Senior Developer/7\",\"4/Senior Developer/7\",\"3/Technical Lead/7\",\"3/Business Analyst/8\",\"3/Developer/8\",\"4/Developer/8\",\"2/Senior Developer/8\",\"3/Senior Developer/8\",\"3/Technical Lead/8\",\"3/Delivery Manager/9\",\"2/Developer/9\",\"3/Developer/9\",\"4/Developer/9\",\"3/Senior Developer/9\",\"3/Technical Lead/9\",\"3/Delivery Manager/10\",\"3/Developer/10\",\"3/Technical Lead/10\",\"3/Developer/11\",\"4/Developer/11\",\"3/Senior Developer/11\",\"3/Technical Lead/11\",\"2/Developer/12\",\"3/Developer/12\",\"3/Delivery Manager/13\",\"3/Developer/13\",\"3/Developer/15\",\"3/Delivery Manager/17\",\"3/Developer/17\",\"3/Business Analyst\",\"4/Business Analyst\",\"3/Delivery Manager\",\"2/Developer\",\"3/Developer\",\"4/Developer\",\"2/Senior Developer\",\"3/Senior Developer\",\"4/Senior Developer\",\"3/Technical Architect\",\"2/Technical Lead\",\"3/Technical Lead\",\"4/Technical Lead\",\"2\",\"3\",\"4\"],\"labels\":[\"0\",\"0\",\"0\",\"0\",\"0\",\"0\",\"0\",\"0\",\"0\",\"1\",\"1\",\"1\",\"1\",\"1\",\"1\",\"2\",\"2\",\"2\",\"2\",\"2\",\"2\",\"2\",\"2\",\"2\",\"2\",\"2\",\"3\",\"3\",\"3\",\"3\",\"3\",\"3\",\"3\",\"3\",\"4\",\"4\",\"4\",\"4\",\"4\",\"4\",\"4\",\"4\",\"4\",\"4\",\"5\",\"6\",\"6\",\"6\",\"6\",\"6\",\"7\",\"7\",\"7\",\"7\",\"7\",\"7\",\"7\",\"8\",\"8\",\"8\",\"8\",\"8\",\"8\",\"9\",\"9\",\"9\",\"9\",\"9\",\"9\",\"10\",\"10\",\"10\",\"11\",\"11\",\"11\",\"11\",\"12\",\"12\",\"13\",\"13\",\"15\",\"17\",\"17\",\"Business Analyst\",\"Business Analyst\",\"Delivery Manager\",\"Developer\",\"Developer\",\"Developer\",\"Senior Developer\",\"Senior Developer\",\"Senior Developer\",\"Technical Architect\",\"Technical Lead\",\"Technical Lead\",\"Technical Lead\",\"2\",\"3\",\"4\"],\"name\":\"\",\"parents\":[\"3/Business Analyst\",\"3/Delivery Manager\",\"3/Developer\",\"4/Developer\",\"3/Senior Developer\",\"4/Senior Developer\",\"3/Technical Architect\",\"3/Technical Lead\",\"4/Technical Lead\",\"3/Business Analyst\",\"3/Delivery Manager\",\"3/Developer\",\"3/Senior Developer\",\"3/Technical Architect\",\"3/Technical Lead\",\"3/Business Analyst\",\"3/Delivery Manager\",\"2/Developer\",\"3/Developer\",\"4/Developer\",\"2/Senior Developer\",\"3/Senior Developer\",\"4/Senior Developer\",\"2/Technical Lead\",\"3/Technical Lead\",\"4/Technical Lead\",\"3/Business Analyst\",\"4/Business Analyst\",\"2/Developer\",\"3/Developer\",\"4/Developer\",\"4/Senior Developer\",\"3/Technical Architect\",\"3/Technical Lead\",\"3/Business Analyst\",\"4/Business Analyst\",\"3/Delivery Manager\",\"3/Developer\",\"4/Developer\",\"3/Senior Developer\",\"4/Senior Developer\",\"3/Technical Architect\",\"3/Technical Lead\",\"4/Technical Lead\",\"3/Developer\",\"2/Developer\",\"3/Developer\",\"4/Developer\",\"2/Senior Developer\",\"3/Senior Developer\",\"3/Business Analyst\",\"3/Delivery Manager\",\"3/Developer\",\"4/Developer\",\"3/Senior Developer\",\"4/Senior Developer\",\"3/Technical Lead\",\"3/Business Analyst\",\"3/Developer\",\"4/Developer\",\"2/Senior Developer\",\"3/Senior Developer\",\"3/Technical Lead\",\"3/Delivery Manager\",\"2/Developer\",\"3/Developer\",\"4/Developer\",\"3/Senior Developer\",\"3/Technical Lead\",\"3/Delivery Manager\",\"3/Developer\",\"3/Technical Lead\",\"3/Developer\",\"4/Developer\",\"3/Senior Developer\",\"3/Technical Lead\",\"2/Developer\",\"3/Developer\",\"3/Delivery Manager\",\"3/Developer\",\"3/Developer\",\"3/Delivery Manager\",\"3/Developer\",\"3\",\"4\",\"3\",\"2\",\"3\",\"4\",\"2\",\"3\",\"4\",\"3\",\"2\",\"3\",\"4\",\"\",\"\",\"\"],\"values\":[4,2,27,7,5,2,1,2,1,1,1,8,3,1,3,2,2,2,45,5,2,7,1,1,9,2,1,1,1,18,1,1,2,4,1,1,1,9,2,3,1,1,1,1,8,1,1,1,1,1,2,2,12,4,7,1,7,2,14,3,1,7,2,1,1,8,1,1,2,1,4,1,3,1,1,1,1,2,1,1,3,1,2,13,2,12,6,165,25,4,35,6,5,1,32,4,11,262,37],\"type\":\"sunburst\"}],                        {\"template\":{\"data\":{\"histogram2dcontour\":[{\"type\":\"histogram2dcontour\",\"colorbar\":{\"outlinewidth\":0,\"ticks\":\"\"},\"colorscale\":[[0.0,\"#0d0887\"],[0.1111111111111111,\"#46039f\"],[0.2222222222222222,\"#7201a8\"],[0.3333333333333333,\"#9c179e\"],[0.4444444444444444,\"#bd3786\"],[0.5555555555555556,\"#d8576b\"],[0.6666666666666666,\"#ed7953\"],[0.7777777777777778,\"#fb9f3a\"],[0.8888888888888888,\"#fdca26\"],[1.0,\"#f0f921\"]]}],\"choropleth\":[{\"type\":\"choropleth\",\"colorbar\":{\"outlinewidth\":0,\"ticks\":\"\"}}],\"histogram2d\":[{\"type\":\"histogram2d\",\"colorbar\":{\"outlinewidth\":0,\"ticks\":\"\"},\"colorscale\":[[0.0,\"#0d0887\"],[0.1111111111111111,\"#46039f\"],[0.2222222222222222,\"#7201a8\"],[0.3333333333333333,\"#9c179e\"],[0.4444444444444444,\"#bd3786\"],[0.5555555555555556,\"#d8576b\"],[0.6666666666666666,\"#ed7953\"],[0.7777777777777778,\"#fb9f3a\"],[0.8888888888888888,\"#fdca26\"],[1.0,\"#f0f921\"]]}],\"heatmap\":[{\"type\":\"heatmap\",\"colorbar\":{\"outlinewidth\":0,\"ticks\":\"\"},\"colorscale\":[[0.0,\"#0d0887\"],[0.1111111111111111,\"#46039f\"],[0.2222222222222222,\"#7201a8\"],[0.3333333333333333,\"#9c179e\"],[0.4444444444444444,\"#bd3786\"],[0.5555555555555556,\"#d8576b\"],[0.6666666666666666,\"#ed7953\"],[0.7777777777777778,\"#fb9f3a\"],[0.8888888888888888,\"#fdca26\"],[1.0,\"#f0f921\"]]}],\"heatmapgl\":[{\"type\":\"heatmapgl\",\"colorbar\":{\"outlinewidth\":0,\"ticks\":\"\"},\"colorscale\":[[0.0,\"#0d0887\"],[0.1111111111111111,\"#46039f\"],[0.2222222222222222,\"#7201a8\"],[0.3333333333333333,\"#9c179e\"],[0.4444444444444444,\"#bd3786\"],[0.5555555555555556,\"#d8576b\"],[0.6666666666666666,\"#ed7953\"],[0.7777777777777778,\"#fb9f3a\"],[0.8888888888888888,\"#fdca26\"],[1.0,\"#f0f921\"]]}],\"contourcarpet\":[{\"type\":\"contourcarpet\",\"colorbar\":{\"outlinewidth\":0,\"ticks\":\"\"}}],\"contour\":[{\"type\":\"contour\",\"colorbar\":{\"outlinewidth\":0,\"ticks\":\"\"},\"colorscale\":[[0.0,\"#0d0887\"],[0.1111111111111111,\"#46039f\"],[0.2222222222222222,\"#7201a8\"],[0.3333333333333333,\"#9c179e\"],[0.4444444444444444,\"#bd3786\"],[0.5555555555555556,\"#d8576b\"],[0.6666666666666666,\"#ed7953\"],[0.7777777777777778,\"#fb9f3a\"],[0.8888888888888888,\"#fdca26\"],[1.0,\"#f0f921\"]]}],\"surface\":[{\"type\":\"surface\",\"colorbar\":{\"outlinewidth\":0,\"ticks\":\"\"},\"colorscale\":[[0.0,\"#0d0887\"],[0.1111111111111111,\"#46039f\"],[0.2222222222222222,\"#7201a8\"],[0.3333333333333333,\"#9c179e\"],[0.4444444444444444,\"#bd3786\"],[0.5555555555555556,\"#d8576b\"],[0.6666666666666666,\"#ed7953\"],[0.7777777777777778,\"#fb9f3a\"],[0.8888888888888888,\"#fdca26\"],[1.0,\"#f0f921\"]]}],\"mesh3d\":[{\"type\":\"mesh3d\",\"colorbar\":{\"outlinewidth\":0,\"ticks\":\"\"}}],\"scatter\":[{\"fillpattern\":{\"fillmode\":\"overlay\",\"size\":10,\"solidity\":0.2},\"type\":\"scatter\"}],\"parcoords\":[{\"type\":\"parcoords\",\"line\":{\"colorbar\":{\"outlinewidth\":0,\"ticks\":\"\"}}}],\"scatterpolargl\":[{\"type\":\"scatterpolargl\",\"marker\":{\"colorbar\":{\"outlinewidth\":0,\"ticks\":\"\"}}}],\"bar\":[{\"error_x\":{\"color\":\"#2a3f5f\"},\"error_y\":{\"color\":\"#2a3f5f\"},\"marker\":{\"line\":{\"color\":\"#E5ECF6\",\"width\":0.5},\"pattern\":{\"fillmode\":\"overlay\",\"size\":10,\"solidity\":0.2}},\"type\":\"bar\"}],\"scattergeo\":[{\"type\":\"scattergeo\",\"marker\":{\"colorbar\":{\"outlinewidth\":0,\"ticks\":\"\"}}}],\"scatterpolar\":[{\"type\":\"scatterpolar\",\"marker\":{\"colorbar\":{\"outlinewidth\":0,\"ticks\":\"\"}}}],\"histogram\":[{\"marker\":{\"pattern\":{\"fillmode\":\"overlay\",\"size\":10,\"solidity\":0.2}},\"type\":\"histogram\"}],\"scattergl\":[{\"type\":\"scattergl\",\"marker\":{\"colorbar\":{\"outlinewidth\":0,\"ticks\":\"\"}}}],\"scatter3d\":[{\"type\":\"scatter3d\",\"line\":{\"colorbar\":{\"outlinewidth\":0,\"ticks\":\"\"}},\"marker\":{\"colorbar\":{\"outlinewidth\":0,\"ticks\":\"\"}}}],\"scattermapbox\":[{\"type\":\"scattermapbox\",\"marker\":{\"colorbar\":{\"outlinewidth\":0,\"ticks\":\"\"}}}],\"scatterternary\":[{\"type\":\"scatterternary\",\"marker\":{\"colorbar\":{\"outlinewidth\":0,\"ticks\":\"\"}}}],\"scattercarpet\":[{\"type\":\"scattercarpet\",\"marker\":{\"colorbar\":{\"outlinewidth\":0,\"ticks\":\"\"}}}],\"carpet\":[{\"aaxis\":{\"endlinecolor\":\"#2a3f5f\",\"gridcolor\":\"white\",\"linecolor\":\"white\",\"minorgridcolor\":\"white\",\"startlinecolor\":\"#2a3f5f\"},\"baxis\":{\"endlinecolor\":\"#2a3f5f\",\"gridcolor\":\"white\",\"linecolor\":\"white\",\"minorgridcolor\":\"white\",\"startlinecolor\":\"#2a3f5f\"},\"type\":\"carpet\"}],\"table\":[{\"cells\":{\"fill\":{\"color\":\"#EBF0F8\"},\"line\":{\"color\":\"white\"}},\"header\":{\"fill\":{\"color\":\"#C8D4E3\"},\"line\":{\"color\":\"white\"}},\"type\":\"table\"}],\"barpolar\":[{\"marker\":{\"line\":{\"color\":\"#E5ECF6\",\"width\":0.5},\"pattern\":{\"fillmode\":\"overlay\",\"size\":10,\"solidity\":0.2}},\"type\":\"barpolar\"}],\"pie\":[{\"automargin\":true,\"type\":\"pie\"}]},\"layout\":{\"autotypenumbers\":\"strict\",\"colorway\":[\"#636efa\",\"#EF553B\",\"#00cc96\",\"#ab63fa\",\"#FFA15A\",\"#19d3f3\",\"#FF6692\",\"#B6E880\",\"#FF97FF\",\"#FECB52\"],\"font\":{\"color\":\"#2a3f5f\"},\"hovermode\":\"closest\",\"hoverlabel\":{\"align\":\"left\"},\"paper_bgcolor\":\"white\",\"plot_bgcolor\":\"#E5ECF6\",\"polar\":{\"bgcolor\":\"#E5ECF6\",\"angularaxis\":{\"gridcolor\":\"white\",\"linecolor\":\"white\",\"ticks\":\"\"},\"radialaxis\":{\"gridcolor\":\"white\",\"linecolor\":\"white\",\"ticks\":\"\"}},\"ternary\":{\"bgcolor\":\"#E5ECF6\",\"aaxis\":{\"gridcolor\":\"white\",\"linecolor\":\"white\",\"ticks\":\"\"},\"baxis\":{\"gridcolor\":\"white\",\"linecolor\":\"white\",\"ticks\":\"\"},\"caxis\":{\"gridcolor\":\"white\",\"linecolor\":\"white\",\"ticks\":\"\"}},\"coloraxis\":{\"colorbar\":{\"outlinewidth\":0,\"ticks\":\"\"}},\"colorscale\":{\"sequential\":[[0.0,\"#0d0887\"],[0.1111111111111111,\"#46039f\"],[0.2222222222222222,\"#7201a8\"],[0.3333333333333333,\"#9c179e\"],[0.4444444444444444,\"#bd3786\"],[0.5555555555555556,\"#d8576b\"],[0.6666666666666666,\"#ed7953\"],[0.7777777777777778,\"#fb9f3a\"],[0.8888888888888888,\"#fdca26\"],[1.0,\"#f0f921\"]],\"sequentialminus\":[[0.0,\"#0d0887\"],[0.1111111111111111,\"#46039f\"],[0.2222222222222222,\"#7201a8\"],[0.3333333333333333,\"#9c179e\"],[0.4444444444444444,\"#bd3786\"],[0.5555555555555556,\"#d8576b\"],[0.6666666666666666,\"#ed7953\"],[0.7777777777777778,\"#fb9f3a\"],[0.8888888888888888,\"#fdca26\"],[1.0,\"#f0f921\"]],\"diverging\":[[0,\"#8e0152\"],[0.1,\"#c51b7d\"],[0.2,\"#de77ae\"],[0.3,\"#f1b6da\"],[0.4,\"#fde0ef\"],[0.5,\"#f7f7f7\"],[0.6,\"#e6f5d0\"],[0.7,\"#b8e186\"],[0.8,\"#7fbc41\"],[0.9,\"#4d9221\"],[1,\"#276419\"]]},\"xaxis\":{\"gridcolor\":\"white\",\"linecolor\":\"white\",\"ticks\":\"\",\"title\":{\"standoff\":15},\"zerolinecolor\":\"white\",\"automargin\":true,\"zerolinewidth\":2},\"yaxis\":{\"gridcolor\":\"white\",\"linecolor\":\"white\",\"ticks\":\"\",\"title\":{\"standoff\":15},\"zerolinecolor\":\"white\",\"automargin\":true,\"zerolinewidth\":2},\"scene\":{\"xaxis\":{\"backgroundcolor\":\"#E5ECF6\",\"gridcolor\":\"white\",\"linecolor\":\"white\",\"showbackground\":true,\"ticks\":\"\",\"zerolinecolor\":\"white\",\"gridwidth\":2},\"yaxis\":{\"backgroundcolor\":\"#E5ECF6\",\"gridcolor\":\"white\",\"linecolor\":\"white\",\"showbackground\":true,\"ticks\":\"\",\"zerolinecolor\":\"white\",\"gridwidth\":2},\"zaxis\":{\"backgroundcolor\":\"#E5ECF6\",\"gridcolor\":\"white\",\"linecolor\":\"white\",\"showbackground\":true,\"ticks\":\"\",\"zerolinecolor\":\"white\",\"gridwidth\":2}},\"shapedefaults\":{\"line\":{\"color\":\"#2a3f5f\"}},\"annotationdefaults\":{\"arrowcolor\":\"#2a3f5f\",\"arrowhead\":0,\"arrowwidth\":1},\"geo\":{\"bgcolor\":\"white\",\"landcolor\":\"#E5ECF6\",\"subunitcolor\":\"white\",\"showland\":true,\"showlakes\":true,\"lakecolor\":\"white\"},\"title\":{\"x\":0.05},\"mapbox\":{\"style\":\"light\"}}},\"legend\":{\"tracegroupgap\":0},\"margin\":{\"t\":60}},                        {\"responsive\": true}                    ).then(function(){\n",
       "                            \n",
       "var gd = document.getElementById('ae46a64d-313f-4aab-be3c-fc4502ba423f');\n",
       "var x = new MutationObserver(function (mutations, observer) {{\n",
       "        var display = window.getComputedStyle(gd).display;\n",
       "        if (!display || display === 'none') {{\n",
       "            console.log([gd, 'removed!']);\n",
       "            Plotly.purge(gd);\n",
       "            observer.disconnect();\n",
       "        }}\n",
       "}});\n",
       "\n",
       "// Listen for the removal of the full notebook cells\n",
       "var notebookContainer = gd.closest('#notebook-container');\n",
       "if (notebookContainer) {{\n",
       "    x.observe(notebookContainer, {childList: true});\n",
       "}}\n",
       "\n",
       "// Listen for the clearing of the current output cell\n",
       "var outputEl = gd.closest('.output');\n",
       "if (outputEl) {{\n",
       "    x.observe(outputEl, {childList: true});\n",
       "}}\n",
       "\n",
       "                        })                };                });            </script>        </div>"
      ]
     },
     "metadata": {},
     "output_type": "display_data"
    }
   ],
   "source": [
    "# 1) Analysis of Management Issues in the Sales Department with various correlated parameter\n",
    "\n",
    "fig=px.sunburst(df_development, path=['PerformanceRating','EmpJobRole','YearsWithCurrManager'])\n",
    "fig.show()\n",
    "\n",
    "# 6 Developers showing underlying performance have 2 -12 years of experience with current manager\n",
    "# 4 Senior Developers showing underlying performance have 2-8 years of experience with current manager\n",
    "# 1 Techincal Leads showing underlying performance have 2 years of experience with current manager"
   ]
  },
  {
   "cell_type": "code",
   "execution_count": 164,
   "id": "f004eeb2",
   "metadata": {},
   "outputs": [
    {
     "data": {
      "application/vnd.plotly.v1+json": {
       "config": {
        "plotlyServerURL": "https://plot.ly"
       },
       "data": [
        {
         "branchvalues": "total",
         "domain": {
          "x": [
           0,
           1
          ],
          "y": [
           0,
           1
          ]
         },
         "hovertemplate": "labels=%{label}<br>count=%{value}<br>parent=%{parent}<br>id=%{id}<extra></extra>",
         "ids": [
          "3/Developer/0",
          "4/Developer/0",
          "3/Business Analyst/1",
          "3/Delivery Manager/1",
          "3/Developer/1",
          "4/Developer/1",
          "3/Senior Developer/1",
          "4/Senior Developer/1",
          "3/Technical Architect/1",
          "3/Technical Lead/1",
          "4/Technical Lead/1",
          "3/Business Analyst/2",
          "2/Developer/2",
          "3/Developer/2",
          "2/Senior Developer/2",
          "3/Senior Developer/2",
          "2/Technical Lead/2",
          "3/Technical Lead/2",
          "3/Delivery Manager/3",
          "3/Developer/3",
          "4/Developer/3",
          "3/Senior Developer/3",
          "4/Senior Developer/3",
          "3/Technical Lead/3",
          "4/Technical Lead/3",
          "2/Developer/4",
          "3/Developer/4",
          "4/Developer/4",
          "3/Technical Architect/4",
          "3/Technical Lead/4",
          "3/Business Analyst/5",
          "4/Business Analyst/5",
          "3/Delivery Manager/5",
          "2/Developer/5",
          "3/Developer/5",
          "4/Developer/5",
          "3/Senior Developer/5",
          "4/Senior Developer/5",
          "3/Technical Architect/5",
          "3/Technical Lead/5",
          "4/Technical Lead/5",
          "3/Business Analyst/6",
          "4/Business Analyst/6",
          "3/Delivery Manager/6",
          "3/Developer/6",
          "4/Developer/6",
          "3/Senior Developer/6",
          "3/Technical Lead/6",
          "3/Business Analyst/7",
          "3/Delivery Manager/7",
          "3/Developer/7",
          "4/Developer/7",
          "3/Senior Developer/7",
          "3/Technical Lead/7",
          "3/Business Analyst/8",
          "3/Developer/8",
          "4/Developer/8",
          "3/Senior Developer/8",
          "3/Technical Lead/8",
          "3/Developer/9",
          "4/Developer/9",
          "3/Senior Developer/9",
          "3/Technical Lead/9",
          "3/Delivery Manager/10",
          "2/Developer/10",
          "3/Developer/10",
          "4/Developer/10",
          "2/Senior Developer/10",
          "3/Senior Developer/10",
          "4/Senior Developer/10",
          "3/Technical Lead/10",
          "3/Business Analyst/11",
          "3/Delivery Manager/11",
          "3/Developer/11",
          "4/Developer/11",
          "3/Developer/12",
          "4/Developer/12",
          "3/Developer/13",
          "3/Senior Developer/13",
          "3/Technical Lead/13",
          "3/Senior Developer/14",
          "2/Developer/15",
          "3/Developer/15",
          "3/Senior Developer/15",
          "3/Delivery Manager/16",
          "3/Developer/16",
          "3/Business Analyst/17",
          "3/Developer/17",
          "3/Senior Developer/17",
          "3/Technical Lead/17",
          "3/Delivery Manager/18",
          "3/Developer/18",
          "3/Technical Lead/18",
          "4/Developer/19",
          "3/Senior Developer/19",
          "3/Developer/20",
          "3/Senior Developer/20",
          "3/Technical Lead/20",
          "3/Developer/21",
          "2/Senior Developer/21",
          "3/Developer/22",
          "4/Developer/22",
          "3/Technical Lead/24",
          "2/Developer/25",
          "3/Developer/26",
          "3/Developer/27",
          "3/Senior Developer/27",
          "3/Developer/29",
          "3/Developer/31",
          "3/Senior Developer/31",
          "3/Developer/33",
          "3/Developer/36",
          "3/Business Analyst",
          "4/Business Analyst",
          "3/Delivery Manager",
          "2/Developer",
          "3/Developer",
          "4/Developer",
          "2/Senior Developer",
          "3/Senior Developer",
          "4/Senior Developer",
          "3/Technical Architect",
          "2/Technical Lead",
          "3/Technical Lead",
          "4/Technical Lead",
          "2",
          "3",
          "4"
         ],
         "labels": [
          "0",
          "0",
          "1",
          "1",
          "1",
          "1",
          "1",
          "1",
          "1",
          "1",
          "1",
          "2",
          "2",
          "2",
          "2",
          "2",
          "2",
          "2",
          "3",
          "3",
          "3",
          "3",
          "3",
          "3",
          "3",
          "4",
          "4",
          "4",
          "4",
          "4",
          "5",
          "5",
          "5",
          "5",
          "5",
          "5",
          "5",
          "5",
          "5",
          "5",
          "5",
          "6",
          "6",
          "6",
          "6",
          "6",
          "6",
          "6",
          "7",
          "7",
          "7",
          "7",
          "7",
          "7",
          "8",
          "8",
          "8",
          "8",
          "8",
          "9",
          "9",
          "9",
          "9",
          "10",
          "10",
          "10",
          "10",
          "10",
          "10",
          "10",
          "10",
          "11",
          "11",
          "11",
          "11",
          "12",
          "12",
          "13",
          "13",
          "13",
          "14",
          "15",
          "15",
          "15",
          "16",
          "16",
          "17",
          "17",
          "17",
          "17",
          "18",
          "18",
          "18",
          "19",
          "19",
          "20",
          "20",
          "20",
          "21",
          "21",
          "22",
          "22",
          "24",
          "25",
          "26",
          "27",
          "27",
          "29",
          "31",
          "31",
          "33",
          "36",
          "Business Analyst",
          "Business Analyst",
          "Delivery Manager",
          "Developer",
          "Developer",
          "Developer",
          "Senior Developer",
          "Senior Developer",
          "Senior Developer",
          "Technical Architect",
          "Technical Lead",
          "Technical Lead",
          "Technical Lead",
          "2",
          "3",
          "4"
         ],
         "name": "",
         "parents": [
          "3/Developer",
          "4/Developer",
          "3/Business Analyst",
          "3/Delivery Manager",
          "3/Developer",
          "4/Developer",
          "3/Senior Developer",
          "4/Senior Developer",
          "3/Technical Architect",
          "3/Technical Lead",
          "4/Technical Lead",
          "3/Business Analyst",
          "2/Developer",
          "3/Developer",
          "2/Senior Developer",
          "3/Senior Developer",
          "2/Technical Lead",
          "3/Technical Lead",
          "3/Delivery Manager",
          "3/Developer",
          "4/Developer",
          "3/Senior Developer",
          "4/Senior Developer",
          "3/Technical Lead",
          "4/Technical Lead",
          "2/Developer",
          "3/Developer",
          "4/Developer",
          "3/Technical Architect",
          "3/Technical Lead",
          "3/Business Analyst",
          "4/Business Analyst",
          "3/Delivery Manager",
          "2/Developer",
          "3/Developer",
          "4/Developer",
          "3/Senior Developer",
          "4/Senior Developer",
          "3/Technical Architect",
          "3/Technical Lead",
          "4/Technical Lead",
          "3/Business Analyst",
          "4/Business Analyst",
          "3/Delivery Manager",
          "3/Developer",
          "4/Developer",
          "3/Senior Developer",
          "3/Technical Lead",
          "3/Business Analyst",
          "3/Delivery Manager",
          "3/Developer",
          "4/Developer",
          "3/Senior Developer",
          "3/Technical Lead",
          "3/Business Analyst",
          "3/Developer",
          "4/Developer",
          "3/Senior Developer",
          "3/Technical Lead",
          "3/Developer",
          "4/Developer",
          "3/Senior Developer",
          "3/Technical Lead",
          "3/Delivery Manager",
          "2/Developer",
          "3/Developer",
          "4/Developer",
          "2/Senior Developer",
          "3/Senior Developer",
          "4/Senior Developer",
          "3/Technical Lead",
          "3/Business Analyst",
          "3/Delivery Manager",
          "3/Developer",
          "4/Developer",
          "3/Developer",
          "4/Developer",
          "3/Developer",
          "3/Senior Developer",
          "3/Technical Lead",
          "3/Senior Developer",
          "2/Developer",
          "3/Developer",
          "3/Senior Developer",
          "3/Delivery Manager",
          "3/Developer",
          "3/Business Analyst",
          "3/Developer",
          "3/Senior Developer",
          "3/Technical Lead",
          "3/Delivery Manager",
          "3/Developer",
          "3/Technical Lead",
          "4/Developer",
          "3/Senior Developer",
          "3/Developer",
          "3/Senior Developer",
          "3/Technical Lead",
          "3/Developer",
          "2/Senior Developer",
          "3/Developer",
          "4/Developer",
          "3/Technical Lead",
          "2/Developer",
          "3/Developer",
          "3/Developer",
          "3/Senior Developer",
          "3/Developer",
          "3/Developer",
          "3/Senior Developer",
          "3/Developer",
          "3/Developer",
          "3",
          "4",
          "3",
          "2",
          "3",
          "4",
          "2",
          "3",
          "4",
          "3",
          "2",
          "3",
          "4",
          "",
          "",
          ""
         ],
         "type": "sunburst",
         "values": [
          4,
          1,
          4,
          2,
          16,
          5,
          4,
          2,
          2,
          3,
          1,
          2,
          1,
          16,
          2,
          4,
          1,
          2,
          1,
          17,
          4,
          4,
          1,
          2,
          1,
          1,
          11,
          1,
          2,
          4,
          2,
          1,
          2,
          1,
          25,
          3,
          2,
          2,
          1,
          5,
          2,
          1,
          1,
          1,
          11,
          1,
          3,
          1,
          1,
          2,
          4,
          1,
          3,
          5,
          1,
          9,
          2,
          2,
          1,
          9,
          1,
          1,
          1,
          1,
          1,
          15,
          1,
          1,
          3,
          1,
          2,
          1,
          1,
          3,
          2,
          4,
          1,
          3,
          2,
          1,
          1,
          1,
          2,
          1,
          1,
          1,
          1,
          1,
          1,
          1,
          1,
          2,
          1,
          1,
          1,
          2,
          1,
          2,
          2,
          1,
          2,
          1,
          1,
          1,
          1,
          1,
          1,
          1,
          1,
          1,
          1,
          1,
          13,
          2,
          12,
          6,
          165,
          25,
          4,
          35,
          6,
          5,
          1,
          32,
          4,
          11,
          262,
          37
         ]
        }
       ],
       "layout": {
        "legend": {
         "tracegroupgap": 0
        },
        "margin": {
         "t": 60
        },
        "template": {
         "data": {
          "bar": [
           {
            "error_x": {
             "color": "#2a3f5f"
            },
            "error_y": {
             "color": "#2a3f5f"
            },
            "marker": {
             "line": {
              "color": "#E5ECF6",
              "width": 0.5
             },
             "pattern": {
              "fillmode": "overlay",
              "size": 10,
              "solidity": 0.2
             }
            },
            "type": "bar"
           }
          ],
          "barpolar": [
           {
            "marker": {
             "line": {
              "color": "#E5ECF6",
              "width": 0.5
             },
             "pattern": {
              "fillmode": "overlay",
              "size": 10,
              "solidity": 0.2
             }
            },
            "type": "barpolar"
           }
          ],
          "carpet": [
           {
            "aaxis": {
             "endlinecolor": "#2a3f5f",
             "gridcolor": "white",
             "linecolor": "white",
             "minorgridcolor": "white",
             "startlinecolor": "#2a3f5f"
            },
            "baxis": {
             "endlinecolor": "#2a3f5f",
             "gridcolor": "white",
             "linecolor": "white",
             "minorgridcolor": "white",
             "startlinecolor": "#2a3f5f"
            },
            "type": "carpet"
           }
          ],
          "choropleth": [
           {
            "colorbar": {
             "outlinewidth": 0,
             "ticks": ""
            },
            "type": "choropleth"
           }
          ],
          "contour": [
           {
            "colorbar": {
             "outlinewidth": 0,
             "ticks": ""
            },
            "colorscale": [
             [
              0,
              "#0d0887"
             ],
             [
              0.1111111111111111,
              "#46039f"
             ],
             [
              0.2222222222222222,
              "#7201a8"
             ],
             [
              0.3333333333333333,
              "#9c179e"
             ],
             [
              0.4444444444444444,
              "#bd3786"
             ],
             [
              0.5555555555555556,
              "#d8576b"
             ],
             [
              0.6666666666666666,
              "#ed7953"
             ],
             [
              0.7777777777777778,
              "#fb9f3a"
             ],
             [
              0.8888888888888888,
              "#fdca26"
             ],
             [
              1,
              "#f0f921"
             ]
            ],
            "type": "contour"
           }
          ],
          "contourcarpet": [
           {
            "colorbar": {
             "outlinewidth": 0,
             "ticks": ""
            },
            "type": "contourcarpet"
           }
          ],
          "heatmap": [
           {
            "colorbar": {
             "outlinewidth": 0,
             "ticks": ""
            },
            "colorscale": [
             [
              0,
              "#0d0887"
             ],
             [
              0.1111111111111111,
              "#46039f"
             ],
             [
              0.2222222222222222,
              "#7201a8"
             ],
             [
              0.3333333333333333,
              "#9c179e"
             ],
             [
              0.4444444444444444,
              "#bd3786"
             ],
             [
              0.5555555555555556,
              "#d8576b"
             ],
             [
              0.6666666666666666,
              "#ed7953"
             ],
             [
              0.7777777777777778,
              "#fb9f3a"
             ],
             [
              0.8888888888888888,
              "#fdca26"
             ],
             [
              1,
              "#f0f921"
             ]
            ],
            "type": "heatmap"
           }
          ],
          "heatmapgl": [
           {
            "colorbar": {
             "outlinewidth": 0,
             "ticks": ""
            },
            "colorscale": [
             [
              0,
              "#0d0887"
             ],
             [
              0.1111111111111111,
              "#46039f"
             ],
             [
              0.2222222222222222,
              "#7201a8"
             ],
             [
              0.3333333333333333,
              "#9c179e"
             ],
             [
              0.4444444444444444,
              "#bd3786"
             ],
             [
              0.5555555555555556,
              "#d8576b"
             ],
             [
              0.6666666666666666,
              "#ed7953"
             ],
             [
              0.7777777777777778,
              "#fb9f3a"
             ],
             [
              0.8888888888888888,
              "#fdca26"
             ],
             [
              1,
              "#f0f921"
             ]
            ],
            "type": "heatmapgl"
           }
          ],
          "histogram": [
           {
            "marker": {
             "pattern": {
              "fillmode": "overlay",
              "size": 10,
              "solidity": 0.2
             }
            },
            "type": "histogram"
           }
          ],
          "histogram2d": [
           {
            "colorbar": {
             "outlinewidth": 0,
             "ticks": ""
            },
            "colorscale": [
             [
              0,
              "#0d0887"
             ],
             [
              0.1111111111111111,
              "#46039f"
             ],
             [
              0.2222222222222222,
              "#7201a8"
             ],
             [
              0.3333333333333333,
              "#9c179e"
             ],
             [
              0.4444444444444444,
              "#bd3786"
             ],
             [
              0.5555555555555556,
              "#d8576b"
             ],
             [
              0.6666666666666666,
              "#ed7953"
             ],
             [
              0.7777777777777778,
              "#fb9f3a"
             ],
             [
              0.8888888888888888,
              "#fdca26"
             ],
             [
              1,
              "#f0f921"
             ]
            ],
            "type": "histogram2d"
           }
          ],
          "histogram2dcontour": [
           {
            "colorbar": {
             "outlinewidth": 0,
             "ticks": ""
            },
            "colorscale": [
             [
              0,
              "#0d0887"
             ],
             [
              0.1111111111111111,
              "#46039f"
             ],
             [
              0.2222222222222222,
              "#7201a8"
             ],
             [
              0.3333333333333333,
              "#9c179e"
             ],
             [
              0.4444444444444444,
              "#bd3786"
             ],
             [
              0.5555555555555556,
              "#d8576b"
             ],
             [
              0.6666666666666666,
              "#ed7953"
             ],
             [
              0.7777777777777778,
              "#fb9f3a"
             ],
             [
              0.8888888888888888,
              "#fdca26"
             ],
             [
              1,
              "#f0f921"
             ]
            ],
            "type": "histogram2dcontour"
           }
          ],
          "mesh3d": [
           {
            "colorbar": {
             "outlinewidth": 0,
             "ticks": ""
            },
            "type": "mesh3d"
           }
          ],
          "parcoords": [
           {
            "line": {
             "colorbar": {
              "outlinewidth": 0,
              "ticks": ""
             }
            },
            "type": "parcoords"
           }
          ],
          "pie": [
           {
            "automargin": true,
            "type": "pie"
           }
          ],
          "scatter": [
           {
            "fillpattern": {
             "fillmode": "overlay",
             "size": 10,
             "solidity": 0.2
            },
            "type": "scatter"
           }
          ],
          "scatter3d": [
           {
            "line": {
             "colorbar": {
              "outlinewidth": 0,
              "ticks": ""
             }
            },
            "marker": {
             "colorbar": {
              "outlinewidth": 0,
              "ticks": ""
             }
            },
            "type": "scatter3d"
           }
          ],
          "scattercarpet": [
           {
            "marker": {
             "colorbar": {
              "outlinewidth": 0,
              "ticks": ""
             }
            },
            "type": "scattercarpet"
           }
          ],
          "scattergeo": [
           {
            "marker": {
             "colorbar": {
              "outlinewidth": 0,
              "ticks": ""
             }
            },
            "type": "scattergeo"
           }
          ],
          "scattergl": [
           {
            "marker": {
             "colorbar": {
              "outlinewidth": 0,
              "ticks": ""
             }
            },
            "type": "scattergl"
           }
          ],
          "scattermapbox": [
           {
            "marker": {
             "colorbar": {
              "outlinewidth": 0,
              "ticks": ""
             }
            },
            "type": "scattermapbox"
           }
          ],
          "scatterpolar": [
           {
            "marker": {
             "colorbar": {
              "outlinewidth": 0,
              "ticks": ""
             }
            },
            "type": "scatterpolar"
           }
          ],
          "scatterpolargl": [
           {
            "marker": {
             "colorbar": {
              "outlinewidth": 0,
              "ticks": ""
             }
            },
            "type": "scatterpolargl"
           }
          ],
          "scatterternary": [
           {
            "marker": {
             "colorbar": {
              "outlinewidth": 0,
              "ticks": ""
             }
            },
            "type": "scatterternary"
           }
          ],
          "surface": [
           {
            "colorbar": {
             "outlinewidth": 0,
             "ticks": ""
            },
            "colorscale": [
             [
              0,
              "#0d0887"
             ],
             [
              0.1111111111111111,
              "#46039f"
             ],
             [
              0.2222222222222222,
              "#7201a8"
             ],
             [
              0.3333333333333333,
              "#9c179e"
             ],
             [
              0.4444444444444444,
              "#bd3786"
             ],
             [
              0.5555555555555556,
              "#d8576b"
             ],
             [
              0.6666666666666666,
              "#ed7953"
             ],
             [
              0.7777777777777778,
              "#fb9f3a"
             ],
             [
              0.8888888888888888,
              "#fdca26"
             ],
             [
              1,
              "#f0f921"
             ]
            ],
            "type": "surface"
           }
          ],
          "table": [
           {
            "cells": {
             "fill": {
              "color": "#EBF0F8"
             },
             "line": {
              "color": "white"
             }
            },
            "header": {
             "fill": {
              "color": "#C8D4E3"
             },
             "line": {
              "color": "white"
             }
            },
            "type": "table"
           }
          ]
         },
         "layout": {
          "annotationdefaults": {
           "arrowcolor": "#2a3f5f",
           "arrowhead": 0,
           "arrowwidth": 1
          },
          "autotypenumbers": "strict",
          "coloraxis": {
           "colorbar": {
            "outlinewidth": 0,
            "ticks": ""
           }
          },
          "colorscale": {
           "diverging": [
            [
             0,
             "#8e0152"
            ],
            [
             0.1,
             "#c51b7d"
            ],
            [
             0.2,
             "#de77ae"
            ],
            [
             0.3,
             "#f1b6da"
            ],
            [
             0.4,
             "#fde0ef"
            ],
            [
             0.5,
             "#f7f7f7"
            ],
            [
             0.6,
             "#e6f5d0"
            ],
            [
             0.7,
             "#b8e186"
            ],
            [
             0.8,
             "#7fbc41"
            ],
            [
             0.9,
             "#4d9221"
            ],
            [
             1,
             "#276419"
            ]
           ],
           "sequential": [
            [
             0,
             "#0d0887"
            ],
            [
             0.1111111111111111,
             "#46039f"
            ],
            [
             0.2222222222222222,
             "#7201a8"
            ],
            [
             0.3333333333333333,
             "#9c179e"
            ],
            [
             0.4444444444444444,
             "#bd3786"
            ],
            [
             0.5555555555555556,
             "#d8576b"
            ],
            [
             0.6666666666666666,
             "#ed7953"
            ],
            [
             0.7777777777777778,
             "#fb9f3a"
            ],
            [
             0.8888888888888888,
             "#fdca26"
            ],
            [
             1,
             "#f0f921"
            ]
           ],
           "sequentialminus": [
            [
             0,
             "#0d0887"
            ],
            [
             0.1111111111111111,
             "#46039f"
            ],
            [
             0.2222222222222222,
             "#7201a8"
            ],
            [
             0.3333333333333333,
             "#9c179e"
            ],
            [
             0.4444444444444444,
             "#bd3786"
            ],
            [
             0.5555555555555556,
             "#d8576b"
            ],
            [
             0.6666666666666666,
             "#ed7953"
            ],
            [
             0.7777777777777778,
             "#fb9f3a"
            ],
            [
             0.8888888888888888,
             "#fdca26"
            ],
            [
             1,
             "#f0f921"
            ]
           ]
          },
          "colorway": [
           "#636efa",
           "#EF553B",
           "#00cc96",
           "#ab63fa",
           "#FFA15A",
           "#19d3f3",
           "#FF6692",
           "#B6E880",
           "#FF97FF",
           "#FECB52"
          ],
          "font": {
           "color": "#2a3f5f"
          },
          "geo": {
           "bgcolor": "white",
           "lakecolor": "white",
           "landcolor": "#E5ECF6",
           "showlakes": true,
           "showland": true,
           "subunitcolor": "white"
          },
          "hoverlabel": {
           "align": "left"
          },
          "hovermode": "closest",
          "mapbox": {
           "style": "light"
          },
          "paper_bgcolor": "white",
          "plot_bgcolor": "#E5ECF6",
          "polar": {
           "angularaxis": {
            "gridcolor": "white",
            "linecolor": "white",
            "ticks": ""
           },
           "bgcolor": "#E5ECF6",
           "radialaxis": {
            "gridcolor": "white",
            "linecolor": "white",
            "ticks": ""
           }
          },
          "scene": {
           "xaxis": {
            "backgroundcolor": "#E5ECF6",
            "gridcolor": "white",
            "gridwidth": 2,
            "linecolor": "white",
            "showbackground": true,
            "ticks": "",
            "zerolinecolor": "white"
           },
           "yaxis": {
            "backgroundcolor": "#E5ECF6",
            "gridcolor": "white",
            "gridwidth": 2,
            "linecolor": "white",
            "showbackground": true,
            "ticks": "",
            "zerolinecolor": "white"
           },
           "zaxis": {
            "backgroundcolor": "#E5ECF6",
            "gridcolor": "white",
            "gridwidth": 2,
            "linecolor": "white",
            "showbackground": true,
            "ticks": "",
            "zerolinecolor": "white"
           }
          },
          "shapedefaults": {
           "line": {
            "color": "#2a3f5f"
           }
          },
          "ternary": {
           "aaxis": {
            "gridcolor": "white",
            "linecolor": "white",
            "ticks": ""
           },
           "baxis": {
            "gridcolor": "white",
            "linecolor": "white",
            "ticks": ""
           },
           "bgcolor": "#E5ECF6",
           "caxis": {
            "gridcolor": "white",
            "linecolor": "white",
            "ticks": ""
           }
          },
          "title": {
           "x": 0.05
          },
          "xaxis": {
           "automargin": true,
           "gridcolor": "white",
           "linecolor": "white",
           "ticks": "",
           "title": {
            "standoff": 15
           },
           "zerolinecolor": "white",
           "zerolinewidth": 2
          },
          "yaxis": {
           "automargin": true,
           "gridcolor": "white",
           "linecolor": "white",
           "ticks": "",
           "title": {
            "standoff": 15
           },
           "zerolinecolor": "white",
           "zerolinewidth": 2
          }
         }
        }
       }
      },
      "text/html": [
       "<div>                            <div id=\"7fafdaf8-e5bf-421e-8af8-198334c160a0\" class=\"plotly-graph-div\" style=\"height:525px; width:100%;\"></div>            <script type=\"text/javascript\">                require([\"plotly\"], function(Plotly) {                    window.PLOTLYENV=window.PLOTLYENV || {};                                    if (document.getElementById(\"7fafdaf8-e5bf-421e-8af8-198334c160a0\")) {                    Plotly.newPlot(                        \"7fafdaf8-e5bf-421e-8af8-198334c160a0\",                        [{\"branchvalues\":\"total\",\"domain\":{\"x\":[0.0,1.0],\"y\":[0.0,1.0]},\"hovertemplate\":\"labels=%{label}<br>count=%{value}<br>parent=%{parent}<br>id=%{id}<extra></extra>\",\"ids\":[\"3/Developer/0\",\"4/Developer/0\",\"3/Business Analyst/1\",\"3/Delivery Manager/1\",\"3/Developer/1\",\"4/Developer/1\",\"3/Senior Developer/1\",\"4/Senior Developer/1\",\"3/Technical Architect/1\",\"3/Technical Lead/1\",\"4/Technical Lead/1\",\"3/Business Analyst/2\",\"2/Developer/2\",\"3/Developer/2\",\"2/Senior Developer/2\",\"3/Senior Developer/2\",\"2/Technical Lead/2\",\"3/Technical Lead/2\",\"3/Delivery Manager/3\",\"3/Developer/3\",\"4/Developer/3\",\"3/Senior Developer/3\",\"4/Senior Developer/3\",\"3/Technical Lead/3\",\"4/Technical Lead/3\",\"2/Developer/4\",\"3/Developer/4\",\"4/Developer/4\",\"3/Technical Architect/4\",\"3/Technical Lead/4\",\"3/Business Analyst/5\",\"4/Business Analyst/5\",\"3/Delivery Manager/5\",\"2/Developer/5\",\"3/Developer/5\",\"4/Developer/5\",\"3/Senior Developer/5\",\"4/Senior Developer/5\",\"3/Technical Architect/5\",\"3/Technical Lead/5\",\"4/Technical Lead/5\",\"3/Business Analyst/6\",\"4/Business Analyst/6\",\"3/Delivery Manager/6\",\"3/Developer/6\",\"4/Developer/6\",\"3/Senior Developer/6\",\"3/Technical Lead/6\",\"3/Business Analyst/7\",\"3/Delivery Manager/7\",\"3/Developer/7\",\"4/Developer/7\",\"3/Senior Developer/7\",\"3/Technical Lead/7\",\"3/Business Analyst/8\",\"3/Developer/8\",\"4/Developer/8\",\"3/Senior Developer/8\",\"3/Technical Lead/8\",\"3/Developer/9\",\"4/Developer/9\",\"3/Senior Developer/9\",\"3/Technical Lead/9\",\"3/Delivery Manager/10\",\"2/Developer/10\",\"3/Developer/10\",\"4/Developer/10\",\"2/Senior Developer/10\",\"3/Senior Developer/10\",\"4/Senior Developer/10\",\"3/Technical Lead/10\",\"3/Business Analyst/11\",\"3/Delivery Manager/11\",\"3/Developer/11\",\"4/Developer/11\",\"3/Developer/12\",\"4/Developer/12\",\"3/Developer/13\",\"3/Senior Developer/13\",\"3/Technical Lead/13\",\"3/Senior Developer/14\",\"2/Developer/15\",\"3/Developer/15\",\"3/Senior Developer/15\",\"3/Delivery Manager/16\",\"3/Developer/16\",\"3/Business Analyst/17\",\"3/Developer/17\",\"3/Senior Developer/17\",\"3/Technical Lead/17\",\"3/Delivery Manager/18\",\"3/Developer/18\",\"3/Technical Lead/18\",\"4/Developer/19\",\"3/Senior Developer/19\",\"3/Developer/20\",\"3/Senior Developer/20\",\"3/Technical Lead/20\",\"3/Developer/21\",\"2/Senior Developer/21\",\"3/Developer/22\",\"4/Developer/22\",\"3/Technical Lead/24\",\"2/Developer/25\",\"3/Developer/26\",\"3/Developer/27\",\"3/Senior Developer/27\",\"3/Developer/29\",\"3/Developer/31\",\"3/Senior Developer/31\",\"3/Developer/33\",\"3/Developer/36\",\"3/Business Analyst\",\"4/Business Analyst\",\"3/Delivery Manager\",\"2/Developer\",\"3/Developer\",\"4/Developer\",\"2/Senior Developer\",\"3/Senior Developer\",\"4/Senior Developer\",\"3/Technical Architect\",\"2/Technical Lead\",\"3/Technical Lead\",\"4/Technical Lead\",\"2\",\"3\",\"4\"],\"labels\":[\"0\",\"0\",\"1\",\"1\",\"1\",\"1\",\"1\",\"1\",\"1\",\"1\",\"1\",\"2\",\"2\",\"2\",\"2\",\"2\",\"2\",\"2\",\"3\",\"3\",\"3\",\"3\",\"3\",\"3\",\"3\",\"4\",\"4\",\"4\",\"4\",\"4\",\"5\",\"5\",\"5\",\"5\",\"5\",\"5\",\"5\",\"5\",\"5\",\"5\",\"5\",\"6\",\"6\",\"6\",\"6\",\"6\",\"6\",\"6\",\"7\",\"7\",\"7\",\"7\",\"7\",\"7\",\"8\",\"8\",\"8\",\"8\",\"8\",\"9\",\"9\",\"9\",\"9\",\"10\",\"10\",\"10\",\"10\",\"10\",\"10\",\"10\",\"10\",\"11\",\"11\",\"11\",\"11\",\"12\",\"12\",\"13\",\"13\",\"13\",\"14\",\"15\",\"15\",\"15\",\"16\",\"16\",\"17\",\"17\",\"17\",\"17\",\"18\",\"18\",\"18\",\"19\",\"19\",\"20\",\"20\",\"20\",\"21\",\"21\",\"22\",\"22\",\"24\",\"25\",\"26\",\"27\",\"27\",\"29\",\"31\",\"31\",\"33\",\"36\",\"Business Analyst\",\"Business Analyst\",\"Delivery Manager\",\"Developer\",\"Developer\",\"Developer\",\"Senior Developer\",\"Senior Developer\",\"Senior Developer\",\"Technical Architect\",\"Technical Lead\",\"Technical Lead\",\"Technical Lead\",\"2\",\"3\",\"4\"],\"name\":\"\",\"parents\":[\"3/Developer\",\"4/Developer\",\"3/Business Analyst\",\"3/Delivery Manager\",\"3/Developer\",\"4/Developer\",\"3/Senior Developer\",\"4/Senior Developer\",\"3/Technical Architect\",\"3/Technical Lead\",\"4/Technical Lead\",\"3/Business Analyst\",\"2/Developer\",\"3/Developer\",\"2/Senior Developer\",\"3/Senior Developer\",\"2/Technical Lead\",\"3/Technical Lead\",\"3/Delivery Manager\",\"3/Developer\",\"4/Developer\",\"3/Senior Developer\",\"4/Senior Developer\",\"3/Technical Lead\",\"4/Technical Lead\",\"2/Developer\",\"3/Developer\",\"4/Developer\",\"3/Technical Architect\",\"3/Technical Lead\",\"3/Business Analyst\",\"4/Business Analyst\",\"3/Delivery Manager\",\"2/Developer\",\"3/Developer\",\"4/Developer\",\"3/Senior Developer\",\"4/Senior Developer\",\"3/Technical Architect\",\"3/Technical Lead\",\"4/Technical Lead\",\"3/Business Analyst\",\"4/Business Analyst\",\"3/Delivery Manager\",\"3/Developer\",\"4/Developer\",\"3/Senior Developer\",\"3/Technical Lead\",\"3/Business Analyst\",\"3/Delivery Manager\",\"3/Developer\",\"4/Developer\",\"3/Senior Developer\",\"3/Technical Lead\",\"3/Business Analyst\",\"3/Developer\",\"4/Developer\",\"3/Senior Developer\",\"3/Technical Lead\",\"3/Developer\",\"4/Developer\",\"3/Senior Developer\",\"3/Technical Lead\",\"3/Delivery Manager\",\"2/Developer\",\"3/Developer\",\"4/Developer\",\"2/Senior Developer\",\"3/Senior Developer\",\"4/Senior Developer\",\"3/Technical Lead\",\"3/Business Analyst\",\"3/Delivery Manager\",\"3/Developer\",\"4/Developer\",\"3/Developer\",\"4/Developer\",\"3/Developer\",\"3/Senior Developer\",\"3/Technical Lead\",\"3/Senior Developer\",\"2/Developer\",\"3/Developer\",\"3/Senior Developer\",\"3/Delivery Manager\",\"3/Developer\",\"3/Business Analyst\",\"3/Developer\",\"3/Senior Developer\",\"3/Technical Lead\",\"3/Delivery Manager\",\"3/Developer\",\"3/Technical Lead\",\"4/Developer\",\"3/Senior Developer\",\"3/Developer\",\"3/Senior Developer\",\"3/Technical Lead\",\"3/Developer\",\"2/Senior Developer\",\"3/Developer\",\"4/Developer\",\"3/Technical Lead\",\"2/Developer\",\"3/Developer\",\"3/Developer\",\"3/Senior Developer\",\"3/Developer\",\"3/Developer\",\"3/Senior Developer\",\"3/Developer\",\"3/Developer\",\"3\",\"4\",\"3\",\"2\",\"3\",\"4\",\"2\",\"3\",\"4\",\"3\",\"2\",\"3\",\"4\",\"\",\"\",\"\"],\"values\":[4,1,4,2,16,5,4,2,2,3,1,2,1,16,2,4,1,2,1,17,4,4,1,2,1,1,11,1,2,4,2,1,2,1,25,3,2,2,1,5,2,1,1,1,11,1,3,1,1,2,4,1,3,5,1,9,2,2,1,9,1,1,1,1,1,15,1,1,3,1,2,1,1,3,2,4,1,3,2,1,1,1,2,1,1,1,1,1,1,1,1,2,1,1,1,2,1,2,2,1,2,1,1,1,1,1,1,1,1,1,1,1,13,2,12,6,165,25,4,35,6,5,1,32,4,11,262,37],\"type\":\"sunburst\"}],                        {\"template\":{\"data\":{\"histogram2dcontour\":[{\"type\":\"histogram2dcontour\",\"colorbar\":{\"outlinewidth\":0,\"ticks\":\"\"},\"colorscale\":[[0.0,\"#0d0887\"],[0.1111111111111111,\"#46039f\"],[0.2222222222222222,\"#7201a8\"],[0.3333333333333333,\"#9c179e\"],[0.4444444444444444,\"#bd3786\"],[0.5555555555555556,\"#d8576b\"],[0.6666666666666666,\"#ed7953\"],[0.7777777777777778,\"#fb9f3a\"],[0.8888888888888888,\"#fdca26\"],[1.0,\"#f0f921\"]]}],\"choropleth\":[{\"type\":\"choropleth\",\"colorbar\":{\"outlinewidth\":0,\"ticks\":\"\"}}],\"histogram2d\":[{\"type\":\"histogram2d\",\"colorbar\":{\"outlinewidth\":0,\"ticks\":\"\"},\"colorscale\":[[0.0,\"#0d0887\"],[0.1111111111111111,\"#46039f\"],[0.2222222222222222,\"#7201a8\"],[0.3333333333333333,\"#9c179e\"],[0.4444444444444444,\"#bd3786\"],[0.5555555555555556,\"#d8576b\"],[0.6666666666666666,\"#ed7953\"],[0.7777777777777778,\"#fb9f3a\"],[0.8888888888888888,\"#fdca26\"],[1.0,\"#f0f921\"]]}],\"heatmap\":[{\"type\":\"heatmap\",\"colorbar\":{\"outlinewidth\":0,\"ticks\":\"\"},\"colorscale\":[[0.0,\"#0d0887\"],[0.1111111111111111,\"#46039f\"],[0.2222222222222222,\"#7201a8\"],[0.3333333333333333,\"#9c179e\"],[0.4444444444444444,\"#bd3786\"],[0.5555555555555556,\"#d8576b\"],[0.6666666666666666,\"#ed7953\"],[0.7777777777777778,\"#fb9f3a\"],[0.8888888888888888,\"#fdca26\"],[1.0,\"#f0f921\"]]}],\"heatmapgl\":[{\"type\":\"heatmapgl\",\"colorbar\":{\"outlinewidth\":0,\"ticks\":\"\"},\"colorscale\":[[0.0,\"#0d0887\"],[0.1111111111111111,\"#46039f\"],[0.2222222222222222,\"#7201a8\"],[0.3333333333333333,\"#9c179e\"],[0.4444444444444444,\"#bd3786\"],[0.5555555555555556,\"#d8576b\"],[0.6666666666666666,\"#ed7953\"],[0.7777777777777778,\"#fb9f3a\"],[0.8888888888888888,\"#fdca26\"],[1.0,\"#f0f921\"]]}],\"contourcarpet\":[{\"type\":\"contourcarpet\",\"colorbar\":{\"outlinewidth\":0,\"ticks\":\"\"}}],\"contour\":[{\"type\":\"contour\",\"colorbar\":{\"outlinewidth\":0,\"ticks\":\"\"},\"colorscale\":[[0.0,\"#0d0887\"],[0.1111111111111111,\"#46039f\"],[0.2222222222222222,\"#7201a8\"],[0.3333333333333333,\"#9c179e\"],[0.4444444444444444,\"#bd3786\"],[0.5555555555555556,\"#d8576b\"],[0.6666666666666666,\"#ed7953\"],[0.7777777777777778,\"#fb9f3a\"],[0.8888888888888888,\"#fdca26\"],[1.0,\"#f0f921\"]]}],\"surface\":[{\"type\":\"surface\",\"colorbar\":{\"outlinewidth\":0,\"ticks\":\"\"},\"colorscale\":[[0.0,\"#0d0887\"],[0.1111111111111111,\"#46039f\"],[0.2222222222222222,\"#7201a8\"],[0.3333333333333333,\"#9c179e\"],[0.4444444444444444,\"#bd3786\"],[0.5555555555555556,\"#d8576b\"],[0.6666666666666666,\"#ed7953\"],[0.7777777777777778,\"#fb9f3a\"],[0.8888888888888888,\"#fdca26\"],[1.0,\"#f0f921\"]]}],\"mesh3d\":[{\"type\":\"mesh3d\",\"colorbar\":{\"outlinewidth\":0,\"ticks\":\"\"}}],\"scatter\":[{\"fillpattern\":{\"fillmode\":\"overlay\",\"size\":10,\"solidity\":0.2},\"type\":\"scatter\"}],\"parcoords\":[{\"type\":\"parcoords\",\"line\":{\"colorbar\":{\"outlinewidth\":0,\"ticks\":\"\"}}}],\"scatterpolargl\":[{\"type\":\"scatterpolargl\",\"marker\":{\"colorbar\":{\"outlinewidth\":0,\"ticks\":\"\"}}}],\"bar\":[{\"error_x\":{\"color\":\"#2a3f5f\"},\"error_y\":{\"color\":\"#2a3f5f\"},\"marker\":{\"line\":{\"color\":\"#E5ECF6\",\"width\":0.5},\"pattern\":{\"fillmode\":\"overlay\",\"size\":10,\"solidity\":0.2}},\"type\":\"bar\"}],\"scattergeo\":[{\"type\":\"scattergeo\",\"marker\":{\"colorbar\":{\"outlinewidth\":0,\"ticks\":\"\"}}}],\"scatterpolar\":[{\"type\":\"scatterpolar\",\"marker\":{\"colorbar\":{\"outlinewidth\":0,\"ticks\":\"\"}}}],\"histogram\":[{\"marker\":{\"pattern\":{\"fillmode\":\"overlay\",\"size\":10,\"solidity\":0.2}},\"type\":\"histogram\"}],\"scattergl\":[{\"type\":\"scattergl\",\"marker\":{\"colorbar\":{\"outlinewidth\":0,\"ticks\":\"\"}}}],\"scatter3d\":[{\"type\":\"scatter3d\",\"line\":{\"colorbar\":{\"outlinewidth\":0,\"ticks\":\"\"}},\"marker\":{\"colorbar\":{\"outlinewidth\":0,\"ticks\":\"\"}}}],\"scattermapbox\":[{\"type\":\"scattermapbox\",\"marker\":{\"colorbar\":{\"outlinewidth\":0,\"ticks\":\"\"}}}],\"scatterternary\":[{\"type\":\"scatterternary\",\"marker\":{\"colorbar\":{\"outlinewidth\":0,\"ticks\":\"\"}}}],\"scattercarpet\":[{\"type\":\"scattercarpet\",\"marker\":{\"colorbar\":{\"outlinewidth\":0,\"ticks\":\"\"}}}],\"carpet\":[{\"aaxis\":{\"endlinecolor\":\"#2a3f5f\",\"gridcolor\":\"white\",\"linecolor\":\"white\",\"minorgridcolor\":\"white\",\"startlinecolor\":\"#2a3f5f\"},\"baxis\":{\"endlinecolor\":\"#2a3f5f\",\"gridcolor\":\"white\",\"linecolor\":\"white\",\"minorgridcolor\":\"white\",\"startlinecolor\":\"#2a3f5f\"},\"type\":\"carpet\"}],\"table\":[{\"cells\":{\"fill\":{\"color\":\"#EBF0F8\"},\"line\":{\"color\":\"white\"}},\"header\":{\"fill\":{\"color\":\"#C8D4E3\"},\"line\":{\"color\":\"white\"}},\"type\":\"table\"}],\"barpolar\":[{\"marker\":{\"line\":{\"color\":\"#E5ECF6\",\"width\":0.5},\"pattern\":{\"fillmode\":\"overlay\",\"size\":10,\"solidity\":0.2}},\"type\":\"barpolar\"}],\"pie\":[{\"automargin\":true,\"type\":\"pie\"}]},\"layout\":{\"autotypenumbers\":\"strict\",\"colorway\":[\"#636efa\",\"#EF553B\",\"#00cc96\",\"#ab63fa\",\"#FFA15A\",\"#19d3f3\",\"#FF6692\",\"#B6E880\",\"#FF97FF\",\"#FECB52\"],\"font\":{\"color\":\"#2a3f5f\"},\"hovermode\":\"closest\",\"hoverlabel\":{\"align\":\"left\"},\"paper_bgcolor\":\"white\",\"plot_bgcolor\":\"#E5ECF6\",\"polar\":{\"bgcolor\":\"#E5ECF6\",\"angularaxis\":{\"gridcolor\":\"white\",\"linecolor\":\"white\",\"ticks\":\"\"},\"radialaxis\":{\"gridcolor\":\"white\",\"linecolor\":\"white\",\"ticks\":\"\"}},\"ternary\":{\"bgcolor\":\"#E5ECF6\",\"aaxis\":{\"gridcolor\":\"white\",\"linecolor\":\"white\",\"ticks\":\"\"},\"baxis\":{\"gridcolor\":\"white\",\"linecolor\":\"white\",\"ticks\":\"\"},\"caxis\":{\"gridcolor\":\"white\",\"linecolor\":\"white\",\"ticks\":\"\"}},\"coloraxis\":{\"colorbar\":{\"outlinewidth\":0,\"ticks\":\"\"}},\"colorscale\":{\"sequential\":[[0.0,\"#0d0887\"],[0.1111111111111111,\"#46039f\"],[0.2222222222222222,\"#7201a8\"],[0.3333333333333333,\"#9c179e\"],[0.4444444444444444,\"#bd3786\"],[0.5555555555555556,\"#d8576b\"],[0.6666666666666666,\"#ed7953\"],[0.7777777777777778,\"#fb9f3a\"],[0.8888888888888888,\"#fdca26\"],[1.0,\"#f0f921\"]],\"sequentialminus\":[[0.0,\"#0d0887\"],[0.1111111111111111,\"#46039f\"],[0.2222222222222222,\"#7201a8\"],[0.3333333333333333,\"#9c179e\"],[0.4444444444444444,\"#bd3786\"],[0.5555555555555556,\"#d8576b\"],[0.6666666666666666,\"#ed7953\"],[0.7777777777777778,\"#fb9f3a\"],[0.8888888888888888,\"#fdca26\"],[1.0,\"#f0f921\"]],\"diverging\":[[0,\"#8e0152\"],[0.1,\"#c51b7d\"],[0.2,\"#de77ae\"],[0.3,\"#f1b6da\"],[0.4,\"#fde0ef\"],[0.5,\"#f7f7f7\"],[0.6,\"#e6f5d0\"],[0.7,\"#b8e186\"],[0.8,\"#7fbc41\"],[0.9,\"#4d9221\"],[1,\"#276419\"]]},\"xaxis\":{\"gridcolor\":\"white\",\"linecolor\":\"white\",\"ticks\":\"\",\"title\":{\"standoff\":15},\"zerolinecolor\":\"white\",\"automargin\":true,\"zerolinewidth\":2},\"yaxis\":{\"gridcolor\":\"white\",\"linecolor\":\"white\",\"ticks\":\"\",\"title\":{\"standoff\":15},\"zerolinecolor\":\"white\",\"automargin\":true,\"zerolinewidth\":2},\"scene\":{\"xaxis\":{\"backgroundcolor\":\"#E5ECF6\",\"gridcolor\":\"white\",\"linecolor\":\"white\",\"showbackground\":true,\"ticks\":\"\",\"zerolinecolor\":\"white\",\"gridwidth\":2},\"yaxis\":{\"backgroundcolor\":\"#E5ECF6\",\"gridcolor\":\"white\",\"linecolor\":\"white\",\"showbackground\":true,\"ticks\":\"\",\"zerolinecolor\":\"white\",\"gridwidth\":2},\"zaxis\":{\"backgroundcolor\":\"#E5ECF6\",\"gridcolor\":\"white\",\"linecolor\":\"white\",\"showbackground\":true,\"ticks\":\"\",\"zerolinecolor\":\"white\",\"gridwidth\":2}},\"shapedefaults\":{\"line\":{\"color\":\"#2a3f5f\"}},\"annotationdefaults\":{\"arrowcolor\":\"#2a3f5f\",\"arrowhead\":0,\"arrowwidth\":1},\"geo\":{\"bgcolor\":\"white\",\"landcolor\":\"#E5ECF6\",\"subunitcolor\":\"white\",\"showland\":true,\"showlakes\":true,\"lakecolor\":\"white\"},\"title\":{\"x\":0.05},\"mapbox\":{\"style\":\"light\"}}},\"legend\":{\"tracegroupgap\":0},\"margin\":{\"t\":60}},                        {\"responsive\": true}                    ).then(function(){\n",
       "                            \n",
       "var gd = document.getElementById('7fafdaf8-e5bf-421e-8af8-198334c160a0');\n",
       "var x = new MutationObserver(function (mutations, observer) {{\n",
       "        var display = window.getComputedStyle(gd).display;\n",
       "        if (!display || display === 'none') {{\n",
       "            console.log([gd, 'removed!']);\n",
       "            Plotly.purge(gd);\n",
       "            observer.disconnect();\n",
       "        }}\n",
       "}});\n",
       "\n",
       "// Listen for the removal of the full notebook cells\n",
       "var notebookContainer = gd.closest('#notebook-container');\n",
       "if (notebookContainer) {{\n",
       "    x.observe(notebookContainer, {childList: true});\n",
       "}}\n",
       "\n",
       "// Listen for the clearing of the current output cell\n",
       "var outputEl = gd.closest('.output');\n",
       "if (outputEl) {{\n",
       "    x.observe(outputEl, {childList: true});\n",
       "}}\n",
       "\n",
       "                        })                };                });            </script>        </div>"
      ]
     },
     "metadata": {},
     "output_type": "display_data"
    }
   ],
   "source": [
    "fig=px.sunburst(df_development, path=['PerformanceRating','EmpJobRole','ExperienceYearsAtThisCompany'])\n",
    "fig.show()\n",
    "\n",
    "# 6 Developers showing underlying performance have 2 -25 years of experience with current manager\n",
    "# 4 Senior Developers showing underlying performance have 2 of experience with current manager\n",
    "# 1 Techincal Leads showing underlying performance have 2 years of experience with current manager"
   ]
  },
  {
   "cell_type": "code",
   "execution_count": 165,
   "id": "769a1510",
   "metadata": {},
   "outputs": [
    {
     "data": {
      "application/vnd.plotly.v1+json": {
       "config": {
        "plotlyServerURL": "https://plot.ly"
       },
       "data": [
        {
         "branchvalues": "total",
         "domain": {
          "x": [
           0,
           1
          ],
          "y": [
           0,
           1
          ]
         },
         "hovertemplate": "labels=%{label}<br>count=%{value}<br>parent=%{parent}<br>id=%{id}<extra></extra>",
         "ids": [
          "3/Developer/1",
          "4/Developer/1",
          "3/Senior Developer/1",
          "3/Technical Lead/1",
          "3/Business Analyst/2",
          "4/Business Analyst/2",
          "3/Delivery Manager/2",
          "2/Developer/2",
          "3/Developer/2",
          "4/Developer/2",
          "3/Senior Developer/2",
          "4/Senior Developer/2",
          "3/Technical Architect/2",
          "3/Technical Lead/2",
          "4/Technical Lead/2",
          "3/Business Analyst/3",
          "4/Business Analyst/3",
          "3/Delivery Manager/3",
          "2/Developer/3",
          "3/Developer/3",
          "4/Developer/3",
          "2/Senior Developer/3",
          "3/Senior Developer/3",
          "4/Senior Developer/3",
          "3/Technical Architect/3",
          "2/Technical Lead/3",
          "3/Technical Lead/3",
          "4/Technical Lead/3",
          "3/Delivery Manager/4",
          "3/Developer/4",
          "4/Developer/4",
          "2/Senior Developer/4",
          "3/Senior Developer/4",
          "4/Senior Developer/4",
          "3/Technical Architect/4",
          "3/Technical Lead/4",
          "4/Technical Lead/4",
          "3/Business Analyst",
          "4/Business Analyst",
          "3/Delivery Manager",
          "2/Developer",
          "3/Developer",
          "4/Developer",
          "2/Senior Developer",
          "3/Senior Developer",
          "4/Senior Developer",
          "3/Technical Architect",
          "2/Technical Lead",
          "3/Technical Lead",
          "4/Technical Lead",
          "2",
          "3",
          "4"
         ],
         "labels": [
          "1",
          "1",
          "1",
          "1",
          "2",
          "2",
          "2",
          "2",
          "2",
          "2",
          "2",
          "2",
          "2",
          "2",
          "2",
          "3",
          "3",
          "3",
          "3",
          "3",
          "3",
          "3",
          "3",
          "3",
          "3",
          "3",
          "3",
          "3",
          "4",
          "4",
          "4",
          "4",
          "4",
          "4",
          "4",
          "4",
          "4",
          "Business Analyst",
          "Business Analyst",
          "Delivery Manager",
          "Developer",
          "Developer",
          "Developer",
          "Senior Developer",
          "Senior Developer",
          "Senior Developer",
          "Technical Architect",
          "Technical Lead",
          "Technical Lead",
          "Technical Lead",
          "2",
          "3",
          "4"
         ],
         "name": "",
         "parents": [
          "3/Developer",
          "4/Developer",
          "3/Senior Developer",
          "3/Technical Lead",
          "3/Business Analyst",
          "4/Business Analyst",
          "3/Delivery Manager",
          "2/Developer",
          "3/Developer",
          "4/Developer",
          "3/Senior Developer",
          "4/Senior Developer",
          "3/Technical Architect",
          "3/Technical Lead",
          "4/Technical Lead",
          "3/Business Analyst",
          "4/Business Analyst",
          "3/Delivery Manager",
          "2/Developer",
          "3/Developer",
          "4/Developer",
          "2/Senior Developer",
          "3/Senior Developer",
          "4/Senior Developer",
          "3/Technical Architect",
          "2/Technical Lead",
          "3/Technical Lead",
          "4/Technical Lead",
          "3/Delivery Manager",
          "3/Developer",
          "4/Developer",
          "2/Senior Developer",
          "3/Senior Developer",
          "4/Senior Developer",
          "3/Technical Architect",
          "3/Technical Lead",
          "4/Technical Lead",
          "3",
          "4",
          "3",
          "2",
          "3",
          "4",
          "2",
          "3",
          "4",
          "3",
          "2",
          "3",
          "4",
          "",
          "",
          ""
         ],
         "type": "sunburst",
         "values": [
          6,
          1,
          1,
          1,
          6,
          1,
          1,
          1,
          35,
          6,
          10,
          1,
          1,
          7,
          1,
          7,
          1,
          9,
          5,
          105,
          16,
          3,
          19,
          3,
          2,
          1,
          17,
          2,
          2,
          19,
          2,
          1,
          5,
          2,
          2,
          7,
          1,
          13,
          2,
          12,
          6,
          165,
          25,
          4,
          35,
          6,
          5,
          1,
          32,
          4,
          11,
          262,
          37
         ]
        }
       ],
       "layout": {
        "legend": {
         "tracegroupgap": 0
        },
        "margin": {
         "t": 60
        },
        "template": {
         "data": {
          "bar": [
           {
            "error_x": {
             "color": "#2a3f5f"
            },
            "error_y": {
             "color": "#2a3f5f"
            },
            "marker": {
             "line": {
              "color": "#E5ECF6",
              "width": 0.5
             },
             "pattern": {
              "fillmode": "overlay",
              "size": 10,
              "solidity": 0.2
             }
            },
            "type": "bar"
           }
          ],
          "barpolar": [
           {
            "marker": {
             "line": {
              "color": "#E5ECF6",
              "width": 0.5
             },
             "pattern": {
              "fillmode": "overlay",
              "size": 10,
              "solidity": 0.2
             }
            },
            "type": "barpolar"
           }
          ],
          "carpet": [
           {
            "aaxis": {
             "endlinecolor": "#2a3f5f",
             "gridcolor": "white",
             "linecolor": "white",
             "minorgridcolor": "white",
             "startlinecolor": "#2a3f5f"
            },
            "baxis": {
             "endlinecolor": "#2a3f5f",
             "gridcolor": "white",
             "linecolor": "white",
             "minorgridcolor": "white",
             "startlinecolor": "#2a3f5f"
            },
            "type": "carpet"
           }
          ],
          "choropleth": [
           {
            "colorbar": {
             "outlinewidth": 0,
             "ticks": ""
            },
            "type": "choropleth"
           }
          ],
          "contour": [
           {
            "colorbar": {
             "outlinewidth": 0,
             "ticks": ""
            },
            "colorscale": [
             [
              0,
              "#0d0887"
             ],
             [
              0.1111111111111111,
              "#46039f"
             ],
             [
              0.2222222222222222,
              "#7201a8"
             ],
             [
              0.3333333333333333,
              "#9c179e"
             ],
             [
              0.4444444444444444,
              "#bd3786"
             ],
             [
              0.5555555555555556,
              "#d8576b"
             ],
             [
              0.6666666666666666,
              "#ed7953"
             ],
             [
              0.7777777777777778,
              "#fb9f3a"
             ],
             [
              0.8888888888888888,
              "#fdca26"
             ],
             [
              1,
              "#f0f921"
             ]
            ],
            "type": "contour"
           }
          ],
          "contourcarpet": [
           {
            "colorbar": {
             "outlinewidth": 0,
             "ticks": ""
            },
            "type": "contourcarpet"
           }
          ],
          "heatmap": [
           {
            "colorbar": {
             "outlinewidth": 0,
             "ticks": ""
            },
            "colorscale": [
             [
              0,
              "#0d0887"
             ],
             [
              0.1111111111111111,
              "#46039f"
             ],
             [
              0.2222222222222222,
              "#7201a8"
             ],
             [
              0.3333333333333333,
              "#9c179e"
             ],
             [
              0.4444444444444444,
              "#bd3786"
             ],
             [
              0.5555555555555556,
              "#d8576b"
             ],
             [
              0.6666666666666666,
              "#ed7953"
             ],
             [
              0.7777777777777778,
              "#fb9f3a"
             ],
             [
              0.8888888888888888,
              "#fdca26"
             ],
             [
              1,
              "#f0f921"
             ]
            ],
            "type": "heatmap"
           }
          ],
          "heatmapgl": [
           {
            "colorbar": {
             "outlinewidth": 0,
             "ticks": ""
            },
            "colorscale": [
             [
              0,
              "#0d0887"
             ],
             [
              0.1111111111111111,
              "#46039f"
             ],
             [
              0.2222222222222222,
              "#7201a8"
             ],
             [
              0.3333333333333333,
              "#9c179e"
             ],
             [
              0.4444444444444444,
              "#bd3786"
             ],
             [
              0.5555555555555556,
              "#d8576b"
             ],
             [
              0.6666666666666666,
              "#ed7953"
             ],
             [
              0.7777777777777778,
              "#fb9f3a"
             ],
             [
              0.8888888888888888,
              "#fdca26"
             ],
             [
              1,
              "#f0f921"
             ]
            ],
            "type": "heatmapgl"
           }
          ],
          "histogram": [
           {
            "marker": {
             "pattern": {
              "fillmode": "overlay",
              "size": 10,
              "solidity": 0.2
             }
            },
            "type": "histogram"
           }
          ],
          "histogram2d": [
           {
            "colorbar": {
             "outlinewidth": 0,
             "ticks": ""
            },
            "colorscale": [
             [
              0,
              "#0d0887"
             ],
             [
              0.1111111111111111,
              "#46039f"
             ],
             [
              0.2222222222222222,
              "#7201a8"
             ],
             [
              0.3333333333333333,
              "#9c179e"
             ],
             [
              0.4444444444444444,
              "#bd3786"
             ],
             [
              0.5555555555555556,
              "#d8576b"
             ],
             [
              0.6666666666666666,
              "#ed7953"
             ],
             [
              0.7777777777777778,
              "#fb9f3a"
             ],
             [
              0.8888888888888888,
              "#fdca26"
             ],
             [
              1,
              "#f0f921"
             ]
            ],
            "type": "histogram2d"
           }
          ],
          "histogram2dcontour": [
           {
            "colorbar": {
             "outlinewidth": 0,
             "ticks": ""
            },
            "colorscale": [
             [
              0,
              "#0d0887"
             ],
             [
              0.1111111111111111,
              "#46039f"
             ],
             [
              0.2222222222222222,
              "#7201a8"
             ],
             [
              0.3333333333333333,
              "#9c179e"
             ],
             [
              0.4444444444444444,
              "#bd3786"
             ],
             [
              0.5555555555555556,
              "#d8576b"
             ],
             [
              0.6666666666666666,
              "#ed7953"
             ],
             [
              0.7777777777777778,
              "#fb9f3a"
             ],
             [
              0.8888888888888888,
              "#fdca26"
             ],
             [
              1,
              "#f0f921"
             ]
            ],
            "type": "histogram2dcontour"
           }
          ],
          "mesh3d": [
           {
            "colorbar": {
             "outlinewidth": 0,
             "ticks": ""
            },
            "type": "mesh3d"
           }
          ],
          "parcoords": [
           {
            "line": {
             "colorbar": {
              "outlinewidth": 0,
              "ticks": ""
             }
            },
            "type": "parcoords"
           }
          ],
          "pie": [
           {
            "automargin": true,
            "type": "pie"
           }
          ],
          "scatter": [
           {
            "fillpattern": {
             "fillmode": "overlay",
             "size": 10,
             "solidity": 0.2
            },
            "type": "scatter"
           }
          ],
          "scatter3d": [
           {
            "line": {
             "colorbar": {
              "outlinewidth": 0,
              "ticks": ""
             }
            },
            "marker": {
             "colorbar": {
              "outlinewidth": 0,
              "ticks": ""
             }
            },
            "type": "scatter3d"
           }
          ],
          "scattercarpet": [
           {
            "marker": {
             "colorbar": {
              "outlinewidth": 0,
              "ticks": ""
             }
            },
            "type": "scattercarpet"
           }
          ],
          "scattergeo": [
           {
            "marker": {
             "colorbar": {
              "outlinewidth": 0,
              "ticks": ""
             }
            },
            "type": "scattergeo"
           }
          ],
          "scattergl": [
           {
            "marker": {
             "colorbar": {
              "outlinewidth": 0,
              "ticks": ""
             }
            },
            "type": "scattergl"
           }
          ],
          "scattermapbox": [
           {
            "marker": {
             "colorbar": {
              "outlinewidth": 0,
              "ticks": ""
             }
            },
            "type": "scattermapbox"
           }
          ],
          "scatterpolar": [
           {
            "marker": {
             "colorbar": {
              "outlinewidth": 0,
              "ticks": ""
             }
            },
            "type": "scatterpolar"
           }
          ],
          "scatterpolargl": [
           {
            "marker": {
             "colorbar": {
              "outlinewidth": 0,
              "ticks": ""
             }
            },
            "type": "scatterpolargl"
           }
          ],
          "scatterternary": [
           {
            "marker": {
             "colorbar": {
              "outlinewidth": 0,
              "ticks": ""
             }
            },
            "type": "scatterternary"
           }
          ],
          "surface": [
           {
            "colorbar": {
             "outlinewidth": 0,
             "ticks": ""
            },
            "colorscale": [
             [
              0,
              "#0d0887"
             ],
             [
              0.1111111111111111,
              "#46039f"
             ],
             [
              0.2222222222222222,
              "#7201a8"
             ],
             [
              0.3333333333333333,
              "#9c179e"
             ],
             [
              0.4444444444444444,
              "#bd3786"
             ],
             [
              0.5555555555555556,
              "#d8576b"
             ],
             [
              0.6666666666666666,
              "#ed7953"
             ],
             [
              0.7777777777777778,
              "#fb9f3a"
             ],
             [
              0.8888888888888888,
              "#fdca26"
             ],
             [
              1,
              "#f0f921"
             ]
            ],
            "type": "surface"
           }
          ],
          "table": [
           {
            "cells": {
             "fill": {
              "color": "#EBF0F8"
             },
             "line": {
              "color": "white"
             }
            },
            "header": {
             "fill": {
              "color": "#C8D4E3"
             },
             "line": {
              "color": "white"
             }
            },
            "type": "table"
           }
          ]
         },
         "layout": {
          "annotationdefaults": {
           "arrowcolor": "#2a3f5f",
           "arrowhead": 0,
           "arrowwidth": 1
          },
          "autotypenumbers": "strict",
          "coloraxis": {
           "colorbar": {
            "outlinewidth": 0,
            "ticks": ""
           }
          },
          "colorscale": {
           "diverging": [
            [
             0,
             "#8e0152"
            ],
            [
             0.1,
             "#c51b7d"
            ],
            [
             0.2,
             "#de77ae"
            ],
            [
             0.3,
             "#f1b6da"
            ],
            [
             0.4,
             "#fde0ef"
            ],
            [
             0.5,
             "#f7f7f7"
            ],
            [
             0.6,
             "#e6f5d0"
            ],
            [
             0.7,
             "#b8e186"
            ],
            [
             0.8,
             "#7fbc41"
            ],
            [
             0.9,
             "#4d9221"
            ],
            [
             1,
             "#276419"
            ]
           ],
           "sequential": [
            [
             0,
             "#0d0887"
            ],
            [
             0.1111111111111111,
             "#46039f"
            ],
            [
             0.2222222222222222,
             "#7201a8"
            ],
            [
             0.3333333333333333,
             "#9c179e"
            ],
            [
             0.4444444444444444,
             "#bd3786"
            ],
            [
             0.5555555555555556,
             "#d8576b"
            ],
            [
             0.6666666666666666,
             "#ed7953"
            ],
            [
             0.7777777777777778,
             "#fb9f3a"
            ],
            [
             0.8888888888888888,
             "#fdca26"
            ],
            [
             1,
             "#f0f921"
            ]
           ],
           "sequentialminus": [
            [
             0,
             "#0d0887"
            ],
            [
             0.1111111111111111,
             "#46039f"
            ],
            [
             0.2222222222222222,
             "#7201a8"
            ],
            [
             0.3333333333333333,
             "#9c179e"
            ],
            [
             0.4444444444444444,
             "#bd3786"
            ],
            [
             0.5555555555555556,
             "#d8576b"
            ],
            [
             0.6666666666666666,
             "#ed7953"
            ],
            [
             0.7777777777777778,
             "#fb9f3a"
            ],
            [
             0.8888888888888888,
             "#fdca26"
            ],
            [
             1,
             "#f0f921"
            ]
           ]
          },
          "colorway": [
           "#636efa",
           "#EF553B",
           "#00cc96",
           "#ab63fa",
           "#FFA15A",
           "#19d3f3",
           "#FF6692",
           "#B6E880",
           "#FF97FF",
           "#FECB52"
          ],
          "font": {
           "color": "#2a3f5f"
          },
          "geo": {
           "bgcolor": "white",
           "lakecolor": "white",
           "landcolor": "#E5ECF6",
           "showlakes": true,
           "showland": true,
           "subunitcolor": "white"
          },
          "hoverlabel": {
           "align": "left"
          },
          "hovermode": "closest",
          "mapbox": {
           "style": "light"
          },
          "paper_bgcolor": "white",
          "plot_bgcolor": "#E5ECF6",
          "polar": {
           "angularaxis": {
            "gridcolor": "white",
            "linecolor": "white",
            "ticks": ""
           },
           "bgcolor": "#E5ECF6",
           "radialaxis": {
            "gridcolor": "white",
            "linecolor": "white",
            "ticks": ""
           }
          },
          "scene": {
           "xaxis": {
            "backgroundcolor": "#E5ECF6",
            "gridcolor": "white",
            "gridwidth": 2,
            "linecolor": "white",
            "showbackground": true,
            "ticks": "",
            "zerolinecolor": "white"
           },
           "yaxis": {
            "backgroundcolor": "#E5ECF6",
            "gridcolor": "white",
            "gridwidth": 2,
            "linecolor": "white",
            "showbackground": true,
            "ticks": "",
            "zerolinecolor": "white"
           },
           "zaxis": {
            "backgroundcolor": "#E5ECF6",
            "gridcolor": "white",
            "gridwidth": 2,
            "linecolor": "white",
            "showbackground": true,
            "ticks": "",
            "zerolinecolor": "white"
           }
          },
          "shapedefaults": {
           "line": {
            "color": "#2a3f5f"
           }
          },
          "ternary": {
           "aaxis": {
            "gridcolor": "white",
            "linecolor": "white",
            "ticks": ""
           },
           "baxis": {
            "gridcolor": "white",
            "linecolor": "white",
            "ticks": ""
           },
           "bgcolor": "#E5ECF6",
           "caxis": {
            "gridcolor": "white",
            "linecolor": "white",
            "ticks": ""
           }
          },
          "title": {
           "x": 0.05
          },
          "xaxis": {
           "automargin": true,
           "gridcolor": "white",
           "linecolor": "white",
           "ticks": "",
           "title": {
            "standoff": 15
           },
           "zerolinecolor": "white",
           "zerolinewidth": 2
          },
          "yaxis": {
           "automargin": true,
           "gridcolor": "white",
           "linecolor": "white",
           "ticks": "",
           "title": {
            "standoff": 15
           },
           "zerolinecolor": "white",
           "zerolinewidth": 2
          }
         }
        }
       }
      },
      "text/html": [
       "<div>                            <div id=\"60465c63-dc1b-4429-8098-76e2e4d24149\" class=\"plotly-graph-div\" style=\"height:525px; width:100%;\"></div>            <script type=\"text/javascript\">                require([\"plotly\"], function(Plotly) {                    window.PLOTLYENV=window.PLOTLYENV || {};                                    if (document.getElementById(\"60465c63-dc1b-4429-8098-76e2e4d24149\")) {                    Plotly.newPlot(                        \"60465c63-dc1b-4429-8098-76e2e4d24149\",                        [{\"branchvalues\":\"total\",\"domain\":{\"x\":[0.0,1.0],\"y\":[0.0,1.0]},\"hovertemplate\":\"labels=%{label}<br>count=%{value}<br>parent=%{parent}<br>id=%{id}<extra></extra>\",\"ids\":[\"3/Developer/1\",\"4/Developer/1\",\"3/Senior Developer/1\",\"3/Technical Lead/1\",\"3/Business Analyst/2\",\"4/Business Analyst/2\",\"3/Delivery Manager/2\",\"2/Developer/2\",\"3/Developer/2\",\"4/Developer/2\",\"3/Senior Developer/2\",\"4/Senior Developer/2\",\"3/Technical Architect/2\",\"3/Technical Lead/2\",\"4/Technical Lead/2\",\"3/Business Analyst/3\",\"4/Business Analyst/3\",\"3/Delivery Manager/3\",\"2/Developer/3\",\"3/Developer/3\",\"4/Developer/3\",\"2/Senior Developer/3\",\"3/Senior Developer/3\",\"4/Senior Developer/3\",\"3/Technical Architect/3\",\"2/Technical Lead/3\",\"3/Technical Lead/3\",\"4/Technical Lead/3\",\"3/Delivery Manager/4\",\"3/Developer/4\",\"4/Developer/4\",\"2/Senior Developer/4\",\"3/Senior Developer/4\",\"4/Senior Developer/4\",\"3/Technical Architect/4\",\"3/Technical Lead/4\",\"4/Technical Lead/4\",\"3/Business Analyst\",\"4/Business Analyst\",\"3/Delivery Manager\",\"2/Developer\",\"3/Developer\",\"4/Developer\",\"2/Senior Developer\",\"3/Senior Developer\",\"4/Senior Developer\",\"3/Technical Architect\",\"2/Technical Lead\",\"3/Technical Lead\",\"4/Technical Lead\",\"2\",\"3\",\"4\"],\"labels\":[\"1\",\"1\",\"1\",\"1\",\"2\",\"2\",\"2\",\"2\",\"2\",\"2\",\"2\",\"2\",\"2\",\"2\",\"2\",\"3\",\"3\",\"3\",\"3\",\"3\",\"3\",\"3\",\"3\",\"3\",\"3\",\"3\",\"3\",\"3\",\"4\",\"4\",\"4\",\"4\",\"4\",\"4\",\"4\",\"4\",\"4\",\"Business Analyst\",\"Business Analyst\",\"Delivery Manager\",\"Developer\",\"Developer\",\"Developer\",\"Senior Developer\",\"Senior Developer\",\"Senior Developer\",\"Technical Architect\",\"Technical Lead\",\"Technical Lead\",\"Technical Lead\",\"2\",\"3\",\"4\"],\"name\":\"\",\"parents\":[\"3/Developer\",\"4/Developer\",\"3/Senior Developer\",\"3/Technical Lead\",\"3/Business Analyst\",\"4/Business Analyst\",\"3/Delivery Manager\",\"2/Developer\",\"3/Developer\",\"4/Developer\",\"3/Senior Developer\",\"4/Senior Developer\",\"3/Technical Architect\",\"3/Technical Lead\",\"4/Technical Lead\",\"3/Business Analyst\",\"4/Business Analyst\",\"3/Delivery Manager\",\"2/Developer\",\"3/Developer\",\"4/Developer\",\"2/Senior Developer\",\"3/Senior Developer\",\"4/Senior Developer\",\"3/Technical Architect\",\"2/Technical Lead\",\"3/Technical Lead\",\"4/Technical Lead\",\"3/Delivery Manager\",\"3/Developer\",\"4/Developer\",\"2/Senior Developer\",\"3/Senior Developer\",\"4/Senior Developer\",\"3/Technical Architect\",\"3/Technical Lead\",\"4/Technical Lead\",\"3\",\"4\",\"3\",\"2\",\"3\",\"4\",\"2\",\"3\",\"4\",\"3\",\"2\",\"3\",\"4\",\"\",\"\",\"\"],\"values\":[6,1,1,1,6,1,1,1,35,6,10,1,1,7,1,7,1,9,5,105,16,3,19,3,2,1,17,2,2,19,2,1,5,2,2,7,1,13,2,12,6,165,25,4,35,6,5,1,32,4,11,262,37],\"type\":\"sunburst\"}],                        {\"template\":{\"data\":{\"histogram2dcontour\":[{\"type\":\"histogram2dcontour\",\"colorbar\":{\"outlinewidth\":0,\"ticks\":\"\"},\"colorscale\":[[0.0,\"#0d0887\"],[0.1111111111111111,\"#46039f\"],[0.2222222222222222,\"#7201a8\"],[0.3333333333333333,\"#9c179e\"],[0.4444444444444444,\"#bd3786\"],[0.5555555555555556,\"#d8576b\"],[0.6666666666666666,\"#ed7953\"],[0.7777777777777778,\"#fb9f3a\"],[0.8888888888888888,\"#fdca26\"],[1.0,\"#f0f921\"]]}],\"choropleth\":[{\"type\":\"choropleth\",\"colorbar\":{\"outlinewidth\":0,\"ticks\":\"\"}}],\"histogram2d\":[{\"type\":\"histogram2d\",\"colorbar\":{\"outlinewidth\":0,\"ticks\":\"\"},\"colorscale\":[[0.0,\"#0d0887\"],[0.1111111111111111,\"#46039f\"],[0.2222222222222222,\"#7201a8\"],[0.3333333333333333,\"#9c179e\"],[0.4444444444444444,\"#bd3786\"],[0.5555555555555556,\"#d8576b\"],[0.6666666666666666,\"#ed7953\"],[0.7777777777777778,\"#fb9f3a\"],[0.8888888888888888,\"#fdca26\"],[1.0,\"#f0f921\"]]}],\"heatmap\":[{\"type\":\"heatmap\",\"colorbar\":{\"outlinewidth\":0,\"ticks\":\"\"},\"colorscale\":[[0.0,\"#0d0887\"],[0.1111111111111111,\"#46039f\"],[0.2222222222222222,\"#7201a8\"],[0.3333333333333333,\"#9c179e\"],[0.4444444444444444,\"#bd3786\"],[0.5555555555555556,\"#d8576b\"],[0.6666666666666666,\"#ed7953\"],[0.7777777777777778,\"#fb9f3a\"],[0.8888888888888888,\"#fdca26\"],[1.0,\"#f0f921\"]]}],\"heatmapgl\":[{\"type\":\"heatmapgl\",\"colorbar\":{\"outlinewidth\":0,\"ticks\":\"\"},\"colorscale\":[[0.0,\"#0d0887\"],[0.1111111111111111,\"#46039f\"],[0.2222222222222222,\"#7201a8\"],[0.3333333333333333,\"#9c179e\"],[0.4444444444444444,\"#bd3786\"],[0.5555555555555556,\"#d8576b\"],[0.6666666666666666,\"#ed7953\"],[0.7777777777777778,\"#fb9f3a\"],[0.8888888888888888,\"#fdca26\"],[1.0,\"#f0f921\"]]}],\"contourcarpet\":[{\"type\":\"contourcarpet\",\"colorbar\":{\"outlinewidth\":0,\"ticks\":\"\"}}],\"contour\":[{\"type\":\"contour\",\"colorbar\":{\"outlinewidth\":0,\"ticks\":\"\"},\"colorscale\":[[0.0,\"#0d0887\"],[0.1111111111111111,\"#46039f\"],[0.2222222222222222,\"#7201a8\"],[0.3333333333333333,\"#9c179e\"],[0.4444444444444444,\"#bd3786\"],[0.5555555555555556,\"#d8576b\"],[0.6666666666666666,\"#ed7953\"],[0.7777777777777778,\"#fb9f3a\"],[0.8888888888888888,\"#fdca26\"],[1.0,\"#f0f921\"]]}],\"surface\":[{\"type\":\"surface\",\"colorbar\":{\"outlinewidth\":0,\"ticks\":\"\"},\"colorscale\":[[0.0,\"#0d0887\"],[0.1111111111111111,\"#46039f\"],[0.2222222222222222,\"#7201a8\"],[0.3333333333333333,\"#9c179e\"],[0.4444444444444444,\"#bd3786\"],[0.5555555555555556,\"#d8576b\"],[0.6666666666666666,\"#ed7953\"],[0.7777777777777778,\"#fb9f3a\"],[0.8888888888888888,\"#fdca26\"],[1.0,\"#f0f921\"]]}],\"mesh3d\":[{\"type\":\"mesh3d\",\"colorbar\":{\"outlinewidth\":0,\"ticks\":\"\"}}],\"scatter\":[{\"fillpattern\":{\"fillmode\":\"overlay\",\"size\":10,\"solidity\":0.2},\"type\":\"scatter\"}],\"parcoords\":[{\"type\":\"parcoords\",\"line\":{\"colorbar\":{\"outlinewidth\":0,\"ticks\":\"\"}}}],\"scatterpolargl\":[{\"type\":\"scatterpolargl\",\"marker\":{\"colorbar\":{\"outlinewidth\":0,\"ticks\":\"\"}}}],\"bar\":[{\"error_x\":{\"color\":\"#2a3f5f\"},\"error_y\":{\"color\":\"#2a3f5f\"},\"marker\":{\"line\":{\"color\":\"#E5ECF6\",\"width\":0.5},\"pattern\":{\"fillmode\":\"overlay\",\"size\":10,\"solidity\":0.2}},\"type\":\"bar\"}],\"scattergeo\":[{\"type\":\"scattergeo\",\"marker\":{\"colorbar\":{\"outlinewidth\":0,\"ticks\":\"\"}}}],\"scatterpolar\":[{\"type\":\"scatterpolar\",\"marker\":{\"colorbar\":{\"outlinewidth\":0,\"ticks\":\"\"}}}],\"histogram\":[{\"marker\":{\"pattern\":{\"fillmode\":\"overlay\",\"size\":10,\"solidity\":0.2}},\"type\":\"histogram\"}],\"scattergl\":[{\"type\":\"scattergl\",\"marker\":{\"colorbar\":{\"outlinewidth\":0,\"ticks\":\"\"}}}],\"scatter3d\":[{\"type\":\"scatter3d\",\"line\":{\"colorbar\":{\"outlinewidth\":0,\"ticks\":\"\"}},\"marker\":{\"colorbar\":{\"outlinewidth\":0,\"ticks\":\"\"}}}],\"scattermapbox\":[{\"type\":\"scattermapbox\",\"marker\":{\"colorbar\":{\"outlinewidth\":0,\"ticks\":\"\"}}}],\"scatterternary\":[{\"type\":\"scatterternary\",\"marker\":{\"colorbar\":{\"outlinewidth\":0,\"ticks\":\"\"}}}],\"scattercarpet\":[{\"type\":\"scattercarpet\",\"marker\":{\"colorbar\":{\"outlinewidth\":0,\"ticks\":\"\"}}}],\"carpet\":[{\"aaxis\":{\"endlinecolor\":\"#2a3f5f\",\"gridcolor\":\"white\",\"linecolor\":\"white\",\"minorgridcolor\":\"white\",\"startlinecolor\":\"#2a3f5f\"},\"baxis\":{\"endlinecolor\":\"#2a3f5f\",\"gridcolor\":\"white\",\"linecolor\":\"white\",\"minorgridcolor\":\"white\",\"startlinecolor\":\"#2a3f5f\"},\"type\":\"carpet\"}],\"table\":[{\"cells\":{\"fill\":{\"color\":\"#EBF0F8\"},\"line\":{\"color\":\"white\"}},\"header\":{\"fill\":{\"color\":\"#C8D4E3\"},\"line\":{\"color\":\"white\"}},\"type\":\"table\"}],\"barpolar\":[{\"marker\":{\"line\":{\"color\":\"#E5ECF6\",\"width\":0.5},\"pattern\":{\"fillmode\":\"overlay\",\"size\":10,\"solidity\":0.2}},\"type\":\"barpolar\"}],\"pie\":[{\"automargin\":true,\"type\":\"pie\"}]},\"layout\":{\"autotypenumbers\":\"strict\",\"colorway\":[\"#636efa\",\"#EF553B\",\"#00cc96\",\"#ab63fa\",\"#FFA15A\",\"#19d3f3\",\"#FF6692\",\"#B6E880\",\"#FF97FF\",\"#FECB52\"],\"font\":{\"color\":\"#2a3f5f\"},\"hovermode\":\"closest\",\"hoverlabel\":{\"align\":\"left\"},\"paper_bgcolor\":\"white\",\"plot_bgcolor\":\"#E5ECF6\",\"polar\":{\"bgcolor\":\"#E5ECF6\",\"angularaxis\":{\"gridcolor\":\"white\",\"linecolor\":\"white\",\"ticks\":\"\"},\"radialaxis\":{\"gridcolor\":\"white\",\"linecolor\":\"white\",\"ticks\":\"\"}},\"ternary\":{\"bgcolor\":\"#E5ECF6\",\"aaxis\":{\"gridcolor\":\"white\",\"linecolor\":\"white\",\"ticks\":\"\"},\"baxis\":{\"gridcolor\":\"white\",\"linecolor\":\"white\",\"ticks\":\"\"},\"caxis\":{\"gridcolor\":\"white\",\"linecolor\":\"white\",\"ticks\":\"\"}},\"coloraxis\":{\"colorbar\":{\"outlinewidth\":0,\"ticks\":\"\"}},\"colorscale\":{\"sequential\":[[0.0,\"#0d0887\"],[0.1111111111111111,\"#46039f\"],[0.2222222222222222,\"#7201a8\"],[0.3333333333333333,\"#9c179e\"],[0.4444444444444444,\"#bd3786\"],[0.5555555555555556,\"#d8576b\"],[0.6666666666666666,\"#ed7953\"],[0.7777777777777778,\"#fb9f3a\"],[0.8888888888888888,\"#fdca26\"],[1.0,\"#f0f921\"]],\"sequentialminus\":[[0.0,\"#0d0887\"],[0.1111111111111111,\"#46039f\"],[0.2222222222222222,\"#7201a8\"],[0.3333333333333333,\"#9c179e\"],[0.4444444444444444,\"#bd3786\"],[0.5555555555555556,\"#d8576b\"],[0.6666666666666666,\"#ed7953\"],[0.7777777777777778,\"#fb9f3a\"],[0.8888888888888888,\"#fdca26\"],[1.0,\"#f0f921\"]],\"diverging\":[[0,\"#8e0152\"],[0.1,\"#c51b7d\"],[0.2,\"#de77ae\"],[0.3,\"#f1b6da\"],[0.4,\"#fde0ef\"],[0.5,\"#f7f7f7\"],[0.6,\"#e6f5d0\"],[0.7,\"#b8e186\"],[0.8,\"#7fbc41\"],[0.9,\"#4d9221\"],[1,\"#276419\"]]},\"xaxis\":{\"gridcolor\":\"white\",\"linecolor\":\"white\",\"ticks\":\"\",\"title\":{\"standoff\":15},\"zerolinecolor\":\"white\",\"automargin\":true,\"zerolinewidth\":2},\"yaxis\":{\"gridcolor\":\"white\",\"linecolor\":\"white\",\"ticks\":\"\",\"title\":{\"standoff\":15},\"zerolinecolor\":\"white\",\"automargin\":true,\"zerolinewidth\":2},\"scene\":{\"xaxis\":{\"backgroundcolor\":\"#E5ECF6\",\"gridcolor\":\"white\",\"linecolor\":\"white\",\"showbackground\":true,\"ticks\":\"\",\"zerolinecolor\":\"white\",\"gridwidth\":2},\"yaxis\":{\"backgroundcolor\":\"#E5ECF6\",\"gridcolor\":\"white\",\"linecolor\":\"white\",\"showbackground\":true,\"ticks\":\"\",\"zerolinecolor\":\"white\",\"gridwidth\":2},\"zaxis\":{\"backgroundcolor\":\"#E5ECF6\",\"gridcolor\":\"white\",\"linecolor\":\"white\",\"showbackground\":true,\"ticks\":\"\",\"zerolinecolor\":\"white\",\"gridwidth\":2}},\"shapedefaults\":{\"line\":{\"color\":\"#2a3f5f\"}},\"annotationdefaults\":{\"arrowcolor\":\"#2a3f5f\",\"arrowhead\":0,\"arrowwidth\":1},\"geo\":{\"bgcolor\":\"white\",\"landcolor\":\"#E5ECF6\",\"subunitcolor\":\"white\",\"showland\":true,\"showlakes\":true,\"lakecolor\":\"white\"},\"title\":{\"x\":0.05},\"mapbox\":{\"style\":\"light\"}}},\"legend\":{\"tracegroupgap\":0},\"margin\":{\"t\":60}},                        {\"responsive\": true}                    ).then(function(){\n",
       "                            \n",
       "var gd = document.getElementById('60465c63-dc1b-4429-8098-76e2e4d24149');\n",
       "var x = new MutationObserver(function (mutations, observer) {{\n",
       "        var display = window.getComputedStyle(gd).display;\n",
       "        if (!display || display === 'none') {{\n",
       "            console.log([gd, 'removed!']);\n",
       "            Plotly.purge(gd);\n",
       "            observer.disconnect();\n",
       "        }}\n",
       "}});\n",
       "\n",
       "// Listen for the removal of the full notebook cells\n",
       "var notebookContainer = gd.closest('#notebook-container');\n",
       "if (notebookContainer) {{\n",
       "    x.observe(notebookContainer, {childList: true});\n",
       "}}\n",
       "\n",
       "// Listen for the clearing of the current output cell\n",
       "var outputEl = gd.closest('.output');\n",
       "if (outputEl) {{\n",
       "    x.observe(outputEl, {childList: true});\n",
       "}}\n",
       "\n",
       "                        })                };                });            </script>        </div>"
      ]
     },
     "metadata": {},
     "output_type": "display_data"
    }
   ],
   "source": [
    "# 2) Service Delivery Quality\n",
    "\n",
    "fig=px.sunburst(df_development, path=['PerformanceRating','EmpJobRole','EmpJobInvolvement'])\n",
    "fig.show()\n",
    "\n",
    "# Surprisingly, only 1 developer among 11 emoplyees from Development dept. who under-performed have shown Job Involment level 2."
   ]
  },
  {
   "cell_type": "code",
   "execution_count": 166,
   "id": "7de5ef26",
   "metadata": {},
   "outputs": [
    {
     "data": {
      "image/png": "[encoded data removed]",
      "text/plain": [
       "<Figure size 1008x576 with 1 Axes>"
      ]
     },
     "metadata": {
      "needs_background": "light"
     },
     "output_type": "display_data"
    }
   ],
   "source": [
    "# 3) Issues faced due to Travel (for development team) - Home to office distance\n",
    "\n",
    "plt.figure(figsize=(14,8))\n",
    "sns.countplot(data = df_development, x='DistanceFromHome', hue = 'PerformanceRating')\n",
    "plt.show()\n",
    "\n",
    "# It is observed that maximum employees of Development team have no travel issues due to distance from home to office."
   ]
  },
  {
   "cell_type": "code",
   "execution_count": 167,
   "id": "481ed3f2",
   "metadata": {},
   "outputs": [
    {
     "data": {
      "application/vnd.plotly.v1+json": {
       "config": {
        "plotlyServerURL": "https://plot.ly"
       },
       "data": [
        {
         "branchvalues": "total",
         "domain": {
          "x": [
           0,
           1
          ],
          "y": [
           0,
           1
          ]
         },
         "hovertemplate": "labels=%{label}<br>count=%{value}<br>parent=%{parent}<br>id=%{id}<extra></extra>",
         "ids": [
          "3/Business Analyst/No",
          "4/Business Analyst/No",
          "3/Delivery Manager/No",
          "2/Developer/No",
          "3/Developer/No",
          "4/Developer/No",
          "2/Senior Developer/No",
          "3/Senior Developer/No",
          "4/Senior Developer/No",
          "3/Technical Architect/No",
          "2/Technical Lead/No",
          "3/Technical Lead/No",
          "4/Technical Lead/No",
          "3/Business Analyst/Yes",
          "3/Delivery Manager/Yes",
          "2/Developer/Yes",
          "3/Developer/Yes",
          "4/Developer/Yes",
          "2/Senior Developer/Yes",
          "3/Senior Developer/Yes",
          "4/Senior Developer/Yes",
          "3/Technical Architect/Yes",
          "3/Technical Lead/Yes",
          "4/Technical Lead/Yes",
          "3/Business Analyst",
          "4/Business Analyst",
          "3/Delivery Manager",
          "2/Developer",
          "3/Developer",
          "4/Developer",
          "2/Senior Developer",
          "3/Senior Developer",
          "4/Senior Developer",
          "3/Technical Architect",
          "2/Technical Lead",
          "3/Technical Lead",
          "4/Technical Lead",
          "2",
          "3",
          "4"
         ],
         "labels": [
          "No",
          "No",
          "No",
          "No",
          "No",
          "No",
          "No",
          "No",
          "No",
          "No",
          "No",
          "No",
          "No",
          "Yes",
          "Yes",
          "Yes",
          "Yes",
          "Yes",
          "Yes",
          "Yes",
          "Yes",
          "Yes",
          "Yes",
          "Yes",
          "Business Analyst",
          "Business Analyst",
          "Delivery Manager",
          "Developer",
          "Developer",
          "Developer",
          "Senior Developer",
          "Senior Developer",
          "Senior Developer",
          "Technical Architect",
          "Technical Lead",
          "Technical Lead",
          "Technical Lead",
          "2",
          "3",
          "4"
         ],
         "name": "",
         "parents": [
          "3/Business Analyst",
          "4/Business Analyst",
          "3/Delivery Manager",
          "2/Developer",
          "3/Developer",
          "4/Developer",
          "2/Senior Developer",
          "3/Senior Developer",
          "4/Senior Developer",
          "3/Technical Architect",
          "2/Technical Lead",
          "3/Technical Lead",
          "4/Technical Lead",
          "3/Business Analyst",
          "3/Delivery Manager",
          "2/Developer",
          "3/Developer",
          "4/Developer",
          "2/Senior Developer",
          "3/Senior Developer",
          "4/Senior Developer",
          "3/Technical Architect",
          "3/Technical Lead",
          "4/Technical Lead",
          "3",
          "4",
          "3",
          "2",
          "3",
          "4",
          "2",
          "3",
          "4",
          "3",
          "2",
          "3",
          "4",
          "",
          "",
          ""
         ],
         "type": "sunburst",
         "values": [
          11,
          2,
          7,
          4,
          117,
          21,
          3,
          22,
          5,
          3,
          1,
          24,
          3,
          2,
          5,
          2,
          48,
          4,
          1,
          13,
          1,
          2,
          8,
          1,
          13,
          2,
          12,
          6,
          165,
          25,
          4,
          35,
          6,
          5,
          1,
          32,
          4,
          11,
          262,
          37
         ]
        }
       ],
       "layout": {
        "legend": {
         "tracegroupgap": 0
        },
        "margin": {
         "t": 60
        },
        "template": {
         "data": {
          "bar": [
           {
            "error_x": {
             "color": "#2a3f5f"
            },
            "error_y": {
             "color": "#2a3f5f"
            },
            "marker": {
             "line": {
              "color": "#E5ECF6",
              "width": 0.5
             },
             "pattern": {
              "fillmode": "overlay",
              "size": 10,
              "solidity": 0.2
             }
            },
            "type": "bar"
           }
          ],
          "barpolar": [
           {
            "marker": {
             "line": {
              "color": "#E5ECF6",
              "width": 0.5
             },
             "pattern": {
              "fillmode": "overlay",
              "size": 10,
              "solidity": 0.2
             }
            },
            "type": "barpolar"
           }
          ],
          "carpet": [
           {
            "aaxis": {
             "endlinecolor": "#2a3f5f",
             "gridcolor": "white",
             "linecolor": "white",
             "minorgridcolor": "white",
             "startlinecolor": "#2a3f5f"
            },
            "baxis": {
             "endlinecolor": "#2a3f5f",
             "gridcolor": "white",
             "linecolor": "white",
             "minorgridcolor": "white",
             "startlinecolor": "#2a3f5f"
            },
            "type": "carpet"
           }
          ],
          "choropleth": [
           {
            "colorbar": {
             "outlinewidth": 0,
             "ticks": ""
            },
            "type": "choropleth"
           }
          ],
          "contour": [
           {
            "colorbar": {
             "outlinewidth": 0,
             "ticks": ""
            },
            "colorscale": [
             [
              0,
              "#0d0887"
             ],
             [
              0.1111111111111111,
              "#46039f"
             ],
             [
              0.2222222222222222,
              "#7201a8"
             ],
             [
              0.3333333333333333,
              "#9c179e"
             ],
             [
              0.4444444444444444,
              "#bd3786"
             ],
             [
              0.5555555555555556,
              "#d8576b"
             ],
             [
              0.6666666666666666,
              "#ed7953"
             ],
             [
              0.7777777777777778,
              "#fb9f3a"
             ],
             [
              0.8888888888888888,
              "#fdca26"
             ],
             [
              1,
              "#f0f921"
             ]
            ],
            "type": "contour"
           }
          ],
          "contourcarpet": [
           {
            "colorbar": {
             "outlinewidth": 0,
             "ticks": ""
            },
            "type": "contourcarpet"
           }
          ],
          "heatmap": [
           {
            "colorbar": {
             "outlinewidth": 0,
             "ticks": ""
            },
            "colorscale": [
             [
              0,
              "#0d0887"
             ],
             [
              0.1111111111111111,
              "#46039f"
             ],
             [
              0.2222222222222222,
              "#7201a8"
             ],
             [
              0.3333333333333333,
              "#9c179e"
             ],
             [
              0.4444444444444444,
              "#bd3786"
             ],
             [
              0.5555555555555556,
              "#d8576b"
             ],
             [
              0.6666666666666666,
              "#ed7953"
             ],
             [
              0.7777777777777778,
              "#fb9f3a"
             ],
             [
              0.8888888888888888,
              "#fdca26"
             ],
             [
              1,
              "#f0f921"
             ]
            ],
            "type": "heatmap"
           }
          ],
          "heatmapgl": [
           {
            "colorbar": {
             "outlinewidth": 0,
             "ticks": ""
            },
            "colorscale": [
             [
              0,
              "#0d0887"
             ],
             [
              0.1111111111111111,
              "#46039f"
             ],
             [
              0.2222222222222222,
              "#7201a8"
             ],
             [
              0.3333333333333333,
              "#9c179e"
             ],
             [
              0.4444444444444444,
              "#bd3786"
             ],
             [
              0.5555555555555556,
              "#d8576b"
             ],
             [
              0.6666666666666666,
              "#ed7953"
             ],
             [
              0.7777777777777778,
              "#fb9f3a"
             ],
             [
              0.8888888888888888,
              "#fdca26"
             ],
             [
              1,
              "#f0f921"
             ]
            ],
            "type": "heatmapgl"
           }
          ],
          "histogram": [
           {
            "marker": {
             "pattern": {
              "fillmode": "overlay",
              "size": 10,
              "solidity": 0.2
             }
            },
            "type": "histogram"
           }
          ],
          "histogram2d": [
           {
            "colorbar": {
             "outlinewidth": 0,
             "ticks": ""
            },
            "colorscale": [
             [
              0,
              "#0d0887"
             ],
             [
              0.1111111111111111,
              "#46039f"
             ],
             [
              0.2222222222222222,
              "#7201a8"
             ],
             [
              0.3333333333333333,
              "#9c179e"
             ],
             [
              0.4444444444444444,
              "#bd3786"
             ],
             [
              0.5555555555555556,
              "#d8576b"
             ],
             [
              0.6666666666666666,
              "#ed7953"
             ],
             [
              0.7777777777777778,
              "#fb9f3a"
             ],
             [
              0.8888888888888888,
              "#fdca26"
             ],
             [
              1,
              "#f0f921"
             ]
            ],
            "type": "histogram2d"
           }
          ],
          "histogram2dcontour": [
           {
            "colorbar": {
             "outlinewidth": 0,
             "ticks": ""
            },
            "colorscale": [
             [
              0,
              "#0d0887"
             ],
             [
              0.1111111111111111,
              "#46039f"
             ],
             [
              0.2222222222222222,
              "#7201a8"
             ],
             [
              0.3333333333333333,
              "#9c179e"
             ],
             [
              0.4444444444444444,
              "#bd3786"
             ],
             [
              0.5555555555555556,
              "#d8576b"
             ],
             [
              0.6666666666666666,
              "#ed7953"
             ],
             [
              0.7777777777777778,
              "#fb9f3a"
             ],
             [
              0.8888888888888888,
              "#fdca26"
             ],
             [
              1,
              "#f0f921"
             ]
            ],
            "type": "histogram2dcontour"
           }
          ],
          "mesh3d": [
           {
            "colorbar": {
             "outlinewidth": 0,
             "ticks": ""
            },
            "type": "mesh3d"
           }
          ],
          "parcoords": [
           {
            "line": {
             "colorbar": {
              "outlinewidth": 0,
              "ticks": ""
             }
            },
            "type": "parcoords"
           }
          ],
          "pie": [
           {
            "automargin": true,
            "type": "pie"
           }
          ],
          "scatter": [
           {
            "fillpattern": {
             "fillmode": "overlay",
             "size": 10,
             "solidity": 0.2
            },
            "type": "scatter"
           }
          ],
          "scatter3d": [
           {
            "line": {
             "colorbar": {
              "outlinewidth": 0,
              "ticks": ""
             }
            },
            "marker": {
             "colorbar": {
              "outlinewidth": 0,
              "ticks": ""
             }
            },
            "type": "scatter3d"
           }
          ],
          "scattercarpet": [
           {
            "marker": {
             "colorbar": {
              "outlinewidth": 0,
              "ticks": ""
             }
            },
            "type": "scattercarpet"
           }
          ],
          "scattergeo": [
           {
            "marker": {
             "colorbar": {
              "outlinewidth": 0,
              "ticks": ""
             }
            },
            "type": "scattergeo"
           }
          ],
          "scattergl": [
           {
            "marker": {
             "colorbar": {
              "outlinewidth": 0,
              "ticks": ""
             }
            },
            "type": "scattergl"
           }
          ],
          "scattermapbox": [
           {
            "marker": {
             "colorbar": {
              "outlinewidth": 0,
              "ticks": ""
             }
            },
            "type": "scattermapbox"
           }
          ],
          "scatterpolar": [
           {
            "marker": {
             "colorbar": {
              "outlinewidth": 0,
              "ticks": ""
             }
            },
            "type": "scatterpolar"
           }
          ],
          "scatterpolargl": [
           {
            "marker": {
             "colorbar": {
              "outlinewidth": 0,
              "ticks": ""
             }
            },
            "type": "scatterpolargl"
           }
          ],
          "scatterternary": [
           {
            "marker": {
             "colorbar": {
              "outlinewidth": 0,
              "ticks": ""
             }
            },
            "type": "scatterternary"
           }
          ],
          "surface": [
           {
            "colorbar": {
             "outlinewidth": 0,
             "ticks": ""
            },
            "colorscale": [
             [
              0,
              "#0d0887"
             ],
             [
              0.1111111111111111,
              "#46039f"
             ],
             [
              0.2222222222222222,
              "#7201a8"
             ],
             [
              0.3333333333333333,
              "#9c179e"
             ],
             [
              0.4444444444444444,
              "#bd3786"
             ],
             [
              0.5555555555555556,
              "#d8576b"
             ],
             [
              0.6666666666666666,
              "#ed7953"
             ],
             [
              0.7777777777777778,
              "#fb9f3a"
             ],
             [
              0.8888888888888888,
              "#fdca26"
             ],
             [
              1,
              "#f0f921"
             ]
            ],
            "type": "surface"
           }
          ],
          "table": [
           {
            "cells": {
             "fill": {
              "color": "#EBF0F8"
             },
             "line": {
              "color": "white"
             }
            },
            "header": {
             "fill": {
              "color": "#C8D4E3"
             },
             "line": {
              "color": "white"
             }
            },
            "type": "table"
           }
          ]
         },
         "layout": {
          "annotationdefaults": {
           "arrowcolor": "#2a3f5f",
           "arrowhead": 0,
           "arrowwidth": 1
          },
          "autotypenumbers": "strict",
          "coloraxis": {
           "colorbar": {
            "outlinewidth": 0,
            "ticks": ""
           }
          },
          "colorscale": {
           "diverging": [
            [
             0,
             "#8e0152"
            ],
            [
             0.1,
             "#c51b7d"
            ],
            [
             0.2,
             "#de77ae"
            ],
            [
             0.3,
             "#f1b6da"
            ],
            [
             0.4,
             "#fde0ef"
            ],
            [
             0.5,
             "#f7f7f7"
            ],
            [
             0.6,
             "#e6f5d0"
            ],
            [
             0.7,
             "#b8e186"
            ],
            [
             0.8,
             "#7fbc41"
            ],
            [
             0.9,
             "#4d9221"
            ],
            [
             1,
             "#276419"
            ]
           ],
           "sequential": [
            [
             0,
             "#0d0887"
            ],
            [
             0.1111111111111111,
             "#46039f"
            ],
            [
             0.2222222222222222,
             "#7201a8"
            ],
            [
             0.3333333333333333,
             "#9c179e"
            ],
            [
             0.4444444444444444,
             "#bd3786"
            ],
            [
             0.5555555555555556,
             "#d8576b"
            ],
            [
             0.6666666666666666,
             "#ed7953"
            ],
            [
             0.7777777777777778,
             "#fb9f3a"
            ],
            [
             0.8888888888888888,
             "#fdca26"
            ],
            [
             1,
             "#f0f921"
            ]
           ],
           "sequentialminus": [
            [
             0,
             "#0d0887"
            ],
            [
             0.1111111111111111,
             "#46039f"
            ],
            [
             0.2222222222222222,
             "#7201a8"
            ],
            [
             0.3333333333333333,
             "#9c179e"
            ],
            [
             0.4444444444444444,
             "#bd3786"
            ],
            [
             0.5555555555555556,
             "#d8576b"
            ],
            [
             0.6666666666666666,
             "#ed7953"
            ],
            [
             0.7777777777777778,
             "#fb9f3a"
            ],
            [
             0.8888888888888888,
             "#fdca26"
            ],
            [
             1,
             "#f0f921"
            ]
           ]
          },
          "colorway": [
           "#636efa",
           "#EF553B",
           "#00cc96",
           "#ab63fa",
           "#FFA15A",
           "#19d3f3",
           "#FF6692",
           "#B6E880",
           "#FF97FF",
           "#FECB52"
          ],
          "font": {
           "color": "#2a3f5f"
          },
          "geo": {
           "bgcolor": "white",
           "lakecolor": "white",
           "landcolor": "#E5ECF6",
           "showlakes": true,
           "showland": true,
           "subunitcolor": "white"
          },
          "hoverlabel": {
           "align": "left"
          },
          "hovermode": "closest",
          "mapbox": {
           "style": "light"
          },
          "paper_bgcolor": "white",
          "plot_bgcolor": "#E5ECF6",
          "polar": {
           "angularaxis": {
            "gridcolor": "white",
            "linecolor": "white",
            "ticks": ""
           },
           "bgcolor": "#E5ECF6",
           "radialaxis": {
            "gridcolor": "white",
            "linecolor": "white",
            "ticks": ""
           }
          },
          "scene": {
           "xaxis": {
            "backgroundcolor": "#E5ECF6",
            "gridcolor": "white",
            "gridwidth": 2,
            "linecolor": "white",
            "showbackground": true,
            "ticks": "",
            "zerolinecolor": "white"
           },
           "yaxis": {
            "backgroundcolor": "#E5ECF6",
            "gridcolor": "white",
            "gridwidth": 2,
            "linecolor": "white",
            "showbackground": true,
            "ticks": "",
            "zerolinecolor": "white"
           },
           "zaxis": {
            "backgroundcolor": "#E5ECF6",
            "gridcolor": "white",
            "gridwidth": 2,
            "linecolor": "white",
            "showbackground": true,
            "ticks": "",
            "zerolinecolor": "white"
           }
          },
          "shapedefaults": {
           "line": {
            "color": "#2a3f5f"
           }
          },
          "ternary": {
           "aaxis": {
            "gridcolor": "white",
            "linecolor": "white",
            "ticks": ""
           },
           "baxis": {
            "gridcolor": "white",
            "linecolor": "white",
            "ticks": ""
           },
           "bgcolor": "#E5ECF6",
           "caxis": {
            "gridcolor": "white",
            "linecolor": "white",
            "ticks": ""
           }
          },
          "title": {
           "x": 0.05
          },
          "xaxis": {
           "automargin": true,
           "gridcolor": "white",
           "linecolor": "white",
           "ticks": "",
           "title": {
            "standoff": 15
           },
           "zerolinecolor": "white",
           "zerolinewidth": 2
          },
          "yaxis": {
           "automargin": true,
           "gridcolor": "white",
           "linecolor": "white",
           "ticks": "",
           "title": {
            "standoff": 15
           },
           "zerolinecolor": "white",
           "zerolinewidth": 2
          }
         }
        }
       }
      },
      "text/html": [
       "<div>                            <div id=\"356c85b1-9c83-413b-a27b-b6d41dac0953\" class=\"plotly-graph-div\" style=\"height:525px; width:100%;\"></div>            <script type=\"text/javascript\">                require([\"plotly\"], function(Plotly) {                    window.PLOTLYENV=window.PLOTLYENV || {};                                    if (document.getElementById(\"356c85b1-9c83-413b-a27b-b6d41dac0953\")) {                    Plotly.newPlot(                        \"356c85b1-9c83-413b-a27b-b6d41dac0953\",                        [{\"branchvalues\":\"total\",\"domain\":{\"x\":[0.0,1.0],\"y\":[0.0,1.0]},\"hovertemplate\":\"labels=%{label}<br>count=%{value}<br>parent=%{parent}<br>id=%{id}<extra></extra>\",\"ids\":[\"3/Business Analyst/No\",\"4/Business Analyst/No\",\"3/Delivery Manager/No\",\"2/Developer/No\",\"3/Developer/No\",\"4/Developer/No\",\"2/Senior Developer/No\",\"3/Senior Developer/No\",\"4/Senior Developer/No\",\"3/Technical Architect/No\",\"2/Technical Lead/No\",\"3/Technical Lead/No\",\"4/Technical Lead/No\",\"3/Business Analyst/Yes\",\"3/Delivery Manager/Yes\",\"2/Developer/Yes\",\"3/Developer/Yes\",\"4/Developer/Yes\",\"2/Senior Developer/Yes\",\"3/Senior Developer/Yes\",\"4/Senior Developer/Yes\",\"3/Technical Architect/Yes\",\"3/Technical Lead/Yes\",\"4/Technical Lead/Yes\",\"3/Business Analyst\",\"4/Business Analyst\",\"3/Delivery Manager\",\"2/Developer\",\"3/Developer\",\"4/Developer\",\"2/Senior Developer\",\"3/Senior Developer\",\"4/Senior Developer\",\"3/Technical Architect\",\"2/Technical Lead\",\"3/Technical Lead\",\"4/Technical Lead\",\"2\",\"3\",\"4\"],\"labels\":[\"No\",\"No\",\"No\",\"No\",\"No\",\"No\",\"No\",\"No\",\"No\",\"No\",\"No\",\"No\",\"No\",\"Yes\",\"Yes\",\"Yes\",\"Yes\",\"Yes\",\"Yes\",\"Yes\",\"Yes\",\"Yes\",\"Yes\",\"Yes\",\"Business Analyst\",\"Business Analyst\",\"Delivery Manager\",\"Developer\",\"Developer\",\"Developer\",\"Senior Developer\",\"Senior Developer\",\"Senior Developer\",\"Technical Architect\",\"Technical Lead\",\"Technical Lead\",\"Technical Lead\",\"2\",\"3\",\"4\"],\"name\":\"\",\"parents\":[\"3/Business Analyst\",\"4/Business Analyst\",\"3/Delivery Manager\",\"2/Developer\",\"3/Developer\",\"4/Developer\",\"2/Senior Developer\",\"3/Senior Developer\",\"4/Senior Developer\",\"3/Technical Architect\",\"2/Technical Lead\",\"3/Technical Lead\",\"4/Technical Lead\",\"3/Business Analyst\",\"3/Delivery Manager\",\"2/Developer\",\"3/Developer\",\"4/Developer\",\"2/Senior Developer\",\"3/Senior Developer\",\"4/Senior Developer\",\"3/Technical Architect\",\"3/Technical Lead\",\"4/Technical Lead\",\"3\",\"4\",\"3\",\"2\",\"3\",\"4\",\"2\",\"3\",\"4\",\"3\",\"2\",\"3\",\"4\",\"\",\"\",\"\"],\"values\":[11,2,7,4,117,21,3,22,5,3,1,24,3,2,5,2,48,4,1,13,1,2,8,1,13,2,12,6,165,25,4,35,6,5,1,32,4,11,262,37],\"type\":\"sunburst\"}],                        {\"template\":{\"data\":{\"histogram2dcontour\":[{\"type\":\"histogram2dcontour\",\"colorbar\":{\"outlinewidth\":0,\"ticks\":\"\"},\"colorscale\":[[0.0,\"#0d0887\"],[0.1111111111111111,\"#46039f\"],[0.2222222222222222,\"#7201a8\"],[0.3333333333333333,\"#9c179e\"],[0.4444444444444444,\"#bd3786\"],[0.5555555555555556,\"#d8576b\"],[0.6666666666666666,\"#ed7953\"],[0.7777777777777778,\"#fb9f3a\"],[0.8888888888888888,\"#fdca26\"],[1.0,\"#f0f921\"]]}],\"choropleth\":[{\"type\":\"choropleth\",\"colorbar\":{\"outlinewidth\":0,\"ticks\":\"\"}}],\"histogram2d\":[{\"type\":\"histogram2d\",\"colorbar\":{\"outlinewidth\":0,\"ticks\":\"\"},\"colorscale\":[[0.0,\"#0d0887\"],[0.1111111111111111,\"#46039f\"],[0.2222222222222222,\"#7201a8\"],[0.3333333333333333,\"#9c179e\"],[0.4444444444444444,\"#bd3786\"],[0.5555555555555556,\"#d8576b\"],[0.6666666666666666,\"#ed7953\"],[0.7777777777777778,\"#fb9f3a\"],[0.8888888888888888,\"#fdca26\"],[1.0,\"#f0f921\"]]}],\"heatmap\":[{\"type\":\"heatmap\",\"colorbar\":{\"outlinewidth\":0,\"ticks\":\"\"},\"colorscale\":[[0.0,\"#0d0887\"],[0.1111111111111111,\"#46039f\"],[0.2222222222222222,\"#7201a8\"],[0.3333333333333333,\"#9c179e\"],[0.4444444444444444,\"#bd3786\"],[0.5555555555555556,\"#d8576b\"],[0.6666666666666666,\"#ed7953\"],[0.7777777777777778,\"#fb9f3a\"],[0.8888888888888888,\"#fdca26\"],[1.0,\"#f0f921\"]]}],\"heatmapgl\":[{\"type\":\"heatmapgl\",\"colorbar\":{\"outlinewidth\":0,\"ticks\":\"\"},\"colorscale\":[[0.0,\"#0d0887\"],[0.1111111111111111,\"#46039f\"],[0.2222222222222222,\"#7201a8\"],[0.3333333333333333,\"#9c179e\"],[0.4444444444444444,\"#bd3786\"],[0.5555555555555556,\"#d8576b\"],[0.6666666666666666,\"#ed7953\"],[0.7777777777777778,\"#fb9f3a\"],[0.8888888888888888,\"#fdca26\"],[1.0,\"#f0f921\"]]}],\"contourcarpet\":[{\"type\":\"contourcarpet\",\"colorbar\":{\"outlinewidth\":0,\"ticks\":\"\"}}],\"contour\":[{\"type\":\"contour\",\"colorbar\":{\"outlinewidth\":0,\"ticks\":\"\"},\"colorscale\":[[0.0,\"#0d0887\"],[0.1111111111111111,\"#46039f\"],[0.2222222222222222,\"#7201a8\"],[0.3333333333333333,\"#9c179e\"],[0.4444444444444444,\"#bd3786\"],[0.5555555555555556,\"#d8576b\"],[0.6666666666666666,\"#ed7953\"],[0.7777777777777778,\"#fb9f3a\"],[0.8888888888888888,\"#fdca26\"],[1.0,\"#f0f921\"]]}],\"surface\":[{\"type\":\"surface\",\"colorbar\":{\"outlinewidth\":0,\"ticks\":\"\"},\"colorscale\":[[0.0,\"#0d0887\"],[0.1111111111111111,\"#46039f\"],[0.2222222222222222,\"#7201a8\"],[0.3333333333333333,\"#9c179e\"],[0.4444444444444444,\"#bd3786\"],[0.5555555555555556,\"#d8576b\"],[0.6666666666666666,\"#ed7953\"],[0.7777777777777778,\"#fb9f3a\"],[0.8888888888888888,\"#fdca26\"],[1.0,\"#f0f921\"]]}],\"mesh3d\":[{\"type\":\"mesh3d\",\"colorbar\":{\"outlinewidth\":0,\"ticks\":\"\"}}],\"scatter\":[{\"fillpattern\":{\"fillmode\":\"overlay\",\"size\":10,\"solidity\":0.2},\"type\":\"scatter\"}],\"parcoords\":[{\"type\":\"parcoords\",\"line\":{\"colorbar\":{\"outlinewidth\":0,\"ticks\":\"\"}}}],\"scatterpolargl\":[{\"type\":\"scatterpolargl\",\"marker\":{\"colorbar\":{\"outlinewidth\":0,\"ticks\":\"\"}}}],\"bar\":[{\"error_x\":{\"color\":\"#2a3f5f\"},\"error_y\":{\"color\":\"#2a3f5f\"},\"marker\":{\"line\":{\"color\":\"#E5ECF6\",\"width\":0.5},\"pattern\":{\"fillmode\":\"overlay\",\"size\":10,\"solidity\":0.2}},\"type\":\"bar\"}],\"scattergeo\":[{\"type\":\"scattergeo\",\"marker\":{\"colorbar\":{\"outlinewidth\":0,\"ticks\":\"\"}}}],\"scatterpolar\":[{\"type\":\"scatterpolar\",\"marker\":{\"colorbar\":{\"outlinewidth\":0,\"ticks\":\"\"}}}],\"histogram\":[{\"marker\":{\"pattern\":{\"fillmode\":\"overlay\",\"size\":10,\"solidity\":0.2}},\"type\":\"histogram\"}],\"scattergl\":[{\"type\":\"scattergl\",\"marker\":{\"colorbar\":{\"outlinewidth\":0,\"ticks\":\"\"}}}],\"scatter3d\":[{\"type\":\"scatter3d\",\"line\":{\"colorbar\":{\"outlinewidth\":0,\"ticks\":\"\"}},\"marker\":{\"colorbar\":{\"outlinewidth\":0,\"ticks\":\"\"}}}],\"scattermapbox\":[{\"type\":\"scattermapbox\",\"marker\":{\"colorbar\":{\"outlinewidth\":0,\"ticks\":\"\"}}}],\"scatterternary\":[{\"type\":\"scatterternary\",\"marker\":{\"colorbar\":{\"outlinewidth\":0,\"ticks\":\"\"}}}],\"scattercarpet\":[{\"type\":\"scattercarpet\",\"marker\":{\"colorbar\":{\"outlinewidth\":0,\"ticks\":\"\"}}}],\"carpet\":[{\"aaxis\":{\"endlinecolor\":\"#2a3f5f\",\"gridcolor\":\"white\",\"linecolor\":\"white\",\"minorgridcolor\":\"white\",\"startlinecolor\":\"#2a3f5f\"},\"baxis\":{\"endlinecolor\":\"#2a3f5f\",\"gridcolor\":\"white\",\"linecolor\":\"white\",\"minorgridcolor\":\"white\",\"startlinecolor\":\"#2a3f5f\"},\"type\":\"carpet\"}],\"table\":[{\"cells\":{\"fill\":{\"color\":\"#EBF0F8\"},\"line\":{\"color\":\"white\"}},\"header\":{\"fill\":{\"color\":\"#C8D4E3\"},\"line\":{\"color\":\"white\"}},\"type\":\"table\"}],\"barpolar\":[{\"marker\":{\"line\":{\"color\":\"#E5ECF6\",\"width\":0.5},\"pattern\":{\"fillmode\":\"overlay\",\"size\":10,\"solidity\":0.2}},\"type\":\"barpolar\"}],\"pie\":[{\"automargin\":true,\"type\":\"pie\"}]},\"layout\":{\"autotypenumbers\":\"strict\",\"colorway\":[\"#636efa\",\"#EF553B\",\"#00cc96\",\"#ab63fa\",\"#FFA15A\",\"#19d3f3\",\"#FF6692\",\"#B6E880\",\"#FF97FF\",\"#FECB52\"],\"font\":{\"color\":\"#2a3f5f\"},\"hovermode\":\"closest\",\"hoverlabel\":{\"align\":\"left\"},\"paper_bgcolor\":\"white\",\"plot_bgcolor\":\"#E5ECF6\",\"polar\":{\"bgcolor\":\"#E5ECF6\",\"angularaxis\":{\"gridcolor\":\"white\",\"linecolor\":\"white\",\"ticks\":\"\"},\"radialaxis\":{\"gridcolor\":\"white\",\"linecolor\":\"white\",\"ticks\":\"\"}},\"ternary\":{\"bgcolor\":\"#E5ECF6\",\"aaxis\":{\"gridcolor\":\"white\",\"linecolor\":\"white\",\"ticks\":\"\"},\"baxis\":{\"gridcolor\":\"white\",\"linecolor\":\"white\",\"ticks\":\"\"},\"caxis\":{\"gridcolor\":\"white\",\"linecolor\":\"white\",\"ticks\":\"\"}},\"coloraxis\":{\"colorbar\":{\"outlinewidth\":0,\"ticks\":\"\"}},\"colorscale\":{\"sequential\":[[0.0,\"#0d0887\"],[0.1111111111111111,\"#46039f\"],[0.2222222222222222,\"#7201a8\"],[0.3333333333333333,\"#9c179e\"],[0.4444444444444444,\"#bd3786\"],[0.5555555555555556,\"#d8576b\"],[0.6666666666666666,\"#ed7953\"],[0.7777777777777778,\"#fb9f3a\"],[0.8888888888888888,\"#fdca26\"],[1.0,\"#f0f921\"]],\"sequentialminus\":[[0.0,\"#0d0887\"],[0.1111111111111111,\"#46039f\"],[0.2222222222222222,\"#7201a8\"],[0.3333333333333333,\"#9c179e\"],[0.4444444444444444,\"#bd3786\"],[0.5555555555555556,\"#d8576b\"],[0.6666666666666666,\"#ed7953\"],[0.7777777777777778,\"#fb9f3a\"],[0.8888888888888888,\"#fdca26\"],[1.0,\"#f0f921\"]],\"diverging\":[[0,\"#8e0152\"],[0.1,\"#c51b7d\"],[0.2,\"#de77ae\"],[0.3,\"#f1b6da\"],[0.4,\"#fde0ef\"],[0.5,\"#f7f7f7\"],[0.6,\"#e6f5d0\"],[0.7,\"#b8e186\"],[0.8,\"#7fbc41\"],[0.9,\"#4d9221\"],[1,\"#276419\"]]},\"xaxis\":{\"gridcolor\":\"white\",\"linecolor\":\"white\",\"ticks\":\"\",\"title\":{\"standoff\":15},\"zerolinecolor\":\"white\",\"automargin\":true,\"zerolinewidth\":2},\"yaxis\":{\"gridcolor\":\"white\",\"linecolor\":\"white\",\"ticks\":\"\",\"title\":{\"standoff\":15},\"zerolinecolor\":\"white\",\"automargin\":true,\"zerolinewidth\":2},\"scene\":{\"xaxis\":{\"backgroundcolor\":\"#E5ECF6\",\"gridcolor\":\"white\",\"linecolor\":\"white\",\"showbackground\":true,\"ticks\":\"\",\"zerolinecolor\":\"white\",\"gridwidth\":2},\"yaxis\":{\"backgroundcolor\":\"#E5ECF6\",\"gridcolor\":\"white\",\"linecolor\":\"white\",\"showbackground\":true,\"ticks\":\"\",\"zerolinecolor\":\"white\",\"gridwidth\":2},\"zaxis\":{\"backgroundcolor\":\"#E5ECF6\",\"gridcolor\":\"white\",\"linecolor\":\"white\",\"showbackground\":true,\"ticks\":\"\",\"zerolinecolor\":\"white\",\"gridwidth\":2}},\"shapedefaults\":{\"line\":{\"color\":\"#2a3f5f\"}},\"annotationdefaults\":{\"arrowcolor\":\"#2a3f5f\",\"arrowhead\":0,\"arrowwidth\":1},\"geo\":{\"bgcolor\":\"white\",\"landcolor\":\"#E5ECF6\",\"subunitcolor\":\"white\",\"showland\":true,\"showlakes\":true,\"lakecolor\":\"white\"},\"title\":{\"x\":0.05},\"mapbox\":{\"style\":\"light\"}}},\"legend\":{\"tracegroupgap\":0},\"margin\":{\"t\":60}},                        {\"responsive\": true}                    ).then(function(){\n",
       "                            \n",
       "var gd = document.getElementById('356c85b1-9c83-413b-a27b-b6d41dac0953');\n",
       "var x = new MutationObserver(function (mutations, observer) {{\n",
       "        var display = window.getComputedStyle(gd).display;\n",
       "        if (!display || display === 'none') {{\n",
       "            console.log([gd, 'removed!']);\n",
       "            Plotly.purge(gd);\n",
       "            observer.disconnect();\n",
       "        }}\n",
       "}});\n",
       "\n",
       "// Listen for the removal of the full notebook cells\n",
       "var notebookContainer = gd.closest('#notebook-container');\n",
       "if (notebookContainer) {{\n",
       "    x.observe(notebookContainer, {childList: true});\n",
       "}}\n",
       "\n",
       "// Listen for the clearing of the current output cell\n",
       "var outputEl = gd.closest('.output');\n",
       "if (outputEl) {{\n",
       "    x.observe(outputEl, {childList: true});\n",
       "}}\n",
       "\n",
       "                        })                };                });            </script>        </div>"
      ]
     },
     "metadata": {},
     "output_type": "display_data"
    }
   ],
   "source": [
    "# 4) Number of working hours : \n",
    "\n",
    "fig=px.sunburst(df_development, path=['PerformanceRating','EmpJobRole','OverTime'])\n",
    "fig.show()\n",
    "\n",
    "# It is observed that Among 11 under-performing employees of Dev. Dept. 4 developers, 3 senior developers and 1 TL DO NOT DO OVERTIME."
   ]
  },
  {
   "cell_type": "code",
   "execution_count": 168,
   "id": "ab5b0d95",
   "metadata": {},
   "outputs": [
    {
     "data": {
      "application/vnd.plotly.v1+json": {
       "config": {
        "plotlyServerURL": "https://plot.ly"
       },
       "data": [
        {
         "branchvalues": "total",
         "domain": {
          "x": [
           0,
           1
          ],
          "y": [
           0,
           1
          ]
         },
         "hovertemplate": "labels=%{label}<br>count=%{value}<br>parent=%{parent}<br>id=%{id}<extra></extra>",
         "ids": [
          "3/Business Analyst/1",
          "3/Delivery Manager/1",
          "3/Developer/1",
          "4/Developer/1",
          "2/Senior Developer/1",
          "3/Senior Developer/1",
          "4/Senior Developer/1",
          "3/Technical Architect/1",
          "3/Technical Lead/1",
          "3/Business Analyst/2",
          "4/Business Analyst/2",
          "3/Delivery Manager/2",
          "2/Developer/2",
          "3/Developer/2",
          "4/Developer/2",
          "3/Senior Developer/2",
          "4/Senior Developer/2",
          "3/Technical Lead/2",
          "4/Technical Lead/2",
          "3/Business Analyst/3",
          "3/Delivery Manager/3",
          "2/Developer/3",
          "3/Developer/3",
          "4/Developer/3",
          "2/Senior Developer/3",
          "3/Senior Developer/3",
          "4/Senior Developer/3",
          "3/Technical Architect/3",
          "2/Technical Lead/3",
          "3/Technical Lead/3",
          "4/Technical Lead/3",
          "3/Business Analyst/4",
          "3/Delivery Manager/4",
          "2/Developer/4",
          "3/Developer/4",
          "4/Developer/4",
          "2/Senior Developer/4",
          "3/Senior Developer/4",
          "4/Senior Developer/4",
          "3/Technical Architect/4",
          "3/Technical Lead/4",
          "4/Technical Lead/4",
          "3/Business Analyst",
          "4/Business Analyst",
          "3/Delivery Manager",
          "2/Developer",
          "3/Developer",
          "4/Developer",
          "2/Senior Developer",
          "3/Senior Developer",
          "4/Senior Developer",
          "3/Technical Architect",
          "2/Technical Lead",
          "3/Technical Lead",
          "4/Technical Lead",
          "2",
          "3",
          "4"
         ],
         "labels": [
          "1",
          "1",
          "1",
          "1",
          "1",
          "1",
          "1",
          "1",
          "1",
          "2",
          "2",
          "2",
          "2",
          "2",
          "2",
          "2",
          "2",
          "2",
          "2",
          "3",
          "3",
          "3",
          "3",
          "3",
          "3",
          "3",
          "3",
          "3",
          "3",
          "3",
          "3",
          "4",
          "4",
          "4",
          "4",
          "4",
          "4",
          "4",
          "4",
          "4",
          "4",
          "4",
          "Business Analyst",
          "Business Analyst",
          "Delivery Manager",
          "Developer",
          "Developer",
          "Developer",
          "Senior Developer",
          "Senior Developer",
          "Senior Developer",
          "Technical Architect",
          "Technical Lead",
          "Technical Lead",
          "Technical Lead",
          "2",
          "3",
          "4"
         ],
         "name": "",
         "parents": [
          "3/Business Analyst",
          "3/Delivery Manager",
          "3/Developer",
          "4/Developer",
          "2/Senior Developer",
          "3/Senior Developer",
          "4/Senior Developer",
          "3/Technical Architect",
          "3/Technical Lead",
          "3/Business Analyst",
          "4/Business Analyst",
          "3/Delivery Manager",
          "2/Developer",
          "3/Developer",
          "4/Developer",
          "3/Senior Developer",
          "4/Senior Developer",
          "3/Technical Lead",
          "4/Technical Lead",
          "3/Business Analyst",
          "3/Delivery Manager",
          "2/Developer",
          "3/Developer",
          "4/Developer",
          "2/Senior Developer",
          "3/Senior Developer",
          "4/Senior Developer",
          "3/Technical Architect",
          "2/Technical Lead",
          "3/Technical Lead",
          "4/Technical Lead",
          "3/Business Analyst",
          "3/Delivery Manager",
          "2/Developer",
          "3/Developer",
          "4/Developer",
          "2/Senior Developer",
          "3/Senior Developer",
          "4/Senior Developer",
          "3/Technical Architect",
          "3/Technical Lead",
          "4/Technical Lead",
          "3",
          "4",
          "3",
          "2",
          "3",
          "4",
          "2",
          "3",
          "4",
          "3",
          "2",
          "3",
          "4",
          "",
          "",
          ""
         ],
         "type": "sunburst",
         "values": [
          3,
          3,
          39,
          4,
          1,
          6,
          1,
          2,
          3,
          4,
          2,
          2,
          3,
          27,
          4,
          3,
          1,
          11,
          1,
          4,
          2,
          1,
          41,
          8,
          2,
          12,
          3,
          1,
          1,
          6,
          1,
          2,
          5,
          2,
          58,
          9,
          1,
          14,
          1,
          2,
          12,
          2,
          13,
          2,
          12,
          6,
          165,
          25,
          4,
          35,
          6,
          5,
          1,
          32,
          4,
          11,
          262,
          37
         ]
        }
       ],
       "layout": {
        "legend": {
         "tracegroupgap": 0
        },
        "margin": {
         "t": 60
        },
        "template": {
         "data": {
          "bar": [
           {
            "error_x": {
             "color": "#2a3f5f"
            },
            "error_y": {
             "color": "#2a3f5f"
            },
            "marker": {
             "line": {
              "color": "#E5ECF6",
              "width": 0.5
             },
             "pattern": {
              "fillmode": "overlay",
              "size": 10,
              "solidity": 0.2
             }
            },
            "type": "bar"
           }
          ],
          "barpolar": [
           {
            "marker": {
             "line": {
              "color": "#E5ECF6",
              "width": 0.5
             },
             "pattern": {
              "fillmode": "overlay",
              "size": 10,
              "solidity": 0.2
             }
            },
            "type": "barpolar"
           }
          ],
          "carpet": [
           {
            "aaxis": {
             "endlinecolor": "#2a3f5f",
             "gridcolor": "white",
             "linecolor": "white",
             "minorgridcolor": "white",
             "startlinecolor": "#2a3f5f"
            },
            "baxis": {
             "endlinecolor": "#2a3f5f",
             "gridcolor": "white",
             "linecolor": "white",
             "minorgridcolor": "white",
             "startlinecolor": "#2a3f5f"
            },
            "type": "carpet"
           }
          ],
          "choropleth": [
           {
            "colorbar": {
             "outlinewidth": 0,
             "ticks": ""
            },
            "type": "choropleth"
           }
          ],
          "contour": [
           {
            "colorbar": {
             "outlinewidth": 0,
             "ticks": ""
            },
            "colorscale": [
             [
              0,
              "#0d0887"
             ],
             [
              0.1111111111111111,
              "#46039f"
             ],
             [
              0.2222222222222222,
              "#7201a8"
             ],
             [
              0.3333333333333333,
              "#9c179e"
             ],
             [
              0.4444444444444444,
              "#bd3786"
             ],
             [
              0.5555555555555556,
              "#d8576b"
             ],
             [
              0.6666666666666666,
              "#ed7953"
             ],
             [
              0.7777777777777778,
              "#fb9f3a"
             ],
             [
              0.8888888888888888,
              "#fdca26"
             ],
             [
              1,
              "#f0f921"
             ]
            ],
            "type": "contour"
           }
          ],
          "contourcarpet": [
           {
            "colorbar": {
             "outlinewidth": 0,
             "ticks": ""
            },
            "type": "contourcarpet"
           }
          ],
          "heatmap": [
           {
            "colorbar": {
             "outlinewidth": 0,
             "ticks": ""
            },
            "colorscale": [
             [
              0,
              "#0d0887"
             ],
             [
              0.1111111111111111,
              "#46039f"
             ],
             [
              0.2222222222222222,
              "#7201a8"
             ],
             [
              0.3333333333333333,
              "#9c179e"
             ],
             [
              0.4444444444444444,
              "#bd3786"
             ],
             [
              0.5555555555555556,
              "#d8576b"
             ],
             [
              0.6666666666666666,
              "#ed7953"
             ],
             [
              0.7777777777777778,
              "#fb9f3a"
             ],
             [
              0.8888888888888888,
              "#fdca26"
             ],
             [
              1,
              "#f0f921"
             ]
            ],
            "type": "heatmap"
           }
          ],
          "heatmapgl": [
           {
            "colorbar": {
             "outlinewidth": 0,
             "ticks": ""
            },
            "colorscale": [
             [
              0,
              "#0d0887"
             ],
             [
              0.1111111111111111,
              "#46039f"
             ],
             [
              0.2222222222222222,
              "#7201a8"
             ],
             [
              0.3333333333333333,
              "#9c179e"
             ],
             [
              0.4444444444444444,
              "#bd3786"
             ],
             [
              0.5555555555555556,
              "#d8576b"
             ],
             [
              0.6666666666666666,
              "#ed7953"
             ],
             [
              0.7777777777777778,
              "#fb9f3a"
             ],
             [
              0.8888888888888888,
              "#fdca26"
             ],
             [
              1,
              "#f0f921"
             ]
            ],
            "type": "heatmapgl"
           }
          ],
          "histogram": [
           {
            "marker": {
             "pattern": {
              "fillmode": "overlay",
              "size": 10,
              "solidity": 0.2
             }
            },
            "type": "histogram"
           }
          ],
          "histogram2d": [
           {
            "colorbar": {
             "outlinewidth": 0,
             "ticks": ""
            },
            "colorscale": [
             [
              0,
              "#0d0887"
             ],
             [
              0.1111111111111111,
              "#46039f"
             ],
             [
              0.2222222222222222,
              "#7201a8"
             ],
             [
              0.3333333333333333,
              "#9c179e"
             ],
             [
              0.4444444444444444,
              "#bd3786"
             ],
             [
              0.5555555555555556,
              "#d8576b"
             ],
             [
              0.6666666666666666,
              "#ed7953"
             ],
             [
              0.7777777777777778,
              "#fb9f3a"
             ],
             [
              0.8888888888888888,
              "#fdca26"
             ],
             [
              1,
              "#f0f921"
             ]
            ],
            "type": "histogram2d"
           }
          ],
          "histogram2dcontour": [
           {
            "colorbar": {
             "outlinewidth": 0,
             "ticks": ""
            },
            "colorscale": [
             [
              0,
              "#0d0887"
             ],
             [
              0.1111111111111111,
              "#46039f"
             ],
             [
              0.2222222222222222,
              "#7201a8"
             ],
             [
              0.3333333333333333,
              "#9c179e"
             ],
             [
              0.4444444444444444,
              "#bd3786"
             ],
             [
              0.5555555555555556,
              "#d8576b"
             ],
             [
              0.6666666666666666,
              "#ed7953"
             ],
             [
              0.7777777777777778,
              "#fb9f3a"
             ],
             [
              0.8888888888888888,
              "#fdca26"
             ],
             [
              1,
              "#f0f921"
             ]
            ],
            "type": "histogram2dcontour"
           }
          ],
          "mesh3d": [
           {
            "colorbar": {
             "outlinewidth": 0,
             "ticks": ""
            },
            "type": "mesh3d"
           }
          ],
          "parcoords": [
           {
            "line": {
             "colorbar": {
              "outlinewidth": 0,
              "ticks": ""
             }
            },
            "type": "parcoords"
           }
          ],
          "pie": [
           {
            "automargin": true,
            "type": "pie"
           }
          ],
          "scatter": [
           {
            "fillpattern": {
             "fillmode": "overlay",
             "size": 10,
             "solidity": 0.2
            },
            "type": "scatter"
           }
          ],
          "scatter3d": [
           {
            "line": {
             "colorbar": {
              "outlinewidth": 0,
              "ticks": ""
             }
            },
            "marker": {
             "colorbar": {
              "outlinewidth": 0,
              "ticks": ""
             }
            },
            "type": "scatter3d"
           }
          ],
          "scattercarpet": [
           {
            "marker": {
             "colorbar": {
              "outlinewidth": 0,
              "ticks": ""
             }
            },
            "type": "scattercarpet"
           }
          ],
          "scattergeo": [
           {
            "marker": {
             "colorbar": {
              "outlinewidth": 0,
              "ticks": ""
             }
            },
            "type": "scattergeo"
           }
          ],
          "scattergl": [
           {
            "marker": {
             "colorbar": {
              "outlinewidth": 0,
              "ticks": ""
             }
            },
            "type": "scattergl"
           }
          ],
          "scattermapbox": [
           {
            "marker": {
             "colorbar": {
              "outlinewidth": 0,
              "ticks": ""
             }
            },
            "type": "scattermapbox"
           }
          ],
          "scatterpolar": [
           {
            "marker": {
             "colorbar": {
              "outlinewidth": 0,
              "ticks": ""
             }
            },
            "type": "scatterpolar"
           }
          ],
          "scatterpolargl": [
           {
            "marker": {
             "colorbar": {
              "outlinewidth": 0,
              "ticks": ""
             }
            },
            "type": "scatterpolargl"
           }
          ],
          "scatterternary": [
           {
            "marker": {
             "colorbar": {
              "outlinewidth": 0,
              "ticks": ""
             }
            },
            "type": "scatterternary"
           }
          ],
          "surface": [
           {
            "colorbar": {
             "outlinewidth": 0,
             "ticks": ""
            },
            "colorscale": [
             [
              0,
              "#0d0887"
             ],
             [
              0.1111111111111111,
              "#46039f"
             ],
             [
              0.2222222222222222,
              "#7201a8"
             ],
             [
              0.3333333333333333,
              "#9c179e"
             ],
             [
              0.4444444444444444,
              "#bd3786"
             ],
             [
              0.5555555555555556,
              "#d8576b"
             ],
             [
              0.6666666666666666,
              "#ed7953"
             ],
             [
              0.7777777777777778,
              "#fb9f3a"
             ],
             [
              0.8888888888888888,
              "#fdca26"
             ],
             [
              1,
              "#f0f921"
             ]
            ],
            "type": "surface"
           }
          ],
          "table": [
           {
            "cells": {
             "fill": {
              "color": "#EBF0F8"
             },
             "line": {
              "color": "white"
             }
            },
            "header": {
             "fill": {
              "color": "#C8D4E3"
             },
             "line": {
              "color": "white"
             }
            },
            "type": "table"
           }
          ]
         },
         "layout": {
          "annotationdefaults": {
           "arrowcolor": "#2a3f5f",
           "arrowhead": 0,
           "arrowwidth": 1
          },
          "autotypenumbers": "strict",
          "coloraxis": {
           "colorbar": {
            "outlinewidth": 0,
            "ticks": ""
           }
          },
          "colorscale": {
           "diverging": [
            [
             0,
             "#8e0152"
            ],
            [
             0.1,
             "#c51b7d"
            ],
            [
             0.2,
             "#de77ae"
            ],
            [
             0.3,
             "#f1b6da"
            ],
            [
             0.4,
             "#fde0ef"
            ],
            [
             0.5,
             "#f7f7f7"
            ],
            [
             0.6,
             "#e6f5d0"
            ],
            [
             0.7,
             "#b8e186"
            ],
            [
             0.8,
             "#7fbc41"
            ],
            [
             0.9,
             "#4d9221"
            ],
            [
             1,
             "#276419"
            ]
           ],
           "sequential": [
            [
             0,
             "#0d0887"
            ],
            [
             0.1111111111111111,
             "#46039f"
            ],
            [
             0.2222222222222222,
             "#7201a8"
            ],
            [
             0.3333333333333333,
             "#9c179e"
            ],
            [
             0.4444444444444444,
             "#bd3786"
            ],
            [
             0.5555555555555556,
             "#d8576b"
            ],
            [
             0.6666666666666666,
             "#ed7953"
            ],
            [
             0.7777777777777778,
             "#fb9f3a"
            ],
            [
             0.8888888888888888,
             "#fdca26"
            ],
            [
             1,
             "#f0f921"
            ]
           ],
           "sequentialminus": [
            [
             0,
             "#0d0887"
            ],
            [
             0.1111111111111111,
             "#46039f"
            ],
            [
             0.2222222222222222,
             "#7201a8"
            ],
            [
             0.3333333333333333,
             "#9c179e"
            ],
            [
             0.4444444444444444,
             "#bd3786"
            ],
            [
             0.5555555555555556,
             "#d8576b"
            ],
            [
             0.6666666666666666,
             "#ed7953"
            ],
            [
             0.7777777777777778,
             "#fb9f3a"
            ],
            [
             0.8888888888888888,
             "#fdca26"
            ],
            [
             1,
             "#f0f921"
            ]
           ]
          },
          "colorway": [
           "#636efa",
           "#EF553B",
           "#00cc96",
           "#ab63fa",
           "#FFA15A",
           "#19d3f3",
           "#FF6692",
           "#B6E880",
           "#FF97FF",
           "#FECB52"
          ],
          "font": {
           "color": "#2a3f5f"
          },
          "geo": {
           "bgcolor": "white",
           "lakecolor": "white",
           "landcolor": "#E5ECF6",
           "showlakes": true,
           "showland": true,
           "subunitcolor": "white"
          },
          "hoverlabel": {
           "align": "left"
          },
          "hovermode": "closest",
          "mapbox": {
           "style": "light"
          },
          "paper_bgcolor": "white",
          "plot_bgcolor": "#E5ECF6",
          "polar": {
           "angularaxis": {
            "gridcolor": "white",
            "linecolor": "white",
            "ticks": ""
           },
           "bgcolor": "#E5ECF6",
           "radialaxis": {
            "gridcolor": "white",
            "linecolor": "white",
            "ticks": ""
           }
          },
          "scene": {
           "xaxis": {
            "backgroundcolor": "#E5ECF6",
            "gridcolor": "white",
            "gridwidth": 2,
            "linecolor": "white",
            "showbackground": true,
            "ticks": "",
            "zerolinecolor": "white"
           },
           "yaxis": {
            "backgroundcolor": "#E5ECF6",
            "gridcolor": "white",
            "gridwidth": 2,
            "linecolor": "white",
            "showbackground": true,
            "ticks": "",
            "zerolinecolor": "white"
           },
           "zaxis": {
            "backgroundcolor": "#E5ECF6",
            "gridcolor": "white",
            "gridwidth": 2,
            "linecolor": "white",
            "showbackground": true,
            "ticks": "",
            "zerolinecolor": "white"
           }
          },
          "shapedefaults": {
           "line": {
            "color": "#2a3f5f"
           }
          },
          "ternary": {
           "aaxis": {
            "gridcolor": "white",
            "linecolor": "white",
            "ticks": ""
           },
           "baxis": {
            "gridcolor": "white",
            "linecolor": "white",
            "ticks": ""
           },
           "bgcolor": "#E5ECF6",
           "caxis": {
            "gridcolor": "white",
            "linecolor": "white",
            "ticks": ""
           }
          },
          "title": {
           "x": 0.05
          },
          "xaxis": {
           "automargin": true,
           "gridcolor": "white",
           "linecolor": "white",
           "ticks": "",
           "title": {
            "standoff": 15
           },
           "zerolinecolor": "white",
           "zerolinewidth": 2
          },
          "yaxis": {
           "automargin": true,
           "gridcolor": "white",
           "linecolor": "white",
           "ticks": "",
           "title": {
            "standoff": 15
           },
           "zerolinecolor": "white",
           "zerolinewidth": 2
          }
         }
        }
       }
      },
      "text/html": [
       "<div>                            <div id=\"c0518b47-006a-46ad-81e7-b4c369f04082\" class=\"plotly-graph-div\" style=\"height:525px; width:100%;\"></div>            <script type=\"text/javascript\">                require([\"plotly\"], function(Plotly) {                    window.PLOTLYENV=window.PLOTLYENV || {};                                    if (document.getElementById(\"c0518b47-006a-46ad-81e7-b4c369f04082\")) {                    Plotly.newPlot(                        \"c0518b47-006a-46ad-81e7-b4c369f04082\",                        [{\"branchvalues\":\"total\",\"domain\":{\"x\":[0.0,1.0],\"y\":[0.0,1.0]},\"hovertemplate\":\"labels=%{label}<br>count=%{value}<br>parent=%{parent}<br>id=%{id}<extra></extra>\",\"ids\":[\"3/Business Analyst/1\",\"3/Delivery Manager/1\",\"3/Developer/1\",\"4/Developer/1\",\"2/Senior Developer/1\",\"3/Senior Developer/1\",\"4/Senior Developer/1\",\"3/Technical Architect/1\",\"3/Technical Lead/1\",\"3/Business Analyst/2\",\"4/Business Analyst/2\",\"3/Delivery Manager/2\",\"2/Developer/2\",\"3/Developer/2\",\"4/Developer/2\",\"3/Senior Developer/2\",\"4/Senior Developer/2\",\"3/Technical Lead/2\",\"4/Technical Lead/2\",\"3/Business Analyst/3\",\"3/Delivery Manager/3\",\"2/Developer/3\",\"3/Developer/3\",\"4/Developer/3\",\"2/Senior Developer/3\",\"3/Senior Developer/3\",\"4/Senior Developer/3\",\"3/Technical Architect/3\",\"2/Technical Lead/3\",\"3/Technical Lead/3\",\"4/Technical Lead/3\",\"3/Business Analyst/4\",\"3/Delivery Manager/4\",\"2/Developer/4\",\"3/Developer/4\",\"4/Developer/4\",\"2/Senior Developer/4\",\"3/Senior Developer/4\",\"4/Senior Developer/4\",\"3/Technical Architect/4\",\"3/Technical Lead/4\",\"4/Technical Lead/4\",\"3/Business Analyst\",\"4/Business Analyst\",\"3/Delivery Manager\",\"2/Developer\",\"3/Developer\",\"4/Developer\",\"2/Senior Developer\",\"3/Senior Developer\",\"4/Senior Developer\",\"3/Technical Architect\",\"2/Technical Lead\",\"3/Technical Lead\",\"4/Technical Lead\",\"2\",\"3\",\"4\"],\"labels\":[\"1\",\"1\",\"1\",\"1\",\"1\",\"1\",\"1\",\"1\",\"1\",\"2\",\"2\",\"2\",\"2\",\"2\",\"2\",\"2\",\"2\",\"2\",\"2\",\"3\",\"3\",\"3\",\"3\",\"3\",\"3\",\"3\",\"3\",\"3\",\"3\",\"3\",\"3\",\"4\",\"4\",\"4\",\"4\",\"4\",\"4\",\"4\",\"4\",\"4\",\"4\",\"4\",\"Business Analyst\",\"Business Analyst\",\"Delivery Manager\",\"Developer\",\"Developer\",\"Developer\",\"Senior Developer\",\"Senior Developer\",\"Senior Developer\",\"Technical Architect\",\"Technical Lead\",\"Technical Lead\",\"Technical Lead\",\"2\",\"3\",\"4\"],\"name\":\"\",\"parents\":[\"3/Business Analyst\",\"3/Delivery Manager\",\"3/Developer\",\"4/Developer\",\"2/Senior Developer\",\"3/Senior Developer\",\"4/Senior Developer\",\"3/Technical Architect\",\"3/Technical Lead\",\"3/Business Analyst\",\"4/Business Analyst\",\"3/Delivery Manager\",\"2/Developer\",\"3/Developer\",\"4/Developer\",\"3/Senior Developer\",\"4/Senior Developer\",\"3/Technical Lead\",\"4/Technical Lead\",\"3/Business Analyst\",\"3/Delivery Manager\",\"2/Developer\",\"3/Developer\",\"4/Developer\",\"2/Senior Developer\",\"3/Senior Developer\",\"4/Senior Developer\",\"3/Technical Architect\",\"2/Technical Lead\",\"3/Technical Lead\",\"4/Technical Lead\",\"3/Business Analyst\",\"3/Delivery Manager\",\"2/Developer\",\"3/Developer\",\"4/Developer\",\"2/Senior Developer\",\"3/Senior Developer\",\"4/Senior Developer\",\"3/Technical Architect\",\"3/Technical Lead\",\"4/Technical Lead\",\"3\",\"4\",\"3\",\"2\",\"3\",\"4\",\"2\",\"3\",\"4\",\"3\",\"2\",\"3\",\"4\",\"\",\"\",\"\"],\"values\":[3,3,39,4,1,6,1,2,3,4,2,2,3,27,4,3,1,11,1,4,2,1,41,8,2,12,3,1,1,6,1,2,5,2,58,9,1,14,1,2,12,2,13,2,12,6,165,25,4,35,6,5,1,32,4,11,262,37],\"type\":\"sunburst\"}],                        {\"template\":{\"data\":{\"histogram2dcontour\":[{\"type\":\"histogram2dcontour\",\"colorbar\":{\"outlinewidth\":0,\"ticks\":\"\"},\"colorscale\":[[0.0,\"#0d0887\"],[0.1111111111111111,\"#46039f\"],[0.2222222222222222,\"#7201a8\"],[0.3333333333333333,\"#9c179e\"],[0.4444444444444444,\"#bd3786\"],[0.5555555555555556,\"#d8576b\"],[0.6666666666666666,\"#ed7953\"],[0.7777777777777778,\"#fb9f3a\"],[0.8888888888888888,\"#fdca26\"],[1.0,\"#f0f921\"]]}],\"choropleth\":[{\"type\":\"choropleth\",\"colorbar\":{\"outlinewidth\":0,\"ticks\":\"\"}}],\"histogram2d\":[{\"type\":\"histogram2d\",\"colorbar\":{\"outlinewidth\":0,\"ticks\":\"\"},\"colorscale\":[[0.0,\"#0d0887\"],[0.1111111111111111,\"#46039f\"],[0.2222222222222222,\"#7201a8\"],[0.3333333333333333,\"#9c179e\"],[0.4444444444444444,\"#bd3786\"],[0.5555555555555556,\"#d8576b\"],[0.6666666666666666,\"#ed7953\"],[0.7777777777777778,\"#fb9f3a\"],[0.8888888888888888,\"#fdca26\"],[1.0,\"#f0f921\"]]}],\"heatmap\":[{\"type\":\"heatmap\",\"colorbar\":{\"outlinewidth\":0,\"ticks\":\"\"},\"colorscale\":[[0.0,\"#0d0887\"],[0.1111111111111111,\"#46039f\"],[0.2222222222222222,\"#7201a8\"],[0.3333333333333333,\"#9c179e\"],[0.4444444444444444,\"#bd3786\"],[0.5555555555555556,\"#d8576b\"],[0.6666666666666666,\"#ed7953\"],[0.7777777777777778,\"#fb9f3a\"],[0.8888888888888888,\"#fdca26\"],[1.0,\"#f0f921\"]]}],\"heatmapgl\":[{\"type\":\"heatmapgl\",\"colorbar\":{\"outlinewidth\":0,\"ticks\":\"\"},\"colorscale\":[[0.0,\"#0d0887\"],[0.1111111111111111,\"#46039f\"],[0.2222222222222222,\"#7201a8\"],[0.3333333333333333,\"#9c179e\"],[0.4444444444444444,\"#bd3786\"],[0.5555555555555556,\"#d8576b\"],[0.6666666666666666,\"#ed7953\"],[0.7777777777777778,\"#fb9f3a\"],[0.8888888888888888,\"#fdca26\"],[1.0,\"#f0f921\"]]}],\"contourcarpet\":[{\"type\":\"contourcarpet\",\"colorbar\":{\"outlinewidth\":0,\"ticks\":\"\"}}],\"contour\":[{\"type\":\"contour\",\"colorbar\":{\"outlinewidth\":0,\"ticks\":\"\"},\"colorscale\":[[0.0,\"#0d0887\"],[0.1111111111111111,\"#46039f\"],[0.2222222222222222,\"#7201a8\"],[0.3333333333333333,\"#9c179e\"],[0.4444444444444444,\"#bd3786\"],[0.5555555555555556,\"#d8576b\"],[0.6666666666666666,\"#ed7953\"],[0.7777777777777778,\"#fb9f3a\"],[0.8888888888888888,\"#fdca26\"],[1.0,\"#f0f921\"]]}],\"surface\":[{\"type\":\"surface\",\"colorbar\":{\"outlinewidth\":0,\"ticks\":\"\"},\"colorscale\":[[0.0,\"#0d0887\"],[0.1111111111111111,\"#46039f\"],[0.2222222222222222,\"#7201a8\"],[0.3333333333333333,\"#9c179e\"],[0.4444444444444444,\"#bd3786\"],[0.5555555555555556,\"#d8576b\"],[0.6666666666666666,\"#ed7953\"],[0.7777777777777778,\"#fb9f3a\"],[0.8888888888888888,\"#fdca26\"],[1.0,\"#f0f921\"]]}],\"mesh3d\":[{\"type\":\"mesh3d\",\"colorbar\":{\"outlinewidth\":0,\"ticks\":\"\"}}],\"scatter\":[{\"fillpattern\":{\"fillmode\":\"overlay\",\"size\":10,\"solidity\":0.2},\"type\":\"scatter\"}],\"parcoords\":[{\"type\":\"parcoords\",\"line\":{\"colorbar\":{\"outlinewidth\":0,\"ticks\":\"\"}}}],\"scatterpolargl\":[{\"type\":\"scatterpolargl\",\"marker\":{\"colorbar\":{\"outlinewidth\":0,\"ticks\":\"\"}}}],\"bar\":[{\"error_x\":{\"color\":\"#2a3f5f\"},\"error_y\":{\"color\":\"#2a3f5f\"},\"marker\":{\"line\":{\"color\":\"#E5ECF6\",\"width\":0.5},\"pattern\":{\"fillmode\":\"overlay\",\"size\":10,\"solidity\":0.2}},\"type\":\"bar\"}],\"scattergeo\":[{\"type\":\"scattergeo\",\"marker\":{\"colorbar\":{\"outlinewidth\":0,\"ticks\":\"\"}}}],\"scatterpolar\":[{\"type\":\"scatterpolar\",\"marker\":{\"colorbar\":{\"outlinewidth\":0,\"ticks\":\"\"}}}],\"histogram\":[{\"marker\":{\"pattern\":{\"fillmode\":\"overlay\",\"size\":10,\"solidity\":0.2}},\"type\":\"histogram\"}],\"scattergl\":[{\"type\":\"scattergl\",\"marker\":{\"colorbar\":{\"outlinewidth\":0,\"ticks\":\"\"}}}],\"scatter3d\":[{\"type\":\"scatter3d\",\"line\":{\"colorbar\":{\"outlinewidth\":0,\"ticks\":\"\"}},\"marker\":{\"colorbar\":{\"outlinewidth\":0,\"ticks\":\"\"}}}],\"scattermapbox\":[{\"type\":\"scattermapbox\",\"marker\":{\"colorbar\":{\"outlinewidth\":0,\"ticks\":\"\"}}}],\"scatterternary\":[{\"type\":\"scatterternary\",\"marker\":{\"colorbar\":{\"outlinewidth\":0,\"ticks\":\"\"}}}],\"scattercarpet\":[{\"type\":\"scattercarpet\",\"marker\":{\"colorbar\":{\"outlinewidth\":0,\"ticks\":\"\"}}}],\"carpet\":[{\"aaxis\":{\"endlinecolor\":\"#2a3f5f\",\"gridcolor\":\"white\",\"linecolor\":\"white\",\"minorgridcolor\":\"white\",\"startlinecolor\":\"#2a3f5f\"},\"baxis\":{\"endlinecolor\":\"#2a3f5f\",\"gridcolor\":\"white\",\"linecolor\":\"white\",\"minorgridcolor\":\"white\",\"startlinecolor\":\"#2a3f5f\"},\"type\":\"carpet\"}],\"table\":[{\"cells\":{\"fill\":{\"color\":\"#EBF0F8\"},\"line\":{\"color\":\"white\"}},\"header\":{\"fill\":{\"color\":\"#C8D4E3\"},\"line\":{\"color\":\"white\"}},\"type\":\"table\"}],\"barpolar\":[{\"marker\":{\"line\":{\"color\":\"#E5ECF6\",\"width\":0.5},\"pattern\":{\"fillmode\":\"overlay\",\"size\":10,\"solidity\":0.2}},\"type\":\"barpolar\"}],\"pie\":[{\"automargin\":true,\"type\":\"pie\"}]},\"layout\":{\"autotypenumbers\":\"strict\",\"colorway\":[\"#636efa\",\"#EF553B\",\"#00cc96\",\"#ab63fa\",\"#FFA15A\",\"#19d3f3\",\"#FF6692\",\"#B6E880\",\"#FF97FF\",\"#FECB52\"],\"font\":{\"color\":\"#2a3f5f\"},\"hovermode\":\"closest\",\"hoverlabel\":{\"align\":\"left\"},\"paper_bgcolor\":\"white\",\"plot_bgcolor\":\"#E5ECF6\",\"polar\":{\"bgcolor\":\"#E5ECF6\",\"angularaxis\":{\"gridcolor\":\"white\",\"linecolor\":\"white\",\"ticks\":\"\"},\"radialaxis\":{\"gridcolor\":\"white\",\"linecolor\":\"white\",\"ticks\":\"\"}},\"ternary\":{\"bgcolor\":\"#E5ECF6\",\"aaxis\":{\"gridcolor\":\"white\",\"linecolor\":\"white\",\"ticks\":\"\"},\"baxis\":{\"gridcolor\":\"white\",\"linecolor\":\"white\",\"ticks\":\"\"},\"caxis\":{\"gridcolor\":\"white\",\"linecolor\":\"white\",\"ticks\":\"\"}},\"coloraxis\":{\"colorbar\":{\"outlinewidth\":0,\"ticks\":\"\"}},\"colorscale\":{\"sequential\":[[0.0,\"#0d0887\"],[0.1111111111111111,\"#46039f\"],[0.2222222222222222,\"#7201a8\"],[0.3333333333333333,\"#9c179e\"],[0.4444444444444444,\"#bd3786\"],[0.5555555555555556,\"#d8576b\"],[0.6666666666666666,\"#ed7953\"],[0.7777777777777778,\"#fb9f3a\"],[0.8888888888888888,\"#fdca26\"],[1.0,\"#f0f921\"]],\"sequentialminus\":[[0.0,\"#0d0887\"],[0.1111111111111111,\"#46039f\"],[0.2222222222222222,\"#7201a8\"],[0.3333333333333333,\"#9c179e\"],[0.4444444444444444,\"#bd3786\"],[0.5555555555555556,\"#d8576b\"],[0.6666666666666666,\"#ed7953\"],[0.7777777777777778,\"#fb9f3a\"],[0.8888888888888888,\"#fdca26\"],[1.0,\"#f0f921\"]],\"diverging\":[[0,\"#8e0152\"],[0.1,\"#c51b7d\"],[0.2,\"#de77ae\"],[0.3,\"#f1b6da\"],[0.4,\"#fde0ef\"],[0.5,\"#f7f7f7\"],[0.6,\"#e6f5d0\"],[0.7,\"#b8e186\"],[0.8,\"#7fbc41\"],[0.9,\"#4d9221\"],[1,\"#276419\"]]},\"xaxis\":{\"gridcolor\":\"white\",\"linecolor\":\"white\",\"ticks\":\"\",\"title\":{\"standoff\":15},\"zerolinecolor\":\"white\",\"automargin\":true,\"zerolinewidth\":2},\"yaxis\":{\"gridcolor\":\"white\",\"linecolor\":\"white\",\"ticks\":\"\",\"title\":{\"standoff\":15},\"zerolinecolor\":\"white\",\"automargin\":true,\"zerolinewidth\":2},\"scene\":{\"xaxis\":{\"backgroundcolor\":\"#E5ECF6\",\"gridcolor\":\"white\",\"linecolor\":\"white\",\"showbackground\":true,\"ticks\":\"\",\"zerolinecolor\":\"white\",\"gridwidth\":2},\"yaxis\":{\"backgroundcolor\":\"#E5ECF6\",\"gridcolor\":\"white\",\"linecolor\":\"white\",\"showbackground\":true,\"ticks\":\"\",\"zerolinecolor\":\"white\",\"gridwidth\":2},\"zaxis\":{\"backgroundcolor\":\"#E5ECF6\",\"gridcolor\":\"white\",\"linecolor\":\"white\",\"showbackground\":true,\"ticks\":\"\",\"zerolinecolor\":\"white\",\"gridwidth\":2}},\"shapedefaults\":{\"line\":{\"color\":\"#2a3f5f\"}},\"annotationdefaults\":{\"arrowcolor\":\"#2a3f5f\",\"arrowhead\":0,\"arrowwidth\":1},\"geo\":{\"bgcolor\":\"white\",\"landcolor\":\"#E5ECF6\",\"subunitcolor\":\"white\",\"showland\":true,\"showlakes\":true,\"lakecolor\":\"white\"},\"title\":{\"x\":0.05},\"mapbox\":{\"style\":\"light\"}}},\"legend\":{\"tracegroupgap\":0},\"margin\":{\"t\":60}},                        {\"responsive\": true}                    ).then(function(){\n",
       "                            \n",
       "var gd = document.getElementById('c0518b47-006a-46ad-81e7-b4c369f04082');\n",
       "var x = new MutationObserver(function (mutations, observer) {{\n",
       "        var display = window.getComputedStyle(gd).display;\n",
       "        if (!display || display === 'none') {{\n",
       "            console.log([gd, 'removed!']);\n",
       "            Plotly.purge(gd);\n",
       "            observer.disconnect();\n",
       "        }}\n",
       "}});\n",
       "\n",
       "// Listen for the removal of the full notebook cells\n",
       "var notebookContainer = gd.closest('#notebook-container');\n",
       "if (notebookContainer) {{\n",
       "    x.observe(notebookContainer, {childList: true});\n",
       "}}\n",
       "\n",
       "// Listen for the clearing of the current output cell\n",
       "var outputEl = gd.closest('.output');\n",
       "if (outputEl) {{\n",
       "    x.observe(outputEl, {childList: true});\n",
       "}}\n",
       "\n",
       "                        })                };                });            </script>        </div>"
      ]
     },
     "metadata": {},
     "output_type": "display_data"
    }
   ],
   "source": [
    "# 5) Employee Satisfaction : \n",
    "\n",
    "fig=px.sunburst(df_development, path=['PerformanceRating','EmpJobRole','EmpJobSatisfaction'])\n",
    "fig.show()\n",
    "\n",
    "# only 1 sr. developer have low emoplyee satisfaction"
   ]
  },
  {
   "cell_type": "code",
   "execution_count": 169,
   "id": "d844ed96",
   "metadata": {},
   "outputs": [
    {
     "data": {
      "application/vnd.plotly.v1+json": {
       "config": {
        "plotlyServerURL": "https://plot.ly"
       },
       "data": [
        {
         "branchvalues": "total",
         "domain": {
          "x": [
           0,
           1
          ],
          "y": [
           0,
           1
          ]
         },
         "hovertemplate": "labels=%{label}<br>count=%{value}<br>parent=%{parent}<br>id=%{id}<extra></extra>",
         "ids": [
          "3/Business Analyst/Life Sciences",
          "4/Business Analyst/Life Sciences",
          "3/Delivery Manager/Life Sciences",
          "2/Developer/Life Sciences",
          "3/Developer/Life Sciences",
          "4/Developer/Life Sciences",
          "2/Senior Developer/Life Sciences",
          "3/Senior Developer/Life Sciences",
          "4/Senior Developer/Life Sciences",
          "3/Technical Architect/Life Sciences",
          "3/Technical Lead/Life Sciences",
          "4/Technical Lead/Life Sciences",
          "3/Business Analyst/Medical",
          "3/Delivery Manager/Medical",
          "2/Developer/Medical",
          "3/Developer/Medical",
          "4/Developer/Medical",
          "2/Senior Developer/Medical",
          "3/Senior Developer/Medical",
          "4/Senior Developer/Medical",
          "3/Technical Architect/Medical",
          "2/Technical Lead/Medical",
          "3/Technical Lead/Medical",
          "4/Technical Lead/Medical",
          "3/Delivery Manager/Other",
          "3/Developer/Other",
          "4/Developer/Other",
          "3/Senior Developer/Other",
          "3/Technical Architect/Other",
          "3/Business Analyst/Technical Degree",
          "3/Delivery Manager/Technical Degree",
          "3/Developer/Technical Degree",
          "4/Developer/Technical Degree",
          "3/Senior Developer/Technical Degree",
          "3/Technical Lead/Technical Degree",
          "3/Business Analyst",
          "4/Business Analyst",
          "3/Delivery Manager",
          "2/Developer",
          "3/Developer",
          "4/Developer",
          "2/Senior Developer",
          "3/Senior Developer",
          "4/Senior Developer",
          "3/Technical Architect",
          "2/Technical Lead",
          "3/Technical Lead",
          "4/Technical Lead",
          "2",
          "3",
          "4"
         ],
         "labels": [
          "Life Sciences",
          "Life Sciences",
          "Life Sciences",
          "Life Sciences",
          "Life Sciences",
          "Life Sciences",
          "Life Sciences",
          "Life Sciences",
          "Life Sciences",
          "Life Sciences",
          "Life Sciences",
          "Life Sciences",
          "Medical",
          "Medical",
          "Medical",
          "Medical",
          "Medical",
          "Medical",
          "Medical",
          "Medical",
          "Medical",
          "Medical",
          "Medical",
          "Medical",
          "Other",
          "Other",
          "Other",
          "Other",
          "Other",
          "Technical Degree",
          "Technical Degree",
          "Technical Degree",
          "Technical Degree",
          "Technical Degree",
          "Technical Degree",
          "Business Analyst",
          "Business Analyst",
          "Delivery Manager",
          "Developer",
          "Developer",
          "Developer",
          "Senior Developer",
          "Senior Developer",
          "Senior Developer",
          "Technical Architect",
          "Technical Lead",
          "Technical Lead",
          "Technical Lead",
          "2",
          "3",
          "4"
         ],
         "name": "",
         "parents": [
          "3/Business Analyst",
          "4/Business Analyst",
          "3/Delivery Manager",
          "2/Developer",
          "3/Developer",
          "4/Developer",
          "2/Senior Developer",
          "3/Senior Developer",
          "4/Senior Developer",
          "3/Technical Architect",
          "3/Technical Lead",
          "4/Technical Lead",
          "3/Business Analyst",
          "3/Delivery Manager",
          "2/Developer",
          "3/Developer",
          "4/Developer",
          "2/Senior Developer",
          "3/Senior Developer",
          "4/Senior Developer",
          "3/Technical Architect",
          "2/Technical Lead",
          "3/Technical Lead",
          "4/Technical Lead",
          "3/Delivery Manager",
          "3/Developer",
          "4/Developer",
          "3/Senior Developer",
          "3/Technical Architect",
          "3/Business Analyst",
          "3/Delivery Manager",
          "3/Developer",
          "4/Developer",
          "3/Senior Developer",
          "3/Technical Lead",
          "3",
          "4",
          "3",
          "2",
          "3",
          "4",
          "2",
          "3",
          "4",
          "3",
          "2",
          "3",
          "4",
          "",
          "",
          ""
         ],
         "type": "sunburst",
         "values": [
          6,
          2,
          6,
          4,
          76,
          9,
          2,
          21,
          4,
          2,
          15,
          2,
          6,
          4,
          2,
          68,
          11,
          2,
          9,
          2,
          2,
          1,
          13,
          2,
          1,
          13,
          2,
          3,
          1,
          1,
          1,
          8,
          3,
          2,
          4,
          13,
          2,
          12,
          6,
          165,
          25,
          4,
          35,
          6,
          5,
          1,
          32,
          4,
          11,
          262,
          37
         ]
        }
       ],
       "layout": {
        "legend": {
         "tracegroupgap": 0
        },
        "margin": {
         "t": 60
        },
        "template": {
         "data": {
          "bar": [
           {
            "error_x": {
             "color": "#2a3f5f"
            },
            "error_y": {
             "color": "#2a3f5f"
            },
            "marker": {
             "line": {
              "color": "#E5ECF6",
              "width": 0.5
             },
             "pattern": {
              "fillmode": "overlay",
              "size": 10,
              "solidity": 0.2
             }
            },
            "type": "bar"
           }
          ],
          "barpolar": [
           {
            "marker": {
             "line": {
              "color": "#E5ECF6",
              "width": 0.5
             },
             "pattern": {
              "fillmode": "overlay",
              "size": 10,
              "solidity": 0.2
             }
            },
            "type": "barpolar"
           }
          ],
          "carpet": [
           {
            "aaxis": {
             "endlinecolor": "#2a3f5f",
             "gridcolor": "white",
             "linecolor": "white",
             "minorgridcolor": "white",
             "startlinecolor": "#2a3f5f"
            },
            "baxis": {
             "endlinecolor": "#2a3f5f",
             "gridcolor": "white",
             "linecolor": "white",
             "minorgridcolor": "white",
             "startlinecolor": "#2a3f5f"
            },
            "type": "carpet"
           }
          ],
          "choropleth": [
           {
            "colorbar": {
             "outlinewidth": 0,
             "ticks": ""
            },
            "type": "choropleth"
           }
          ],
          "contour": [
           {
            "colorbar": {
             "outlinewidth": 0,
             "ticks": ""
            },
            "colorscale": [
             [
              0,
              "#0d0887"
             ],
             [
              0.1111111111111111,
              "#46039f"
             ],
             [
              0.2222222222222222,
              "#7201a8"
             ],
             [
              0.3333333333333333,
              "#9c179e"
             ],
             [
              0.4444444444444444,
              "#bd3786"
             ],
             [
              0.5555555555555556,
              "#d8576b"
             ],
             [
              0.6666666666666666,
              "#ed7953"
             ],
             [
              0.7777777777777778,
              "#fb9f3a"
             ],
             [
              0.8888888888888888,
              "#fdca26"
             ],
             [
              1,
              "#f0f921"
             ]
            ],
            "type": "contour"
           }
          ],
          "contourcarpet": [
           {
            "colorbar": {
             "outlinewidth": 0,
             "ticks": ""
            },
            "type": "contourcarpet"
           }
          ],
          "heatmap": [
           {
            "colorbar": {
             "outlinewidth": 0,
             "ticks": ""
            },
            "colorscale": [
             [
              0,
              "#0d0887"
             ],
             [
              0.1111111111111111,
              "#46039f"
             ],
             [
              0.2222222222222222,
              "#7201a8"
             ],
             [
              0.3333333333333333,
              "#9c179e"
             ],
             [
              0.4444444444444444,
              "#bd3786"
             ],
             [
              0.5555555555555556,
              "#d8576b"
             ],
             [
              0.6666666666666666,
              "#ed7953"
             ],
             [
              0.7777777777777778,
              "#fb9f3a"
             ],
             [
              0.8888888888888888,
              "#fdca26"
             ],
             [
              1,
              "#f0f921"
             ]
            ],
            "type": "heatmap"
           }
          ],
          "heatmapgl": [
           {
            "colorbar": {
             "outlinewidth": 0,
             "ticks": ""
            },
            "colorscale": [
             [
              0,
              "#0d0887"
             ],
             [
              0.1111111111111111,
              "#46039f"
             ],
             [
              0.2222222222222222,
              "#7201a8"
             ],
             [
              0.3333333333333333,
              "#9c179e"
             ],
             [
              0.4444444444444444,
              "#bd3786"
             ],
             [
              0.5555555555555556,
              "#d8576b"
             ],
             [
              0.6666666666666666,
              "#ed7953"
             ],
             [
              0.7777777777777778,
              "#fb9f3a"
             ],
             [
              0.8888888888888888,
              "#fdca26"
             ],
             [
              1,
              "#f0f921"
             ]
            ],
            "type": "heatmapgl"
           }
          ],
          "histogram": [
           {
            "marker": {
             "pattern": {
              "fillmode": "overlay",
              "size": 10,
              "solidity": 0.2
             }
            },
            "type": "histogram"
           }
          ],
          "histogram2d": [
           {
            "colorbar": {
             "outlinewidth": 0,
             "ticks": ""
            },
            "colorscale": [
             [
              0,
              "#0d0887"
             ],
             [
              0.1111111111111111,
              "#46039f"
             ],
             [
              0.2222222222222222,
              "#7201a8"
             ],
             [
              0.3333333333333333,
              "#9c179e"
             ],
             [
              0.4444444444444444,
              "#bd3786"
             ],
             [
              0.5555555555555556,
              "#d8576b"
             ],
             [
              0.6666666666666666,
              "#ed7953"
             ],
             [
              0.7777777777777778,
              "#fb9f3a"
             ],
             [
              0.8888888888888888,
              "#fdca26"
             ],
             [
              1,
              "#f0f921"
             ]
            ],
            "type": "histogram2d"
           }
          ],
          "histogram2dcontour": [
           {
            "colorbar": {
             "outlinewidth": 0,
             "ticks": ""
            },
            "colorscale": [
             [
              0,
              "#0d0887"
             ],
             [
              0.1111111111111111,
              "#46039f"
             ],
             [
              0.2222222222222222,
              "#7201a8"
             ],
             [
              0.3333333333333333,
              "#9c179e"
             ],
             [
              0.4444444444444444,
              "#bd3786"
             ],
             [
              0.5555555555555556,
              "#d8576b"
             ],
             [
              0.6666666666666666,
              "#ed7953"
             ],
             [
              0.7777777777777778,
              "#fb9f3a"
             ],
             [
              0.8888888888888888,
              "#fdca26"
             ],
             [
              1,
              "#f0f921"
             ]
            ],
            "type": "histogram2dcontour"
           }
          ],
          "mesh3d": [
           {
            "colorbar": {
             "outlinewidth": 0,
             "ticks": ""
            },
            "type": "mesh3d"
           }
          ],
          "parcoords": [
           {
            "line": {
             "colorbar": {
              "outlinewidth": 0,
              "ticks": ""
             }
            },
            "type": "parcoords"
           }
          ],
          "pie": [
           {
            "automargin": true,
            "type": "pie"
           }
          ],
          "scatter": [
           {
            "fillpattern": {
             "fillmode": "overlay",
             "size": 10,
             "solidity": 0.2
            },
            "type": "scatter"
           }
          ],
          "scatter3d": [
           {
            "line": {
             "colorbar": {
              "outlinewidth": 0,
              "ticks": ""
             }
            },
            "marker": {
             "colorbar": {
              "outlinewidth": 0,
              "ticks": ""
             }
            },
            "type": "scatter3d"
           }
          ],
          "scattercarpet": [
           {
            "marker": {
             "colorbar": {
              "outlinewidth": 0,
              "ticks": ""
             }
            },
            "type": "scattercarpet"
           }
          ],
          "scattergeo": [
           {
            "marker": {
             "colorbar": {
              "outlinewidth": 0,
              "ticks": ""
             }
            },
            "type": "scattergeo"
           }
          ],
          "scattergl": [
           {
            "marker": {
             "colorbar": {
              "outlinewidth": 0,
              "ticks": ""
             }
            },
            "type": "scattergl"
           }
          ],
          "scattermapbox": [
           {
            "marker": {
             "colorbar": {
              "outlinewidth": 0,
              "ticks": ""
             }
            },
            "type": "scattermapbox"
           }
          ],
          "scatterpolar": [
           {
            "marker": {
             "colorbar": {
              "outlinewidth": 0,
              "ticks": ""
             }
            },
            "type": "scatterpolar"
           }
          ],
          "scatterpolargl": [
           {
            "marker": {
             "colorbar": {
              "outlinewidth": 0,
              "ticks": ""
             }
            },
            "type": "scatterpolargl"
           }
          ],
          "scatterternary": [
           {
            "marker": {
             "colorbar": {
              "outlinewidth": 0,
              "ticks": ""
             }
            },
            "type": "scatterternary"
           }
          ],
          "surface": [
           {
            "colorbar": {
             "outlinewidth": 0,
             "ticks": ""
            },
            "colorscale": [
             [
              0,
              "#0d0887"
             ],
             [
              0.1111111111111111,
              "#46039f"
             ],
             [
              0.2222222222222222,
              "#7201a8"
             ],
             [
              0.3333333333333333,
              "#9c179e"
             ],
             [
              0.4444444444444444,
              "#bd3786"
             ],
             [
              0.5555555555555556,
              "#d8576b"
             ],
             [
              0.6666666666666666,
              "#ed7953"
             ],
             [
              0.7777777777777778,
              "#fb9f3a"
             ],
             [
              0.8888888888888888,
              "#fdca26"
             ],
             [
              1,
              "#f0f921"
             ]
            ],
            "type": "surface"
           }
          ],
          "table": [
           {
            "cells": {
             "fill": {
              "color": "#EBF0F8"
             },
             "line": {
              "color": "white"
             }
            },
            "header": {
             "fill": {
              "color": "#C8D4E3"
             },
             "line": {
              "color": "white"
             }
            },
            "type": "table"
           }
          ]
         },
         "layout": {
          "annotationdefaults": {
           "arrowcolor": "#2a3f5f",
           "arrowhead": 0,
           "arrowwidth": 1
          },
          "autotypenumbers": "strict",
          "coloraxis": {
           "colorbar": {
            "outlinewidth": 0,
            "ticks": ""
           }
          },
          "colorscale": {
           "diverging": [
            [
             0,
             "#8e0152"
            ],
            [
             0.1,
             "#c51b7d"
            ],
            [
             0.2,
             "#de77ae"
            ],
            [
             0.3,
             "#f1b6da"
            ],
            [
             0.4,
             "#fde0ef"
            ],
            [
             0.5,
             "#f7f7f7"
            ],
            [
             0.6,
             "#e6f5d0"
            ],
            [
             0.7,
             "#b8e186"
            ],
            [
             0.8,
             "#7fbc41"
            ],
            [
             0.9,
             "#4d9221"
            ],
            [
             1,
             "#276419"
            ]
           ],
           "sequential": [
            [
             0,
             "#0d0887"
            ],
            [
             0.1111111111111111,
             "#46039f"
            ],
            [
             0.2222222222222222,
             "#7201a8"
            ],
            [
             0.3333333333333333,
             "#9c179e"
            ],
            [
             0.4444444444444444,
             "#bd3786"
            ],
            [
             0.5555555555555556,
             "#d8576b"
            ],
            [
             0.6666666666666666,
             "#ed7953"
            ],
            [
             0.7777777777777778,
             "#fb9f3a"
            ],
            [
             0.8888888888888888,
             "#fdca26"
            ],
            [
             1,
             "#f0f921"
            ]
           ],
           "sequentialminus": [
            [
             0,
             "#0d0887"
            ],
            [
             0.1111111111111111,
             "#46039f"
            ],
            [
             0.2222222222222222,
             "#7201a8"
            ],
            [
             0.3333333333333333,
             "#9c179e"
            ],
            [
             0.4444444444444444,
             "#bd3786"
            ],
            [
             0.5555555555555556,
             "#d8576b"
            ],
            [
             0.6666666666666666,
             "#ed7953"
            ],
            [
             0.7777777777777778,
             "#fb9f3a"
            ],
            [
             0.8888888888888888,
             "#fdca26"
            ],
            [
             1,
             "#f0f921"
            ]
           ]
          },
          "colorway": [
           "#636efa",
           "#EF553B",
           "#00cc96",
           "#ab63fa",
           "#FFA15A",
           "#19d3f3",
           "#FF6692",
           "#B6E880",
           "#FF97FF",
           "#FECB52"
          ],
          "font": {
           "color": "#2a3f5f"
          },
          "geo": {
           "bgcolor": "white",
           "lakecolor": "white",
           "landcolor": "#E5ECF6",
           "showlakes": true,
           "showland": true,
           "subunitcolor": "white"
          },
          "hoverlabel": {
           "align": "left"
          },
          "hovermode": "closest",
          "mapbox": {
           "style": "light"
          },
          "paper_bgcolor": "white",
          "plot_bgcolor": "#E5ECF6",
          "polar": {
           "angularaxis": {
            "gridcolor": "white",
            "linecolor": "white",
            "ticks": ""
           },
           "bgcolor": "#E5ECF6",
           "radialaxis": {
            "gridcolor": "white",
            "linecolor": "white",
            "ticks": ""
           }
          },
          "scene": {
           "xaxis": {
            "backgroundcolor": "#E5ECF6",
            "gridcolor": "white",
            "gridwidth": 2,
            "linecolor": "white",
            "showbackground": true,
            "ticks": "",
            "zerolinecolor": "white"
           },
           "yaxis": {
            "backgroundcolor": "#E5ECF6",
            "gridcolor": "white",
            "gridwidth": 2,
            "linecolor": "white",
            "showbackground": true,
            "ticks": "",
            "zerolinecolor": "white"
           },
           "zaxis": {
            "backgroundcolor": "#E5ECF6",
            "gridcolor": "white",
            "gridwidth": 2,
            "linecolor": "white",
            "showbackground": true,
            "ticks": "",
            "zerolinecolor": "white"
           }
          },
          "shapedefaults": {
           "line": {
            "color": "#2a3f5f"
           }
          },
          "ternary": {
           "aaxis": {
            "gridcolor": "white",
            "linecolor": "white",
            "ticks": ""
           },
           "baxis": {
            "gridcolor": "white",
            "linecolor": "white",
            "ticks": ""
           },
           "bgcolor": "#E5ECF6",
           "caxis": {
            "gridcolor": "white",
            "linecolor": "white",
            "ticks": ""
           }
          },
          "title": {
           "x": 0.05
          },
          "xaxis": {
           "automargin": true,
           "gridcolor": "white",
           "linecolor": "white",
           "ticks": "",
           "title": {
            "standoff": 15
           },
           "zerolinecolor": "white",
           "zerolinewidth": 2
          },
          "yaxis": {
           "automargin": true,
           "gridcolor": "white",
           "linecolor": "white",
           "ticks": "",
           "title": {
            "standoff": 15
           },
           "zerolinecolor": "white",
           "zerolinewidth": 2
          }
         }
        }
       }
      },
      "text/html": [
       "<div>                            <div id=\"82c05b51-8177-47cf-9c93-070ea996a7d7\" class=\"plotly-graph-div\" style=\"height:525px; width:100%;\"></div>            <script type=\"text/javascript\">                require([\"plotly\"], function(Plotly) {                    window.PLOTLYENV=window.PLOTLYENV || {};                                    if (document.getElementById(\"82c05b51-8177-47cf-9c93-070ea996a7d7\")) {                    Plotly.newPlot(                        \"82c05b51-8177-47cf-9c93-070ea996a7d7\",                        [{\"branchvalues\":\"total\",\"domain\":{\"x\":[0.0,1.0],\"y\":[0.0,1.0]},\"hovertemplate\":\"labels=%{label}<br>count=%{value}<br>parent=%{parent}<br>id=%{id}<extra></extra>\",\"ids\":[\"3/Business Analyst/Life Sciences\",\"4/Business Analyst/Life Sciences\",\"3/Delivery Manager/Life Sciences\",\"2/Developer/Life Sciences\",\"3/Developer/Life Sciences\",\"4/Developer/Life Sciences\",\"2/Senior Developer/Life Sciences\",\"3/Senior Developer/Life Sciences\",\"4/Senior Developer/Life Sciences\",\"3/Technical Architect/Life Sciences\",\"3/Technical Lead/Life Sciences\",\"4/Technical Lead/Life Sciences\",\"3/Business Analyst/Medical\",\"3/Delivery Manager/Medical\",\"2/Developer/Medical\",\"3/Developer/Medical\",\"4/Developer/Medical\",\"2/Senior Developer/Medical\",\"3/Senior Developer/Medical\",\"4/Senior Developer/Medical\",\"3/Technical Architect/Medical\",\"2/Technical Lead/Medical\",\"3/Technical Lead/Medical\",\"4/Technical Lead/Medical\",\"3/Delivery Manager/Other\",\"3/Developer/Other\",\"4/Developer/Other\",\"3/Senior Developer/Other\",\"3/Technical Architect/Other\",\"3/Business Analyst/Technical Degree\",\"3/Delivery Manager/Technical Degree\",\"3/Developer/Technical Degree\",\"4/Developer/Technical Degree\",\"3/Senior Developer/Technical Degree\",\"3/Technical Lead/Technical Degree\",\"3/Business Analyst\",\"4/Business Analyst\",\"3/Delivery Manager\",\"2/Developer\",\"3/Developer\",\"4/Developer\",\"2/Senior Developer\",\"3/Senior Developer\",\"4/Senior Developer\",\"3/Technical Architect\",\"2/Technical Lead\",\"3/Technical Lead\",\"4/Technical Lead\",\"2\",\"3\",\"4\"],\"labels\":[\"Life Sciences\",\"Life Sciences\",\"Life Sciences\",\"Life Sciences\",\"Life Sciences\",\"Life Sciences\",\"Life Sciences\",\"Life Sciences\",\"Life Sciences\",\"Life Sciences\",\"Life Sciences\",\"Life Sciences\",\"Medical\",\"Medical\",\"Medical\",\"Medical\",\"Medical\",\"Medical\",\"Medical\",\"Medical\",\"Medical\",\"Medical\",\"Medical\",\"Medical\",\"Other\",\"Other\",\"Other\",\"Other\",\"Other\",\"Technical Degree\",\"Technical Degree\",\"Technical Degree\",\"Technical Degree\",\"Technical Degree\",\"Technical Degree\",\"Business Analyst\",\"Business Analyst\",\"Delivery Manager\",\"Developer\",\"Developer\",\"Developer\",\"Senior Developer\",\"Senior Developer\",\"Senior Developer\",\"Technical Architect\",\"Technical Lead\",\"Technical Lead\",\"Technical Lead\",\"2\",\"3\",\"4\"],\"name\":\"\",\"parents\":[\"3/Business Analyst\",\"4/Business Analyst\",\"3/Delivery Manager\",\"2/Developer\",\"3/Developer\",\"4/Developer\",\"2/Senior Developer\",\"3/Senior Developer\",\"4/Senior Developer\",\"3/Technical Architect\",\"3/Technical Lead\",\"4/Technical Lead\",\"3/Business Analyst\",\"3/Delivery Manager\",\"2/Developer\",\"3/Developer\",\"4/Developer\",\"2/Senior Developer\",\"3/Senior Developer\",\"4/Senior Developer\",\"3/Technical Architect\",\"2/Technical Lead\",\"3/Technical Lead\",\"4/Technical Lead\",\"3/Delivery Manager\",\"3/Developer\",\"4/Developer\",\"3/Senior Developer\",\"3/Technical Architect\",\"3/Business Analyst\",\"3/Delivery Manager\",\"3/Developer\",\"4/Developer\",\"3/Senior Developer\",\"3/Technical Lead\",\"3\",\"4\",\"3\",\"2\",\"3\",\"4\",\"2\",\"3\",\"4\",\"3\",\"2\",\"3\",\"4\",\"\",\"\",\"\"],\"values\":[6,2,6,4,76,9,2,21,4,2,15,2,6,4,2,68,11,2,9,2,2,1,13,2,1,13,2,3,1,1,1,8,3,2,4,13,2,12,6,165,25,4,35,6,5,1,32,4,11,262,37],\"type\":\"sunburst\"}],                        {\"template\":{\"data\":{\"histogram2dcontour\":[{\"type\":\"histogram2dcontour\",\"colorbar\":{\"outlinewidth\":0,\"ticks\":\"\"},\"colorscale\":[[0.0,\"#0d0887\"],[0.1111111111111111,\"#46039f\"],[0.2222222222222222,\"#7201a8\"],[0.3333333333333333,\"#9c179e\"],[0.4444444444444444,\"#bd3786\"],[0.5555555555555556,\"#d8576b\"],[0.6666666666666666,\"#ed7953\"],[0.7777777777777778,\"#fb9f3a\"],[0.8888888888888888,\"#fdca26\"],[1.0,\"#f0f921\"]]}],\"choropleth\":[{\"type\":\"choropleth\",\"colorbar\":{\"outlinewidth\":0,\"ticks\":\"\"}}],\"histogram2d\":[{\"type\":\"histogram2d\",\"colorbar\":{\"outlinewidth\":0,\"ticks\":\"\"},\"colorscale\":[[0.0,\"#0d0887\"],[0.1111111111111111,\"#46039f\"],[0.2222222222222222,\"#7201a8\"],[0.3333333333333333,\"#9c179e\"],[0.4444444444444444,\"#bd3786\"],[0.5555555555555556,\"#d8576b\"],[0.6666666666666666,\"#ed7953\"],[0.7777777777777778,\"#fb9f3a\"],[0.8888888888888888,\"#fdca26\"],[1.0,\"#f0f921\"]]}],\"heatmap\":[{\"type\":\"heatmap\",\"colorbar\":{\"outlinewidth\":0,\"ticks\":\"\"},\"colorscale\":[[0.0,\"#0d0887\"],[0.1111111111111111,\"#46039f\"],[0.2222222222222222,\"#7201a8\"],[0.3333333333333333,\"#9c179e\"],[0.4444444444444444,\"#bd3786\"],[0.5555555555555556,\"#d8576b\"],[0.6666666666666666,\"#ed7953\"],[0.7777777777777778,\"#fb9f3a\"],[0.8888888888888888,\"#fdca26\"],[1.0,\"#f0f921\"]]}],\"heatmapgl\":[{\"type\":\"heatmapgl\",\"colorbar\":{\"outlinewidth\":0,\"ticks\":\"\"},\"colorscale\":[[0.0,\"#0d0887\"],[0.1111111111111111,\"#46039f\"],[0.2222222222222222,\"#7201a8\"],[0.3333333333333333,\"#9c179e\"],[0.4444444444444444,\"#bd3786\"],[0.5555555555555556,\"#d8576b\"],[0.6666666666666666,\"#ed7953\"],[0.7777777777777778,\"#fb9f3a\"],[0.8888888888888888,\"#fdca26\"],[1.0,\"#f0f921\"]]}],\"contourcarpet\":[{\"type\":\"contourcarpet\",\"colorbar\":{\"outlinewidth\":0,\"ticks\":\"\"}}],\"contour\":[{\"type\":\"contour\",\"colorbar\":{\"outlinewidth\":0,\"ticks\":\"\"},\"colorscale\":[[0.0,\"#0d0887\"],[0.1111111111111111,\"#46039f\"],[0.2222222222222222,\"#7201a8\"],[0.3333333333333333,\"#9c179e\"],[0.4444444444444444,\"#bd3786\"],[0.5555555555555556,\"#d8576b\"],[0.6666666666666666,\"#ed7953\"],[0.7777777777777778,\"#fb9f3a\"],[0.8888888888888888,\"#fdca26\"],[1.0,\"#f0f921\"]]}],\"surface\":[{\"type\":\"surface\",\"colorbar\":{\"outlinewidth\":0,\"ticks\":\"\"},\"colorscale\":[[0.0,\"#0d0887\"],[0.1111111111111111,\"#46039f\"],[0.2222222222222222,\"#7201a8\"],[0.3333333333333333,\"#9c179e\"],[0.4444444444444444,\"#bd3786\"],[0.5555555555555556,\"#d8576b\"],[0.6666666666666666,\"#ed7953\"],[0.7777777777777778,\"#fb9f3a\"],[0.8888888888888888,\"#fdca26\"],[1.0,\"#f0f921\"]]}],\"mesh3d\":[{\"type\":\"mesh3d\",\"colorbar\":{\"outlinewidth\":0,\"ticks\":\"\"}}],\"scatter\":[{\"fillpattern\":{\"fillmode\":\"overlay\",\"size\":10,\"solidity\":0.2},\"type\":\"scatter\"}],\"parcoords\":[{\"type\":\"parcoords\",\"line\":{\"colorbar\":{\"outlinewidth\":0,\"ticks\":\"\"}}}],\"scatterpolargl\":[{\"type\":\"scatterpolargl\",\"marker\":{\"colorbar\":{\"outlinewidth\":0,\"ticks\":\"\"}}}],\"bar\":[{\"error_x\":{\"color\":\"#2a3f5f\"},\"error_y\":{\"color\":\"#2a3f5f\"},\"marker\":{\"line\":{\"color\":\"#E5ECF6\",\"width\":0.5},\"pattern\":{\"fillmode\":\"overlay\",\"size\":10,\"solidity\":0.2}},\"type\":\"bar\"}],\"scattergeo\":[{\"type\":\"scattergeo\",\"marker\":{\"colorbar\":{\"outlinewidth\":0,\"ticks\":\"\"}}}],\"scatterpolar\":[{\"type\":\"scatterpolar\",\"marker\":{\"colorbar\":{\"outlinewidth\":0,\"ticks\":\"\"}}}],\"histogram\":[{\"marker\":{\"pattern\":{\"fillmode\":\"overlay\",\"size\":10,\"solidity\":0.2}},\"type\":\"histogram\"}],\"scattergl\":[{\"type\":\"scattergl\",\"marker\":{\"colorbar\":{\"outlinewidth\":0,\"ticks\":\"\"}}}],\"scatter3d\":[{\"type\":\"scatter3d\",\"line\":{\"colorbar\":{\"outlinewidth\":0,\"ticks\":\"\"}},\"marker\":{\"colorbar\":{\"outlinewidth\":0,\"ticks\":\"\"}}}],\"scattermapbox\":[{\"type\":\"scattermapbox\",\"marker\":{\"colorbar\":{\"outlinewidth\":0,\"ticks\":\"\"}}}],\"scatterternary\":[{\"type\":\"scatterternary\",\"marker\":{\"colorbar\":{\"outlinewidth\":0,\"ticks\":\"\"}}}],\"scattercarpet\":[{\"type\":\"scattercarpet\",\"marker\":{\"colorbar\":{\"outlinewidth\":0,\"ticks\":\"\"}}}],\"carpet\":[{\"aaxis\":{\"endlinecolor\":\"#2a3f5f\",\"gridcolor\":\"white\",\"linecolor\":\"white\",\"minorgridcolor\":\"white\",\"startlinecolor\":\"#2a3f5f\"},\"baxis\":{\"endlinecolor\":\"#2a3f5f\",\"gridcolor\":\"white\",\"linecolor\":\"white\",\"minorgridcolor\":\"white\",\"startlinecolor\":\"#2a3f5f\"},\"type\":\"carpet\"}],\"table\":[{\"cells\":{\"fill\":{\"color\":\"#EBF0F8\"},\"line\":{\"color\":\"white\"}},\"header\":{\"fill\":{\"color\":\"#C8D4E3\"},\"line\":{\"color\":\"white\"}},\"type\":\"table\"}],\"barpolar\":[{\"marker\":{\"line\":{\"color\":\"#E5ECF6\",\"width\":0.5},\"pattern\":{\"fillmode\":\"overlay\",\"size\":10,\"solidity\":0.2}},\"type\":\"barpolar\"}],\"pie\":[{\"automargin\":true,\"type\":\"pie\"}]},\"layout\":{\"autotypenumbers\":\"strict\",\"colorway\":[\"#636efa\",\"#EF553B\",\"#00cc96\",\"#ab63fa\",\"#FFA15A\",\"#19d3f3\",\"#FF6692\",\"#B6E880\",\"#FF97FF\",\"#FECB52\"],\"font\":{\"color\":\"#2a3f5f\"},\"hovermode\":\"closest\",\"hoverlabel\":{\"align\":\"left\"},\"paper_bgcolor\":\"white\",\"plot_bgcolor\":\"#E5ECF6\",\"polar\":{\"bgcolor\":\"#E5ECF6\",\"angularaxis\":{\"gridcolor\":\"white\",\"linecolor\":\"white\",\"ticks\":\"\"},\"radialaxis\":{\"gridcolor\":\"white\",\"linecolor\":\"white\",\"ticks\":\"\"}},\"ternary\":{\"bgcolor\":\"#E5ECF6\",\"aaxis\":{\"gridcolor\":\"white\",\"linecolor\":\"white\",\"ticks\":\"\"},\"baxis\":{\"gridcolor\":\"white\",\"linecolor\":\"white\",\"ticks\":\"\"},\"caxis\":{\"gridcolor\":\"white\",\"linecolor\":\"white\",\"ticks\":\"\"}},\"coloraxis\":{\"colorbar\":{\"outlinewidth\":0,\"ticks\":\"\"}},\"colorscale\":{\"sequential\":[[0.0,\"#0d0887\"],[0.1111111111111111,\"#46039f\"],[0.2222222222222222,\"#7201a8\"],[0.3333333333333333,\"#9c179e\"],[0.4444444444444444,\"#bd3786\"],[0.5555555555555556,\"#d8576b\"],[0.6666666666666666,\"#ed7953\"],[0.7777777777777778,\"#fb9f3a\"],[0.8888888888888888,\"#fdca26\"],[1.0,\"#f0f921\"]],\"sequentialminus\":[[0.0,\"#0d0887\"],[0.1111111111111111,\"#46039f\"],[0.2222222222222222,\"#7201a8\"],[0.3333333333333333,\"#9c179e\"],[0.4444444444444444,\"#bd3786\"],[0.5555555555555556,\"#d8576b\"],[0.6666666666666666,\"#ed7953\"],[0.7777777777777778,\"#fb9f3a\"],[0.8888888888888888,\"#fdca26\"],[1.0,\"#f0f921\"]],\"diverging\":[[0,\"#8e0152\"],[0.1,\"#c51b7d\"],[0.2,\"#de77ae\"],[0.3,\"#f1b6da\"],[0.4,\"#fde0ef\"],[0.5,\"#f7f7f7\"],[0.6,\"#e6f5d0\"],[0.7,\"#b8e186\"],[0.8,\"#7fbc41\"],[0.9,\"#4d9221\"],[1,\"#276419\"]]},\"xaxis\":{\"gridcolor\":\"white\",\"linecolor\":\"white\",\"ticks\":\"\",\"title\":{\"standoff\":15},\"zerolinecolor\":\"white\",\"automargin\":true,\"zerolinewidth\":2},\"yaxis\":{\"gridcolor\":\"white\",\"linecolor\":\"white\",\"ticks\":\"\",\"title\":{\"standoff\":15},\"zerolinecolor\":\"white\",\"automargin\":true,\"zerolinewidth\":2},\"scene\":{\"xaxis\":{\"backgroundcolor\":\"#E5ECF6\",\"gridcolor\":\"white\",\"linecolor\":\"white\",\"showbackground\":true,\"ticks\":\"\",\"zerolinecolor\":\"white\",\"gridwidth\":2},\"yaxis\":{\"backgroundcolor\":\"#E5ECF6\",\"gridcolor\":\"white\",\"linecolor\":\"white\",\"showbackground\":true,\"ticks\":\"\",\"zerolinecolor\":\"white\",\"gridwidth\":2},\"zaxis\":{\"backgroundcolor\":\"#E5ECF6\",\"gridcolor\":\"white\",\"linecolor\":\"white\",\"showbackground\":true,\"ticks\":\"\",\"zerolinecolor\":\"white\",\"gridwidth\":2}},\"shapedefaults\":{\"line\":{\"color\":\"#2a3f5f\"}},\"annotationdefaults\":{\"arrowcolor\":\"#2a3f5f\",\"arrowhead\":0,\"arrowwidth\":1},\"geo\":{\"bgcolor\":\"white\",\"landcolor\":\"#E5ECF6\",\"subunitcolor\":\"white\",\"showland\":true,\"showlakes\":true,\"lakecolor\":\"white\"},\"title\":{\"x\":0.05},\"mapbox\":{\"style\":\"light\"}}},\"legend\":{\"tracegroupgap\":0},\"margin\":{\"t\":60}},                        {\"responsive\": true}                    ).then(function(){\n",
       "                            \n",
       "var gd = document.getElementById('82c05b51-8177-47cf-9c93-070ea996a7d7');\n",
       "var x = new MutationObserver(function (mutations, observer) {{\n",
       "        var display = window.getComputedStyle(gd).display;\n",
       "        if (!display || display === 'none') {{\n",
       "            console.log([gd, 'removed!']);\n",
       "            Plotly.purge(gd);\n",
       "            observer.disconnect();\n",
       "        }}\n",
       "}});\n",
       "\n",
       "// Listen for the removal of the full notebook cells\n",
       "var notebookContainer = gd.closest('#notebook-container');\n",
       "if (notebookContainer) {{\n",
       "    x.observe(notebookContainer, {childList: true});\n",
       "}}\n",
       "\n",
       "// Listen for the clearing of the current output cell\n",
       "var outputEl = gd.closest('.output');\n",
       "if (outputEl) {{\n",
       "    x.observe(outputEl, {childList: true});\n",
       "}}\n",
       "\n",
       "                        })                };                });            </script>        </div>"
      ]
     },
     "metadata": {},
     "output_type": "display_data"
    }
   ],
   "source": [
    "# 6) Employee Education\n",
    "\n",
    "fig=px.sunburst(df_development, path=['PerformanceRating','EmpJobRole','EducationBackground'])\n",
    "fig.show()\n",
    "\n",
    "# Only 11 employees who shown underlying performance have different educational background."
   ]
  },
  {
   "cell_type": "code",
   "execution_count": 171,
   "id": "bb9f5cf4",
   "metadata": {},
   "outputs": [
    {
     "data": {
      "text/plain": [
       "<AxesSubplot:xlabel='PerformanceRating', ylabel='TrainingTimesLastYear'>"
      ]
     },
     "execution_count": 171,
     "metadata": {},
     "output_type": "execute_result"
    },
    {
     "data": {
      "image/png": "[encoded data removed]",
      "text/plain": [
       "<Figure size 432x288 with 1 Axes>"
      ]
     },
     "metadata": {
      "needs_background": "light"
     },
     "output_type": "display_data"
    }
   ],
   "source": [
    "# 7) Learning and Developmemt\n",
    "\n",
    "sns.boxenplot(data=df_development, x='PerformanceRating', y='TrainingTimesLastYear')\n",
    "\n",
    "#Employees who attended more trainings have higher performance"
   ]
  },
  {
   "cell_type": "code",
   "execution_count": 172,
   "id": "4539b9c7",
   "metadata": {},
   "outputs": [
    {
     "data": {
      "application/vnd.plotly.v1+json": {
       "config": {
        "plotlyServerURL": "https://plot.ly"
       },
       "data": [
        {
         "branchvalues": "total",
         "domain": {
          "x": [
           0,
           1
          ],
          "y": [
           0,
           1
          ]
         },
         "hovertemplate": "labels=%{label}<br>count=%{value}<br>parent=%{parent}<br>id=%{id}<extra></extra>",
         "ids": [
          "3/Business Analyst/11",
          "2/Developer/11",
          "3/Developer/11",
          "2/Senior Developer/11",
          "3/Senior Developer/11",
          "3/Technical Lead/11",
          "3/Business Analyst/12",
          "3/Delivery Manager/12",
          "2/Developer/12",
          "3/Developer/12",
          "3/Senior Developer/12",
          "3/Technical Architect/12",
          "2/Technical Lead/12",
          "3/Technical Lead/12",
          "3/Business Analyst/13",
          "4/Business Analyst/13",
          "3/Delivery Manager/13",
          "3/Developer/13",
          "3/Senior Developer/13",
          "3/Technical Architect/13",
          "3/Technical Lead/13",
          "3/Business Analyst/14",
          "3/Delivery Manager/14",
          "2/Developer/14",
          "3/Developer/14",
          "2/Senior Developer/14",
          "3/Senior Developer/14",
          "3/Technical Lead/14",
          "3/Business Analyst/15",
          "3/Developer/15",
          "3/Senior Developer/15",
          "3/Technical Lead/15",
          "3/Delivery Manager/16",
          "3/Developer/16",
          "4/Developer/16",
          "3/Technical Lead/16",
          "3/Business Analyst/17",
          "2/Developer/17",
          "3/Developer/17",
          "4/Developer/17",
          "3/Senior Developer/17",
          "3/Technical Lead/17",
          "4/Technical Lead/17",
          "3/Business Analyst/18",
          "3/Developer/18",
          "3/Technical Lead/18",
          "3/Business Analyst/19",
          "3/Developer/19",
          "3/Senior Developer/19",
          "3/Technical Architect/19",
          "3/Developer/20",
          "4/Developer/20",
          "4/Senior Developer/20",
          "3/Technical Lead/20",
          "4/Technical Lead/20",
          "3/Developer/21",
          "4/Developer/21",
          "4/Technical Lead/21",
          "3/Developer/22",
          "4/Developer/22",
          "3/Senior Developer/22",
          "4/Senior Developer/22",
          "4/Business Analyst/23",
          "4/Developer/23",
          "3/Technical Lead/23",
          "4/Technical Lead/23",
          "3/Delivery Manager/24",
          "3/Developer/24",
          "4/Developer/24",
          "4/Senior Developer/24",
          "4/Developer/25",
          "3/Senior Developer/25",
          "3/Business Analyst",
          "4/Business Analyst",
          "3/Delivery Manager",
          "2/Developer",
          "3/Developer",
          "4/Developer",
          "2/Senior Developer",
          "3/Senior Developer",
          "4/Senior Developer",
          "3/Technical Architect",
          "2/Technical Lead",
          "3/Technical Lead",
          "4/Technical Lead",
          "2",
          "3",
          "4"
         ],
         "labels": [
          "11",
          "11",
          "11",
          "11",
          "11",
          "11",
          "12",
          "12",
          "12",
          "12",
          "12",
          "12",
          "12",
          "12",
          "13",
          "13",
          "13",
          "13",
          "13",
          "13",
          "13",
          "14",
          "14",
          "14",
          "14",
          "14",
          "14",
          "14",
          "15",
          "15",
          "15",
          "15",
          "16",
          "16",
          "16",
          "16",
          "17",
          "17",
          "17",
          "17",
          "17",
          "17",
          "17",
          "18",
          "18",
          "18",
          "19",
          "19",
          "19",
          "19",
          "20",
          "20",
          "20",
          "20",
          "20",
          "21",
          "21",
          "21",
          "22",
          "22",
          "22",
          "22",
          "23",
          "23",
          "23",
          "23",
          "24",
          "24",
          "24",
          "24",
          "25",
          "25",
          "Business Analyst",
          "Business Analyst",
          "Delivery Manager",
          "Developer",
          "Developer",
          "Developer",
          "Senior Developer",
          "Senior Developer",
          "Senior Developer",
          "Technical Architect",
          "Technical Lead",
          "Technical Lead",
          "Technical Lead",
          "2",
          "3",
          "4"
         ],
         "name": "",
         "parents": [
          "3/Business Analyst",
          "2/Developer",
          "3/Developer",
          "2/Senior Developer",
          "3/Senior Developer",
          "3/Technical Lead",
          "3/Business Analyst",
          "3/Delivery Manager",
          "2/Developer",
          "3/Developer",
          "3/Senior Developer",
          "3/Technical Architect",
          "2/Technical Lead",
          "3/Technical Lead",
          "3/Business Analyst",
          "4/Business Analyst",
          "3/Delivery Manager",
          "3/Developer",
          "3/Senior Developer",
          "3/Technical Architect",
          "3/Technical Lead",
          "3/Business Analyst",
          "3/Delivery Manager",
          "2/Developer",
          "3/Developer",
          "2/Senior Developer",
          "3/Senior Developer",
          "3/Technical Lead",
          "3/Business Analyst",
          "3/Developer",
          "3/Senior Developer",
          "3/Technical Lead",
          "3/Delivery Manager",
          "3/Developer",
          "4/Developer",
          "3/Technical Lead",
          "3/Business Analyst",
          "2/Developer",
          "3/Developer",
          "4/Developer",
          "3/Senior Developer",
          "3/Technical Lead",
          "4/Technical Lead",
          "3/Business Analyst",
          "3/Developer",
          "3/Technical Lead",
          "3/Business Analyst",
          "3/Developer",
          "3/Senior Developer",
          "3/Technical Architect",
          "3/Developer",
          "4/Developer",
          "4/Senior Developer",
          "3/Technical Lead",
          "4/Technical Lead",
          "3/Developer",
          "4/Developer",
          "4/Technical Lead",
          "3/Developer",
          "4/Developer",
          "3/Senior Developer",
          "4/Senior Developer",
          "4/Business Analyst",
          "4/Developer",
          "3/Technical Lead",
          "4/Technical Lead",
          "3/Delivery Manager",
          "3/Developer",
          "4/Developer",
          "4/Senior Developer",
          "4/Developer",
          "3/Senior Developer",
          "3",
          "4",
          "3",
          "2",
          "3",
          "4",
          "2",
          "3",
          "4",
          "3",
          "2",
          "3",
          "4",
          "",
          "",
          ""
         ],
         "type": "sunburst",
         "values": [
          1,
          1,
          29,
          3,
          7,
          1,
          2,
          2,
          3,
          25,
          5,
          1,
          1,
          5,
          1,
          1,
          5,
          26,
          9,
          3,
          2,
          1,
          1,
          1,
          28,
          1,
          1,
          6,
          3,
          12,
          4,
          5,
          3,
          7,
          1,
          5,
          2,
          1,
          7,
          2,
          3,
          2,
          1,
          2,
          17,
          4,
          1,
          8,
          2,
          1,
          2,
          6,
          3,
          1,
          1,
          1,
          7,
          1,
          1,
          4,
          2,
          2,
          1,
          2,
          1,
          1,
          1,
          2,
          2,
          1,
          1,
          2,
          13,
          2,
          12,
          6,
          165,
          25,
          4,
          35,
          6,
          5,
          1,
          32,
          4,
          11,
          262,
          37
         ]
        }
       ],
       "layout": {
        "legend": {
         "tracegroupgap": 0
        },
        "margin": {
         "t": 60
        },
        "template": {
         "data": {
          "bar": [
           {
            "error_x": {
             "color": "#2a3f5f"
            },
            "error_y": {
             "color": "#2a3f5f"
            },
            "marker": {
             "line": {
              "color": "#E5ECF6",
              "width": 0.5
             },
             "pattern": {
              "fillmode": "overlay",
              "size": 10,
              "solidity": 0.2
             }
            },
            "type": "bar"
           }
          ],
          "barpolar": [
           {
            "marker": {
             "line": {
              "color": "#E5ECF6",
              "width": 0.5
             },
             "pattern": {
              "fillmode": "overlay",
              "size": 10,
              "solidity": 0.2
             }
            },
            "type": "barpolar"
           }
          ],
          "carpet": [
           {
            "aaxis": {
             "endlinecolor": "#2a3f5f",
             "gridcolor": "white",
             "linecolor": "white",
             "minorgridcolor": "white",
             "startlinecolor": "#2a3f5f"
            },
            "baxis": {
             "endlinecolor": "#2a3f5f",
             "gridcolor": "white",
             "linecolor": "white",
             "minorgridcolor": "white",
             "startlinecolor": "#2a3f5f"
            },
            "type": "carpet"
           }
          ],
          "choropleth": [
           {
            "colorbar": {
             "outlinewidth": 0,
             "ticks": ""
            },
            "type": "choropleth"
           }
          ],
          "contour": [
           {
            "colorbar": {
             "outlinewidth": 0,
             "ticks": ""
            },
            "colorscale": [
             [
              0,
              "#0d0887"
             ],
             [
              0.1111111111111111,
              "#46039f"
             ],
             [
              0.2222222222222222,
              "#7201a8"
             ],
             [
              0.3333333333333333,
              "#9c179e"
             ],
             [
              0.4444444444444444,
              "#bd3786"
             ],
             [
              0.5555555555555556,
              "#d8576b"
             ],
             [
              0.6666666666666666,
              "#ed7953"
             ],
             [
              0.7777777777777778,
              "#fb9f3a"
             ],
             [
              0.8888888888888888,
              "#fdca26"
             ],
             [
              1,
              "#f0f921"
             ]
            ],
            "type": "contour"
           }
          ],
          "contourcarpet": [
           {
            "colorbar": {
             "outlinewidth": 0,
             "ticks": ""
            },
            "type": "contourcarpet"
           }
          ],
          "heatmap": [
           {
            "colorbar": {
             "outlinewidth": 0,
             "ticks": ""
            },
            "colorscale": [
             [
              0,
              "#0d0887"
             ],
             [
              0.1111111111111111,
              "#46039f"
             ],
             [
              0.2222222222222222,
              "#7201a8"
             ],
             [
              0.3333333333333333,
              "#9c179e"
             ],
             [
              0.4444444444444444,
              "#bd3786"
             ],
             [
              0.5555555555555556,
              "#d8576b"
             ],
             [
              0.6666666666666666,
              "#ed7953"
             ],
             [
              0.7777777777777778,
              "#fb9f3a"
             ],
             [
              0.8888888888888888,
              "#fdca26"
             ],
             [
              1,
              "#f0f921"
             ]
            ],
            "type": "heatmap"
           }
          ],
          "heatmapgl": [
           {
            "colorbar": {
             "outlinewidth": 0,
             "ticks": ""
            },
            "colorscale": [
             [
              0,
              "#0d0887"
             ],
             [
              0.1111111111111111,
              "#46039f"
             ],
             [
              0.2222222222222222,
              "#7201a8"
             ],
             [
              0.3333333333333333,
              "#9c179e"
             ],
             [
              0.4444444444444444,
              "#bd3786"
             ],
             [
              0.5555555555555556,
              "#d8576b"
             ],
             [
              0.6666666666666666,
              "#ed7953"
             ],
             [
              0.7777777777777778,
              "#fb9f3a"
             ],
             [
              0.8888888888888888,
              "#fdca26"
             ],
             [
              1,
              "#f0f921"
             ]
            ],
            "type": "heatmapgl"
           }
          ],
          "histogram": [
           {
            "marker": {
             "pattern": {
              "fillmode": "overlay",
              "size": 10,
              "solidity": 0.2
             }
            },
            "type": "histogram"
           }
          ],
          "histogram2d": [
           {
            "colorbar": {
             "outlinewidth": 0,
             "ticks": ""
            },
            "colorscale": [
             [
              0,
              "#0d0887"
             ],
             [
              0.1111111111111111,
              "#46039f"
             ],
             [
              0.2222222222222222,
              "#7201a8"
             ],
             [
              0.3333333333333333,
              "#9c179e"
             ],
             [
              0.4444444444444444,
              "#bd3786"
             ],
             [
              0.5555555555555556,
              "#d8576b"
             ],
             [
              0.6666666666666666,
              "#ed7953"
             ],
             [
              0.7777777777777778,
              "#fb9f3a"
             ],
             [
              0.8888888888888888,
              "#fdca26"
             ],
             [
              1,
              "#f0f921"
             ]
            ],
            "type": "histogram2d"
           }
          ],
          "histogram2dcontour": [
           {
            "colorbar": {
             "outlinewidth": 0,
             "ticks": ""
            },
            "colorscale": [
             [
              0,
              "#0d0887"
             ],
             [
              0.1111111111111111,
              "#46039f"
             ],
             [
              0.2222222222222222,
              "#7201a8"
             ],
             [
              0.3333333333333333,
              "#9c179e"
             ],
             [
              0.4444444444444444,
              "#bd3786"
             ],
             [
              0.5555555555555556,
              "#d8576b"
             ],
             [
              0.6666666666666666,
              "#ed7953"
             ],
             [
              0.7777777777777778,
              "#fb9f3a"
             ],
             [
              0.8888888888888888,
              "#fdca26"
             ],
             [
              1,
              "#f0f921"
             ]
            ],
            "type": "histogram2dcontour"
           }
          ],
          "mesh3d": [
           {
            "colorbar": {
             "outlinewidth": 0,
             "ticks": ""
            },
            "type": "mesh3d"
           }
          ],
          "parcoords": [
           {
            "line": {
             "colorbar": {
              "outlinewidth": 0,
              "ticks": ""
             }
            },
            "type": "parcoords"
           }
          ],
          "pie": [
           {
            "automargin": true,
            "type": "pie"
           }
          ],
          "scatter": [
           {
            "fillpattern": {
             "fillmode": "overlay",
             "size": 10,
             "solidity": 0.2
            },
            "type": "scatter"
           }
          ],
          "scatter3d": [
           {
            "line": {
             "colorbar": {
              "outlinewidth": 0,
              "ticks": ""
             }
            },
            "marker": {
             "colorbar": {
              "outlinewidth": 0,
              "ticks": ""
             }
            },
            "type": "scatter3d"
           }
          ],
          "scattercarpet": [
           {
            "marker": {
             "colorbar": {
              "outlinewidth": 0,
              "ticks": ""
             }
            },
            "type": "scattercarpet"
           }
          ],
          "scattergeo": [
           {
            "marker": {
             "colorbar": {
              "outlinewidth": 0,
              "ticks": ""
             }
            },
            "type": "scattergeo"
           }
          ],
          "scattergl": [
           {
            "marker": {
             "colorbar": {
              "outlinewidth": 0,
              "ticks": ""
             }
            },
            "type": "scattergl"
           }
          ],
          "scattermapbox": [
           {
            "marker": {
             "colorbar": {
              "outlinewidth": 0,
              "ticks": ""
             }
            },
            "type": "scattermapbox"
           }
          ],
          "scatterpolar": [
           {
            "marker": {
             "colorbar": {
              "outlinewidth": 0,
              "ticks": ""
             }
            },
            "type": "scatterpolar"
           }
          ],
          "scatterpolargl": [
           {
            "marker": {
             "colorbar": {
              "outlinewidth": 0,
              "ticks": ""
             }
            },
            "type": "scatterpolargl"
           }
          ],
          "scatterternary": [
           {
            "marker": {
             "colorbar": {
              "outlinewidth": 0,
              "ticks": ""
             }
            },
            "type": "scatterternary"
           }
          ],
          "surface": [
           {
            "colorbar": {
             "outlinewidth": 0,
             "ticks": ""
            },
            "colorscale": [
             [
              0,
              "#0d0887"
             ],
             [
              0.1111111111111111,
              "#46039f"
             ],
             [
              0.2222222222222222,
              "#7201a8"
             ],
             [
              0.3333333333333333,
              "#9c179e"
             ],
             [
              0.4444444444444444,
              "#bd3786"
             ],
             [
              0.5555555555555556,
              "#d8576b"
             ],
             [
              0.6666666666666666,
              "#ed7953"
             ],
             [
              0.7777777777777778,
              "#fb9f3a"
             ],
             [
              0.8888888888888888,
              "#fdca26"
             ],
             [
              1,
              "#f0f921"
             ]
            ],
            "type": "surface"
           }
          ],
          "table": [
           {
            "cells": {
             "fill": {
              "color": "#EBF0F8"
             },
             "line": {
              "color": "white"
             }
            },
            "header": {
             "fill": {
              "color": "#C8D4E3"
             },
             "line": {
              "color": "white"
             }
            },
            "type": "table"
           }
          ]
         },
         "layout": {
          "annotationdefaults": {
           "arrowcolor": "#2a3f5f",
           "arrowhead": 0,
           "arrowwidth": 1
          },
          "autotypenumbers": "strict",
          "coloraxis": {
           "colorbar": {
            "outlinewidth": 0,
            "ticks": ""
           }
          },
          "colorscale": {
           "diverging": [
            [
             0,
             "#8e0152"
            ],
            [
             0.1,
             "#c51b7d"
            ],
            [
             0.2,
             "#de77ae"
            ],
            [
             0.3,
             "#f1b6da"
            ],
            [
             0.4,
             "#fde0ef"
            ],
            [
             0.5,
             "#f7f7f7"
            ],
            [
             0.6,
             "#e6f5d0"
            ],
            [
             0.7,
             "#b8e186"
            ],
            [
             0.8,
             "#7fbc41"
            ],
            [
             0.9,
             "#4d9221"
            ],
            [
             1,
             "#276419"
            ]
           ],
           "sequential": [
            [
             0,
             "#0d0887"
            ],
            [
             0.1111111111111111,
             "#46039f"
            ],
            [
             0.2222222222222222,
             "#7201a8"
            ],
            [
             0.3333333333333333,
             "#9c179e"
            ],
            [
             0.4444444444444444,
             "#bd3786"
            ],
            [
             0.5555555555555556,
             "#d8576b"
            ],
            [
             0.6666666666666666,
             "#ed7953"
            ],
            [
             0.7777777777777778,
             "#fb9f3a"
            ],
            [
             0.8888888888888888,
             "#fdca26"
            ],
            [
             1,
             "#f0f921"
            ]
           ],
           "sequentialminus": [
            [
             0,
             "#0d0887"
            ],
            [
             0.1111111111111111,
             "#46039f"
            ],
            [
             0.2222222222222222,
             "#7201a8"
            ],
            [
             0.3333333333333333,
             "#9c179e"
            ],
            [
             0.4444444444444444,
             "#bd3786"
            ],
            [
             0.5555555555555556,
             "#d8576b"
            ],
            [
             0.6666666666666666,
             "#ed7953"
            ],
            [
             0.7777777777777778,
             "#fb9f3a"
            ],
            [
             0.8888888888888888,
             "#fdca26"
            ],
            [
             1,
             "#f0f921"
            ]
           ]
          },
          "colorway": [
           "#636efa",
           "#EF553B",
           "#00cc96",
           "#ab63fa",
           "#FFA15A",
           "#19d3f3",
           "#FF6692",
           "#B6E880",
           "#FF97FF",
           "#FECB52"
          ],
          "font": {
           "color": "#2a3f5f"
          },
          "geo": {
           "bgcolor": "white",
           "lakecolor": "white",
           "landcolor": "#E5ECF6",
           "showlakes": true,
           "showland": true,
           "subunitcolor": "white"
          },
          "hoverlabel": {
           "align": "left"
          },
          "hovermode": "closest",
          "mapbox": {
           "style": "light"
          },
          "paper_bgcolor": "white",
          "plot_bgcolor": "#E5ECF6",
          "polar": {
           "angularaxis": {
            "gridcolor": "white",
            "linecolor": "white",
            "ticks": ""
           },
           "bgcolor": "#E5ECF6",
           "radialaxis": {
            "gridcolor": "white",
            "linecolor": "white",
            "ticks": ""
           }
          },
          "scene": {
           "xaxis": {
            "backgroundcolor": "#E5ECF6",
            "gridcolor": "white",
            "gridwidth": 2,
            "linecolor": "white",
            "showbackground": true,
            "ticks": "",
            "zerolinecolor": "white"
           },
           "yaxis": {
            "backgroundcolor": "#E5ECF6",
            "gridcolor": "white",
            "gridwidth": 2,
            "linecolor": "white",
            "showbackground": true,
            "ticks": "",
            "zerolinecolor": "white"
           },
           "zaxis": {
            "backgroundcolor": "#E5ECF6",
            "gridcolor": "white",
            "gridwidth": 2,
            "linecolor": "white",
            "showbackground": true,
            "ticks": "",
            "zerolinecolor": "white"
           }
          },
          "shapedefaults": {
           "line": {
            "color": "#2a3f5f"
           }
          },
          "ternary": {
           "aaxis": {
            "gridcolor": "white",
            "linecolor": "white",
            "ticks": ""
           },
           "baxis": {
            "gridcolor": "white",
            "linecolor": "white",
            "ticks": ""
           },
           "bgcolor": "#E5ECF6",
           "caxis": {
            "gridcolor": "white",
            "linecolor": "white",
            "ticks": ""
           }
          },
          "title": {
           "x": 0.05
          },
          "xaxis": {
           "automargin": true,
           "gridcolor": "white",
           "linecolor": "white",
           "ticks": "",
           "title": {
            "standoff": 15
           },
           "zerolinecolor": "white",
           "zerolinewidth": 2
          },
          "yaxis": {
           "automargin": true,
           "gridcolor": "white",
           "linecolor": "white",
           "ticks": "",
           "title": {
            "standoff": 15
           },
           "zerolinecolor": "white",
           "zerolinewidth": 2
          }
         }
        }
       }
      },
      "text/html": [
       "<div>                            <div id=\"79c38350-a48c-4a6f-81d5-9a5918139eed\" class=\"plotly-graph-div\" style=\"height:525px; width:100%;\"></div>            <script type=\"text/javascript\">                require([\"plotly\"], function(Plotly) {                    window.PLOTLYENV=window.PLOTLYENV || {};                                    if (document.getElementById(\"79c38350-a48c-4a6f-81d5-9a5918139eed\")) {                    Plotly.newPlot(                        \"79c38350-a48c-4a6f-81d5-9a5918139eed\",                        [{\"branchvalues\":\"total\",\"domain\":{\"x\":[0.0,1.0],\"y\":[0.0,1.0]},\"hovertemplate\":\"labels=%{label}<br>count=%{value}<br>parent=%{parent}<br>id=%{id}<extra></extra>\",\"ids\":[\"3/Business Analyst/11\",\"2/Developer/11\",\"3/Developer/11\",\"2/Senior Developer/11\",\"3/Senior Developer/11\",\"3/Technical Lead/11\",\"3/Business Analyst/12\",\"3/Delivery Manager/12\",\"2/Developer/12\",\"3/Developer/12\",\"3/Senior Developer/12\",\"3/Technical Architect/12\",\"2/Technical Lead/12\",\"3/Technical Lead/12\",\"3/Business Analyst/13\",\"4/Business Analyst/13\",\"3/Delivery Manager/13\",\"3/Developer/13\",\"3/Senior Developer/13\",\"3/Technical Architect/13\",\"3/Technical Lead/13\",\"3/Business Analyst/14\",\"3/Delivery Manager/14\",\"2/Developer/14\",\"3/Developer/14\",\"2/Senior Developer/14\",\"3/Senior Developer/14\",\"3/Technical Lead/14\",\"3/Business Analyst/15\",\"3/Developer/15\",\"3/Senior Developer/15\",\"3/Technical Lead/15\",\"3/Delivery Manager/16\",\"3/Developer/16\",\"4/Developer/16\",\"3/Technical Lead/16\",\"3/Business Analyst/17\",\"2/Developer/17\",\"3/Developer/17\",\"4/Developer/17\",\"3/Senior Developer/17\",\"3/Technical Lead/17\",\"4/Technical Lead/17\",\"3/Business Analyst/18\",\"3/Developer/18\",\"3/Technical Lead/18\",\"3/Business Analyst/19\",\"3/Developer/19\",\"3/Senior Developer/19\",\"3/Technical Architect/19\",\"3/Developer/20\",\"4/Developer/20\",\"4/Senior Developer/20\",\"3/Technical Lead/20\",\"4/Technical Lead/20\",\"3/Developer/21\",\"4/Developer/21\",\"4/Technical Lead/21\",\"3/Developer/22\",\"4/Developer/22\",\"3/Senior Developer/22\",\"4/Senior Developer/22\",\"4/Business Analyst/23\",\"4/Developer/23\",\"3/Technical Lead/23\",\"4/Technical Lead/23\",\"3/Delivery Manager/24\",\"3/Developer/24\",\"4/Developer/24\",\"4/Senior Developer/24\",\"4/Developer/25\",\"3/Senior Developer/25\",\"3/Business Analyst\",\"4/Business Analyst\",\"3/Delivery Manager\",\"2/Developer\",\"3/Developer\",\"4/Developer\",\"2/Senior Developer\",\"3/Senior Developer\",\"4/Senior Developer\",\"3/Technical Architect\",\"2/Technical Lead\",\"3/Technical Lead\",\"4/Technical Lead\",\"2\",\"3\",\"4\"],\"labels\":[\"11\",\"11\",\"11\",\"11\",\"11\",\"11\",\"12\",\"12\",\"12\",\"12\",\"12\",\"12\",\"12\",\"12\",\"13\",\"13\",\"13\",\"13\",\"13\",\"13\",\"13\",\"14\",\"14\",\"14\",\"14\",\"14\",\"14\",\"14\",\"15\",\"15\",\"15\",\"15\",\"16\",\"16\",\"16\",\"16\",\"17\",\"17\",\"17\",\"17\",\"17\",\"17\",\"17\",\"18\",\"18\",\"18\",\"19\",\"19\",\"19\",\"19\",\"20\",\"20\",\"20\",\"20\",\"20\",\"21\",\"21\",\"21\",\"22\",\"22\",\"22\",\"22\",\"23\",\"23\",\"23\",\"23\",\"24\",\"24\",\"24\",\"24\",\"25\",\"25\",\"Business Analyst\",\"Business Analyst\",\"Delivery Manager\",\"Developer\",\"Developer\",\"Developer\",\"Senior Developer\",\"Senior Developer\",\"Senior Developer\",\"Technical Architect\",\"Technical Lead\",\"Technical Lead\",\"Technical Lead\",\"2\",\"3\",\"4\"],\"name\":\"\",\"parents\":[\"3/Business Analyst\",\"2/Developer\",\"3/Developer\",\"2/Senior Developer\",\"3/Senior Developer\",\"3/Technical Lead\",\"3/Business Analyst\",\"3/Delivery Manager\",\"2/Developer\",\"3/Developer\",\"3/Senior Developer\",\"3/Technical Architect\",\"2/Technical Lead\",\"3/Technical Lead\",\"3/Business Analyst\",\"4/Business Analyst\",\"3/Delivery Manager\",\"3/Developer\",\"3/Senior Developer\",\"3/Technical Architect\",\"3/Technical Lead\",\"3/Business Analyst\",\"3/Delivery Manager\",\"2/Developer\",\"3/Developer\",\"2/Senior Developer\",\"3/Senior Developer\",\"3/Technical Lead\",\"3/Business Analyst\",\"3/Developer\",\"3/Senior Developer\",\"3/Technical Lead\",\"3/Delivery Manager\",\"3/Developer\",\"4/Developer\",\"3/Technical Lead\",\"3/Business Analyst\",\"2/Developer\",\"3/Developer\",\"4/Developer\",\"3/Senior Developer\",\"3/Technical Lead\",\"4/Technical Lead\",\"3/Business Analyst\",\"3/Developer\",\"3/Technical Lead\",\"3/Business Analyst\",\"3/Developer\",\"3/Senior Developer\",\"3/Technical Architect\",\"3/Developer\",\"4/Developer\",\"4/Senior Developer\",\"3/Technical Lead\",\"4/Technical Lead\",\"3/Developer\",\"4/Developer\",\"4/Technical Lead\",\"3/Developer\",\"4/Developer\",\"3/Senior Developer\",\"4/Senior Developer\",\"4/Business Analyst\",\"4/Developer\",\"3/Technical Lead\",\"4/Technical Lead\",\"3/Delivery Manager\",\"3/Developer\",\"4/Developer\",\"4/Senior Developer\",\"4/Developer\",\"3/Senior Developer\",\"3\",\"4\",\"3\",\"2\",\"3\",\"4\",\"2\",\"3\",\"4\",\"3\",\"2\",\"3\",\"4\",\"\",\"\",\"\"],\"values\":[1,1,29,3,7,1,2,2,3,25,5,1,1,5,1,1,5,26,9,3,2,1,1,1,28,1,1,6,3,12,4,5,3,7,1,5,2,1,7,2,3,2,1,2,17,4,1,8,2,1,2,6,3,1,1,1,7,1,1,4,2,2,1,2,1,1,1,2,2,1,1,2,13,2,12,6,165,25,4,35,6,5,1,32,4,11,262,37],\"type\":\"sunburst\"}],                        {\"template\":{\"data\":{\"histogram2dcontour\":[{\"type\":\"histogram2dcontour\",\"colorbar\":{\"outlinewidth\":0,\"ticks\":\"\"},\"colorscale\":[[0.0,\"#0d0887\"],[0.1111111111111111,\"#46039f\"],[0.2222222222222222,\"#7201a8\"],[0.3333333333333333,\"#9c179e\"],[0.4444444444444444,\"#bd3786\"],[0.5555555555555556,\"#d8576b\"],[0.6666666666666666,\"#ed7953\"],[0.7777777777777778,\"#fb9f3a\"],[0.8888888888888888,\"#fdca26\"],[1.0,\"#f0f921\"]]}],\"choropleth\":[{\"type\":\"choropleth\",\"colorbar\":{\"outlinewidth\":0,\"ticks\":\"\"}}],\"histogram2d\":[{\"type\":\"histogram2d\",\"colorbar\":{\"outlinewidth\":0,\"ticks\":\"\"},\"colorscale\":[[0.0,\"#0d0887\"],[0.1111111111111111,\"#46039f\"],[0.2222222222222222,\"#7201a8\"],[0.3333333333333333,\"#9c179e\"],[0.4444444444444444,\"#bd3786\"],[0.5555555555555556,\"#d8576b\"],[0.6666666666666666,\"#ed7953\"],[0.7777777777777778,\"#fb9f3a\"],[0.8888888888888888,\"#fdca26\"],[1.0,\"#f0f921\"]]}],\"heatmap\":[{\"type\":\"heatmap\",\"colorbar\":{\"outlinewidth\":0,\"ticks\":\"\"},\"colorscale\":[[0.0,\"#0d0887\"],[0.1111111111111111,\"#46039f\"],[0.2222222222222222,\"#7201a8\"],[0.3333333333333333,\"#9c179e\"],[0.4444444444444444,\"#bd3786\"],[0.5555555555555556,\"#d8576b\"],[0.6666666666666666,\"#ed7953\"],[0.7777777777777778,\"#fb9f3a\"],[0.8888888888888888,\"#fdca26\"],[1.0,\"#f0f921\"]]}],\"heatmapgl\":[{\"type\":\"heatmapgl\",\"colorbar\":{\"outlinewidth\":0,\"ticks\":\"\"},\"colorscale\":[[0.0,\"#0d0887\"],[0.1111111111111111,\"#46039f\"],[0.2222222222222222,\"#7201a8\"],[0.3333333333333333,\"#9c179e\"],[0.4444444444444444,\"#bd3786\"],[0.5555555555555556,\"#d8576b\"],[0.6666666666666666,\"#ed7953\"],[0.7777777777777778,\"#fb9f3a\"],[0.8888888888888888,\"#fdca26\"],[1.0,\"#f0f921\"]]}],\"contourcarpet\":[{\"type\":\"contourcarpet\",\"colorbar\":{\"outlinewidth\":0,\"ticks\":\"\"}}],\"contour\":[{\"type\":\"contour\",\"colorbar\":{\"outlinewidth\":0,\"ticks\":\"\"},\"colorscale\":[[0.0,\"#0d0887\"],[0.1111111111111111,\"#46039f\"],[0.2222222222222222,\"#7201a8\"],[0.3333333333333333,\"#9c179e\"],[0.4444444444444444,\"#bd3786\"],[0.5555555555555556,\"#d8576b\"],[0.6666666666666666,\"#ed7953\"],[0.7777777777777778,\"#fb9f3a\"],[0.8888888888888888,\"#fdca26\"],[1.0,\"#f0f921\"]]}],\"surface\":[{\"type\":\"surface\",\"colorbar\":{\"outlinewidth\":0,\"ticks\":\"\"},\"colorscale\":[[0.0,\"#0d0887\"],[0.1111111111111111,\"#46039f\"],[0.2222222222222222,\"#7201a8\"],[0.3333333333333333,\"#9c179e\"],[0.4444444444444444,\"#bd3786\"],[0.5555555555555556,\"#d8576b\"],[0.6666666666666666,\"#ed7953\"],[0.7777777777777778,\"#fb9f3a\"],[0.8888888888888888,\"#fdca26\"],[1.0,\"#f0f921\"]]}],\"mesh3d\":[{\"type\":\"mesh3d\",\"colorbar\":{\"outlinewidth\":0,\"ticks\":\"\"}}],\"scatter\":[{\"fillpattern\":{\"fillmode\":\"overlay\",\"size\":10,\"solidity\":0.2},\"type\":\"scatter\"}],\"parcoords\":[{\"type\":\"parcoords\",\"line\":{\"colorbar\":{\"outlinewidth\":0,\"ticks\":\"\"}}}],\"scatterpolargl\":[{\"type\":\"scatterpolargl\",\"marker\":{\"colorbar\":{\"outlinewidth\":0,\"ticks\":\"\"}}}],\"bar\":[{\"error_x\":{\"color\":\"#2a3f5f\"},\"error_y\":{\"color\":\"#2a3f5f\"},\"marker\":{\"line\":{\"color\":\"#E5ECF6\",\"width\":0.5},\"pattern\":{\"fillmode\":\"overlay\",\"size\":10,\"solidity\":0.2}},\"type\":\"bar\"}],\"scattergeo\":[{\"type\":\"scattergeo\",\"marker\":{\"colorbar\":{\"outlinewidth\":0,\"ticks\":\"\"}}}],\"scatterpolar\":[{\"type\":\"scatterpolar\",\"marker\":{\"colorbar\":{\"outlinewidth\":0,\"ticks\":\"\"}}}],\"histogram\":[{\"marker\":{\"pattern\":{\"fillmode\":\"overlay\",\"size\":10,\"solidity\":0.2}},\"type\":\"histogram\"}],\"scattergl\":[{\"type\":\"scattergl\",\"marker\":{\"colorbar\":{\"outlinewidth\":0,\"ticks\":\"\"}}}],\"scatter3d\":[{\"type\":\"scatter3d\",\"line\":{\"colorbar\":{\"outlinewidth\":0,\"ticks\":\"\"}},\"marker\":{\"colorbar\":{\"outlinewidth\":0,\"ticks\":\"\"}}}],\"scattermapbox\":[{\"type\":\"scattermapbox\",\"marker\":{\"colorbar\":{\"outlinewidth\":0,\"ticks\":\"\"}}}],\"scatterternary\":[{\"type\":\"scatterternary\",\"marker\":{\"colorbar\":{\"outlinewidth\":0,\"ticks\":\"\"}}}],\"scattercarpet\":[{\"type\":\"scattercarpet\",\"marker\":{\"colorbar\":{\"outlinewidth\":0,\"ticks\":\"\"}}}],\"carpet\":[{\"aaxis\":{\"endlinecolor\":\"#2a3f5f\",\"gridcolor\":\"white\",\"linecolor\":\"white\",\"minorgridcolor\":\"white\",\"startlinecolor\":\"#2a3f5f\"},\"baxis\":{\"endlinecolor\":\"#2a3f5f\",\"gridcolor\":\"white\",\"linecolor\":\"white\",\"minorgridcolor\":\"white\",\"startlinecolor\":\"#2a3f5f\"},\"type\":\"carpet\"}],\"table\":[{\"cells\":{\"fill\":{\"color\":\"#EBF0F8\"},\"line\":{\"color\":\"white\"}},\"header\":{\"fill\":{\"color\":\"#C8D4E3\"},\"line\":{\"color\":\"white\"}},\"type\":\"table\"}],\"barpolar\":[{\"marker\":{\"line\":{\"color\":\"#E5ECF6\",\"width\":0.5},\"pattern\":{\"fillmode\":\"overlay\",\"size\":10,\"solidity\":0.2}},\"type\":\"barpolar\"}],\"pie\":[{\"automargin\":true,\"type\":\"pie\"}]},\"layout\":{\"autotypenumbers\":\"strict\",\"colorway\":[\"#636efa\",\"#EF553B\",\"#00cc96\",\"#ab63fa\",\"#FFA15A\",\"#19d3f3\",\"#FF6692\",\"#B6E880\",\"#FF97FF\",\"#FECB52\"],\"font\":{\"color\":\"#2a3f5f\"},\"hovermode\":\"closest\",\"hoverlabel\":{\"align\":\"left\"},\"paper_bgcolor\":\"white\",\"plot_bgcolor\":\"#E5ECF6\",\"polar\":{\"bgcolor\":\"#E5ECF6\",\"angularaxis\":{\"gridcolor\":\"white\",\"linecolor\":\"white\",\"ticks\":\"\"},\"radialaxis\":{\"gridcolor\":\"white\",\"linecolor\":\"white\",\"ticks\":\"\"}},\"ternary\":{\"bgcolor\":\"#E5ECF6\",\"aaxis\":{\"gridcolor\":\"white\",\"linecolor\":\"white\",\"ticks\":\"\"},\"baxis\":{\"gridcolor\":\"white\",\"linecolor\":\"white\",\"ticks\":\"\"},\"caxis\":{\"gridcolor\":\"white\",\"linecolor\":\"white\",\"ticks\":\"\"}},\"coloraxis\":{\"colorbar\":{\"outlinewidth\":0,\"ticks\":\"\"}},\"colorscale\":{\"sequential\":[[0.0,\"#0d0887\"],[0.1111111111111111,\"#46039f\"],[0.2222222222222222,\"#7201a8\"],[0.3333333333333333,\"#9c179e\"],[0.4444444444444444,\"#bd3786\"],[0.5555555555555556,\"#d8576b\"],[0.6666666666666666,\"#ed7953\"],[0.7777777777777778,\"#fb9f3a\"],[0.8888888888888888,\"#fdca26\"],[1.0,\"#f0f921\"]],\"sequentialminus\":[[0.0,\"#0d0887\"],[0.1111111111111111,\"#46039f\"],[0.2222222222222222,\"#7201a8\"],[0.3333333333333333,\"#9c179e\"],[0.4444444444444444,\"#bd3786\"],[0.5555555555555556,\"#d8576b\"],[0.6666666666666666,\"#ed7953\"],[0.7777777777777778,\"#fb9f3a\"],[0.8888888888888888,\"#fdca26\"],[1.0,\"#f0f921\"]],\"diverging\":[[0,\"#8e0152\"],[0.1,\"#c51b7d\"],[0.2,\"#de77ae\"],[0.3,\"#f1b6da\"],[0.4,\"#fde0ef\"],[0.5,\"#f7f7f7\"],[0.6,\"#e6f5d0\"],[0.7,\"#b8e186\"],[0.8,\"#7fbc41\"],[0.9,\"#4d9221\"],[1,\"#276419\"]]},\"xaxis\":{\"gridcolor\":\"white\",\"linecolor\":\"white\",\"ticks\":\"\",\"title\":{\"standoff\":15},\"zerolinecolor\":\"white\",\"automargin\":true,\"zerolinewidth\":2},\"yaxis\":{\"gridcolor\":\"white\",\"linecolor\":\"white\",\"ticks\":\"\",\"title\":{\"standoff\":15},\"zerolinecolor\":\"white\",\"automargin\":true,\"zerolinewidth\":2},\"scene\":{\"xaxis\":{\"backgroundcolor\":\"#E5ECF6\",\"gridcolor\":\"white\",\"linecolor\":\"white\",\"showbackground\":true,\"ticks\":\"\",\"zerolinecolor\":\"white\",\"gridwidth\":2},\"yaxis\":{\"backgroundcolor\":\"#E5ECF6\",\"gridcolor\":\"white\",\"linecolor\":\"white\",\"showbackground\":true,\"ticks\":\"\",\"zerolinecolor\":\"white\",\"gridwidth\":2},\"zaxis\":{\"backgroundcolor\":\"#E5ECF6\",\"gridcolor\":\"white\",\"linecolor\":\"white\",\"showbackground\":true,\"ticks\":\"\",\"zerolinecolor\":\"white\",\"gridwidth\":2}},\"shapedefaults\":{\"line\":{\"color\":\"#2a3f5f\"}},\"annotationdefaults\":{\"arrowcolor\":\"#2a3f5f\",\"arrowhead\":0,\"arrowwidth\":1},\"geo\":{\"bgcolor\":\"white\",\"landcolor\":\"#E5ECF6\",\"subunitcolor\":\"white\",\"showland\":true,\"showlakes\":true,\"lakecolor\":\"white\"},\"title\":{\"x\":0.05},\"mapbox\":{\"style\":\"light\"}}},\"legend\":{\"tracegroupgap\":0},\"margin\":{\"t\":60}},                        {\"responsive\": true}                    ).then(function(){\n",
       "                            \n",
       "var gd = document.getElementById('79c38350-a48c-4a6f-81d5-9a5918139eed');\n",
       "var x = new MutationObserver(function (mutations, observer) {{\n",
       "        var display = window.getComputedStyle(gd).display;\n",
       "        if (!display || display === 'none') {{\n",
       "            console.log([gd, 'removed!']);\n",
       "            Plotly.purge(gd);\n",
       "            observer.disconnect();\n",
       "        }}\n",
       "}});\n",
       "\n",
       "// Listen for the removal of the full notebook cells\n",
       "var notebookContainer = gd.closest('#notebook-container');\n",
       "if (notebookContainer) {{\n",
       "    x.observe(notebookContainer, {childList: true});\n",
       "}}\n",
       "\n",
       "// Listen for the clearing of the current output cell\n",
       "var outputEl = gd.closest('.output');\n",
       "if (outputEl) {{\n",
       "    x.observe(outputEl, {childList: true});\n",
       "}}\n",
       "\n",
       "                        })                };                });            </script>        </div>"
      ]
     },
     "metadata": {},
     "output_type": "display_data"
    }
   ],
   "source": [
    "# 8) Rewards and Recognition\n",
    "\n",
    "fig=px.sunburst(df_development, path=['PerformanceRating','EmpJobRole','EmpLastSalaryHikePercent'])\n",
    "fig.show()\n",
    "\n",
    "# 6 Developers showing underlying performance got between 11-17% salary hike\n",
    "# 4 Senior Developers showing underlying performance got between 11-14% salary hike\n",
    "# 1 Techincal Leads showing underlying performance got between 12% salary hike"
   ]
  },
  {
   "cell_type": "code",
   "execution_count": 173,
   "id": "4dcc1184",
   "metadata": {},
   "outputs": [
    {
     "data": {
      "application/vnd.plotly.v1+json": {
       "config": {
        "plotlyServerURL": "https://plot.ly"
       },
       "data": [
        {
         "branchvalues": "total",
         "domain": {
          "x": [
           0,
           1
          ],
          "y": [
           0,
           1
          ]
         },
         "hovertemplate": "labels=%{label}<br>count=%{value}<br>parent=%{parent}<br>id=%{id}<extra></extra>",
         "ids": [
          "3/Business Analyst/0",
          "4/Business Analyst/0",
          "3/Delivery Manager/0",
          "3/Developer/0",
          "4/Developer/0",
          "3/Senior Developer/0",
          "4/Senior Developer/0",
          "3/Technical Architect/0",
          "3/Technical Lead/0",
          "4/Technical Lead/0",
          "3/Business Analyst/1",
          "3/Delivery Manager/1",
          "2/Developer/1",
          "3/Developer/1",
          "4/Developer/1",
          "2/Senior Developer/1",
          "3/Senior Developer/1",
          "4/Senior Developer/1",
          "3/Technical Architect/1",
          "3/Technical Lead/1",
          "3/Business Analyst/2",
          "2/Developer/2",
          "3/Developer/2",
          "4/Developer/2",
          "3/Senior Developer/2",
          "3/Technical Architect/2",
          "2/Technical Lead/2",
          "3/Technical Lead/2",
          "2/Developer/3",
          "3/Developer/3",
          "4/Developer/3",
          "3/Senior Developer/3",
          "3/Technical Lead/3",
          "3/Delivery Manager/4",
          "2/Developer/4",
          "3/Developer/4",
          "3/Senior Developer/4",
          "3/Technical Lead/4",
          "3/Business Analyst/5",
          "3/Developer/5",
          "4/Developer/5",
          "3/Senior Developer/5",
          "3/Technical Lead/5",
          "3/Delivery Manager/6",
          "3/Developer/6",
          "3/Technical Lead/6",
          "3/Developer/7",
          "3/Senior Developer/7",
          "3/Technical Lead/7",
          "2/Developer/8",
          "3/Developer/8",
          "2/Senior Developer/8",
          "3/Senior Developer/8",
          "3/Developer/9",
          "3/Technical Lead/9",
          "3/Developer/10",
          "3/Senior Developer/10",
          "3/Developer/11",
          "4/Developer/11",
          "3/Senior Developer/11",
          "3/Technical Lead/11",
          "3/Business Analyst/12",
          "3/Delivery Manager/12",
          "3/Developer/13",
          "3/Developer/14",
          "3/Developer/15",
          "3/Senior Developer/15",
          "3/Business Analyst",
          "4/Business Analyst",
          "3/Delivery Manager",
          "2/Developer",
          "3/Developer",
          "4/Developer",
          "2/Senior Developer",
          "3/Senior Developer",
          "4/Senior Developer",
          "3/Technical Architect",
          "2/Technical Lead",
          "3/Technical Lead",
          "4/Technical Lead",
          "2",
          "3",
          "4"
         ],
         "labels": [
          "0",
          "0",
          "0",
          "0",
          "0",
          "0",
          "0",
          "0",
          "0",
          "0",
          "1",
          "1",
          "1",
          "1",
          "1",
          "1",
          "1",
          "1",
          "1",
          "1",
          "2",
          "2",
          "2",
          "2",
          "2",
          "2",
          "2",
          "2",
          "3",
          "3",
          "3",
          "3",
          "3",
          "4",
          "4",
          "4",
          "4",
          "4",
          "5",
          "5",
          "5",
          "5",
          "5",
          "6",
          "6",
          "6",
          "7",
          "7",
          "7",
          "8",
          "8",
          "8",
          "8",
          "9",
          "9",
          "10",
          "10",
          "11",
          "11",
          "11",
          "11",
          "12",
          "12",
          "13",
          "14",
          "15",
          "15",
          "Business Analyst",
          "Business Analyst",
          "Delivery Manager",
          "Developer",
          "Developer",
          "Developer",
          "Senior Developer",
          "Senior Developer",
          "Senior Developer",
          "Technical Architect",
          "Technical Lead",
          "Technical Lead",
          "Technical Lead",
          "2",
          "3",
          "4"
         ],
         "name": "",
         "parents": [
          "3/Business Analyst",
          "4/Business Analyst",
          "3/Delivery Manager",
          "3/Developer",
          "4/Developer",
          "3/Senior Developer",
          "4/Senior Developer",
          "3/Technical Architect",
          "3/Technical Lead",
          "4/Technical Lead",
          "3/Business Analyst",
          "3/Delivery Manager",
          "2/Developer",
          "3/Developer",
          "4/Developer",
          "2/Senior Developer",
          "3/Senior Developer",
          "4/Senior Developer",
          "3/Technical Architect",
          "3/Technical Lead",
          "3/Business Analyst",
          "2/Developer",
          "3/Developer",
          "4/Developer",
          "3/Senior Developer",
          "3/Technical Architect",
          "2/Technical Lead",
          "3/Technical Lead",
          "2/Developer",
          "3/Developer",
          "4/Developer",
          "3/Senior Developer",
          "3/Technical Lead",
          "3/Delivery Manager",
          "2/Developer",
          "3/Developer",
          "3/Senior Developer",
          "3/Technical Lead",
          "3/Business Analyst",
          "3/Developer",
          "4/Developer",
          "3/Senior Developer",
          "3/Technical Lead",
          "3/Delivery Manager",
          "3/Developer",
          "3/Technical Lead",
          "3/Developer",
          "3/Senior Developer",
          "3/Technical Lead",
          "2/Developer",
          "3/Developer",
          "2/Senior Developer",
          "3/Senior Developer",
          "3/Developer",
          "3/Technical Lead",
          "3/Developer",
          "3/Senior Developer",
          "3/Developer",
          "4/Developer",
          "3/Senior Developer",
          "3/Technical Lead",
          "3/Business Analyst",
          "3/Delivery Manager",
          "3/Developer",
          "3/Developer",
          "3/Developer",
          "3/Senior Developer",
          "3",
          "4",
          "3",
          "2",
          "3",
          "4",
          "2",
          "3",
          "4",
          "3",
          "2",
          "3",
          "4",
          "",
          "",
          ""
         ],
         "type": "sunburst",
         "values": [
          6,
          2,
          5,
          64,
          8,
          15,
          4,
          2,
          11,
          4,
          3,
          4,
          2,
          39,
          9,
          3,
          3,
          2,
          2,
          8,
          2,
          1,
          21,
          2,
          4,
          1,
          1,
          4,
          1,
          8,
          3,
          3,
          2,
          1,
          1,
          8,
          2,
          2,
          1,
          3,
          1,
          2,
          1,
          1,
          2,
          1,
          5,
          2,
          1,
          1,
          2,
          1,
          1,
          4,
          1,
          1,
          1,
          4,
          2,
          1,
          1,
          1,
          1,
          2,
          1,
          1,
          1,
          13,
          2,
          12,
          6,
          165,
          25,
          4,
          35,
          6,
          5,
          1,
          32,
          4,
          11,
          262,
          37
         ]
        }
       ],
       "layout": {
        "legend": {
         "tracegroupgap": 0
        },
        "margin": {
         "t": 60
        },
        "template": {
         "data": {
          "bar": [
           {
            "error_x": {
             "color": "#2a3f5f"
            },
            "error_y": {
             "color": "#2a3f5f"
            },
            "marker": {
             "line": {
              "color": "#E5ECF6",
              "width": 0.5
             },
             "pattern": {
              "fillmode": "overlay",
              "size": 10,
              "solidity": 0.2
             }
            },
            "type": "bar"
           }
          ],
          "barpolar": [
           {
            "marker": {
             "line": {
              "color": "#E5ECF6",
              "width": 0.5
             },
             "pattern": {
              "fillmode": "overlay",
              "size": 10,
              "solidity": 0.2
             }
            },
            "type": "barpolar"
           }
          ],
          "carpet": [
           {
            "aaxis": {
             "endlinecolor": "#2a3f5f",
             "gridcolor": "white",
             "linecolor": "white",
             "minorgridcolor": "white",
             "startlinecolor": "#2a3f5f"
            },
            "baxis": {
             "endlinecolor": "#2a3f5f",
             "gridcolor": "white",
             "linecolor": "white",
             "minorgridcolor": "white",
             "startlinecolor": "#2a3f5f"
            },
            "type": "carpet"
           }
          ],
          "choropleth": [
           {
            "colorbar": {
             "outlinewidth": 0,
             "ticks": ""
            },
            "type": "choropleth"
           }
          ],
          "contour": [
           {
            "colorbar": {
             "outlinewidth": 0,
             "ticks": ""
            },
            "colorscale": [
             [
              0,
              "#0d0887"
             ],
             [
              0.1111111111111111,
              "#46039f"
             ],
             [
              0.2222222222222222,
              "#7201a8"
             ],
             [
              0.3333333333333333,
              "#9c179e"
             ],
             [
              0.4444444444444444,
              "#bd3786"
             ],
             [
              0.5555555555555556,
              "#d8576b"
             ],
             [
              0.6666666666666666,
              "#ed7953"
             ],
             [
              0.7777777777777778,
              "#fb9f3a"
             ],
             [
              0.8888888888888888,
              "#fdca26"
             ],
             [
              1,
              "#f0f921"
             ]
            ],
            "type": "contour"
           }
          ],
          "contourcarpet": [
           {
            "colorbar": {
             "outlinewidth": 0,
             "ticks": ""
            },
            "type": "contourcarpet"
           }
          ],
          "heatmap": [
           {
            "colorbar": {
             "outlinewidth": 0,
             "ticks": ""
            },
            "colorscale": [
             [
              0,
              "#0d0887"
             ],
             [
              0.1111111111111111,
              "#46039f"
             ],
             [
              0.2222222222222222,
              "#7201a8"
             ],
             [
              0.3333333333333333,
              "#9c179e"
             ],
             [
              0.4444444444444444,
              "#bd3786"
             ],
             [
              0.5555555555555556,
              "#d8576b"
             ],
             [
              0.6666666666666666,
              "#ed7953"
             ],
             [
              0.7777777777777778,
              "#fb9f3a"
             ],
             [
              0.8888888888888888,
              "#fdca26"
             ],
             [
              1,
              "#f0f921"
             ]
            ],
            "type": "heatmap"
           }
          ],
          "heatmapgl": [
           {
            "colorbar": {
             "outlinewidth": 0,
             "ticks": ""
            },
            "colorscale": [
             [
              0,
              "#0d0887"
             ],
             [
              0.1111111111111111,
              "#46039f"
             ],
             [
              0.2222222222222222,
              "#7201a8"
             ],
             [
              0.3333333333333333,
              "#9c179e"
             ],
             [
              0.4444444444444444,
              "#bd3786"
             ],
             [
              0.5555555555555556,
              "#d8576b"
             ],
             [
              0.6666666666666666,
              "#ed7953"
             ],
             [
              0.7777777777777778,
              "#fb9f3a"
             ],
             [
              0.8888888888888888,
              "#fdca26"
             ],
             [
              1,
              "#f0f921"
             ]
            ],
            "type": "heatmapgl"
           }
          ],
          "histogram": [
           {
            "marker": {
             "pattern": {
              "fillmode": "overlay",
              "size": 10,
              "solidity": 0.2
             }
            },
            "type": "histogram"
           }
          ],
          "histogram2d": [
           {
            "colorbar": {
             "outlinewidth": 0,
             "ticks": ""
            },
            "colorscale": [
             [
              0,
              "#0d0887"
             ],
             [
              0.1111111111111111,
              "#46039f"
             ],
             [
              0.2222222222222222,
              "#7201a8"
             ],
             [
              0.3333333333333333,
              "#9c179e"
             ],
             [
              0.4444444444444444,
              "#bd3786"
             ],
             [
              0.5555555555555556,
              "#d8576b"
             ],
             [
              0.6666666666666666,
              "#ed7953"
             ],
             [
              0.7777777777777778,
              "#fb9f3a"
             ],
             [
              0.8888888888888888,
              "#fdca26"
             ],
             [
              1,
              "#f0f921"
             ]
            ],
            "type": "histogram2d"
           }
          ],
          "histogram2dcontour": [
           {
            "colorbar": {
             "outlinewidth": 0,
             "ticks": ""
            },
            "colorscale": [
             [
              0,
              "#0d0887"
             ],
             [
              0.1111111111111111,
              "#46039f"
             ],
             [
              0.2222222222222222,
              "#7201a8"
             ],
             [
              0.3333333333333333,
              "#9c179e"
             ],
             [
              0.4444444444444444,
              "#bd3786"
             ],
             [
              0.5555555555555556,
              "#d8576b"
             ],
             [
              0.6666666666666666,
              "#ed7953"
             ],
             [
              0.7777777777777778,
              "#fb9f3a"
             ],
             [
              0.8888888888888888,
              "#fdca26"
             ],
             [
              1,
              "#f0f921"
             ]
            ],
            "type": "histogram2dcontour"
           }
          ],
          "mesh3d": [
           {
            "colorbar": {
             "outlinewidth": 0,
             "ticks": ""
            },
            "type": "mesh3d"
           }
          ],
          "parcoords": [
           {
            "line": {
             "colorbar": {
              "outlinewidth": 0,
              "ticks": ""
             }
            },
            "type": "parcoords"
           }
          ],
          "pie": [
           {
            "automargin": true,
            "type": "pie"
           }
          ],
          "scatter": [
           {
            "fillpattern": {
             "fillmode": "overlay",
             "size": 10,
             "solidity": 0.2
            },
            "type": "scatter"
           }
          ],
          "scatter3d": [
           {
            "line": {
             "colorbar": {
              "outlinewidth": 0,
              "ticks": ""
             }
            },
            "marker": {
             "colorbar": {
              "outlinewidth": 0,
              "ticks": ""
             }
            },
            "type": "scatter3d"
           }
          ],
          "scattercarpet": [
           {
            "marker": {
             "colorbar": {
              "outlinewidth": 0,
              "ticks": ""
             }
            },
            "type": "scattercarpet"
           }
          ],
          "scattergeo": [
           {
            "marker": {
             "colorbar": {
              "outlinewidth": 0,
              "ticks": ""
             }
            },
            "type": "scattergeo"
           }
          ],
          "scattergl": [
           {
            "marker": {
             "colorbar": {
              "outlinewidth": 0,
              "ticks": ""
             }
            },
            "type": "scattergl"
           }
          ],
          "scattermapbox": [
           {
            "marker": {
             "colorbar": {
              "outlinewidth": 0,
              "ticks": ""
             }
            },
            "type": "scattermapbox"
           }
          ],
          "scatterpolar": [
           {
            "marker": {
             "colorbar": {
              "outlinewidth": 0,
              "ticks": ""
             }
            },
            "type": "scatterpolar"
           }
          ],
          "scatterpolargl": [
           {
            "marker": {
             "colorbar": {
              "outlinewidth": 0,
              "ticks": ""
             }
            },
            "type": "scatterpolargl"
           }
          ],
          "scatterternary": [
           {
            "marker": {
             "colorbar": {
              "outlinewidth": 0,
              "ticks": ""
             }
            },
            "type": "scatterternary"
           }
          ],
          "surface": [
           {
            "colorbar": {
             "outlinewidth": 0,
             "ticks": ""
            },
            "colorscale": [
             [
              0,
              "#0d0887"
             ],
             [
              0.1111111111111111,
              "#46039f"
             ],
             [
              0.2222222222222222,
              "#7201a8"
             ],
             [
              0.3333333333333333,
              "#9c179e"
             ],
             [
              0.4444444444444444,
              "#bd3786"
             ],
             [
              0.5555555555555556,
              "#d8576b"
             ],
             [
              0.6666666666666666,
              "#ed7953"
             ],
             [
              0.7777777777777778,
              "#fb9f3a"
             ],
             [
              0.8888888888888888,
              "#fdca26"
             ],
             [
              1,
              "#f0f921"
             ]
            ],
            "type": "surface"
           }
          ],
          "table": [
           {
            "cells": {
             "fill": {
              "color": "#EBF0F8"
             },
             "line": {
              "color": "white"
             }
            },
            "header": {
             "fill": {
              "color": "#C8D4E3"
             },
             "line": {
              "color": "white"
             }
            },
            "type": "table"
           }
          ]
         },
         "layout": {
          "annotationdefaults": {
           "arrowcolor": "#2a3f5f",
           "arrowhead": 0,
           "arrowwidth": 1
          },
          "autotypenumbers": "strict",
          "coloraxis": {
           "colorbar": {
            "outlinewidth": 0,
            "ticks": ""
           }
          },
          "colorscale": {
           "diverging": [
            [
             0,
             "#8e0152"
            ],
            [
             0.1,
             "#c51b7d"
            ],
            [
             0.2,
             "#de77ae"
            ],
            [
             0.3,
             "#f1b6da"
            ],
            [
             0.4,
             "#fde0ef"
            ],
            [
             0.5,
             "#f7f7f7"
            ],
            [
             0.6,
             "#e6f5d0"
            ],
            [
             0.7,
             "#b8e186"
            ],
            [
             0.8,
             "#7fbc41"
            ],
            [
             0.9,
             "#4d9221"
            ],
            [
             1,
             "#276419"
            ]
           ],
           "sequential": [
            [
             0,
             "#0d0887"
            ],
            [
             0.1111111111111111,
             "#46039f"
            ],
            [
             0.2222222222222222,
             "#7201a8"
            ],
            [
             0.3333333333333333,
             "#9c179e"
            ],
            [
             0.4444444444444444,
             "#bd3786"
            ],
            [
             0.5555555555555556,
             "#d8576b"
            ],
            [
             0.6666666666666666,
             "#ed7953"
            ],
            [
             0.7777777777777778,
             "#fb9f3a"
            ],
            [
             0.8888888888888888,
             "#fdca26"
            ],
            [
             1,
             "#f0f921"
            ]
           ],
           "sequentialminus": [
            [
             0,
             "#0d0887"
            ],
            [
             0.1111111111111111,
             "#46039f"
            ],
            [
             0.2222222222222222,
             "#7201a8"
            ],
            [
             0.3333333333333333,
             "#9c179e"
            ],
            [
             0.4444444444444444,
             "#bd3786"
            ],
            [
             0.5555555555555556,
             "#d8576b"
            ],
            [
             0.6666666666666666,
             "#ed7953"
            ],
            [
             0.7777777777777778,
             "#fb9f3a"
            ],
            [
             0.8888888888888888,
             "#fdca26"
            ],
            [
             1,
             "#f0f921"
            ]
           ]
          },
          "colorway": [
           "#636efa",
           "#EF553B",
           "#00cc96",
           "#ab63fa",
           "#FFA15A",
           "#19d3f3",
           "#FF6692",
           "#B6E880",
           "#FF97FF",
           "#FECB52"
          ],
          "font": {
           "color": "#2a3f5f"
          },
          "geo": {
           "bgcolor": "white",
           "lakecolor": "white",
           "landcolor": "#E5ECF6",
           "showlakes": true,
           "showland": true,
           "subunitcolor": "white"
          },
          "hoverlabel": {
           "align": "left"
          },
          "hovermode": "closest",
          "mapbox": {
           "style": "light"
          },
          "paper_bgcolor": "white",
          "plot_bgcolor": "#E5ECF6",
          "polar": {
           "angularaxis": {
            "gridcolor": "white",
            "linecolor": "white",
            "ticks": ""
           },
           "bgcolor": "#E5ECF6",
           "radialaxis": {
            "gridcolor": "white",
            "linecolor": "white",
            "ticks": ""
           }
          },
          "scene": {
           "xaxis": {
            "backgroundcolor": "#E5ECF6",
            "gridcolor": "white",
            "gridwidth": 2,
            "linecolor": "white",
            "showbackground": true,
            "ticks": "",
            "zerolinecolor": "white"
           },
           "yaxis": {
            "backgroundcolor": "#E5ECF6",
            "gridcolor": "white",
            "gridwidth": 2,
            "linecolor": "white",
            "showbackground": true,
            "ticks": "",
            "zerolinecolor": "white"
           },
           "zaxis": {
            "backgroundcolor": "#E5ECF6",
            "gridcolor": "white",
            "gridwidth": 2,
            "linecolor": "white",
            "showbackground": true,
            "ticks": "",
            "zerolinecolor": "white"
           }
          },
          "shapedefaults": {
           "line": {
            "color": "#2a3f5f"
           }
          },
          "ternary": {
           "aaxis": {
            "gridcolor": "white",
            "linecolor": "white",
            "ticks": ""
           },
           "baxis": {
            "gridcolor": "white",
            "linecolor": "white",
            "ticks": ""
           },
           "bgcolor": "#E5ECF6",
           "caxis": {
            "gridcolor": "white",
            "linecolor": "white",
            "ticks": ""
           }
          },
          "title": {
           "x": 0.05
          },
          "xaxis": {
           "automargin": true,
           "gridcolor": "white",
           "linecolor": "white",
           "ticks": "",
           "title": {
            "standoff": 15
           },
           "zerolinecolor": "white",
           "zerolinewidth": 2
          },
          "yaxis": {
           "automargin": true,
           "gridcolor": "white",
           "linecolor": "white",
           "ticks": "",
           "title": {
            "standoff": 15
           },
           "zerolinecolor": "white",
           "zerolinewidth": 2
          }
         }
        }
       }
      },
      "text/html": [
       "<div>                            <div id=\"9e3fbfab-83a8-4521-b5da-de03714d1b6e\" class=\"plotly-graph-div\" style=\"height:525px; width:100%;\"></div>            <script type=\"text/javascript\">                require([\"plotly\"], function(Plotly) {                    window.PLOTLYENV=window.PLOTLYENV || {};                                    if (document.getElementById(\"9e3fbfab-83a8-4521-b5da-de03714d1b6e\")) {                    Plotly.newPlot(                        \"9e3fbfab-83a8-4521-b5da-de03714d1b6e\",                        [{\"branchvalues\":\"total\",\"domain\":{\"x\":[0.0,1.0],\"y\":[0.0,1.0]},\"hovertemplate\":\"labels=%{label}<br>count=%{value}<br>parent=%{parent}<br>id=%{id}<extra></extra>\",\"ids\":[\"3/Business Analyst/0\",\"4/Business Analyst/0\",\"3/Delivery Manager/0\",\"3/Developer/0\",\"4/Developer/0\",\"3/Senior Developer/0\",\"4/Senior Developer/0\",\"3/Technical Architect/0\",\"3/Technical Lead/0\",\"4/Technical Lead/0\",\"3/Business Analyst/1\",\"3/Delivery Manager/1\",\"2/Developer/1\",\"3/Developer/1\",\"4/Developer/1\",\"2/Senior Developer/1\",\"3/Senior Developer/1\",\"4/Senior Developer/1\",\"3/Technical Architect/1\",\"3/Technical Lead/1\",\"3/Business Analyst/2\",\"2/Developer/2\",\"3/Developer/2\",\"4/Developer/2\",\"3/Senior Developer/2\",\"3/Technical Architect/2\",\"2/Technical Lead/2\",\"3/Technical Lead/2\",\"2/Developer/3\",\"3/Developer/3\",\"4/Developer/3\",\"3/Senior Developer/3\",\"3/Technical Lead/3\",\"3/Delivery Manager/4\",\"2/Developer/4\",\"3/Developer/4\",\"3/Senior Developer/4\",\"3/Technical Lead/4\",\"3/Business Analyst/5\",\"3/Developer/5\",\"4/Developer/5\",\"3/Senior Developer/5\",\"3/Technical Lead/5\",\"3/Delivery Manager/6\",\"3/Developer/6\",\"3/Technical Lead/6\",\"3/Developer/7\",\"3/Senior Developer/7\",\"3/Technical Lead/7\",\"2/Developer/8\",\"3/Developer/8\",\"2/Senior Developer/8\",\"3/Senior Developer/8\",\"3/Developer/9\",\"3/Technical Lead/9\",\"3/Developer/10\",\"3/Senior Developer/10\",\"3/Developer/11\",\"4/Developer/11\",\"3/Senior Developer/11\",\"3/Technical Lead/11\",\"3/Business Analyst/12\",\"3/Delivery Manager/12\",\"3/Developer/13\",\"3/Developer/14\",\"3/Developer/15\",\"3/Senior Developer/15\",\"3/Business Analyst\",\"4/Business Analyst\",\"3/Delivery Manager\",\"2/Developer\",\"3/Developer\",\"4/Developer\",\"2/Senior Developer\",\"3/Senior Developer\",\"4/Senior Developer\",\"3/Technical Architect\",\"2/Technical Lead\",\"3/Technical Lead\",\"4/Technical Lead\",\"2\",\"3\",\"4\"],\"labels\":[\"0\",\"0\",\"0\",\"0\",\"0\",\"0\",\"0\",\"0\",\"0\",\"0\",\"1\",\"1\",\"1\",\"1\",\"1\",\"1\",\"1\",\"1\",\"1\",\"1\",\"2\",\"2\",\"2\",\"2\",\"2\",\"2\",\"2\",\"2\",\"3\",\"3\",\"3\",\"3\",\"3\",\"4\",\"4\",\"4\",\"4\",\"4\",\"5\",\"5\",\"5\",\"5\",\"5\",\"6\",\"6\",\"6\",\"7\",\"7\",\"7\",\"8\",\"8\",\"8\",\"8\",\"9\",\"9\",\"10\",\"10\",\"11\",\"11\",\"11\",\"11\",\"12\",\"12\",\"13\",\"14\",\"15\",\"15\",\"Business Analyst\",\"Business Analyst\",\"Delivery Manager\",\"Developer\",\"Developer\",\"Developer\",\"Senior Developer\",\"Senior Developer\",\"Senior Developer\",\"Technical Architect\",\"Technical Lead\",\"Technical Lead\",\"Technical Lead\",\"2\",\"3\",\"4\"],\"name\":\"\",\"parents\":[\"3/Business Analyst\",\"4/Business Analyst\",\"3/Delivery Manager\",\"3/Developer\",\"4/Developer\",\"3/Senior Developer\",\"4/Senior Developer\",\"3/Technical Architect\",\"3/Technical Lead\",\"4/Technical Lead\",\"3/Business Analyst\",\"3/Delivery Manager\",\"2/Developer\",\"3/Developer\",\"4/Developer\",\"2/Senior Developer\",\"3/Senior Developer\",\"4/Senior Developer\",\"3/Technical Architect\",\"3/Technical Lead\",\"3/Business Analyst\",\"2/Developer\",\"3/Developer\",\"4/Developer\",\"3/Senior Developer\",\"3/Technical Architect\",\"2/Technical Lead\",\"3/Technical Lead\",\"2/Developer\",\"3/Developer\",\"4/Developer\",\"3/Senior Developer\",\"3/Technical Lead\",\"3/Delivery Manager\",\"2/Developer\",\"3/Developer\",\"3/Senior Developer\",\"3/Technical Lead\",\"3/Business Analyst\",\"3/Developer\",\"4/Developer\",\"3/Senior Developer\",\"3/Technical Lead\",\"3/Delivery Manager\",\"3/Developer\",\"3/Technical Lead\",\"3/Developer\",\"3/Senior Developer\",\"3/Technical Lead\",\"2/Developer\",\"3/Developer\",\"2/Senior Developer\",\"3/Senior Developer\",\"3/Developer\",\"3/Technical Lead\",\"3/Developer\",\"3/Senior Developer\",\"3/Developer\",\"4/Developer\",\"3/Senior Developer\",\"3/Technical Lead\",\"3/Business Analyst\",\"3/Delivery Manager\",\"3/Developer\",\"3/Developer\",\"3/Developer\",\"3/Senior Developer\",\"3\",\"4\",\"3\",\"2\",\"3\",\"4\",\"2\",\"3\",\"4\",\"3\",\"2\",\"3\",\"4\",\"\",\"\",\"\"],\"values\":[6,2,5,64,8,15,4,2,11,4,3,4,2,39,9,3,3,2,2,8,2,1,21,2,4,1,1,4,1,8,3,3,2,1,1,8,2,2,1,3,1,2,1,1,2,1,5,2,1,1,2,1,1,4,1,1,1,4,2,1,1,1,1,2,1,1,1,13,2,12,6,165,25,4,35,6,5,1,32,4,11,262,37],\"type\":\"sunburst\"}],                        {\"template\":{\"data\":{\"histogram2dcontour\":[{\"type\":\"histogram2dcontour\",\"colorbar\":{\"outlinewidth\":0,\"ticks\":\"\"},\"colorscale\":[[0.0,\"#0d0887\"],[0.1111111111111111,\"#46039f\"],[0.2222222222222222,\"#7201a8\"],[0.3333333333333333,\"#9c179e\"],[0.4444444444444444,\"#bd3786\"],[0.5555555555555556,\"#d8576b\"],[0.6666666666666666,\"#ed7953\"],[0.7777777777777778,\"#fb9f3a\"],[0.8888888888888888,\"#fdca26\"],[1.0,\"#f0f921\"]]}],\"choropleth\":[{\"type\":\"choropleth\",\"colorbar\":{\"outlinewidth\":0,\"ticks\":\"\"}}],\"histogram2d\":[{\"type\":\"histogram2d\",\"colorbar\":{\"outlinewidth\":0,\"ticks\":\"\"},\"colorscale\":[[0.0,\"#0d0887\"],[0.1111111111111111,\"#46039f\"],[0.2222222222222222,\"#7201a8\"],[0.3333333333333333,\"#9c179e\"],[0.4444444444444444,\"#bd3786\"],[0.5555555555555556,\"#d8576b\"],[0.6666666666666666,\"#ed7953\"],[0.7777777777777778,\"#fb9f3a\"],[0.8888888888888888,\"#fdca26\"],[1.0,\"#f0f921\"]]}],\"heatmap\":[{\"type\":\"heatmap\",\"colorbar\":{\"outlinewidth\":0,\"ticks\":\"\"},\"colorscale\":[[0.0,\"#0d0887\"],[0.1111111111111111,\"#46039f\"],[0.2222222222222222,\"#7201a8\"],[0.3333333333333333,\"#9c179e\"],[0.4444444444444444,\"#bd3786\"],[0.5555555555555556,\"#d8576b\"],[0.6666666666666666,\"#ed7953\"],[0.7777777777777778,\"#fb9f3a\"],[0.8888888888888888,\"#fdca26\"],[1.0,\"#f0f921\"]]}],\"heatmapgl\":[{\"type\":\"heatmapgl\",\"colorbar\":{\"outlinewidth\":0,\"ticks\":\"\"},\"colorscale\":[[0.0,\"#0d0887\"],[0.1111111111111111,\"#46039f\"],[0.2222222222222222,\"#7201a8\"],[0.3333333333333333,\"#9c179e\"],[0.4444444444444444,\"#bd3786\"],[0.5555555555555556,\"#d8576b\"],[0.6666666666666666,\"#ed7953\"],[0.7777777777777778,\"#fb9f3a\"],[0.8888888888888888,\"#fdca26\"],[1.0,\"#f0f921\"]]}],\"contourcarpet\":[{\"type\":\"contourcarpet\",\"colorbar\":{\"outlinewidth\":0,\"ticks\":\"\"}}],\"contour\":[{\"type\":\"contour\",\"colorbar\":{\"outlinewidth\":0,\"ticks\":\"\"},\"colorscale\":[[0.0,\"#0d0887\"],[0.1111111111111111,\"#46039f\"],[0.2222222222222222,\"#7201a8\"],[0.3333333333333333,\"#9c179e\"],[0.4444444444444444,\"#bd3786\"],[0.5555555555555556,\"#d8576b\"],[0.6666666666666666,\"#ed7953\"],[0.7777777777777778,\"#fb9f3a\"],[0.8888888888888888,\"#fdca26\"],[1.0,\"#f0f921\"]]}],\"surface\":[{\"type\":\"surface\",\"colorbar\":{\"outlinewidth\":0,\"ticks\":\"\"},\"colorscale\":[[0.0,\"#0d0887\"],[0.1111111111111111,\"#46039f\"],[0.2222222222222222,\"#7201a8\"],[0.3333333333333333,\"#9c179e\"],[0.4444444444444444,\"#bd3786\"],[0.5555555555555556,\"#d8576b\"],[0.6666666666666666,\"#ed7953\"],[0.7777777777777778,\"#fb9f3a\"],[0.8888888888888888,\"#fdca26\"],[1.0,\"#f0f921\"]]}],\"mesh3d\":[{\"type\":\"mesh3d\",\"colorbar\":{\"outlinewidth\":0,\"ticks\":\"\"}}],\"scatter\":[{\"fillpattern\":{\"fillmode\":\"overlay\",\"size\":10,\"solidity\":0.2},\"type\":\"scatter\"}],\"parcoords\":[{\"type\":\"parcoords\",\"line\":{\"colorbar\":{\"outlinewidth\":0,\"ticks\":\"\"}}}],\"scatterpolargl\":[{\"type\":\"scatterpolargl\",\"marker\":{\"colorbar\":{\"outlinewidth\":0,\"ticks\":\"\"}}}],\"bar\":[{\"error_x\":{\"color\":\"#2a3f5f\"},\"error_y\":{\"color\":\"#2a3f5f\"},\"marker\":{\"line\":{\"color\":\"#E5ECF6\",\"width\":0.5},\"pattern\":{\"fillmode\":\"overlay\",\"size\":10,\"solidity\":0.2}},\"type\":\"bar\"}],\"scattergeo\":[{\"type\":\"scattergeo\",\"marker\":{\"colorbar\":{\"outlinewidth\":0,\"ticks\":\"\"}}}],\"scatterpolar\":[{\"type\":\"scatterpolar\",\"marker\":{\"colorbar\":{\"outlinewidth\":0,\"ticks\":\"\"}}}],\"histogram\":[{\"marker\":{\"pattern\":{\"fillmode\":\"overlay\",\"size\":10,\"solidity\":0.2}},\"type\":\"histogram\"}],\"scattergl\":[{\"type\":\"scattergl\",\"marker\":{\"colorbar\":{\"outlinewidth\":0,\"ticks\":\"\"}}}],\"scatter3d\":[{\"type\":\"scatter3d\",\"line\":{\"colorbar\":{\"outlinewidth\":0,\"ticks\":\"\"}},\"marker\":{\"colorbar\":{\"outlinewidth\":0,\"ticks\":\"\"}}}],\"scattermapbox\":[{\"type\":\"scattermapbox\",\"marker\":{\"colorbar\":{\"outlinewidth\":0,\"ticks\":\"\"}}}],\"scatterternary\":[{\"type\":\"scatterternary\",\"marker\":{\"colorbar\":{\"outlinewidth\":0,\"ticks\":\"\"}}}],\"scattercarpet\":[{\"type\":\"scattercarpet\",\"marker\":{\"colorbar\":{\"outlinewidth\":0,\"ticks\":\"\"}}}],\"carpet\":[{\"aaxis\":{\"endlinecolor\":\"#2a3f5f\",\"gridcolor\":\"white\",\"linecolor\":\"white\",\"minorgridcolor\":\"white\",\"startlinecolor\":\"#2a3f5f\"},\"baxis\":{\"endlinecolor\":\"#2a3f5f\",\"gridcolor\":\"white\",\"linecolor\":\"white\",\"minorgridcolor\":\"white\",\"startlinecolor\":\"#2a3f5f\"},\"type\":\"carpet\"}],\"table\":[{\"cells\":{\"fill\":{\"color\":\"#EBF0F8\"},\"line\":{\"color\":\"white\"}},\"header\":{\"fill\":{\"color\":\"#C8D4E3\"},\"line\":{\"color\":\"white\"}},\"type\":\"table\"}],\"barpolar\":[{\"marker\":{\"line\":{\"color\":\"#E5ECF6\",\"width\":0.5},\"pattern\":{\"fillmode\":\"overlay\",\"size\":10,\"solidity\":0.2}},\"type\":\"barpolar\"}],\"pie\":[{\"automargin\":true,\"type\":\"pie\"}]},\"layout\":{\"autotypenumbers\":\"strict\",\"colorway\":[\"#636efa\",\"#EF553B\",\"#00cc96\",\"#ab63fa\",\"#FFA15A\",\"#19d3f3\",\"#FF6692\",\"#B6E880\",\"#FF97FF\",\"#FECB52\"],\"font\":{\"color\":\"#2a3f5f\"},\"hovermode\":\"closest\",\"hoverlabel\":{\"align\":\"left\"},\"paper_bgcolor\":\"white\",\"plot_bgcolor\":\"#E5ECF6\",\"polar\":{\"bgcolor\":\"#E5ECF6\",\"angularaxis\":{\"gridcolor\":\"white\",\"linecolor\":\"white\",\"ticks\":\"\"},\"radialaxis\":{\"gridcolor\":\"white\",\"linecolor\":\"white\",\"ticks\":\"\"}},\"ternary\":{\"bgcolor\":\"#E5ECF6\",\"aaxis\":{\"gridcolor\":\"white\",\"linecolor\":\"white\",\"ticks\":\"\"},\"baxis\":{\"gridcolor\":\"white\",\"linecolor\":\"white\",\"ticks\":\"\"},\"caxis\":{\"gridcolor\":\"white\",\"linecolor\":\"white\",\"ticks\":\"\"}},\"coloraxis\":{\"colorbar\":{\"outlinewidth\":0,\"ticks\":\"\"}},\"colorscale\":{\"sequential\":[[0.0,\"#0d0887\"],[0.1111111111111111,\"#46039f\"],[0.2222222222222222,\"#7201a8\"],[0.3333333333333333,\"#9c179e\"],[0.4444444444444444,\"#bd3786\"],[0.5555555555555556,\"#d8576b\"],[0.6666666666666666,\"#ed7953\"],[0.7777777777777778,\"#fb9f3a\"],[0.8888888888888888,\"#fdca26\"],[1.0,\"#f0f921\"]],\"sequentialminus\":[[0.0,\"#0d0887\"],[0.1111111111111111,\"#46039f\"],[0.2222222222222222,\"#7201a8\"],[0.3333333333333333,\"#9c179e\"],[0.4444444444444444,\"#bd3786\"],[0.5555555555555556,\"#d8576b\"],[0.6666666666666666,\"#ed7953\"],[0.7777777777777778,\"#fb9f3a\"],[0.8888888888888888,\"#fdca26\"],[1.0,\"#f0f921\"]],\"diverging\":[[0,\"#8e0152\"],[0.1,\"#c51b7d\"],[0.2,\"#de77ae\"],[0.3,\"#f1b6da\"],[0.4,\"#fde0ef\"],[0.5,\"#f7f7f7\"],[0.6,\"#e6f5d0\"],[0.7,\"#b8e186\"],[0.8,\"#7fbc41\"],[0.9,\"#4d9221\"],[1,\"#276419\"]]},\"xaxis\":{\"gridcolor\":\"white\",\"linecolor\":\"white\",\"ticks\":\"\",\"title\":{\"standoff\":15},\"zerolinecolor\":\"white\",\"automargin\":true,\"zerolinewidth\":2},\"yaxis\":{\"gridcolor\":\"white\",\"linecolor\":\"white\",\"ticks\":\"\",\"title\":{\"standoff\":15},\"zerolinecolor\":\"white\",\"automargin\":true,\"zerolinewidth\":2},\"scene\":{\"xaxis\":{\"backgroundcolor\":\"#E5ECF6\",\"gridcolor\":\"white\",\"linecolor\":\"white\",\"showbackground\":true,\"ticks\":\"\",\"zerolinecolor\":\"white\",\"gridwidth\":2},\"yaxis\":{\"backgroundcolor\":\"#E5ECF6\",\"gridcolor\":\"white\",\"linecolor\":\"white\",\"showbackground\":true,\"ticks\":\"\",\"zerolinecolor\":\"white\",\"gridwidth\":2},\"zaxis\":{\"backgroundcolor\":\"#E5ECF6\",\"gridcolor\":\"white\",\"linecolor\":\"white\",\"showbackground\":true,\"ticks\":\"\",\"zerolinecolor\":\"white\",\"gridwidth\":2}},\"shapedefaults\":{\"line\":{\"color\":\"#2a3f5f\"}},\"annotationdefaults\":{\"arrowcolor\":\"#2a3f5f\",\"arrowhead\":0,\"arrowwidth\":1},\"geo\":{\"bgcolor\":\"white\",\"landcolor\":\"#E5ECF6\",\"subunitcolor\":\"white\",\"showland\":true,\"showlakes\":true,\"lakecolor\":\"white\"},\"title\":{\"x\":0.05},\"mapbox\":{\"style\":\"light\"}}},\"legend\":{\"tracegroupgap\":0},\"margin\":{\"t\":60}},                        {\"responsive\": true}                    ).then(function(){\n",
       "                            \n",
       "var gd = document.getElementById('9e3fbfab-83a8-4521-b5da-de03714d1b6e');\n",
       "var x = new MutationObserver(function (mutations, observer) {{\n",
       "        var display = window.getComputedStyle(gd).display;\n",
       "        if (!display || display === 'none') {{\n",
       "            console.log([gd, 'removed!']);\n",
       "            Plotly.purge(gd);\n",
       "            observer.disconnect();\n",
       "        }}\n",
       "}});\n",
       "\n",
       "// Listen for the removal of the full notebook cells\n",
       "var notebookContainer = gd.closest('#notebook-container');\n",
       "if (notebookContainer) {{\n",
       "    x.observe(notebookContainer, {childList: true});\n",
       "}}\n",
       "\n",
       "// Listen for the clearing of the current output cell\n",
       "var outputEl = gd.closest('.output');\n",
       "if (outputEl) {{\n",
       "    x.observe(outputEl, {childList: true});\n",
       "}}\n",
       "\n",
       "                        })                };                });            </script>        </div>"
      ]
     },
     "metadata": {},
     "output_type": "display_data"
    }
   ],
   "source": [
    "fig=px.sunburst(df_development, path=['PerformanceRating','EmpJobRole','YearsSinceLastPromotion'])\n",
    "fig.show()\n",
    "\n",
    "# 6 Developers showing underlying performance lies between 1-8 years.\n",
    "# 4 Senior Developers showing underlying performance lies between 1-8 years.\n",
    "# 1 Techincal Leads showing underlying performance is 2 years"
   ]
  },
  {
   "cell_type": "code",
   "execution_count": 175,
   "id": "113cea85",
   "metadata": {},
   "outputs": [
    {
     "data": {
      "image/png": "[encoded data removed]",
      "text/plain": [
       "<Figure size 720x432 with 1 Axes>"
      ]
     },
     "metadata": {
      "needs_background": "light"
     },
     "output_type": "display_data"
    }
   ],
   "source": [
    "# 9) Employee Relationship Satisfcation\n",
    "\n",
    "plt.figure(figsize=(10,6))\n",
    "sns.countplot(data=df_development, x='EmpRelationshipSatisfaction', hue='EmpJobRole')\n",
    "plt.show()\n",
    "\n",
    "# Developers are seen to have Employee Satisfacton Level : 1"
   ]
  },
  {
   "cell_type": "code",
   "execution_count": 176,
   "id": "6cf44c23",
   "metadata": {},
   "outputs": [],
   "source": [
    "data_research  = pd.DataFrame(data)"
   ]
  },
  {
   "cell_type": "code",
   "execution_count": 177,
   "id": "96fd9174",
   "metadata": {},
   "outputs": [],
   "source": [
    "data_research = data.loc[data['EmpDepartment']=='Research & Development']"
   ]
  },
  {
   "cell_type": "code",
   "execution_count": 178,
   "id": "b49a9de5",
   "metadata": {},
   "outputs": [
    {
     "data": {
      "text/html": [
       "<div>\n",
       "<style scoped>\n",
       "    .dataframe tbody tr th:only-of-type {\n",
       "        vertical-align: middle;\n",
       "    }\n",
       "\n",
       "    .dataframe tbody tr th {\n",
       "        vertical-align: top;\n",
       "    }\n",
       "\n",
       "    .dataframe thead th {\n",
       "        text-align: right;\n",
       "    }\n",
       "</style>\n",
       "<table border=\"1\" class=\"dataframe\">\n",
       "  <thead>\n",
       "    <tr style=\"text-align: right;\">\n",
       "      <th></th>\n",
       "      <th>EmpNumber</th>\n",
       "      <th>Age</th>\n",
       "      <th>Gender</th>\n",
       "      <th>EducationBackground</th>\n",
       "      <th>EmpDepartment</th>\n",
       "      <th>EmpJobRole</th>\n",
       "      <th>BusinessTravelFrequency</th>\n",
       "      <th>DistanceFromHome</th>\n",
       "      <th>EmpEducationLevel</th>\n",
       "      <th>EmpEnvironmentSatisfaction</th>\n",
       "      <th>...</th>\n",
       "      <th>EmpRelationshipSatisfaction</th>\n",
       "      <th>TotalWorkExperienceInYears</th>\n",
       "      <th>TrainingTimesLastYear</th>\n",
       "      <th>EmpWorkLifeBalance</th>\n",
       "      <th>ExperienceYearsAtThisCompany</th>\n",
       "      <th>ExperienceYearsInCurrentRole</th>\n",
       "      <th>YearsSinceLastPromotion</th>\n",
       "      <th>YearsWithCurrManager</th>\n",
       "      <th>Attrition</th>\n",
       "      <th>PerformanceRating</th>\n",
       "    </tr>\n",
       "  </thead>\n",
       "  <tbody>\n",
       "    <tr>\n",
       "      <th>156</th>\n",
       "      <td>E1001284</td>\n",
       "      <td>38</td>\n",
       "      <td>Male</td>\n",
       "      <td>Medical</td>\n",
       "      <td>Research &amp; Development</td>\n",
       "      <td>Senior Manager R&amp;D</td>\n",
       "      <td>Travel_Frequently</td>\n",
       "      <td>10</td>\n",
       "      <td>1</td>\n",
       "      <td>3</td>\n",
       "      <td>...</td>\n",
       "      <td>2</td>\n",
       "      <td>3</td>\n",
       "      <td>0</td>\n",
       "      <td>2</td>\n",
       "      <td>2</td>\n",
       "      <td>1</td>\n",
       "      <td>0</td>\n",
       "      <td>2</td>\n",
       "      <td>No</td>\n",
       "      <td>3</td>\n",
       "    </tr>\n",
       "    <tr>\n",
       "      <th>158</th>\n",
       "      <td>E1001289</td>\n",
       "      <td>31</td>\n",
       "      <td>Female</td>\n",
       "      <td>Life Sciences</td>\n",
       "      <td>Research &amp; Development</td>\n",
       "      <td>Manufacturing Director</td>\n",
       "      <td>Travel_Frequently</td>\n",
       "      <td>1</td>\n",
       "      <td>1</td>\n",
       "      <td>3</td>\n",
       "      <td>...</td>\n",
       "      <td>3</td>\n",
       "      <td>4</td>\n",
       "      <td>1</td>\n",
       "      <td>3</td>\n",
       "      <td>4</td>\n",
       "      <td>3</td>\n",
       "      <td>0</td>\n",
       "      <td>3</td>\n",
       "      <td>No</td>\n",
       "      <td>3</td>\n",
       "    </tr>\n",
       "    <tr>\n",
       "      <th>159</th>\n",
       "      <td>E1001290</td>\n",
       "      <td>18</td>\n",
       "      <td>Male</td>\n",
       "      <td>Life Sciences</td>\n",
       "      <td>Research &amp; Development</td>\n",
       "      <td>Research Scientist</td>\n",
       "      <td>Non-Travel</td>\n",
       "      <td>5</td>\n",
       "      <td>2</td>\n",
       "      <td>2</td>\n",
       "      <td>...</td>\n",
       "      <td>4</td>\n",
       "      <td>0</td>\n",
       "      <td>2</td>\n",
       "      <td>3</td>\n",
       "      <td>0</td>\n",
       "      <td>0</td>\n",
       "      <td>0</td>\n",
       "      <td>0</td>\n",
       "      <td>No</td>\n",
       "      <td>3</td>\n",
       "    </tr>\n",
       "    <tr>\n",
       "      <th>160</th>\n",
       "      <td>E1001291</td>\n",
       "      <td>54</td>\n",
       "      <td>Female</td>\n",
       "      <td>Technical Degree</td>\n",
       "      <td>Research &amp; Development</td>\n",
       "      <td>Senior Manager R&amp;D</td>\n",
       "      <td>Travel_Rarely</td>\n",
       "      <td>17</td>\n",
       "      <td>3</td>\n",
       "      <td>3</td>\n",
       "      <td>...</td>\n",
       "      <td>3</td>\n",
       "      <td>22</td>\n",
       "      <td>2</td>\n",
       "      <td>3</td>\n",
       "      <td>10</td>\n",
       "      <td>7</td>\n",
       "      <td>0</td>\n",
       "      <td>8</td>\n",
       "      <td>No</td>\n",
       "      <td>3</td>\n",
       "    </tr>\n",
       "    <tr>\n",
       "      <th>161</th>\n",
       "      <td>E1001292</td>\n",
       "      <td>35</td>\n",
       "      <td>Female</td>\n",
       "      <td>Medical</td>\n",
       "      <td>Research &amp; Development</td>\n",
       "      <td>Healthcare Representative</td>\n",
       "      <td>Travel_Rarely</td>\n",
       "      <td>25</td>\n",
       "      <td>4</td>\n",
       "      <td>3</td>\n",
       "      <td>...</td>\n",
       "      <td>3</td>\n",
       "      <td>16</td>\n",
       "      <td>3</td>\n",
       "      <td>2</td>\n",
       "      <td>16</td>\n",
       "      <td>10</td>\n",
       "      <td>10</td>\n",
       "      <td>1</td>\n",
       "      <td>No</td>\n",
       "      <td>3</td>\n",
       "    </tr>\n",
       "    <tr>\n",
       "      <th>...</th>\n",
       "      <td>...</td>\n",
       "      <td>...</td>\n",
       "      <td>...</td>\n",
       "      <td>...</td>\n",
       "      <td>...</td>\n",
       "      <td>...</td>\n",
       "      <td>...</td>\n",
       "      <td>...</td>\n",
       "      <td>...</td>\n",
       "      <td>...</td>\n",
       "      <td>...</td>\n",
       "      <td>...</td>\n",
       "      <td>...</td>\n",
       "      <td>...</td>\n",
       "      <td>...</td>\n",
       "      <td>...</td>\n",
       "      <td>...</td>\n",
       "      <td>...</td>\n",
       "      <td>...</td>\n",
       "      <td>...</td>\n",
       "      <td>...</td>\n",
       "    </tr>\n",
       "    <tr>\n",
       "      <th>756</th>\n",
       "      <td>E1002332</td>\n",
       "      <td>29</td>\n",
       "      <td>Female</td>\n",
       "      <td>Medical</td>\n",
       "      <td>Research &amp; Development</td>\n",
       "      <td>Research Scientist</td>\n",
       "      <td>Travel_Rarely</td>\n",
       "      <td>28</td>\n",
       "      <td>4</td>\n",
       "      <td>4</td>\n",
       "      <td>...</td>\n",
       "      <td>2</td>\n",
       "      <td>5</td>\n",
       "      <td>3</td>\n",
       "      <td>1</td>\n",
       "      <td>5</td>\n",
       "      <td>4</td>\n",
       "      <td>0</td>\n",
       "      <td>4</td>\n",
       "      <td>No</td>\n",
       "      <td>2</td>\n",
       "    </tr>\n",
       "    <tr>\n",
       "      <th>759</th>\n",
       "      <td>E1002335</td>\n",
       "      <td>31</td>\n",
       "      <td>Male</td>\n",
       "      <td>Medical</td>\n",
       "      <td>Research &amp; Development</td>\n",
       "      <td>Manufacturing Director</td>\n",
       "      <td>Non-Travel</td>\n",
       "      <td>5</td>\n",
       "      <td>3</td>\n",
       "      <td>2</td>\n",
       "      <td>...</td>\n",
       "      <td>2</td>\n",
       "      <td>10</td>\n",
       "      <td>2</td>\n",
       "      <td>3</td>\n",
       "      <td>9</td>\n",
       "      <td>4</td>\n",
       "      <td>1</td>\n",
       "      <td>7</td>\n",
       "      <td>No</td>\n",
       "      <td>2</td>\n",
       "    </tr>\n",
       "    <tr>\n",
       "      <th>761</th>\n",
       "      <td>E1002340</td>\n",
       "      <td>39</td>\n",
       "      <td>Male</td>\n",
       "      <td>Medical</td>\n",
       "      <td>Research &amp; Development</td>\n",
       "      <td>Healthcare Representative</td>\n",
       "      <td>Travel_Rarely</td>\n",
       "      <td>6</td>\n",
       "      <td>1</td>\n",
       "      <td>4</td>\n",
       "      <td>...</td>\n",
       "      <td>1</td>\n",
       "      <td>9</td>\n",
       "      <td>5</td>\n",
       "      <td>3</td>\n",
       "      <td>7</td>\n",
       "      <td>7</td>\n",
       "      <td>1</td>\n",
       "      <td>7</td>\n",
       "      <td>No</td>\n",
       "      <td>3</td>\n",
       "    </tr>\n",
       "    <tr>\n",
       "      <th>762</th>\n",
       "      <td>E1002342</td>\n",
       "      <td>27</td>\n",
       "      <td>Male</td>\n",
       "      <td>Life Sciences</td>\n",
       "      <td>Research &amp; Development</td>\n",
       "      <td>Manufacturing Director</td>\n",
       "      <td>Travel_Rarely</td>\n",
       "      <td>4</td>\n",
       "      <td>3</td>\n",
       "      <td>2</td>\n",
       "      <td>...</td>\n",
       "      <td>2</td>\n",
       "      <td>6</td>\n",
       "      <td>0</td>\n",
       "      <td>3</td>\n",
       "      <td>6</td>\n",
       "      <td>2</td>\n",
       "      <td>0</td>\n",
       "      <td>3</td>\n",
       "      <td>No</td>\n",
       "      <td>3</td>\n",
       "    </tr>\n",
       "    <tr>\n",
       "      <th>764</th>\n",
       "      <td>E1002346</td>\n",
       "      <td>34</td>\n",
       "      <td>Male</td>\n",
       "      <td>Medical</td>\n",
       "      <td>Research &amp; Development</td>\n",
       "      <td>Laboratory Technician</td>\n",
       "      <td>Travel_Rarely</td>\n",
       "      <td>8</td>\n",
       "      <td>3</td>\n",
       "      <td>2</td>\n",
       "      <td>...</td>\n",
       "      <td>1</td>\n",
       "      <td>6</td>\n",
       "      <td>3</td>\n",
       "      <td>4</td>\n",
       "      <td>4</td>\n",
       "      <td>3</td>\n",
       "      <td>1</td>\n",
       "      <td>2</td>\n",
       "      <td>No</td>\n",
       "      <td>3</td>\n",
       "    </tr>\n",
       "  </tbody>\n",
       "</table>\n",
       "<p>299 rows × 27 columns</p>\n",
       "</div>"
      ],
      "text/plain": [
       "    EmpNumber  Age  Gender EducationBackground           EmpDepartment  \\\n",
       "156  E1001284   38    Male             Medical  Research & Development   \n",
       "158  E1001289   31  Female       Life Sciences  Research & Development   \n",
       "159  E1001290   18    Male       Life Sciences  Research & Development   \n",
       "160  E1001291   54  Female    Technical Degree  Research & Development   \n",
       "161  E1001292   35  Female             Medical  Research & Development   \n",
       "..        ...  ...     ...                 ...                     ...   \n",
       "756  E1002332   29  Female             Medical  Research & Development   \n",
       "759  E1002335   31    Male             Medical  Research & Development   \n",
       "761  E1002340   39    Male             Medical  Research & Development   \n",
       "762  E1002342   27    Male       Life Sciences  Research & Development   \n",
       "764  E1002346   34    Male             Medical  Research & Development   \n",
       "\n",
       "                    EmpJobRole BusinessTravelFrequency  DistanceFromHome  \\\n",
       "156         Senior Manager R&D       Travel_Frequently                10   \n",
       "158     Manufacturing Director       Travel_Frequently                 1   \n",
       "159         Research Scientist              Non-Travel                 5   \n",
       "160         Senior Manager R&D           Travel_Rarely                17   \n",
       "161  Healthcare Representative           Travel_Rarely                25   \n",
       "..                         ...                     ...               ...   \n",
       "756         Research Scientist           Travel_Rarely                28   \n",
       "759     Manufacturing Director              Non-Travel                 5   \n",
       "761  Healthcare Representative           Travel_Rarely                 6   \n",
       "762     Manufacturing Director           Travel_Rarely                 4   \n",
       "764      Laboratory Technician           Travel_Rarely                 8   \n",
       "\n",
       "     EmpEducationLevel  EmpEnvironmentSatisfaction  ...  \\\n",
       "156                  1                           3  ...   \n",
       "158                  1                           3  ...   \n",
       "159                  2                           2  ...   \n",
       "160                  3                           3  ...   \n",
       "161                  4                           3  ...   \n",
       "..                 ...                         ...  ...   \n",
       "756                  4                           4  ...   \n",
       "759                  3                           2  ...   \n",
       "761                  1                           4  ...   \n",
       "762                  3                           2  ...   \n",
       "764                  3                           2  ...   \n",
       "\n",
       "     EmpRelationshipSatisfaction  TotalWorkExperienceInYears  \\\n",
       "156                            2                           3   \n",
       "158                            3                           4   \n",
       "159                            4                           0   \n",
       "160                            3                          22   \n",
       "161                            3                          16   \n",
       "..                           ...                         ...   \n",
       "756                            2                           5   \n",
       "759                            2                          10   \n",
       "761                            1                           9   \n",
       "762                            2                           6   \n",
       "764                            1                           6   \n",
       "\n",
       "     TrainingTimesLastYear  EmpWorkLifeBalance  ExperienceYearsAtThisCompany  \\\n",
       "156                      0                   2                             2   \n",
       "158                      1                   3                             4   \n",
       "159                      2                   3                             0   \n",
       "160                      2                   3                            10   \n",
       "161                      3                   2                            16   \n",
       "..                     ...                 ...                           ...   \n",
       "756                      3                   1                             5   \n",
       "759                      2                   3                             9   \n",
       "761                      5                   3                             7   \n",
       "762                      0                   3                             6   \n",
       "764                      3                   4                             4   \n",
       "\n",
       "    ExperienceYearsInCurrentRole  YearsSinceLastPromotion  \\\n",
       "156                            1                        0   \n",
       "158                            3                        0   \n",
       "159                            0                        0   \n",
       "160                            7                        0   \n",
       "161                           10                       10   \n",
       "..                           ...                      ...   \n",
       "756                            4                        0   \n",
       "759                            4                        1   \n",
       "761                            7                        1   \n",
       "762                            2                        0   \n",
       "764                            3                        1   \n",
       "\n",
       "     YearsWithCurrManager  Attrition  PerformanceRating  \n",
       "156                     2         No                  3  \n",
       "158                     3         No                  3  \n",
       "159                     0         No                  3  \n",
       "160                     8         No                  3  \n",
       "161                     1         No                  3  \n",
       "..                    ...        ...                ...  \n",
       "756                     4         No                  2  \n",
       "759                     7         No                  2  \n",
       "761                     7         No                  3  \n",
       "762                     3         No                  3  \n",
       "764                     2         No                  3  \n",
       "\n",
       "[299 rows x 27 columns]"
      ]
     },
     "execution_count": 178,
     "metadata": {},
     "output_type": "execute_result"
    }
   ],
   "source": [
    "data_research"
   ]
  },
  {
   "cell_type": "markdown",
   "id": "6e07516f",
   "metadata": {},
   "source": [
    "# Analysis of R&D Department"
   ]
  },
  {
   "cell_type": "code",
   "execution_count": 181,
   "id": "f91477af",
   "metadata": {},
   "outputs": [
    {
     "data": {
      "application/vnd.plotly.v1+json": {
       "config": {
        "plotlyServerURL": "https://plot.ly"
       },
       "data": [
        {
         "alignmentgroup": "True",
         "bingroup": "x",
         "hovertemplate": "Performance Rating=3<br>Emp Job Role=%{x}<br>count=%{y}<extra></extra>",
         "legendgroup": "",
         "marker": {
          "color": "#1F77B4",
          "pattern": {
           "shape": ""
          }
         },
         "name": "",
         "nbinsx": 80,
         "offsetgroup": "",
         "orientation": "v",
         "showlegend": false,
         "type": "histogram",
         "x": [
          "Senior Manager R&D",
          "Manufacturing Director",
          "Research Scientist",
          "Senior Manager R&D",
          "Healthcare Representative",
          "Senior Manager R&D",
          "Senior Manager R&D",
          "Manufacturing Director",
          "Manufacturing Director",
          "Laboratory Technician",
          "Manufacturing Director",
          "Healthcare Representative",
          "Manufacturing Director",
          "Senior Manager R&D",
          "Senior Manager R&D",
          "Senior Manager R&D",
          "Healthcare Representative",
          "Senior Manager R&D",
          "Manufacturing Director",
          "Senior Manager R&D",
          "Healthcare Representative",
          "Manager R&D",
          "Healthcare Representative",
          "Manager",
          "Research Scientist",
          "Manufacturing Director",
          "Manager R&D",
          "Laboratory Technician",
          "Manufacturing Director",
          "Manager R&D",
          "Manager R&D",
          "Research Scientist",
          "Laboratory Technician",
          "Research Scientist",
          "Laboratory Technician",
          "Healthcare Representative",
          "Research Scientist",
          "Manager R&D",
          "Research Scientist",
          "Manufacturing Director",
          "Laboratory Technician",
          "Manager",
          "Manager R&D",
          "Manager R&D",
          "Manufacturing Director",
          "Manager R&D",
          "Research Scientist",
          "Manager R&D",
          "Laboratory Technician",
          "Manager R&D",
          "Research Director",
          "Manufacturing Director",
          "Research Director",
          "Manager R&D",
          "Research Director",
          "Manager R&D",
          "Research Scientist",
          "Laboratory Technician",
          "Manager R&D",
          "Research Director",
          "Healthcare Representative",
          "Manager R&D",
          "Laboratory Technician",
          "Laboratory Technician",
          "Manager R&D",
          "Research Scientist",
          "Research Scientist",
          "Manufacturing Director",
          "Laboratory Technician",
          "Laboratory Technician",
          "Manufacturing Director",
          "Research Scientist",
          "Research Scientist",
          "Manager",
          "Healthcare Representative",
          "Manager R&D",
          "Manager R&D",
          "Manager",
          "Research Scientist",
          "Healthcare Representative",
          "Research Scientist",
          "Laboratory Technician",
          "Laboratory Technician",
          "Manufacturing Director",
          "Manager R&D",
          "Laboratory Technician",
          "Manager R&D",
          "Research Scientist",
          "Research Scientist",
          "Healthcare Representative",
          "Manager R&D",
          "Manufacturing Director",
          "Research Scientist",
          "Manager R&D",
          "Manufacturing Director",
          "Laboratory Technician",
          "Research Director",
          "Research Director",
          "Research Scientist",
          "Manager R&D",
          "Manager R&D",
          "Laboratory Technician",
          "Manager R&D",
          "Laboratory Technician",
          "Manager R&D",
          "Manager R&D",
          "Research Director",
          "Laboratory Technician",
          "Manager R&D",
          "Research Scientist",
          "Manager R&D",
          "Manager R&D",
          "Manager R&D",
          "Manager R&D",
          "Laboratory Technician",
          "Manager R&D",
          "Healthcare Representative",
          "Manager",
          "Manager R&D",
          "Research Director",
          "Manager R&D",
          "Healthcare Representative",
          "Manufacturing Director",
          "Healthcare Representative",
          "Laboratory Technician",
          "Manager R&D",
          "Manager R&D",
          "Research Scientist",
          "Healthcare Representative",
          "Healthcare Representative",
          "Manager R&D",
          "Laboratory Technician",
          "Manager R&D",
          "Laboratory Technician",
          "Manufacturing Director",
          "Healthcare Representative",
          "Research Scientist",
          "Laboratory Technician",
          "Manager R&D",
          "Manager R&D",
          "Healthcare Representative",
          "Research Scientist",
          "Laboratory Technician",
          "Research Scientist",
          "Healthcare Representative",
          "Research Director",
          "Research Scientist",
          "Manufacturing Director",
          "Manager R&D",
          "Research Director",
          "Manager R&D",
          "Research Scientist",
          "Laboratory Technician",
          "Laboratory Technician",
          "Manager R&D",
          "Research Scientist",
          "Manager R&D",
          "Manager R&D",
          "Laboratory Technician",
          "Manufacturing Director",
          "Healthcare Representative",
          "Manager R&D",
          "Manager R&D",
          "Research Scientist",
          "Laboratory Technician",
          "Manufacturing Director",
          "Research Scientist",
          "Manager",
          "Healthcare Representative",
          "Manager R&D",
          "Manager R&D",
          "Manager R&D",
          "Research Scientist",
          "Manager R&D",
          "Manager R&D",
          "Manager R&D",
          "Research Scientist",
          "Manager R&D",
          "Laboratory Technician",
          "Manager R&D",
          "Healthcare Representative",
          "Manager R&D",
          "Research Scientist",
          "Manufacturing Director",
          "Laboratory Technician",
          "Laboratory Technician",
          "Laboratory Technician",
          "Laboratory Technician",
          "Research Scientist",
          "Research Director",
          "Research Scientist",
          "Research Scientist",
          "Laboratory Technician",
          "Laboratory Technician",
          "Manufacturing Director",
          "Manufacturing Director",
          "Research Scientist",
          "Research Scientist",
          "Research Scientist",
          "Research Scientist",
          "Research Scientist",
          "Research Scientist",
          "Healthcare Representative",
          "Manufacturing Director",
          "Laboratory Technician"
         ],
         "xaxis": "x",
         "yaxis": "y"
        },
        {
         "alignmentgroup": "True",
         "hovertemplate": "Performance Rating=3<br>Emp Job Role=%{x}<extra></extra>",
         "legendgroup": "",
         "marker": {
          "color": "#1F77B4"
         },
         "name": "",
         "notched": true,
         "offsetgroup": "",
         "showlegend": false,
         "type": "box",
         "x": [
          "Senior Manager R&D",
          "Manufacturing Director",
          "Research Scientist",
          "Senior Manager R&D",
          "Healthcare Representative",
          "Senior Manager R&D",
          "Senior Manager R&D",
          "Manufacturing Director",
          "Manufacturing Director",
          "Laboratory Technician",
          "Manufacturing Director",
          "Healthcare Representative",
          "Manufacturing Director",
          "Senior Manager R&D",
          "Senior Manager R&D",
          "Senior Manager R&D",
          "Healthcare Representative",
          "Senior Manager R&D",
          "Manufacturing Director",
          "Senior Manager R&D",
          "Healthcare Representative",
          "Manager R&D",
          "Healthcare Representative",
          "Manager",
          "Research Scientist",
          "Manufacturing Director",
          "Manager R&D",
          "Laboratory Technician",
          "Manufacturing Director",
          "Manager R&D",
          "Manager R&D",
          "Research Scientist",
          "Laboratory Technician",
          "Research Scientist",
          "Laboratory Technician",
          "Healthcare Representative",
          "Research Scientist",
          "Manager R&D",
          "Research Scientist",
          "Manufacturing Director",
          "Laboratory Technician",
          "Manager",
          "Manager R&D",
          "Manager R&D",
          "Manufacturing Director",
          "Manager R&D",
          "Research Scientist",
          "Manager R&D",
          "Laboratory Technician",
          "Manager R&D",
          "Research Director",
          "Manufacturing Director",
          "Research Director",
          "Manager R&D",
          "Research Director",
          "Manager R&D",
          "Research Scientist",
          "Laboratory Technician",
          "Manager R&D",
          "Research Director",
          "Healthcare Representative",
          "Manager R&D",
          "Laboratory Technician",
          "Laboratory Technician",
          "Manager R&D",
          "Research Scientist",
          "Research Scientist",
          "Manufacturing Director",
          "Laboratory Technician",
          "Laboratory Technician",
          "Manufacturing Director",
          "Research Scientist",
          "Research Scientist",
          "Manager",
          "Healthcare Representative",
          "Manager R&D",
          "Manager R&D",
          "Manager",
          "Research Scientist",
          "Healthcare Representative",
          "Research Scientist",
          "Laboratory Technician",
          "Laboratory Technician",
          "Manufacturing Director",
          "Manager R&D",
          "Laboratory Technician",
          "Manager R&D",
          "Research Scientist",
          "Research Scientist",
          "Healthcare Representative",
          "Manager R&D",
          "Manufacturing Director",
          "Research Scientist",
          "Manager R&D",
          "Manufacturing Director",
          "Laboratory Technician",
          "Research Director",
          "Research Director",
          "Research Scientist",
          "Manager R&D",
          "Manager R&D",
          "Laboratory Technician",
          "Manager R&D",
          "Laboratory Technician",
          "Manager R&D",
          "Manager R&D",
          "Research Director",
          "Laboratory Technician",
          "Manager R&D",
          "Research Scientist",
          "Manager R&D",
          "Manager R&D",
          "Manager R&D",
          "Manager R&D",
          "Laboratory Technician",
          "Manager R&D",
          "Healthcare Representative",
          "Manager",
          "Manager R&D",
          "Research Director",
          "Manager R&D",
          "Healthcare Representative",
          "Manufacturing Director",
          "Healthcare Representative",
          "Laboratory Technician",
          "Manager R&D",
          "Manager R&D",
          "Research Scientist",
          "Healthcare Representative",
          "Healthcare Representative",
          "Manager R&D",
          "Laboratory Technician",
          "Manager R&D",
          "Laboratory Technician",
          "Manufacturing Director",
          "Healthcare Representative",
          "Research Scientist",
          "Laboratory Technician",
          "Manager R&D",
          "Manager R&D",
          "Healthcare Representative",
          "Research Scientist",
          "Laboratory Technician",
          "Research Scientist",
          "Healthcare Representative",
          "Research Director",
          "Research Scientist",
          "Manufacturing Director",
          "Manager R&D",
          "Research Director",
          "Manager R&D",
          "Research Scientist",
          "Laboratory Technician",
          "Laboratory Technician",
          "Manager R&D",
          "Research Scientist",
          "Manager R&D",
          "Manager R&D",
          "Laboratory Technician",
          "Manufacturing Director",
          "Healthcare Representative",
          "Manager R&D",
          "Manager R&D",
          "Research Scientist",
          "Laboratory Technician",
          "Manufacturing Director",
          "Research Scientist",
          "Manager",
          "Healthcare Representative",
          "Manager R&D",
          "Manager R&D",
          "Manager R&D",
          "Research Scientist",
          "Manager R&D",
          "Manager R&D",
          "Manager R&D",
          "Research Scientist",
          "Manager R&D",
          "Laboratory Technician",
          "Manager R&D",
          "Healthcare Representative",
          "Manager R&D",
          "Research Scientist",
          "Manufacturing Director",
          "Laboratory Technician",
          "Laboratory Technician",
          "Laboratory Technician",
          "Laboratory Technician",
          "Research Scientist",
          "Research Director",
          "Research Scientist",
          "Research Scientist",
          "Laboratory Technician",
          "Laboratory Technician",
          "Manufacturing Director",
          "Manufacturing Director",
          "Research Scientist",
          "Research Scientist",
          "Research Scientist",
          "Research Scientist",
          "Research Scientist",
          "Research Scientist",
          "Healthcare Representative",
          "Manufacturing Director",
          "Laboratory Technician"
         ],
         "xaxis": "x4",
         "yaxis": "y4"
        },
        {
         "alignmentgroup": "True",
         "bingroup": "x",
         "hovertemplate": "Performance Rating=2<br>Emp Job Role=%{x}<br>count=%{y}<extra></extra>",
         "legendgroup": "",
         "marker": {
          "color": "#1F77B4",
          "pattern": {
           "shape": ""
          }
         },
         "name": "",
         "nbinsx": 80,
         "offsetgroup": "",
         "orientation": "v",
         "showlegend": false,
         "type": "histogram",
         "x": [
          "Research Director",
          "Laboratory Technician",
          "Healthcare Representative",
          "Senior Manager R&D",
          "Laboratory Technician",
          "Research Director",
          "Research Scientist",
          "Laboratory Technician",
          "Senior Manager R&D",
          "Senior Manager R&D",
          "Manager R&D",
          "Healthcare Representative",
          "Manufacturing Director",
          "Research Director",
          "Research Scientist",
          "Manager R&D",
          "Manager R&D",
          "Research Scientist",
          "Manager R&D",
          "Laboratory Technician",
          "Research Scientist",
          "Laboratory Technician",
          "Research Scientist",
          "Manager R&D",
          "Laboratory Technician",
          "Research Scientist",
          "Research Director",
          "Manager R&D",
          "Manager R&D",
          "Laboratory Technician",
          "Research Scientist",
          "Laboratory Technician",
          "Healthcare Representative",
          "Manager R&D",
          "Manager R&D",
          "Manager R&D",
          "Research Scientist",
          "Laboratory Technician",
          "Manager R&D",
          "Research Scientist",
          "Healthcare Representative",
          "Healthcare Representative",
          "Manager R&D",
          "Laboratory Technician",
          "Manufacturing Director",
          "Manager R&D",
          "Laboratory Technician",
          "Manager R&D",
          "Manager R&D",
          "Research Scientist",
          "Healthcare Representative",
          "Manager R&D",
          "Research Scientist",
          "Healthcare Representative",
          "Research Scientist",
          "Research Director",
          "Research Scientist",
          "Research Scientist",
          "Manufacturing Director"
         ],
         "xaxis": "x2",
         "yaxis": "y2"
        },
        {
         "alignmentgroup": "True",
         "hovertemplate": "Performance Rating=2<br>Emp Job Role=%{x}<extra></extra>",
         "legendgroup": "",
         "marker": {
          "color": "#1F77B4"
         },
         "name": "",
         "notched": true,
         "offsetgroup": "",
         "showlegend": false,
         "type": "box",
         "x": [
          "Research Director",
          "Laboratory Technician",
          "Healthcare Representative",
          "Senior Manager R&D",
          "Laboratory Technician",
          "Research Director",
          "Research Scientist",
          "Laboratory Technician",
          "Senior Manager R&D",
          "Senior Manager R&D",
          "Manager R&D",
          "Healthcare Representative",
          "Manufacturing Director",
          "Research Director",
          "Research Scientist",
          "Manager R&D",
          "Manager R&D",
          "Research Scientist",
          "Manager R&D",
          "Laboratory Technician",
          "Research Scientist",
          "Laboratory Technician",
          "Research Scientist",
          "Manager R&D",
          "Laboratory Technician",
          "Research Scientist",
          "Research Director",
          "Manager R&D",
          "Manager R&D",
          "Laboratory Technician",
          "Research Scientist",
          "Laboratory Technician",
          "Healthcare Representative",
          "Manager R&D",
          "Manager R&D",
          "Manager R&D",
          "Research Scientist",
          "Laboratory Technician",
          "Manager R&D",
          "Research Scientist",
          "Healthcare Representative",
          "Healthcare Representative",
          "Manager R&D",
          "Laboratory Technician",
          "Manufacturing Director",
          "Manager R&D",
          "Laboratory Technician",
          "Manager R&D",
          "Manager R&D",
          "Research Scientist",
          "Healthcare Representative",
          "Manager R&D",
          "Research Scientist",
          "Healthcare Representative",
          "Research Scientist",
          "Research Director",
          "Research Scientist",
          "Research Scientist",
          "Manufacturing Director"
         ],
         "xaxis": "x5",
         "yaxis": "y5"
        },
        {
         "alignmentgroup": "True",
         "bingroup": "x",
         "hovertemplate": "Performance Rating=4<br>Emp Job Role=%{x}<br>count=%{y}<extra></extra>",
         "legendgroup": "",
         "marker": {
          "color": "#1F77B4",
          "pattern": {
           "shape": ""
          }
         },
         "name": "",
         "nbinsx": 80,
         "offsetgroup": "",
         "orientation": "v",
         "showlegend": false,
         "type": "histogram",
         "x": [
          "Manager",
          "Senior Manager R&D",
          "Manager R&D",
          "Laboratory Technician",
          "Healthcare Representative",
          "Research Scientist",
          "Manager R&D",
          "Research Scientist",
          "Laboratory Technician",
          "Manufacturing Director",
          "Research Director",
          "Research Scientist",
          "Research Scientist",
          "Manager",
          "Manager R&D",
          "Manager R&D",
          "Manager R&D",
          "Manager R&D",
          "Research Scientist",
          "Laboratory Technician",
          "Research Scientist",
          "Healthcare Representative",
          "Manager R&D",
          "Manufacturing Director",
          "Laboratory Technician",
          "Research Scientist",
          "Research Scientist",
          "Research Scientist",
          "Manager R&D",
          "Manager R&D",
          "Manager R&D",
          "Research Director",
          "Research Scientist",
          "Research Director",
          "Healthcare Representative"
         ],
         "xaxis": "x3",
         "yaxis": "y3"
        },
        {
         "alignmentgroup": "True",
         "hovertemplate": "Performance Rating=4<br>Emp Job Role=%{x}<extra></extra>",
         "legendgroup": "",
         "marker": {
          "color": "#1F77B4"
         },
         "name": "",
         "notched": true,
         "offsetgroup": "",
         "showlegend": false,
         "type": "box",
         "x": [
          "Manager",
          "Senior Manager R&D",
          "Manager R&D",
          "Laboratory Technician",
          "Healthcare Representative",
          "Research Scientist",
          "Manager R&D",
          "Research Scientist",
          "Laboratory Technician",
          "Manufacturing Director",
          "Research Director",
          "Research Scientist",
          "Research Scientist",
          "Manager",
          "Manager R&D",
          "Manager R&D",
          "Manager R&D",
          "Manager R&D",
          "Research Scientist",
          "Laboratory Technician",
          "Research Scientist",
          "Healthcare Representative",
          "Manager R&D",
          "Manufacturing Director",
          "Laboratory Technician",
          "Research Scientist",
          "Research Scientist",
          "Research Scientist",
          "Manager R&D",
          "Manager R&D",
          "Manager R&D",
          "Research Director",
          "Research Scientist",
          "Research Director",
          "Healthcare Representative"
         ],
         "xaxis": "x6",
         "yaxis": "y6"
        }
       ],
       "layout": {
        "annotations": [
         {
          "font": {},
          "showarrow": false,
          "text": "Performance Rating=3",
          "x": 0.15999999999999998,
          "xanchor": "center",
          "xref": "paper",
          "y": 1,
          "yanchor": "bottom",
          "yref": "paper"
         },
         {
          "font": {},
          "showarrow": false,
          "text": "Performance Rating=2",
          "x": 0.49999999999999994,
          "xanchor": "center",
          "xref": "paper",
          "y": 1,
          "yanchor": "bottom",
          "yref": "paper"
         },
         {
          "font": {},
          "showarrow": false,
          "text": "Performance Rating=4",
          "x": 0.8399999999999999,
          "xanchor": "center",
          "xref": "paper",
          "y": 1,
          "yanchor": "bottom",
          "yref": "paper"
         }
        ],
        "barmode": "relative",
        "legend": {
         "tracegroupgap": 0
        },
        "template": {
         "data": {
          "pie": [
           {
            "automargin": true,
            "type": "pie"
           }
          ]
         },
         "layout": {
          "xaxis": {
           "showgrid": true,
           "title": {
            "standoff": 15
           }
          },
          "yaxis": {
           "showgrid": true,
           "title": {
            "standoff": 15
           }
          }
         }
        },
        "title": {
         "text": "Analysing Performance Rating of R&D Department"
        },
        "xaxis": {
         "anchor": "y",
         "domain": [
          0,
          0.31999999999999995
         ],
         "title": {
          "text": "Emp Job Role"
         }
        },
        "xaxis2": {
         "anchor": "y2",
         "domain": [
          0.33999999999999997,
          0.6599999999999999
         ],
         "matches": "x",
         "title": {
          "text": "Emp Job Role"
         }
        },
        "xaxis3": {
         "anchor": "y3",
         "domain": [
          0.6799999999999999,
          0.9999999999999999
         ],
         "matches": "x",
         "title": {
          "text": "Emp Job Role"
         }
        },
        "xaxis4": {
         "anchor": "y4",
         "domain": [
          0,
          0.31999999999999995
         ],
         "matches": "x",
         "showticklabels": false
        },
        "xaxis5": {
         "anchor": "y5",
         "domain": [
          0.33999999999999997,
          0.6599999999999999
         ],
         "matches": "x",
         "showticklabels": false
        },
        "xaxis6": {
         "anchor": "y6",
         "domain": [
          0.6799999999999999,
          0.9999999999999999
         ],
         "matches": "x",
         "showticklabels": false
        },
        "yaxis": {
         "anchor": "x",
         "domain": [
          0,
          0.8316
         ],
         "title": {
          "text": "count"
         }
        },
        "yaxis2": {
         "anchor": "x2",
         "domain": [
          0,
          0.8316
         ],
         "matches": "y",
         "showticklabels": false
        },
        "yaxis3": {
         "anchor": "x3",
         "domain": [
          0,
          0.8316
         ],
         "matches": "y",
         "showticklabels": false
        },
        "yaxis4": {
         "anchor": "x4",
         "domain": [
          0.8416,
          1
         ],
         "matches": "y4",
         "showline": false,
         "showticklabels": false,
         "ticks": ""
        },
        "yaxis5": {
         "anchor": "x5",
         "domain": [
          0.8416,
          1
         ],
         "matches": "y4",
         "showline": false,
         "showticklabels": false,
         "ticks": ""
        },
        "yaxis6": {
         "anchor": "x6",
         "domain": [
          0.8416,
          1
         ],
         "matches": "y4",
         "showline": false,
         "showticklabels": false,
         "ticks": ""
        }
       }
      },
      "text/html": [
       "<div>                            <div id=\"1a6b307c-c396-4b45-9a0f-25a1403074a9\" class=\"plotly-graph-div\" style=\"height:525px; width:100%;\"></div>            <script type=\"text/javascript\">                require([\"plotly\"], function(Plotly) {                    window.PLOTLYENV=window.PLOTLYENV || {};                                    if (document.getElementById(\"1a6b307c-c396-4b45-9a0f-25a1403074a9\")) {                    Plotly.newPlot(                        \"1a6b307c-c396-4b45-9a0f-25a1403074a9\",                        [{\"alignmentgroup\":\"True\",\"bingroup\":\"x\",\"hovertemplate\":\"Performance Rating=3<br>Emp Job Role=%{x}<br>count=%{y}<extra></extra>\",\"legendgroup\":\"\",\"marker\":{\"color\":\"#1F77B4\",\"pattern\":{\"shape\":\"\"}},\"name\":\"\",\"nbinsx\":80,\"offsetgroup\":\"\",\"orientation\":\"v\",\"showlegend\":false,\"x\":[\"Senior Manager R&D\",\"Manufacturing Director\",\"Research Scientist\",\"Senior Manager R&D\",\"Healthcare Representative\",\"Senior Manager R&D\",\"Senior Manager R&D\",\"Manufacturing Director\",\"Manufacturing Director\",\"Laboratory Technician\",\"Manufacturing Director\",\"Healthcare Representative\",\"Manufacturing Director\",\"Senior Manager R&D\",\"Senior Manager R&D\",\"Senior Manager R&D\",\"Healthcare Representative\",\"Senior Manager R&D\",\"Manufacturing Director\",\"Senior Manager R&D\",\"Healthcare Representative\",\"Manager R&D\",\"Healthcare Representative\",\"Manager\",\"Research Scientist\",\"Manufacturing Director\",\"Manager R&D\",\"Laboratory Technician\",\"Manufacturing Director\",\"Manager R&D\",\"Manager R&D\",\"Research Scientist\",\"Laboratory Technician\",\"Research Scientist\",\"Laboratory Technician\",\"Healthcare Representative\",\"Research Scientist\",\"Manager R&D\",\"Research Scientist\",\"Manufacturing Director\",\"Laboratory Technician\",\"Manager\",\"Manager R&D\",\"Manager R&D\",\"Manufacturing Director\",\"Manager R&D\",\"Research Scientist\",\"Manager R&D\",\"Laboratory Technician\",\"Manager R&D\",\"Research Director\",\"Manufacturing Director\",\"Research Director\",\"Manager R&D\",\"Research Director\",\"Manager R&D\",\"Research Scientist\",\"Laboratory Technician\",\"Manager R&D\",\"Research Director\",\"Healthcare Representative\",\"Manager R&D\",\"Laboratory Technician\",\"Laboratory Technician\",\"Manager R&D\",\"Research Scientist\",\"Research Scientist\",\"Manufacturing Director\",\"Laboratory Technician\",\"Laboratory Technician\",\"Manufacturing Director\",\"Research Scientist\",\"Research Scientist\",\"Manager\",\"Healthcare Representative\",\"Manager R&D\",\"Manager R&D\",\"Manager\",\"Research Scientist\",\"Healthcare Representative\",\"Research Scientist\",\"Laboratory Technician\",\"Laboratory Technician\",\"Manufacturing Director\",\"Manager R&D\",\"Laboratory Technician\",\"Manager R&D\",\"Research Scientist\",\"Research Scientist\",\"Healthcare Representative\",\"Manager R&D\",\"Manufacturing Director\",\"Research Scientist\",\"Manager R&D\",\"Manufacturing Director\",\"Laboratory Technician\",\"Research Director\",\"Research Director\",\"Research Scientist\",\"Manager R&D\",\"Manager R&D\",\"Laboratory Technician\",\"Manager R&D\",\"Laboratory Technician\",\"Manager R&D\",\"Manager R&D\",\"Research Director\",\"Laboratory Technician\",\"Manager R&D\",\"Research Scientist\",\"Manager R&D\",\"Manager R&D\",\"Manager R&D\",\"Manager R&D\",\"Laboratory Technician\",\"Manager R&D\",\"Healthcare Representative\",\"Manager\",\"Manager R&D\",\"Research Director\",\"Manager R&D\",\"Healthcare Representative\",\"Manufacturing Director\",\"Healthcare Representative\",\"Laboratory Technician\",\"Manager R&D\",\"Manager R&D\",\"Research Scientist\",\"Healthcare Representative\",\"Healthcare Representative\",\"Manager R&D\",\"Laboratory Technician\",\"Manager R&D\",\"Laboratory Technician\",\"Manufacturing Director\",\"Healthcare Representative\",\"Research Scientist\",\"Laboratory Technician\",\"Manager R&D\",\"Manager R&D\",\"Healthcare Representative\",\"Research Scientist\",\"Laboratory Technician\",\"Research Scientist\",\"Healthcare Representative\",\"Research Director\",\"Research Scientist\",\"Manufacturing Director\",\"Manager R&D\",\"Research Director\",\"Manager R&D\",\"Research Scientist\",\"Laboratory Technician\",\"Laboratory Technician\",\"Manager R&D\",\"Research Scientist\",\"Manager R&D\",\"Manager R&D\",\"Laboratory Technician\",\"Manufacturing Director\",\"Healthcare Representative\",\"Manager R&D\",\"Manager R&D\",\"Research Scientist\",\"Laboratory Technician\",\"Manufacturing Director\",\"Research Scientist\",\"Manager\",\"Healthcare Representative\",\"Manager R&D\",\"Manager R&D\",\"Manager R&D\",\"Research Scientist\",\"Manager R&D\",\"Manager R&D\",\"Manager R&D\",\"Research Scientist\",\"Manager R&D\",\"Laboratory Technician\",\"Manager R&D\",\"Healthcare Representative\",\"Manager R&D\",\"Research Scientist\",\"Manufacturing Director\",\"Laboratory Technician\",\"Laboratory Technician\",\"Laboratory Technician\",\"Laboratory Technician\",\"Research Scientist\",\"Research Director\",\"Research Scientist\",\"Research Scientist\",\"Laboratory Technician\",\"Laboratory Technician\",\"Manufacturing Director\",\"Manufacturing Director\",\"Research Scientist\",\"Research Scientist\",\"Research Scientist\",\"Research Scientist\",\"Research Scientist\",\"Research Scientist\",\"Healthcare Representative\",\"Manufacturing Director\",\"Laboratory Technician\"],\"xaxis\":\"x\",\"yaxis\":\"y\",\"type\":\"histogram\"},{\"alignmentgroup\":\"True\",\"hovertemplate\":\"Performance Rating=3<br>Emp Job Role=%{x}<extra></extra>\",\"legendgroup\":\"\",\"marker\":{\"color\":\"#1F77B4\"},\"name\":\"\",\"notched\":true,\"offsetgroup\":\"\",\"showlegend\":false,\"x\":[\"Senior Manager R&D\",\"Manufacturing Director\",\"Research Scientist\",\"Senior Manager R&D\",\"Healthcare Representative\",\"Senior Manager R&D\",\"Senior Manager R&D\",\"Manufacturing Director\",\"Manufacturing Director\",\"Laboratory Technician\",\"Manufacturing Director\",\"Healthcare Representative\",\"Manufacturing Director\",\"Senior Manager R&D\",\"Senior Manager R&D\",\"Senior Manager R&D\",\"Healthcare Representative\",\"Senior Manager R&D\",\"Manufacturing Director\",\"Senior Manager R&D\",\"Healthcare Representative\",\"Manager R&D\",\"Healthcare Representative\",\"Manager\",\"Research Scientist\",\"Manufacturing Director\",\"Manager R&D\",\"Laboratory Technician\",\"Manufacturing Director\",\"Manager R&D\",\"Manager R&D\",\"Research Scientist\",\"Laboratory Technician\",\"Research Scientist\",\"Laboratory Technician\",\"Healthcare Representative\",\"Research Scientist\",\"Manager R&D\",\"Research Scientist\",\"Manufacturing Director\",\"Laboratory Technician\",\"Manager\",\"Manager R&D\",\"Manager R&D\",\"Manufacturing Director\",\"Manager R&D\",\"Research Scientist\",\"Manager R&D\",\"Laboratory Technician\",\"Manager R&D\",\"Research Director\",\"Manufacturing Director\",\"Research Director\",\"Manager R&D\",\"Research Director\",\"Manager R&D\",\"Research Scientist\",\"Laboratory Technician\",\"Manager R&D\",\"Research Director\",\"Healthcare Representative\",\"Manager R&D\",\"Laboratory Technician\",\"Laboratory Technician\",\"Manager R&D\",\"Research Scientist\",\"Research Scientist\",\"Manufacturing Director\",\"Laboratory Technician\",\"Laboratory Technician\",\"Manufacturing Director\",\"Research Scientist\",\"Research Scientist\",\"Manager\",\"Healthcare Representative\",\"Manager R&D\",\"Manager R&D\",\"Manager\",\"Research Scientist\",\"Healthcare Representative\",\"Research Scientist\",\"Laboratory Technician\",\"Laboratory Technician\",\"Manufacturing Director\",\"Manager R&D\",\"Laboratory Technician\",\"Manager R&D\",\"Research Scientist\",\"Research Scientist\",\"Healthcare Representative\",\"Manager R&D\",\"Manufacturing Director\",\"Research Scientist\",\"Manager R&D\",\"Manufacturing Director\",\"Laboratory Technician\",\"Research Director\",\"Research Director\",\"Research Scientist\",\"Manager R&D\",\"Manager R&D\",\"Laboratory Technician\",\"Manager R&D\",\"Laboratory Technician\",\"Manager R&D\",\"Manager R&D\",\"Research Director\",\"Laboratory Technician\",\"Manager R&D\",\"Research Scientist\",\"Manager R&D\",\"Manager R&D\",\"Manager R&D\",\"Manager R&D\",\"Laboratory Technician\",\"Manager R&D\",\"Healthcare Representative\",\"Manager\",\"Manager R&D\",\"Research Director\",\"Manager R&D\",\"Healthcare Representative\",\"Manufacturing Director\",\"Healthcare Representative\",\"Laboratory Technician\",\"Manager R&D\",\"Manager R&D\",\"Research Scientist\",\"Healthcare Representative\",\"Healthcare Representative\",\"Manager R&D\",\"Laboratory Technician\",\"Manager R&D\",\"Laboratory Technician\",\"Manufacturing Director\",\"Healthcare Representative\",\"Research Scientist\",\"Laboratory Technician\",\"Manager R&D\",\"Manager R&D\",\"Healthcare Representative\",\"Research Scientist\",\"Laboratory Technician\",\"Research Scientist\",\"Healthcare Representative\",\"Research Director\",\"Research Scientist\",\"Manufacturing Director\",\"Manager R&D\",\"Research Director\",\"Manager R&D\",\"Research Scientist\",\"Laboratory Technician\",\"Laboratory Technician\",\"Manager R&D\",\"Research Scientist\",\"Manager R&D\",\"Manager R&D\",\"Laboratory Technician\",\"Manufacturing Director\",\"Healthcare Representative\",\"Manager R&D\",\"Manager R&D\",\"Research Scientist\",\"Laboratory Technician\",\"Manufacturing Director\",\"Research Scientist\",\"Manager\",\"Healthcare Representative\",\"Manager R&D\",\"Manager R&D\",\"Manager R&D\",\"Research Scientist\",\"Manager R&D\",\"Manager R&D\",\"Manager R&D\",\"Research Scientist\",\"Manager R&D\",\"Laboratory Technician\",\"Manager R&D\",\"Healthcare Representative\",\"Manager R&D\",\"Research Scientist\",\"Manufacturing Director\",\"Laboratory Technician\",\"Laboratory Technician\",\"Laboratory Technician\",\"Laboratory Technician\",\"Research Scientist\",\"Research Director\",\"Research Scientist\",\"Research Scientist\",\"Laboratory Technician\",\"Laboratory Technician\",\"Manufacturing Director\",\"Manufacturing Director\",\"Research Scientist\",\"Research Scientist\",\"Research Scientist\",\"Research Scientist\",\"Research Scientist\",\"Research Scientist\",\"Healthcare Representative\",\"Manufacturing Director\",\"Laboratory Technician\"],\"xaxis\":\"x4\",\"yaxis\":\"y4\",\"type\":\"box\"},{\"alignmentgroup\":\"True\",\"bingroup\":\"x\",\"hovertemplate\":\"Performance Rating=2<br>Emp Job Role=%{x}<br>count=%{y}<extra></extra>\",\"legendgroup\":\"\",\"marker\":{\"color\":\"#1F77B4\",\"pattern\":{\"shape\":\"\"}},\"name\":\"\",\"nbinsx\":80,\"offsetgroup\":\"\",\"orientation\":\"v\",\"showlegend\":false,\"x\":[\"Research Director\",\"Laboratory Technician\",\"Healthcare Representative\",\"Senior Manager R&D\",\"Laboratory Technician\",\"Research Director\",\"Research Scientist\",\"Laboratory Technician\",\"Senior Manager R&D\",\"Senior Manager R&D\",\"Manager R&D\",\"Healthcare Representative\",\"Manufacturing Director\",\"Research Director\",\"Research Scientist\",\"Manager R&D\",\"Manager R&D\",\"Research Scientist\",\"Manager R&D\",\"Laboratory Technician\",\"Research Scientist\",\"Laboratory Technician\",\"Research Scientist\",\"Manager R&D\",\"Laboratory Technician\",\"Research Scientist\",\"Research Director\",\"Manager R&D\",\"Manager R&D\",\"Laboratory Technician\",\"Research Scientist\",\"Laboratory Technician\",\"Healthcare Representative\",\"Manager R&D\",\"Manager R&D\",\"Manager R&D\",\"Research Scientist\",\"Laboratory Technician\",\"Manager R&D\",\"Research Scientist\",\"Healthcare Representative\",\"Healthcare Representative\",\"Manager R&D\",\"Laboratory Technician\",\"Manufacturing Director\",\"Manager R&D\",\"Laboratory Technician\",\"Manager R&D\",\"Manager R&D\",\"Research Scientist\",\"Healthcare Representative\",\"Manager R&D\",\"Research Scientist\",\"Healthcare Representative\",\"Research Scientist\",\"Research Director\",\"Research Scientist\",\"Research Scientist\",\"Manufacturing Director\"],\"xaxis\":\"x2\",\"yaxis\":\"y2\",\"type\":\"histogram\"},{\"alignmentgroup\":\"True\",\"hovertemplate\":\"Performance Rating=2<br>Emp Job Role=%{x}<extra></extra>\",\"legendgroup\":\"\",\"marker\":{\"color\":\"#1F77B4\"},\"name\":\"\",\"notched\":true,\"offsetgroup\":\"\",\"showlegend\":false,\"x\":[\"Research Director\",\"Laboratory Technician\",\"Healthcare Representative\",\"Senior Manager R&D\",\"Laboratory Technician\",\"Research Director\",\"Research Scientist\",\"Laboratory Technician\",\"Senior Manager R&D\",\"Senior Manager R&D\",\"Manager R&D\",\"Healthcare Representative\",\"Manufacturing Director\",\"Research Director\",\"Research Scientist\",\"Manager R&D\",\"Manager R&D\",\"Research Scientist\",\"Manager R&D\",\"Laboratory Technician\",\"Research Scientist\",\"Laboratory Technician\",\"Research Scientist\",\"Manager R&D\",\"Laboratory Technician\",\"Research Scientist\",\"Research Director\",\"Manager R&D\",\"Manager R&D\",\"Laboratory Technician\",\"Research Scientist\",\"Laboratory Technician\",\"Healthcare Representative\",\"Manager R&D\",\"Manager R&D\",\"Manager R&D\",\"Research Scientist\",\"Laboratory Technician\",\"Manager R&D\",\"Research Scientist\",\"Healthcare Representative\",\"Healthcare Representative\",\"Manager R&D\",\"Laboratory Technician\",\"Manufacturing Director\",\"Manager R&D\",\"Laboratory Technician\",\"Manager R&D\",\"Manager R&D\",\"Research Scientist\",\"Healthcare Representative\",\"Manager R&D\",\"Research Scientist\",\"Healthcare Representative\",\"Research Scientist\",\"Research Director\",\"Research Scientist\",\"Research Scientist\",\"Manufacturing Director\"],\"xaxis\":\"x5\",\"yaxis\":\"y5\",\"type\":\"box\"},{\"alignmentgroup\":\"True\",\"bingroup\":\"x\",\"hovertemplate\":\"Performance Rating=4<br>Emp Job Role=%{x}<br>count=%{y}<extra></extra>\",\"legendgroup\":\"\",\"marker\":{\"color\":\"#1F77B4\",\"pattern\":{\"shape\":\"\"}},\"name\":\"\",\"nbinsx\":80,\"offsetgroup\":\"\",\"orientation\":\"v\",\"showlegend\":false,\"x\":[\"Manager\",\"Senior Manager R&D\",\"Manager R&D\",\"Laboratory Technician\",\"Healthcare Representative\",\"Research Scientist\",\"Manager R&D\",\"Research Scientist\",\"Laboratory Technician\",\"Manufacturing Director\",\"Research Director\",\"Research Scientist\",\"Research Scientist\",\"Manager\",\"Manager R&D\",\"Manager R&D\",\"Manager R&D\",\"Manager R&D\",\"Research Scientist\",\"Laboratory Technician\",\"Research Scientist\",\"Healthcare Representative\",\"Manager R&D\",\"Manufacturing Director\",\"Laboratory Technician\",\"Research Scientist\",\"Research Scientist\",\"Research Scientist\",\"Manager R&D\",\"Manager R&D\",\"Manager R&D\",\"Research Director\",\"Research Scientist\",\"Research Director\",\"Healthcare Representative\"],\"xaxis\":\"x3\",\"yaxis\":\"y3\",\"type\":\"histogram\"},{\"alignmentgroup\":\"True\",\"hovertemplate\":\"Performance Rating=4<br>Emp Job Role=%{x}<extra></extra>\",\"legendgroup\":\"\",\"marker\":{\"color\":\"#1F77B4\"},\"name\":\"\",\"notched\":true,\"offsetgroup\":\"\",\"showlegend\":false,\"x\":[\"Manager\",\"Senior Manager R&D\",\"Manager R&D\",\"Laboratory Technician\",\"Healthcare Representative\",\"Research Scientist\",\"Manager R&D\",\"Research Scientist\",\"Laboratory Technician\",\"Manufacturing Director\",\"Research Director\",\"Research Scientist\",\"Research Scientist\",\"Manager\",\"Manager R&D\",\"Manager R&D\",\"Manager R&D\",\"Manager R&D\",\"Research Scientist\",\"Laboratory Technician\",\"Research Scientist\",\"Healthcare Representative\",\"Manager R&D\",\"Manufacturing Director\",\"Laboratory Technician\",\"Research Scientist\",\"Research Scientist\",\"Research Scientist\",\"Manager R&D\",\"Manager R&D\",\"Manager R&D\",\"Research Director\",\"Research Scientist\",\"Research Director\",\"Healthcare Representative\"],\"xaxis\":\"x6\",\"yaxis\":\"y6\",\"type\":\"box\"}],                        {\"template\":{\"data\":{\"pie\":[{\"automargin\":true,\"type\":\"pie\"}]},\"layout\":{\"xaxis\":{\"showgrid\":true,\"title\":{\"standoff\":15}},\"yaxis\":{\"showgrid\":true,\"title\":{\"standoff\":15}}}},\"xaxis\":{\"anchor\":\"y\",\"domain\":[0.0,0.31999999999999995],\"title\":{\"text\":\"Emp Job Role\"}},\"yaxis\":{\"anchor\":\"x\",\"domain\":[0.0,0.8316],\"title\":{\"text\":\"count\"}},\"xaxis2\":{\"anchor\":\"y2\",\"domain\":[0.33999999999999997,0.6599999999999999],\"matches\":\"x\",\"title\":{\"text\":\"Emp Job Role\"}},\"yaxis2\":{\"anchor\":\"x2\",\"domain\":[0.0,0.8316],\"matches\":\"y\",\"showticklabels\":false},\"xaxis3\":{\"anchor\":\"y3\",\"domain\":[0.6799999999999999,0.9999999999999999],\"matches\":\"x\",\"title\":{\"text\":\"Emp Job Role\"}},\"yaxis3\":{\"anchor\":\"x3\",\"domain\":[0.0,0.8316],\"matches\":\"y\",\"showticklabels\":false},\"xaxis4\":{\"anchor\":\"y4\",\"domain\":[0.0,0.31999999999999995],\"matches\":\"x\",\"showticklabels\":false},\"yaxis4\":{\"anchor\":\"x4\",\"domain\":[0.8416,1.0],\"matches\":\"y4\",\"showticklabels\":false,\"showline\":false,\"ticks\":\"\"},\"xaxis5\":{\"anchor\":\"y5\",\"domain\":[0.33999999999999997,0.6599999999999999],\"matches\":\"x\",\"showticklabels\":false},\"yaxis5\":{\"anchor\":\"x5\",\"domain\":[0.8416,1.0],\"matches\":\"y4\",\"showticklabels\":false,\"showline\":false,\"ticks\":\"\"},\"xaxis6\":{\"anchor\":\"y6\",\"domain\":[0.6799999999999999,0.9999999999999999],\"matches\":\"x\",\"showticklabels\":false},\"yaxis6\":{\"anchor\":\"x6\",\"domain\":[0.8416,1.0],\"matches\":\"y4\",\"showticklabels\":false,\"showline\":false,\"ticks\":\"\"},\"annotations\":[{\"font\":{},\"showarrow\":false,\"text\":\"Performance Rating=3\",\"x\":0.15999999999999998,\"xanchor\":\"center\",\"xref\":\"paper\",\"y\":1.0,\"yanchor\":\"bottom\",\"yref\":\"paper\"},{\"font\":{},\"showarrow\":false,\"text\":\"Performance Rating=2\",\"x\":0.49999999999999994,\"xanchor\":\"center\",\"xref\":\"paper\",\"y\":1.0,\"yanchor\":\"bottom\",\"yref\":\"paper\"},{\"font\":{},\"showarrow\":false,\"text\":\"Performance Rating=4\",\"x\":0.8399999999999999,\"xanchor\":\"center\",\"xref\":\"paper\",\"y\":1.0,\"yanchor\":\"bottom\",\"yref\":\"paper\"}],\"legend\":{\"tracegroupgap\":0},\"title\":{\"text\":\"Analysing Performance Rating of R&D Department\"},\"barmode\":\"relative\"},                        {\"responsive\": true}                    ).then(function(){\n",
       "                            \n",
       "var gd = document.getElementById('1a6b307c-c396-4b45-9a0f-25a1403074a9');\n",
       "var x = new MutationObserver(function (mutations, observer) {{\n",
       "        var display = window.getComputedStyle(gd).display;\n",
       "        if (!display || display === 'none') {{\n",
       "            console.log([gd, 'removed!']);\n",
       "            Plotly.purge(gd);\n",
       "            observer.disconnect();\n",
       "        }}\n",
       "}});\n",
       "\n",
       "// Listen for the removal of the full notebook cells\n",
       "var notebookContainer = gd.closest('#notebook-container');\n",
       "if (notebookContainer) {{\n",
       "    x.observe(notebookContainer, {childList: true});\n",
       "}}\n",
       "\n",
       "// Listen for the clearing of the current output cell\n",
       "var outputEl = gd.closest('.output');\n",
       "if (outputEl) {{\n",
       "    x.observe(outputEl, {childList: true});\n",
       "}}\n",
       "\n",
       "                        })                };                });            </script>        </div>"
      ]
     },
     "metadata": {},
     "output_type": "display_data"
    },
    {
     "data": {
      "text/plain": [
       "<Figure size 720x432 with 0 Axes>"
      ]
     },
     "metadata": {},
     "output_type": "display_data"
    }
   ],
   "source": [
    "#Development-Team distribution\n",
    "\n",
    "plt.figure(figsize=(10,6))\n",
    "fig = px.histogram(data_research, x='EmpJobRole', facet_col='PerformanceRating', facet_col_wrap=0, nbins=80, labels={'EmpJobRole':'Emp Job Role', 'PerformanceRating':'Performance Rating'}, title='Analysing Performance Rating of R&D Department', template='gridon', marginal='box')\n",
    "fig.show()\n",
    "\n",
    "# It is observed that maximum employees of Development department have Performance ratig 3."
   ]
  },
  {
   "cell_type": "code",
   "execution_count": null,
   "id": "6bf9fccf",
   "metadata": {},
   "outputs": [],
   "source": []
  }
 ],
 "metadata": {
  "kernelspec": {
   "display_name": "Python 3 (ipykernel)",
   "language": "python",
   "name": "python3"
  },
  "language_info": {
   "codemirror_mode": {
    "name": "ipython",
    "version": 3
   },
   "file_extension": ".py",
   "mimetype": "text/x-python",
   "name": "python",
   "nbconvert_exporter": "python",
   "pygments_lexer": "ipython3",
   "version": "3.9.7"
  },
  "toc": {
   "base_numbering": 1,
   "nav_menu": {},
   "number_sections": true,
   "sideBar": true,
   "skip_h1_title": false,
   "title_cell": "Table of Contents",
   "title_sidebar": "Contents",
   "toc_cell": false,
   "toc_position": {},
   "toc_section_display": true,
   "toc_window_display": true
  }
 },
 "nbformat": 4,
 "nbformat_minor": 5
}
